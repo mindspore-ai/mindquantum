from mindquantum.core.gates import H, X, RZ
from mindquantum.core.circuit import Circuit
from mindquantum.simulator import Simulator
import random
alpha = [random.uniform(-1, 1) for _ in range(7)]

circ = Circuit()
for i in range(4):
    circ += H.on(i)
    circ += RZ(alpha[i]).on(i)
for i in range(3):
    circ += X.on(i+1,i)
    circ += RZ(alpha[i+4]).on(i+1)
    circ += X.on(i+1,i)
circ.measure_all()

sim = Simulator('mqvector', circ.n_qubits)
res = sim.sampling(circ, shots=10000)

print(res)