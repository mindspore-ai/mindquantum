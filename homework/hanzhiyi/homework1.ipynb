{
 "cells": [
  {
   "cell_type": "code",
   "execution_count": 1,
   "id": "bbc6f82f-bd89-4954-973f-7be0238cd1c8",
   "metadata": {},
   "outputs": [
    {
     "name": "stderr",
     "output_type": "stream",
     "text": [
      "/home/ma-user/anaconda3/envs/Mindquantum-0.9.0/lib/python3.9/site-packages/mindquantum/simulator/__init__.py:17: UserWarning: Disable mqvector gpu backend due to: Malloc GPU memory failed: cudaErrorInsufficientDriver, CUDA driver version is insufficient for CUDA runtime version\n",
      "  from .available_simulator import SUPPORTED_SIMULATOR\n"
     ]
    },
    {
     "name": "stdout",
     "output_type": "stream",
     "text": [
      "(-0.1488793832242376+0.20083557765189572j)¦0000⟩\n",
      "(0.22532190051498985-0.10830531449708757j)¦0001⟩\n",
      "(0.1684920374520209-0.18469010075060016j)¦0010⟩\n",
      "(0.13671060328122459-0.20930888884728155j)¦0011⟩\n",
      "(-0.24117490157873922-0.0658381868559995j)¦0100⟩\n",
      "(0.18269731858678068+0.17065078312507206j)¦0101⟩\n",
      "(-0.16426581234726556-0.18845886260373368j)¦0110⟩\n",
      "(-0.19234904333771072-0.15969297269156055j)¦0111⟩\n",
      "(0.007153564623692529+0.24989763206796237j)¦1000⟩\n",
      "(0.11013602355447409-0.22443274341238256j)¦1001⟩\n",
      "(0.0182435678027581-0.24933345590559283j)¦1010⟩\n",
      "(-0.021956613542037443-0.24903394772955284j)¦1011⟩\n",
      "(-0.07813751879394622-0.23747532115301107j)¦1100⟩\n",
      "(-0.04154299719333165+0.2465241963463118j)¦1101⟩\n",
      "(0.06656419730627741-0.2409755332745858j)¦1110⟩\n",
      "(0.027078917178778555-0.24852913761654766j)¦1111⟩\n"
     ]
    },
    {
     "data": {
      "image/svg+xml": [
       "<svg xmlns=\"http://www.w3.org/2000/svg\" width=\"976.8\" height=\"260.0\" xmlns:xlink=\"http://www.w3.org/1999/xlink\"><rect x=\"0\" y=\"0.0\" width=\"976.8\" height=\"260.0\" fill=\"#ffffff\" /><text x=\"20.0\" y=\"40.0\" font-size=\"16px\" dominant-baseline=\"middle\" text-anchor=\"start\" font-family=\"Arial\" font-weight=\"normal\" fill=\"#252b3a\" >q0: </text><text x=\"20.0\" y=\"100.0\" font-size=\"16px\" dominant-baseline=\"middle\" text-anchor=\"start\" font-family=\"Arial\" font-weight=\"normal\" fill=\"#252b3a\" >q1: </text><text x=\"20.0\" y=\"160.0\" font-size=\"16px\" dominant-baseline=\"middle\" text-anchor=\"start\" font-family=\"Arial\" font-weight=\"normal\" fill=\"#252b3a\" >q2: </text><text x=\"20.0\" y=\"220.0\" font-size=\"16px\" dominant-baseline=\"middle\" text-anchor=\"start\" font-family=\"Arial\" font-weight=\"normal\" fill=\"#252b3a\" >q3: </text><line x1=\"48.8\" x2=\"956.8\" y1=\"40.0\" y2=\"40.0\" stroke=\"#adb0b8\" stroke-width=\"1\" /><line x1=\"48.8\" x2=\"956.8\" y1=\"100.0\" y2=\"100.0\" stroke=\"#adb0b8\" stroke-width=\"1\" /><line x1=\"48.8\" x2=\"956.8\" y1=\"160.0\" y2=\"160.0\" stroke=\"#adb0b8\" stroke-width=\"1\" /><line x1=\"48.8\" x2=\"956.8\" y1=\"220.0\" y2=\"220.0\" stroke=\"#adb0b8\" stroke-width=\"1\" /><rect x=\"72.8\" y=\"20.0\" width=\"40.0\" height=\"40\" rx=\"4\" ry=\"4\" stroke=\"#ffffff\" stroke-width=\"0\" fill=\"#5e7ce0\" fill-opacity=\"1\" /><text x=\"92.8\" y=\"40.0\" font-size=\"20px\" dominant-baseline=\"middle\" text-anchor=\"middle\" font-family=\"Arial\" font-weight=\"normal\" fill=\"#ffffff\" >H </text><rect x=\"72.8\" y=\"80.0\" width=\"40.0\" height=\"40\" rx=\"4\" ry=\"4\" stroke=\"#ffffff\" stroke-width=\"0\" fill=\"#5e7ce0\" fill-opacity=\"1\" /><text x=\"92.8\" y=\"100.0\" font-size=\"20px\" dominant-baseline=\"middle\" text-anchor=\"middle\" font-family=\"Arial\" font-weight=\"normal\" fill=\"#ffffff\" >H </text><rect x=\"72.8\" y=\"140.0\" width=\"40.0\" height=\"40\" rx=\"4\" ry=\"4\" stroke=\"#ffffff\" stroke-width=\"0\" fill=\"#5e7ce0\" fill-opacity=\"1\" /><text x=\"92.8\" y=\"160.0\" font-size=\"20px\" dominant-baseline=\"middle\" text-anchor=\"middle\" font-family=\"Arial\" font-weight=\"normal\" fill=\"#ffffff\" >H </text><rect x=\"72.8\" y=\"200.0\" width=\"40.0\" height=\"40\" rx=\"4\" ry=\"4\" stroke=\"#ffffff\" stroke-width=\"0\" fill=\"#5e7ce0\" fill-opacity=\"1\" /><text x=\"92.8\" y=\"220.0\" font-size=\"20px\" dominant-baseline=\"middle\" text-anchor=\"middle\" font-family=\"Arial\" font-weight=\"normal\" fill=\"#ffffff\" >H </text><rect x=\"132.8\" y=\"20.0\" width=\"80.0\" height=\"40\" rx=\"4\" ry=\"4\" stroke=\"#ffffff\" stroke-width=\"0\" fill=\"#fac209\" fill-opacity=\"1\" /><text x=\"172.8\" y=\"36.0\" font-size=\"20px\" dominant-baseline=\"middle\" text-anchor=\"middle\" font-family=\"Arial\" font-weight=\"normal\" fill=\"#ffffff\" >RZ </text><text x=\"172.8\" y=\"52.0\" font-size=\"14.0px\" dominant-baseline=\"middle\" text-anchor=\"middle\" font-family=\"Arial\" font-weight=\"normal\" fill=\"#ffffff\" >alpha_0 </text><rect x=\"132.8\" y=\"80.0\" width=\"80.0\" height=\"40\" rx=\"4\" ry=\"4\" stroke=\"#ffffff\" stroke-width=\"0\" fill=\"#fac209\" fill-opacity=\"1\" /><text x=\"172.8\" y=\"96.0\" font-size=\"20px\" dominant-baseline=\"middle\" text-anchor=\"middle\" font-family=\"Arial\" font-weight=\"normal\" fill=\"#ffffff\" >RZ </text><text x=\"172.8\" y=\"112.0\" font-size=\"14.0px\" dominant-baseline=\"middle\" text-anchor=\"middle\" font-family=\"Arial\" font-weight=\"normal\" fill=\"#ffffff\" >alpha_1 </text><rect x=\"132.8\" y=\"140.0\" width=\"80.0\" height=\"40\" rx=\"4\" ry=\"4\" stroke=\"#ffffff\" stroke-width=\"0\" fill=\"#fac209\" fill-opacity=\"1\" /><text x=\"172.8\" y=\"156.0\" font-size=\"20px\" dominant-baseline=\"middle\" text-anchor=\"middle\" font-family=\"Arial\" font-weight=\"normal\" fill=\"#ffffff\" >RZ </text><text x=\"172.8\" y=\"172.0\" font-size=\"14.0px\" dominant-baseline=\"middle\" text-anchor=\"middle\" font-family=\"Arial\" font-weight=\"normal\" fill=\"#ffffff\" >alpha_2 </text><rect x=\"132.8\" y=\"200.0\" width=\"80.0\" height=\"40\" rx=\"4\" ry=\"4\" stroke=\"#ffffff\" stroke-width=\"0\" fill=\"#fac209\" fill-opacity=\"1\" /><text x=\"172.8\" y=\"216.0\" font-size=\"20px\" dominant-baseline=\"middle\" text-anchor=\"middle\" font-family=\"Arial\" font-weight=\"normal\" fill=\"#ffffff\" >RZ </text><text x=\"172.8\" y=\"232.0\" font-size=\"14.0px\" dominant-baseline=\"middle\" text-anchor=\"middle\" font-family=\"Arial\" font-weight=\"normal\" fill=\"#ffffff\" >alpha_3 </text><circle cx=\"252.8\" cy=\"40.0\" r=\"4\" fill=\"#16acff\" /><line x1=\"252.8\" x2=\"252.8\" y1=\"40.0\" y2=\"100.0\" stroke=\"#16acff\" stroke-width=\"3\" /><rect x=\"232.8\" y=\"80.0\" width=\"40\" height=\"40\" rx=\"4\" ry=\"4\" stroke=\"#ffffff\" stroke-width=\"0\" fill=\"#16acff\" fill-opacity=\"1\" /><line x1=\"238.8\" x2=\"266.8\" y1=\"100.0\" y2=\"100.0\" stroke=\"#ffffff\" stroke-width=\"4\" /><line x1=\"252.8\" x2=\"252.8\" y1=\"86.0\" y2=\"114.0\" stroke=\"#ffffff\" stroke-width=\"4\" /><rect x=\"292.8\" y=\"80.0\" width=\"80.0\" height=\"40\" rx=\"4\" ry=\"4\" stroke=\"#ffffff\" stroke-width=\"0\" fill=\"#fac209\" fill-opacity=\"1\" /><text x=\"332.8\" y=\"96.0\" font-size=\"20px\" dominant-baseline=\"middle\" text-anchor=\"middle\" font-family=\"Arial\" font-weight=\"normal\" fill=\"#ffffff\" >RZ </text><text x=\"332.8\" y=\"112.0\" font-size=\"14.0px\" dominant-baseline=\"middle\" text-anchor=\"middle\" font-family=\"Arial\" font-weight=\"normal\" fill=\"#ffffff\" >alpha_4 </text><circle cx=\"412.8\" cy=\"40.0\" r=\"4\" fill=\"#16acff\" /><line x1=\"412.8\" x2=\"412.8\" y1=\"40.0\" y2=\"100.0\" stroke=\"#16acff\" stroke-width=\"3\" /><rect x=\"392.8\" y=\"80.0\" width=\"40\" height=\"40\" rx=\"4\" ry=\"4\" stroke=\"#ffffff\" stroke-width=\"0\" fill=\"#16acff\" fill-opacity=\"1\" /><line x1=\"398.8\" x2=\"426.8\" y1=\"100.0\" y2=\"100.0\" stroke=\"#ffffff\" stroke-width=\"4\" /><line x1=\"412.8\" x2=\"412.8\" y1=\"86.0\" y2=\"114.0\" stroke=\"#ffffff\" stroke-width=\"4\" /><circle cx=\"472.8\" cy=\"100.0\" r=\"4\" fill=\"#16acff\" /><line x1=\"472.8\" x2=\"472.8\" y1=\"100.0\" y2=\"160.0\" stroke=\"#16acff\" stroke-width=\"3\" /><rect x=\"452.8\" y=\"140.0\" width=\"40\" height=\"40\" rx=\"4\" ry=\"4\" stroke=\"#ffffff\" stroke-width=\"0\" fill=\"#16acff\" fill-opacity=\"1\" /><line x1=\"458.8\" x2=\"486.8\" y1=\"160.0\" y2=\"160.0\" stroke=\"#ffffff\" stroke-width=\"4\" /><line x1=\"472.8\" x2=\"472.8\" y1=\"146.0\" y2=\"174.0\" stroke=\"#ffffff\" stroke-width=\"4\" /><rect x=\"512.8\" y=\"140.0\" width=\"80.0\" height=\"40\" rx=\"4\" ry=\"4\" stroke=\"#ffffff\" stroke-width=\"0\" fill=\"#fac209\" fill-opacity=\"1\" /><text x=\"552.8\" y=\"156.0\" font-size=\"20px\" dominant-baseline=\"middle\" text-anchor=\"middle\" font-family=\"Arial\" font-weight=\"normal\" fill=\"#ffffff\" >RZ </text><text x=\"552.8\" y=\"172.0\" font-size=\"14.0px\" dominant-baseline=\"middle\" text-anchor=\"middle\" font-family=\"Arial\" font-weight=\"normal\" fill=\"#ffffff\" >alpha_5 </text><circle cx=\"632.8\" cy=\"100.0\" r=\"4\" fill=\"#16acff\" /><line x1=\"632.8\" x2=\"632.8\" y1=\"100.0\" y2=\"160.0\" stroke=\"#16acff\" stroke-width=\"3\" /><rect x=\"612.8\" y=\"140.0\" width=\"40\" height=\"40\" rx=\"4\" ry=\"4\" stroke=\"#ffffff\" stroke-width=\"0\" fill=\"#16acff\" fill-opacity=\"1\" /><line x1=\"618.8\" x2=\"646.8\" y1=\"160.0\" y2=\"160.0\" stroke=\"#ffffff\" stroke-width=\"4\" /><line x1=\"632.8\" x2=\"632.8\" y1=\"146.0\" y2=\"174.0\" stroke=\"#ffffff\" stroke-width=\"4\" /><circle cx=\"692.8\" cy=\"160.0\" r=\"4\" fill=\"#16acff\" /><line x1=\"692.8\" x2=\"692.8\" y1=\"160.0\" y2=\"220.0\" stroke=\"#16acff\" stroke-width=\"3\" /><rect x=\"672.8\" y=\"200.0\" width=\"40\" height=\"40\" rx=\"4\" ry=\"4\" stroke=\"#ffffff\" stroke-width=\"0\" fill=\"#16acff\" fill-opacity=\"1\" /><line x1=\"678.8\" x2=\"706.8\" y1=\"220.0\" y2=\"220.0\" stroke=\"#ffffff\" stroke-width=\"4\" /><line x1=\"692.8\" x2=\"692.8\" y1=\"206.0\" y2=\"234.0\" stroke=\"#ffffff\" stroke-width=\"4\" /><rect x=\"732.8\" y=\"200.0\" width=\"80.0\" height=\"40\" rx=\"4\" ry=\"4\" stroke=\"#ffffff\" stroke-width=\"0\" fill=\"#fac209\" fill-opacity=\"1\" /><text x=\"772.8\" y=\"216.0\" font-size=\"20px\" dominant-baseline=\"middle\" text-anchor=\"middle\" font-family=\"Arial\" font-weight=\"normal\" fill=\"#ffffff\" >RZ </text><text x=\"772.8\" y=\"232.0\" font-size=\"14.0px\" dominant-baseline=\"middle\" text-anchor=\"middle\" font-family=\"Arial\" font-weight=\"normal\" fill=\"#ffffff\" >alpha_6 </text><circle cx=\"852.8\" cy=\"160.0\" r=\"4\" fill=\"#16acff\" /><line x1=\"852.8\" x2=\"852.8\" y1=\"160.0\" y2=\"220.0\" stroke=\"#16acff\" stroke-width=\"3\" /><rect x=\"832.8\" y=\"200.0\" width=\"40\" height=\"40\" rx=\"4\" ry=\"4\" stroke=\"#ffffff\" stroke-width=\"0\" fill=\"#16acff\" fill-opacity=\"1\" /><line x1=\"838.8\" x2=\"866.8\" y1=\"220.0\" y2=\"220.0\" stroke=\"#ffffff\" stroke-width=\"4\" /><line x1=\"852.8\" x2=\"852.8\" y1=\"206.0\" y2=\"234.0\" stroke=\"#ffffff\" stroke-width=\"4\" /><rect x=\"892.8\" y=\"20.0\" width=\"0\" height=\"220\" fill=\"gray\" fill-opacity=\"0.8\" /><rect x=\"892.8\" y=\"20.0\" width=\"40\" height=\"40\" rx=\"4\" ry=\"4\" stroke=\"#ffffff\" stroke-width=\"0\" fill=\"#ff7272\" fill-opacity=\"1\" /><circle cx=\"912.8\" cy=\"50.4\" r=\"1.6\" fill=\"#ffffff\" /><path d=\"M 900.0 50.4 A 12.8 12.8 0 0 1 925.5999999999999 50.4\" stroke=\"#ffffff\" stroke-width=\"2.4000000000000004\" fill-opacity=\"0\" /><path d=\"M 916.9018483174859 33.93539030917347 L 925.2156921938165 29.135390309173474 L 925.2156921938165 38.735390309173475 L 921.8901546432843 36.81539030917347 L 914.0470765814496 50.4 L 912.3843078061834 49.44 L 920.2273858680181 35.85539030917347 Z\" fill=\"#ffffff\" /><rect x=\"892.8\" y=\"80.0\" width=\"40\" height=\"40\" rx=\"4\" ry=\"4\" stroke=\"#ffffff\" stroke-width=\"0\" fill=\"#ff7272\" fill-opacity=\"1\" /><circle cx=\"912.8\" cy=\"110.4\" r=\"1.6\" fill=\"#ffffff\" /><path d=\"M 900.0 110.4 A 12.8 12.8 0 0 1 925.5999999999999 110.4\" stroke=\"#ffffff\" stroke-width=\"2.4000000000000004\" fill-opacity=\"0\" /><path d=\"M 916.9018483174859 93.93539030917347 L 925.2156921938165 89.13539030917347 L 925.2156921938165 98.73539030917348 L 921.8901546432843 96.81539030917347 L 914.0470765814496 110.4 L 912.3843078061834 109.44 L 920.2273858680181 95.85539030917347 Z\" fill=\"#ffffff\" /><rect x=\"892.8\" y=\"140.0\" width=\"40\" height=\"40\" rx=\"4\" ry=\"4\" stroke=\"#ffffff\" stroke-width=\"0\" fill=\"#ff7272\" fill-opacity=\"1\" /><circle cx=\"912.8\" cy=\"170.4\" r=\"1.6\" fill=\"#ffffff\" /><path d=\"M 900.0 170.4 A 12.8 12.8 0 0 1 925.5999999999999 170.4\" stroke=\"#ffffff\" stroke-width=\"2.4000000000000004\" fill-opacity=\"0\" /><path d=\"M 916.9018483174859 153.93539030917347 L 925.2156921938165 149.1353903091735 L 925.2156921938165 158.73539030917348 L 921.8901546432843 156.81539030917347 L 914.0470765814496 170.4 L 912.3843078061834 169.44 L 920.2273858680181 155.85539030917346 Z\" fill=\"#ffffff\" /><rect x=\"892.8\" y=\"200.0\" width=\"40\" height=\"40\" rx=\"4\" ry=\"4\" stroke=\"#ffffff\" stroke-width=\"0\" fill=\"#ff7272\" fill-opacity=\"1\" /><circle cx=\"912.8\" cy=\"230.4\" r=\"1.6\" fill=\"#ffffff\" /><path d=\"M 900.0 230.4 A 12.8 12.8 0 0 1 925.5999999999999 230.4\" stroke=\"#ffffff\" stroke-width=\"2.4000000000000004\" fill-opacity=\"0\" /><path d=\"M 916.9018483174859 213.93539030917347 L 925.2156921938165 209.1353903091735 L 925.2156921938165 218.73539030917348 L 921.8901546432843 216.81539030917347 L 914.0470765814496 230.4 L 912.3843078061834 229.44 L 920.2273858680181 215.85539030917346 Z\" fill=\"#ffffff\" /></svg>"
      ]
     },
     "metadata": {},
     "output_type": "display_data"
    },
    {
     "name": "stdout",
     "output_type": "stream",
     "text": [
      "shots: 10000\n",
      "Keys: q3 q2 q1 q0│0.00   0.017       0.033        0.05       0.067       0.083\n",
      "─────────────────┼───────────┴───────────┴───────────┴───────────┴───────────┴\n",
      "             0000│▒▒▒▒▒▒▒▒▒▒▒▒▒▒▒▒▒▒▒▒▒▒▒▒▒▒▒▒▒▒▒▒▒▒▒▒▒▒▒▒▒▒▒▒▒▒\n",
      "                 │\n",
      "             0001│▒▒▒▒▒▒▒▒▒▒▒▒▒▒▒▒▒▒▒▒▒▒▒▒▒▒▒▒▒▒▒▒▒▒▒▒▒▒▒▒▒▒▒▒▒\n",
      "                 │\n",
      "             0010│▒▒▒▒▒▒▒▒▒▒▒▒▒▒▒▒▒▒▒▒▒▒▒▒▒▒▒▒▒▒▒▒▒▒▒▒▒▒▒▒▒▒▒▒▒▒▒\n",
      "                 │\n",
      "             0011│▒▒▒▒▒▒▒▒▒▒▒▒▒▒▒▒▒▒▒▒▒▒▒▒▒▒▒▒▒▒▒▒▒▒▒▒▒▒▒▒▒▒▒\n",
      "                 │\n",
      "             0100│▒▒▒▒▒▒▒▒▒▒▒▒▒▒▒▒▒▒▒▒▒▒▒▒▒▒▒▒▒▒▒▒▒▒▒▒▒▒▒▒▒▒▒\n",
      "                 │\n",
      "             0101│▒▒▒▒▒▒▒▒▒▒▒▒▒▒▒▒▒▒▒▒▒▒▒▒▒▒▒▒▒▒▒▒▒▒▒▒▒▒▒▒▒▒▒▒▒\n",
      "                 │\n",
      "             0110│▒▒▒▒▒▒▒▒▒▒▒▒▒▒▒▒▒▒▒▒▒▒▒▒▒▒▒▒▒▒▒▒▒▒▒▒▒▒▒▒▒▒▒▒▒▒\n",
      "                 │\n",
      "             0111│▓▓▓▓▓▓▓▓▓▓▓▓▓▓▓▓▓▓▓▓▓▓▓▓▓▓▓▓▓▓▓▓▓▓▓▓▓▓▓▓▓▓▓▓▓▓▓▓\n",
      "                 │\n",
      "             1000│▒▒▒▒▒▒▒▒▒▒▒▒▒▒▒▒▒▒▒▒▒▒▒▒▒▒▒▒▒▒▒▒▒▒▒▒▒▒▒▒▒▒▒\n",
      "                 │\n",
      "             1001│▒▒▒▒▒▒▒▒▒▒▒▒▒▒▒▒▒▒▒▒▒▒▒▒▒▒▒▒▒▒▒▒▒▒▒▒▒▒▒▒▒▒▒▒▒▒▒\n",
      "                 │\n",
      "             1010│▒▒▒▒▒▒▒▒▒▒▒▒▒▒▒▒▒▒▒▒▒▒▒▒▒▒▒▒▒▒▒▒▒▒▒▒▒▒▒▒▒▒▒▒▒▒▒\n",
      "                 │\n",
      "             1011│▒▒▒▒▒▒▒▒▒▒▒▒▒▒▒▒▒▒▒▒▒▒▒▒▒▒▒▒▒▒▒▒▒▒▒▒▒▒▒▒▒▒▒▒▒▒▒▒\n",
      "                 │\n",
      "             1100│▒▒▒▒▒▒▒▒▒▒▒▒▒▒▒▒▒▒▒▒▒▒▒▒▒▒▒▒▒▒▒▒▒▒▒▒▒▒▒▒▒▒▒▒▒\n",
      "                 │\n",
      "             1101│▒▒▒▒▒▒▒▒▒▒▒▒▒▒▒▒▒▒▒▒▒▒▒▒▒▒▒▒▒▒▒▒▒▒▒▒▒▒▒▒▒▒▒▒▒\n",
      "                 │\n",
      "             1110│▒▒▒▒▒▒▒▒▒▒▒▒▒▒▒▒▒▒▒▒▒▒▒▒▒▒▒▒▒▒▒▒▒▒▒▒▒▒▒▒▒▒▒▒\n",
      "                 │\n",
      "             1111│▒▒▒▒▒▒▒▒▒▒▒▒▒▒▒▒▒▒▒▒▒▒▒▒▒▒▒▒▒▒▒▒▒▒▒▒▒▒▒▒▒▒▒▒\n",
      "                 │\n",
      "{'0000': 636, '0001': 624, '0010': 642, '0011': 597, '0100': 585, '0101': 618, '0110': 634, '0111': 667, '1000': 596, '1001': 648, '1010': 640, '1011': 656, '1100': 624, '1101': 620, '1110': 605, '1111': 608}\n"
     ]
    }
   ],
   "source": [
    "from mindquantum.core.circuit import shift, add_suffix, Circuit, UN\n",
    "from mindquantum.core.gates import RZ, X, H, Measure, BarrierGate, BARRIER\n",
    "from IPython.display import display_svg\n",
    "from mindquantum.simulator import Simulator \n",
    "import numpy as np   \n",
    "\n",
    "# TODO: 请根据图中所示构建量子线路\n",
    "circ = Circuit()  #初始化量子线路\n",
    "template = Circuit([X.on(1, 0), RZ('alpha').on(1), X.on(1, 0)])   #将X,RZ,X三个量子门组合成一个template\n",
    "circ = (UN(H, 4) + (RZ(f'alpha_{i}').on(i) for i in range(4)) + sum(add_suffix(shift(template, i), f'{i+4}') for i in range(3))+ BarrierGate(False))  \n",
    "#UN(H, 4) 是生成均匀叠加态，即对所有量子比特作用H门，(RZ(f'alpha_{i}').on(i) for i in range(4))是4个含参数的RZ门，sum(add_suffix(shift(template, i), f'{i+4}') for\n",
    "#i in range(3))是添加三个template,BarrierGate(False)是添加barrier将线路对齐,False是指不打印出BarrierGate\n",
    "#沿Z轴转动的角度alpha都是随机的：  \n",
    "alpha = [np.random.rand() * 2 * np.pi for _ in range(7)] \n",
    "    \n",
    "# TODO: 使用模拟器运行线路，打印运行后的量子态\n",
    "sim = Simulator(\"mqvector\", circ.n_qubits) # 创建模拟器，backend使用‘projectq’，能模拟4个比特（'circ'线路中包含的比特数）\n",
    "sim.apply_circuit(circ, {'alpha_0': alpha[0], 'alpha_1': alpha[1], 'alpha_2': alpha[2],'alpha_3': alpha[3],'alpha_4': alpha[4],'alpha_5': alpha[5],'alpha_6': alpha[6]})  \n",
    "#作用一个量子线路circ，当线路是一个参数化量子线路时，我们还需要提供参数值。\n",
    "print(sim.get_qs(True)) #打印运行后的量子态,每个本征态的系数的模平方是1/16\n",
    "\n",
    "circ.measure_all() #对量子线路中所有量子比特添加测量\n",
    "display_svg(circ.svg()) #绘制SVG格式的量子线路图片\n",
    "\n",
    "# TODO: 使用模拟器采样线路结果10000次\n",
    "sim = Simulator('mqvector', circ.n_qubits)\n",
    "res = sim.sampling(circ, {'alpha_0': 1.1, 'alpha_1': 2.6, 'alpha_2': 1.2,'alpha_3': 0.2,'alpha_4': 2,'alpha_5': 0.6,'alpha_6': 2.4}, shots=10000) #对量子线路进行10000次采样\n",
    "print(res) #打印结果"
   ]
  },
  {
   "cell_type": "code",
   "execution_count": null,
   "id": "23514c7b-04fb-4064-af60-065cf34715b3",
   "metadata": {},
   "outputs": [],
   "source": []
  }
 ],
 "metadata": {
  "kernelspec": {
   "display_name": "Mindquantum-0.9.0",
   "language": "python",
   "name": "mindquantum-0.9.0"
  },
  "language_info": {
   "codemirror_mode": {
    "name": "ipython",
    "version": 3
   },
   "file_extension": ".py",
   "mimetype": "text/x-python",
   "name": "python",
   "nbconvert_exporter": "python",
   "pygments_lexer": "ipython3",
   "version": "3.9.11"
  }
 },
 "nbformat": 4,
 "nbformat_minor": 5
}
