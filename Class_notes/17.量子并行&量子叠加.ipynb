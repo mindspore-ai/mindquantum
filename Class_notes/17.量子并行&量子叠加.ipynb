{
 "cells": [
  {
   "cell_type": "markdown",
   "metadata": {},
   "source": [
    "![banner](https://mindspore.cn/static/img/logo_black.74c3909e.png)\n",
    "\n",
    "# Lecture 19\n",
    "\n",
    "到目前为止，我们的讨论相当笼统。适用于大多数量子算法的框架。现在，是时候研究一些“真实”量子算法的细节了，但这些算法可能并不“实用”，因为我们只是试图证明量子计算的想法。我们首先需要理清的是，量子计算机是如何进行经典计算的。在这里，重要的一点是 Toffoli 门对于经典计算机是“通用的”。想象一下，我们有一个经典电路，带有 AND、OR、NOT 等逻辑门，其想法是用 Toffoli 门（连同一些辅助位）替换每个逻辑门。\n",
    "\n",
    "有两个问题需要弄清楚。\n",
    "\n",
    "- 首先，经典计算是不可逆的（信息丢失），但量子计算是可逆的（信息守恒）。\n",
    "\n",
    "- 其次，一些经典计算涉及随机性。\n",
    "\n",
    "这两个问题都可以通过量子计算来克服，方法是保留信息并使用量子测量，例如在$|+\\rangle$态上测量。\n",
    "\n",
    "## Toffoli 门\n",
    "\n",
    "让我们看一下toffoli门的逻辑表。\n",
    "\n",
    "![Toffoli gate logic table](images/Toffoli_logic_table.png)\n",
    "\n",
    "【事实】与非门（NAND 门）（与门 后接 非门）对于经典计算是通用的。这足以证明如果Toffoli 门可以模拟与非门，那么Toffoli 门对于经典计算也是通用的。\n",
    "\n",
    "![NAND gate](images/NAND_gate.png)\n",
    "\n",
    "为了检查，让我们看一下 NAND 逻辑表：\n",
    "\n",
    "![NAND logic table](images/NAND_logic_table.png)\n",
    "\n",
    "由于 Toffoli 门可以使用基本量子门构建，因此经典计算可以被量子计算机实现。需要注意的是，量子计算机执行经典计算将会产生额外的开销。\n",
    "\n",
    "一个很好的类比：量子计算机确实可以模拟经典计算，但量子计算机不太可能取代经典计算机。为什么？就像飞机都可以像汽车一样操作，但我们不会用飞机代替汽车。\n",
    "\n",
    "## 量子并行\n",
    "\n",
    "当我还是一名研究生时，我是团队中唯一从事量子计算的人。在一次组会上，我试图解释量子计算，然后我写了这个（$x \\in \\{ 0,1 \\}^n$）：\n",
    "$$\n",
    "\\boxed{\n",
    "|x\\rangle |0\\rangle \\rightarrow |x\\rangle |f(x)\\rangle\n",
    "}\n",
    "$$\n",
    "\n",
    "组里的其他人对此很满意，但是当我以叠加的形式写出来时：\n",
    "$$\n",
    "\\boxed{\n",
    "\\sum_x |x\\rangle |0\\rangle \\rightarrow \\sum_x |x\\rangle |f(x)\\rangle\n",
    "}\n",
    "$$\n",
    "他们不相信这是真的。\n",
    "\n",
    "或许我应该评论一下：量子计算机可以做这样的事情吗？$|x\\rangle \\rightarrow |f(x)\\rangle$ 但这通常是不可逆的。\n",
    "\n",
    "实际上，我们需要的是一些辅助量子比特。因此，我们实际上需要执行以下操作：\n",
    "$$\n",
    "|x\\rangle|0\\rangle|0\\rangle_{a n c} \\rightarrow|x\\rangle|f(x)\\rangle|g(x)\\rangle_{a n c} \\rightarrow|x\\rangle|f(x)\\rangle\n",
    "$$\n",
    "这仍然是一个简化版本。可能最好的方法是通过一些明确的例子来说明。例如，如果要执行的逻辑操作恰好是与非门。\n",
    "\n",
    "- 单一状态：\n",
    "$$\n",
    "|ab\\rangle |1\\rangle \\rightarrow |ab\\rangle |1+ab\\rangle\n",
    "$$\n",
    "\n",
    "- 叠加：\n",
    "$$\n",
    "(|00\\rangle+|01\\rangle+|10\\rangle+|11\\rangle)|1\\rangle \\rightarrow|00\\rangle|1\\rangle+|01\\rangle|1\\rangle+|10\\rangle|1\\rangle+|11\\rangle|0\\rangle\n",
    "$$"
   ]
  },
  {
   "cell_type": "code",
   "execution_count": 1,
   "metadata": {},
   "outputs": [
    {
     "data": {
      "image/svg+xml": "<div class=\"nb-html-output output_area\"><svg xmlns=\"http://www.w3.org/2000/svg\" width=\"216.8\" height=\"200\" xmlns:xlink=\"http://www.w3.org/1999/xlink\">\n<rect x=\"0\" y=\"0\" width=\"216.8\" height=\"200\" fill=\"#ffffff\" />\n<text x=\"20.0\" y=\"40.0\" font-size=\"16px\" dominant-baseline=\"middle\" text-anchor=\"start\" font-family=\"Arial\" font-weight=\"normal\" fill=\"#252b3a\" >\nq0:\n </text>\n<text x=\"20.0\" y=\"100.0\" font-size=\"16px\" dominant-baseline=\"middle\" text-anchor=\"start\" font-family=\"Arial\" font-weight=\"normal\" fill=\"#252b3a\" >\nq1:\n </text>\n<text x=\"20.0\" y=\"160.0\" font-size=\"16px\" dominant-baseline=\"middle\" text-anchor=\"start\" font-family=\"Arial\" font-weight=\"normal\" fill=\"#252b3a\" >\nq2:\n </text>\n<line x1=\"48.8\" x2=\"196.8\" y1=\"40.0\" y2=\"40.0\" stroke=\"#adb0b8\" stroke-width=\"1\" />\n<line x1=\"48.8\" x2=\"196.8\" y1=\"100.0\" y2=\"100.0\" stroke=\"#adb0b8\" stroke-width=\"1\" />\n<line x1=\"48.8\" x2=\"196.8\" y1=\"160.0\" y2=\"160.0\" stroke=\"#adb0b8\" stroke-width=\"1\" />\n\n<rect x=\"72.8\" y=\"20.0\" width=\"40.0\" height=\"40\" rx=\"4\" ry=\"4\" stroke=\"#ffffff\" stroke-width=\"0\" fill=\"#5e7ce0\" fill-opacity=\"1\" />\n<text x=\"92.8\" y=\"40.0\" font-size=\"20px\" dominant-baseline=\"middle\" text-anchor=\"middle\" font-family=\"Arial\" font-weight=\"normal\" fill=\"#ffffff\" >\nH\n </text>\n\n\n<rect x=\"72.8\" y=\"80.0\" width=\"40.0\" height=\"40\" rx=\"4\" ry=\"4\" stroke=\"#ffffff\" stroke-width=\"0\" fill=\"#5e7ce0\" fill-opacity=\"1\" />\n<text x=\"92.8\" y=\"100.0\" font-size=\"20px\" dominant-baseline=\"middle\" text-anchor=\"middle\" font-family=\"Arial\" font-weight=\"normal\" fill=\"#ffffff\" >\nH\n </text>\n\n\n<rect x=\"72.8\" y=\"140.0\" width=\"40.0\" height=\"40\" rx=\"4\" ry=\"4\" stroke=\"#ffffff\" stroke-width=\"0\" fill=\"#5e7ce0\" fill-opacity=\"1\" />\n<text x=\"92.8\" y=\"160.0\" font-size=\"20px\" dominant-baseline=\"middle\" text-anchor=\"middle\" font-family=\"Arial\" font-weight=\"normal\" fill=\"#ffffff\" >\nX\n </text>\n\n<circle cx=\"152.8\" cy=\"100.0\" r=\"4\" fill=\"#5e7ce0\" />\n<circle cx=\"152.8\" cy=\"40.0\" r=\"4\" fill=\"#5e7ce0\" />\n<line x1=\"152.8\" x2=\"152.8\" y1=\"40.0\" y2=\"160.0\" stroke=\"#5e7ce0\" stroke-width=\"3\" />\n<rect x=\"132.8\" y=\"140.0\" width=\"40.0\" height=\"40\" rx=\"4\" ry=\"4\" stroke=\"#ffffff\" stroke-width=\"0\" fill=\"#5e7ce0\" fill-opacity=\"1\" />\n<text x=\"152.8\" y=\"160.0\" font-size=\"20px\" dominant-baseline=\"middle\" text-anchor=\"middle\" font-family=\"Arial\" font-weight=\"normal\" fill=\"#ffffff\" >\nX\n </text>\n\n</svg></div>",
      "text/plain": [
       "<mindquantum.io.display.circuit_svg_drawer.SVGCircuit at 0x7fdd113136d0>"
      ]
     },
     "execution_count": 1,
     "metadata": {},
     "output_type": "execute_result"
    }
   ],
   "source": [
    "from mindquantum.core.circuit import Circuit\n",
    "from mindquantum.core.gates import X, H\n",
    "\n",
    "circ = Circuit()\n",
    "circ += H.on(0)\n",
    "circ += H.on(1)\n",
    "circ += X.on(2)\n",
    "circ += X.on(2, [1, 0])\n",
    "circ.svg()"
   ]
  },
  {
   "cell_type": "markdown",
   "metadata": {},
   "source": [
    "$q_0$、$q_1$是输入比特，$q_2$是输出比特。现在按照$|q_0 q_1 q_2\\rangle$的顺序打印量子态，即得到叠加情况下的$|ab\\rangle |1+ab\\rangle$："
   ]
  },
  {
   "cell_type": "code",
   "execution_count": 2,
   "metadata": {},
   "outputs": [
    {
     "name": "stdout",
     "output_type": "stream",
     "text": [
      "1/2¦001⟩\n",
      "1/2¦011⟩\n",
      "1/2¦101⟩\n",
      "1/2¦110⟩\n"
     ]
    }
   ],
   "source": [
    "print(circ.reverse_qubits().get_qs(ket=True))"
   ]
  },
  {
   "cell_type": "markdown",
   "metadata": {},
   "source": [
    "现在，想象一下，如果我们需要进一步处理输出的量子比特，\n",
    "$$\n",
    "|a b\\rangle|1\\rangle \\rightarrow|a b\\rangle|1+a b\\rangle|1\\rangle \\rightarrow|a b\\rangle \\enspace |1+a b\\rangle \\enspace |1+a(1+a b)\\rangle\n",
    "$$"
   ]
  },
  {
   "cell_type": "code",
   "execution_count": 3,
   "metadata": {},
   "outputs": [
    {
     "data": {
      "image/svg+xml": "<div class=\"nb-html-output output_area\"><svg xmlns=\"http://www.w3.org/2000/svg\" width=\"276.8\" height=\"260\" xmlns:xlink=\"http://www.w3.org/1999/xlink\">\n<rect x=\"0\" y=\"0\" width=\"276.8\" height=\"260\" fill=\"#ffffff\" />\n<text x=\"20.0\" y=\"40.0\" font-size=\"16px\" dominant-baseline=\"middle\" text-anchor=\"start\" font-family=\"Arial\" font-weight=\"normal\" fill=\"#252b3a\" >\nq0:\n </text>\n<text x=\"20.0\" y=\"100.0\" font-size=\"16px\" dominant-baseline=\"middle\" text-anchor=\"start\" font-family=\"Arial\" font-weight=\"normal\" fill=\"#252b3a\" >\nq1:\n </text>\n<text x=\"20.0\" y=\"160.0\" font-size=\"16px\" dominant-baseline=\"middle\" text-anchor=\"start\" font-family=\"Arial\" font-weight=\"normal\" fill=\"#252b3a\" >\nq2:\n </text>\n<text x=\"20.0\" y=\"220.0\" font-size=\"16px\" dominant-baseline=\"middle\" text-anchor=\"start\" font-family=\"Arial\" font-weight=\"normal\" fill=\"#252b3a\" >\nq3:\n </text>\n<line x1=\"48.8\" x2=\"256.8\" y1=\"40.0\" y2=\"40.0\" stroke=\"#adb0b8\" stroke-width=\"1\" />\n<line x1=\"48.8\" x2=\"256.8\" y1=\"100.0\" y2=\"100.0\" stroke=\"#adb0b8\" stroke-width=\"1\" />\n<line x1=\"48.8\" x2=\"256.8\" y1=\"160.0\" y2=\"160.0\" stroke=\"#adb0b8\" stroke-width=\"1\" />\n<line x1=\"48.8\" x2=\"256.8\" y1=\"220.0\" y2=\"220.0\" stroke=\"#adb0b8\" stroke-width=\"1\" />\n\n<rect x=\"72.8\" y=\"20.0\" width=\"40.0\" height=\"40\" rx=\"4\" ry=\"4\" stroke=\"#ffffff\" stroke-width=\"0\" fill=\"#5e7ce0\" fill-opacity=\"1\" />\n<text x=\"92.8\" y=\"40.0\" font-size=\"20px\" dominant-baseline=\"middle\" text-anchor=\"middle\" font-family=\"Arial\" font-weight=\"normal\" fill=\"#ffffff\" >\nH\n </text>\n\n\n<rect x=\"72.8\" y=\"80.0\" width=\"40.0\" height=\"40\" rx=\"4\" ry=\"4\" stroke=\"#ffffff\" stroke-width=\"0\" fill=\"#5e7ce0\" fill-opacity=\"1\" />\n<text x=\"92.8\" y=\"100.0\" font-size=\"20px\" dominant-baseline=\"middle\" text-anchor=\"middle\" font-family=\"Arial\" font-weight=\"normal\" fill=\"#ffffff\" >\nH\n </text>\n\n\n<rect x=\"72.8\" y=\"140.0\" width=\"40.0\" height=\"40\" rx=\"4\" ry=\"4\" stroke=\"#ffffff\" stroke-width=\"0\" fill=\"#5e7ce0\" fill-opacity=\"1\" />\n<text x=\"92.8\" y=\"160.0\" font-size=\"20px\" dominant-baseline=\"middle\" text-anchor=\"middle\" font-family=\"Arial\" font-weight=\"normal\" fill=\"#ffffff\" >\nX\n </text>\n\n<circle cx=\"152.8\" cy=\"100.0\" r=\"4\" fill=\"#5e7ce0\" />\n<circle cx=\"152.8\" cy=\"40.0\" r=\"4\" fill=\"#5e7ce0\" />\n<line x1=\"152.8\" x2=\"152.8\" y1=\"40.0\" y2=\"160.0\" stroke=\"#5e7ce0\" stroke-width=\"3\" />\n<rect x=\"132.8\" y=\"140.0\" width=\"40.0\" height=\"40\" rx=\"4\" ry=\"4\" stroke=\"#ffffff\" stroke-width=\"0\" fill=\"#5e7ce0\" fill-opacity=\"1\" />\n<text x=\"152.8\" y=\"160.0\" font-size=\"20px\" dominant-baseline=\"middle\" text-anchor=\"middle\" font-family=\"Arial\" font-weight=\"normal\" fill=\"#ffffff\" >\nX\n </text>\n\n\n<rect x=\"72.8\" y=\"200.0\" width=\"40.0\" height=\"40\" rx=\"4\" ry=\"4\" stroke=\"#ffffff\" stroke-width=\"0\" fill=\"#5e7ce0\" fill-opacity=\"1\" />\n<text x=\"92.8\" y=\"220.0\" font-size=\"20px\" dominant-baseline=\"middle\" text-anchor=\"middle\" font-family=\"Arial\" font-weight=\"normal\" fill=\"#ffffff\" >\nX\n </text>\n\n<circle cx=\"212.8\" cy=\"40.0\" r=\"4\" fill=\"#5e7ce0\" />\n<circle cx=\"212.8\" cy=\"160.0\" r=\"4\" fill=\"#5e7ce0\" />\n<line x1=\"212.8\" x2=\"212.8\" y1=\"40.0\" y2=\"220.0\" stroke=\"#5e7ce0\" stroke-width=\"3\" />\n<rect x=\"192.8\" y=\"200.0\" width=\"40.0\" height=\"40\" rx=\"4\" ry=\"4\" stroke=\"#ffffff\" stroke-width=\"0\" fill=\"#5e7ce0\" fill-opacity=\"1\" />\n<text x=\"212.8\" y=\"220.0\" font-size=\"20px\" dominant-baseline=\"middle\" text-anchor=\"middle\" font-family=\"Arial\" font-weight=\"normal\" fill=\"#ffffff\" >\nX\n </text>\n\n</svg></div>",
      "text/plain": [
       "<mindquantum.io.display.circuit_svg_drawer.SVGCircuit at 0x7fdcc0af5850>"
      ]
     },
     "execution_count": 3,
     "metadata": {},
     "output_type": "execute_result"
    }
   ],
   "source": [
    "circ += X.on(3)\n",
    "circ += X.on(3, [0, 2])\n",
    "circ.svg()"
   ]
  },
  {
   "cell_type": "markdown",
   "metadata": {},
   "source": [
    "现在$q_0$、$q_1$是输入比特，$q_2$是辅助比特，$q_3$是输出比特。但这样中间部分会出现叠加问题：\n",
    "$$\n",
    "\\begin{array}{c}\n",
    "(|00\\rangle|1\\rangle+|01\\rangle|1\\rangle+|10\\rangle|1\\rangle+|11\\rangle|0\\rangle)|1\\rangle \\\\ \\\\\n",
    "\\rightarrow|00\\rangle|1\\rangle|1\\rangle+|01\\rangle|1\\rangle|1\\rangle+|10\\rangle|1\\rangle|0\\rangle+|11\\rangle|0\\rangle|1\\rangle \\\\ \\\\\n",
    "|00\\rangle|g(00)\\rangle_{a n c}|f(00)\\rangle+|01\\rangle|g(01)\\rangle_{a n c}|f(01)\\rangle+|10\\rangle|g(10)\\rangle_{a n c}|f(10)\\rangle+|11\\rangle|g(11)\\rangle_{a n c}|f(11)\\rangle\n",
    "\\end{array}\n",
    "$$\n",
    "这里的函数$f$就是我们想要应用的逻辑操作，即应用两个与非门，但是辅助量子比特$q_2$会与输入量子比特$q_0$、$q_1$纠缠在一起，如下所示。"
   ]
  },
  {
   "cell_type": "code",
   "execution_count": 4,
   "metadata": {},
   "outputs": [
    {
     "name": "stdout",
     "output_type": "stream",
     "text": [
      "1/2¦0011⟩\n",
      "1/2¦0111⟩\n",
      "1/2¦1010⟩\n",
      "1/2¦1101⟩\n"
     ]
    }
   ],
   "source": [
    "print(circ.reverse_qubits().get_qs(ket=True))"
   ]
  },
  {
   "cell_type": "markdown",
   "metadata": {},
   "source": [
    "要摆脱它，我们可以再次应用 Toffoli 门。"
   ]
  },
  {
   "cell_type": "code",
   "execution_count": 5,
   "metadata": {},
   "outputs": [
    {
     "data": {
      "image/svg+xml": "<div class=\"nb-html-output output_area\"><svg xmlns=\"http://www.w3.org/2000/svg\" width=\"336.8\" height=\"260\" xmlns:xlink=\"http://www.w3.org/1999/xlink\">\n<rect x=\"0\" y=\"0\" width=\"336.8\" height=\"260\" fill=\"#ffffff\" />\n<text x=\"20.0\" y=\"40.0\" font-size=\"16px\" dominant-baseline=\"middle\" text-anchor=\"start\" font-family=\"Arial\" font-weight=\"normal\" fill=\"#252b3a\" >\nq0:\n </text>\n<text x=\"20.0\" y=\"100.0\" font-size=\"16px\" dominant-baseline=\"middle\" text-anchor=\"start\" font-family=\"Arial\" font-weight=\"normal\" fill=\"#252b3a\" >\nq1:\n </text>\n<text x=\"20.0\" y=\"160.0\" font-size=\"16px\" dominant-baseline=\"middle\" text-anchor=\"start\" font-family=\"Arial\" font-weight=\"normal\" fill=\"#252b3a\" >\nq2:\n </text>\n<text x=\"20.0\" y=\"220.0\" font-size=\"16px\" dominant-baseline=\"middle\" text-anchor=\"start\" font-family=\"Arial\" font-weight=\"normal\" fill=\"#252b3a\" >\nq3:\n </text>\n<line x1=\"48.8\" x2=\"316.8\" y1=\"40.0\" y2=\"40.0\" stroke=\"#adb0b8\" stroke-width=\"1\" />\n<line x1=\"48.8\" x2=\"316.8\" y1=\"100.0\" y2=\"100.0\" stroke=\"#adb0b8\" stroke-width=\"1\" />\n<line x1=\"48.8\" x2=\"316.8\" y1=\"160.0\" y2=\"160.0\" stroke=\"#adb0b8\" stroke-width=\"1\" />\n<line x1=\"48.8\" x2=\"316.8\" y1=\"220.0\" y2=\"220.0\" stroke=\"#adb0b8\" stroke-width=\"1\" />\n\n<rect x=\"72.8\" y=\"20.0\" width=\"40.0\" height=\"40\" rx=\"4\" ry=\"4\" stroke=\"#ffffff\" stroke-width=\"0\" fill=\"#5e7ce0\" fill-opacity=\"1\" />\n<text x=\"92.8\" y=\"40.0\" font-size=\"20px\" dominant-baseline=\"middle\" text-anchor=\"middle\" font-family=\"Arial\" font-weight=\"normal\" fill=\"#ffffff\" >\nH\n </text>\n\n\n<rect x=\"72.8\" y=\"80.0\" width=\"40.0\" height=\"40\" rx=\"4\" ry=\"4\" stroke=\"#ffffff\" stroke-width=\"0\" fill=\"#5e7ce0\" fill-opacity=\"1\" />\n<text x=\"92.8\" y=\"100.0\" font-size=\"20px\" dominant-baseline=\"middle\" text-anchor=\"middle\" font-family=\"Arial\" font-weight=\"normal\" fill=\"#ffffff\" >\nH\n </text>\n\n\n<rect x=\"72.8\" y=\"140.0\" width=\"40.0\" height=\"40\" rx=\"4\" ry=\"4\" stroke=\"#ffffff\" stroke-width=\"0\" fill=\"#5e7ce0\" fill-opacity=\"1\" />\n<text x=\"92.8\" y=\"160.0\" font-size=\"20px\" dominant-baseline=\"middle\" text-anchor=\"middle\" font-family=\"Arial\" font-weight=\"normal\" fill=\"#ffffff\" >\nX\n </text>\n\n<circle cx=\"152.8\" cy=\"100.0\" r=\"4\" fill=\"#5e7ce0\" />\n<circle cx=\"152.8\" cy=\"40.0\" r=\"4\" fill=\"#5e7ce0\" />\n<line x1=\"152.8\" x2=\"152.8\" y1=\"40.0\" y2=\"160.0\" stroke=\"#5e7ce0\" stroke-width=\"3\" />\n<rect x=\"132.8\" y=\"140.0\" width=\"40.0\" height=\"40\" rx=\"4\" ry=\"4\" stroke=\"#ffffff\" stroke-width=\"0\" fill=\"#5e7ce0\" fill-opacity=\"1\" />\n<text x=\"152.8\" y=\"160.0\" font-size=\"20px\" dominant-baseline=\"middle\" text-anchor=\"middle\" font-family=\"Arial\" font-weight=\"normal\" fill=\"#ffffff\" >\nX\n </text>\n\n\n<rect x=\"72.8\" y=\"200.0\" width=\"40.0\" height=\"40\" rx=\"4\" ry=\"4\" stroke=\"#ffffff\" stroke-width=\"0\" fill=\"#5e7ce0\" fill-opacity=\"1\" />\n<text x=\"92.8\" y=\"220.0\" font-size=\"20px\" dominant-baseline=\"middle\" text-anchor=\"middle\" font-family=\"Arial\" font-weight=\"normal\" fill=\"#ffffff\" >\nX\n </text>\n\n<circle cx=\"212.8\" cy=\"40.0\" r=\"4\" fill=\"#5e7ce0\" />\n<circle cx=\"212.8\" cy=\"160.0\" r=\"4\" fill=\"#5e7ce0\" />\n<line x1=\"212.8\" x2=\"212.8\" y1=\"40.0\" y2=\"220.0\" stroke=\"#5e7ce0\" stroke-width=\"3\" />\n<rect x=\"192.8\" y=\"200.0\" width=\"40.0\" height=\"40\" rx=\"4\" ry=\"4\" stroke=\"#ffffff\" stroke-width=\"0\" fill=\"#5e7ce0\" fill-opacity=\"1\" />\n<text x=\"212.8\" y=\"220.0\" font-size=\"20px\" dominant-baseline=\"middle\" text-anchor=\"middle\" font-family=\"Arial\" font-weight=\"normal\" fill=\"#ffffff\" >\nX\n </text>\n\n<circle cx=\"272.8\" cy=\"40.0\" r=\"4\" fill=\"#5e7ce0\" />\n<circle cx=\"272.8\" cy=\"100.0\" r=\"4\" fill=\"#5e7ce0\" />\n<line x1=\"272.8\" x2=\"272.8\" y1=\"40.0\" y2=\"160.0\" stroke=\"#5e7ce0\" stroke-width=\"3\" />\n<rect x=\"252.8\" y=\"140.0\" width=\"40.0\" height=\"40\" rx=\"4\" ry=\"4\" stroke=\"#ffffff\" stroke-width=\"0\" fill=\"#5e7ce0\" fill-opacity=\"1\" />\n<text x=\"272.8\" y=\"160.0\" font-size=\"20px\" dominant-baseline=\"middle\" text-anchor=\"middle\" font-family=\"Arial\" font-weight=\"normal\" fill=\"#ffffff\" >\nX\n </text>\n\n</svg></div>",
      "text/plain": [
       "<mindquantum.io.display.circuit_svg_drawer.SVGCircuit at 0x7fdcc0b14fd0>"
      ]
     },
     "execution_count": 5,
     "metadata": {},
     "output_type": "execute_result"
    }
   ],
   "source": [
    "circ += X.on(2, [0, 1])\n",
    "circ.svg()"
   ]
  },
  {
   "cell_type": "code",
   "execution_count": 6,
   "metadata": {},
   "outputs": [
    {
     "name": "stdout",
     "output_type": "stream",
     "text": [
      "1/2¦0011⟩\n",
      "1/2¦0111⟩\n",
      "1/2¦1010⟩\n",
      "1/2¦1111⟩\n"
     ]
    }
   ],
   "source": [
    "print(circ.reverse_qubits().get_qs(ket=True))"
   ]
  },
  {
   "cell_type": "markdown",
   "metadata": {},
   "source": [
    "可以看到，辅助比特$q_2$现在恢复了初始状态。"
   ]
  },
  {
   "cell_type": "markdown",
   "metadata": {},
   "source": [
    "### 量子叠加\n",
    "\n",
    "对于一个单量子比特，我们知道\n",
    "$$\n",
    "H|0\\rangle = (|0\\rangle+|1\\rangle)/\\sqrt{2}\n",
    "$$\n",
    "\n",
    "对于两个量子比特：\n",
    "$$\n",
    "H^{\\otimes 2}|00\\rangle=(|0\\rangle+|1\\rangle)(|0\\rangle+|1\\rangle) / 2=(|00\\rangle+|01\\rangle+|10\\rangle+|11\\rangle) / 2\n",
    "$$\n",
    "\n",
    "对于多量子比特，\n",
    "$$\n",
    "H^{\\otimes n}\\left|0^{n}\\right\\rangle=\\frac{1}{\\sqrt{2^{n}}} \\sum_{x \\in\\{0,1\\}^{n}}|x\\rangle\n",
    "$$\n",
    "\n",
    "在$n$个量子比特上使用$n$个 Hadmard 门，可以创建具有 $2^n$ 输入项的量子叠加。指数希尔伯特空间是使其成为经典模拟难题的必要条件（但不是充分条件）。\n",
    "\n",
    "结合前面的讨论，我们可以断言存在一个幺正的电路$U_f$，这样\n",
    "$$\n",
    "\\boxed{\n",
    "\\sum_{x} a_{x} U_{f}|x\\rangle|0\\rangle=\\sum_{x} a_{x}|x\\rangle|f(x)\\rangle\n",
    "}\n",
    "$$\n",
    "其中$f(x)$是一些可以表示为经典电路的函数。"
   ]
  },
  {
   "cell_type": "code",
   "execution_count": 1,
   "metadata": {},
   "outputs": [
    {
     "data": {
      "text/html": [
       "\n",
       "<table border=\"1\">\n",
       "  <tr>\n",
       "    <th>Software</th>\n",
       "    <th>Version</th>\n",
       "  </tr>\n",
       "<tr><td>mindquantum</td><td>0.7.0</td></tr>\n",
       "<tr>\n",
       "    <th>System</th>\n",
       "    <th>Info</th>\n",
       "</tr>\n",
       "<tr><td>Python</td><td>3.9.7</td></tr><tr><td>OS</td><td>Linux x86_64</td></tr><tr><td>Memory</td><td>16.72 GB</td></tr><tr><td>CPU Max Thread</td><td>8</td></tr><tr><td>Date</td><td>Tue Nov 29 14:18:40 2022</td></tr>\n",
       "</table>\n"
      ],
      "text/plain": [
       "<show_info.InfoTable at 0x7f964814a850>"
      ]
     },
     "execution_count": 1,
     "metadata": {},
     "output_type": "execute_result"
    }
   ],
   "source": [
    "from show_info import InfoTable\n",
    "\n",
    "InfoTable('mindquantum')"
   ]
  }
 ],
 "metadata": {
  "interpreter": {
   "hash": "01ef07bfcd890b3fb13769b93b40ebec23f083c4455175924b1f47ada90ba335"
  },
  "kernelspec": {
   "display_name": "Python 3 (ipykernel)",
   "language": "python",
   "name": "python3"
  },
  "language_info": {
   "codemirror_mode": {
    "name": "ipython",
    "version": 3
   },
   "file_extension": ".py",
   "mimetype": "text/x-python",
   "name": "python",
   "nbconvert_exporter": "python",
   "pygments_lexer": "ipython3",
   "version": "3.9.7"
  }
 },
 "nbformat": 4,
 "nbformat_minor": 2
}
