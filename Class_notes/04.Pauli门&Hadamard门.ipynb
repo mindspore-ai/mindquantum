{
 "cells": [
  {
   "cell_type": "markdown",
   "metadata": {},
   "source": [
    "![banner](https://mindspore.cn/static/img/logo_black.74c3909e.png)\n",
    "\n",
    "# 单量子门的矩阵表示\n",
    "\n",
    "对于一个单量子门 $\\mathcal{U}$ ，其作用效果如下：\n",
    "$$\n",
    "\\begin{align*}\n",
    "\\mathcal{U} |0\\rangle \n",
    "& = \\alpha |0\\rangle + \\beta |1\\rangle \n",
    "\\equiv |\\phi\\rangle \\\\\n",
    "\\mathcal{U} |1\\rangle\n",
    "& = \\alpha' |0\\rangle + \\beta' |1\\rangle\n",
    "\\equiv |\\phi_\\bot\\rangle\n",
    "\\end{align*}\n",
    "$$\n",
    "\n",
    "如何写出 $\\mathcal{U}$ 的矩阵？\n",
    "$$\\begin{align*}  \\mathcal{U}  & = \\mathcal{U} I \\\\  & = \\mathcal{U} \\left|0\\right> \\langle0| + \\mathcal{U} |1\\rangle \\langle 1|\\\\  & = \\left( \\alpha |0\\rangle + \\beta |1\\rangle \\right) \\langle 0 | + \\left( \\alpha' |0\\rangle + \\beta' |1\\rangle \\right) \\langle 1 | \\\\  & = \\begin{pmatrix} \\alpha \\\\ \\beta \\end{pmatrix} \\langle 0| + \\begin{pmatrix} \\alpha' \\\\ \\beta' \\end{pmatrix} \\langle 1| \\\\  & = \\begin{pmatrix}  \\alpha & \\alpha' \\\\  \\beta & \\beta'  \\end{pmatrix} \\end{align*}$$\n",
    "\n",
    "注意到\n",
    "$$\n",
    "0 = \\langle 0 | 1 \\rangle\n",
    "= \\langle 0 | \\mathcal{U}^\\dagger \\mathcal{U} |1\\rangle\n",
    "= \\langle \\phi | \\phi_\\bot \\rangle\n",
    "= \\alpha^* \\alpha' + \\beta^* \\beta'\n",
    "$$\n",
    "因此 $\\mathcal{U}$ 是一个**酉矩阵**。\n",
    "\n"
   ]
  },
  {
   "cell_type": "markdown",
   "metadata": {},
   "source": [
    "# Pauli门\n",
    "\n",
    "前面我们已经简单认识了 Pauli-`X` 门。实际上总共有 3 种 Pauli 门： $X, Y, Z$，它们的作用效果如下：\n",
    "$$\n",
    "\\begin{align*}\n",
    "X |0\\rangle = |1\\rangle , \\quad & X |1\\rangle = |0\\rangle \\\\\n",
    "Y |0\\rangle = i |1\\rangle , \\quad & Y |1\\rangle = -i |0\\rangle \\\\\n",
    "Z |0\\rangle = |0\\rangle  , \\quad & Z |1\\rangle = - |1\\rangle\n",
    "\\end{align*}\n",
    "$$\n",
    "\n",
    "因此 $X, Y, Z$ 的矩阵如下：\n",
    "$$\n",
    "\\begin{align*}\n",
    "X & = \n",
    "\\begin{pmatrix}\n",
    "0 & 1 \\\\\n",
    "1 & 0\n",
    "\\end{pmatrix}\n",
    "\\\\\n",
    "Y & = \n",
    "\\begin{pmatrix}\n",
    "0 & -i \\\\\n",
    "i & 0\n",
    "\\end{pmatrix}\n",
    "\\\\\n",
    "Z & =\n",
    "\\begin{pmatrix}\n",
    "1 & 0 \\\\\n",
    "0 & -1\n",
    "\\end{pmatrix}\n",
    "\\end{align*}\n",
    "$$"
   ]
  },
  {
   "cell_type": "code",
   "execution_count": 1,
   "metadata": {},
   "outputs": [
    {
     "name": "stdout",
     "output_type": "stream",
     "text": [
      "X:\n",
      "[[0 1]\n",
      " [1 0]]\n",
      "Y:\n",
      "[[ 0.+0.j -0.-1.j]\n",
      " [ 0.+1.j  0.+0.j]]\n",
      "Z:\n",
      "[[ 1  0]\n",
      " [ 0 -1]]\n"
     ]
    }
   ],
   "source": [
    "from mindquantum.core.gates import X, Y, Z\n",
    "\n",
    "print(\"X:\")\n",
    "print(X.matrix())\n",
    "print(\"Y:\")\n",
    "print(Y.matrix())\n",
    "print(\"Z:\")\n",
    "print(Z.matrix())"
   ]
  },
  {
   "cell_type": "markdown",
   "metadata": {},
   "source": [
    "> API 解释：\n",
    "> \n",
    "> MindQuantum 中大部份量子门都继承自 `BasicGate` 类，这个类有一个接口 `.matrix()` 返回门的矩阵形式（`numpy` 二维数组）。"
   ]
  },
  {
   "cell_type": "markdown",
   "metadata": {},
   "source": [
    "Pauli门具有如下的性质：\n",
    "$$\n",
    "\\begin{align*}\n",
    "X^2 = Y^2 = Z^2 = I \\\\\n",
    "XYZ = iI\\\\\n",
    "XY = iZ \\\\\n",
    "YZ = iX \\\\\n",
    "ZX = iY\n",
    "\\end{align*}\n",
    "$$"
   ]
  },
  {
   "cell_type": "code",
   "execution_count": 2,
   "metadata": {},
   "outputs": [
    {
     "name": "stdout",
     "output_type": "stream",
     "text": [
      "X^2 = I :  True\n",
      "Y^2 = I :  True\n",
      "Z^2 = I :  True\n",
      "XYZ = iI :  True\n"
     ]
    }
   ],
   "source": [
    "from mindquantum.core.gates import X,Y,Z\n",
    "import numpy as np\n",
    "\n",
    "x = X.matrix()\n",
    "y = Y.matrix()\n",
    "z = Z.matrix()\n",
    "\n",
    "print(\"X^2 = I : \", np.allclose(x @ x, np.identity(2)))\n",
    "print(\"Y^2 = I : \", np.allclose(y @ y, np.identity(2)))\n",
    "print(\"Z^2 = I : \", np.allclose(z @ z, np.identity(2)))\n",
    "\n",
    "print(\"XYZ = iI : \", np.allclose(x @ y @ z, 1j * np.identity(2)))"
   ]
  },
  {
   "cell_type": "markdown",
   "metadata": {},
   "source": [
    "> API 解释：\n",
    "> \n",
    "> 在量子计算中我们常常需要证明一些**恒等式**（线路等价性），除了拿起笔手动推导，我们可以利用计算机方便的证明这些恒等式。例如直接计算矩阵乘法，比较等式两端的计算结果。\n",
    "> 在 `numpy` 中 `A` 和 `B` 矩阵乘法可以用\n",
    ">   \n",
    ">   - `A.dot(B)`\n",
    ">   - `A @ B`\n",
    ">   - `np.dot(A, B)`\n",
    ">   - `np.matmul(A, B)`\n",
    "> \n",
    "> 注意不要使用 `A * B` 和 `A.multiply(B)`，其含义是矩阵对应位置相乘。\n",
    ">  \n",
    "> 对比两个矩阵相等建议使用 `np.allclose(A, B)`，因为浮点数计算存在误差，该函数是在误差范围内比较两个矩阵。 "
   ]
  },
  {
   "cell_type": "markdown",
   "metadata": {},
   "source": [
    "# Hadamard 门\n",
    "\n",
    "几乎所有量子电路都有 Hadamard 门：\n",
    "$$\n",
    "H \\equiv \\frac{1}{\\sqrt{2}}\\left(\\begin{array}{cc}\n",
    "1 & 1 \\\\\n",
    "1 & -1\n",
    "\\end{array}\\right)=\\frac{1}{\\sqrt{2}}\\left(\\begin{array}{l}\n",
    "1 \\\\\n",
    "1\n",
    "\\end{array}\\right)\\langle 0|+\\frac{1}{\\sqrt{2}}\\left(\\begin{array}{c}\n",
    "1 \\\\\n",
    "-1\n",
    "\\end{array}\\right)\\langle 1|\n",
    "$$\n",
    "其中\n",
    "$$\n",
    "H|0\\rangle=\\frac{1}{\\sqrt{2}}(|0\\rangle+|1\\rangle) \\quad, H|1\\rangle=\\frac{1}{\\sqrt{2}}(|0\\rangle-|1\\rangle)\n",
    "$$\n",
    "\n",
    "注意到 $H$ 也是自逆的，即 $H^2=I$，并且 $H=(X+Z)/\\sqrt{2}$。\n",
    "\n",
    "以下是一些 Hadamard 门的性质：\n",
    "$$\n",
    "HXH=Z, \\quad HZH=X, \\quad HYH=-Y\n",
    "$$\n",
    "\n",
    "例如，$HR_x(\\theta)H=Icos\\frac{\\theta}{2}-iHXHsin\\frac{\\theta}{2}=R_z(\\theta)$。\n",
    "\n",
    "最后我们还需要知道另外两个单比特门：\n",
    "$$\n",
    "S \\equiv\\left(\\begin{array}{ll}\n",
    "1 & 0 \\\\\n",
    "0 & i\n",
    "\\end{array}\\right) \\quad, \\quad T \\equiv\\left(\\begin{array}{cc}\n",
    "1 & 0 \\\\\n",
    "0 & e^{i \\pi / 4}\n",
    "\\end{array}\\right)\n",
    "$$\n",
    "并且有$S=T^2$。\n",
    "\n",
    "实际上，在实验室中，人们可能不具备从任意方向控制量子比特旋转的能力。比如说，如果我们只能实现$R_z$和$R_y$该怎么办？\n",
    "\n",
    "在 MindQuantum 中也有 `H` , `S` 和 `T` 门，使用方法如下："
   ]
  },
  {
   "cell_type": "code",
   "execution_count": 3,
   "metadata": {},
   "outputs": [
    {
     "name": "stdout",
     "output_type": "stream",
     "text": [
      "q0: ──H───────\n",
      "\n",
      "q1: ──S────T──\n"
     ]
    }
   ],
   "source": [
    "from mindquantum.core.gates import H, S, T\n",
    "from mindquantum.core.circuit import Circuit\n",
    "\n",
    "circ = Circuit()\n",
    "circ += H.on(0)\n",
    "circ += S.on(1)\n",
    "circ += T.on(1)\n",
    "print(circ)"
   ]
  },
  {
   "cell_type": "markdown",
   "metadata": {},
   "source": [
    "## 在其它基矢下的测量\n",
    "\n",
    "前面提到，我们可以在标准基$\\lbrace|0\\rangle, |1\\rangle \\rbrace$下对量子比特进行测量，得到 0 或 1。除了标准基，还有一组经常使用的基，它对应 $x$ 轴方向上的测量\n",
    "$$|\\pm\\rangle = \\frac{|0\\rangle \\pm |1\\rangle}{\\sqrt{}2}$$\n",
    "\n",
    "可以使用Hadmard门来得到这两个量子态：\n",
    "$$H\\equiv\n",
    "\\frac{1}{\\sqrt{2}}\n",
    "\\begin{pmatrix}\n",
    "1 & 1 \\\\\n",
    "1 & -1\n",
    "\\end{pmatrix} \\\\\n",
    "H|0\\rangle = |+\\rangle, \\quad H|1\\rangle = |-\\rangle\n",
    "$$\n"
   ]
  },
  {
   "cell_type": "code",
   "execution_count": 4,
   "metadata": {},
   "outputs": [
    {
     "name": "stdout",
     "output_type": "stream",
     "text": [
      "|+⟩:  [0.70710678+0.j 0.70710678+0.j]\n",
      "|-⟩:  [ 0.70710678+0.j -0.70710678+0.j]\n"
     ]
    }
   ],
   "source": [
    "from mindquantum.simulator import Simulator\n",
    "from mindquantum.core.gates import H, X\n",
    "\n",
    "sim = Simulator(\"mqvector\", 1)\n",
    "\n",
    "sim.reset()\n",
    "sim.apply_gate(H.on(0))\n",
    "print(\"|+⟩: \", sim.get_qs())\n",
    "\n",
    "sim.reset()\n",
    "sim.apply_gate(X.on(0))\n",
    "sim.apply_gate(H.on(0))\n",
    "print(\"|-⟩: \", sim.get_qs())"
   ]
  },
  {
   "cell_type": "markdown",
   "metadata": {},
   "source": [
    "> API 解释：\n",
    "> \n",
    "> - `sim.reset()` 将模拟器 `sim` 的量子态重置为 $|0\\rangle^{\\otimes n}$ 态，其中 $n$ 表示模拟器的量子比特数目；\n",
    "> - `sim.apply_gate(H.on(0))` 将模拟器 `sim` 的量子态 第0个比特作用 H 门，注意 `apply_gate` 和 `apply_circuit` 都会**改变量子态**；"
   ]
  },
  {
   "cell_type": "markdown",
   "metadata": {},
   "source": [
    "由于mindquantum的测量都是在标准基下进行的，想要在 $\\lbrace |+\\rangle, |-\\rangle\\rbrace$ 下测量，需要使用H门进行转换。\n",
    "$$\n",
    "\\begin{align*}\n",
    "|\\psi\\rangle & = \\alpha |+\\rangle + \\beta |-\\rangle \\\\\n",
    "H |\\psi\\rangle & = \\alpha |0\\rangle + \\beta |1\\rangle\n",
    "\\end{align*}\n",
    "$$\n",
    "\n",
    "对 $|+\\rangle$ 沿着 $x$ 轴（使用 $\\lbrace |\\pm\\rangle \\rbrace$）进行测量，测量结果总是 $0$；如果使用 $z$ 轴（标准基 $\\lbrace |0\\rangle, |1\\rangle \\rbrace$）进行测量，测量结果是 $0$ 和 $1$ 的随机字符串，例如 $01010001100111\\ldots$ 。"
   ]
  },
  {
   "cell_type": "code",
   "execution_count": 5,
   "metadata": {},
   "outputs": [
    {
     "name": "stdout",
     "output_type": "stream",
     "text": [
      "|+⟩:  [0.70710678+0.j 0.70710678+0.j]\n"
     ]
    },
    {
     "data": {
      "image/svg+xml": "<div class=\"nb-html-output output_area\"><svg xmlns=\"http://www.w3.org/2000/svg\" width=\"401.2\" height=\"117.0\" xmlns:xlink=\"http://www.w3.org/1999/xlink\">\n<rect x=\"0\" y=\"0\" width=\"401.2\" height=\"117.0\" fill=\"#ffffff\" />\n<text x=\"10\" y=\"17.0\" font-size=\"14px\" dominant-baseline=\"middle\" text-anchor=\"start\" >\nShots:\n 100\n </text>\n<text x=\"10\" y=\"31.0\" font-size=\"14px\" dominant-baseline=\"middle\" text-anchor=\"start\" >\nKeys: Measure in |+⟩ and |-⟩\n </text>\n<line x1=\"31.2\" x2=\"391.2\" y1=\"62.0\" y2=\"62.0\" stroke=\"#adb0b8\" stroke-width=\"1\" />\n<line x1=\"31.2\" x2=\"31.2\" y1=\"55.0\" y2=\"62.0\" stroke=\"#adb0b8\" stroke-width=\"1\" />\n<text x=\"33.2\" y=\"60.0\" font-size=\"12px\" dominant-baseline=\"bottom\" text-anchor=\"start\" fill=\"#575d6c\" >\n0.0\n </text>\n<line x1=\"31.2\" x2=\"31.2\" y1=\"62.0\" y2=\"107.0\" stroke=\"#adb0b8\" stroke-width=\"1\" />\n<line x1=\"91.2\" x2=\"91.2\" y1=\"55.0\" y2=\"62.0\" stroke=\"#adb0b8\" stroke-width=\"1\" />\n<text x=\"93.2\" y=\"60.0\" font-size=\"12px\" dominant-baseline=\"bottom\" text-anchor=\"start\" fill=\"#575d6c\" >\n0.2\n </text>\n<line x1=\"91.2\" x2=\"91.2\" y1=\"62.0\" y2=\"107.0\" stroke=\"#dfe1e6\" stroke-width=\"1\" />\n<line x1=\"151.2\" x2=\"151.2\" y1=\"55.0\" y2=\"62.0\" stroke=\"#adb0b8\" stroke-width=\"1\" />\n<text x=\"153.2\" y=\"60.0\" font-size=\"12px\" dominant-baseline=\"bottom\" text-anchor=\"start\" fill=\"#575d6c\" >\n0.4\n </text>\n<line x1=\"151.2\" x2=\"151.2\" y1=\"62.0\" y2=\"107.0\" stroke=\"#dfe1e6\" stroke-width=\"1\" />\n<line x1=\"211.2\" x2=\"211.2\" y1=\"55.0\" y2=\"62.0\" stroke=\"#adb0b8\" stroke-width=\"1\" />\n<text x=\"213.2\" y=\"60.0\" font-size=\"12px\" dominant-baseline=\"bottom\" text-anchor=\"start\" fill=\"#575d6c\" >\n0.6\n </text>\n<line x1=\"211.2\" x2=\"211.2\" y1=\"62.0\" y2=\"107.0\" stroke=\"#dfe1e6\" stroke-width=\"1\" />\n<line x1=\"271.2\" x2=\"271.2\" y1=\"55.0\" y2=\"62.0\" stroke=\"#adb0b8\" stroke-width=\"1\" />\n<text x=\"273.2\" y=\"60.0\" font-size=\"12px\" dominant-baseline=\"bottom\" text-anchor=\"start\" fill=\"#575d6c\" >\n0.8\n </text>\n<line x1=\"271.2\" x2=\"271.2\" y1=\"62.0\" y2=\"107.0\" stroke=\"#dfe1e6\" stroke-width=\"1\" />\n<line x1=\"331.2\" x2=\"331.2\" y1=\"55.0\" y2=\"62.0\" stroke=\"#adb0b8\" stroke-width=\"1\" />\n<text x=\"333.2\" y=\"60.0\" font-size=\"12px\" dominant-baseline=\"bottom\" text-anchor=\"start\" fill=\"#575d6c\" >\n1.0\n </text>\n<line x1=\"331.2\" x2=\"331.2\" y1=\"62.0\" y2=\"107.0\" stroke=\"#dfe1e6\" stroke-width=\"1\" />\n<text x=\"22.2\" y=\"85.0\" font-size=\"12px\" dominant-baseline=\"middle\" text-anchor=\"end\" fill=\"#575d6c\" >\n0\n </text>\n<line x1=\"24.2\" x2=\"31.2\" y1=\"85.0\" y2=\"85.0\" stroke=\"#adb0b8\" stroke-width=\"1\" />\n<rect x=\"31.2\" y=\"73.0\" width=\"300.0\" height=\"24\" id=\"bar_0_1686141120199115000\" fill=\"#5e7ce0\" />\n<text x=\"341.2\" y=\"85.0\" font-size=\"14px\" dominant-baseline=\"middle\" text-anchor=\"start\" fill=\"#575d6c\" id=\"bar_text_0_1686141120199147000\" fill-opacity=\"0\" >\n100\n </text>\n<animate xlink:href=\"#bar_0_1686141120199115000\" attributeName=\"width\" from=\"0\" to=\"300.0\" dur=\"0.3s\" calcMode=\"spline\" values=\"0; 300.0\" keyTimes=\"0; 1\" keySplines=\"0.42 0 1 0.8;\" fill=\"freeze\" />\n<animate xlink:href=\"#bar_0_1686141120199115000\" attributeName=\"fill\" from=\"#5e7ce0\" to=\"#fac209\" dur=\"0.15s\" calcMode=\"spline\" values=\"#5e7ce0; #fac209\" keyTimes=\"0; 1\" keySplines=\"0.42 0 1 0.8;\" fill=\"freeze\" begin=\"0.3s\" />\n<animate xlink:href=\"#bar_text_0_1686141120199147000\" attributeName=\"fill-opacity\" from=\"0\" to=\"1\" dur=\"0.15s\" calcMode=\"spline\" values=\"0; 1\" keyTimes=\"0; 1\" keySplines=\"0.42 0 1 0.8;\" fill=\"freeze\" begin=\"0.3s\" />\n<text x=\"203.1\" y=\"41.0\" font-size=\"14px\" dominant-baseline=\"middle\" text-anchor=\"middle\" >\nprobability\n </text>\n</svg></div>"
     },
     "metadata": {},
     "output_type": "display_data"
    },
    {
     "data": {
      "image/svg+xml": "<div class=\"nb-html-output output_area\"><svg xmlns=\"http://www.w3.org/2000/svg\" width=\"401.2\" height=\"147.0\" xmlns:xlink=\"http://www.w3.org/1999/xlink\">\n<rect x=\"0\" y=\"0\" width=\"401.2\" height=\"147.0\" fill=\"#ffffff\" />\n<text x=\"10\" y=\"17.0\" font-size=\"14px\" dominant-baseline=\"middle\" text-anchor=\"start\" >\nShots:\n 100\n </text>\n<text x=\"10\" y=\"31.0\" font-size=\"14px\" dominant-baseline=\"middle\" text-anchor=\"start\" >\nKeys: Measure in |0⟩ and |1⟩\n </text>\n<line x1=\"31.2\" x2=\"391.2\" y1=\"62.0\" y2=\"62.0\" stroke=\"#adb0b8\" stroke-width=\"1\" />\n<line x1=\"31.2\" x2=\"31.2\" y1=\"55.0\" y2=\"62.0\" stroke=\"#adb0b8\" stroke-width=\"1\" />\n<text x=\"33.2\" y=\"60.0\" font-size=\"12px\" dominant-baseline=\"bottom\" text-anchor=\"start\" fill=\"#575d6c\" >\n0.0\n </text>\n<line x1=\"31.2\" x2=\"31.2\" y1=\"62.0\" y2=\"137.0\" stroke=\"#adb0b8\" stroke-width=\"1\" />\n<line x1=\"91.2\" x2=\"91.2\" y1=\"55.0\" y2=\"62.0\" stroke=\"#adb0b8\" stroke-width=\"1\" />\n<text x=\"93.2\" y=\"60.0\" font-size=\"12px\" dominant-baseline=\"bottom\" text-anchor=\"start\" fill=\"#575d6c\" >\n0.108\n </text>\n<line x1=\"91.2\" x2=\"91.2\" y1=\"62.0\" y2=\"137.0\" stroke=\"#dfe1e6\" stroke-width=\"1\" />\n<line x1=\"151.2\" x2=\"151.2\" y1=\"55.0\" y2=\"62.0\" stroke=\"#adb0b8\" stroke-width=\"1\" />\n<text x=\"153.2\" y=\"60.0\" font-size=\"12px\" dominant-baseline=\"bottom\" text-anchor=\"start\" fill=\"#575d6c\" >\n0.216\n </text>\n<line x1=\"151.2\" x2=\"151.2\" y1=\"62.0\" y2=\"137.0\" stroke=\"#dfe1e6\" stroke-width=\"1\" />\n<line x1=\"211.2\" x2=\"211.2\" y1=\"55.0\" y2=\"62.0\" stroke=\"#adb0b8\" stroke-width=\"1\" />\n<text x=\"213.2\" y=\"60.0\" font-size=\"12px\" dominant-baseline=\"bottom\" text-anchor=\"start\" fill=\"#575d6c\" >\n0.324\n </text>\n<line x1=\"211.2\" x2=\"211.2\" y1=\"62.0\" y2=\"137.0\" stroke=\"#dfe1e6\" stroke-width=\"1\" />\n<line x1=\"271.2\" x2=\"271.2\" y1=\"55.0\" y2=\"62.0\" stroke=\"#adb0b8\" stroke-width=\"1\" />\n<text x=\"273.2\" y=\"60.0\" font-size=\"12px\" dominant-baseline=\"bottom\" text-anchor=\"start\" fill=\"#575d6c\" >\n0.432\n </text>\n<line x1=\"271.2\" x2=\"271.2\" y1=\"62.0\" y2=\"137.0\" stroke=\"#dfe1e6\" stroke-width=\"1\" />\n<line x1=\"331.2\" x2=\"331.2\" y1=\"55.0\" y2=\"62.0\" stroke=\"#adb0b8\" stroke-width=\"1\" />\n<text x=\"333.2\" y=\"60.0\" font-size=\"12px\" dominant-baseline=\"bottom\" text-anchor=\"start\" fill=\"#575d6c\" >\n0.54\n </text>\n<line x1=\"331.2\" x2=\"331.2\" y1=\"62.0\" y2=\"137.0\" stroke=\"#dfe1e6\" stroke-width=\"1\" />\n<text x=\"22.2\" y=\"85.0\" font-size=\"12px\" dominant-baseline=\"middle\" text-anchor=\"end\" fill=\"#575d6c\" >\n0\n </text>\n<line x1=\"24.2\" x2=\"31.2\" y1=\"85.0\" y2=\"85.0\" stroke=\"#adb0b8\" stroke-width=\"1\" />\n<rect x=\"31.2\" y=\"73.0\" width=\"300.0\" height=\"24\" id=\"bar_0_1686141120206236000\" fill=\"#5e7ce0\" />\n<text x=\"341.2\" y=\"85.0\" font-size=\"14px\" dominant-baseline=\"middle\" text-anchor=\"start\" fill=\"#575d6c\" id=\"bar_text_0_1686141120206265000\" fill-opacity=\"0\" >\n54\n </text>\n<text x=\"22.2\" y=\"115.0\" font-size=\"12px\" dominant-baseline=\"middle\" text-anchor=\"end\" fill=\"#575d6c\" >\n1\n </text>\n<line x1=\"24.2\" x2=\"31.2\" y1=\"115.0\" y2=\"115.0\" stroke=\"#adb0b8\" stroke-width=\"1\" />\n<rect x=\"31.2\" y=\"103.0\" width=\"255.55555555555554\" height=\"24\" id=\"bar_1_1686141120206286000\" fill=\"#16acff\" />\n<text x=\"296.75555555555553\" y=\"115.0\" font-size=\"14px\" dominant-baseline=\"middle\" text-anchor=\"start\" fill=\"#575d6c\" id=\"bar_text_1_1686141120206301000\" fill-opacity=\"0\" >\n46\n </text>\n<animate xlink:href=\"#bar_0_1686141120206236000\" attributeName=\"width\" from=\"0\" to=\"300.0\" dur=\"0.3s\" calcMode=\"spline\" values=\"0; 300.0\" keyTimes=\"0; 1\" keySplines=\"0.42 0 1 0.8;\" fill=\"freeze\" />\n<animate xlink:href=\"#bar_1_1686141120206286000\" attributeName=\"width\" from=\"0\" to=\"255.55555555555554\" dur=\"0.3s\" calcMode=\"spline\" values=\"0; 255.55555555555554\" keyTimes=\"0; 1\" keySplines=\"0.42 0 1 0.8;\" fill=\"freeze\" />\n<animate xlink:href=\"#bar_0_1686141120206236000\" attributeName=\"fill\" from=\"#5e7ce0\" to=\"#fac209\" dur=\"0.15s\" calcMode=\"spline\" values=\"#5e7ce0; #fac209\" keyTimes=\"0; 1\" keySplines=\"0.42 0 1 0.8;\" fill=\"freeze\" begin=\"0.3s\" />\n<animate xlink:href=\"#bar_text_0_1686141120206265000\" attributeName=\"fill-opacity\" from=\"0\" to=\"1\" dur=\"0.15s\" calcMode=\"spline\" values=\"0; 1\" keyTimes=\"0; 1\" keySplines=\"0.42 0 1 0.8;\" fill=\"freeze\" begin=\"0.3s\" />\n<animate xlink:href=\"#bar_text_1_1686141120206301000\" attributeName=\"fill-opacity\" from=\"0\" to=\"1\" dur=\"0.15s\" calcMode=\"spline\" values=\"0; 1\" keyTimes=\"0; 1\" keySplines=\"0.42 0 1 0.8;\" fill=\"freeze\" begin=\"0.3s\" />\n<text x=\"203.1\" y=\"41.0\" font-size=\"14px\" dominant-baseline=\"middle\" text-anchor=\"middle\" >\nprobability\n </text>\n</svg></div>",
      "text/plain": [
       "<mindquantum.io.display.measure_res_svg_drawer.SVGMeasure at 0x7fb510aeeee0>"
      ]
     },
     "execution_count": 5,
     "metadata": {},
     "output_type": "execute_result"
    }
   ],
   "source": [
    "from mindquantum.simulator import Simulator\n",
    "from mindquantum.core.gates import H, Measure\n",
    "from mindquantum.core.circuit import Circuit\n",
    "from IPython.display import display_svg\n",
    "\n",
    "sim = Simulator(\"mqvector\", 1)\n",
    "\n",
    "sim.reset()\n",
    "sim.apply_gate(H.on(0))\n",
    "print(\"|+⟩: \", sim.get_qs())\n",
    "\n",
    "# using |+⟩ and |-⟩ to measure\n",
    "circ = Circuit()\n",
    "circ += H.on(0)\n",
    "circ += Measure(\"Measure in |+⟩ and |-⟩\").on(0)\n",
    "res = sim.sampling(circuit=circ, shots=100)\n",
    "display_svg(res.svg())\n",
    "\n",
    "# using |0⟩ and |1⟩ to measure\n",
    "circ = Circuit()\n",
    "circ += Measure(\"Measure in |0⟩ and |1⟩\").on(0)\n",
    "res = sim.sampling(circuit=circ, shots=100)\n",
    "res.svg()"
   ]
  },
  {
   "cell_type": "code",
   "execution_count": 6,
   "metadata": {},
   "outputs": [
    {
     "data": {
      "text/html": [
       "\n",
       "<table border=\"1\">\n",
       "  <tr>\n",
       "    <th>Software</th>\n",
       "    <th>Version</th>\n",
       "  </tr>\n",
       "<tr><td>mindquantum</td><td>0.9.0</td></tr>\n",
       "<tr><td>matplotlib</td><td>3.6.2</td></tr>\n",
       "<tr><td>numpy</td><td>1.23.5</td></tr>\n",
       "<tr>\n",
       "    <th>System</th>\n",
       "    <th>Info</th>\n",
       "</tr>\n",
       "<tr><td>Python</td><td>3.8.13</td></tr><tr><td>OS</td><td>Darwin x86_64</td></tr><tr><td>Memory</td><td>34.36 GB</td></tr><tr><td>CPU Max Thread</td><td>16</td></tr><tr><td>Date</td><td>Wed Jun  7 20:32:00 2023</td></tr>\n",
       "</table>\n"
      ],
      "text/plain": [
       "<show_info.InfoTable at 0x7fb550d9dc10>"
      ]
     },
     "execution_count": 6,
     "metadata": {},
     "output_type": "execute_result"
    }
   ],
   "source": [
    "from show_info import InfoTable\n",
    "\n",
    "InfoTable('mindquantum', 'matplotlib', 'numpy')"
   ]
  },
  {
   "cell_type": "markdown",
   "metadata": {},
   "source": [
    "# 习题\n",
    "\n",
    "## Exercise 1\n",
    "\n",
    "我们定义 $[A, B] = AB - BA$，$\\lbrace A,B \\rbrace = AB + BA$，$\\vec{\\sigma} = (\\sigma_1, \\sigma_2, \\sigma_3) = (X, Y, Z)$，验证\n",
    "\n",
    "$$\n",
    "\\lbrace \\sigma_i, \\sigma_j \\rbrace = 2\\delta_{i,j} I = \\begin{cases} 2I \\quad & i = j \\\\ 0 \\quad & i \\neq j \\end{cases}\n",
    "$$\n",
    "\n",
    "## Exercise 2\n",
    "\n",
    "请用 MindQuantum 验证下式是否成立\n",
    "$$\n",
    "H|0\\rangle=\\frac{1}{\\sqrt{2}}(|0\\rangle+|1\\rangle) \\quad, H|1\\rangle=\\frac{1}{\\sqrt{2}}(|0\\rangle-|1\\rangle)\n",
    "$$\n",
    "\n",
    "## Exercise 3\n",
    "\n",
    "请用 MindQuantum 验证下式是否成立\n",
    "$$\n",
    "HR_x(\\theta)H=R_z(\\theta)\n",
    "$$\n",
    "\n",
    "## Exercise 4\n",
    "\n",
    "对 $|\\psi\\rangle = \\frac{|0\\rangle + (1+i)|1\\rangle}{\\sqrt{3}}$ 使用 $\\lbrace |+\\rangle, |-\\rangle\\rbrace$ 进行测量。"
   ]
  }
 ],
 "metadata": {
  "kernelspec": {
   "display_name": "Python 3.8.10 64-bit",
   "language": "python",
   "name": "python3"
  },
  "language_info": {
   "codemirror_mode": {
    "name": "ipython",
    "version": 3
   },
   "file_extension": ".py",
   "mimetype": "text/x-python",
   "name": "python",
   "nbconvert_exporter": "python",
   "pygments_lexer": "ipython3",
   "version": "3.8.13"
  },
  "vscode": {
   "interpreter": {
    "hash": "916dbcbb3f70747c44a77c7bcd40155683ae19c65e1c03b4aa3499c5328201f1"
   }
  }
 },
 "nbformat": 4,
 "nbformat_minor": 2
}
