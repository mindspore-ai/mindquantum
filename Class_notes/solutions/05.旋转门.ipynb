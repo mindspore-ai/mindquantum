{
 "cells": [
  {
   "cell_type": "markdown",
   "metadata": {},
   "source": [
    "# Exercise 1\n",
    "\n",
    "写出 $R_x(\\theta), R_y(\\theta), R_z(\\theta)$ 的矩阵形式。"
   ]
  },
  {
   "cell_type": "markdown",
   "metadata": {},
   "source": [
    "$$\n",
    "\\begin{align*}\n",
    "R_x(\\theta) & = \n",
    "\\begin{pmatrix}\n",
    "\\cos{\\theta\\over 2}     & -i\\sin{\\theta\\over 2} \\\\\n",
    "-i\\sin{\\theta\\over 2}   & \\cos{\\theta\\over 2}\n",
    "\\end{pmatrix} \\\\\n",
    "R_y(\\theta) & = \n",
    "\\begin{pmatrix}\n",
    "\\cos{\\theta\\over 2}     & -\\sin{\\theta\\over 2} \\\\\n",
    "\\sin{\\theta\\over 2}     & \\cos{\\theta\\over 2}\n",
    "\\end{pmatrix} \\\\\n",
    "R_z(\\theta) & = \n",
    "\\begin{pmatrix}\n",
    "e^{-i\\frac{\\theta}{2}}     & 0 \\\\\n",
    "0   & e^{i\\frac{\\theta}{2}}\n",
    "\\end{pmatrix}\n",
    "\\end{align*}\n",
    "$$"
   ]
  },
  {
   "cell_type": "code",
   "execution_count": 1,
   "metadata": {},
   "outputs": [
    {
     "name": "stdout",
     "output_type": "stream",
     "text": [
      "[[0.92387953+0.j         0.        -0.38268343j]\n",
      " [0.        -0.38268343j 0.92387953+0.j        ]]\n",
      "[[ 0.92387953+0.j -0.38268343+0.j]\n",
      " [ 0.38268343+0.j  0.92387953+0.j]]\n",
      "[[0.92387953-0.38268343j 0.        +0.j        ]\n",
      " [0.        +0.j         0.92387953+0.38268343j]]\n"
     ]
    }
   ],
   "source": [
    "from mindquantum.core.gates import RX, RY, RZ\n",
    "import numpy as np\n",
    "\n",
    "print(RX(np.pi / 4).matrix())\n",
    "print(RY(np.pi / 4).matrix())\n",
    "print(RZ(np.pi / 4).matrix())"
   ]
  },
  {
   "cell_type": "markdown",
   "metadata": {},
   "source": [
    "# Exercise 2\n",
    "\n",
    "证明 $XR_y(\\theta)X = R_y(-\\theta)$"
   ]
  },
  {
   "cell_type": "markdown",
   "metadata": {},
   "source": [
    "$$\n",
    "\\begin{align*}\n",
    "XR_y(\\theta)X\n",
    "& = X \\left( \\cos{\\theta\\over 2}I - i\\sin{\\theta\\over 2}Y \\right) X \\\\\n",
    "& = \\cos{\\theta\\over 2}I - i\\sin{\\theta\\over 2}XYX \\\\\n",
    "& = \\cos{\\theta\\over 2}I + i\\sin{\\theta\\over 2}Y \\\\\n",
    "& = R_y(-\\theta)\n",
    "\\end{align*}\n",
    "$$"
   ]
  },
  {
   "cell_type": "code",
   "execution_count": 2,
   "metadata": {},
   "outputs": [],
   "source": [
    "from mindquantum.core.gates import X, RY, X\n",
    "import numpy as np\n",
    "from numpy.random import rand\n",
    "\n",
    "n = 100\n",
    "theta = np.pi * rand(n)\n",
    "x = X.matrix()\n",
    "\n",
    "for i in range(n):\n",
    "    ry = RY(theta[i]).matrix()\n",
    "    ry_ = RY(-theta[i]).matrix()\n",
    "    if not np.allclose(x @ ry @ x, ry_):\n",
    "        print(\"Error\")"
   ]
  }
 ],
 "metadata": {
  "interpreter": {
   "hash": "01ef07bfcd890b3fb13769b93b40ebec23f083c4455175924b1f47ada90ba335"
  },
  "kernelspec": {
   "display_name": "Python 3.8.13 ('mq')",
   "language": "python",
   "name": "python3"
  },
  "language_info": {
   "codemirror_mode": {
    "name": "ipython",
    "version": 3
   },
   "file_extension": ".py",
   "mimetype": "text/x-python",
   "name": "python",
   "nbconvert_exporter": "python",
   "pygments_lexer": "ipython3",
   "version": "3.8.13"
  },
  "orig_nbformat": 4
 },
 "nbformat": 4,
 "nbformat_minor": 2
}
