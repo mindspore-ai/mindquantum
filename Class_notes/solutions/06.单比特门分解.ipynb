{
 "cells": [
  {
   "cell_type": "markdown",
   "metadata": {},
   "source": [
    "# Exercise 1\n",
    "\n",
    "给出 $H$ 门的Z-Y-Z分解"
   ]
  },
  {
   "cell_type": "markdown",
   "metadata": {},
   "source": [
    "$$\n",
    "H = \n",
    "\\begin{pmatrix}\n",
    "\\frac{1}{\\sqrt{2}}  &   \\frac{1}{\\sqrt{2}} \\\\\n",
    "\\frac{1}{\\sqrt{2}}  &   -\\frac{1}{\\sqrt{2}}\n",
    "\\end{pmatrix}\n",
    "= \\begin{pmatrix}\n",
    "e^{i0}\\cos{\\gamma\\over 2}   &   -e^{i\\pi}\\sin{\\gamma\\over 2}    \\\\\n",
    "e^{i0}\\sin{\\gamma\\over 2}   &   e^{i\\pi}\\cos{\\gamma\\over 2}\n",
    "\\end{pmatrix}\n",
    "$$\n",
    "\n",
    "因此\n",
    "$$\n",
    "\\begin{cases}\n",
    "\\alpha = {\\pi \\over 2} \\\\\n",
    "\\beta = 0 \\\\\n",
    "\\gamma = {\\pi \\over 2} \\\\\n",
    "\\delta = \\pi\n",
    "\\end{cases}\n",
    "$$"
   ]
  },
  {
   "cell_type": "code",
   "execution_count": 1,
   "metadata": {},
   "outputs": [
    {
     "name": "stdout",
     "output_type": "stream",
     "text": [
      "True\n"
     ]
    }
   ],
   "source": [
    "from mindquantum.core.gates import RZ, RY, H\n",
    "import numpy as np\n",
    "\n",
    "rz1 = RZ(0).matrix()\n",
    "ry = RY(np.pi / 2).matrix()\n",
    "rz2 = RZ(np.pi).matrix()\n",
    "h = H.matrix()\n",
    "\n",
    "print(np.allclose(h, np.exp(complex(0, np.pi / 2)) * rz1 @ ry @ rz2))"
   ]
  }
 ],
 "metadata": {
  "kernelspec": {
   "display_name": "Python 3 (ipykernel)",
   "language": "python",
   "name": "python3"
  },
  "language_info": {
   "codemirror_mode": {
    "name": "ipython",
    "version": 3
   },
   "file_extension": ".py",
   "mimetype": "text/x-python",
   "name": "python",
   "nbconvert_exporter": "python",
   "pygments_lexer": "ipython3",
   "version": "3.7.5"
  },
  "vscode": {
   "interpreter": {
    "hash": "fe23db6dbd04142dcf620a84033ad5fbdd1968100e6cb68cefa531a9613914d5"
   }
  }
 },
 "nbformat": 4,
 "nbformat_minor": 2
}
