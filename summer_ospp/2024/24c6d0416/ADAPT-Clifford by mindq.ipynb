{
 "cells": [
  {
   "cell_type": "markdown",
   "id": "504933ae-2f52-4b78-a5b4-b32587099673",
   "metadata": {
    "jp-MarkdownHeadingCollapsed": true,
    "tags": []
   },
   "source": [
    "# Import"
   ]
  },
  {
   "cell_type": "code",
   "execution_count": 1,
   "id": "eccc860d-8fa2-4c3f-9d7f-885b9aca9236",
   "metadata": {},
   "outputs": [],
   "source": [
    "'''\n",
    "    提示：因为要求使用 mindquantum==0.9.0 但 stabilizer Simulator 功能尚不完善\n",
    "    所以 只能通过mindquantum实现 小比特的 线路求解\n",
    "'''\n",
    "import numpy as np    \n",
    "from mindquantum.core.gates import Z, H, X, S, CNOT\n",
    "from mindquantum.simulator import Simulator  \n",
    "from mindquantum.core.circuit import Circuit \n",
    "from mindquantum.core.operators import QubitOperator, Hamiltonian, commutator\n",
    "import networkx as nx\n",
    "from openqaoa.problems import MaximumCut\n",
    "from openqaoa.utilities import ground_state_hamiltonian\n",
    "from openqaoa.utilities import plot_graph\n",
    "import copy\n",
    "import random"
   ]
  },
  {
   "cell_type": "markdown",
   "id": "d030f4a2-9deb-454d-991f-94db4f2d415a",
   "metadata": {
    "jp-MarkdownHeadingCollapsed": true,
    "tags": []
   },
   "source": [
    "# Functions"
   ]
  },
  {
   "cell_type": "markdown",
   "id": "f499532b-26db-491d-96ac-5e9930518125",
   "metadata": {
    "jp-MarkdownHeadingCollapsed": true,
    "tags": []
   },
   "source": [
    "### hamil: the Hamiltonian"
   ]
  },
  {
   "cell_type": "code",
   "execution_count": 2,
   "id": "78ba4414-08c1-41b9-a5ec-de8fb24319e7",
   "metadata": {},
   "outputs": [],
   "source": [
    "'''\n",
    "   构建问题的哈密顿量，Hc = 1/2 ∑(wZZ)\n",
    "   qubo 是通过 openqaoa.problems 的 MaximumCut 生成的 maxcut graph\n",
    "'''\n",
    "def hamil(qubo):\n",
    "    def hamil_str(pos):\n",
    "        result = f'Z{pos[0]} Z{pos[1]}'\n",
    "        return result\n",
    "\n",
    "    ising = qubo.terms\n",
    "    weights = qubo.weights  \n",
    "\n",
    "    hamil_op = QubitOperator()\n",
    "    \n",
    "    for index,term in enumerate(ising):\n",
    "        hamil_op += QubitOperator(hamil_str(term), weights[index]/2)\n",
    "    \n",
    "    return hamil_op"
   ]
  },
  {
   "cell_type": "markdown",
   "id": "97162fd9-485b-4624-befa-442b43894971",
   "metadata": {
    "jp-MarkdownHeadingCollapsed": true,
    "tags": []
   },
   "source": [
    "### derivative:"
   ]
  },
  {
   "cell_type": "code",
   "execution_count": 3,
   "id": "7ae03311-2cf8-430a-8602-491fe6c62d55",
   "metadata": {},
   "outputs": [],
   "source": [
    "'''\n",
    "   求 [Hc,Ac] 对当前线路的期望值 -i <ψ| [Hc,Ac] |ψ>\n",
    "   因为结果的虚部一定为0，所以最后只取实部\n",
    "'''\n",
    "\n",
    "def derivative(qubo, qubits, mixer, circ):\n",
    "    commu = (-1j) * commutator(hamil(qubo), QubitOperator(mixer))\n",
    "    ham = Hamiltonian(commu)\n",
    "    \n",
    "    sim = Simulator('mqvector', qubits)\n",
    "    expectation = sim.get_expectation(ham, circ)\n",
    "    return expectation.real"
   ]
  },
  {
   "cell_type": "markdown",
   "id": "7138f784-4d13-43f6-b6e3-6d777813d2c9",
   "metadata": {
    "jp-MarkdownHeadingCollapsed": true,
    "tags": []
   },
   "source": [
    "### Graph:Make and Plot"
   ]
  },
  {
   "cell_type": "code",
   "execution_count": 4,
   "id": "f612293a-8415-4c0d-bd84-3fb128067c98",
   "metadata": {},
   "outputs": [],
   "source": [
    "'''\n",
    "   用 MaximumCut 接口生成自定义的 maxcut graph\n",
    "   qubo.weights 和 qubo.terms 可以获取该 graph 的权重列表和连线列表\n",
    "   只提供 uniform 权重分布\n",
    "   draw_graph: 图的绘制\n",
    "'''\n",
    "def graph_complete(nodes):\n",
    "    G = nx.complete_graph(nodes)\n",
    "\n",
    "    for (u, v) in G.edges():\n",
    "        G.edges[u,v]['weight'] = np.random.uniform(0, 1)\n",
    "    return MaximumCut(G).qubo\n",
    "\n",
    "def draw_graph(qubo):\n",
    "    G = nx.Graph()\n",
    "    for edge, weight in zip(qubo.terms, qubo.weights):\n",
    "        G.add_edge(edge[0], edge[1], weight=weight)\n",
    "    plot_graph(G)"
   ]
  },
  {
   "cell_type": "markdown",
   "id": "39641331-7623-4a33-8c92-3c4108fe4761",
   "metadata": {
    "jp-MarkdownHeadingCollapsed": true,
    "tags": []
   },
   "source": [
    "### extract_numbers: A tool"
   ]
  },
  {
   "cell_type": "code",
   "execution_count": 5,
   "id": "fa645a04-a172-49c9-9e44-82be0835c7d1",
   "metadata": {},
   "outputs": [],
   "source": [
    "'''\n",
    "    一种提取工具\n",
    "'''\n",
    "import re\n",
    "def extract_numbers(s):\n",
    "    match = re.match(r'(\\D+)(\\d+) (\\D+)(\\d+)', s)\n",
    "    if match:\n",
    "        # 提取匹配的数字部分\n",
    "        n = int(match.group(2))\n",
    "        m = int(match.group(4))\n",
    "        return n, m"
   ]
  },
  {
   "cell_type": "markdown",
   "id": "75dfc6ca-9882-4130-a142-b930e41bf673",
   "metadata": {
    "jp-MarkdownHeadingCollapsed": true,
    "tags": []
   },
   "source": [
    "### Rzy Gate"
   ]
  },
  {
   "cell_type": "code",
   "execution_count": 6,
   "id": "0d29d3d6-8164-4299-8edc-eb3f5deb026a",
   "metadata": {},
   "outputs": [],
   "source": [
    "from mindquantum.core.gates import gene_univ_parameterized_gate\n",
    "import numba\n",
    "'''\n",
    "   定义 Rzy 门，Rzy(θ) = exp(-i θ/2 (Y⊗Z) )\n",
    "   .on([a,b])\n",
    "   当 a>b, 作用 exp(-i θ/2 (Y⊗Z) )\n",
    "   当 a<b, 作用 exp(-i θ/2 (Z⊗Y) )\n",
    "   因为mindquantum 0.9.0 中的双比特旋转门无法实现 非对称。只能通过 该接口构建\n",
    "'''\n",
    "def matrix(alpha):\n",
    "    ep = np.cos(alpha/2)\n",
    "    em = np.sin(alpha/2)\n",
    "    return np.array([\n",
    "        [ep + 0.0j, 0.0j, -em + 0.0j, 0.0j],\n",
    "        [0.0j, ep + 0.0j, 0.0j, em + 0.0j],\n",
    "        [em + 0.0j, 0.0j, ep + 0.0j, 0.0j],\n",
    "        [0.0j, -em + 0.0j, 0.0j, ep + 0.0j]\n",
    "    ])\n",
    "def diff_matrix(alpha):\n",
    "    ep = -0.5 * np.sin(alpha/2)\n",
    "    em = 0.5 * np.cos(alpha/2)\n",
    "    return np.array([\n",
    "        [ep + 0.0j, 0.0j, -em + 0.0j, 0.0j],\n",
    "        [0.0j, ep + 0.0j, 0.0j, em + 0.0j],\n",
    "        [em + 0.0j, 0.0j, ep + 0.0j, 0.0j],\n",
    "        [0.0j, -em + 0.0j, 0.0j, ep + 0.0j]\n",
    "    ])\n",
    "Rzy = gene_univ_parameterized_gate('Rzy', matrix, diff_matrix)"
   ]
  },
  {
   "cell_type": "markdown",
   "id": "e1efb555-197f-4c9a-b67c-30904b9397ea",
   "metadata": {
    "jp-MarkdownHeadingCollapsed": true,
    "tags": []
   },
   "source": [
    "# Adapt Clifford Algorithm"
   ]
  },
  {
   "cell_type": "code",
   "execution_count": 7,
   "id": "9408995b-f01d-40f2-8a4b-7310298f29a7",
   "metadata": {},
   "outputs": [],
   "source": [
    "'''\n",
    "    t: 随机初试值\n",
    "    第一层的 mixers: Ya Zb, 后面的 mixers: Za Yb\n",
    "    ADAPT-Clifford 分为 randomized 和 deterministic 方法\n",
    "        randomized: 随机一个初始值 t\n",
    "        deterministic: 所有初试值都尝试一遍，然后取最小的期望值\n",
    "'''\n",
    "def adapt_clifford(nodes, t, qubo):\n",
    "    all_num = list(range(nodes))\n",
    "    l = 0\n",
    "    a = [t]\n",
    "    b = [n for n in all_num if n!= t]\n",
    "    mixers = [f'Y{i} Z{j}' for i in a for j in b]\n",
    "\n",
    "    circ = Circuit()\n",
    "    for i in range(nodes):\n",
    "        circ += H.on(i)\n",
    "    circ.barrier()\n",
    "    circ += Z.on(t)\n",
    "\n",
    "    while True:\n",
    "        gradients = []\n",
    "        for mixer in mixers:\n",
    "            gradients.append(derivative(qubo, nodes, mixer, circ)) \n",
    "        mix = mixers[np.argmax(gradients)]\n",
    "\n",
    "        if l == 0:\n",
    "            k,j=extract_numbers(mix)\n",
    "            circ += Rzy(-np.pi/2).on([j,k])\n",
    "            circ.barrier()\n",
    "        if l > 0:\n",
    "            k,j=extract_numbers(mix)\n",
    "            circ += Rzy(-np.pi/2).on([k,j])\n",
    "            circ.barrier()\n",
    "        \n",
    "        a.append(j)\n",
    "        b.remove(j)\n",
    "        mixers = [f'Z{i} Y{j}' for i in a for j in b]\n",
    "\n",
    "        l += 1\n",
    "        if l == nodes - 1:\n",
    "            return circ\n",
    "\n",
    "## 补全法adapt(消除随机误差)  \n",
    "def deterministic(qubo,nodes):\n",
    "    STATE = []\n",
    "    RES = []\n",
    "    for i in range(nodes):\n",
    "        circ = adapt_clifford(nodes, i, qubo)\n",
    "        sim = Simulator('mqvector', nodes)\n",
    "        exp = sim.get_expectation(Hamiltonian(hamil(qubo)), circ)\n",
    "    \n",
    "        STATE.append(circ.get_qs(ket=True))\n",
    "        RES.append(exp.real)      \n",
    "    return STATE[np.argmin(RES)], min(RES)\n",
    "\n",
    "## 随机法adapt(初始随机值产生误差)  \n",
    "def randomized(qubo,nodes):\n",
    "    t = random.choice(list(range(nodes)))\n",
    "\n",
    "    circ = adapt_clifford(nodes,t,qubo)\n",
    "    sim = Simulator('mqvector', nodes)\n",
    "    exp = sim.get_expectation(Hamiltonian(hamil(qubo)), circ)\n",
    "    return circ.get_qs(ket=True), exp.real"
   ]
  },
  {
   "cell_type": "markdown",
   "id": "fa3e7f08-337c-477d-a9b4-a24b31f0adb4",
   "metadata": {
    "tags": []
   },
   "source": [
    "# Set Test Problem"
   ]
  },
  {
   "cell_type": "code",
   "execution_count": 9,
   "id": "55323178-4dab-4dc5-b5f5-a05a1fe7df21",
   "metadata": {},
   "outputs": [
    {
     "data": {
      "image/png": "[encoded data removed]",
      "text/plain": [
       "<Figure size 1000x600 with 2 Axes>"
      ]
     },
     "metadata": {},
     "output_type": "display_data"
    }
   ],
   "source": [
    "NODES = 6\n",
    "qubo = graph_complete(NODES)\n",
    "draw_graph(qubo)"
   ]
  },
  {
   "cell_type": "code",
   "execution_count": 10,
   "id": "09d6e9ec-4ef2-4950-8ee9-efbc569a9051",
   "metadata": {},
   "outputs": [
    {
     "name": "stdout",
     "output_type": "stream",
     "text": [
      "√2/2¦010011⟩\n",
      "-√2/2¦101100⟩\n",
      "-1.7179187705276238\n",
      "CPU times: total: 62.5 ms\n",
      "Wall time: 57 ms\n"
     ]
    }
   ],
   "source": [
    "%%time\n",
    "state,energy = randomized(qubo,NODES)\n",
    "print(state)\n",
    "print(energy)"
   ]
  },
  {
   "cell_type": "code",
   "execution_count": 11,
   "id": "981a9d0c-acdd-4bdc-a9d4-7c51e46de1a6",
   "metadata": {
    "tags": []
   },
   "outputs": [
    {
     "name": "stdout",
     "output_type": "stream",
     "text": [
      "-√2/2¦010011⟩\n",
      "√2/2¦101100⟩\n",
      "-1.7179187705276238\n",
      "CPU times: total: 344 ms\n",
      "Wall time: 324 ms\n"
     ]
    }
   ],
   "source": [
    "%%time\n",
    "state,energy = deterministic(qubo,NODES)\n",
    "print(state)\n",
    "print(energy)"
   ]
  },
  {
   "cell_type": "code",
   "execution_count": 12,
   "id": "65a0da0e-7fb1-44bc-9169-a634b2c33c89",
   "metadata": {},
   "outputs": [
    {
     "name": "stdout",
     "output_type": "stream",
     "text": [
      "-1.717918770527623 ['110010', '001101']\n"
     ]
    }
   ],
   "source": [
    "ground_state_energy, ground_state_configuration = ground_state_hamiltonian(qubo.hamiltonian)\n",
    "print(ground_state_energy/2, ground_state_configuration)"
   ]
  },
  {
   "cell_type": "code",
   "execution_count": 5,
   "id": "1c095128-3ee6-4c48-8d44-462a0597d2b0",
   "metadata": {},
   "outputs": [],
   "source": [
    "def Hc_matrix(qubo,nodes):\n",
    "    I = np.array([[1,0],[0,1]])\n",
    "    Z = np.array([[1,0],[0,-1]])\n",
    "\n",
    "    def Pro(edge):\n",
    "        def string(nodes, edge):\n",
    "            result = ['I'] * nodes\n",
    "            i, j = edge\n",
    "            result[i] = 'Z'\n",
    "            result[j] = 'Z'\n",
    "            return ''.join(result)\n",
    "        str1 = string(nodes, edge)\n",
    "        \n",
    "        for i in range(len(str1)):\n",
    "            if i==0:\n",
    "                if str1[i] == 'I':\n",
    "                    res = I\n",
    "                else: res = Z\n",
    "            else:\n",
    "                if str1[i] == 'I':\n",
    "                    res = np.kron(res,I)\n",
    "                else: res = np.kron(res,Z)\n",
    "        return res\n",
    "    k=0\n",
    "    for i in range(len(qubo.terms)):\n",
    "        k += qubo.weights[i]*Pro(qubo.terms[i])\n",
    "    return k/2\n",
    "    \n",
    "def state_vector(arr):\n",
    "    p = list(arr)\n",
    "    P = [0 if x == 1 else 1 for x in p]\n",
    "    \n",
    "    pos = np.array([[0],[1]],dtype=complex)\n",
    "    neg = np.array([[1],[0]],dtype=complex)\n",
    "    \n",
    "    def Pro(l):\n",
    "        for i in range(len(l)):\n",
    "            if i == 0:\n",
    "                if l[i] == 0:\n",
    "                    res = neg\n",
    "                else: res = pos\n",
    "            else:\n",
    "                if l[i] == 0:\n",
    "                    res = np.kron(res, neg)\n",
    "                else: res = np.kron(res, pos)\n",
    "        return res\n",
    "    return 1/np.sqrt(2) * (Pro(p)-Pro(P))"
   ]
  },
  {
   "cell_type": "code",
   "execution_count": 10,
   "id": "1f244504-4547-4c8a-accf-7395c3517afc",
   "metadata": {},
   "outputs": [],
   "source": [
    "import cvxpy as cp\n",
    "def GW(qubo,times,nodes):\n",
    "    \n",
    "    terms = qubo.terms\n",
    "    weights = qubo.weights\n",
    "    W = np.zeros((nodes, nodes))\n",
    "    for i in range(len(terms)):\n",
    "        W[terms[i][0], terms[i][1]] = weights[i]\n",
    "        W[terms[i][1], terms[i][0]] = weights[i]\n",
    "\n",
    "    X_v = cp.Variable((nodes,nodes), symmetric=True)\n",
    "    obj = cp.Maximize(cp.sum(cp.multiply(W,(1-X_v))))\n",
    "    cons = [X_v >> 0]\n",
    "    cons += [X_v[i,i] == 1 for i in range(nodes)]\n",
    "\n",
    "    prob = cp.Problem(obj,cons)\n",
    "    prob.solve()\n",
    "    X_opt = X_v.value\n",
    "    e_vals,e_vecs = np.linalg.eigh(X_opt)\n",
    "\n",
    "    res = []\n",
    "    ass = []\n",
    "    for time in range(times):\n",
    "        r = np.random.randn(nodes)\n",
    "        r = r/np.linalg.norm(r)\n",
    "\n",
    "        assig = np.sign(e_vecs.T @ r)\n",
    "        assig[assig == -1] = 0\n",
    "        ass.append(assig)\n",
    "        \n",
    "        A = [i for i in range(nodes) if assig[i] > 0]\n",
    "        B = [i for i in range(nodes) if assig[i] <= 0]\n",
    "        cut = sum(W[i, j] for i in A for j in B if W[i, j] > 0)\n",
    "        res.append(cut)\n",
    "\n",
    "    partition = ass[np.argmax(res)]\n",
    "\n",
    "    exp = np.dot(np.conj(state_vector(partition)).T, np.dot(Hc_matrix(qubo,nodes),state_vector(partition)) )\n",
    "    return partition,exp.real[0][0]"
   ]
  }
 ],
 "metadata": {
  "kernelspec": {
   "display_name": "Python 3 (ipykernel)",
   "language": "python",
   "name": "python3"
  },
  "language_info": {
   "codemirror_mode": {
    "name": "ipython",
    "version": 3
   },
   "file_extension": ".py",
   "mimetype": "text/x-python",
   "name": "python",
   "nbconvert_exporter": "python",
   "pygments_lexer": "ipython3",
   "version": "3.9.13"
  }
 },
 "nbformat": 4,
 "nbformat_minor": 5
}
