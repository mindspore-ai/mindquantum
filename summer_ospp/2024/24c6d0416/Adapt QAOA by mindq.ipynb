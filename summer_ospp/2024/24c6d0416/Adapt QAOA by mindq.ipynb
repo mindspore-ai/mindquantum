{
 "cells": [
  {
   "cell_type": "markdown",
   "id": "bb087d5c-6904-4222-ab8f-520612a383c4",
   "metadata": {
    "jp-MarkdownHeadingCollapsed": true,
    "tags": []
   },
   "source": [
    "# Import"
   ]
  },
  {
   "cell_type": "code",
   "execution_count": 1,
   "id": "df2ec1e1-c093-4a5e-b9e8-40e47e577c56",
   "metadata": {},
   "outputs": [],
   "source": [
    "import numpy as np                           \n",
    "from mindquantum.core.gates import X, Y, Z, I, H, Rzz, RZ, RY, RX, Rxx, Ryy   \n",
    "from mindquantum.simulator import Simulator  \n",
    "from mindquantum.core.circuit import Circuit \n",
    "from mindquantum.core.parameterresolver import ParameterResolver\n",
    "from mindquantum.core.gates import Measure  \n",
    "from mindquantum.core.operators import QubitOperator, Hamiltonian, commutator\n",
    "import networkx as nx\n",
    "import re\n",
    "import copy\n",
    "import matplotlib.pyplot as plt\n",
    "from openqaoa.utilities import ground_state_hamiltonian\n",
    "from openqaoa.problems import MaximumCut\n",
    "from openqaoa.utilities import plot_graph"
   ]
  },
  {
   "cell_type": "markdown",
   "id": "17a0b3db-e895-4f64-aa76-f31fd5dd5b32",
   "metadata": {
    "jp-MarkdownHeadingCollapsed": true,
    "tags": []
   },
   "source": [
    "# QAOA cost Hamilton, Mixer Functions"
   ]
  },
  {
   "cell_type": "markdown",
   "id": "1f780ede-da96-484e-81d8-c8ca1d14f964",
   "metadata": {
    "jp-MarkdownHeadingCollapsed": true,
    "tags": []
   },
   "source": [
    "### Rzy Gate"
   ]
  },
  {
   "cell_type": "code",
   "execution_count": 2,
   "id": "1e64b75c-e43e-4a35-afe3-b7555ee8422d",
   "metadata": {},
   "outputs": [],
   "source": [
    "from mindquantum.core.gates import gene_univ_parameterized_gate\n",
    "import numba\n",
    "'''\n",
    "   定义 Rzy 门，Rzy(θ) = exp(-i θ/2 (Y⊗Z) )\n",
    "   .on([a,b])\n",
    "   当 a>b, 作用 exp(-i θ/2 (Y⊗Z) )\n",
    "   当 a<b, 作用 exp(-i θ/2 (Z⊗Y) )\n",
    "'''\n",
    "def matrix(alpha):\n",
    "    ep = np.cos(alpha/2)\n",
    "    em = np.sin(alpha/2)\n",
    "    return np.array([\n",
    "        [ep + 0.0j, 0.0j, -em + 0.0j, 0.0j],\n",
    "        [0.0j, ep + 0.0j, 0.0j, em + 0.0j],\n",
    "        [em + 0.0j, 0.0j, ep + 0.0j, 0.0j],\n",
    "        [0.0j, -em + 0.0j, 0.0j, ep + 0.0j]\n",
    "    ])\n",
    "def diff_matrix(alpha):\n",
    "    ep = -0.5 * np.sin(alpha/2)\n",
    "    em = 0.5 * np.cos(alpha/2)\n",
    "    return np.array([\n",
    "        [ep + 0.0j, 0.0j, -em + 0.0j, 0.0j],\n",
    "        [0.0j, ep + 0.0j, 0.0j, em + 0.0j],\n",
    "        [em + 0.0j, 0.0j, ep + 0.0j, 0.0j],\n",
    "        [0.0j, -em + 0.0j, 0.0j, ep + 0.0j]\n",
    "    ])\n",
    "Rzy = gene_univ_parameterized_gate('Rzy', matrix, diff_matrix)"
   ]
  },
  {
   "cell_type": "markdown",
   "id": "e9d9d26c-ba4a-4b43-830b-0426dae32738",
   "metadata": {
    "jp-MarkdownHeadingCollapsed": true,
    "tags": []
   },
   "source": [
    "### qaoa_hamil: add a layer of Rzz"
   ]
  },
  {
   "cell_type": "code",
   "execution_count": 3,
   "id": "70c44131-dad5-4a68-981c-78eb50180bcb",
   "metadata": {},
   "outputs": [],
   "source": [
    "'''\n",
    "   对当前线路 circ 加上一层 Rzz 门\n",
    "'''\n",
    "def qaoa_hamil(circ, qubo, gamma):\n",
    "    ising = qubo.terms\n",
    "    weight = qubo.weights\n",
    "    \n",
    "    if isinstance(gamma, str):\n",
    "        for index, term in enumerate(ising):\n",
    "            pr = ParameterResolver({gamma : weight[index]})\n",
    "            circ += Rzz(pr).on([term[0], term[1]])\n",
    "            \n",
    "    if isinstance(gamma, (int, float)):\n",
    "        for index, term in enumerate(ising):\n",
    "            circ += Rzz(gamma*weight[index]).on([term[0], term[1]])\n",
    "\n",
    "    circ.barrier()"
   ]
  },
  {
   "cell_type": "markdown",
   "id": "3d7ade11-e7bd-4fd8-a082-9f2dd5e121d9",
   "metadata": {
    "jp-MarkdownHeadingCollapsed": true,
    "tags": []
   },
   "source": [
    "### qaoa_mixer:add a layer of mixer"
   ]
  },
  {
   "cell_type": "code",
   "execution_count": 4,
   "id": "d0e68319-73c1-4084-8093-60c5b8002cb1",
   "metadata": {},
   "outputs": [],
   "source": [
    "'''\n",
    "   根据 mixer，对当前线路 circ 加上一层对应的 U\n",
    "'''\n",
    "def qaoa_mixer(circ, mixer_str, beta, qubits):\n",
    "\n",
    "    letters = re.findall(r'[A-Z]', mixer_str)\n",
    "    numbers = re.findall(r'\\d+', mixer_str)\n",
    "    letters_str = ''.join(letters)\n",
    "    nums = [int(num) for num in numbers]\n",
    "    \n",
    "    pr = ParameterResolver({beta : 2})\n",
    "    \n",
    "    if letters_str == 'XX':\n",
    "        circ += Rxx(pr).on(nums)\n",
    "    if letters_str == 'YY':\n",
    "        circ += Ryy(pr).on(nums)\n",
    "    if letters_str == 'YZ':\n",
    "        circ += Rzy(pr).on([max(nums),min(nums)])\n",
    "    if letters_str == 'ZY':\n",
    "        circ += Rzy(pr).on([min(nums),max(nums)])\n",
    "    if letters_str == 'X'*qubits:\n",
    "        for i in range(qubits):\n",
    "            circ += RX(pr).on(i)\n",
    "    if letters_str == 'Y'*qubits:\n",
    "        for i in range(qubits):\n",
    "            circ += RY(pr).on(i)\n",
    "    if letters_str == 'X':\n",
    "        circ += RX(pr).on(nums)\n",
    "    if letters_str == 'Y':\n",
    "        circ += RY(pr).on(nums) \n",
    "    circ.barrier()"
   ]
  },
  {
   "cell_type": "markdown",
   "id": "f37c085c-2731-4322-bf8e-34f15d2f42f6",
   "metadata": {
    "jp-MarkdownHeadingCollapsed": true,
    "tags": []
   },
   "source": [
    "# Pool func:Creating Operator String Pool"
   ]
  },
  {
   "cell_type": "code",
   "execution_count": 5,
   "id": "6abfd960-ed01-4289-a1ea-81baa05a3c54",
   "metadata": {},
   "outputs": [],
   "source": [
    "'''\n",
    "   单比特的 mixer：1.{Xj, Yj}(j=1,...,N)\n",
    "   全比特的 mixer：2.{∑Xi, ∑Yi}\n",
    "'''\n",
    "def mixer_pool_single(qubits):\n",
    "\n",
    "    pool = []\n",
    "    \n",
    "    single_X = [f'X{i}' for i in range(qubits)]\n",
    "    pool.extend(single_X)\n",
    "    \n",
    "    all_X = ' '.join([f'X{i}' for i in range(qubits)])\n",
    "    pool.extend([all_X])   \n",
    "    \n",
    "    single_Y = [f'Y{i}' for i in range(qubits)]\n",
    "    pool.extend(single_Y)\n",
    "    \n",
    "    all_Y = ' '.join([f'Y{i}' for i in range(qubits)])\n",
    "    pool.extend([all_Y])        \n",
    "\n",
    "    return pool"
   ]
  },
  {
   "cell_type": "code",
   "execution_count": 6,
   "id": "c9570228-efcf-4acb-8595-89ebef6ae5d3",
   "metadata": {},
   "outputs": [],
   "source": [
    "'''\n",
    "   双比特的 mixer：{XX, YY, YZ, ZY}\n",
    "'''\n",
    "def mixer_pool_multi(qubits):\n",
    "    number_pairs = []\n",
    "    for i in range(qubits):\n",
    "        for j in range(i + 1, qubits):\n",
    "            number_pairs.append(f'{i}{j}')\n",
    "\n",
    "    letter_pairs = ['Y Z','Z Y','X X','Y Y']\n",
    "\n",
    "    pool = []\n",
    "    for num in number_pairs:\n",
    "        for let in letter_pairs:\n",
    "            pool.append(f'{let[0]}{num[0]} {let[2]}{num[1]}')\n",
    "    return pool"
   ]
  },
  {
   "cell_type": "markdown",
   "id": "23b5ca90-18e8-4c96-a085-27f23730eb26",
   "metadata": {
    "jp-MarkdownHeadingCollapsed": true,
    "tags": []
   },
   "source": [
    "# Evaluating derivative:"
   ]
  },
  {
   "cell_type": "code",
   "execution_count": 7,
   "id": "d77b09b1-3a50-4732-be71-64a62dcfc3a9",
   "metadata": {},
   "outputs": [],
   "source": [
    "'''\n",
    "   得到问题的哈密顿量，Hc = 1/2 ∑(wZZ)\n",
    "'''\n",
    "def hamilC(qubo):\n",
    "    def hamil_str(pos):\n",
    "        result = f'Z{pos[0]} Z{pos[1]}'\n",
    "        return result\n",
    "\n",
    "    hamil_op = QubitOperator()\n",
    "    for index,term in enumerate(qubo.terms):\n",
    "        hamil_op += QubitOperator(hamil_str(term), qubo.weights[index]/2)\n",
    "    \n",
    "    return hamil_op"
   ]
  },
  {
   "cell_type": "code",
   "execution_count": 8,
   "id": "8d38b79b-6293-4f0a-b6be-800134325f76",
   "metadata": {},
   "outputs": [],
   "source": [
    "'''\n",
    "   求 [Hc,Ac] 对当前线路的期望值 -i <ψ| [Hc,Ac] |ψ>\n",
    "'''\n",
    "def derivative(qubo, qubits, mixer, circ):\n",
    "    commu = (-1j) * commutator(hamilC(qubo), QubitOperator(mixer))\n",
    "    ham = Hamiltonian(commu)\n",
    "    \n",
    "    sim = Simulator(\"mqvector\", qubits)\n",
    "    expectation = sim.get_expectation(ham, circ)\n",
    "    return expectation.real"
   ]
  },
  {
   "cell_type": "markdown",
   "id": "6f14ea94-b809-4c31-a1bf-e0ad913d5c74",
   "metadata": {
    "jp-MarkdownHeadingCollapsed": true,
    "tags": []
   },
   "source": [
    "# Optimization:using scipy"
   ]
  },
  {
   "cell_type": "code",
   "execution_count": 9,
   "id": "3141a6d8-f627-4e76-bbe0-06f8b8c64ce6",
   "metadata": {},
   "outputs": [],
   "source": [
    "from scipy.optimize import minimize\n",
    "'''\n",
    "   传统 minimize COBYLA 方法优化搜索，返回收敛值和参数值\n",
    "   每层优化前的初始值 为 上一层的优化参数 和 这一层的[0.01,0]\n",
    "'''\n",
    "def opt(qubo, circ, qubits, theta, method):\n",
    "    ham = Hamiltonian(hamilC(qubo))\n",
    "    sim = Simulator('mqvector', qubits)\n",
    "    grad_ops = sim.get_expectation_with_grad(ham, circ)\n",
    "       \n",
    "    if len(theta)<2:\n",
    "        p0 = np.array([0.01,0.0])\n",
    "    else:\n",
    "        p = np.array(list(theta.values()))\n",
    "        p0 = np.append(p,[0.01,0.0]) \n",
    "   \n",
    "    def fun(p, grad_ops):\n",
    "        f, g = grad_ops(p)\n",
    "        f = np.real(f)[0,0]\n",
    "        g = np.real(g)[0,0]\n",
    "        return f\n",
    "    \n",
    "    res = minimize(fun, p0, args=(grad_ops, ), method=method) \n",
    "    \n",
    "    return dict(zip(circ.params_name, res.x)), res.fun"
   ]
  },
  {
   "cell_type": "markdown",
   "id": "05a229e3-2337-4a22-a58b-8eb6cca2c67e",
   "metadata": {
    "jp-MarkdownHeadingCollapsed": true,
    "tags": []
   },
   "source": [
    "# Method 1: Adapt QAOA Algorithm"
   ]
  },
  {
   "cell_type": "code",
   "execution_count": 10,
   "id": "1719ff77-f627-4b91-8783-317382717a62",
   "metadata": {},
   "outputs": [],
   "source": [
    "def ADAPT_QAOA(nodes, qubo, pool, layers,method):\n",
    "\n",
    "    circ = Circuit()\n",
    "    for qubit in range(nodes):\n",
    "        circ += H.on(qubit)\n",
    "    circ.barrier()\n",
    "\n",
    "    k = 0 \n",
    "    theta = {}\n",
    "    mixers_used = []\n",
    "    allthemin = []\n",
    "    \n",
    "    while True:\n",
    "        gradients = []\n",
    "        circ_grad = copy.deepcopy(circ.apply_value(theta))\n",
    "        \n",
    "        qaoa_hamil(circ_grad, qubo, 0.01)\n",
    "               \n",
    "        for mixer in pool:\n",
    "            gradients.append(abs(derivative(qubo, nodes, mixer, circ_grad))) \n",
    "        mixers_used.append(pool[np.argmax(gradients)]) \n",
    "        \n",
    "        if k == layers: \n",
    "            return theta, allthemin, circ        \n",
    "        k += 1\n",
    "  \n",
    "        qaoa_hamil(circ, qubo, f'g{k}')\n",
    "        qaoa_mixer(circ, mixers_used[-1], f'b{k}', nodes)\n",
    "        \n",
    "        result, qubo_min = opt(qubo, circ, nodes, theta, method)\n",
    "        theta = result\n",
    "        allthemin.append(qubo_min)\n",
    "        print(k, mixers_used[-1], allthemin[-1])"
   ]
  },
  {
   "cell_type": "markdown",
   "id": "4fb3674e-44d5-4b2e-afb8-5c515eb43261",
   "metadata": {
    "jp-MarkdownHeadingCollapsed": true,
    "tags": []
   },
   "source": [
    "# Method 2: standard QAOA(the same iterative strategy)"
   ]
  },
  {
   "cell_type": "code",
   "execution_count": 11,
   "id": "a34fdc6f-ce86-40c8-96f7-44896ad187e2",
   "metadata": {},
   "outputs": [],
   "source": [
    "def QAOA(qubo, nodes, layers, method):\n",
    "    weight = qubo.weights\n",
    "    circ = Circuit()\n",
    "    for qubit in range(nodes):\n",
    "        circ += H.on(qubit)\n",
    "    circ.barrier()\n",
    "\n",
    "    def build_hc(circ, g):\n",
    "        for index,value in enumerate(qubo.terms):\n",
    "            pr = ParameterResolver({g:weight[index]})\n",
    "            circ += Rzz(pr).on(value)\n",
    "        circ.barrier()\n",
    "    def build_hb(circ, b):\n",
    "        for i in range(nodes):\n",
    "            pr = ParameterResolver({b:2})\n",
    "            circ += RX(pr).on(i)\n",
    "        circ.barrier()\n",
    "    \n",
    "    allthemin = []\n",
    "    k=0\n",
    "    theta = {}\n",
    "    while True:\n",
    "        if k == layers:\n",
    "            return theta, allthemin, circ\n",
    "        k += 1\n",
    "        \n",
    "        build_hc(circ,f'g{k}')\n",
    "        build_hb(circ,f'b{k}')\n",
    "        result, qubo_min = opt(qubo, circ, nodes, theta, method)\n",
    "        theta = result\n",
    "        allthemin.append(qubo_min)\n",
    "        print(k, allthemin[-1])"
   ]
  },
  {
   "cell_type": "markdown",
   "id": "3993c541-9513-4044-a192-851e8992c871",
   "metadata": {
    "jp-MarkdownHeadingCollapsed": true,
    "tags": []
   },
   "source": [
    "#  Maxcut Instance Function"
   ]
  },
  {
   "cell_type": "code",
   "execution_count": 12,
   "id": "08b59b50-860b-439d-8451-143311c77c28",
   "metadata": {},
   "outputs": [],
   "source": [
    "'''\n",
    "   两种图：complete、regular\n",
    "   四种权值分布：uniform、exponential、normal、uniform2\n",
    "   图的绘制\n",
    "'''\n",
    "def graph_complete(nodes, distribution):\n",
    "    G = nx.complete_graph(nodes)\n",
    "    \n",
    "    if distribution == 'uniform':\n",
    "        for (u, v) in G.edges():\n",
    "            G.edges[u,v]['weight'] = np.random.uniform(0, 1)\n",
    "    if distribution == 'exponential':\n",
    "        for (u, v) in G.edges():\n",
    "            G.edges[u,v]['weight'] = np.random.exponential(1)\n",
    "    if distribution == 'normal':\n",
    "        for (u, v) in G.edges():\n",
    "            G.edges[u,v]['weight'] = np.random.normal(0, 1)\n",
    "    if distribution == 'uniform2':\n",
    "        for (u, v) in G.edges():\n",
    "            G.edges[u,v]['weight'] = np.random.uniform(-1, 1)\n",
    "    return MaximumCut(G).qubo\n",
    "\n",
    "def draw_graph(qubo):\n",
    "    G = nx.Graph()\n",
    "    for edge, weight in zip(qubo.terms, qubo.weights):\n",
    "        G.add_edge(edge[0], edge[1], weight=weight)\n",
    "    plot_graph(G)"
   ]
  },
  {
   "cell_type": "markdown",
   "id": "d235c190-df57-4913-b37c-43b1ec835698",
   "metadata": {
    "tags": []
   },
   "source": [
    "# Set Problem"
   ]
  },
  {
   "cell_type": "code",
   "execution_count": 26,
   "id": "76813582-589a-462b-93d1-58d63d333bbb",
   "metadata": {},
   "outputs": [
    {
     "data": {
      "image/png": "[encoded data removed]",
      "text/plain": [
       "<Figure size 1000x600 with 2 Axes>"
      ]
     },
     "metadata": {},
     "output_type": "display_data"
    }
   ],
   "source": [
    "nodes = 6\n",
    "qubo = graph_complete(nodes,'uniform')\n",
    "draw_graph(qubo)"
   ]
  },
  {
   "cell_type": "code",
   "execution_count": 27,
   "id": "703d4859-0e5c-4c2a-9876-94b631a69ed8",
   "metadata": {},
   "outputs": [
    {
     "name": "stdout",
     "output_type": "stream",
     "text": [
      "1 -0.8646903929865247\n",
      "2 -1.114287927953509\n",
      "3 -1.2754692707987227\n",
      "4 -1.378974990756344\n",
      "5 -1.4482755306071313\n",
      "6 -1.5034344582961783\n",
      "7 -1.540983932585379\n",
      "8 -1.5729465731642136\n",
      "9 -1.5734133838860396\n",
      "10 -1.595261446100825\n",
      "CPU times: total: 12.5 s\n",
      "Wall time: 12.5 s\n"
     ]
    }
   ],
   "source": [
    "%%time\n",
    "pr_qaoa, value_qaoa, circ_qaoa = QAOA(qubo, nodes, 10,'bfgs')"
   ]
  },
  {
   "cell_type": "code",
   "execution_count": 28,
   "id": "ecfb9392-f20e-4c15-8659-c4fc79624f79",
   "metadata": {},
   "outputs": [
    {
     "name": "stdout",
     "output_type": "stream",
     "text": [
      "1 Y2 Z3 -0.49719359674107766\n",
      "2 Y1 Z5 -0.939554589273821\n",
      "3 Z0 Y4 -1.3166407800976072\n",
      "4 Y2 Y3 -1.47023258323764\n",
      "5 Y3 Z5 -1.517822295082618\n",
      "6 Y2 Z3 -1.598782451025789\n",
      "7 Z2 Y3 -1.617726886788217\n",
      "8 Z1 Y2 -1.619794046046913\n",
      "9 Y2 Y3 -1.6252881121377145\n",
      "10 X2 X4 -1.6252881133096\n",
      "CPU times: total: 11.5 s\n",
      "Wall time: 11.6 s\n"
     ]
    }
   ],
   "source": [
    "%%time\n",
    "pool = mixer_pool_single(nodes) + mixer_pool_multi(nodes)\n",
    "pr_adapt_qaoa, value_adapt_qaoa, circ_adapt = ADAPT_QAOA(nodes, qubo, pool, 10,'bfgs')"
   ]
  },
  {
   "cell_type": "code",
   "execution_count": 29,
   "id": "027da736-4b62-4e4e-b8a9-3c0592e6a5f4",
   "metadata": {},
   "outputs": [
    {
     "name": "stdout",
     "output_type": "stream",
     "text": [
      "Ground State energy: -1.631634435169901, Gonfiguration: ['011110', '100001']\n"
     ]
    }
   ],
   "source": [
    "energy, configuration = ground_state_hamiltonian(qubo.hamiltonian)\n",
    "print(f\"Ground State energy: {energy/2}, Gonfiguration: {configuration}\")"
   ]
  }
 ],
 "metadata": {
  "kernelspec": {
   "display_name": "Python 3 (ipykernel)",
   "language": "python",
   "name": "python3"
  },
  "language_info": {
   "codemirror_mode": {
    "name": "ipython",
    "version": 3
   },
   "file_extension": ".py",
   "mimetype": "text/x-python",
   "name": "python",
   "nbconvert_exporter": "python",
   "pygments_lexer": "ipython3",
   "version": "3.9.13"
  }
 },
 "nbformat": 4,
 "nbformat_minor": 5
}
