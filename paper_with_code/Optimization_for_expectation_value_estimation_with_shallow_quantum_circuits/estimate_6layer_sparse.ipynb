{
 "cells": [
  {
   "cell_type": "code",
   "execution_count": 1,
   "metadata": {},
   "outputs": [
    {
     "name": "stderr",
     "output_type": "stream",
     "text": [
      "/home/yuxuan/.conda/envs/mindspore/lib/python3.9/site-packages/mindquantum/__init__.py:28: UserWarning: MindSpore not installed, you may not be able to use hybrid quantum classical neural network.\n",
      "  from . import (\n"
     ]
    }
   ],
   "source": [
    "import numpy as np                           # 导入numpy库并简写为np\n",
    "from mindquantum.core.gates import X, H      # 导入量子门H, X\n",
    "from mindquantum.simulator import Simulator  # 从mindquantum.simulator中导入Simulator类\n",
    "from mindquantum.core.circuit import Circuit # 导入Circuit模块，用于搭建量子线路\n",
    "from mindquantum.core.gates import Measure   # 引入测量门"
   ]
  },
  {
   "cell_type": "markdown",
   "metadata": {},
   "source": [
    "## State vector"
   ]
  },
  {
   "cell_type": "code",
   "execution_count": 2,
   "metadata": {},
   "outputs": [],
   "source": [
    "nqubits = 8\n",
    "ham = np.load(\"hams_npy/rand_sparse_8.npy\")"
   ]
  },
  {
   "cell_type": "code",
   "execution_count": 24,
   "metadata": {},
   "outputs": [],
   "source": [
    "# plt.imshow(np.abs(ham))"
   ]
  },
  {
   "cell_type": "code",
   "execution_count": 3,
   "metadata": {},
   "outputs": [],
   "source": [
    "niter = 40\n",
    "# postfix = 'slater_plus_4to8layers_40iter'\n",
    "qasm_texts = []\n",
    "diags = np.zeros((niter, 2**nqubits))\n",
    "\n",
    "for i in range(niter):\n",
    "    with open(f'saved_models/{i}iter_6layers_rand_sparse_8_4to8layers_40iter.qasm') as file:\n",
    "        qasm_texts.append(file.read())\n",
    "    diags[i] = np.load(f'saved_models/{i}iter_6layers_diag_rand_sparse_8_4to8layers_40iter.npy')"
   ]
  },
  {
   "cell_type": "code",
   "execution_count": 4,
   "metadata": {},
   "outputs": [],
   "source": [
    "def reorder_qubits(x, nqubits):\n",
    "    return np.transpose(x.reshape([2] * nqubits)).reshape(-1)"
   ]
  },
  {
   "cell_type": "code",
   "execution_count": 5,
   "metadata": {},
   "outputs": [],
   "source": [
    "from numpy.linalg import eigh\n",
    "stvec = eigh(ham)[1][:,0]\n",
    "# stvec = 1/np.sqrt(2) * (np.zeros(2**nqubits) + np.kron([0,1], stvec))"
   ]
  },
  {
   "cell_type": "code",
   "execution_count": 6,
   "metadata": {},
   "outputs": [
    {
     "data": {
      "text/plain": [
       "-1.5324535000780617"
      ]
     },
     "execution_count": 6,
     "metadata": {},
     "output_type": "execute_result"
    }
   ],
   "source": [
    "eigh(ham)[0][0]"
   ]
  },
  {
   "cell_type": "code",
   "execution_count": 7,
   "metadata": {},
   "outputs": [
    {
     "data": {
      "text/plain": [
       "-1.5324535000780621"
      ]
     },
     "execution_count": 7,
     "metadata": {},
     "output_type": "execute_result"
    }
   ],
   "source": [
    "np.conjugate(stvec).T @ ham @ stvec"
   ]
  },
  {
   "cell_type": "code",
   "execution_count": 8,
   "metadata": {},
   "outputs": [],
   "source": [
    "# stvec"
   ]
  },
  {
   "cell_type": "code",
   "execution_count": 9,
   "metadata": {},
   "outputs": [],
   "source": [
    "import re\n",
    "import math\n",
    "\n",
    "def find_eval_replace_expressions(input_string):\n",
    "    pattern = r'(\\d*)/\\((\\d*)\\*pi\\)|(\\d*)\\*pi/(\\d*)'\n",
    "    matches = re.finditer(pattern, input_string)\n",
    "    updated_string = input_string\n",
    "    for match in matches:\n",
    "        num1 = match.group(1) if match.group(1) else match.group(3)\n",
    "        num2 = match.group(2) if match.group(2) else match.group(4)\n",
    "        result = eval(f'{num1} / {num2} * math.pi')\n",
    "        expression = match.group(0)\n",
    "        updated_string = updated_string.replace(expression, str(result), 1)  # 仅替换第一个匹配项\n",
    "\n",
    "    return updated_string"
   ]
  },
  {
   "cell_type": "code",
   "execution_count": 10,
   "metadata": {},
   "outputs": [
    {
     "data": {
      "text/plain": [
       "-1.528433487852646"
      ]
     },
     "execution_count": 10,
     "metadata": {},
     "output_type": "execute_result"
    }
   ],
   "source": [
    "from mindquantum.io import OpenQASM\n",
    "estval = 0\n",
    "sim = Simulator('mqvector', nqubits)\n",
    "\n",
    "for i in range(niter):\n",
    "    circuit = OpenQASM().from_string(find_eval_replace_expressions(qasm_texts[i]))\n",
    "    sim.reset()\n",
    "    sim.set_qs(reorder_qubits(stvec, nqubits))\n",
    "    sim.apply_circuit(circuit)\n",
    "    resstvec = sim.get_qs()\n",
    "    diags_flip = reorder_qubits(diags[i], nqubits)\n",
    "    estval += resstvec.conjugate() @ np.diag(diags_flip) @ resstvec\n",
    "\n",
    "estval_st = estval\n",
    "\n",
    "estval_st.real"
   ]
  },
  {
   "cell_type": "markdown",
   "metadata": {},
   "source": [
    "## Sampling"
   ]
  },
  {
   "cell_type": "code",
   "execution_count": 11,
   "metadata": {},
   "outputs": [],
   "source": [
    "def estimate_diag(diag_obs, bit_string_data, nshots):\n",
    "    x = np.array([[n if (j==int(bs[::-1], 2)) else 0 for j in range(len(diag_obs))] for bs, n in (bit_string_data.items())]) # the bs is inversed due to qubit order difference\n",
    "    x = np.sum(x, axis=0)\n",
    "    return np.sum(x * diag_obs) / nshots"
   ]
  },
  {
   "cell_type": "code",
   "execution_count": 12,
   "metadata": {},
   "outputs": [],
   "source": [
    "importance = np.sqrt(np.sum(np.abs(diags)**2, axis=1))"
   ]
  },
  {
   "cell_type": "code",
   "execution_count": 13,
   "metadata": {},
   "outputs": [],
   "source": [
    "importance /= np.sum(importance)"
   ]
  },
  {
   "cell_type": "code",
   "execution_count": 14,
   "metadata": {},
   "outputs": [],
   "source": [
    "import matplotlib.pyplot as plt"
   ]
  },
  {
   "cell_type": "code",
   "execution_count": 15,
   "metadata": {},
   "outputs": [
    {
     "data": {
      "text/plain": [
       "<matplotlib.collections.PathCollection at 0x7fdd77052d30>"
      ]
     },
     "execution_count": 15,
     "metadata": {},
     "output_type": "execute_result"
    },
    {
     "data": {
      "image/png": "[encoded data removed]",
      "text/plain": [
       "<Figure size 640x480 with 1 Axes>"
      ]
     },
     "metadata": {},
     "output_type": "display_data"
    }
   ],
   "source": [
    "plt.scatter(range(niter), importance)"
   ]
  },
  {
   "cell_type": "code",
   "execution_count": 16,
   "metadata": {},
   "outputs": [],
   "source": [
    "import math\n",
    "\n",
    "# nshots_total = 1000\n",
    "# nshots_iter = [math.floor(nshots_total * x) for x in importance]\n",
    "# nshots_iter = [math.floor(nshots_total / len(importance)) for x in importance]"
   ]
  },
  {
   "cell_type": "code",
   "execution_count": 17,
   "metadata": {},
   "outputs": [],
   "source": [
    "sim = Simulator('mqvector', nqubits)\n",
    "# results = []\n",
    "# estval = 0\n",
    "\n",
    "def estimtate(nshots_total):\n",
    "    estval = 0\n",
    "    nshots_iter = [math.floor(nshots_total * x) for x in importance]\n",
    "    for i in range(niter):\n",
    "        circuit = OpenQASM().from_string(find_eval_replace_expressions(qasm_texts[i]))\n",
    "        for j in range(nqubits):\n",
    "            circuit += Measure(f'q{j}').on(j)\n",
    "        sim.reset()\n",
    "        sim.set_qs(reorder_qubits(stvec, nqubits))\n",
    "        sim.apply_circuit(circuit)\n",
    "        resstvec = sim.get_qs()\n",
    "        diags_flip = reorder_qubits(diags[i], nqubits)\n",
    "        result = sim.sampling(circuit, shots=nshots_iter[i])\n",
    "        # results.append(result)\n",
    "        contribution = estimate_diag(diags_flip, result.bit_string_data, nshots_iter[i])\n",
    "        # print(i, contribution)\n",
    "        estval += contribution\n",
    "    return estval"
   ]
  },
  {
   "cell_type": "code",
   "execution_count": 18,
   "metadata": {
    "scrolled": true
   },
   "outputs": [],
   "source": [
    "nshots_total_list = range(500, 1001, 100)\n",
    "nruns = 20\n",
    "estval_list = [[estimtate(n) for n in nshots_total_list] for j in range(nruns)]"
   ]
  },
  {
   "cell_type": "code",
   "execution_count": 18,
   "metadata": {},
   "outputs": [
    {
     "name": "stderr",
     "output_type": "stream",
     "text": [
      "/home/yuxuan/.conda/envs/mindspore/lib/python3.9/site-packages/matplotlib/cbook/__init__.py:1298: ComplexWarning: Casting complex values to real discards the imaginary part\n",
      "  return np.asarray(x, float)\n"
     ]
    },
    {
     "data": {
      "text/plain": [
       "[<matplotlib.lines.Line2D at 0x7f1dfb81d160>]"
      ]
     },
     "execution_count": 18,
     "metadata": {},
     "output_type": "execute_result"
    },
    {
     "data": {
      "image/png": "[encoded data removed]",
      "text/plain": [
       "<Figure size 640x480 with 1 Axes>"
      ]
     },
     "metadata": {},
     "output_type": "display_data"
    }
   ],
   "source": [
    "for j in range(nruns):\n",
    "    plt.scatter(nshots_total_list, estval_list[j], c='blue', s=1)\n",
    "plt.plot(nshots_total_list, [estval_st] * len(nshots_total_list))\n",
    "# plt.plot(nshots_total_list, [eigenvalues[0]] * len(nshots_total_list))"
   ]
  },
  {
   "cell_type": "code",
   "execution_count": 19,
   "metadata": {},
   "outputs": [
    {
     "data": {
      "text/plain": [
       "[<matplotlib.lines.Line2D at 0x7f1dfb6d8220>]"
      ]
     },
     "execution_count": 19,
     "metadata": {},
     "output_type": "execute_result"
    },
    {
     "data": {
      "image/png": "[encoded data removed]",
      "text/plain": [
       "<Figure size 640x480 with 1 Axes>"
      ]
     },
     "metadata": {},
     "output_type": "display_data"
    }
   ],
   "source": [
    "for j in range(nruns):\n",
    "    plt.scatter(nshots_total_list, estval_list[j], c='blue', s=1)\n",
    "plt.plot(nshots_total_list, [estval_st] * len(nshots_total_list))\n",
    "# plt.plot(nshots_total_list, [eigenvalues[0]] * len(nshots_total_list))\n",
    "# plt.ylim(-3.6, -3.2)"
   ]
  },
  {
   "cell_type": "code",
   "execution_count": 20,
   "metadata": {},
   "outputs": [],
   "source": [
    "errors = np.array(estval_list)\n",
    "# errors -= eigenvalues[0]\n",
    "# errors -= estval.real\n",
    "errors = np.sqrt(np.sum(errors**2, axis=0) / nruns)"
   ]
  },
  {
   "cell_type": "code",
   "execution_count": 21,
   "metadata": {},
   "outputs": [
    {
     "data": {
      "text/plain": [
       "array([0.22981767, 0.21215502, 0.14572623, 0.19068036, 0.15318931,\n",
       "       0.18416607])"
      ]
     },
     "execution_count": 21,
     "metadata": {},
     "output_type": "execute_result"
    }
   ],
   "source": [
    "errors"
   ]
  },
  {
   "cell_type": "code",
   "execution_count": 22,
   "metadata": {},
   "outputs": [
    {
     "data": {
      "text/plain": [
       "<matplotlib.collections.PathCollection at 0x7f1dfb972f40>"
      ]
     },
     "execution_count": 22,
     "metadata": {},
     "output_type": "execute_result"
    },
    {
     "data": {
      "image/png": "[encoded data removed]",
      "text/plain": [
       "<Figure size 640x480 with 1 Axes>"
      ]
     },
     "metadata": {},
     "output_type": "display_data"
    }
   ],
   "source": [
    "plt.scatter(nshots_total_list, errors)"
   ]
  },
  {
   "cell_type": "code",
   "execution_count": 23,
   "metadata": {},
   "outputs": [],
   "source": [
    "np.savetxt('plotdata/sparse_error.txt', errors)"
   ]
  },
  {
   "cell_type": "code",
   "execution_count": null,
   "metadata": {},
   "outputs": [],
   "source": []
  }
 ],
 "metadata": {
  "kernelspec": {
   "display_name": "Python 3 (ipykernel)",
   "language": "python",
   "name": "python3"
  },
  "language_info": {
   "codemirror_mode": {
    "name": "ipython",
    "version": 3
   },
   "file_extension": ".py",
   "mimetype": "text/x-python",
   "name": "python",
   "nbconvert_exporter": "python",
   "pygments_lexer": "ipython3",
   "version": "3.9.7"
  }
 },
 "nbformat": 4,
 "nbformat_minor": 4
}
