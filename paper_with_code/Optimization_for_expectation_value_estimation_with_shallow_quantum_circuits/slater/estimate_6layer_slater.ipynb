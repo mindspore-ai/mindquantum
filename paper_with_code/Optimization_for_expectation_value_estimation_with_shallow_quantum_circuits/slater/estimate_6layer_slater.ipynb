{
 "cells": [
  {
   "cell_type": "code",
   "execution_count": 1,
   "metadata": {},
   "outputs": [
    {
     "name": "stderr",
     "output_type": "stream",
     "text": [
      "/home/yuxuan/.conda/envs/mindspore/lib/python3.9/site-packages/mindquantum/__init__.py:28: UserWarning: MindSpore not installed, you may not be able to use hybrid quantum classical neural network.\n",
      "  from . import (\n"
     ]
    }
   ],
   "source": [
    "import numpy as np                           # 导入numpy库并简写为np\n",
    "from mindquantum.core.gates import X, H      # 导入量子门H, X\n",
    "from mindquantum.simulator import Simulator  # 从mindquantum.simulator中导入Simulator类\n",
    "from mindquantum.core.circuit import Circuit # 导入Circuit模块，用于搭建量子线路\n",
    "from mindquantum.core.gates import Measure   # 引入测量门"
   ]
  },
  {
   "cell_type": "markdown",
   "metadata": {},
   "source": [
    "## State vector"
   ]
  },
  {
   "cell_type": "code",
   "execution_count": 2,
   "metadata": {},
   "outputs": [],
   "source": [
    "nqubits = 8"
   ]
  },
  {
   "cell_type": "code",
   "execution_count": 3,
   "metadata": {},
   "outputs": [],
   "source": [
    "niter = 40\n",
    "# postfix = 'slater_plus_4to8layers_40iter'\n",
    "qasm_texts = []\n",
    "diags = np.zeros((niter, 2**nqubits), dtype=complex)\n",
    "\n",
    "for i in range(niter):\n",
    "    with open(f'saved_models/{i}iter_6layers_slater_full_4to8layers_40iter.qasm') as file:\n",
    "        qasm_texts.append(file.read())\n",
    "    diags[i] = np.load(f'saved_models/{i}iter_6layers_diag_slater_full_4to8layers_40iter.npy')"
   ]
  },
  {
   "cell_type": "code",
   "execution_count": 4,
   "metadata": {},
   "outputs": [],
   "source": [
    "def reorder_qubits(x, nqubits):\n",
    "    return np.transpose(x.reshape([2] * nqubits)).reshape(-1)"
   ]
  },
  {
   "cell_type": "code",
   "execution_count": 5,
   "metadata": {},
   "outputs": [],
   "source": [
    "from scipy.linalg import eigh"
   ]
  },
  {
   "cell_type": "code",
   "execution_count": 6,
   "metadata": {},
   "outputs": [],
   "source": [
    "stvec = eigh(np.loadtxt('slater/Slater_InputState.txt', dtype=complex, delimiter=\",\"))[1][:,-1] # this input state is a density matrix"
   ]
  },
  {
   "cell_type": "code",
   "execution_count": 7,
   "metadata": {},
   "outputs": [
    {
     "data": {
      "text/plain": [
       "(-0.009779661304451022+0.00809319545972615j)"
      ]
     },
     "execution_count": 7,
     "metadata": {},
     "output_type": "execute_result"
    }
   ],
   "source": [
    "ground_trurh_val = stvec.conjugate().T @ np.loadtxt(\"slater/Slater_Ham8.txt\", dtype=complex, delimiter=\",\") @ stvec\n",
    "ground_trurh_val"
   ]
  },
  {
   "cell_type": "code",
   "execution_count": 8,
   "metadata": {},
   "outputs": [],
   "source": [
    "import re\n",
    "import math\n",
    "\n",
    "def find_eval_replace_expressions(input_string):\n",
    "    pattern = r'(\\d*)/\\((\\d*)\\*pi\\)|(\\d*)\\*pi/(\\d*)'\n",
    "    matches = re.finditer(pattern, input_string)\n",
    "    updated_string = input_string\n",
    "    for match in matches:\n",
    "        num1 = match.group(1) if match.group(1) else match.group(3)\n",
    "        num2 = match.group(2) if match.group(2) else match.group(4)\n",
    "        result = eval(f'{num1} / {num2} * math.pi')\n",
    "        expression = match.group(0)\n",
    "        updated_string = updated_string.replace(expression, str(result), 1)  # 仅替换第一个匹配项\n",
    "\n",
    "    return updated_string"
   ]
  },
  {
   "cell_type": "code",
   "execution_count": 9,
   "metadata": {},
   "outputs": [],
   "source": [
    "#from mindquantum.io import OpenQASM\n",
    "\n",
    "#circuit = OpenQASM().from_string(find_eval_replace_expressions(qasm_texts[0]))\n",
    "#circuit.svg()"
   ]
  },
  {
   "cell_type": "code",
   "execution_count": 10,
   "metadata": {},
   "outputs": [
    {
     "data": {
      "text/plain": [
       "(-0.009787907207690289+0.008714676504062272j)"
      ]
     },
     "execution_count": 10,
     "metadata": {},
     "output_type": "execute_result"
    }
   ],
   "source": [
    "from mindquantum.io import OpenQASM\n",
    "estval = 0\n",
    "sim = Simulator('mqvector', nqubits)\n",
    "\n",
    "for i in range(niter):\n",
    "    circuit = OpenQASM().from_string(find_eval_replace_expressions(qasm_texts[i]))\n",
    "    sim.reset()\n",
    "    sim.set_qs(reorder_qubits(stvec, nqubits))\n",
    "    sim.apply_circuit(circuit)\n",
    "    resstvec = sim.get_qs()\n",
    "    diags_flip = reorder_qubits(diags[i], nqubits)\n",
    "    estval += resstvec.conjugate() @ np.diag(diags_flip) @ resstvec\n",
    "\n",
    "estval_st = estval\n",
    "\n",
    "estval_st"
   ]
  },
  {
   "cell_type": "markdown",
   "metadata": {},
   "source": [
    "## Sampling"
   ]
  },
  {
   "cell_type": "code",
   "execution_count": 11,
   "metadata": {},
   "outputs": [],
   "source": [
    "importance = np.max(np.abs(diags), axis=1)"
   ]
  },
  {
   "cell_type": "code",
   "execution_count": 12,
   "metadata": {},
   "outputs": [],
   "source": [
    "importance /= np.sum(importance)"
   ]
  },
  {
   "cell_type": "code",
   "execution_count": 13,
   "metadata": {},
   "outputs": [],
   "source": [
    "import matplotlib.pyplot as plt"
   ]
  },
  {
   "cell_type": "code",
   "execution_count": 14,
   "metadata": {},
   "outputs": [
    {
     "data": {
      "text/plain": [
       "<matplotlib.collections.PathCollection at 0x7f6386aef8b0>"
      ]
     },
     "execution_count": 14,
     "metadata": {},
     "output_type": "execute_result"
    },
    {
     "data": {
      "image/png": "[encoded data removed]",
      "text/plain": [
       "<Figure size 640x480 with 1 Axes>"
      ]
     },
     "metadata": {},
     "output_type": "display_data"
    }
   ],
   "source": [
    "plt.scatter(range(niter), importance)"
   ]
  },
  {
   "cell_type": "code",
   "execution_count": 15,
   "metadata": {},
   "outputs": [],
   "source": [
    "def estimate_diag(diag_obs, bit_string_data, nshots):\n",
    "    x = np.array([[n if (j==int(bs, 2)) else 0 for j in range(len(diag_obs))] for bs, n in (bit_string_data.items())])\n",
    "    x = np.sum(x, axis=0)\n",
    "    return np.sum(x * diag_obs) / nshots"
   ]
  },
  {
   "cell_type": "code",
   "execution_count": 22,
   "metadata": {},
   "outputs": [],
   "source": [
    "import math\n",
    "\n",
    "sim = Simulator('mqvector', nqubits)\n",
    "nruns = 50\n",
    "\n",
    "def estimtate(nshots_total):\n",
    "    estval_list_run = np.zeros(nruns, dtype=complex)\n",
    "    nshots_iter = [math.floor(nshots_total * x) for x in importance]\n",
    "    for i in range(niter):\n",
    "        if nshots_iter[i]:\n",
    "            circuit = OpenQASM().from_string(find_eval_replace_expressions(qasm_texts[i]))\n",
    "            for j in range(nqubits):\n",
    "                circuit += Measure(f'q{j}').on(j)\n",
    "            diags_flip = reorder_qubits(diags[i], nqubits)\n",
    "            for j in range(nruns):\n",
    "                sim.reset()\n",
    "                sim.set_qs(reorder_qubits(stvec, nqubits))\n",
    "                result = sim.sampling(circuit, shots=nshots_iter[i])\n",
    "                contribution = estimate_diag(diags_flip, result.bit_string_data, nshots_iter[i])\n",
    "                estval_list_run[j] += contribution\n",
    "    return estval_list_run"
   ]
  },
  {
   "cell_type": "code",
   "execution_count": 23,
   "metadata": {
    "scrolled": true
   },
   "outputs": [],
   "source": [
    "nshots_total_list = [100, 200, 500]\n",
    "estval_list = np.array([estimtate(n) for n in nshots_total_list]).T"
   ]
  },
  {
   "cell_type": "code",
   "execution_count": 24,
   "metadata": {},
   "outputs": [
    {
     "data": {
      "text/plain": [
       "<matplotlib.legend.Legend at 0x7f63781500d0>"
      ]
     },
     "execution_count": 24,
     "metadata": {},
     "output_type": "execute_result"
    },
    {
     "data": {
      "image/png": "[encoded data removed]",
      "text/plain": [
       "<Figure size 640x480 with 1 Axes>"
      ]
     },
     "metadata": {},
     "output_type": "display_data"
    }
   ],
   "source": [
    "for j in range(nruns):\n",
    "    if j==0:\n",
    "        label = \"real\"\n",
    "    else:\n",
    "        label = None\n",
    "    plt.scatter(nshots_total_list, estval_list[j], c='blue', s=1, label=label)\n",
    "plt.plot(nshots_total_list, [estval_st.real] * len(nshots_total_list), \"--\", label=\"real - no fluc\")\n",
    "plt.plot(nshots_total_list, [ground_trurh_val.real] * len(nshots_total_list), label=\"real - ground truth\")\n",
    "plt.legend()"
   ]
  },
  {
   "cell_type": "code",
   "execution_count": 26,
   "metadata": {},
   "outputs": [
    {
     "data": {
      "text/plain": [
       "<matplotlib.legend.Legend at 0x7f6375989730>"
      ]
     },
     "execution_count": 26,
     "metadata": {},
     "output_type": "execute_result"
    },
    {
     "data": {
      "image/png": "[encoded data removed]",
      "text/plain": [
       "<Figure size 640x480 with 1 Axes>"
      ]
     },
     "metadata": {},
     "output_type": "display_data"
    }
   ],
   "source": [
    "for j in range(nruns):\n",
    "    if j==0:\n",
    "        label = \"imag\"\n",
    "    else:\n",
    "        label = None\n",
    "    plt.scatter(nshots_total_list, estval_list[j], c='blue', s=1, label=label)\n",
    "plt.plot(nshots_total_list, [estval_st.real] * len(nshots_total_list), \"--\", label=\"imag - no fluc\")\n",
    "plt.plot(nshots_total_list, [ground_trurh_val.real] * len(nshots_total_list), label=\"imag - ground truth\")\n",
    "plt.legend()"
   ]
  },
  {
   "cell_type": "code",
   "execution_count": 28,
   "metadata": {},
   "outputs": [],
   "source": [
    "errors = np.array(estval_list)\n",
    "errors -= ground_trurh_val\n",
    "# errors -= estval.real\n",
    "errors = np.sqrt(np.sum(np.abs(errors)**2, axis=0) / nruns)"
   ]
  },
  {
   "cell_type": "code",
   "execution_count": 29,
   "metadata": {},
   "outputs": [
    {
     "data": {
      "text/plain": [
       "array([0.12514098, 0.09281931, 0.05417415])"
      ]
     },
     "execution_count": 29,
     "metadata": {},
     "output_type": "execute_result"
    }
   ],
   "source": [
    "errors"
   ]
  },
  {
   "cell_type": "code",
   "execution_count": 30,
   "metadata": {},
   "outputs": [
    {
     "data": {
      "text/plain": [
       "<matplotlib.collections.PathCollection at 0x7f63758352e0>"
      ]
     },
     "execution_count": 30,
     "metadata": {},
     "output_type": "execute_result"
    },
    {
     "data": {
      "image/png": "[encoded data removed]",
      "text/plain": [
       "<Figure size 640x480 with 1 Axes>"
      ]
     },
     "metadata": {},
     "output_type": "display_data"
    }
   ],
   "source": [
    "plt.scatter(nshots_total_list, errors)"
   ]
  },
  {
   "cell_type": "code",
   "execution_count": 31,
   "metadata": {},
   "outputs": [],
   "source": [
    "# np.savetxt('plotdata/slater_error.txt', errors)"
   ]
  },
  {
   "cell_type": "code",
   "execution_count": null,
   "metadata": {},
   "outputs": [],
   "source": []
  }
 ],
 "metadata": {
  "kernelspec": {
   "display_name": "Python 3 (ipykernel)",
   "language": "python",
   "name": "python3"
  },
  "language_info": {
   "codemirror_mode": {
    "name": "ipython",
    "version": 3
   },
   "file_extension": ".py",
   "mimetype": "text/x-python",
   "name": "python",
   "nbconvert_exporter": "python",
   "pygments_lexer": "ipython3",
   "version": "3.9.7"
  }
 },
 "nbformat": 4,
 "nbformat_minor": 4
}
