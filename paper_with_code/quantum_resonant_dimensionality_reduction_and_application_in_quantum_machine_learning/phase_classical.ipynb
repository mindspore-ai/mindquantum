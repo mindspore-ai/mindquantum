{
 "cells": [
  {
   "cell_type": "markdown",
   "metadata": {},
   "source": [
    "# Phase learning\n",
    "\n",
    "## Prepare data"
   ]
  },
  {
   "cell_type": "code",
   "execution_count": 1,
   "metadata": {},
   "outputs": [],
   "source": [
    "import csv\n",
    "import numpy as np"
   ]
  },
  {
   "cell_type": "code",
   "execution_count": 2,
   "metadata": {},
   "outputs": [],
   "source": [
    "def load_pca(file):\n",
    "    pca4 = []\n",
    "    with open(file, \"r\") as f:\n",
    "        reader = csv.reader(f)\n",
    "        for i in reader:\n",
    "            pca4.append([complex(j.replace(\"i\", \"j\")) for j in i])\n",
    "    pca4 = np.array(pca4).T\n",
    "    pca4_phase1 = pca4[:100]\n",
    "    pca4_phase2 = pca4[100:]\n",
    "    return pca4_phase1, pca4_phase2\n",
    "\n",
    "\n",
    "pca16_phase1, pca16_phase2 = load_pca(\"DR16_phase.csv\")\n",
    "pca8_phase1, pca8_phase2 = load_pca(\"DR8_phase.csv\")"
   ]
  },
  {
   "cell_type": "code",
   "execution_count": 3,
   "metadata": {},
   "outputs": [
    {
     "data": {
      "text/plain": [
       "(100, 16)"
      ]
     },
     "execution_count": 3,
     "metadata": {},
     "output_type": "execute_result"
    }
   ],
   "source": [
    "pca16_phase1.shape"
   ]
  },
  {
   "cell_type": "code",
   "execution_count": 4,
   "metadata": {},
   "outputs": [],
   "source": [
    "import pickle\n",
    "\n",
    "\n",
    "def load_phase(file):\n",
    "    with open(file, \"rb\") as f:\n",
    "        a = pickle.load(f)\n",
    "    phase1 = []\n",
    "    for i in a.values():\n",
    "        phase1.append(np.squeeze(np.array(i)))\n",
    "    phase1 = np.array(phase1)\n",
    "    return phase1\n",
    "\n",
    "\n",
    "phase1 = load_phase(\"phase1_data.pkl\")\n",
    "phase2 = load_phase(\"phase2_data.pkl\")"
   ]
  },
  {
   "cell_type": "code",
   "execution_count": 5,
   "metadata": {},
   "outputs": [
    {
     "data": {
      "text/plain": [
       "(100, 256)"
      ]
     },
     "execution_count": 5,
     "metadata": {},
     "output_type": "execute_result"
    }
   ],
   "source": [
    "phase1.shape"
   ]
  },
  {
   "cell_type": "code",
   "execution_count": 6,
   "metadata": {},
   "outputs": [],
   "source": [
    "def prepare_dataset(phase1, phase2, rate=0.8):\n",
    "    data = np.append(phase1, phase2, axis=0)\n",
    "    label = np.zeros(data.shape[0])\n",
    "    label[phase2.shape[0] :] = 1\n",
    "    data = np.append(data, label[:, None], axis=1)\n",
    "    np.random.shuffle(data)\n",
    "    n_train = int(data.shape[0] * rate)\n",
    "    data_train = data[:n_train]\n",
    "    data_test = data[n_train:]\n",
    "    train_x = data_train[:, :-1]\n",
    "    train_y = data_train[:, -1].real.astype(np.int32)\n",
    "    test_x = data_test[:, :-1]\n",
    "    test_y = data_test[:, -1].real.astype(np.int32)\n",
    "    train_x = np.concatenate([train_x.real, train_x.imag], axis=1).astype(np.float32)\n",
    "    test_x = np.concatenate([test_x.real, test_x.imag], axis=1).astype(np.float32)\n",
    "    return (train_x, train_y), (test_x, test_y)\n",
    "\n",
    "\n",
    "# prepare_dataset(pca16_phase1, pca16_phase2)[1][0]"
   ]
  },
  {
   "cell_type": "code",
   "execution_count": 7,
   "metadata": {},
   "outputs": [
    {
     "name": "stderr",
     "output_type": "stream",
     "text": [
      "[WARNING] ME(3619505:140133724108032,MainProcess):2023-11-22-15:41:37.926.598 [mindspore/run_check/_check_version.py:102] MindSpore version 2.1.0 and cuda version 11.8.89 does not match, CUDA version [['10.1', '11.1', '11.6']] are supported by MindSpore officially. Please refer to the installation guide for version matching information: https://www.mindspore.cn/install.\n"
     ]
    }
   ],
   "source": [
    "import mindspore.nn as nn\n",
    "import mindspore as ms\n",
    "import mindspore.dataset as ds"
   ]
  },
  {
   "cell_type": "code",
   "execution_count": 8,
   "metadata": {},
   "outputs": [],
   "source": [
    "import mindspore.dataset as ds\n",
    "import mindspore as ms\n",
    "\n",
    "\n",
    "def prepare_cs_dataset(train_x, train_y, test_x, test_y, batch=10):\n",
    "    train_ds = ds.NumpySlicesDataset(\n",
    "        {\"data\": train_x, \"label\": train_y}, shuffle=True\n",
    "    ).batch(batch)\n",
    "    return train_ds, (ms.Tensor(test_x), ms.Tensor(test_y))"
   ]
  },
  {
   "cell_type": "code",
   "execution_count": 9,
   "metadata": {},
   "outputs": [],
   "source": [
    "class ClassNet(nn.Cell):\n",
    "    def __init__(self, n_feature):\n",
    "        super(ClassNet, self).__init__()\n",
    "        self.dense_relu_sequential = nn.SequentialCell(\n",
    "            nn.Dense(n_feature, 128),\n",
    "            nn.ReLU(),\n",
    "            nn.Dense(128, 128),\n",
    "            nn.ReLU(),\n",
    "            nn.Dense(128, 2),\n",
    "        )\n",
    "\n",
    "    def construct(self, x):\n",
    "        return self.dense_relu_sequential(x)\n"
   ]
  },
  {
   "cell_type": "code",
   "execution_count": 14,
   "metadata": {},
   "outputs": [
    {
     "name": "stdout",
     "output_type": "stream",
     "text": [
      "epoch: 0 [7/8]\n",
      "epoch: 1 [7/8]\n",
      "epoch: 2 [7/8]\n",
      "epoch: 3 [7/8]\n",
      "epoch: 4 [7/8]\n",
      "epoch: 5 [7/8]\n",
      "epoch: 6 [7/8]\n",
      "epoch: 7 [7/8]\n",
      "epoch: 8 [7/8]\n",
      "epoch: 9 [7/8]\n",
      "epoch: 10 [7/8]\n",
      "epoch: 11 [7/8]\n",
      "epoch: 12 [7/8]\n",
      "epoch: 13 [7/8]\n",
      "epoch: 14 [7/8]\n",
      "epoch: 15 [7/8]\n",
      "epoch: 16 [7/8]\n",
      "epoch: 17 [7/8]\n",
      "epoch: 18 [7/8]\n",
      "epoch: 19 [7/8]\n",
      "epoch: 0 [7/8]\n",
      "epoch: 1 [7/8]\n",
      "epoch: 2 [7/8]\n",
      "epoch: 3 [7/8]\n",
      "epoch: 4 [7/8]\n",
      "epoch: 5 [7/8]\n",
      "epoch: 6 [7/8]\n",
      "epoch: 7 [7/8]\n",
      "epoch: 8 [7/8]\n",
      "epoch: 9 [7/8]\n",
      "epoch: 10 [7/8]\n",
      "epoch: 11 [7/8]\n",
      "epoch: 12 [7/8]\n",
      "epoch: 13 [7/8]\n",
      "epoch: 14 [7/8]\n",
      "epoch: 15 [7/8]\n",
      "epoch: 16 [7/8]\n",
      "epoch: 17 [7/8]\n",
      "epoch: 18 [7/8]\n",
      "epoch: 19 [7/8]\n",
      "epoch: 0 [7/8]\n",
      "epoch: 1 [7/8]\n",
      "epoch: 2 [7/8]\n",
      "epoch: 3 [7/8]\n",
      "epoch: 4 [7/8]\n",
      "epoch: 5 [7/8]\n",
      "epoch: 6 [7/8]\n",
      "epoch: 7 [7/8]\n",
      "epoch: 8 [7/8]\n",
      "epoch: 9 [7/8]\n",
      "epoch: 10 [7/8]\n",
      "epoch: 11 [7/8]\n",
      "epoch: 12 [7/8]\n",
      "epoch: 13 [7/8]\n",
      "epoch: 14 [7/8]\n",
      "epoch: 15 [7/8]\n",
      "epoch: 16 [7/8]\n",
      "epoch: 17 [7/8]\n",
      "epoch: 18 [7/8]\n",
      "epoch: 19 [7/8]\n",
      "epoch: 0 [7/8]\n",
      "epoch: 1 [7/8]\n",
      "epoch: 2 [7/8]\n",
      "epoch: 3 [7/8]\n",
      "epoch: 4 [7/8]\n",
      "epoch: 5 [7/8]\n",
      "epoch: 6 [7/8]\n",
      "epoch: 7 [7/8]\n",
      "epoch: 8 [7/8]\n",
      "epoch: 9 [7/8]\n",
      "epoch: 10 [7/8]\n",
      "epoch: 11 [7/8]\n",
      "epoch: 12 [7/8]\n",
      "epoch: 13 [7/8]\n",
      "epoch: 14 [7/8]\n",
      "epoch: 15 [7/8]\n",
      "epoch: 16 [7/8]\n",
      "epoch: 17 [7/8]\n",
      "epoch: 18 [7/8]\n",
      "epoch: 19 [7/8]\n",
      "epoch: 0 [7/8]\n",
      "epoch: 1 [7/8]\n",
      "epoch: 2 [7/8]\n",
      "epoch: 3 [7/8]\n",
      "epoch: 4 [7/8]\n",
      "epoch: 5 [7/8]\n",
      "epoch: 6 [7/8]\n",
      "epoch: 7 [7/8]\n",
      "epoch: 8 [7/8]\n",
      "epoch: 9 [7/8]\n",
      "epoch: 10 [7/8]\n",
      "epoch: 11 [7/8]\n",
      "epoch: 12 [7/8]\n",
      "epoch: 13 [7/8]\n",
      "epoch: 14 [7/8]\n",
      "epoch: 15 [7/8]\n",
      "epoch: 16 [7/8]\n",
      "epoch: 17 [7/8]\n",
      "epoch: 18 [7/8]\n",
      "epoch: 19 [7/8]\n",
      "epoch: 0 [7/8]\n",
      "epoch: 1 [7/8]\n",
      "epoch: 2 [7/8]\n",
      "epoch: 3 [7/8]\n",
      "epoch: 4 [7/8]\n",
      "epoch: 5 [7/8]\n",
      "epoch: 6 [7/8]\n",
      "epoch: 7 [7/8]\n",
      "epoch: 8 [7/8]\n",
      "epoch: 9 [7/8]\n",
      "epoch: 10 [7/8]\n",
      "epoch: 11 [7/8]\n",
      "epoch: 12 [7/8]\n",
      "epoch: 13 [7/8]\n",
      "epoch: 14 [7/8]\n",
      "epoch: 15 [7/8]\n",
      "epoch: 16 [7/8]\n",
      "epoch: 17 [7/8]\n",
      "epoch: 18 [7/8]\n",
      "epoch: 19 [7/8]\n",
      "epoch: 0 [7/8]\n",
      "epoch: 1 [7/8]\n",
      "epoch: 2 [7/8]\n",
      "epoch: 3 [7/8]\n",
      "epoch: 4 [7/8]\n",
      "epoch: 5 [7/8]\n",
      "epoch: 6 [7/8]\n",
      "epoch: 7 [7/8]\n",
      "epoch: 8 [7/8]\n",
      "epoch: 9 [7/8]\n",
      "epoch: 10 [7/8]\n",
      "epoch: 11 [7/8]\n",
      "epoch: 12 [7/8]\n",
      "epoch: 13 [7/8]\n",
      "epoch: 14 [7/8]\n",
      "epoch: 15 [7/8]\n",
      "epoch: 16 [7/8]\n",
      "epoch: 17 [7/8]\n",
      "epoch: 18 [7/8]\n",
      "epoch: 19 [7/8]\n",
      "epoch: 0 [7/8]\n",
      "epoch: 1 [7/8]\n",
      "epoch: 2 [7/8]\n",
      "epoch: 3 [7/8]\n",
      "epoch: 4 [7/8]\n",
      "epoch: 5 [7/8]\n",
      "epoch: 6 [7/8]\n",
      "epoch: 7 [7/8]\n",
      "epoch: 8 [7/8]\n",
      "epoch: 9 [7/8]\n",
      "epoch: 10 [7/8]\n",
      "epoch: 11 [7/8]\n",
      "epoch: 12 [7/8]\n",
      "epoch: 13 [7/8]\n",
      "epoch: 14 [7/8]\n",
      "epoch: 15 [7/8]\n",
      "epoch: 16 [7/8]\n",
      "epoch: 17 [7/8]\n",
      "epoch: 18 [7/8]\n",
      "epoch: 19 [7/8]\n",
      "epoch: 0 [7/8]\n",
      "epoch: 1 [7/8]\n",
      "epoch: 2 [7/8]\n",
      "epoch: 3 [7/8]\n",
      "epoch: 4 [7/8]\n",
      "epoch: 5 [7/8]\n",
      "epoch: 6 [7/8]\n",
      "epoch: 7 [7/8]\n",
      "epoch: 8 [7/8]\n",
      "epoch: 9 [7/8]\n",
      "epoch: 10 [7/8]\n",
      "epoch: 11 [7/8]\n",
      "epoch: 12 [7/8]\n",
      "epoch: 13 [7/8]\n",
      "epoch: 14 [7/8]\n",
      "epoch: 15 [7/8]\n",
      "epoch: 16 [7/8]\n",
      "epoch: 17 [7/8]\n",
      "epoch: 18 [7/8]\n",
      "epoch: 19 [7/8]\n",
      "epoch: 0 [7/8]\n",
      "epoch: 1 [7/8]\n",
      "epoch: 2 [7/8]\n",
      "epoch: 3 [7/8]\n",
      "epoch: 4 [7/8]\n",
      "epoch: 5 [7/8]\n",
      "epoch: 6 [7/8]\n",
      "epoch: 7 [7/8]\n",
      "epoch: 8 [7/8]\n",
      "epoch: 9 [7/8]\n",
      "epoch: 10 [7/8]\n",
      "epoch: 11 [7/8]\n",
      "epoch: 12 [7/8]\n",
      "epoch: 13 [7/8]\n",
      "epoch: 14 [7/8]\n",
      "epoch: 15 [7/8]\n",
      "epoch: 16 [7/8]\n",
      "epoch: 17 [7/8]\n",
      "epoch: 18 [7/8]\n",
      "epoch: 19 [7/8]\n"
     ]
    }
   ],
   "source": [
    "train_type = \"classical\"\n",
    "data_type = \"origin\"\n",
    "n_feat = 2**8 * 2\n",
    "(train_x, train_y), (test_x, test_y) = prepare_dataset(phase1, phase2, 0.8)\n",
    "train_ds, (test_x, test_y) = prepare_cs_dataset(train_x, train_y, test_x, test_y, 20)\n",
    "\n",
    "\n",
    "def forward_fn(data, label):\n",
    "    logits = net(data)\n",
    "    loss = loss_fn(logits, label)\n",
    "    return loss, logits\n",
    "\n",
    "\n",
    "def train_step(data, label):\n",
    "    (loss, _), grads = grad_fn(data, label)\n",
    "    optimizer(grads)\n",
    "    return loss\n",
    "\n",
    "\n",
    "def train(model, dataset, epoch_id):\n",
    "    size = dataset.get_dataset_size()\n",
    "    model.set_train()\n",
    "    losses = []\n",
    "\n",
    "    for batch, (data, label) in enumerate(dataset.create_tuple_iterator()):\n",
    "        loss = train_step(data, label)\n",
    "        losses.append(loss)\n",
    "        if batch == size - 1:\n",
    "            print(f\"epoch: {epoch_id} [{batch}/{size}]\")\n",
    "    acc = np.mean(np.argmax(net(test_x).asnumpy(), axis=1) == test_y.asnumpy())\n",
    "    return acc, losses\n",
    "\n",
    "\n",
    "n_try = 10\n",
    "\n",
    "for i_try in range(n_try):\n",
    "    net = ClassNet(n_feat)\n",
    "    loss_fn = nn.CrossEntropyLoss()\n",
    "    optimizer = nn.SGD(net.trainable_params(), 1e-2)\n",
    "\n",
    "    grad_fn = ms.value_and_grad(forward_fn, None, optimizer.parameters, has_aux=True)\n",
    "\n",
    "    epochs = 20\n",
    "    accs = []\n",
    "    losses = []\n",
    "\n",
    "    for t in range(epochs):\n",
    "        tmp = train(net, train_ds, t)\n",
    "        accs.append(tmp[0])\n",
    "        losses.extend(tmp[1])\n",
    "    np.save(f\"{train_type}_{data_type}_try_{i_try}_acc\", accs)\n",
    "    np.save(f\"{train_type}_{data_type}_try_{i_try}_loss\", losses)"
   ]
  },
  {
   "cell_type": "code",
   "execution_count": 15,
   "metadata": {},
   "outputs": [
    {
     "data": {
      "text/plain": [
       "[<matplotlib.lines.Line2D at 0x7f725bda4a00>]"
      ]
     },
     "execution_count": 15,
     "metadata": {},
     "output_type": "execute_result"
    },
    {
     "data": {
      "image/png": "[encoded data removed]",
      "text/plain": [
       "<Figure size 640x480 with 1 Axes>"
      ]
     },
     "metadata": {},
     "output_type": "display_data"
    }
   ],
   "source": [
    "import matplotlib.pyplot as plt\n",
    "plt.plot(accs)"
   ]
  }
 ],
 "metadata": {
  "kernelspec": {
   "display_name": "base",
   "language": "python",
   "name": "python3"
  },
  "language_info": {
   "codemirror_mode": {
    "name": "ipython",
    "version": 3
   },
   "file_extension": ".py",
   "mimetype": "text/x-python",
   "name": "python",
   "nbconvert_exporter": "python",
   "pygments_lexer": "ipython3",
   "version": "3.9.13"
  }
 },
 "nbformat": 4,
 "nbformat_minor": 2
}
