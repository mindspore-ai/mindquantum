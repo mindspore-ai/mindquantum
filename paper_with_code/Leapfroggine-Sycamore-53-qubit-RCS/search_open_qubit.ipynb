{
 "cells": [
  {
   "cell_type": "code",
   "execution_count": 10,
   "metadata": {},
   "outputs": [
    {
     "name": "stdout",
     "output_type": "stream",
     "text": [
      "time complexity, space complexity, memory complexity =  (14.026790687024844, 35.0, 12.094162782023755)\n"
     ]
    }
   ],
   "source": [
    "\"\"\"\n",
    "from scheme get origin tree\n",
    "\"\"\"\n",
    "from load_circuits import QuantumCircuit\n",
    "import torch\n",
    "import numpy as np\n",
    "import sys\n",
    "from copy import deepcopy\n",
    "from artensor import (\n",
    "    AbstractTensorNetwork, \n",
    "    ContractionTree, \n",
    "    contraction_scheme_sparse,\n",
    ")\n",
    "contraction_filename = sys.path[0] + '/640G_scheme_n53_m20.pt'\n",
    "tensors, scheme, slicing_indices, bitstrings = torch.load(contraction_filename) \n",
    "sc_target = 32 # 32\n",
    "max_bitstrings = 3_000_000 # 1_000\n",
    "n, m, seq, device, seed = 53, 20, 'ABCDCDAB', 'cuda', 0\n",
    "order_origin = []\n",
    "for i in range(len(scheme)):\n",
    "    order_origin.append(scheme[i][0])\n",
    "qc = QuantumCircuit(n, m, seq=seq)\n",
    "edges = []\n",
    "for i in range(len(qc.neighbors)):\n",
    "    for j in qc.neighbors[i]:\n",
    "        if i < j:\n",
    "            edges.append((i, j))\n",
    "neighbors = list(qc.neighbors)\n",
    "final_qubits = set(range(len(neighbors) - n, len(neighbors)))\n",
    "bond_dims = {i:2.0 for i in range(len(edges))}\n",
    "tensor_bonds = {\n",
    "    i:[edges.index((min(i, j), max(i, j))) for j in neighbors[i]] \n",
    "    for i in range(len(neighbors))\n",
    "} # now all tensors will be included\n",
    "# modify tensor_bonds according to slicing_indices\n",
    "slicing_indices_keys = list(slicing_indices.keys())\n",
    "for i in range(len(slicing_indices)):\n",
    "    tensor_i, tensor_j = slicing_indices_keys[i]\n",
    "    indice_i, indice_j = slicing_indices[(tensor_i, tensor_j)]\n",
    "    tensor_bonds[tensor_i].pop(indice_i)\n",
    "    tensor_bonds[tensor_j].pop(indice_j)\n",
    "from artensor import (\n",
    "    AbstractTensorNetwork, \n",
    "    ContractionTree, \n",
    ")\n",
    "tensor_network_origin = AbstractTensorNetwork(\n",
    "        tensor_bonds,\n",
    "        bond_dims,\n",
    "        final_qubits,\n",
    "        max_bitstring=max_bitstrings)\n",
    "ctree_origin = ContractionTree(tensor_network_origin, order_origin, seed=0)\n",
    "print(\"time complexity, space complexity, memory complexity = \",ctree_origin.tree_complexity())\n",
    "ctree_new = ctree_origin.copy()"
   ]
  },
  {
   "cell_type": "code",
   "execution_count": 11,
   "metadata": {},
   "outputs": [
    {
     "name": "stdout",
     "output_type": "stream",
     "text": [
      "open_final_qubits =  []\n",
      "time complexity, space complexity, memory complexity =  (14.026790687024844, 35.0, 12.094162782023755)\n",
      "time complexity, space complexity, memory complexity = (14.026790687024844, 35.0, 12.094162782023755)\n"
     ]
    }
   ],
   "source": [
    "\"\"\"\n",
    "relative amplitudes\n",
    "\"\"\"\n",
    "# new contraction tree\n",
    "final_qubits = sorted(final_qubits)\n",
    "from artensor import ContractionTree\n",
    "open_final_qubits_tmp = []\n",
    "open_final_qubits = []\n",
    "for i in range(len(ctree_new.tree_order_dfs())-1, -1, -1):\n",
    "    tensor_id_i, tensor_id_j = ctree_new.tree_order_dfs()[i]\n",
    "    if tensor_id_j in final_qubits:\n",
    "        open_final_qubits_tmp.append(tensor_id_j)\n",
    "    open_final_qubits_tmp = sorted(open_final_qubits_tmp)\n",
    "    edges_open_tmp = edges.copy()\n",
    "    order_open = ctree_new.order.copy()\n",
    "    tensor_bonds_open = deepcopy(ctree_new.tn.tensor_bonds)\n",
    "    bond_dims_open = deepcopy(bond_dims)\n",
    "    final_qubits_open = final_qubits.copy()\n",
    "    i = 0\n",
    "    for qubit in open_final_qubits_tmp:\n",
    "        edges_open_tmp.append(qubit)\n",
    "        tensor_bonds_open[qubit] = ctree_new.tn.tensor_bonds[qubit]+[len(bond_dims)+i]\n",
    "        bond_dims_open[len(bond_dims)+i] = 2.0\n",
    "        final_qubits_open.remove(qubit)\n",
    "        i += 1\n",
    "    tensor_network_open = AbstractTensorNetwork(\n",
    "        tensor_bonds_open,\n",
    "        bond_dims_open,\n",
    "        final_qubits_open,\n",
    "        max_bitstring=max_bitstrings)\n",
    "    ctree_open_tmp = ContractionTree(tensor_network_open, order_open, seed=0)\n",
    "    if ctree_open_tmp.tree_complexity()[1] > sc_target or ctree_open_tmp.tree_complexity()[2] > ctree_new.tree_complexity()[2] + 0.2:\n",
    "        if i == 0:\n",
    "            open_final_qubits = open_final_qubits_tmp.copy()\n",
    "            ctree_open = deepcopy(ctree_open_tmp)\n",
    "            edges_open = edges_open_tmp.copy()\n",
    "        break\n",
    "    open_final_qubits = open_final_qubits_tmp.copy()\n",
    "    ctree_open = deepcopy(ctree_open_tmp)\n",
    "    edges_open = edges_open_tmp.copy()\n",
    "print('open_final_qubits = ',open_final_qubits)\n",
    "print(\"time complexity, space complexity, memory complexity = \",ctree_new.tree_complexity())\n",
    "print(\"time complexity, space complexity, memory complexity =\",ctree_open.tree_complexity())\n"
   ]
  },
  {
   "cell_type": "code",
   "execution_count": 12,
   "metadata": {},
   "outputs": [
    {
     "name": "stdout",
     "output_type": "stream",
     "text": [
      "{328: 2.0, 374: 2.0, 384: 2.0, 418: 2.0, 419: 2.0, 426: 2.0, 429: 2.0, 458: 2.0, 466: 2.0, 467: 2.0, 506: 2.0, 520: 2.0, 526: 2.0, 530: 2.0, 554: 2.0, 560: 2.0, 561: 2.0, 566: 2.0, 568: 2.0, 571: 2.0, 609: 2.0, 616: 2.0, 617: 2.0, 697: 2.0}\n"
     ]
    }
   ],
   "source": [
    "edges = []\n",
    "for i in range(len(qc.neighbors)):\n",
    "    for j in qc.neighbors[i]:\n",
    "        if i < j:\n",
    "            edges.append((i, j))\n",
    "slicing_indices = {(265, 288): (0, 2), (271, 294): (0, 2), (180, 198): (0, 2), (292, 315): (1, 2), (268, 291): (0, 2), (221, 244): (0, 3), (197, 240): (0, 2), (248, 287): (0, 3), (241, 260): (0, 3), (296, 315): (0, 2), (175, 193): (0, 2), (152, 193): (0, 2), (336, 400): (1, 1), (251, 291): (0, 2), (273, 295): (1, 3), (221, 245): (0, 2), (272, 295): (0, 2), (296, 339): (0, 2), (253, 294): (0, 2), (217, 240): (0, 2), (201, 244): (0, 2), (202, 222): (1, 2), (268, 288): (0, 2), (197, 217): (0, 1)}\n",
    "keys_list = list(slicing_indices.keys())\n",
    "\n",
    "slicing_bonds = {}\n",
    "for ind in range(len(keys_list)):\n",
    "    i = edges\n",
    "for i in range(len(edges)):\n",
    "    if edges[i] in keys_list:\n",
    "        slicing_bonds[i] = 2.0\n",
    "print(slicing_bonds)"
   ]
  },
  {
   "cell_type": "code",
   "execution_count": 13,
   "metadata": {},
   "outputs": [
    {
     "name": "stdout",
     "output_type": "stream",
     "text": [
      "[(51, 31), (51, 74), (51, 75), (117, 94), (51, 117), (52, 32), (51, 52), (160, 136), (160, 179), (201, 221), (202, 201), (160, 202), (51, 160), (164, 121), (140, 113), (164, 140), (175, 197), (132, 175), (132, 156), (132, 183), (164, 132), (51, 164), (98, 79), (55, 35), (55, 78), (98, 55), (98, 13), (70, 47), (27, 9), (27, 5), (70, 27), (90, 71), (70, 90), (98, 70), (51, 98), (143, 118), (161, 180), (137, 152), (137, 110), (161, 137), (143, 161), (95, 76), (143, 95), (51, 143), (24, 10), (24, 45), (87, 67), (66, 44), (66, 23), (87, 66), (24, 87), (28, 6), (28, 48), (24, 28), (51, 24), (56, 36), (33, 14), (56, 33), (29, 11), (56, 29), (51, 56), (102, 82), (59, 39), (102, 59), (102, 17), (81, 38), (81, 58), (81, 101), (102, 81), (103, 83), (103, 60), (103, 40), (103, 16), (126, 18), (103, 126), (102, 103), (124, 37), (125, 15), (124, 125), (102, 124), (51, 102), (186, 167), (53, 34), (186, 53), (51, 186), (25, 7), (51, 25), (165, 141), (145, 122), (165, 145), (169, 296), (188, 169), (273, 253), (273, 230), (273, 210), (188, 273), (165, 188), (168, 99), (144, 119), (168, 144), (165, 168), (51, 165), (123, 114), (100, 57), (100, 80), (123, 100), (51, 123), (96, 77), (97, 54), (96, 97), (91, 72), (91, 49), (96, 91), (51, 96), (187, 166), (142, 115), (142, 92), (187, 142), (228, 209), (208, 251), (228, 208), (252, 272), (252, 271), (252, 229), (228, 252), (187, 228), (51, 187), (162, 138), (111, 88), (162, 111), (51, 162), (30, 12), (30, 8), (93, 50), (93, 73), (30, 93), (155, 69), (46, 26), (155, 46), (89, 68), (155, 89), (30, 155), (51, 30), (250, 227), (250, 270), (269, 292), (250, 269), (226, 207), (250, 226), (248, 268), (249, 248), (249, 225), (249, 205), (249, 206), (250, 249), (139, 120), (139, 163), (139, 112), (250, 139), (51, 250), (157, 133), (157, 184), (185, 158), (157, 185), (134, 108), (157, 134), (51, 157), (105, 85), (64, 42), (105, 64), (107, 1), (105, 107), (63, 20), (63, 84), (128, 62), (41, 19), (128, 41), (63, 128), (105, 63), (21, 2), (21, 3), (61, 0), (61, 127), (21, 61), (105, 21), (65, 43), (22, 4), (65, 22), (106, 86), (65, 106), (105, 65), (51, 105), (146, 104), (146, 129), (146, 172), (177, 150), (146, 177), (153, 130), (146, 153), (51, 146), (203, 199), (203, 181), (176, 149), (176, 171), (203, 176), (218, 198), (241, 217), (218, 241), (203, 218), (51, 203), (174, 148), (174, 190), (154, 131), (174, 154), (195, 182), (174, 195), (51, 174), (173, 147), (173, 191), (223, 204), (173, 223), (215, 194), (173, 215), (51, 173), (267, 247), (224, 159), (267, 224), (267, 219), (200, 178), (200, 116), (135, 109), (135, 151), (200, 135), (267, 200), (51, 267), (259, 238), (259, 263), (239, 196), (239, 216), (239, 325), (259, 239), (243, 220), (259, 243), (51, 259), (290, 231), (290, 170), (51, 290), (282, 211), (232, 189), (282, 232), (261, 242), (261, 262), (282, 261), (51, 282), (312, 285), (293, 336), (312, 293), (289, 266), (312, 289), (246, 265), (245, 222), (246, 245), (312, 246), (51, 312), (255, 234), (255, 212), (255, 256), (279, 235), (213, 192), (279, 213), (255, 279), (51, 255), (276, 233), (276, 254), (318, 301), (276, 318), (297, 275), (276, 297), (51, 276), (344, 324), (344, 309), (344, 333), (311, 284), (344, 311), (51, 344), (363, 412), (367, 363), (321, 305), (321, 348), (329, 286), (321, 329), (367, 321), (51, 367), (328, 304), (278, 258), (328, 278), (236, 193), (214, 236), (257, 214), (257, 237), (328, 257), (342, 320), (342, 347), (299, 274), (299, 316), (342, 299), (328, 342), (51, 328), (319, 298), (319, 341), (303, 277), (319, 303), (346, 327), (319, 346), (387, 419), (387, 418), (387, 366), (319, 387), (51, 319), (300, 281), (300, 317), (323, 308), (300, 323), (365, 343), (417, 416), (417, 386), (365, 417), (300, 365), (51, 300), (411, 410), (411, 384), (411, 362), (383, 408), (411, 383), (352, 420), (352, 371), (411, 352), (51, 411), (429, 428), (429, 391), (429, 340), (429, 406), (382, 405), (361, 407), (382, 361), (360, 404), (382, 360), (429, 382), (51, 429), (375, 355), (359, 403), (375, 359), (437, 402), (395, 438), (437, 395), (375, 437), (51, 375), (370, 351), (332, 409), (370, 332), (378, 357), (338, 295), (314, 338), (378, 314), (370, 378), (445, 426), (390, 427), (445, 390), (398, 444), (445, 398), (370, 445), (51, 370), (339, 315), (339, 454), (358, 339), (358, 335), (358, 354), (394, 374), (436, 435), (394, 436), (358, 394), (401, 453), (381, 451), (401, 381), (401, 452), (434, 433), (434, 393), (401, 434), (358, 401), (51, 358), (345, 326), (345, 302), (334, 291), (353, 334), (353, 310), (345, 353), (368, 421), (345, 368), (330, 287), (330, 306), (330, 349), (330, 376), (372, 430), (264, 244), (372, 264), (330, 372), (260, 439), (260, 240), (260, 283), (330, 260), (345, 330), (396, 440), (396, 441), (396, 377), (345, 396), (356, 331), (313, 294), (313, 288), (337, 313), (356, 337), (307, 280), (356, 307), (432, 431), (432, 392), (356, 432), (373, 350), (364, 322), (373, 364), (356, 373), (345, 356), (379, 413), (389, 424), (389, 425), (379, 389), (423, 422), (423, 388), (423, 369), (423, 446), (379, 423), (345, 379), (51, 345), (450, 443), (400, 449), (450, 400), (450, 397), (380, 442), (450, 380), (399, 448), (399, 447), (450, 399), (51, 450), (415, 414), (415, 385), (51, 415)]\n"
     ]
    }
   ],
   "source": [
    "\"\"\"\n",
    "get order_slicing\n",
    "\"\"\"\n",
    "print(ctree_origin.order)"
   ]
  },
  {
   "cell_type": "code",
   "execution_count": null,
   "metadata": {},
   "outputs": [],
   "source": []
  }
 ],
 "metadata": {
  "kernelspec": {
   "display_name": "Python 3 (ipykernel)",
   "language": "python",
   "name": "python3"
  },
  "language_info": {
   "codemirror_mode": {
    "name": "ipython",
    "version": 3
   },
   "file_extension": ".py",
   "mimetype": "text/x-python",
   "name": "python",
   "nbconvert_exporter": "python",
   "pygments_lexer": "ipython3",
   "version": "3.10.11"
  }
 },
 "nbformat": 4,
 "nbformat_minor": 4
}
