{
 "cells": [
  {
   "cell_type": "markdown",
   "metadata": {},
   "source": [
    "# MindQuantum 实战与作业\n",
    "\n",
    "\n",
    "## 量子模拟器\n",
    "\n",
    "MindQuantum 中量子模拟器维护着一个量子态，通过在量子模拟器上作用一些量子门或者量子线路，我们可以改变这些量子态。"
   ]
  },
  {
   "cell_type": "code",
   "execution_count": null,
   "metadata": {},
   "outputs": [],
   "source": [
    "#!pip insatll mindquantum==0.7.0"
   ]
  },
  {
   "cell_type": "code",
   "execution_count": 1,
   "metadata": {},
   "outputs": [
    {
     "data": {
      "text/plain": [
       "projectq simulator with 1 qubit (little endian).\n",
       "Current quantum state:\n",
       "1¦0⟩"
      ]
     },
     "execution_count": 1,
     "metadata": {},
     "output_type": "execute_result"
    }
   ],
   "source": [
    "from mindquantum.simulator import Simulator\n",
    "\n",
    "sim = Simulator('projectq', 1)  # 第一个参数为模拟器的名字，第二个参数为模拟器的比特数\n",
    "sim"
   ]
  },
  {
   "cell_type": "code",
   "execution_count": 2,
   "metadata": {},
   "outputs": [
    {
     "name": "stdout",
     "output_type": "stream",
     "text": [
      "[1.+0.j 0.+0.j]\n"
     ]
    }
   ],
   "source": [
    "state = sim.get_qs()\n",
    "print(state)"
   ]
  },
  {
   "cell_type": "markdown",
   "metadata": {},
   "source": [
    "由上可知，量子模拟器的初始状态为 $\\left|0\\right>$ 态，且通过接口 `get_qs` 我们可以获取到模拟器中的量子态。下面我们学习如何将模拟器的初态设置成 $\\left|1\\right>$ 态。"
   ]
  },
  {
   "cell_type": "code",
   "execution_count": 3,
   "metadata": {},
   "outputs": [
    {
     "name": "stdout",
     "output_type": "stream",
     "text": [
      "Initial state:  [1.+0.j 0.+0.j]\n",
      "Last state:  [0.+0.j 1.+0.j]\n"
     ]
    }
   ],
   "source": [
    "import numpy as np\n",
    "\n",
    "sim = Simulator('projectq', 1)\n",
    "state1 = np.array([0.0, 1.0])   #生成（0,1）数据的态 |1> 态\n",
    "state_before = sim.get_qs()\n",
    "sim.set_qs(state1)\n",
    "state_after = sim.get_qs()\n",
    "print(\"Initial state: \", state_before)\n",
    "print(\"Last state: \", state_after)"
   ]
  },
  {
   "cell_type": "markdown",
   "metadata": {},
   "source": [
    "## 习题一\n",
    "\n",
    "请实例化一个 `'projectq'` 的单比特模拟器，并将模拟器状态设置为:\n",
    "\n",
    "$$\\left| \\psi \\right> = \\frac{1}{\\sqrt{2}}\\left( \\left|0\\right> + \\left|1\\right> \\right)$$"
   ]
  },
  {
   "cell_type": "code",
   "execution_count": 5,
   "metadata": {},
   "outputs": [
    {
     "name": "stdout",
     "output_type": "stream",
     "text": [
      "[0.70710678+0.j 0.70710678+0.j]\n"
     ]
    }
   ],
   "source": [
    "# 习题一解答：\n",
    "\n",
    "import numpy as np\n",
    "from mindquantum.simulator import Simulator\n",
    "\n",
    "sim = Simulator('projectq', 1)\n",
    "psi = np.array([np.sqrt(2),np.sqrt(2)])\n",
    "sim.set_qs(psi)\n",
    "state_psi = sim.get_qs()\n",
    "print(state_psi)"
   ]
  },
  {
   "cell_type": "markdown",
   "metadata": {},
   "source": [
    "## 量子门\n",
    "\n",
    "MindQuantum 中以及预定义了一些基本量子门，如 `X`、`Y`、`Z`、`RX`、`RY`、`RZ`等等。量子门是构成量子算法的基本组成单元。\n",
    "\n",
    "我们以`X`门为例，介绍量子门的使用。"
   ]
  },
  {
   "cell_type": "code",
   "execution_count": 6,
   "metadata": {},
   "outputs": [
    {
     "name": "stdout",
     "output_type": "stream",
     "text": [
      "X(0)\n"
     ]
    }
   ],
   "source": [
    "from mindquantum.core.gates import X\n",
    "\n",
    "print(X.on(0))"
   ]
  },
  {
   "cell_type": "markdown",
   "metadata": {},
   "source": [
    "如上，我们便生成了一个作用在`0`比特上的`X`门。我们知道，在量子计算中，量子门是可以被量子比特控制的。在MindQuantum中，我们可以很简单的生成受控量子门，只需给`on`接口的第二个参数传入量子比特序号即可，如："
   ]
  },
  {
   "cell_type": "code",
   "execution_count": 7,
   "metadata": {},
   "outputs": [
    {
     "name": "stdout",
     "output_type": "stream",
     "text": [
      "cnot gate:  X(0 <-: 1)\n",
      "toffoli gate:  X(0 <-: 1 2)\n"
     ]
    }
   ],
   "source": [
    "cnot = X.on(0, 1)\n",
    "toffoli = X.on(0, [1, 2])\n",
    "print(\"cnot gate: \", cnot)\n",
    "print(\"toffoli gate: \", toffoli)"
   ]
  },
  {
   "cell_type": "markdown",
   "metadata": {},
   "source": [
    "如上我们便利用`X`门生成了`CNOT`门和`Toffoli`门。此外，我们还可以获取量子门的矩阵，如"
   ]
  },
  {
   "cell_type": "code",
   "execution_count": 8,
   "metadata": {},
   "outputs": [
    {
     "name": "stdout",
     "output_type": "stream",
     "text": [
      "[[0 1]\n",
      " [1 0]]\n"
     ]
    }
   ],
   "source": [
    "print(X.matrix())"
   ]
  },
  {
   "cell_type": "markdown",
   "metadata": {},
   "source": [
    "需要注意的是，这里我们会忽略控制比特的效果"
   ]
  },
  {
   "cell_type": "code",
   "execution_count": 9,
   "metadata": {},
   "outputs": [
    {
     "name": "stdout",
     "output_type": "stream",
     "text": [
      "[[0 1]\n",
      " [1 0]]\n"
     ]
    }
   ],
   "source": [
    "print(cnot.matrix())"
   ]
  },
  {
   "cell_type": "markdown",
   "metadata": {},
   "source": [
    "除了上面这种矩阵元素固定的量子门，量子计算中还有含参数量子门，如旋转门`RX`，我们可以指定它的旋转角度"
   ]
  },
  {
   "cell_type": "code",
   "execution_count": 9,
   "metadata": {},
   "outputs": [
    {
     "name": "stdout",
     "output_type": "stream",
     "text": [
      "RX(√2|0)\n",
      "[[0.7602446+0.j         0.       -0.64963694j]\n",
      " [0.       -0.64963694j 0.7602446+0.j        ]]\n"
     ]
    }
   ],
   "source": [
    "import numpy as np\n",
    "from mindquantum.core.gates import RX\n",
    "\n",
    "\n",
    "rx_s2 = RX(np.sqrt(2)).on(0)\n",
    "print(rx_s2)\n",
    "print(rx_s2.matrix())"
   ]
  },
  {
   "cell_type": "markdown",
   "metadata": {},
   "source": [
    "如上，我们得到了作用在0比特上绕`X`轴旋转 $\\sqrt{2}$ 的量子门。\n",
    "\n",
    "## 习题二\n",
    "\n",
    "利用MindQuantum证明，`X` 门是绕着 `X` 轴转动 $\\pi$ 的`RX`门（忽略全局相位）。"
   ]
  },
  {
   "cell_type": "code",
   "execution_count": 12,
   "metadata": {},
   "outputs": [
    {
     "name": "stdout",
     "output_type": "stream",
     "text": [
      "[[0.+0.j 0.-1.j]\n",
      " [0.-1.j 0.+0.j]]\n",
      "[[0 1]\n",
      " [1 0]]\n"
     ]
    }
   ],
   "source": [
    "# 习题二解答\n",
    "\n",
    "import numpy as np\n",
    "from mindquantum.core.gates import X, RX\n",
    "\n",
    "RX_pi = RX(np.pi).on(0)\n",
    "print(RX_pi.matrix())\n",
    "print(X.matrix())"
   ]
  },
  {
   "cell_type": "markdown",
   "metadata": {},
   "source": [
    "## 量子线路\n",
    "\n",
    "量子线路是量子门的集合，我们可以将量子门添加到量子线路中来构成想要的量子算法。"
   ]
  },
  {
   "cell_type": "code",
   "execution_count": 11,
   "metadata": {},
   "outputs": [
    {
     "name": "stdout",
     "output_type": "stream",
     "text": [
      "q0: ──H──\n",
      "\n",
      "q1: ──H──\n"
     ]
    }
   ],
   "source": [
    "from mindquantum.core.gates import H\n",
    "from mindquantum.core.circuit import Circuit\n",
    "\n",
    "circ = Circuit()\n",
    "circ += H.on(0)\n",
    "circ += H.on(1)\n",
    "print(circ)"
   ]
  },
  {
   "cell_type": "markdown",
   "metadata": {},
   "source": [
    "如上，我们便构建好了一个最简单的量子线路，这个量子线路中有两个Hadmard门，分别作用在0号和1号比特上，该线路可以制备一个两比特的均匀叠加态：\n",
    "\n",
    "$$\\left|\\psi\\right> = \\frac{1}{2} \\left(\\left|00\\right> + \\left|01\\right> + \\left|10\\right> + \\left|11\\right>\\right)$$\n",
    "\n",
    "MindQuantum中还预定义了许多量子线路，例如用于进行量子傅里叶变化的线路："
   ]
  },
  {
   "cell_type": "code",
   "execution_count": 16,
   "metadata": {},
   "outputs": [
    {
     "data": {
      "image/svg+xml": [
       "<div class=\"nb-html-output output_area\"><svg xmlns=\"http://www.w3.org/2000/svg\" width=\"336.8\" height=\"140\" xmlns:xlink=\"http://www.w3.org/1999/xlink\">\n",
       "<rect x=\"0\" y=\"0\" width=\"336.8\" height=\"140\" fill=\"#ffffff\" />\n",
       "<text x=\"20.0\" y=\"40.0\" font-size=\"16px\" dominant-baseline=\"middle\" text-anchor=\"start\" font-family=\"Arial\" font-weight=\"normal\" fill=\"#252b3a\" >\n",
       "q0:\n",
       " </text>\n",
       "<text x=\"20.0\" y=\"100.0\" font-size=\"16px\" dominant-baseline=\"middle\" text-anchor=\"start\" font-family=\"Arial\" font-weight=\"normal\" fill=\"#252b3a\" >\n",
       "q1:\n",
       " </text>\n",
       "<line x1=\"48.8\" x2=\"316.8\" y1=\"40.0\" y2=\"40.0\" stroke=\"#adb0b8\" stroke-width=\"1\" />\n",
       "<line x1=\"48.8\" x2=\"316.8\" y1=\"100.0\" y2=\"100.0\" stroke=\"#adb0b8\" stroke-width=\"1\" />\n",
       "\n",
       "<rect x=\"72.8\" y=\"20.0\" width=\"40.0\" height=\"40\" rx=\"4\" ry=\"4\" stroke=\"#ffffff\" stroke-width=\"0\" fill=\"#5e7ce0\" fill-opacity=\"1\" />\n",
       "<text x=\"92.8\" y=\"40.0\" font-size=\"20px\" dominant-baseline=\"middle\" text-anchor=\"middle\" font-family=\"Arial\" font-weight=\"normal\" fill=\"#ffffff\" >\n",
       "H\n",
       " </text>\n",
       "\n",
       "<circle cx=\"152.8\" cy=\"100.0\" r=\"4\" fill=\"#fac209\" />\n",
       "<line x1=\"152.8\" x2=\"152.8\" y1=\"40.0\" y2=\"100.0\" stroke=\"#fac209\" stroke-width=\"3\" />\n",
       "<rect x=\"132.8\" y=\"20.0\" width=\"40.0\" height=\"40\" rx=\"4\" ry=\"4\" stroke=\"#ffffff\" stroke-width=\"0\" fill=\"#fac209\" fill-opacity=\"1\" />\n",
       "<text x=\"152.8\" y=\"36.0\" font-size=\"20px\" dominant-baseline=\"middle\" text-anchor=\"middle\" font-family=\"Arial\" font-weight=\"normal\" fill=\"#ffffff\" >\n",
       "PS\n",
       " </text>\n",
       "<text x=\"152.8\" y=\"52.0\" font-size=\"14.0px\" dominant-baseline=\"middle\" text-anchor=\"middle\" font-family=\"Arial\" font-weight=\"normal\" fill=\"#ffffff\" >\n",
       "π/2\n",
       " </text>\n",
       "\n",
       "\n",
       "<rect x=\"192.8\" y=\"80.0\" width=\"40.0\" height=\"40\" rx=\"4\" ry=\"4\" stroke=\"#ffffff\" stroke-width=\"0\" fill=\"#5e7ce0\" fill-opacity=\"1\" />\n",
       "<text x=\"212.8\" y=\"100.0\" font-size=\"20px\" dominant-baseline=\"middle\" text-anchor=\"middle\" font-family=\"Arial\" font-weight=\"normal\" fill=\"#ffffff\" >\n",
       "H\n",
       " </text>\n",
       "\n",
       "<line x1=\"272.8\" x2=\"272.8\" y1=\"20.0\" y2=\"120.0\" stroke-width=\"3\" stroke=\"#16acff\" />\n",
       "\n",
       "<rect x=\"252.8\" y=\"20.0\" width=\"40\" height=\"40\" rx=\"4\" ry=\"4\" fill=\"#16acff\" fill-opacity=\"1\" stroke=\"#ffffff\" stroke-width=\"0\" />\n",
       "<path d=\"M 263.2 36.31384387633061 L 268.0 28.0 L 272.8 36.31384387633061 L 269.44 36.31384387633061 L 269.44 52.0 L 266.56 52.0 L 266.56 36.31384387633061 Z\" fill=\"#ffffff\" />\n",
       "<path d=\"M 282.4 43.68615612366939 L 277.6 52.0 L 272.8 43.68615612366939 L 276.16 43.68615612366939 L 276.16 28.0 L 279.04 28.0 L 279.04 43.68615612366939 Z\" fill=\"#ffffff\" />\n",
       "<rect x=\"252.8\" y=\"80.0\" width=\"40\" height=\"40\" rx=\"4\" ry=\"4\" fill=\"#16acff\" fill-opacity=\"1\" stroke=\"#ffffff\" stroke-width=\"0\" />\n",
       "<path d=\"M 263.2 96.31384387633061 L 268.0 88.0 L 272.8 96.31384387633061 L 269.44 96.31384387633061 L 269.44 112.0 L 266.56 112.0 L 266.56 96.31384387633061 Z\" fill=\"#ffffff\" />\n",
       "<path d=\"M 282.4 103.68615612366939 L 277.6 112.0 L 272.8 103.68615612366939 L 276.16 103.68615612366939 L 276.16 88.0 L 279.04 88.0 L 279.04 103.68615612366939 Z\" fill=\"#ffffff\" />\n",
       "</svg></div>"
      ],
      "text/plain": [
       "<mindquantum.io.display.circuit_svg_drawer.SVGCircuit at 0x7fc9f875d6d0>"
      ]
     },
     "execution_count": 16,
     "metadata": {},
     "output_type": "execute_result"
    }
   ],
   "source": [
    "from mindquantum.algorithm.library import qft\n",
    "\n",
    "qft_circ = qft(range(2))\n",
    "qft_circ.svg()"
   ]
  },
  {
   "cell_type": "markdown",
   "metadata": {},
   "source": [
    "## 习题三\n",
    "\n",
    "请利用MindQuantum生成一个用于制备纠缠态的量子线路，该纠缠态为：\n",
    "\n",
    "$$\\left|\\psi\\right> = \\frac{1}{\\sqrt{2}} \\left( \\left|01\\right> + \\left|10\\right> \\right)$$"
   ]
  },
  {
   "cell_type": "code",
   "execution_count": 16,
   "metadata": {},
   "outputs": [
    {
     "name": "stdout",
     "output_type": "stream",
     "text": [
      "q0: ──H────●──\n",
      "           │\n",
      "q1: ──X────X──\n"
     ]
    },
    {
     "data": {
      "text/plain": [
       "projectq simulator with 2 qubits (little endian).\n",
       "Current quantum state:\n",
       "√2/2¦01⟩\n",
       "√2/2¦10⟩"
      ]
     },
     "execution_count": 16,
     "metadata": {},
     "output_type": "execute_result"
    }
   ],
   "source": [
    "# 习题三解答\n",
    "\n",
    "from mindquantum.core.gates import X, H\n",
    "from mindquantum.core.circuit import Circuit\n",
    "\n",
    "circ = Circuit()\n",
    "circ += H.on(0)\n",
    "circ += X.on(1)\n",
    "circ += X.on(1,0)\n",
    "print(circ)\n",
    "\n",
    "sim = Simulator('projectq', circ.n_qubits)\n",
    "sim.apply_circuit(circ)\n",
    "sim"
   ]
  },
  {
   "cell_type": "markdown",
   "metadata": {},
   "source": [
    "## 量子模拟器的演化\n",
    "\n",
    "有了上面的介绍，我们便可以将量子线路作用到模拟器上，来演化模拟器中的量子态。例如，我们将证明上一小节中的量子线路确实能够制备两比特的均匀叠加态。"
   ]
  },
  {
   "cell_type": "code",
   "execution_count": 17,
   "metadata": {},
   "outputs": [
    {
     "name": "stdout",
     "output_type": "stream",
     "text": [
      "projectq simulator with 2 qubits (little endian).\n",
      "Current quantum state:\n",
      "1/2¦00⟩\n",
      "1/2¦01⟩\n",
      "1/2¦10⟩\n",
      "1/2¦11⟩\n"
     ]
    }
   ],
   "source": [
    "from mindquantum.core.circuit import Circuit\n",
    "from mindquantum.core.gates import H\n",
    "\n",
    "circ = Circuit()\n",
    "circ += H.on(0)\n",
    "circ += H.on(1)\n",
    "\n",
    "sim = Simulator('projectq', circ.n_qubits)   #circ.n_qubits可直接获得qubits数量\n",
    "\n",
    "sim.apply_circuit(circ)\n",
    "print(sim)"
   ]
  },
  {
   "cell_type": "markdown",
   "metadata": {},
   "source": [
    "在上例中，我们通过调用`apply_circuit`接口，实现了将量子线路作用到量子模拟器上的任务。"
   ]
  },
  {
   "cell_type": "markdown",
   "metadata": {},
   "source": [
    "## 习题四\n",
    "\n",
    "请验证习题三中的线路确实能够生成给定的纠缠态。"
   ]
  },
  {
   "cell_type": "code",
   "execution_count": 17,
   "metadata": {},
   "outputs": [
    {
     "name": "stdout",
     "output_type": "stream",
     "text": [
      "q0: ──H────●──\n",
      "           │\n",
      "q1: ──X────X──\n"
     ]
    },
    {
     "data": {
      "text/plain": [
       "projectq simulator with 2 qubits (little endian).\n",
       "Current quantum state:\n",
       "√2/2¦01⟩\n",
       "√2/2¦10⟩"
      ]
     },
     "execution_count": 17,
     "metadata": {},
     "output_type": "execute_result"
    }
   ],
   "source": [
    "# 习题四解答\n",
    "from mindquantum.core.gates import X, H\n",
    "from mindquantum.core.circuit import Circuit\n",
    "\n",
    "circ = Circuit()\n",
    "circ += H.on(0)\n",
    "circ += X.on(1)\n",
    "circ += X.on(1,0)\n",
    "print(circ)\n",
    "\n",
    "sim = Simulator('projectq', circ.n_qubits)\n",
    "sim.apply_circuit(circ)\n",
    "sim\n"
   ]
  },
  {
   "cell_type": "code",
   "execution_count": null,
   "metadata": {},
   "outputs": [],
   "source": []
  }
 ],
 "metadata": {
  "kernelspec": {
   "display_name": "MindQuantum",
   "language": "python",
   "name": "mindquantum"
  },
  "language_info": {
   "codemirror_mode": {
    "name": "ipython",
    "version": 3
   },
   "file_extension": ".py",
   "mimetype": "text/x-python",
   "name": "python",
   "nbconvert_exporter": "python",
   "pygments_lexer": "ipython3",
   "version": "3.7.10"
  },
  "vscode": {
   "interpreter": {
    "hash": "d62cf896b9ca57de08105ce3983377439eacacf6f6599f9150bf400edf4fa4b8"
   }
  }
 },
 "nbformat": 4,
 "nbformat_minor": 4
}
