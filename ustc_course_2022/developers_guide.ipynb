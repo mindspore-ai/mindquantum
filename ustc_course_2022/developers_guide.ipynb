{
 "cells": [
  {
   "cell_type": "markdown",
   "id": "9974db50",
   "metadata": {},
   "source": [
    "- [MindQuantum开发指南](#mindquantum开发指导)\n",
    "  - [准备MindQuantum代码仓](#准备mindquantun代码仓)\n",
    "    - [第一步：登录Gitee官网](#第一步登录gitee官网)\n",
    "    - [第二步：Fork MindQuantum主仓库到个人空间](#第二步fork-mindQuantum主仓库到个人空间)\n",
    "    - [第三步：复制MindQuantum个人代码仓地址](#第三步复制mindquantum个人代码仓地址)\n",
    "    - [第四步：欢迎Watch、Star和Fork MindSpore的主仓到个人空间（可选）](#第四步欢迎watchstar和fork-mindspore的主仓到个人空间可选)\n",
    "  - [登录HiQ量子计算云服务](#登录hiq量子计算云服务)\n",
    "  - [创建实例和Notebook](#创建实例和notebook)\n",
    "    - [第一步：新建Jupyter Notebook实例](#第一步新建jupyter-notebook实例)\n",
    "    - [第二步：导入MindQuantum代码仓](#第二步导入mindquantum代码仓)\n",
    "    - [第三步：安装mindquantum-master包（可选）](#第三步安装mindquantum-master包可选)\n",
    "    - [第四步：切换代码分支](#第四步切换代码分支)\n",
    "    - [第五步：新建Notebook文件](#第五步新建notebook文件)\n",
    "  - [量子门编程初体验](#量子门编程初体验)\n",
    "    - [量子门简介](#量子门简介)\n",
    "    - [导入依赖包](#导入依赖包)\n",
    "    - [打印量子门矩阵](#打印量子门矩阵)  \n",
    "  - [提交代码到代码仓](#提交代码到代码仓)\n",
    "    - [第一步：提交代码到个人仓库](#第一步提交代码到个人仓库)\n",
    "    - [第二步：提交代码到主仓库](#第二步提交代码到主仓库)\n",
    "\n",
    "## 准备MindQuantum代码仓\n",
    "\n",
    "更多样例代码请访问[MindQuantum开源教程](https://gitee.com/mindspore/mindquantum/tree/master/tutorials)，在体验样例前需要先准备MindQuantum代码仓，具体操作步骤如下：\n",
    "\n",
    "### 第一步：登录Gitee官网\n",
    "\n",
    "访问[Gitee官网](https://gitee.com/login)并登录，如未注册Gitee账号，需要先注册账号。\n",
    "\n",
    "### 第二步：Fork MindQuantum主仓库到个人空间\n",
    "\n",
    "访问[MindQuantum主仓库](https://gitee.com/mindspore/mindquantum)，点击右上角【Fork】按钮，欢迎Watch和Star MindQuantum代码仓。\n",
    "\n",
    "![](https://hiq.huaweicloud.com/document/media/example1/fork.png)\n",
    "\n",
    "如果之前已经Fork过代码仓，先同步个人代码仓到最新版本，点击右上角【个人主页】。\n",
    "\n",
    "![](https://hiq.huaweicloud.com/document/media/example1/fork_home.png)\n",
    "\n",
    "找到已经Fork的 MindQuantum代码仓，点击进入个人MindQuantum代码仓页面。\n",
    "\n",
    "![](https://hiq.huaweicloud.com/document/media/example1/fork_mindquantum.png)\n",
    "\n",
    "点击【刷新】按钮，远程个人分支拉取最新的MindQuantum代码。\n",
    "\n",
    "![](https://hiq.huaweicloud.com/document/media/example1/refresh.png)\n",
    "\n",
    "在HiQ量子计算云平台Jupyter Notebook Teminal终端mindquantum安装目录输入以下命令更新个人本地代码仓（）\n",
    "\n",
    "```sh\n",
    "git pull\n",
    "```\n",
    "\n",
    "### 第三步：复制MindQuantum个人代码仓地址\n",
    "\n",
    "点击【克隆/下载】按钮，再点击【复制】按钮。\n",
    "\n",
    "![](https://hiq.huaweicloud.com/document/media/example1/clone.png)\n",
    "\n",
    "### 第四步：欢迎Watch、Star和Fork MindSpore的主仓到个人空间（可选）\n",
    "\n",
    "https://gitee.com/mindspore/mindspore\n",
    "\n",
    "![](https://hiq.huaweicloud.com/document/media/example1/mindspore.png)\n",
    "\n",
    "## 登录HiQ量子计算云服务\n",
    "\n",
    "点击[HiQ量子计算云服务](https://hiq.huaweicloud.com/portal/home)登录入口（华为云账号登录，若没有华为云账号，请先注册华为云账号并实名认证）。\n",
    "\n",
    "![](https://hiq.huaweicloud.com/document/media/CloudPlatrorm/overview.png)"
   ]
  },
  {
   "cell_type": "markdown",
   "id": "114a3530",
   "metadata": {},
   "source": [
    "## 创建实例和Notebook\n",
    "\n",
    "### 第一步：新建Jupyter Notebook实例\n",
    "\n",
    "点击新建实例，填写实例名称及描述，点击【确定】按钮，进入Jupyter Notebook界面。\n",
    "\n",
    "![](https://hiq.huaweicloud.com/document/media/example3/instance.png)\n",
    "\n",
    "### 第二步：导入MindQuantum代码仓\n",
    "\n",
    "进入Jupyter Notebook界面后，选择Other区域中Terminal模块，打开命令行终端。\n",
    "\n",
    "![](https://hiq.huaweicloud.com/document/media/example3/terminal.png)\n",
    "\n",
    "输入以下命令："
   ]
  },
  {
   "cell_type": "markdown",
   "id": "e5466223",
   "metadata": {},
   "source": [
    "```sh\n",
    "pwd          #查看当前目录\n",
    "ls           #查看目录文件\n",
    "```\n",
    "\n",
    "![](https://hiq.huaweicloud.com/document/media/example2/command1.png)\n",
    "\n",
    "```sh\n",
    "cd work     #进入工作目录\n",
    "```\n",
    "\n",
    "![](https://hiq.huaweicloud.com/document/media/example2/command2.png)\n",
    "\n",
    "```sh\n",
    "git clone \"个人代码仓地址\"\n",
    "```\n",
    "\n",
    "（例如：git clone <https://gitee.com/git_username/mindquantum.git>，个人代码仓地址获取详见《准备MindQuantum代码仓》[第三步：复制MindQuantum个人代码仓地址](#第三步复制mindquantum个人代码仓地址)，git_username是gitee账号名称，在Terminal界面输入以上命令，导入时需要输入Gitee的账号和密码。）\n",
    "\n",
    "![](https://hiq.huaweicloud.com/document/media/example2/command3.png)\n",
    "\n",
    "### 第三步：安装mindquantum-master包（可选）\n",
    "\n",
    "环境已预装mindquantum 0.6.0版本，可直接使用。如需要安装最新版本，输入以下安装命令（点击查看最新版[PiP安装包及操作指导](https://www.mindspore.cn/mindquantum/docs/zh-CN/master/mindquantum_install.html)）。"
   ]
  },
  {
   "cell_type": "markdown",
   "id": "63d38cfe",
   "metadata": {},
   "source": [
    "检查mindquantum-master包是否安装成功，显示版本号为安装版本号（现在最新为0.7），则说明安装成功。"
   ]
  },
  {
   "cell_type": "code",
   "execution_count": null,
   "id": "353d46c7",
   "metadata": {},
   "outputs": [],
   "source": [
    "pip install https://hiq.huaweicloud.com/download/mindquantum/newest/linux/mindquantum-master-cp37-cp37m-linux_x86_64.whl -i https://pypi.tuna.tsinghua.edu.cn/simple\n",
    "Looking in indexes: https://pypi.tuna.tsinghua.edu.cn/simple"
   ]
  },
  {
   "cell_type": "code",
   "execution_count": 5,
   "id": "803d7dfc",
   "metadata": {},
   "outputs": [
    {
     "name": "stdout",
     "output_type": "stream",
     "text": [
      "Name: mindquantum\n",
      "Version: 0.7.0\n",
      "Summary: A hybrid quantum-classic framework for quantum computing\n",
      "Home-page: https://www.mindspore.cn/\n",
      "Author: The MindSpore Authors\n",
      "Author-email: contact@mindspore.cn\n",
      "License: Apache License Version 2.0\n",
      "Location: /home/ma-user/anaconda3/envs/MindQuantum/lib/python3.7/site-packages\n",
      "Requires: rich, numpy, sympy, matplotlib, scipy, openfermion, projectq, importlib-metadata\n",
      "Required-by: \n",
      "Note: you may need to restart the kernel to use updated packages.\n"
     ]
    }
   ],
   "source": [
    "pip show mindquantum"
   ]
  },
  {
   "cell_type": "markdown",
   "id": "25c93ec3",
   "metadata": {},
   "source": [
    "### 第四步：切换代码分支\n",
    "\n",
    "以代码在research分支开发为例说明：将代码从master分支切换到research分支，在Jupyter Notebook的Terminal里执行如下命令，\n",
    "\n",
    "```sh\n",
    "cd mindquantum/\n",
    "\n",
    "pwd\n",
    "```\n",
    "\n",
    "![](https://hiq.huaweicloud.com/document/media/example2/commit_code1.png)\n",
    "\n",
    "```sh\n",
    "git branch\n",
    "```\n",
    "\n",
    "![](https://hiq.huaweicloud.com/document/media/example2/commit_code2.png)\n",
    "\n",
    "```sh\n",
    "git checkout research\n",
    "```\n",
    "\n",
    "![](https://hiq.huaweicloud.com/document/media/example2/commit_code3.png)\n",
    "\n",
    "```sh\n",
    "git branch\n",
    "```\n",
    "\n",
    "![](https://hiq.huaweicloud.com/document/media/example2/commit_code4.png)\n",
    "\n",
    "### 第五步：新建Notebook文件\n",
    "\n",
    "在左侧目录树创建或者选择存放代码的文件夹，选择Notebook区域中MindQuantum模块，并将文件模式切换成【code】。\n",
    "\n",
    "![](https://hiq.huaweicloud.com/document/media/example3/newfile.png)\n",
    "\n",
    "![](https://hiq.huaweicloud.com/document/media/example3/newfilecode.png)"
   ]
  },
  {
   "cell_type": "markdown",
   "id": "1452a31d",
   "metadata": {},
   "source": [
    "## 量子门编程初体验"
   ]
  },
  {
   "cell_type": "markdown",
   "id": "618fa94c",
   "metadata": {},
   "source": [
    "### 量子门简介\n",
    "\n",
    "量子门（量子逻辑门）是对量子比特进行操作的基本逻辑单元，是量子线路的基础。对于经典电路来说，任意的逻辑电路都可以由一系列基本逻辑门构成，类似地，任意的量子线路也可以由一系列基本量子门构成，如单量子比特门和受控非门。常用的基本量子门有`X`门、`Y`门、`Z`门、`Hadamard`门（`H`门）、`CNOT`门以及旋转门`RX`门、`RY`门和`RZ`门。\n",
    "\n",
    "一般来说，量子门可以分为含参量子门和不含参量子门。例如，不含参的量子门有`X`门、`Y`门、`Z`门、`Hadamard`门（`H`门）和`CNOT`门，它们的矩阵形式分别如下：\n",
    "\n",
    "$$\n",
    "\\text{X}=\n",
    "\\left(\n",
    "    \\begin{matrix}\n",
    "        0&1\\\\\n",
    "        1&0\n",
    "    \\end{matrix}\n",
    "\\right),\n",
    "\\text{Y}=\n",
    "\\left(\n",
    "    \\begin{matrix}\n",
    "        0&-i\\\\\n",
    "        i&0\n",
    "    \\end{matrix}\n",
    "\\right),\n",
    "\\text{Z}=\n",
    "\\left(\n",
    "    \\begin{matrix}\n",
    "        1&0\\\\\n",
    "        0&-1\n",
    "    \\end{matrix}\n",
    "\\right),\n",
    "\\text{H}=\\frac{1}{\\sqrt{2}}\n",
    "\\left(\n",
    "    \\begin{matrix}\n",
    "        1&1\\\\\n",
    "        1&-1\n",
    "    \\end{matrix}\n",
    "\\right),\n",
    "\\text{CNOT}=\n",
    "\\left(\n",
    "    \\begin{matrix}\n",
    "        1&0&0&0\\\\\n",
    "        0&1&0&0\\\\\n",
    "        0&0&0&1\\\\\n",
    "        0&0&1&0\n",
    "    \\end{matrix}\n",
    "\\right).$$"
   ]
  },
  {
   "cell_type": "markdown",
   "id": "13dca505",
   "metadata": {},
   "source": [
    "### 导入依赖包\n",
    "\n",
    "导入本教程所依赖的模块。"
   ]
  },
  {
   "cell_type": "code",
   "execution_count": 10,
   "id": "703def1d",
   "metadata": {},
   "outputs": [],
   "source": [
    "import numpy as np                                    # 导入numpy库并简写为np\n",
    "from mindquantum.core import X, Y, Z, H, RX, RY, RZ   # 导入量子门H, X, Y, Z, RX, RY, RZ"
   ]
  },
  {
   "cell_type": "markdown",
   "id": "249c0a39",
   "metadata": {},
   "source": [
    "说明：\n",
    "\n",
    "（1）numpy是一个功能强大的Python库，主要用于对多维数组执行计算，支持大量的维度数组与矩阵运算，此外也针对数组运算提供大量的数学函数库；\n",
    "\n",
    "（2）mindquantum是量子-经典混合计算框架，支持多种量子神经网络的训练和推理；\n",
    "\n",
    "（3）搭建的量子线路中所需执行的量子门需要从mindquantum.core模块中导入；"
   ]
  },
  {
   "cell_type": "markdown",
   "id": "42874329",
   "metadata": {},
   "source": [
    "### 打印量子门矩阵"
   ]
  },
  {
   "cell_type": "code",
   "execution_count": 11,
   "id": "9133b6d0",
   "metadata": {},
   "outputs": [
    {
     "name": "stdout",
     "output_type": "stream",
     "text": [
      "Gate name: X\n"
     ]
    },
    {
     "data": {
      "text/plain": [
       "array([[0, 1],\n",
       "       [1, 0]])"
      ]
     },
     "execution_count": 11,
     "metadata": {},
     "output_type": "execute_result"
    }
   ],
   "source": [
    "print('Gate name:', X)\n",
    "X.matrix()"
   ]
  },
  {
   "cell_type": "code",
   "execution_count": 12,
   "id": "f53d8a32",
   "metadata": {},
   "outputs": [
    {
     "name": "stdout",
     "output_type": "stream",
     "text": [
      "Gate name: Y\n"
     ]
    },
    {
     "data": {
      "text/plain": [
       "array([[ 0.+0.j, -0.-1.j],\n",
       "       [ 0.+1.j,  0.+0.j]])"
      ]
     },
     "execution_count": 12,
     "metadata": {},
     "output_type": "execute_result"
    }
   ],
   "source": [
    "print('Gate name:', Y)\n",
    "Y.matrix()"
   ]
  },
  {
   "cell_type": "markdown",
   "id": "9f42f891",
   "metadata": {},
   "source": [
    "说明：矩阵里的每一项，左边的“0.”表示小数形式（浮点数）的实部（若实部为负，则在小数前显示“-”，否则默认为非负），右边的“0.”表示小数形式（浮点数）的虚部（若虚部为负，则在小数前会显示“-”，否则显示“+”），j表示虚数单位$i$）。\n",
    "\n",
    "使用以上方法可以打印Z门和H门。"
   ]
  },
  {
   "cell_type": "markdown",
   "id": "91b69f52",
   "metadata": {},
   "source": [
    "关于量子门和线路搭建的详细教程可参见：\n",
    "https://gitee.com/mindspore/mindquantum/blob/master/tutorials/parameterized_quantum_circuit.ipynb"
   ]
  },
  {
   "cell_type": "markdown",
   "id": "098155d8",
   "metadata": {},
   "source": [
    "## 提交代码到代码仓\n",
    "\n",
    "### 第一步：提交代码到个人仓库\n",
    "\n",
    "代码开发完，提交到gitee mindquantum代码仓，请执行如下命令：\n",
    "\n",
    "```sh\n",
    "git status  #查看要提交的更新文件\n",
    "```\n",
    "\n",
    "![](https://hiq.huaweicloud.com/document/media/example2/commit_code5.png)\n",
    "\n",
    "```sh\n",
    "git add .    #提交代码  \n",
    "```\n",
    "\n",
    "![](https://hiq.huaweicloud.com/document/media/example2/commit_code6.png)\n",
    "\n",
    "git status\t#查看代码是否已经提交成功\n",
    "\n",
    "![](https://hiq.huaweicloud.com/document/media/example2/commit_code7.png)\n",
    "\n",
    "```sh\n",
    "git commit -m \"commit message\"\t#commit message是提交说明信息\n",
    "```\n",
    "\n",
    "![](https://hiq.huaweicloud.com/document/media/example2/commit_code8.png)\n",
    "\n",
    "在commit前需要配置gitee代码仓的用户名和邮箱，然后再执行commit命令。\n",
    "\n",
    "```sh\n",
    "git config –-global user.name \"Your Name\"\n",
    "git config –-global user.email \"you@example.com\"\n",
    "git commit -m \"commit message\"\n",
    "```\n",
    "\n",
    "![](https://hiq.huaweicloud.com/document/media/example2/commit_code9.png)\n",
    "\n",
    "输入将本地分支修改提交到远程分支，在push过程中需要输入gitee用户名和密码。\n",
    "\n",
    "```sh\n",
    "git push\n",
    "```\n",
    "\n",
    "![](https://hiq.huaweicloud.com/document/media/example2/commit_code10.png)\n",
    "\n",
    "### 第二步：提交代码到主仓库\n",
    "\n",
    "注意：若开发者在样例教程上做了进一步开发，可通过pull request的方式将更新提交到mindquantum的主仓库，参与MindQuantum开源项目，步骤如下\n",
    "\n",
    "**(1) 创建PR提交代码到主仓库**\n",
    "\n",
    "回到Gitee MindQuantum主仓库界面，点击【Pull Request】，将个人远程仓代码提交到mindquantum的主仓库，完成最终的代码提交。\n",
    "\n",
    "![](https://hiq.huaweicloud.com/document/media/example1/pullrequest.png)\n",
    "\n",
    "将源分支和目标分支选为mindspore/mindquantum的research分支。填写PR标题，取消勾选【合并后关闭提到的issue】。选择所需的审查人员后，即可创建PR。\n",
    "\n",
    "![](https://hiq.huaweicloud.com/document/media/example1/research.png)\n",
    "\n",
    "(2) 签署CLA\n",
    "\n",
    "首次参与MindQuantum开源的开发者，在评论区会发现没有签署CLA。请进入签署页面，选择【sign individual cla】，并根据gitee上的个人信息，填写签署信息，完成CLA的签署。回到PR页面，在评论区回复【/check-cla】，检查cla是否签署完成，如果没有，则需稍等片刻。签署完后，提交PR流程结束。\n",
    "\n",
    "![](https://hiq.huaweicloud.com/document/media/example1/cla.png)\n",
    "\n",
    "\n",
    "\n",
    "MindQuantum教程  https://gitee.com/mindspore/mindquantum/tree/master/tutorials\n",
    "\n",
    "MindQuantum FAQ  https://gitee.com/mindspore/mindquantum/blob/master/tutorials/0.frequently_asked_questions.ipynb\n",
    "\n",
    "Git入门实践  https://bbs.huaweicloud.com/forum/thread-55222-1-1.html"
   ]
  }
 ],
 "metadata": {
  "kernelspec": {
   "display_name": "MindQuantum",
   "language": "python",
   "name": "mindquantum"
  },
  "language_info": {
   "codemirror_mode": {
    "name": "ipython",
    "version": 3
   },
   "file_extension": ".py",
   "mimetype": "text/x-python",
   "name": "python",
   "nbconvert_exporter": "python",
   "pygments_lexer": "ipython3",
   "version": "3.7.10"
  }
 },
 "nbformat": 4,
 "nbformat_minor": 5
}
