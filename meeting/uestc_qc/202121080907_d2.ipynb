{
 "cells": [
  {
   "cell_type": "markdown",
   "metadata": {},
   "source": [
    "# Day 2\n",
    "## 2.1 $|0>+|1>$态做Y门\n",
    "$$\n",
    "Y(|0\\rangle + |1\\rangle) = \n",
    "\\begin{bmatrix}\n",
    "0 & -i \\\\ i &0\n",
    "\\end{bmatrix}\n",
    "\\begin{bmatrix}\n",
    "1 \\\\ 1\n",
    "\\end{bmatrix}\n",
    "$$\n",
    "请分别利用sim.apply_gate和sim.apply_circuit来完成"
   ]
  },
  {
   "cell_type": "code",
   "execution_count": 3,
   "metadata": {
    "tags": []
   },
   "outputs": [
    {
     "output_type": "stream",
     "name": "stdout",
     "text": "state0:\n√2/2¦0⟩\n√2/2¦1⟩\nstate1:\n-√2/2j¦0⟩\n√2/2j¦1⟩\n"
    }
   ],
   "source": [
    "import numpy as np\n",
    "from mindquantum import Simulator, Circuit, Y\n",
    "import os\n",
    "os.environ[\"OMP_NUM_THREADS\"] = '1'\n",
    "\n",
    "sim = Simulator('projectq', 1)\n",
    "sim.set_qs(np.array([1, 1]))\n",
    "print('state0:\\n' + sim.get_qs(True))\n",
    "\n",
    "# use sim.apply_gate\n",
    "sim.apply_gate(Y.on(0))\n",
    "print('state1:\\n' + sim.get_qs(True))\n"
   ]
  },
  {
   "cell_type": "code",
   "execution_count": 4,
   "metadata": {
    "tags": []
   },
   "outputs": [
    {
     "output_type": "stream",
     "name": "stdout",
     "text": "state0:\n√2/2¦0⟩\n√2/2¦1⟩\nstate1:\n-√2/2j¦0⟩\n√2/2j¦1⟩\n"
    }
   ],
   "source": [
    "import numpy as np\n",
    "from mindquantum import Simulator, Circuit, X, Y, Z\n",
    "import os\n",
    "os.environ[\"OMP_NUM_THREADS\"] = '1'\n",
    "\n",
    "sim = Simulator('projectq', 1)\n",
    "sim.set_qs(np.array([1, 1]))\n",
    "print('state0:\\n' + sim.get_qs(True))\n",
    "\n",
    "# use sim.apply_circuit\n",
    "sim.apply_circuit(Circuit(Y.on(0)))\n",
    "print('state1:\\n' + sim.get_qs(True))\n"
   ]
  }
 ],
 "metadata": {
  "kernelspec": {
   "display_name": "Python 3.7.5 64-bit",
   "language": "python",
   "name": "python37564bit60fe9020596549199db5095a8ade436d"
  },
  "language_info": {
   "codemirror_mode": {
    "name": "ipython",
    "version": 3
   },
   "file_extension": ".py",
   "mimetype": "text/x-python",
   "name": "python",
   "nbconvert_exporter": "python",
   "pygments_lexer": "ipython3",
   "version": "3.7.5-final"
  },
  "vscode": {
   "interpreter": {
    "hash": "e7370f93d1d0cde622a1f8e1c04877d8463912d04d973331ad4851f04de6915a"
   }
  }
 },
 "nbformat": 4,
 "nbformat_minor": 4
}