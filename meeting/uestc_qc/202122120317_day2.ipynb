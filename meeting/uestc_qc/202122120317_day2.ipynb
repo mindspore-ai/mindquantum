{
 "metadata": {
  "language_info": {
   "codemirror_mode": {
    "name": "ipython",
    "version": 3
   },
   "file_extension": ".py",
   "mimetype": "text/x-python",
   "name": "python",
   "nbconvert_exporter": "python",
   "pygments_lexer": "ipython3",
   "version": "3.7.5-final"
  },
  "orig_nbformat": 2,
  "kernelspec": {
   "name": "python37564bit2ddc0c12c18c4bc39459dffbf3d62cb8",
   "display_name": "Python 3.7.5 64-bit"
  }
 },
 "nbformat": 4,
 "nbformat_minor": 2,
 "cells": [
  {
   "cell_type": "code",
   "execution_count": 5,
   "metadata": {},
   "outputs": [],
   "source": [
    "import os\n",
    "os.environ[\"OMP_NUM_THREADS\"] = '1'\n",
    "from mindquantum import *\n",
    "import numpy as np\n",
    "\n",
    "\n"
   ]
  },
  {
   "cell_type": "code",
   "execution_count": 6,
   "metadata": {
    "tags": []
   },
   "outputs": [
    {
     "output_type": "stream",
     "name": "stdout",
     "text": "1¦0⟩\n-√2/2j¦0⟩\n√2/2j¦1⟩\n"
    }
   ],
   "source": [
    "sim = Simulator('projectq', 1)\n",
    "sim.reset()\n",
    "print(sim.get_qs(True))\n",
    "\n",
    "sim.apply_gate(H.on(0))\n",
    "sim.apply_gate(Y.on(0))\n",
    "\n",
    "print(sim.get_qs(True))\n"
   ]
  },
  {
   "cell_type": "code",
   "execution_count": 8,
   "metadata": {
    "tags": []
   },
   "outputs": [
    {
     "output_type": "stream",
     "name": "stdout",
     "text": "-√2/2j¦0⟩\n√2/2j¦1⟩\n"
    }
   ],
   "source": [
    "sim1 = Simulator('projectq', 1)\n",
    "sim1.reset()\n",
    "\n",
    "circ = Circuit()\n",
    "circ.append(H.on(0))\n",
    "circ.append(Y.on(0))\n",
    "\n",
    "sim1.apply_circuit(circ)\n",
    "print(sim1.get_qs(True))"
   ]
  },
  {
   "cell_type": "code",
   "execution_count": null,
   "metadata": {},
   "outputs": [],
   "source": []
  }
 ]
}