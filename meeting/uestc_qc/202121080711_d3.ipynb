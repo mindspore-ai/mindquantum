{
 "metadata": {
  "language_info": {
   "codemirror_mode": {
    "name": "ipython",
    "version": 3
   },
   "file_extension": ".py",
   "mimetype": "text/x-python",
   "name": "python",
   "nbconvert_exporter": "python",
   "pygments_lexer": "ipython3",
   "version": 3
  },
  "orig_nbformat": 2
 },
 "nbformat": 4,
 "nbformat_minor": 2,
 "cells": [
  {
   "source": [
    "# Day 3\n",
    "## 3.1 证明：一系列CNOT($\\text{U}_f = CX_{0,n}CX_{1,n}\\cdots CX_{n,n+1}$)能够实现平衡函数的某一情况下的oracle\n",
    "### 当n=2时：\n",
    "a.初始状态0，两个量子位的x寄存器($x_0,x_1$)初始化为 |00⟩，一个量子位的y寄存器初始化为 |1⟩\n",
    " （这里使用下标 0、1 和 2 来索引量子位。“01”的下标表示包含量子位 0 和 1 的寄存器的状态）\n",
    " $$\\lvert \\psi_0 \\rangle = \\lvert 0 0 \\rangle_{01} \\otimes \\lvert 1 \\rangle_{2} $$\n"
   ],
   "cell_type": "markdown",
   "metadata": {}
  },
  {
   "source": [
    "b.在所有量子比特上应用Hadamard得到状态1\n",
    "$$\\lvert \\psi_1 \\rangle = \\frac{1}{2} \\left( \\lvert 0 0 \\rangle + \\lvert 0 1 \\rangle + \\lvert 1 0 \\rangle + \\lvert 1 1 \\rangle \\right)_{01} \\otimes \\frac{1}{\\sqrt{2}} \\left( \\lvert 0 \\rangle - \\lvert 1 \\rangle \\right)_{2}  $$\n"
   ],
   "cell_type": "markdown",
   "metadata": {}
  },
  {
   "source": [
    "c.应用oracle函数$\\text{U}_f = CX_{02}CX_{12}$ \n",
    "\\begin{align*}\n",
    "            \\lvert \\psi_2 \\rangle \n",
    "            =\\frac{1}{2\\sqrt{2}} \\left[ \\lvert 0 0 \\rangle_{01} \\otimes \\left( \\lvert 0 \\oplus 0 \\oplus 0 \\rangle - \\lvert 1 \\oplus 0 \\oplus 0 \\rangle \\right)_{2} \\\\\n",
    "                  + \\lvert 0 1 \\rangle_{01} \\otimes \\left( \\lvert 0 \\oplus 0 \\oplus 1 \\rangle - \\lvert 1 \\oplus 0 \\oplus 1 \\rangle \\right)_{2} \\\\\n",
    "                  + \\lvert 1 0 \\rangle_{01} \\otimes \\left( \\lvert 0 \\oplus 1 \\oplus 0 \\rangle - \\lvert 1 \\oplus 1 \\oplus 0 \\rangle \\right)_{2} \\\\\n",
    "                  + \\lvert 1 1 \\rangle_{01} \\otimes \\left( \\lvert 0 \\oplus 1 \\oplus 1 \\rangle - \\lvert 1 \\oplus 1 \\oplus 1 \\rangle \\right)_{2} \\right] \\\\\n",
    "          = \\frac{1}{2} \\left( \\lvert 0 0 \\rangle + \\lvert 0 1 \\rangle + \\lvert 1 0 \\rangle + \\lvert 1 1 \\rangle \\right)_{01} \\otimes   \\left[ \\frac{1}{\\sqrt{2}} \\left( \\lvert 0 \\rangle - \\lvert 1 \\rangle \\right)_{2}  \\oplus x_0 \\oplus x_1 \\right]\\\\\n",
    "          = \\frac{1}{2} \\left( \\lvert 0 0 \\rangle + \\lvert 0 1 \\rangle + \\lvert 1 0 \\rangle + \\lvert 1 1 \\rangle \\right)_{01} \\otimes   \\left[ \\frac{1}{\\sqrt{2}} \\left( \\lvert 0 \\rangle - \\lvert 1 \\rangle \\right)_{2}  \\oplus f(x) \\right]\n",
    "          = \\text{U}_f \\lvert \\psi_1 \\rangle \n",
    "\\end{align*}"
   ],
   "cell_type": "markdown",
   "metadata": {}
  },
  {
   "source": [
    "d.可得oracle函数$\\text{U}_f = CX_{02}CX_{12}$ 对应的原函数为$f(x)=x_0 \\oplus x_1$\n"
   ],
   "cell_type": "markdown",
   "metadata": {}
  },
  {
   "source": [
    "e.计算$f(x)=x_0 \\oplus x_1$的真值表\n",
    "\\begin{align*}\n",
    "f(0,0)=0\\\\\n",
    "f(0,1)=1\\\\\n",
    "f(1,0)=1\\\\\n",
    "f(1,1)=0\n",
    "\\end{align*}"
   ],
   "cell_type": "markdown",
   "metadata": {}
  },
  {
   "source": [
    "f.oracle函数$\\text{U}_f = CX_{02}CX_{12}$ 对应的原函数$f(x)=x_0 \\oplus x_1$是一个平衡函数\n",
    "\n",
    "同理可得一系列CNOT($\\text{U}_f = CX_{0,n}CX_{1,n}\\cdots CX_{n,n+1}$)对应的原函数为$f(x)=x_0 \\oplus x_1\\cdots \\oplus x_n$，这显然也是一个平衡函数，故原命题得证"
   ],
   "cell_type": "markdown",
   "metadata": {}
  }
 ]
}