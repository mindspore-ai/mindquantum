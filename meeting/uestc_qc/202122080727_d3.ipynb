{
 "metadata": {
  "language_info": {
   "codemirror_mode": {
    "name": "ipython",
    "version": 3
   },
   "file_extension": ".py",
   "mimetype": "text/x-python",
   "name": "python",
   "nbconvert_exporter": "python",
   "pygments_lexer": "ipython3",
   "version": "3.7.5-final"
  },
  "orig_nbformat": 2,
  "kernelspec": {
   "name": "python37564bit67dc63c0eabb40af8819539a177a3155",
   "display_name": "Python 3.7.5 64-bit"
  }
 },
 "nbformat": 4,
 "nbformat_minor": 2,
 "cells": [
  {
   "cell_type": "code",
   "execution_count": 9,
   "metadata": {
    "tags": []
   },
   "outputs": [
    {
     "output_type": "stream",
     "name": "stdout",
     "text": "√2/2¦0111⟩\n-√2/2¦1111⟩\nq0: ───────H────●──────────────H──\n                │\nq1: ───────H────┼────●─────────H──\n                │    │\nq2: ───────H────┼────┼────●────H──\n                │    │    │\nq3: ──X────H────X────X────X───────\nshots: 1\nKeys: q2 q1 q0│0.00     0.2         0.4         0.6         0.8         1.0\n──────────────┼───────────┴───────────┴───────────┴───────────┴───────────┴\n           111│▓▓▓▓▓▓▓▓▓▓▓▓▓▓▓▓▓▓▓▓▓▓▓▓▓▓▓▓▓▓▓▓▓▓▓▓▓▓▓▓▓▓▓▓▓▓▓▓▓▓▓▓▓▓▓▓▓▓▓▓\n              │\n{'111': 1}\n"
    }
   ],
   "source": [
    "from mindquantum import *\n",
    "n = 3\n",
    "circ = Circuit()\n",
    "circ += X.on(n)\n",
    "circ += BarrierGate(show=False)\n",
    "for i in range(n+1):\n",
    "    circ += H.on(i)\n",
    "\n",
    "for i in range(n):\n",
    "    circ += X.on(n,i)\n",
    "circ += BarrierGate(show=False)\n",
    "\n",
    "for i in range(n):\n",
    "    circ += H.on(i)\n",
    "\n",
    "sim = Simulator('projectq', n+1)\n",
    "sim.apply_circuit(circ)\n",
    "print(sim.get_qs(True))\n",
    "print(circ)\n",
    "\n",
    "sim.reset()\n",
    "for i in range(n):\n",
    "    circ += Measure().on(i)\n",
    "bs = sim.sampling(circ)\n",
    "print(bs)\n"
   ]
  },
  {
   "cell_type": "code",
   "execution_count": null,
   "metadata": {},
   "outputs": [],
   "source": []
  }
 ]
}