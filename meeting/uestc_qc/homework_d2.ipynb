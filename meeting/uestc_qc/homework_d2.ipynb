{
 "cells": [
  {
   "cell_type": "markdown",
   "metadata": {},
   "source": [
    "# Day 2\n",
    "## 2.1 $|0>+|1>$态做Y门\n",
    "$$\n",
    "Y(|0\\rangle + |1\\rangle) = \n",
    "\\begin{bmatrix}\n",
    "0 & -i \\\\ i &0\n",
    "\\end{bmatrix}\n",
    "\\begin{bmatrix}\n",
    "1 \\\\ 1\n",
    "\\end{bmatrix}\n",
    "$$\n",
    "请分别利用sim.apply_gate和sim.apply_circuit来完成"
   ]
  },
  {
   "cell_type": "code",
   "execution_count": 9,
   "metadata": {
    "tags": []
   },
   "outputs": [
    {
     "output_type": "stream",
     "name": "stdout",
     "text": "state 0:\n √2/2¦0⟩\n√2/2¦1⟩\nstate 1:\n -√2/2j¦0⟩\n√2/2j¦1⟩\nciruit:\n -√2/2j¦0⟩\n√2/2j¦1⟩\n"
    }
   ],
   "source": [
    "import os\n",
    "os.environ[\"OMP_NUM_THREADS\"] = '1'\n",
    "from mindquantum import *\n",
    "import numpy as np\n",
    "\n",
    "sim.reset()\n",
    "sim = Simulator('projectq', 1)\n",
    "sim.set_qs(np.array([1,1]))\n",
    "print(\"state 0:\\n\",sim.get_qs(True))\n",
    "\n",
    "sim.apply_gate(Y.on(0))\n",
    "print(\"state 1:\\n\",sim.get_qs(True))\n",
    "\n",
    "sim.reset()\n",
    "sim.set_qs(np.array([1,1]))\n",
    "cir = Circuit(Y.on(0))\n",
    "sim.apply_circuit(cir)\n",
    "print(\"ciruit:\\n\", sim.get_qs(True))"
   ]
  },
  {
   "cell_type": "markdown",
   "metadata": {},
   "source": []
  }
 ],
 "metadata": {
  "kernelspec": {
   "display_name": "Python 3 (ipykernel)",
   "language": "python",
   "name": "python3"
  },
  "language_info": {
   "codemirror_mode": {
    "name": "ipython",
    "version": 3
   },
   "file_extension": ".py",
   "mimetype": "text/x-python",
   "name": "python",
   "nbconvert_exporter": "python",
   "pygments_lexer": "ipython3",
   "version": "3.7.5-final"
  }
 },
 "nbformat": 4,
 "nbformat_minor": 4
}