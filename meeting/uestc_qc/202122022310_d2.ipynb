{
 "cells": [
  {
   "cell_type": "markdown",
   "metadata": {},
   "source": [
    "# Day 2\n",
    "## 2.1 $|0>+|1>$态做Y门\n",
    "$$\n",
    "Y(|0\\rangle + |1\\rangle) = \n",
    "\\begin{bmatrix}\n",
    "0 & -i \\\\ i &0\n",
    "\\end{bmatrix}\n",
    "\\begin{bmatrix}\n",
    "1 \\\\ 1\n",
    "\\end{bmatrix}\n",
    "$$\n",
    "请分别利用sim.apply_gate和sim.apply_circuit来完成"
   ]
  },
  {
   "cell_type": "code",
   "execution_count": 8,
   "metadata": {
    "tags": []
   },
   "outputs": [
    {
     "output_type": "stream",
     "name": "stdout",
     "text": "state0:\n √2/2¦0⟩\n√2/2¦1⟩\nstate1:\n -√2/2j¦0⟩\n√2/2j¦1⟩\nstate0:\n √2/2¦0⟩\n√2/2¦1⟩\nstate1:\n -√2/2j¦0⟩\n√2/2j¦1⟩\n"
    }
   ],
   "source": [
    "from mindquantum import Simulator, Circuit, X, Y, Z\n",
    "import numpy as np\n",
    "import os\n",
    "os.environ[\"OMP_NUM_THREADS\"] = '1'\n",
    "from mindquantum import *\n",
    "\n",
    "#sim.apply_gate\n",
    "sim = Simulator('projectq', n_qubits=1)\n",
    "sim.reset()\n",
    "sim.set_qs(np.array([1, 1]))\n",
    "print('state0:\\n',sim.get_qs(True))\n",
    "sim.apply_gate(Y.on(0))\n",
    "print('state1:\\n',sim.get_qs(True))\n",
    "\n",
    "#sim.apply_circuit\n",
    "sim.reset()\n",
    "sim.set_qs(np.array([1, 1]))\n",
    "print('state0:\\n',sim.get_qs(True))\n",
    "cir = Circuit(Y.on(0)) \n",
    "sim.apply_circuit(cir)\n",
    "print('state1:\\n',sim.get_qs(True))"
   ]
  },
  {
   "source": [],
   "cell_type": "code",
   "metadata": {},
   "execution_count": null,
   "outputs": []
  },
  {
   "cell_type": "code",
   "execution_count": null,
   "metadata": {},
   "outputs": [],
   "source": []
  }
 ],
 "metadata": {
  "kernelspec": {
   "display_name": "Python 3 (ipykernel)",
   "language": "python",
   "name": "python3"
  },
  "language_info": {
   "codemirror_mode": {
    "name": "ipython",
    "version": 3
   },
   "file_extension": ".py",
   "mimetype": "text/x-python",
   "name": "python",
   "nbconvert_exporter": "python",
   "pygments_lexer": "ipython3",
   "version": "3.7.5-final"
  }
 },
 "nbformat": 4,
 "nbformat_minor": 4
}