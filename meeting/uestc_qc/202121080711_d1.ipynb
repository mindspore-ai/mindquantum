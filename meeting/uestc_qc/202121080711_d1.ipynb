{
 "metadata": {
  "language_info": {
   "codemirror_mode": {
    "name": "ipython",
    "version": 3
   },
   "file_extension": ".py",
   "mimetype": "text/x-python",
   "name": "python",
   "nbconvert_exporter": "python",
   "pygments_lexer": "ipython3",
   "version": "3.7.5-final"
  },
  "orig_nbformat": 2,
  "kernelspec": {
   "name": "python37564bit8e232dce78a2443891a07ce8687c8eef",
   "display_name": "Python 3.7.5 64-bit"
  }
 },
 "nbformat": 4,
 "nbformat_minor": 2,
 "cells": [
  {
   "source": [
    "# Day 1\n",
    "## 1.1 多比特的量子态矢量或矩阵的张量乘积计算\n",
    "$$\n",
    "|\\psi \\rangle \\otimes |\\phi\\rangle = \\left(\\begin{matrix} a \\\\ b \\end{matrix}\\right) \\otimes \\left(\\begin{matrix} c \\\\ d \\end{matrix}\\right)\n",
    "= \\left(\\begin{matrix} a\\left(\\begin{matrix} c \\\\ d \\end{matrix}\\right) \\\\ b\\left(\\begin{matrix} c \\\\ d \\end{matrix}\\right) \\end{matrix}\\right)\n",
    "= \\left(\\begin{matrix} ac \\\\ ad \\\\ bc \\\\ bd \\end{matrix}\\right)\n",
    "$$\n",
    "\n",
    "### 请完成：\n",
    "请利用numpy完成下面两个矩阵的张量乘法：\n",
    "$$\n",
    "A=\\left(\\begin{matrix}\n",
    "1 & 1 \\\\ 1 &1\n",
    "\\end{matrix}\\right),\n",
    "B=\\left(\\begin{matrix}\n",
    "11 & 12 \\\\21&22\n",
    "\\end{matrix}\\right).\n",
    "$$\n",
    "请计算$A\\otimes B$和$B\\otimes A$."
   ],
   "cell_type": "markdown",
   "metadata": {}
  },
  {
   "cell_type": "code",
   "execution_count": 9,
   "metadata": {
    "tags": []
   },
   "outputs": [
    {
     "output_type": "stream",
     "name": "stdout",
     "text": "A:\n: [[1 1]\n [1 1]]\nB::\n [[11 22]\n [21 22]]\nA⊗B:\n [[11 22 11 22]\n [21 22 21 22]\n [11 22 11 22]\n [21 22 21 22]]\nB⊗A:\n [[11 11 22 22]\n [11 11 22 22]\n [21 21 22 22]\n [21 21 22 22]]\n"
    }
   ],
   "source": [
    "import numpy as np \n",
    "\n",
    "A=np.array([[1,1],[1,1]])\n",
    "B=np.array([[11,22],[21,22]])\n",
    "\n",
    "kronx=np.kron(A,B)\n",
    "krony=np.kron(B,A)\n",
    "\n",
    "print(\"A:\\n:\",A)\n",
    "print(\"B::\\n\",B)\n",
    "print(\"A⊗B:\\n\",kronx)\n",
    "print(\"B⊗A:\\n\",krony)"
   ]
  },
  {
   "source": [
    "## 1.2 基本单比特旋转门之间的变换关系\n",
    "量子力学中的对易关系(commutation relationship)，可以进行一些量子门之间的相互转化：\n",
    "$$\\left[ X, Y\\right] = XY-YX=2iZ,$$\n",
    "$$\\left[ Y, Z\\right] = YZ-ZY=2iX,$$\n",
    "$$\\left[ Z, X\\right] = ZX-XZ=2iY,$$\n",
    "$$ \\left[ X, X\\right] = \\left[ Y, Y\\right] = \\left[ Z, Z\\right] = 0$$\n",
    "以及反对易关系(anti-commutation relationship):\n",
    "$$\\{ X, Y\\} =XY + YX = 0,$$\n",
    "$$\\{ Z, Y\\} =ZY + YZ = 0,$$\n",
    "$$\\{ X, Z\\} =XZ + ZX = 0,$$\n",
    "如\n",
    "$$YZY|\\psi\\rangle = -Z|\\psi\\rangle$$\n",
    "\n",
    "### 请完成：\n",
    "X, Y门之间的变换展示"
   ],
   "cell_type": "markdown",
   "metadata": {}
  },
  {
   "cell_type": "code",
   "execution_count": 37,
   "metadata": {
    "tags": []
   },
   "outputs": [
    {
     "output_type": "stream",
     "name": "stdout",
     "text": "[0.4472136 +0.j 0.89442719+0.j]\nX: [0.89442719+0.j 0.4472136 +0.j]\nY: [0.-0.89442719j 0.+0.4472136j ]\nZ: [ 0.4472136 +0.j -0.89442719+0.j]\nXX: [0.4472136 +0.j 0.89442719+0.j]\nYY: [0.4472136 +0.j 0.89442719+0.j]\nXY: [0.-0.4472136j  0.+0.89442719j]\nYX: [0.+0.4472136j  0.-0.89442719j]\nXYX: [0.+0.89442719j 0.-0.4472136j ]\nYXY: [-0.89442719+0.j -0.4472136 +0.j]\n"
    }
   ],
   "source": [
    "from mindquantum import Simulator, Circuit, X, Y, Z\n",
    "import numpy as np\n",
    "#任意态\n",
    "s0 = np.array([1, 2]) #可修改\n",
    "sim = Simulator('projectq', 1)\n",
    "sim.set_qs(s0)\n",
    "print(sim.get_qs())\n",
    "#X\n",
    "sim.set_qs(s0)\n",
    "sim.apply_gate(X.on(0))\n",
    "print(\"X:\", sim.get_qs())\n",
    "#Y\n",
    "sim.set_qs(s0)\n",
    "sim.apply_gate(Y.on(0))\n",
    "print(\"Y:\", sim.get_qs())\n",
    "#Z\n",
    "sim.set_qs(s0)\n",
    "sim.apply_gate(Z.on(0))\n",
    "print(\"Z:\", sim.get_qs())\n",
    "\n",
    "#XX\n",
    "sim.set_qs(s0)\n",
    "circ1 = Circuit([X.on(0), X.on(0)]) \n",
    "sim.apply_circuit(circ1)\n",
    "print(\"XX:\", sim.get_qs())\n",
    "\n",
    "#YY\n",
    "sim.set_qs(s0)\n",
    "circ1 = Circuit([Y.on(0), Y.on(0)]) \n",
    "sim.apply_circuit(circ1)\n",
    "print(\"YY:\", sim.get_qs())\n",
    "\n",
    "#XY\n",
    "sim.set_qs(s0)\n",
    "circ1 = Circuit([X.on(0), Y.on(0)]) \n",
    "sim.apply_circuit(circ1)\n",
    "print(\"XY:\", sim.get_qs())\n",
    "\n",
    "#YX\n",
    "sim.set_qs(s0)\n",
    "circ1 = Circuit([Y.on(0), X.on(0)]) \n",
    "sim.apply_circuit(circ1)\n",
    "print(\"YX:\", sim.get_qs())\n",
    "\n",
    "#XYX\n",
    "sim.set_qs(s0)\n",
    "circ1 = Circuit([X.on(0), Y.on(0), X.on(0)]) \n",
    "sim.apply_circuit(circ1)\n",
    "print(\"XYX:\", sim.get_qs())\n",
    "\n",
    "#YXY\n",
    "sim.set_qs(s0)\n",
    "circ1 = Circuit([Y.on(0), X.on(0), Y.on(0)]) \n",
    "sim.apply_circuit(circ1)\n",
    "print(\"YXY:\", sim.get_qs())\n",
    "\n"
   ]
  },
  {
   "source": [
    "可以得到如下关系：\n",
    "$$XYX|\\psi\\rangle = -Y|\\psi\\rangle$$\n",
    "$$YXY|\\psi\\rangle = -X|\\psi\\rangle$$\n",
    "$$XY|\\psi\\rangle = i*Z|\\psi\\rangle$$\n",
    "$$XY|\\psi\\rangle = -YX|\\psi\\rangle$$\n",
    "$$XX|\\psi\\rangle = |\\psi\\rangle$$\n",
    "$$YY|\\psi\\rangle = |\\psi\\rangle$$\n"
   ],
   "cell_type": "markdown",
   "metadata": {}
  },
  {
   "cell_type": "code",
   "execution_count": null,
   "metadata": {},
   "outputs": [],
   "source": []
  }
 ]
}