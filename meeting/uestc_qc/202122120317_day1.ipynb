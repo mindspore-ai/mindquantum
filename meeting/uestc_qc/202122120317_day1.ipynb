{
 "metadata": {
  "language_info": {
   "codemirror_mode": {
    "name": "ipython",
    "version": 3
   },
   "file_extension": ".py",
   "mimetype": "text/x-python",
   "name": "python",
   "nbconvert_exporter": "python",
   "pygments_lexer": "ipython3",
   "version": "3.7.5-final"
  },
  "orig_nbformat": 2,
  "kernelspec": {
   "name": "python37564bit2ddc0c12c18c4bc39459dffbf3d62cb8",
   "display_name": "Python 3.7.5 64-bit"
  }
 },
 "nbformat": 4,
 "nbformat_minor": 2,
 "cells": [
  {
   "cell_type": "code",
   "execution_count": 1,
   "metadata": {},
   "outputs": [],
   "source": [
    "import numpy as np                                    # 导入numpy库并简写为np\n",
    "from mindquantum.core import  X, Y, Z, H, RX, RY, RZ   # 导入量子门H, X, Y, Z, RX, RY, RZ\n",
    "from mindquantum import Simulator, Circuit"
   ]
  },
  {
   "cell_type": "code",
   "execution_count": 2,
   "metadata": {
    "tags": []
   },
   "outputs": [
    {
     "output_type": "stream",
     "name": "stdout",
     "text": "[[1 1]\n [1 1]]\n[[11 12]\n [21 22]]\n[[11 12 11 12]\n [21 22 21 22]\n [11 12 11 12]\n [21 22 21 22]]\n"
    }
   ],
   "source": [
    "A =np.array([[1,1],[1,1]])\n",
    "print(A)\n",
    "B = np.array([[11,12],[21,22]])\n",
    "print(B)\n",
    "KronC = np.kron(A,B)\n",
    "print(KronC)"
   ]
  },
  {
   "cell_type": "code",
   "execution_count": 3,
   "metadata": {
    "tags": []
   },
   "outputs": [
    {
     "output_type": "stream",
     "name": "stdout",
     "text": "[1.+0.j 0.+0.j]\n[ 0.+0.j -1.+0.j]\n[-1.+0.j  0.+0.j]\n"
    }
   ],
   "source": [
    "s0 = np.array([1,0])\n",
    "\n",
    "sim = Simulator('projectq',1)\n",
    "sim.set_qs(s0)\n",
    "print(sim.get_qs())\n",
    "circ1 = Circuit([Y.on(0), X.on(0), Y.on(0)])\n",
    "sim.apply_circuit(circ1)\n",
    "print(sim.get_qs())\n",
    "circ2 = Circuit([X.on(0)])\n",
    "sim.apply_circuit(circ2)\n",
    "print(sim.get_qs())\n",
    "\n",
    "\n"
   ]
  },
  {
   "cell_type": "code",
   "execution_count": null,
   "metadata": {},
   "outputs": [],
   "source": []
  }
 ]
}