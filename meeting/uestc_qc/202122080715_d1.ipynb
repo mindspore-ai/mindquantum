{
 "metadata": {
  "language_info": {
   "codemirror_mode": {
    "name": "ipython",
    "version": 3
   },
   "file_extension": ".py",
   "mimetype": "text/x-python",
   "name": "python",
   "nbconvert_exporter": "python",
   "pygments_lexer": "ipython3",
   "version": "3.7.5-final"
  },
  "orig_nbformat": 2,
  "kernelspec": {
   "name": "python37564bit133fbc22bb684c90bbdcd57d764517fd",
   "display_name": "Python 3.7.5 64-bit"
  }
 },
 "nbformat": 4,
 "nbformat_minor": 2,
 "cells": [
  {
   "cell_type": "code",
   "execution_count": 7,
   "metadata": {
    "tags": []
   },
   "outputs": [
    {
     "output_type": "stream",
     "name": "stdout",
     "text": "[[11 12 11 12]\n [21 22 21 22]\n [11 12 11 12]\n [21 22 21 22]]\n"
    }
   ],
   "source": [
    "import numpy as np\n",
    "\n",
    "a = np.array([[1,1], [1,1]])   # 初始化 a 矩阵\n",
    "b = np.array([[11,12], [21,22]])   # 初始化 b 矩阵\n",
    "print(np.kron(a, b))   # 计算 a b 的张量积"
   ]
  },
  {
   "cell_type": "code",
   "execution_count": 9,
   "metadata": {
    "tags": []
   },
   "outputs": [
    {
     "output_type": "stream",
     "name": "stdout",
     "text": "[[11 11 12 12]\n [11 11 12 12]\n [21 21 22 22]\n [21 21 22 22]]\n"
    }
   ],
   "source": [
    "print(np.kron(b, a))   # 计算 b a 的张量积"
   ]
  },
  {
   "cell_type": "code",
   "execution_count": 1,
   "metadata": {
    "tags": []
   },
   "outputs": [
    {
     "output_type": "stream",
     "name": "stdout",
     "text": "[0.24253563+0.j 0.9701425 +0.j]\n"
    }
   ],
   "source": [
    "from mindquantum import Simulator, Circuit, X, Y\n",
    "import numpy as np\n",
    "s0 = np.array([0.1, 0.4])   # 任意态\n",
    "sim = Simulator('projectq', 1)   # 声明一个 1 比特的模拟器\n",
    "sim.set_qs(s0)   # 设置量子态\n",
    "print(sim.get_qs())   # 查看量子态"
   ]
  },
  {
   "cell_type": "code",
   "execution_count": 2,
   "metadata": {
    "tags": []
   },
   "outputs": [
    {
     "output_type": "stream",
     "name": "stdout",
     "text": "[0.9701425 +0.j 0.24253563+0.j]\n"
    }
   ],
   "source": [
    "sim.apply_gate(X.on(0))   # 作用一个 X 门到 0 号比特上\n",
    "print(sim.get_qs())    # 查看量子态\n",
    "#  其应由 [a, b] 变换至 [b, a]\n"
   ]
  },
  {
   "source": [
    "sim.apply_gate(Y.on(0))   # 再作用一个 Y 门到 0 号比特上\n",
    "print(sim.get_qs())    # 查看量子态\n",
    "#  其应由 [a, b] 变换至 [-b · i, a · i]"
   ],
   "cell_type": "code",
   "metadata": {
    "tags": []
   },
   "execution_count": 3,
   "outputs": [
    {
     "output_type": "stream",
     "name": "stdout",
     "text": "[0.-0.24253563j 0.+0.9701425j ]\n"
    }
   ]
  }
 ]
}