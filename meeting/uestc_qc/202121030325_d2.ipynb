{
 "metadata": {
  "language_info": {
   "codemirror_mode": {
    "name": "ipython",
    "version": 3
   },
   "file_extension": ".py",
   "mimetype": "text/x-python",
   "name": "python",
   "nbconvert_exporter": "python",
   "pygments_lexer": "ipython3",
   "version": "3.7.5-final"
  },
  "orig_nbformat": 2,
  "kernelspec": {
   "name": "python37564bit9a5670120054492c9472e24c9a4ce104",
   "display_name": "Python 3.7.5 64-bit"
  }
 },
 "nbformat": 4,
 "nbformat_minor": 2,
 "cells": [
  {
   "cell_type": "code",
   "execution_count": null,
   "metadata": {},
   "outputs": [],
   "source": []
  },
  {
   "cell_type": "code",
   "execution_count": 4,
   "metadata": {
    "tags": []
   },
   "outputs": [
    {
     "output_type": "stream",
     "name": "stdout",
     "text": "-√2/2j¦0⟩\n√2/2j¦1⟩\n"
    }
   ],
   "source": [
    "import os\n",
    "os.environ[\"OMP_NUM_THREADS\"] = '1'\n",
    "#from mindquantum import Simulator, Circuit, X, Y, Z\n",
    "from mindquantum import *\n",
    "import numpy as np\n",
    "\n",
    "sim = Simulator('projectq',1)\n",
    "sim.reset()\n",
    "#print(sim.get_qs(True))\n",
    "\n",
    "sim.apply_gate(H.on(0))\n",
    "sim.apply_gate(Y.on(0))\n",
    "\n",
    "\n",
    "print(sim.get_qs(True))\n"
   ]
  },
  {
   "cell_type": "code",
   "execution_count": null,
   "metadata": {},
   "outputs": [],
   "source": []
  }
 ]
}