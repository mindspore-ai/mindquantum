{
 "cells": [
  {
   "cell_type": "markdown",
   "metadata": {},
   "source": [
    "# Day 1\n",
    "## 1.1 多比特的量子态矢量或矩阵的张量乘积计算\n",
    "$$\n",
    "|\\psi \\rangle \\otimes |\\phi\\rangle = \\left(\\begin{matrix} a \\\\ b \\end{matrix}\\right) \\otimes \\left(\\begin{matrix} c \\\\ d \\end{matrix}\\right)\n",
    "= \\left(\\begin{matrix} c\\left(\\begin{matrix} a \\\\ b \\end{matrix}\\right) \\\\ d\\left(\\begin{matrix} a \\\\ b \\end{matrix}\\right) \\end{matrix}\\right)\n",
    "= \\left(\\begin{matrix} ac \\\\ ad \\\\ bc \\\\ bd \\end{matrix}\\right)\n",
    "$$\n",
    "\n",
    "### 请完成：\n",
    "请利用numpy完成下面两个矩阵的张量乘法：\n",
    "$$\n",
    "A=\\left(\\begin{matrix}\n",
    "1 & 1 \\\\ 1 &1\n",
    "\\end{matrix}\\right),\n",
    "B=\\left(\\begin{matrix}\n",
    "11 & 12 \\\\21&22\n",
    "\\end{matrix}\\right).\n",
    "$$\n",
    "请计算$A\\otimes B$和$B\\otimes A$.\n"
   ]
  },
  {
   "cell_type": "code",
   "execution_count": 9,
   "metadata": {
    "tags": []
   },
   "outputs": [
    {
     "output_type": "stream",
     "name": "stdout",
     "text": "A_B:\n[[11 21 11 21]\n [12 22 12 22]\n [11 21 11 21]\n [12 22 12 22]]\nB_A:\n[[11 11 21 21]\n [11 11 21 21]\n [12 12 22 22]\n [12 12 22 22]]\n"
    }
   ],
   "source": [
    "import numpy as np\n",
    "#态张量乘积示例\n",
    "\n",
    "#一般性的多矢量张量乘法函数\n",
    "def kron(state_list):\n",
    "    res = state_list[0]\n",
    "    for state in state_list[1:]:\n",
    "        res = np.kron(res, state)\n",
    "    return res\n",
    "\n",
    "A = np.array([[1, 1],[1,1]]).transpose()\n",
    "B = np.array([[11, 12],[21, 22]]).transpose()\n",
    "A_B = np.kron(A, B)\n",
    "B_A = np.kron(B, A)\n",
    "#s001 = kron([s0, s0, s1])\n",
    "print(\"A_B:\")\n",
    "print(A_B)\n",
    "print(\"B_A:\")\n",
    "print(B_A)"
   ]
  },
  {
   "cell_type": "markdown",
   "metadata": {},
   "source": [
    "## 1.2 基本单比特旋转门之间的变换关系\n",
    "量子力学中的对易关系(commutation relationship)，可以进行一些量子门之间的相互转化：\n",
    "$$\\left[ X, Y\\right] = XY-YX=2iZ,$$\n",
    "$$\\left[ Y, Z\\right] = YZ-ZY=2iX,$$\n",
    "$$\\left[ Z, X\\right] = ZX-XZ=2iY,$$\n",
    "$$ \\left[ X, X\\right] = \\left[ Y, Y\\right] = \\left[ Z, Z\\right] = 0$$\n",
    "以及反对易关系(anti-commutation relationship):\n",
    "$$\\{ X, Y\\} =XY + YX = 0,$$\n",
    "$$\\{ Z, Y\\} =ZY + YZ = 0,$$\n",
    "$$\\{ X, Z\\} =XZ + ZX = 0,$$\n",
    "如\n",
    "$$YZY|\\psi\\rangle = -Z|\\psi\\rangle$$\n",
    "\n",
    "### 请完成：\n",
    "X, Y门之间的变换展示"
   ]
  },
  {
   "cell_type": "code",
   "execution_count": 1,
   "metadata": {
    "tags": []
   },
   "outputs": [
    {
     "output_type": "stream",
     "name": "stdout",
     "text": "X:\n[0.89442719+0.j 0.4472136 +0.j]\nY:\n[0.-0.89442719j 0.+0.4472136j ]\nXY:\n[0.-0.70710678j 0.+0.70710678j]\nYX:\n[0.+0.70710678j 0.-0.70710678j]\n"
    }
   ],
   "source": [
    "from mindquantum import Simulator, Circuit, X, Y, Z\n",
    "import numpy as np\n",
    "#任意态\n",
    "s0 = np.array([10, 20]) #可修改\n",
    "s0_test = np.array([100, 200])\n",
    "sim = Simulator('projectq', 1)\n",
    "sim.set_qs(s0)\n",
    "#print(sim.get_qs())\n",
    "\n",
    "#X\n",
    "sim.set_qs(s0)\n",
    "sim.apply_gate(X.on(0))\n",
    "print(\"X:\")\n",
    "print(sim.get_qs())\n",
    "\n",
    "#Y\n",
    "sim.set_qs(s0)\n",
    "sim.apply_gate(Y.on(0))\n",
    "print(\"Y:\")\n",
    "print(sim.get_qs())\n",
    "\n",
    "#XY\n",
    "sim.reset()\n",
    "sim.set_qs(np.array([1,1]))\n",
    "circ_XY = Circuit([X.on(0), Y.on(0)]) \n",
    "sim.apply_circuit(circ_XY)\n",
    "print(\"XY:\")\n",
    "print(sim.get_qs())\n",
    "\n",
    "#YX\n",
    "sim.reset()\n",
    "sim.set_qs(np.array([1,1]))\n",
    "circ_YX = Circuit([Y.on(0), X.on(0)]) \n",
    "sim.apply_circuit(circ_YX)\n",
    "print(\"YX:\")\n",
    "print(sim.get_qs())"
   ]
  },
  {
   "cell_type": "markdown",
   "metadata": {},
   "source": []
  }
 ],
 "metadata": {
  "kernelspec": {
   "display_name": "Python 3 (ipykernel)",
   "language": "python",
   "name": "python3"
  },
  "language_info": {
   "codemirror_mode": {
    "name": "ipython",
    "version": 3
   },
   "file_extension": ".py",
   "mimetype": "text/x-python",
   "name": "python",
   "nbconvert_exporter": "python",
   "pygments_lexer": "ipython3",
   "version": "3.7.5-final"
  }
 },
 "nbformat": 4,
 "nbformat_minor": 4
}