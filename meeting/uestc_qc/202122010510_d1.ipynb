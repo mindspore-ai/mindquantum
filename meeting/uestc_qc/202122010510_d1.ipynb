{
 "cells": [
  {
   "cell_type": "markdown",
   "metadata": {},
   "source": [
    "# Day 1\n",
    "## 1.1 多比特的量子态矢量或矩阵的张量乘积计算\n",
    "$$\n",
    "|\\psi \\rangle \\otimes |\\phi\\rangle = \\left(\\begin{matrix} a \\\\ b \\end{matrix}\\right) \\otimes \\left(\\begin{matrix} c \\\\ d \\end{matrix}\\right)\n",
    "= \\left(\\begin{matrix} c\\left(\\begin{matrix} a \\\\ b \\end{matrix}\\right) \\\\ d\\left(\\begin{matrix} a \\\\ b \\end{matrix}\\right) \\end{matrix}\\right)\n",
    "= \\left(\\begin{matrix} ac \\\\ ad \\\\ bc \\\\ bd \\end{matrix}\\right)\n",
    "$$\n",
    "\n",
    "### 请完成：\n",
    "请利用numpy完成下面两个矩阵的张量乘法：\n",
    "$$\n",
    "A=\\left(\\begin{matrix}\n",
    "1 & 1 \\\\ 1 &1\n",
    "\\end{matrix}\\right),\n",
    "B=\\left(\\begin{matrix}\n",
    "11 & 12 \\\\21&22\n",
    "\\end{matrix}\\right).\n",
    "$$\n",
    "请计算$A\\otimes B$和$B\\otimes A$.\n"
   ]
  },
  {
   "cell_type": "code",
   "execution_count": 1,
   "metadata": {
    "tags": []
   },
   "outputs": [
    {
     "output_type": "stream",
     "name": "stdout",
     "text": "[1 0 0 0]\n"
    }
   ],
   "source": [
    "import numpy as np\n",
    "#态张量乘积示例\n",
    "\n",
    "#一般性的多矢量张量乘法函数\n",
    "def kron(state_list):\n",
    "    res = state_list[0]\n",
    "    for state in state_list[1:]:\n",
    "        res = np.kron(res, state)\n",
    "    return res\n",
    "\n",
    "s0 = np.array([1, 0]).transpose()\n",
    "s1 = np.array([0, 1]).transpose()\n",
    "s00 = np.kron(s0, s0)\n",
    "s001 = kron([s0, s0, s1])\n",
    "print(s00)"
   ]
  },
  {
   "cell_type": "code",
   "execution_count": 2,
   "metadata": {
    "tags": []
   },
   "outputs": [
    {
     "output_type": "stream",
     "name": "stdout",
     "text": "[[11 12 11 12]\n [21 22 21 22]\n [11 12 11 12]\n [21 22 21 22]]\n[[11 11 12 12]\n [11 11 12 12]\n [21 21 22 22]\n [21 21 22 22]]\n"
    }
   ],
   "source": [
    "import numpy as np\n",
    "\n",
    "A  = np.array([[1, 1], [1, 1]])\n",
    "B  = np.array([[11, 12], [21, 22]])\n",
    "A_B = np.kron(A, B)\n",
    "B_A = np.kron(B, A)\n",
    "print(A_B)\n",
    "print(B_A)"
   ]
  },
  {
   "cell_type": "markdown",
   "metadata": {},
   "source": [
    "## 1.2 基本单比特旋转门之间的变换关系\n",
    "量子力学中的对易关系(commutation relationship)，可以进行一些量子门之间的相互转化：\n",
    "$$\\left[ X, Y\\right] = XY-YX=2iZ,$$\n",
    "$$\\left[ Y, Z\\right] = YZ-ZY=2iX,$$\n",
    "$$\\left[ Z, X\\right] = ZX-XZ=2iY,$$\n",
    "$$ \\left[ X, X\\right] = \\left[ Y, Y\\right] = \\left[ Z, Z\\right] = 0$$\n",
    "以及反对易关系(anti-commutation relationship):\n",
    "$$\\{ X, Y\\} =XY + YX = 0,$$\n",
    "$$\\{ Z, Y\\} =ZY + YZ = 0,$$\n",
    "$$\\{ X, Z\\} =XZ + ZX = 0,$$\n",
    "如\n",
    "$$YZY|\\psi\\rangle = -Z|\\psi\\rangle$$\n",
    "\n",
    "### 请完成：\n",
    "X, Y门之间的变换展示"
   ]
  },
  {
   "cell_type": "code",
   "execution_count": 3,
   "metadata": {
    "tags": []
   },
   "outputs": [
    {
     "output_type": "stream",
     "name": "stdout",
     "text": "[0.92847669+0.j 0.37139068+0.j]\n[0.+0.37139068j 0.-0.92847669j]\n[0.-0.37139068j 0.+0.92847669j]\n"
    }
   ],
   "source": [
    "from mindquantum import Simulator, Circuit, X, Y, Z\n",
    "import numpy as np\n",
    "#任意态\n",
    "s0 = np.array([0.25, 0.1]) #可修改\n",
    "s0_test = np.array([100, 200])\n",
    "sim = Simulator('projectq', 1)\n",
    "sim.set_qs(s0)\n",
    "print(sim.get_qs())\n",
    "\n",
    "#XYX\n",
    "circ1 = Circuit([X.on(0), Y.on(0), X.on(0)]) \n",
    "sim.apply_circuit(circ1)\n",
    "print(sim.get_qs())\n",
    "\n",
    "#Y\n",
    "sim.set_qs(s0)\n",
    "sim.apply_gate(Y.on(0))\n",
    "print(sim.get_qs())"
   ]
  },
  {
   "cell_type": "markdown",
   "metadata": {},
   "source": []
  }
 ],
 "metadata": {
  "kernelspec": {
   "display_name": "Python 3 (ipykernel)",
   "language": "python",
   "name": "python3"
  },
  "language_info": {
   "codemirror_mode": {
    "name": "ipython",
    "version": 3
   },
   "file_extension": ".py",
   "mimetype": "text/x-python",
   "name": "python",
   "nbconvert_exporter": "python",
   "pygments_lexer": "ipython3",
   "version": "3.7.5-final"
  }
 },
 "nbformat": 4,
 "nbformat_minor": 4
}