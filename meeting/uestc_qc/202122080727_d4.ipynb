{
 "metadata": {
  "language_info": {
   "codemirror_mode": {
    "name": "ipython",
    "version": 3
   },
   "file_extension": ".py",
   "mimetype": "text/x-python",
   "name": "python",
   "nbconvert_exporter": "python",
   "pygments_lexer": "ipython3",
   "version": "3.7.5-final"
  },
  "orig_nbformat": 2,
  "kernelspec": {
   "name": "python37564bit67dc63c0eabb40af8819539a177a3155",
   "display_name": "Python 3.7.5 64-bit"
  }
 },
 "nbformat": 4,
 "nbformat_minor": 2,
 "cells": [
  {
   "cell_type": "code",
   "execution_count": 1,
   "metadata": {},
   "outputs": [],
   "source": [
    "from mindquantum.core import Circuit, Hamiltonian, UN, H, ZZ, RX, QubitOperator\n",
    "from mindquantum.framework import MQAnsatzOnlyLayer\n",
    "from mindquantum.simulator import Simulator\n",
    "import networkx as nx\n",
    "import mindspore.nn as nn"
   ]
  },
  {
   "cell_type": "code",
   "execution_count": 2,
   "metadata": {},
   "outputs": [
    {
     "output_type": "display_data",
     "data": {
      "text/plain": "<Figure size 432x288 with 1 Axes>",
      "image/svg+xml": "<?xml version=\"1.0\" encoding=\"utf-8\" standalone=\"no\"?>\n<!DOCTYPE svg PUBLIC \"-//W3C//DTD SVG 1.1//EN\"\n  \"http://www.w3.org/Graphics/SVG/1.1/DTD/svg11.dtd\">\n<svg xmlns:xlink=\"http://www.w3.org/1999/xlink\" width=\"446.4pt\" height=\"302.4pt\" viewBox=\"0 0 446.4 302.4\" xmlns=\"http://www.w3.org/2000/svg\" version=\"1.1\">\n <metadata>\n  <rdf:RDF xmlns:dc=\"http://purl.org/dc/elements/1.1/\" xmlns:cc=\"http://creativecommons.org/ns#\" xmlns:rdf=\"http://www.w3.org/1999/02/22-rdf-syntax-ns#\">\n   <cc:Work>\n    <dc:type rdf:resource=\"http://purl.org/dc/dcmitype/StillImage\"/>\n    <dc:date>2022-06-20T06:32:29.005173</dc:date>\n    <dc:format>image/svg+xml</dc:format>\n    <dc:creator>\n     <cc:Agent>\n      <dc:title>Matplotlib v3.5.1, https://matplotlib.org/</dc:title>\n     </cc:Agent>\n    </dc:creator>\n   </cc:Work>\n  </rdf:RDF>\n </metadata>\n <defs>\n  <style type=\"text/css\">*{stroke-linejoin: round; stroke-linecap: butt}</style>\n </defs>\n <g id=\"figure_1\">\n  <g id=\"patch_1\">\n   <path d=\"M 0 302.4 \nL 446.4 302.4 \nL 446.4 0 \nL 0 0 \nz\n\" style=\"fill: #ffffff\"/>\n  </g>\n  <g id=\"axes_1\">\n   <g id=\"LineCollection_1\">\n    <path d=\"M 186.432271 213.88171 \nL 200.702023 94.20956 \n\" clip-path=\"url(#p3b735ed04d)\" style=\"fill: none; stroke: #000000\"/>\n    <path d=\"M 186.432271 213.88171 \nL 282.622184 270.208264 \n\" clip-path=\"url(#p3b735ed04d)\" style=\"fill: none; stroke: #000000\"/>\n    <path d=\"M 186.432271 213.88171 \nL 401.712397 222.238056 \n\" clip-path=\"url(#p3b735ed04d)\" style=\"fill: none; stroke: #000000\"/>\n    <path d=\"M 200.702023 94.20956 \nL 44.687603 32.191736 \n\" clip-path=\"url(#p3b735ed04d)\" style=\"fill: none; stroke: #000000\"/>\n    <path d=\"M 200.702023 94.20956 \nL 330.651496 132.560523 \n\" clip-path=\"url(#p3b735ed04d)\" style=\"fill: none; stroke: #000000\"/>\n    <path d=\"M 282.622184 270.208264 \nL 243.970423 179.094104 \n\" clip-path=\"url(#p3b735ed04d)\" style=\"fill: none; stroke: #000000\"/>\n    <path d=\"M 282.622184 270.208264 \nL 401.712397 222.238056 \n\" clip-path=\"url(#p3b735ed04d)\" style=\"fill: none; stroke: #000000\"/>\n    <path d=\"M 44.687603 32.191736 \nL 95.573351 110.117495 \n\" clip-path=\"url(#p3b735ed04d)\" style=\"fill: none; stroke: #000000\"/>\n    <path d=\"M 243.970423 179.094104 \nL 330.651496 132.560523 \n\" clip-path=\"url(#p3b735ed04d)\" style=\"fill: none; stroke: #000000\"/>\n    <path d=\"M 243.970423 179.094104 \nL 95.573351 110.117495 \n\" clip-path=\"url(#p3b735ed04d)\" style=\"fill: none; stroke: #000000\"/>\n    <path d=\"M 330.651496 132.560523 \nL 401.712397 222.238056 \n\" clip-path=\"url(#p3b735ed04d)\" style=\"fill: none; stroke: #000000\"/>\n    <path d=\"M 330.651496 132.560523 \nL 95.573351 110.117495 \n\" clip-path=\"url(#p3b735ed04d)\" style=\"fill: none; stroke: #000000\"/>\n   </g>\n   <g id=\"PathCollection_1\">\n    <defs>\n     <path id=\"m72a076451c\" d=\"M 0 8.660254 \nC 2.296726 8.660254 4.499694 7.747755 6.123724 6.123724 \nC 7.747755 4.499694 8.660254 2.296726 8.660254 0 \nC 8.660254 -2.296726 7.747755 -4.499694 6.123724 -6.123724 \nC 4.499694 -7.747755 2.296726 -8.660254 0 -8.660254 \nC -2.296726 -8.660254 -4.499694 -7.747755 -6.123724 -6.123724 \nC -7.747755 -4.499694 -8.660254 -2.296726 -8.660254 0 \nC -8.660254 2.296726 -7.747755 4.499694 -6.123724 6.123724 \nC -4.499694 7.747755 -2.296726 8.660254 0 8.660254 \nz\n\" style=\"stroke: #1f78b4\"/>\n    </defs>\n    <g clip-path=\"url(#p3b735ed04d)\">\n     <use xlink:href=\"#m72a076451c\" x=\"186.432271\" y=\"213.88171\" style=\"fill: #1f78b4; stroke: #1f78b4\"/>\n     <use xlink:href=\"#m72a076451c\" x=\"200.702023\" y=\"94.20956\" style=\"fill: #1f78b4; stroke: #1f78b4\"/>\n     <use xlink:href=\"#m72a076451c\" x=\"282.622184\" y=\"270.208264\" style=\"fill: #1f78b4; stroke: #1f78b4\"/>\n     <use xlink:href=\"#m72a076451c\" x=\"44.687603\" y=\"32.191736\" style=\"fill: #1f78b4; stroke: #1f78b4\"/>\n     <use xlink:href=\"#m72a076451c\" x=\"243.970423\" y=\"179.094104\" style=\"fill: #1f78b4; stroke: #1f78b4\"/>\n     <use xlink:href=\"#m72a076451c\" x=\"330.651496\" y=\"132.560523\" style=\"fill: #1f78b4; stroke: #1f78b4\"/>\n     <use xlink:href=\"#m72a076451c\" x=\"95.573351\" y=\"110.117495\" style=\"fill: #1f78b4; stroke: #1f78b4\"/>\n     <use xlink:href=\"#m72a076451c\" x=\"401.712397\" y=\"222.238056\" style=\"fill: #1f78b4; stroke: #1f78b4\"/>\n    </g>\n   </g>\n   <g id=\"text_1\">\n    <g clip-path=\"url(#p3b735ed04d)\">\n     <!-- 0 -->\n     <g transform=\"translate(182.257583 217.19296)scale(0.12 -0.12)\">\n      <defs>\n       <path id=\"DejaVuSans-Bold-30\" d=\"M 2944 2338 \nQ 2944 3213 2780 3570 \nQ 2616 3928 2228 3928 \nQ 1841 3928 1675 3570 \nQ 1509 3213 1509 2338 \nQ 1509 1453 1675 1090 \nQ 1841 728 2228 728 \nQ 2613 728 2778 1090 \nQ 2944 1453 2944 2338 \nz\nM 4147 2328 \nQ 4147 1169 3647 539 \nQ 3147 -91 2228 -91 \nQ 1306 -91 806 539 \nQ 306 1169 306 2328 \nQ 306 3491 806 4120 \nQ 1306 4750 2228 4750 \nQ 3147 4750 3647 4120 \nQ 4147 3491 4147 2328 \nz\n\" transform=\"scale(0.015625)\"/>\n      </defs>\n      <use xlink:href=\"#DejaVuSans-Bold-30\"/>\n     </g>\n    </g>\n   </g>\n   <g id=\"text_2\">\n    <g clip-path=\"url(#p3b735ed04d)\">\n     <!-- 1 -->\n     <g transform=\"translate(196.527335 97.52081)scale(0.12 -0.12)\">\n      <defs>\n       <path id=\"DejaVuSans-Bold-31\" d=\"M 750 831 \nL 1813 831 \nL 1813 3847 \nL 722 3622 \nL 722 4441 \nL 1806 4666 \nL 2950 4666 \nL 2950 831 \nL 4013 831 \nL 4013 0 \nL 750 0 \nL 750 831 \nz\n\" transform=\"scale(0.015625)\"/>\n      </defs>\n      <use xlink:href=\"#DejaVuSans-Bold-31\"/>\n     </g>\n    </g>\n   </g>\n   <g id=\"text_3\">\n    <g clip-path=\"url(#p3b735ed04d)\">\n     <!-- 2 -->\n     <g transform=\"translate(278.447497 273.519514)scale(0.12 -0.12)\">\n      <defs>\n       <path id=\"DejaVuSans-Bold-32\" d=\"M 1844 884 \nL 3897 884 \nL 3897 0 \nL 506 0 \nL 506 884 \nL 2209 2388 \nQ 2438 2594 2547 2791 \nQ 2656 2988 2656 3200 \nQ 2656 3528 2436 3728 \nQ 2216 3928 1850 3928 \nQ 1569 3928 1234 3808 \nQ 900 3688 519 3450 \nL 519 4475 \nQ 925 4609 1322 4679 \nQ 1719 4750 2100 4750 \nQ 2938 4750 3402 4381 \nQ 3866 4013 3866 3353 \nQ 3866 2972 3669 2642 \nQ 3472 2313 2841 1759 \nL 1844 884 \nz\n\" transform=\"scale(0.015625)\"/>\n      </defs>\n      <use xlink:href=\"#DejaVuSans-Bold-32\"/>\n     </g>\n    </g>\n   </g>\n   <g id=\"text_4\">\n    <g clip-path=\"url(#p3b735ed04d)\">\n     <!-- 3 -->\n     <g transform=\"translate(40.512916 35.502986)scale(0.12 -0.12)\">\n      <defs>\n       <path id=\"DejaVuSans-Bold-33\" d=\"M 2981 2516 \nQ 3453 2394 3698 2092 \nQ 3944 1791 3944 1325 \nQ 3944 631 3412 270 \nQ 2881 -91 1863 -91 \nQ 1503 -91 1142 -33 \nQ 781 25 428 141 \nL 428 1069 \nQ 766 900 1098 814 \nQ 1431 728 1753 728 \nQ 2231 728 2486 893 \nQ 2741 1059 2741 1369 \nQ 2741 1688 2480 1852 \nQ 2219 2016 1709 2016 \nL 1228 2016 \nL 1228 2791 \nL 1734 2791 \nQ 2188 2791 2409 2933 \nQ 2631 3075 2631 3366 \nQ 2631 3634 2415 3781 \nQ 2200 3928 1806 3928 \nQ 1516 3928 1219 3862 \nQ 922 3797 628 3669 \nL 628 4550 \nQ 984 4650 1334 4700 \nQ 1684 4750 2022 4750 \nQ 2931 4750 3382 4451 \nQ 3834 4153 3834 3553 \nQ 3834 3144 3618 2883 \nQ 3403 2622 2981 2516 \nz\n\" transform=\"scale(0.015625)\"/>\n      </defs>\n      <use xlink:href=\"#DejaVuSans-Bold-33\"/>\n     </g>\n    </g>\n   </g>\n   <g id=\"text_5\">\n    <g clip-path=\"url(#p3b735ed04d)\">\n     <!-- 4 -->\n     <g transform=\"translate(239.795735 182.405354)scale(0.12 -0.12)\">\n      <defs>\n       <path id=\"DejaVuSans-Bold-34\" d=\"M 2356 3675 \nL 1038 1722 \nL 2356 1722 \nL 2356 3675 \nz\nM 2156 4666 \nL 3494 4666 \nL 3494 1722 \nL 4159 1722 \nL 4159 850 \nL 3494 850 \nL 3494 0 \nL 2356 0 \nL 2356 850 \nL 288 850 \nL 288 1881 \nL 2156 4666 \nz\n\" transform=\"scale(0.015625)\"/>\n      </defs>\n      <use xlink:href=\"#DejaVuSans-Bold-34\"/>\n     </g>\n    </g>\n   </g>\n   <g id=\"text_6\">\n    <g clip-path=\"url(#p3b735ed04d)\">\n     <!-- 5 -->\n     <g transform=\"translate(326.476809 135.871773)scale(0.12 -0.12)\">\n      <defs>\n       <path id=\"DejaVuSans-Bold-35\" d=\"M 678 4666 \nL 3669 4666 \nL 3669 3781 \nL 1638 3781 \nL 1638 3059 \nQ 1775 3097 1914 3117 \nQ 2053 3138 2203 3138 \nQ 3056 3138 3531 2711 \nQ 4006 2284 4006 1522 \nQ 4006 766 3489 337 \nQ 2972 -91 2053 -91 \nQ 1656 -91 1267 -14 \nQ 878 63 494 219 \nL 494 1166 \nQ 875 947 1217 837 \nQ 1559 728 1863 728 \nQ 2300 728 2551 942 \nQ 2803 1156 2803 1522 \nQ 2803 1891 2551 2103 \nQ 2300 2316 1863 2316 \nQ 1603 2316 1309 2248 \nQ 1016 2181 678 2041 \nL 678 4666 \nz\n\" transform=\"scale(0.015625)\"/>\n      </defs>\n      <use xlink:href=\"#DejaVuSans-Bold-35\"/>\n     </g>\n    </g>\n   </g>\n   <g id=\"text_7\">\n    <g clip-path=\"url(#p3b735ed04d)\">\n     <!-- 7 -->\n     <g transform=\"translate(91.398663 113.428745)scale(0.12 -0.12)\">\n      <defs>\n       <path id=\"DejaVuSans-Bold-37\" d=\"M 428 4666 \nL 3944 4666 \nL 3944 3988 \nL 2125 0 \nL 953 0 \nL 2675 3781 \nL 428 3781 \nL 428 4666 \nz\n\" transform=\"scale(0.015625)\"/>\n      </defs>\n      <use xlink:href=\"#DejaVuSans-Bold-37\"/>\n     </g>\n    </g>\n   </g>\n   <g id=\"text_8\">\n    <g clip-path=\"url(#p3b735ed04d)\">\n     <!-- 6 -->\n     <g transform=\"translate(397.537709 225.549306)scale(0.12 -0.12)\">\n      <defs>\n       <path id=\"DejaVuSans-Bold-36\" d=\"M 2316 2303 \nQ 2000 2303 1842 2098 \nQ 1684 1894 1684 1484 \nQ 1684 1075 1842 870 \nQ 2000 666 2316 666 \nQ 2634 666 2792 870 \nQ 2950 1075 2950 1484 \nQ 2950 1894 2792 2098 \nQ 2634 2303 2316 2303 \nz\nM 3803 4544 \nL 3803 3681 \nQ 3506 3822 3243 3889 \nQ 2981 3956 2731 3956 \nQ 2194 3956 1894 3657 \nQ 1594 3359 1544 2772 \nQ 1750 2925 1990 3001 \nQ 2231 3078 2516 3078 \nQ 3231 3078 3670 2659 \nQ 4109 2241 4109 1563 \nQ 4109 813 3618 361 \nQ 3128 -91 2303 -91 \nQ 1394 -91 895 523 \nQ 397 1138 397 2266 \nQ 397 3422 980 4083 \nQ 1563 4744 2578 4744 \nQ 2900 4744 3203 4694 \nQ 3506 4644 3803 4544 \nz\n\" transform=\"scale(0.015625)\"/>\n      </defs>\n      <use xlink:href=\"#DejaVuSans-Bold-36\"/>\n     </g>\n    </g>\n   </g>\n  </g>\n </g>\n <defs>\n  <clipPath id=\"p3b735ed04d\">\n   <rect x=\"7.2\" y=\"7.2\" width=\"432\" height=\"288\"/>\n  </clipPath>\n </defs>\n</svg>\n",
      "image/png": "[encoded data removed]"
     },
     "metadata": {}
    }
   ],
   "source": [
    "g = nx.Graph()\n",
    "nx.add_path(g, [0, 1])\n",
    "nx.add_path(g, [0, 2])\n",
    "nx.add_path(g, [1, 3])\n",
    "nx.add_path(g, [2, 4])\n",
    "nx.add_path(g, [4, 5])\n",
    "nx.add_path(g, [4, 7])\n",
    "nx.add_path(g, [5, 6])\n",
    "nx.add_path(g, [6, 2])\n",
    "nx.add_path(g, [7, 4])\n",
    "nx.add_path(g, [1, 5])\n",
    "nx.add_path(g, [0, 6])\n",
    "nx.add_path(g, [5, 7])\n",
    "nx.add_path(g, [7, 3])\n",
    "nx.draw(g, with_labels=True, font_weight='bold')"
   ]
  },
  {
   "cell_type": "code",
   "execution_count": 14,
   "metadata": {},
   "outputs": [],
   "source": [
    "def build_hc(g, para):\n",
    "    hc = Circuit()                  # 创建量子线路\n",
    "    for i in g.edges:\n",
    "        hc += ZZ(para).on(i)        # 对图中的每条边作用ZZ门\n",
    "    hc.barrier()                    # 添加Barrier以方便展示线路\n",
    "    return hc"
   ]
  },
  {
   "cell_type": "code",
   "execution_count": 4,
   "metadata": {},
   "outputs": [],
   "source": [
    "# pylint: disable=W0104\n",
    "circuit = build_hc(g, 'gamma')\n",
    "# circuit.svg()"
   ]
  },
  {
   "cell_type": "code",
   "execution_count": 5,
   "metadata": {},
   "outputs": [],
   "source": [
    "def build_hb(g, para):\n",
    "    hb = Circuit()                  # 创建量子线路\n",
    "    for i in g.nodes:\n",
    "        hb += RX(para).on(i)        # 对每个节点作用RX门\n",
    "    hb.barrier()                    # 添加Barrier以方便展示线路\n",
    "    return hb"
   ]
  },
  {
   "cell_type": "code",
   "execution_count": 6,
   "metadata": {},
   "outputs": [],
   "source": [
    "# pylint: disable=W0104\n",
    "circuit = build_hb(g, 'beta')\n",
    "#circuit.svg()\n"
   ]
  },
  {
   "cell_type": "code",
   "execution_count": 7,
   "metadata": {},
   "outputs": [],
   "source": [
    "# pylint: disable=W0104\n",
    "circuit = build_hc(g, 'gamma') + build_hb(g, 'beta')\n",
    "# circuit.svg()"
   ]
  },
  {
   "cell_type": "code",
   "execution_count": 8,
   "metadata": {},
   "outputs": [],
   "source": [
    "def build_ansatz(g, p):                    # g是max-cut问题的图，p是ansatz线路的层数\n",
    "    circ = Circuit()                       # 创建量子线路\n",
    "    for i in range(p):\n",
    "        circ += build_hc(g, f'g{i}')       # 添加Uc对应的线路，参数记为g0、g1、g2...\n",
    "        circ += build_hb(g, f'b{i}')       # 添加Ub对应的线路，参数记为b0、b1、b2...\n",
    "    return circ"
   ]
  },
  {
   "cell_type": "code",
   "execution_count": 9,
   "metadata": {},
   "outputs": [],
   "source": [
    "def build_ham(g):\n",
    "    ham = QubitOperator()\n",
    "    for i in g.edges:\n",
    "        ham += QubitOperator(f'Z{i[0]} Z{i[1]}')  # 生成哈密顿量Hc\n",
    "    return ham"
   ]
  },
  {
   "cell_type": "code",
   "execution_count": 10,
   "metadata": {},
   "outputs": [],
   "source": [
    "# pylint: disable=W0104\n",
    "p = 4\n",
    "ham = Hamiltonian(build_ham(g))              # 生成哈密顿量\n",
    "init_state_circ = UN(H, g.nodes)             # 生成均匀叠加态，即对所有量子比特作用H门\n",
    "ansatz = build_ansatz(g, p)                  # 生成ansatz线路\n",
    "circ = init_state_circ + ansatz              # 将初始化线路与ansatz线路组合成一个线路\n",
    "# circ.svg()"
   ]
  },
  {
   "cell_type": "code",
   "execution_count": 16,
   "metadata": {},
   "outputs": [],
   "source": [
    "import mindspore as ms\n",
    "ms.set_context(mode=ms.PYNATIVE_MODE, device_target=\"CPU\")\n",
    "\n",
    "sim = Simulator('projectq', circ.n_qubits)                     # 创建模拟器，backend使用‘projectq’，能模拟5个比特（'circ'线路中包含的比特数）\n",
    "grad_ops = sim.get_expectation_with_grad(ham, circ)            # 获取计算变分量子线路的期望值和梯度的算子\n",
    "net = MQAnsatzOnlyLayer(grad_ops)                              # 生成待训练的神经网络\n",
    "opti = nn.Adam(net.trainable_params(), learning_rate=0.05)     # 设置针对网络中所有可训练参数、学习率为0.05的Adam优化器\n",
    "train_net = nn.TrainOneStepCell(net, opti)                     # 对神经网络进行一步训练"
   ]
  },
  {
   "cell_type": "code",
   "execution_count": 12,
   "metadata": {
    "tags": []
   },
   "outputs": [
    {
     "output_type": "stream",
     "name": "stderr",
     "text": "[WARNING] DEBUG(368,7f5550f24740,python):2022-06-20-06:32:29.586.557 [mindspore/ccsrc/debug/debugger/debugger.cc:95] Debugger] Not enabling debugger. Debugger does not support CPU.\ntrain step: 0 , cut: [5.999169]\ntrain step: 10 , cut: [7.9966173]\ntrain step: 20 , cut: [8.997269]\ntrain step: 30 , cut: [9.332405]\ntrain step: 40 , cut: [9.447646]\ntrain step: 50 , cut: [9.515072]\ntrain step: 60 , cut: [9.53264]\ntrain step: 70 , cut: [9.5426655]\ntrain step: 80 , cut: [9.543657]\ntrain step: 90 , cut: [9.544959]\ntrain step: 100 , cut: [9.545015]\ntrain step: 110 , cut: [9.545161]\ntrain step: 120 , cut: [9.545191]\ntrain step: 130 , cut: [9.545198]\ntrain step: 140 , cut: [9.545204]\ntrain step: 150 , cut: [9.545207]\ntrain step: 160 , cut: [9.545208]\ntrain step: 170 , cut: [9.545208]\ntrain step: 180 , cut: [9.545208]\ntrain step: 190 , cut: [9.545208]\n"
    }
   ],
   "source": [
    "for i in range(200):\n",
    "    cut = (len(g.edges) - train_net()) / 2      # 将神经网络训练一步并计算得到的结果（切割边数）。注意：每当'train_net()'运行一次，神经网络就训练了一步\n",
    "    if i%10 == 0:\n",
    "        print(\"train step:\", i, \", cut:\", cut)  # 每训练10步，打印当前训练步数和当前得到的切割边数"
   ]
  },
  {
   "cell_type": "code",
   "execution_count": 15,
   "metadata": {
    "tags": []
   },
   "outputs": [
    {
     "output_type": "stream",
     "name": "stdout",
     "text": "{'g0': 0.17905602, 'b0': -1.1259468, 'g1': 0.3577803, 'b1': -0.85859597, 'g2': 0.42885056, 'b2': -0.6286932, 'g3': 0.48336348, 'b3': -0.31989393}\n"
    }
   ],
   "source": [
    "pr = dict(zip(ansatz.params_name, net.weight.asnumpy())) # 获取线路参数\n",
    "print(pr)"
   ]
  },
  {
   "cell_type": "code",
   "execution_count": null,
   "metadata": {},
   "outputs": [],
   "source": []
  }
 ]
}