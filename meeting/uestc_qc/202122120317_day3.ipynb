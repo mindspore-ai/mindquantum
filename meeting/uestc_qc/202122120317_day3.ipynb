{
 "metadata": {
  "language_info": {
   "codemirror_mode": {
    "name": "ipython",
    "version": 3
   },
   "file_extension": ".py",
   "mimetype": "text/x-python",
   "name": "python",
   "nbconvert_exporter": "python",
   "pygments_lexer": "ipython3",
   "version": "3.7.5-final"
  },
  "orig_nbformat": 2,
  "kernelspec": {
   "name": "python37564bit2ddc0c12c18c4bc39459dffbf3d62cb8",
   "display_name": "Python 3.7.5 64-bit"
  }
 },
 "nbformat": 4,
 "nbformat_minor": 2,
 "cells": [
  {
   "cell_type": "code",
   "execution_count": 1,
   "metadata": {},
   "outputs": [],
   "source": [
    "from mindquantum import *\n"
   ]
  },
  {
   "cell_type": "code",
   "execution_count": 7,
   "metadata": {
    "tags": []
   },
   "outputs": [
    {
     "output_type": "stream",
     "name": "stdout",
     "text": "1¦1000⟩\nq0: ───────H──\n\nq1: ───────H──\n\nq2: ───────H──\n\nq3: ──X────H──\n1/4¦0000⟩\n1/4¦0001⟩\n1/4¦0010⟩\n1/4¦0011⟩\n1/4¦0100⟩\n1/4¦0101⟩\n1/4¦0110⟩\n1/4¦0111⟩\n-1/4¦1000⟩\n-1/4¦1001⟩\n-1/4¦1010⟩\n-1/4¦1011⟩\n-1/4¦1100⟩\n-1/4¦1101⟩\n-1/4¦1110⟩\n-1/4¦1111⟩\n"
    }
   ],
   "source": [
    "n=3\n",
    "circ = Circuit()\n",
    "circ += X.on(n)\n",
    "sim = Simulator(\"projectq\", n+1)\n",
    "sim.apply_circuit(circ)\n",
    "print(sim.get_qs(True))\n",
    "\n",
    "circ += BarrierGate(show=False)\n",
    "for i in range(n+1):\n",
    "    circ += H.on(i)\n",
    "sim.reset()\n",
    "print(circ)\n",
    "sim.apply_circuit(circ)\n",
    "print(sim.get_qs(True))"
   ]
  },
  {
   "cell_type": "code",
   "execution_count": 9,
   "metadata": {
    "tags": []
   },
   "outputs": [
    {
     "output_type": "stream",
     "name": "stdout",
     "text": "q0: ───────H────●────────────\n                │\nq1: ───────H────┼────●───────\n                │    │\nq2: ───────H────┼────┼────●──\n                │    │    │\nq3: ──X────H────X────X────X──\npsi2: 1/4¦0000⟩\n-1/4¦0001⟩\n-1/4¦0010⟩\n1/4¦0011⟩\n-1/4¦0100⟩\n1/4¦0101⟩\n1/4¦0110⟩\n-1/4¦0111⟩\n-1/4¦1000⟩\n1/4¦1001⟩\n1/4¦1010⟩\n-1/4¦1011⟩\n1/4¦1100⟩\n-1/4¦1101⟩\n-1/4¦1110⟩\n1/4¦1111⟩\n"
    }
   ],
   "source": [
    "for i in range(n):\n",
    "    circ += X.on(n, i)\n",
    "circ += BarrierGate(show=False)\n",
    "print(circ)\n",
    "sim.reset()\n",
    "sim.apply_circuit(circ)\n",
    "print('psi2:', sim.get_qs(True))"
   ]
  },
  {
   "cell_type": "code",
   "execution_count": 11,
   "metadata": {
    "tags": []
   },
   "outputs": [
    {
     "output_type": "stream",
     "name": "stdout",
     "text": "q0: ───────H────●──────────────H──\n                │\nq1: ───────H────┼────●─────────H──\n                │    │\nq2: ───────H────┼────┼────●────H──\n                │    │    │\nq3: ──X────H────X────X────X───────\n√2/2¦0111⟩\n-√2/2¦1111⟩\n"
    }
   ],
   "source": [
    "for i in range(n):\n",
    "    circ += H.on(i)\n",
    "print(circ)\n",
    "sim.reset()\n",
    "sim.apply_circuit(circ)\n",
    "print(sim.get_qs(True))"
   ]
  },
  {
   "cell_type": "code",
   "execution_count": 12,
   "metadata": {
    "tags": []
   },
   "outputs": [
    {
     "output_type": "stream",
     "name": "stdout",
     "text": "q0: ───────H────●──────────────H────M(q0)──\n                │\nq1: ───────H────┼────●─────────H────M(q1)──\n                │    │\nq2: ───────H────┼────┼────●────H────M(q2)──\n                │    │    │\nq3: ──X────H────X────X────X────────────────\nshots: 1\nKeys: q2 q1 q0│0.00     0.2         0.4         0.6         0.8         1.0\n──────────────┼───────────┴───────────┴───────────┴───────────┴───────────┴\n           111│▓▓▓▓▓▓▓▓▓▓▓▓▓▓▓▓▓▓▓▓▓▓▓▓▓▓▓▓▓▓▓▓▓▓▓▓▓▓▓▓▓▓▓▓▓▓▓▓▓▓▓▓▓▓▓▓▓▓▓▓\n              │\n{'111': 1}\n"
    }
   ],
   "source": [
    "for i in range(n):\n",
    "    circ += Measure().on(i)\n",
    "print(circ)\n",
    "sim.reset()\n",
    "bs = sim.sampling(circ)\n",
    "print(bs)"
   ]
  }
 ]
}