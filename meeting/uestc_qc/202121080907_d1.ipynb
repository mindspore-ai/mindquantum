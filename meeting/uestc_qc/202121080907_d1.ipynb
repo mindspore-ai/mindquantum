{
 "cells": [
  {
   "cell_type": "markdown",
   "metadata": {},
   "source": [
    "# Day 1\n",
    "## 1.1 多比特的量子态矢量或矩阵的张量乘积计算\n",
    "$$\n",
    "|\\psi \\rangle \\otimes |\\phi\\rangle = \\left(\\begin{matrix} a \\\\ b \\end{matrix}\\right) \\otimes \\left(\\begin{matrix} c \\\\ d \\end{matrix}\\right)\n",
    "= \\left(\\begin{matrix} c\\left(\\begin{matrix} a \\\\ b \\end{matrix}\\right) \\\\ d\\left(\\begin{matrix} a \\\\ b \\end{matrix}\\right) \\end{matrix}\\right)\n",
    "= \\left(\\begin{matrix} ac \\\\ ad \\\\ bc \\\\ bd \\end{matrix}\\right)\n",
    "$$\n",
    "\n",
    "### 请完成：\n",
    "请利用numpy完成下面两个矩阵的张量乘法：\n",
    "$$\n",
    "A=\\left(\\begin{matrix}\n",
    "1 & 1 \\\\ 1 &1\n",
    "\\end{matrix}\\right),\n",
    "B=\\left(\\begin{matrix}\n",
    "11 & 12 \\\\21&22\n",
    "\\end{matrix}\\right).\n",
    "$$\n",
    "请计算$A\\otimes B$和$B\\otimes A$.\n"
   ]
  },
  {
   "cell_type": "code",
   "execution_count": 3,
   "metadata": {
    "tags": []
   },
   "outputs": [
    {
     "output_type": "stream",
     "name": "stdout",
     "text": "A⊗B = \n[[11 12 11 12]\n [21 22 21 22]\n [11 12 11 12]\n [21 22 21 22]]\n\nB⊗A = \n[[11 11 12 12]\n [11 11 12 12]\n [21 21 22 22]\n [21 21 22 22]]\n"
    }
   ],
   "source": [
    "import numpy as np\n",
    "\n",
    "A = np.array([[1, 1], [1, 1]])\n",
    "B = np.array([[11, 12], [21, 22]])\n",
    "A_product_B = np.kron(A, B)\n",
    "B_product_A = np.kron(B, A)\n",
    "print('A⊗B = \\n{}'.format(A_product_B))\n",
    "print()\n",
    "print('B⊗A = \\n{}'.format(B_product_A))\n"
   ]
  },
  {
   "cell_type": "markdown",
   "metadata": {},
   "source": [
    "## 1.2 基本单比特旋转门之间的变换关系\n",
    "量子力学中的对易关系(commutation relationship)，可以进行一些量子门之间的相互转化：\n",
    "$$\\left[ X, Y\\right] = XY-YX=2iZ,$$\n",
    "$$\\left[ Y, Z\\right] = YZ-ZY=2iX,$$\n",
    "$$\\left[ Z, X\\right] = ZX-XZ=2iY,$$\n",
    "$$ \\left[ X, X\\right] = \\left[ Y, Y\\right] = \\left[ Z, Z\\right] = 0$$\n",
    "以及反对易关系(anti-commutation relationship):\n",
    "$$\\{ X, Y\\} =XY + YX = 0,$$\n",
    "$$\\{ Z, Y\\} =ZY + YZ = 0,$$\n",
    "$$\\{ X, Z\\} =XZ + ZX = 0,$$\n",
    "如\n",
    "$$YZY|\\psi\\rangle = -Z|\\psi\\rangle$$\n",
    "\n",
    "### 请完成：\n",
    "X, Y门之间的变换展示"
   ]
  },
  {
   "cell_type": "markdown",
   "metadata": {},
   "source": [
    "$$XX=I \\implies Y=XXY,Y=YXX\\cdots$$\n",
    "$$X=-YXY$$\n",
    "$$Y=-XYX$$"
   ]
  },
  {
   "cell_type": "code",
   "execution_count": 4,
   "metadata": {
    "tags": []
   },
   "outputs": [
    {
     "output_type": "stream",
     "name": "stdout",
     "text": "s0= [0.92847669+0.j 0.37139068+0.j]\nXXs0= [0.92847669+0.j 0.37139068+0.j]\nXX = I\n\nXs0= [0.37139068+0.j 0.92847669+0.j]\nYXYs0= [-0.37139068+0.j -0.92847669+0.j]\nX = -YXY\n\nYs0= [0.-0.37139068j 0.+0.92847669j]\nXYXs0= [0.+0.37139068j 0.-0.92847669j]\nY = -XYX\n\n"
    }
   ],
   "source": [
    "from mindquantum import Simulator, Circuit, X, Y\n",
    "import numpy as np\n",
    "\n",
    "sim = Simulator('projectq', 1)\n",
    "sim.set_qs(np.array([0.25, 0.1]))  # 可修改\n",
    "s0 = sim.get_qs() # 归一化后的quantum state\n",
    "print('s0=', s0)\n",
    "\n",
    "# XX\n",
    "sim.set_qs(s0)\n",
    "sim.apply_circuit(Circuit([X.on(0), X.on(0)]))\n",
    "XXs0 = sim.get_qs()\n",
    "print('XXs0=', XXs0)\n",
    "\n",
    "if np.allclose(s0, XXs0):\n",
    "    print('XX = I')\n",
    "print()\n",
    "\n",
    "# X\n",
    "sim.set_qs(s0)\n",
    "sim.apply_gate(X.on(0))\n",
    "Xs0 = sim.get_qs()\n",
    "print('Xs0=', Xs0)\n",
    "\n",
    "# YXY\n",
    "sim.set_qs(s0)\n",
    "sim.apply_circuit(Circuit([Y.on(0), X.on(0), Y.on(0)]))\n",
    "YXYs0 = sim.get_qs()\n",
    "print('YXYs0=', YXYs0)\n",
    "\n",
    "if np.allclose(Xs0, np.multiply(-1, YXYs0)):\n",
    "    print('X = -YXY')\n",
    "print()\n",
    "\n",
    "# Y\n",
    "sim.set_qs(s0)\n",
    "sim.apply_gate(Y.on(0))\n",
    "Ys0 = sim.get_qs()\n",
    "print('Ys0=', Ys0)\n",
    "\n",
    "# XYX\n",
    "sim.set_qs(s0)\n",
    "sim.apply_circuit(Circuit([X.on(0), Y.on(0), X.on(0)]))\n",
    "XYXs0 = sim.get_qs()\n",
    "print('XYXs0=', XYXs0)\n",
    "\n",
    "if np.allclose(Ys0, np.multiply(-1, XYXs0)):\n",
    "    print('Y = -XYX')\n",
    "print()\n"
   ]
  }
 ],
 "metadata": {
  "kernelspec": {
   "display_name": "Python 3.7.5 64-bit",
   "language": "python",
   "name": "python37564bit60fe9020596549199db5095a8ade436d"
  },
  "language_info": {
   "codemirror_mode": {
    "name": "ipython",
    "version": 3
   },
   "file_extension": ".py",
   "mimetype": "text/x-python",
   "name": "python",
   "nbconvert_exporter": "python",
   "pygments_lexer": "ipython3",
   "version": "3.7.5-final"
  },
  "vscode": {
   "interpreter": {
    "hash": "e7370f93d1d0cde622a1f8e1c04877d8463912d04d973331ad4851f04de6915a"
   }
  }
 },
 "nbformat": 4,
 "nbformat_minor": 4
}