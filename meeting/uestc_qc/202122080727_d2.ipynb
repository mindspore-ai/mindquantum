{
 "metadata": {
  "language_info": {
   "codemirror_mode": {
    "name": "ipython",
    "version": 3
   },
   "file_extension": ".py",
   "mimetype": "text/x-python",
   "name": "python",
   "nbconvert_exporter": "python",
   "pygments_lexer": "ipython3",
   "version": "3.7.5-final"
  },
  "orig_nbformat": 2,
  "kernelspec": {
   "name": "python37564bit67dc63c0eabb40af8819539a177a3155",
   "display_name": "Python 3.7.5 64-bit"
  }
 },
 "nbformat": 4,
 "nbformat_minor": 2,
 "cells": [
  {
   "cell_type": "code",
   "execution_count": 27,
   "metadata": {
    "tags": []
   },
   "outputs": [
    {
     "output_type": "stream",
     "name": "stdout",
     "text": "原始态：\n√2/2¦0⟩\n√2/2¦1⟩\nYgate：\n-√2/2j¦0⟩\n√2/2j¦1⟩\nCircuit：\n-√2/2j¦0⟩\n√2/2j¦1⟩\n"
    }
   ],
   "source": [
    "import os \n",
    "os.environ[\"OMP_NUM_THREADS\"] = '1'\n",
    "from mindquantum import Simulator, Circuit, X, Y, Z\n",
    "import numpy as np\n",
    "\n",
    "sim = Simulator(\"projectq\", n_qubits=1)\n",
    "sim.reset()\n",
    "sim.set_qs(np.array([1,1]))\n",
    "#sim.apply_gate(H.on(0))\n",
    "print(\"原始态：\")\n",
    "print(sim.get_qs(True))\n",
    "\n",
    "#直接用Y门变换\n",
    "sim.apply_gate(Y.on(0))\n",
    "print(\"Ygate：\")\n",
    "print(sim.get_qs(True))\n",
    "\n",
    "#创建量子线路进行变换\n",
    "sim.reset()\n",
    "sim.set_qs(np.array([1,1]))\n",
    "cir = Circuit(Y.on(0))\n",
    "#cir = Circuit([H.on(0),Y.on(0)])\n",
    "sim.apply_circuit(cir)\n",
    "print(\"Circuit：\")\n",
    "print(sim.get_qs(True))\n",
    "\n"
   ]
  },
  {
   "cell_type": "code",
   "execution_count": 24,
   "metadata": {
    "tags": []
   },
   "outputs": [
    {
     "output_type": "stream",
     "name": "stdout",
     "text": "[[1.-1.j 1.+1.j]\n [1.+1.j 1.-1.j]]\n"
    }
   ],
   "source": [
    "import numpy as numpy\n",
    "Identity = np.array([[1,0], [0,1]])\n",
    "Xgate = X.matrix()\n",
    "V = (1.-1j) * (Identity + 1j * Xgate)\n",
    "print(V)\n",
    "\n",
    "#C-V\n",
    "CV = np.array(\n",
    "    [[1,0,0,0],\n",
    "    [0,1,0,0],\n",
    "    [0,0,1-1j,1+1j],\n",
    "    [0,0,1+1j,1-1j]]\n",
    ")"
   ]
  },
  {
   "cell_type": "code",
   "execution_count": null,
   "metadata": {},
   "outputs": [],
   "source": []
  }
 ]
}