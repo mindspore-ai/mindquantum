{
 "metadata": {
  "language_info": {
   "codemirror_mode": {
    "name": "ipython",
    "version": 3
   },
   "file_extension": ".py",
   "mimetype": "text/x-python",
   "name": "python",
   "nbconvert_exporter": "python",
   "pygments_lexer": "ipython3",
   "version": "3.7.5-final"
  },
  "orig_nbformat": 2,
  "kernelspec": {
   "name": "python37564bit1970392e108141878ac8fd745f5e7e2d",
   "display_name": "Python 3.7.5 64-bit"
  }
 },
 "nbformat": 4,
 "nbformat_minor": 2,
 "cells": [
  {
   "cell_type": "code",
   "execution_count": 1,
   "metadata": {
    "tags": []
   },
   "outputs": [
    {
     "output_type": "stream",
     "name": "stdout",
     "text": "[[11 12 11 12]\n [21 22 21 22]\n [11 12 11 12]\n [21 22 21 22]]\n[[11 11 12 12]\n [11 11 12 12]\n [21 21 22 22]\n [21 21 22 22]]\n"
    }
   ],
   "source": [
    "import numpy as np\n",
    "\n",
    "a = np.array([[1,1], [1,1]])  \n",
    "b = np.array([[11,12], [21,22]]) \n",
    "print(np.kron(a, b))  \n",
    "print(np.kron(b, a))"
   ]
  },
  {
   "cell_type": "code",
   "execution_count": 2,
   "metadata": {
    "tags": []
   },
   "outputs": [
    {
     "output_type": "stream",
     "name": "stdout",
     "text": "[0.24253563+0.j 0.9701425 +0.j]\n[0.9701425 +0.j 0.24253563+0.j]\n"
    }
   ],
   "source": [
    "from mindquantum import Simulator, Circuit, X, Y\n",
    "import numpy as np\n",
    "s0 = np.array([0.1, 0.4]) \n",
    "sim = Simulator('projectq', 1)  \n",
    "sim.set_qs(s0)  \n",
    "print(sim.get_qs()) \n",
    "sim.apply_gate(X.on(0)) \n",
    "print(sim.get_qs())"
   ]
  }
 ]
}