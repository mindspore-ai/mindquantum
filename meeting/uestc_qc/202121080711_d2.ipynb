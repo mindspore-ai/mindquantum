{
 "metadata": {
  "language_info": {
   "codemirror_mode": {
    "name": "ipython",
    "version": 3
   },
   "file_extension": ".py",
   "mimetype": "text/x-python",
   "name": "python",
   "nbconvert_exporter": "python",
   "pygments_lexer": "ipython3",
   "version": "3.7.5-final"
  },
  "orig_nbformat": 2,
  "kernelspec": {
   "name": "python37564bit8e232dce78a2443891a07ce8687c8eef",
   "display_name": "Python 3.7.5 64-bit"
  }
 },
 "nbformat": 4,
 "nbformat_minor": 2,
 "cells": [
  {
   "source": [
    "# Day 2\n",
    "## 2.1 $|0>+|1>$态做Y门\n",
    "$$\n",
    "Y(|0\\rangle + |1\\rangle) = \n",
    "\\begin{bmatrix}\n",
    "0 & -i \\\\ i &0\n",
    "\\end{bmatrix}\n",
    "\\begin{bmatrix}\n",
    "1 \\\\ 1\n",
    "\\end{bmatrix}\n",
    "$$\n",
    "请分别利用sim.apply_gate和sim.apply_circuit来完成"
   ],
   "cell_type": "markdown",
   "metadata": {}
  },
  {
   "cell_type": "code",
   "execution_count": 1,
   "metadata": {
    "tags": []
   },
   "outputs": [
    {
     "output_type": "stream",
     "name": "stdout",
     "text": "|0⟩+|1⟩:\n √2/2¦0⟩\n√2/2¦1⟩\nYgate:\n -√2/2j¦0⟩\n√2/2j¦1⟩\nYcircuit:\n -√2/2j¦0⟩\n√2/2j¦1⟩\n"
    }
   ],
   "source": [
    "from mindquantum import Simulator, Circuit, X, Y, Z\n",
    "import numpy as np\n",
    "s0 =  np.array([1, 1])#生成|0⟩+|1⟩的矩阵形式\n",
    "sim = Simulator('projectq',n_qubits=1)\n",
    "sim.reset\n",
    "sim.set_qs(s0)\n",
    "print(\"|0⟩+|1⟩:\\n\", sim.get_qs(True))\n",
    "sim.apply_gate(Y.on(0))\n",
    "print(\"Ygate:\\n\", sim.get_qs(True))\n",
    "\n",
    "sim.reset\n",
    "sim.set_qs(s0)\n",
    "circ1 = Circuit([Y.on(0)]) \n",
    "sim.apply_circuit(circ1)\n",
    "print(\"Ycircuit:\\n\", sim.get_qs(True))"
   ]
  }
 ]
}