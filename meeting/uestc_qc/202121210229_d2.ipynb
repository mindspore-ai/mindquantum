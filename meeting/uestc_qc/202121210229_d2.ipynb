{
 "metadata": {
  "language_info": {
   "codemirror_mode": {
    "name": "ipython",
    "version": 3
   },
   "file_extension": ".py",
   "mimetype": "text/x-python",
   "name": "python",
   "nbconvert_exporter": "python",
   "pygments_lexer": "ipython3",
   "version": "3.7.5-final"
  },
  "orig_nbformat": 2,
  "kernelspec": {
   "name": "python37564bit1970392e108141878ac8fd745f5e7e2d",
   "display_name": "Python 3.7.5 64-bit"
  }
 },
 "nbformat": 4,
 "nbformat_minor": 2,
 "cells": [
  {
   "cell_type": "code",
   "execution_count": 2,
   "metadata": {
    "tags": []
   },
   "outputs": [
    {
     "output_type": "stream",
     "name": "stdout",
     "text": "[0.-1.j 0.+1.j]\n[0.-1.j 0.+1.j]\n"
    }
   ],
   "source": [
    "import os\n",
    "os.environ[\"OMP_NUM_THREADS\"] = \"1\"\n",
    "from mindquantum import *\n",
    "import numpy as np\n",
    "\n",
    "s0 = np.array([1, 0]).transpose()\n",
    "s1 = np.array([0, 1]).transpose()\n",
    "sim = Simulator(\"projectq\", 1)\n",
    "circ = Circuit([Y.on(0)])\n",
    "\n",
    "sim.set_qs(s0+s1)\n",
    "sim.apply_gate(Y.on(0))\n",
    "print(sim.get_qs() * np.linalg.norm(s0+s1))\n",
    "\n",
    "sim.set_qs(s0+s1)\n",
    "sim.apply_circuit(circ)\n",
    "print(sim.get_qs() * np.linalg.norm(s0+s1))"
   ]
  },
  {
   "cell_type": "code",
   "execution_count": null,
   "metadata": {},
   "outputs": [],
   "source": []
  }
 ]
}