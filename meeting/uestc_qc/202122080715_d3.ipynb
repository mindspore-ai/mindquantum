{
 "metadata": {
  "language_info": {
   "codemirror_mode": {
    "name": "ipython",
    "version": 3
   },
   "file_extension": ".py",
   "mimetype": "text/x-python",
   "name": "python",
   "nbconvert_exporter": "python",
   "pygments_lexer": "ipython3",
   "version": "3.7.5-final"
  },
  "orig_nbformat": 2,
  "kernelspec": {
   "name": "python37564bit133fbc22bb684c90bbdcd57d764517fd",
   "display_name": "Python 3.7.5 64-bit"
  }
 },
 "nbformat": 4,
 "nbformat_minor": 2,
 "cells": [
  {
   "cell_type": "code",
   "execution_count": 60,
   "metadata": {
    "tags": []
   },
   "outputs": [
    {
     "output_type": "stream",
     "name": "stdout",
     "text": "q3: ──X──\n"
    }
   ],
   "source": [
    "from mindquantum import *\n",
    "# 1. 初始化 4 个量子比特，3 个初值为 |000>, 1 个辅助比特经过逻辑门使其初值为 |1>\n",
    "n_qubits = 3\n",
    "sim = Simulator(\"projectq\", n_qubits + 1)\n",
    "sim.reset()\n",
    "\n",
    "circ = Circuit()\n",
    "circ += X.on(n_qubits)\n",
    "print(circ)"
   ]
  },
  {
   "cell_type": "code",
   "execution_count": 61,
   "metadata": {
    "tags": []
   },
   "outputs": [
    {
     "output_type": "stream",
     "name": "stdout",
     "text": "q0: ───────H──\n\nq1: ───────H──\n\nq2: ───────H──\n\nq3: ──X────H──\n"
    }
   ],
   "source": [
    "# 2. 所有比特都经过 Hadamard 变换，使系统处于叠加态上\n",
    "circ += BarrierGate(show=False)\n",
    "circ += UN(H, n_qubits + 1)\n",
    "print(circ)"
   ]
  },
  {
   "cell_type": "code",
   "execution_count": 62,
   "metadata": {
    "tags": []
   },
   "outputs": [
    {
     "output_type": "stream",
     "name": "stdout",
     "text": "q0: ───────H────●──────────────H──\n                │\nq1: ───────H────┼────●─────────H──\n                │    │\nq2: ───────H────┼────┼────●────H──\n                │    │    │\nq3: ──X────H────X────X────X───────\n"
    }
   ],
   "source": [
    "# 3. 系统经过 oracle 线路 Uf\n",
    "for i in range(n_qubits):\n",
    "    circ += X.on(n_qubits, i)\n",
    "\n",
    "circ += BarrierGate(show=False)\n",
    "circ += UN(H, n_qubits)\n",
    "\n",
    "print(circ)"
   ]
  },
  {
   "source": [
    "# 4. 去除辅助比特，执行测量。如果输出全部为 0，则是 f 是常数的，反之是平衡的。\n",
    "for i in range(n_qubits):\n",
    "    circ += Measure().on(i)\n",
    "sim.reset()\n",
    "bs = sim.sampling(circ)\n",
    "print(bs)"
   ],
   "cell_type": "code",
   "metadata": {
    "tags": []
   },
   "execution_count": 63,
   "outputs": [
    {
     "output_type": "stream",
     "name": "stdout",
     "text": "q0: ───────H────●──────────────H────M(q0)──\n                │\nq1: ───────H────┼────●─────────H────M(q1)──\n                │    │\nq2: ───────H────┼────┼────●────H────M(q2)──\n                │    │    │\nq3: ──X────H────X────X────X────────────────\nshots: 1\nKeys: q2 q1 q0│0.00     0.2         0.4         0.6         0.8         1.0\n──────────────┼───────────┴───────────┴───────────┴───────────┴───────────┴\n           111│▓▓▓▓▓▓▓▓▓▓▓▓▓▓▓▓▓▓▓▓▓▓▓▓▓▓▓▓▓▓▓▓▓▓▓▓▓▓▓▓▓▓▓▓▓▓▓▓▓▓▓▓▓▓▓▓▓▓▓▓\n              │\n{'111': 1}\n"
    }
   ]
  },
  {
   "cell_type": "code",
   "execution_count": null,
   "metadata": {},
   "outputs": [],
   "source": [
    "# 可以看到测出的 |000> 概率为 0，故 f 是均匀的，因为如上电路 circ 对应概率函数 |ψ2L⟩，其中当f是均匀的函数时，函数中一半(−1)^{f(x)=1}，另一半(−1)^{f(x)}=−1，∑x (−1)^{f(x)}=0，所以测出|0⟩⊗n的概率是0"
   ]
  }
 ]
}