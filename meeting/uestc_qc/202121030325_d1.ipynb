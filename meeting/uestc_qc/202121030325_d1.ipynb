{
 "metadata": {
  "language_info": {
   "codemirror_mode": {
    "name": "ipython",
    "version": 3
   },
   "file_extension": ".py",
   "mimetype": "text/x-python",
   "name": "python",
   "nbconvert_exporter": "python",
   "pygments_lexer": "ipython3",
   "version": "3.7.5-final"
  },
  "orig_nbformat": 2,
  "kernelspec": {
   "name": "python37564bit9a5670120054492c9472e24c9a4ce104",
   "display_name": "Python 3.7.5 64-bit"
  }
 },
 "nbformat": 4,
 "nbformat_minor": 2,
 "cells": [
  {
   "cell_type": "code",
   "execution_count": 16,
   "metadata": {
    "tags": []
   },
   "outputs": [
    {
     "output_type": "stream",
     "name": "stdout",
     "text": "[[11 12 11 12]\n [21 22 21 22]\n [11 12 11 12]\n [21 22 21 22]]\n"
    }
   ],
   "source": [
    "import numpy as np \n",
    "\n",
    "A= np.array([[1,1],\n",
    "[1,1]])\n",
    "B= np.array([[11,12],\n",
    "[21,22]])\n",
    "\n",
    "#print(A)\n",
    "#print(B)\n",
    "A_B = np.kron(A,B)\n",
    "B_A = np.kron(A,B)\n",
    "print(A_B)"
   ]
  },
  {
   "cell_type": "code",
   "execution_count": null,
   "metadata": {},
   "outputs": [],
   "source": []
  }
 ]
}