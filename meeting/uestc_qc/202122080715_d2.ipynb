{
 "metadata": {
  "language_info": {
   "codemirror_mode": {
    "name": "ipython",
    "version": 3
   },
   "file_extension": ".py",
   "mimetype": "text/x-python",
   "name": "python",
   "nbconvert_exporter": "python",
   "pygments_lexer": "ipython3",
   "version": "3.7.5-final"
  },
  "orig_nbformat": 2,
  "kernelspec": {
   "name": "python37564bit133fbc22bb684c90bbdcd57d764517fd",
   "display_name": "Python 3.7.5 64-bit"
  }
 },
 "nbformat": 4,
 "nbformat_minor": 2,
 "cells": [
  {
   "cell_type": "code",
   "execution_count": 19,
   "metadata": {
    "tags": []
   },
   "outputs": [
    {
     "output_type": "display_data",
     "data": {
      "text/plain": "",
      "text/html": "<pre style=\"white-space:pre;overflow-x:auto;line-height:normal;font-family:Menlo,'DejaVu Sans Mono',consolas,'Courier New',monospace\"></pre>\n"
     },
     "metadata": {}
    },
    {
     "output_type": "execute_result",
     "data": {
      "text/plain": "q0: ──Y──",
      "text/html": "<pre style=\"white-space: pre;\"><span style=\"color: #000080; text-decoration-color: #000080; font-weight: bold\">q0: ──Y──</span>\n</pre>\n"
     },
     "metadata": {},
     "execution_count": 19
    }
   ],
   "source": [
    "import os\n",
    "os.environ[\"OMP_NUM_THREADS\"] = '1'\n",
    "from mindquantum import Simulator, Circuit, Y\n",
    "import numpy as np\n",
    "\n",
    "circuit = Circuit()   # 声明量子线路\n",
    "circuit += Y.on(0)  # 作用 Y 门于 0 号量子比特\n",
    "circuit  # 查看量子线路"
   ]
  },
  {
   "cell_type": "code",
   "execution_count": 22,
   "metadata": {
    "tags": []
   },
   "outputs": [
    {
     "output_type": "execute_result",
     "data": {
      "text/plain": "projectq simulator with 1 qubit.\nCurrent quantum state:\n√2/2¦0⟩\n√2/2¦1⟩"
     },
     "metadata": {},
     "execution_count": 22
    }
   ],
   "source": [
    "sim = Simulator('projectq', 1)   # 声明一个 2 比特的模拟器\n",
    "# 设置 0 号量子比特状态为 |0> + |1> = (1, 0) + (0, 1)\n",
    "sim.set_qs(np.array([1, 0]) + np.array([0, 1]))\n",
    "sim # 查看状态"
   ]
  },
  {
   "cell_type": "code",
   "execution_count": 23,
   "metadata": {},
   "outputs": [
    {
     "output_type": "execute_result",
     "data": {
      "text/plain": "projectq simulator with 1 qubit.\nCurrent quantum state:\n-√2/2j¦0⟩\n√2/2j¦1⟩"
     },
     "metadata": {},
     "execution_count": 23
    }
   ],
   "source": [
    "sim.apply_circuit(circuit) # 应用量子线路\n",
    "sim # 查看应用后的状态"
   ]
  }
 ]
}