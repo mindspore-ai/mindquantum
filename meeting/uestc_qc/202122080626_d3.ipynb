{
 "cells": [
  {
   "cell_type": "code",
   "execution_count": 3,
   "metadata": {
    "tags": []
   },
   "outputs": [
    {
     "output_type": "stream",
     "name": "stdout",
     "text": "√2/4¦000⟩\n-√2/4¦001⟩\n-√2/4¦010⟩\n√2/4¦011⟩\n-√2/4¦100⟩\n√2/4¦101⟩\n√2/4¦110⟩\n-√2/4¦111⟩\n"
    }
   ],
   "source": [
    "from mindquantum import *\n",
    "n=2\n",
    "\n",
    "sim = Simulator('projectq',n+1)\n",
    "circ = Circuit()\n",
    "circ += X.on(n)\n",
    "circ += BarrierGate(show = False)\n",
    "\n",
    "for i in range(n+1):\n",
    "    circ+=H.on(i)\n",
    "\n",
    "for i in range(n):\n",
    "    circ += X.on(n,i)\n",
    "circ += BarrierGate(show=False)\n",
    "\n",
    "sim.reset()\n",
    "sim.apply_circuit(circ)\n",
    "print(sim.get_qs(True))"
   ]
  },
  {
   "cell_type": "code",
   "execution_count": null,
   "metadata": {},
   "outputs": [],
   "source": []
  }
 ],
 "metadata": {
  "kernelspec": {
   "display_name": "Python 3 (ipykernel)",
   "language": "python",
   "name": "python3"
  },
  "language_info": {
   "codemirror_mode": {
    "name": "ipython",
    "version": 3
   },
   "file_extension": ".py",
   "mimetype": "text/x-python",
   "name": "python",
   "nbconvert_exporter": "python",
   "pygments_lexer": "ipython3",
   "version": "3.7.5-final"
  }
 },
 "nbformat": 4,
 "nbformat_minor": 4
}