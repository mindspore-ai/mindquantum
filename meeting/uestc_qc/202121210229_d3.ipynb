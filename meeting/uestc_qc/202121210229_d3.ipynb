{
 "metadata": {
  "language_info": {
   "codemirror_mode": {
    "name": "ipython",
    "version": 3
   },
   "file_extension": ".py",
   "mimetype": "text/x-python",
   "name": "python",
   "nbconvert_exporter": "python",
   "pygments_lexer": "ipython3",
   "version": "3.7.5-final"
  },
  "orig_nbformat": 2,
  "kernelspec": {
   "name": "python37564bit1970392e108141878ac8fd745f5e7e2d",
   "display_name": "Python 3.7.5 64-bit"
  }
 },
 "nbformat": 4,
 "nbformat_minor": 2,
 "cells": [
  {
   "cell_type": "code",
   "execution_count": 2,
   "metadata": {
    "tags": []
   },
   "outputs": [],
   "source": [
    "from mindquantum import *"
   ]
  },
  {
   "cell_type": "code",
   "execution_count": 3,
   "metadata": {},
   "outputs": [],
   "source": [
    "n=2\n",
    "sim = Simulator('projectq',n+1)\n",
    "circ = Circuit()\n",
    "circ += X.on(n)\n",
    "circ += BarrierGate(show = False)\n",
    "\n"
   ]
  },
  {
   "cell_type": "code",
   "execution_count": 4,
   "metadata": {},
   "outputs": [],
   "source": [
    "for i in range(n+1):\n",
    "    circ+=H.on(i)\n",
    "\n",
    "for i in range(n):\n",
    "    circ += X.on(n,i)\n",
    "circ += BarrierGate(show=False)\n",
    "\n"
   ]
  },
  {
   "cell_type": "code",
   "execution_count": 5,
   "metadata": {
    "tags": []
   },
   "outputs": [
    {
     "output_type": "stream",
     "name": "stdout",
     "text": "√2/4¦000⟩\n-√2/4¦001⟩\n-√2/4¦010⟩\n√2/4¦011⟩\n-√2/4¦100⟩\n√2/4¦101⟩\n√2/4¦110⟩\n-√2/4¦111⟩\n"
    }
   ],
   "source": [
    "sim.reset()\n",
    "sim.apply_circuit(circ)\n",
    "print(sim.get_qs(True))"
   ]
  }
 ]
}