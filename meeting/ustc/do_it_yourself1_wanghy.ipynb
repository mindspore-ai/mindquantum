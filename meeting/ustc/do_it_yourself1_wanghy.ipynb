{
 "cells": [
  {
   "cell_type": "code",
   "execution_count": 2,
   "source": [
    "from mindquantum import Circuit, Simulator\n",
    "from mindquantum import RZ, UN, H, X, Y, Z, RX, RY, RZ, BARRIER, qft\n",
    "import numpy as np"
   ],
   "outputs": [],
   "metadata": {}
  },
  {
   "cell_type": "markdown",
   "source": [
    "## "
   ],
   "metadata": {}
  },
  {
   "cell_type": "code",
   "execution_count": 3,
   "metadata": {},
   "outputs": [],
   "source": [
    "#I forgot to save the notbook that I used to practice in class, so I use this document to practice pull resquest"
   ]
  },
  {
   "cell_type": "code",
   "execution_count": 4,
   "metadata": {
    "tags": []
   },
   "outputs": [
    {
     "output_type": "stream",
     "name": "stdout",
     "text": "q0: ──H────PS(π/2)────PS(π/4)────PS(π/8)────────────────────────────────────────────────────✖───────\n              │          │          │                                                       │       \nq1: ──────────●──────────┼──────────┼───────H────PS(π/2)────PS(π/4)─────────────────────────┼────✖──\n                         │          │               │          │                            │    │  \nq2: ─────────────────────●──────────┼───────────────●──────────┼───────H────PS(π/2)─────────┼────✖──\n                                    │                          │               │            │       \nq3: ────────────────────────────────●──────────────────────────●───────────────●───────H────✖───────\n"
    }
   ],
   "source": [
    "print(qft(range(4)))"
   ]
  },
  {
   "cell_type": "markdown",
   "source": [
    "# Do it yourself\n",
    "验证均匀叠加态经过傅里叶变换后的量子态为零态"
   ],
   "metadata": {}
  }
 ],
 "metadata": {
  "orig_nbformat": 4,
  "language_info": {
   "name": "python",
   "version": "3.7.5-final",
   "mimetype": "text/x-python",
   "codemirror_mode": {
    "name": "ipython",
    "version": 3
   },
   "pygments_lexer": "ipython3",
   "nbconvert_exporter": "python",
   "file_extension": ".py"
  },
  "kernelspec": {
   "name": "python37564bitc4ac1d354553417fab1364e6fa26335f",
   "display_name": "Python 3.7.5 64-bit"
  },
  "interpreter": {
   "hash": "6cd6e2203b621035efd3b4ac9716079b52ce7fc5622f6651a3ae71459e0d54ce"
  }
 },
 "nbformat": 4,
 "nbformat_minor": 2
}