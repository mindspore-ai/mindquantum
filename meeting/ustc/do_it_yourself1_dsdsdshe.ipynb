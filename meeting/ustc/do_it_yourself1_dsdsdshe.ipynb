{
 "cells": [
  {
   "cell_type": "code",
   "execution_count": 1,
   "source": [
    "from mindquantum import Circuit, Simulator\n",
    "from mindquantum import RZ, UN, H, X, Y, Z, RX, RY, RZ, BARRIER, qft\n",
    "import numpy as np"
   ],
   "outputs": [],
   "metadata": {}
  },
  {
   "cell_type": "markdown",
   "source": [
    "## "
   ],
   "metadata": {}
  },
  {
   "cell_type": "code",
   "execution_count": 3,
   "metadata": {},
   "outputs": [
    {
     "output_type": "execute_result",
     "data": {
      "text/plain": "array([[ 0.70710678,  0.70710678],\n       [ 0.70710678, -0.70710678]])"
     },
     "metadata": {},
     "execution_count": 3
    }
   ],
   "source": [
    "H.on(0).matrix()"
   ]
  },
  {
   "cell_type": "code",
   "execution_count": 4,
   "metadata": {},
   "outputs": [
    {
     "output_type": "execute_result",
     "data": {
      "text/plain": "X(1 <-: 0)"
     },
     "metadata": {},
     "execution_count": 4
    }
   ],
   "source": [
    "X.on(1,0)"
   ]
  },
  {
   "cell_type": "code",
   "execution_count": 7,
   "metadata": {},
   "outputs": [
    {
     "output_type": "execute_result",
     "data": {
      "text/plain": "array([[6.123234e-17+0.j, 0.000000e+00-1.j],\n       [0.000000e+00-1.j, 6.123234e-17+0.j]])"
     },
     "metadata": {},
     "execution_count": 7
    }
   ],
   "source": [
    "RX(np.pi).matrix()"
   ]
  },
  {
   "cell_type": "code",
   "execution_count": 9,
   "metadata": {},
   "outputs": [
    {
     "output_type": "execute_result",
     "data": {
      "text/plain": "array([[6.123234e-17+0.j, 0.000000e+00-1.j],\n       [0.000000e+00-1.j, 6.123234e-17+0.j]])"
     },
     "metadata": {},
     "execution_count": 9
    }
   ],
   "source": [
    "RX('theta').matrix({'theta':np.pi})"
   ]
  },
  {
   "cell_type": "code",
   "execution_count": 10,
   "metadata": {},
   "outputs": [
    {
     "output_type": "execute_result",
     "data": {
      "text/plain": "RX(a + 2*b)"
     },
     "metadata": {},
     "execution_count": 10
    }
   ],
   "source": [
    "RX({'a':1,'b':2})"
   ]
  },
  {
   "cell_type": "code",
   "execution_count": null,
   "metadata": {},
   "outputs": [],
   "source": [
    "circuit = Circuit()"
   ]
  },
  {
   "cell_type": "code",
   "execution_count": 12,
   "metadata": {
    "tags": []
   },
   "outputs": [
    {
     "output_type": "stream",
     "name": "stdout",
     "text": "q0: ──H────●──\n           │  \nq1: ───────X──\n"
    }
   ],
   "source": [
    "circuit=Circuit([H.on(0),X.on(1,0)])\n",
    "print(circuit)"
   ]
  },
  {
   "cell_type": "code",
   "execution_count": 13,
   "metadata": {
    "tags": []
   },
   "outputs": [
    {
     "output_type": "stream",
     "name": "stdout",
     "text": "q0: ──H────●───────────\n           │           \nq1: ───────X────RX(a)──\n"
    }
   ],
   "source": [
    "circuit+=RX('a').on(1)\n",
    "print(circuit)"
   ]
  },
  {
   "cell_type": "code",
   "execution_count": 15,
   "metadata": {
    "tags": []
   },
   "outputs": [
    {
     "output_type": "stream",
     "name": "stdout",
     "text": "q0: ──H────PS(π/2)────PS(π/4)────PS(π/8)────────────────────────────────────────────────────✖───────\n              │          │          │                                                       │       \nq1: ──────────●──────────┼──────────┼───────H────PS(π/2)────PS(π/4)─────────────────────────┼────✖──\n                         │          │               │          │                            │    │  \nq2: ─────────────────────●──────────┼───────────────●──────────┼───────H────PS(π/2)─────────┼────✖──\n                                    │                          │               │            │       \nq3: ────────────────────────────────●──────────────────────────●───────────────●───────H────✖───────\n"
    }
   ],
   "source": [
    "print(qft(range(4)))"
   ]
  },
  {
   "cell_type": "code",
   "execution_count": 17,
   "metadata": {},
   "outputs": [
    {
     "output_type": "execute_result",
     "data": {
      "text/plain": "array([1.+0.j, 0.+0.j, 0.+0.j, 0.+0.j, 0.+0.j, 0.+0.j, 0.+0.j, 0.+0.j,\n       0.+0.j, 0.+0.j, 0.+0.j, 0.+0.j, 0.+0.j, 0.+0.j, 0.+0.j, 0.+0.j])"
     },
     "metadata": {},
     "execution_count": 17
    }
   ],
   "source": [
    "sim = Simulator('projectq',4)\n",
    "sim.get_qs()"
   ]
  },
  {
   "cell_type": "code",
   "execution_count": 18,
   "metadata": {},
   "outputs": [
    {
     "output_type": "execute_result",
     "data": {
      "text/plain": "array([0.25+0.j, 0.25+0.j, 0.25+0.j, 0.25+0.j, 0.25+0.j, 0.25+0.j,\n       0.25+0.j, 0.25+0.j, 0.25+0.j, 0.25+0.j, 0.25+0.j, 0.25+0.j,\n       0.25+0.j, 0.25+0.j, 0.25+0.j, 0.25+0.j])"
     },
     "metadata": {},
     "execution_count": 18
    }
   ],
   "source": [
    "sim.apply_circuit(qft(range(4)))\n",
    "sim.get_qs()"
   ]
  },
  {
   "cell_type": "markdown",
   "source": [
    "# Do it yourself\n",
    "验证均匀叠加态经过傅里叶变换后的量子态为零态"
   ],
   "metadata": {}
  },
  {
   "cell_type": "markdown",
   "source": [],
   "metadata": {}
  },
  {
   "cell_type": "code",
   "execution_count": 22,
   "metadata": {
    "tags": []
   },
   "outputs": [
    {
     "output_type": "stream",
     "name": "stdout",
     "text": "q0: ──H──\n         \nq1: ──H──\n         \nq2: ──H──\n"
    }
   ],
   "source": [
    "circuit1=Circuit([H.on(0),H.on(1),H.on(2)])\n",
    "print(circuit1)\n"
   ]
  },
  {
   "cell_type": "code",
   "execution_count": 24,
   "metadata": {},
   "outputs": [
    {
     "output_type": "execute_result",
     "data": {
      "text/plain": "array([1.+0.j, 0.+0.j, 0.+0.j, 0.+0.j, 0.+0.j, 0.+0.j, 0.+0.j, 0.+0.j,\n       0.+0.j, 0.+0.j, 0.+0.j, 0.+0.j, 0.+0.j, 0.+0.j, 0.+0.j, 0.+0.j])"
     },
     "metadata": {},
     "execution_count": 24
    }
   ],
   "source": [
    "sim = Simulator('projectq',3)\n",
    "sim.apply_circuit(circuit1)\n",
    "sim.apply_circuit(qft(range(3)))\n",
    "sim.get_qs()"
   ]
  },
  {
   "cell_type": "code",
   "execution_count": null,
   "metadata": {},
   "outputs": [],
   "source": []
  }
 ],
 "metadata": {
  "orig_nbformat": 4,
  "language_info": {
   "name": "python",
   "version": "3.7.5-final",
   "mimetype": "text/x-python",
   "codemirror_mode": {
    "name": "ipython",
    "version": 3
   },
   "pygments_lexer": "ipython3",
   "nbconvert_exporter": "python",
   "file_extension": ".py"
  },
  "kernelspec": {
   "name": "python37564bitf15e711fd06842a7ae337b5cf8b0b378",
   "display_name": "Python 3.7.5 64-bit"
  },
  "interpreter": {
   "hash": "6cd6e2203b621035efd3b4ac9716079b52ce7fc5622f6651a3ae71459e0d54ce"
  }
 },
 "nbformat": 4,
 "nbformat_minor": 2
}