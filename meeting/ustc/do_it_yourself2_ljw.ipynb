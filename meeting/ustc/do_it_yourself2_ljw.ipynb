{
 "cells": [
  {
   "cell_type": "code",
   "execution_count": 29,
   "metadata": {
    "tags": []
   },
   "outputs": [
    {
     "output_type": "stream",
     "name": "stdout",
     "text": "train sample and feature shape:  (20, 4)\nfirst train sample:  [ 0.33333302 -0.24999988  0.804878    0.5294118 ]  with label:  1\n"
    }
   ],
   "source": [
    "import os\n",
    "\n",
    "os.environ['OMP_NUM_THREADS'] = '2'\n",
    "from sklearn import datasets\n",
    "from sklearn import preprocessing\n",
    "from sklearn.model_selection import train_test_split\n",
    "import numpy as np\n",
    "\n",
    "np.random.seed(42)\n",
    "\n",
    "\n",
    "def generate_train_and_test(split=0.8, shuffle=True):\n",
    "    iris = datasets.load_iris()\n",
    "    data = iris.data[:100, :].astype(np.float32)\n",
    "    data = preprocessing.minmax_scale(data) * 2 - 1\n",
    "    label = np.zeros(100).astype(int)\n",
    "    label[50:] = 1\n",
    "    return train_test_split(data, label, train_size=split, shuffle=shuffle)\n",
    "\n",
    "\n",
    "train_x, test_x, train_y, test_y = generate_train_and_test(split=0.2)\n",
    "print('train sample and feature shape: ', train_x.shape)\n",
    "print('first train sample: ', train_x[0, :], ' with label: ', train_y[0])"
   ]
  },
  {
   "cell_type": "code",
   "execution_count": 32,
   "metadata": {
    "tags": []
   },
   "outputs": [
    {
     "output_type": "error",
     "ename": "TypeError",
     "evalue": "Qubit should be a non negative int, but get <class 'str'>!",
     "traceback": [
      "\u001b[0;31m---------------------------------------------------------------------------\u001b[0m",
      "\u001b[0;31mTypeError\u001b[0m                                 Traceback (most recent call last)",
      "\u001b[0;32m/tmp/ipykernel_4162/3671683012.py\u001b[0m in \u001b[0;36m<module>\u001b[0;34m\u001b[0m\n\u001b[1;32m     10\u001b[0m \u001b[0;34m\u001b[0m\u001b[0m\n\u001b[1;32m     11\u001b[0m \u001b[0;34m\u001b[0m\u001b[0m\n\u001b[0;32m---> 12\u001b[0;31m \u001b[0menc\u001b[0m \u001b[0;34m=\u001b[0m \u001b[0mencoder\u001b[0m\u001b[0;34m(\u001b[0m\u001b[0;36m4\u001b[0m\u001b[0;34m)\u001b[0m\u001b[0;34m.\u001b[0m\u001b[0mno_grad\u001b[0m\u001b[0;34m(\u001b[0m\u001b[0;34m)\u001b[0m\u001b[0;34m\u001b[0m\u001b[0;34m\u001b[0m\u001b[0m\n\u001b[0m\u001b[1;32m     13\u001b[0m \u001b[0mprint\u001b[0m\u001b[0;34m(\u001b[0m\u001b[0;34m\"encoder circuit:\"\u001b[0m\u001b[0;34m)\u001b[0m\u001b[0;34m\u001b[0m\u001b[0;34m\u001b[0m\u001b[0m\n\u001b[1;32m     14\u001b[0m \u001b[0mprint\u001b[0m\u001b[0;34m(\u001b[0m\u001b[0menc\u001b[0m\u001b[0;34m)\u001b[0m\u001b[0;34m\u001b[0m\u001b[0;34m\u001b[0m\u001b[0m\n",
      "\u001b[0;32m/tmp/ipykernel_4162/3671683012.py\u001b[0m in \u001b[0;36mencoder\u001b[0;34m(n)\u001b[0m\n\u001b[1;32m      6\u001b[0m     \u001b[0;31m#create your new encoder here\u001b[0m\u001b[0;34m\u001b[0m\u001b[0;34m\u001b[0m\u001b[0;34m\u001b[0m\u001b[0m\n\u001b[1;32m      7\u001b[0m     \u001b[0;32mfor\u001b[0m \u001b[0mi\u001b[0m \u001b[0;32min\u001b[0m \u001b[0mrange\u001b[0m\u001b[0;34m(\u001b[0m\u001b[0mn\u001b[0m\u001b[0;34m)\u001b[0m\u001b[0;34m:\u001b[0m\u001b[0;34m\u001b[0m\u001b[0;34m\u001b[0m\u001b[0m\n\u001b[0;32m----> 8\u001b[0;31m         \u001b[0mc\u001b[0m \u001b[0;34m+=\u001b[0m \u001b[0mH\u001b[0m\u001b[0;34m(\u001b[0m\u001b[0;34mf'x{i}'\u001b[0m\u001b[0;34m)\u001b[0m\u001b[0;34m.\u001b[0m\u001b[0mon\u001b[0m\u001b[0;34m(\u001b[0m\u001b[0mi\u001b[0m\u001b[0;34m)\u001b[0m\u001b[0;34m\u001b[0m\u001b[0;34m\u001b[0m\u001b[0m\n\u001b[0m\u001b[1;32m      9\u001b[0m     \u001b[0;32mreturn\u001b[0m \u001b[0mc\u001b[0m\u001b[0;34m\u001b[0m\u001b[0;34m\u001b[0m\u001b[0m\n\u001b[1;32m     10\u001b[0m \u001b[0;34m\u001b[0m\u001b[0m\n",
      "\u001b[0;32m~/.local/lib/python3.7/site-packages/mindquantum/gate/basic.py\u001b[0m in \u001b[0;36m__call__\u001b[0;34m(self, obj_qubits, ctrl_qubits)\u001b[0m\n\u001b[1;32m    224\u001b[0m \u001b[0;34m\u001b[0m\u001b[0m\n\u001b[1;32m    225\u001b[0m     \u001b[0;32mdef\u001b[0m \u001b[0m__call__\u001b[0m\u001b[0;34m(\u001b[0m\u001b[0mself\u001b[0m\u001b[0;34m,\u001b[0m \u001b[0mobj_qubits\u001b[0m\u001b[0;34m,\u001b[0m \u001b[0mctrl_qubits\u001b[0m\u001b[0;34m=\u001b[0m\u001b[0;32mNone\u001b[0m\u001b[0;34m)\u001b[0m\u001b[0;34m:\u001b[0m\u001b[0;34m\u001b[0m\u001b[0;34m\u001b[0m\u001b[0m\n\u001b[0;32m--> 226\u001b[0;31m         \u001b[0;32mreturn\u001b[0m \u001b[0mself\u001b[0m\u001b[0;34m.\u001b[0m\u001b[0mon\u001b[0m\u001b[0;34m(\u001b[0m\u001b[0mobj_qubits\u001b[0m\u001b[0;34m,\u001b[0m \u001b[0mctrl_qubits\u001b[0m\u001b[0;34m)\u001b[0m\u001b[0;34m\u001b[0m\u001b[0;34m\u001b[0m\u001b[0m\n\u001b[0m\u001b[1;32m    227\u001b[0m \u001b[0;34m\u001b[0m\u001b[0m\n\u001b[1;32m    228\u001b[0m     \u001b[0;32mdef\u001b[0m \u001b[0mcheck_obj_qubits\u001b[0m\u001b[0;34m(\u001b[0m\u001b[0mself\u001b[0m\u001b[0;34m)\u001b[0m\u001b[0;34m:\u001b[0m\u001b[0;34m\u001b[0m\u001b[0;34m\u001b[0m\u001b[0m\n",
      "\u001b[0;32m~/.local/lib/python3.7/site-packages/mindquantum/gate/basic.py\u001b[0m in \u001b[0;36mon\u001b[0;34m(self, obj_qubits, ctrl_qubits)\u001b[0m\n\u001b[1;32m    109\u001b[0m         \u001b[0;32melif\u001b[0m \u001b[0misinstance\u001b[0m\u001b[0;34m(\u001b[0m\u001b[0mobj_qubits\u001b[0m\u001b[0;34m,\u001b[0m \u001b[0mIterable\u001b[0m\u001b[0;34m)\u001b[0m\u001b[0;34m:\u001b[0m\u001b[0;34m\u001b[0m\u001b[0;34m\u001b[0m\u001b[0m\n\u001b[1;32m    110\u001b[0m             \u001b[0;32mfor\u001b[0m \u001b[0mi\u001b[0m \u001b[0;32min\u001b[0m \u001b[0mobj_qubits\u001b[0m\u001b[0;34m:\u001b[0m\u001b[0;34m\u001b[0m\u001b[0;34m\u001b[0m\u001b[0m\n\u001b[0;32m--> 111\u001b[0;31m                 \u001b[0m_check_qubit_id\u001b[0m\u001b[0;34m(\u001b[0m\u001b[0mi\u001b[0m\u001b[0;34m)\u001b[0m\u001b[0;34m\u001b[0m\u001b[0;34m\u001b[0m\u001b[0m\n\u001b[0m\u001b[1;32m    112\u001b[0m             \u001b[0mnew\u001b[0m\u001b[0;34m.\u001b[0m\u001b[0mobj_qubits\u001b[0m \u001b[0;34m=\u001b[0m \u001b[0mlist\u001b[0m\u001b[0;34m(\u001b[0m\u001b[0mobj_qubits\u001b[0m\u001b[0;34m)\u001b[0m\u001b[0;34m\u001b[0m\u001b[0;34m\u001b[0m\u001b[0m\n\u001b[1;32m    113\u001b[0m         \u001b[0;32melse\u001b[0m\u001b[0;34m:\u001b[0m\u001b[0;34m\u001b[0m\u001b[0;34m\u001b[0m\u001b[0m\n",
      "\u001b[0;32m~/.local/lib/python3.7/site-packages/mindquantum/gate/basic.py\u001b[0m in \u001b[0;36m_check_qubit_id\u001b[0;34m(qubit_id)\u001b[0m\n\u001b[1;32m    539\u001b[0m         raise TypeError(\n\u001b[1;32m    540\u001b[0m             \"Qubit should be a non negative int, but get {}!\".format(\n\u001b[0;32m--> 541\u001b[0;31m                 type(qubit_id)))\n\u001b[0m\u001b[1;32m    542\u001b[0m     \u001b[0;32mif\u001b[0m \u001b[0mqubit_id\u001b[0m \u001b[0;34m<\u001b[0m \u001b[0;36m0\u001b[0m\u001b[0;34m:\u001b[0m\u001b[0;34m\u001b[0m\u001b[0;34m\u001b[0m\u001b[0m\n\u001b[1;32m    543\u001b[0m         raise ValueError(\n",
      "\u001b[0;31mTypeError\u001b[0m: Qubit should be a non negative int, but get <class 'str'>!"
     ]
    }
   ],
   "source": [
    "from mindquantum import H, RZ, RX, X, Circuit, RY, UN\n",
    "\n",
    "\n",
    "def encoder(n):\n",
    "    c = Circuit()\n",
    "    #create your new encoder here\n",
    "    for i in range(n):\n",
    "        c += RZ(f'x{i}').on(i)\n",
    "    return c\n",
    "\n",
    "\n",
    "enc = encoder(4).no_grad()\n",
    "print(\"encoder circuit:\")\n",
    "print(enc)\n",
    "print(\"\\n\")\n",
    "\n",
    "def ansatz(n_qubits):\n",
    "    c = Circuit()\n",
    "    # create your new ansatz here:\n",
    "    for i in range(n_qubits):\n",
    "        c += RX(f\"gamma{i}\").on(i)\n",
    "    return c\n",
    "\n",
    "\n",
    "ans = ansatz(4)\n",
    "print(\"ansatz circuit:\")\n",
    "print(ans)\n",
    "if len(ans) > 15:\n",
    "    raise ValueError(\n",
    "        \"Too many gates in the ansatz circuit, we limited it to 15 gate.\")\n",
    "tot = enc + ans\n",
    "print(\"\\ntotal circuit:\")\n",
    "print(tot)"
   ]
  },
  {
   "cell_type": "code",
   "execution_count": 35,
   "metadata": {
    "tags": []
   },
   "outputs": [
    {
     "output_type": "stream",
     "name": "stdout",
     "text": "[1.0 [Z2] , 1.0 [Z3] ]\n"
    }
   ],
   "source": [
    "from mindquantum.ops import QubitOperator\n",
    "from mindquantum import Hamiltonian\n",
    "\n",
    "hams = [Hamiltonian(QubitOperator(f'Z{i}')) for i in [2, 3]]\n",
    "print(hams)"
   ]
  },
  {
   "cell_type": "code",
   "execution_count": 37,
   "metadata": {},
   "outputs": [],
   "source": [
    "from mindquantum import Simulator\n",
    "sim = Simulator('projectq', tot.n_qubits)\n",
    "f_g_ops = sim.get_expectation_with_grad(hams, tot,encoder_params_name=enc.params_name,ansatz_params_name=ans.params_name, parallel_worker=4)"
   ]
  },
  {
   "cell_type": "code",
   "execution_count": 39,
   "metadata": {},
   "outputs": [
    {
     "output_type": "execute_result",
     "data": {
      "text/plain": "(array([[0.51563151+0.j, 0.71300384+0.j]]),\n array([[[0.+0.j, 0.+0.j, 0.+0.j, 0.+0.j],\n         [0.+0.j, 0.+0.j, 0.+0.j, 0.+0.j]]]),\n array([[[-1.16551734e-17+0.j,  3.26886955e-17+0.j, -4.63302540e-01+0.j,\n           2.77555756e-17+0.j],\n         [ 0.00000000e+00+0.j, -2.77555756e-17+0.j,  6.93889390e-17+0.j,\n          -4.86389267e-01+0.j]]]))"
     },
     "metadata": {},
     "execution_count": 39
    }
   ],
   "source": [
    "p0 = np.random.uniform(size=len(ans.params_name))\n",
    "f_g_ops(train_x[:1], p0)"
   ]
  },
  {
   "cell_type": "code",
   "execution_count": 41,
   "metadata": {},
   "outputs": [],
   "source": [
    "import mindspore as ms\n",
    "from mindquantum.nn import MQLayer\n",
    "ms.context.set_context(mode=ms.context.PYNATIVE_MODE, device_target=\"CPU\")\n",
    "ms.set_seed(42)\n",
    "net = MQLayer(f_g_ops)"
   ]
  },
  {
   "cell_type": "code",
   "execution_count": 42,
   "metadata": {
    "tags": []
   },
   "outputs": [
    {
     "output_type": "stream",
     "name": "stdout",
     "text": "QNN output: \n [[0.69319135 0.8630217 ]\n [0.7600994  0.7977839 ]\n [0.69319135 0.5402506 ]\n [0.7600994  0.63527507]]\n\nweight: \n [ 0.00495268 -0.00754737  0.00474223 -0.01383794]\n"
    }
   ],
   "source": [
    "from mindspore import Tensor\n",
    "print('QNN output: \\n', net(Tensor(train_x[:4])))\n",
    "print('\\nweight: \\n', net.weight.asnumpy())"
   ]
  },
  {
   "cell_type": "code",
   "execution_count": 43,
   "metadata": {},
   "outputs": [],
   "source": [
    "import mindspore.dataset as ds\n",
    "ms.set_seed(42)\n",
    "\n",
    "batch = 5\n",
    "train_loader = ds.NumpySlicesDataset({\n",
    "    'feats': train_x,\n",
    "    'labs': train_y\n",
    "},\n",
    "                                     shuffle=False).batch(batch)\n",
    "test_loader = ds.NumpySlicesDataset({\n",
    "    'feats': test_x,\n",
    "    'labs': test_y\n",
    "}).batch(batch)"
   ]
  },
  {
   "cell_type": "code",
   "execution_count": 44,
   "metadata": {},
   "outputs": [],
   "source": [
    "loss = ms.nn.SoftmaxCrossEntropyWithLogits(sparse=True, reduction='mean')\n",
    "opti = ms.nn.Adam(net.trainable_params(), learning_rate=1e-1)\n",
    "monitor = ms.train.callback.LossMonitor(16)"
   ]
  },
  {
   "cell_type": "code",
   "execution_count": 45,
   "metadata": {
    "tags": []
   },
   "outputs": [
    {
     "output_type": "stream",
     "name": "stdout",
     "text": "epoch: 4 step: 4, loss is 0.6795387\nepoch: 8 step: 4, loss is 0.60958993\nepoch: 12 step: 4, loss is 0.5317725\nepoch: 16 step: 4, loss is 0.5312529\nepoch: 20 step: 4, loss is 0.54098773\nepoch: 24 step: 4, loss is 0.54181224\nepoch: 28 step: 4, loss is 0.5401618\nepoch: 32 step: 4, loss is 0.53966016\nepoch: 36 step: 4, loss is 0.5398261\nepoch: 40 step: 4, loss is 0.539936\nepoch: 44 step: 4, loss is 0.5399176\nepoch: 48 step: 4, loss is 0.5398818\n"
    }
   ],
   "source": [
    "model = ms.Model(net, loss, opti, metrics={'Acc': ms.nn.Accuracy()})\n",
    "model.train(50, train_loader, callbacks=[monitor], dataset_sink_mode=False)"
   ]
  },
  {
   "cell_type": "code",
   "execution_count": 46,
   "metadata": {
    "tags": []
   },
   "outputs": [
    {
     "output_type": "stream",
     "name": "stdout",
     "text": "{'Acc': 0.475}\n"
    }
   ],
   "source": [
    "predict = np.argmax(ms.ops.Softmax()(model.predict(ms.Tensor(test_x))), axis=1)\n",
    "corr = model.eval(test_loader, dataset_sink_mode=False)\n",
    "print(corr)"
   ]
  },
  {
   "cell_type": "code",
   "execution_count": null,
   "metadata": {},
   "outputs": [],
   "source": []
  }
 ],
 "metadata": {
  "interpreter": {
   "hash": "6cd6e2203b621035efd3b4ac9716079b52ce7fc5622f6651a3ae71459e0d54ce"
  },
  "kernelspec": {
   "display_name": "Python 3.7.5 64-bit",
   "language": "python",
   "name": "python37564bit7c043ee198404e1e88359fe198c2a58a"
  },
  "language_info": {
   "codemirror_mode": {
    "name": "ipython",
    "version": 3
   },
   "file_extension": ".py",
   "mimetype": "text/x-python",
   "name": "python",
   "nbconvert_exporter": "python",
   "pygments_lexer": "ipython3",
   "version": "3.7.5-final"
  }
 },
 "nbformat": 4,
 "nbformat_minor": 2
}