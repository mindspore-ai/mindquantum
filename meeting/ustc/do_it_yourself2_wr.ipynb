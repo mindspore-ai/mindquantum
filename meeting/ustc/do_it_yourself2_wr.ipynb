{
 "cells": [
  {
   "cell_type": "code",
   "execution_count": 1,
   "metadata": {
    "tags": []
   },
   "outputs": [
    {
     "output_type": "stream",
     "name": "stdout",
     "text": "train sample and feature shape:  (20, 4)\nfirst train sample:  [ 0.33333302 -0.24999988  0.804878    0.5294118 ]  with label:  1\n"
    }
   ],
   "source": [
    "import os\n",
    "\n",
    "os.environ['OMP_NUM_THREADS'] = '2'\n",
    "from sklearn import datasets\n",
    "from sklearn import preprocessing\n",
    "from sklearn.model_selection import train_test_split\n",
    "import numpy as np\n",
    "\n",
    "np.random.seed(42)\n",
    "\n",
    "\n",
    "def generate_train_and_test(split=0.8, shuffle=True):\n",
    "    iris = datasets.load_iris()\n",
    "    data = iris.data[:100, :].astype(np.float32)\n",
    "    data = preprocessing.minmax_scale(data) * 2 - 1\n",
    "    label = np.zeros(100).astype(int)\n",
    "    label[50:] = 1\n",
    "    return train_test_split(data, label, train_size=split, shuffle=shuffle)\n",
    "\n",
    "\n",
    "train_x, test_x, train_y, test_y = generate_train_and_test(split=0.2)\n",
    "print('train sample and feature shape: ', train_x.shape)\n",
    "print('first train sample: ', train_x[0, :], ' with label: ', train_y[0])"
   ]
  },
  {
   "cell_type": "code",
   "execution_count": 2,
   "metadata": {
    "tags": []
   },
   "outputs": [
    {
     "output_type": "stream",
     "name": "stdout",
     "text": "encoder circuit:\nq0: ──RY(x0)──\n              \nq1: ──RY(x1)──\n              \nq2: ──RY(x2)──\n              \nq3: ──RY(x3)──\n\n\nansatz circuit:\nq0: ──RX(gamma0)──\n                  \nq1: ──RX(gamma1)──\n                  \nq2: ──RX(gamma2)──\n                  \nq3: ──RX(gamma3)──\n\ntotal circuit:\nq0: ──RY(x0)────RX(gamma0)──\n                            \nq1: ──RY(x1)────RX(gamma1)──\n                            \nq2: ──RY(x2)────RX(gamma2)──\n                            \nq3: ──RY(x3)────RX(gamma3)──\n"
    }
   ],
   "source": [
    "from mindquantum import H, RZ, RX, X, Circuit, RY, UN\n",
    "\n",
    "\n",
    "def encoder(n):\n",
    "    c = Circuit()\n",
    "    #create your new encoder here\n",
    "    for i in range(n):\n",
    "        c += RY(f'x{i}').on(i)\n",
    "    return c\n",
    "\n",
    "\n",
    "enc = encoder(4).no_grad()\n",
    "print(\"encoder circuit:\")\n",
    "print(enc)\n",
    "print(\"\\n\")\n",
    "\n",
    "def ansatz(n_qubits):\n",
    "    c = Circuit()\n",
    "    # create your new ansatz here:\n",
    "    for i in range(n_qubits):\n",
    "        c += RX(f\"gamma{i}\").on(i)\n",
    "    return c\n",
    "\n",
    "\n",
    "ans = ansatz(4)\n",
    "print(\"ansatz circuit:\")\n",
    "print(ans)\n",
    "if len(ans) > 15:\n",
    "    raise ValueError(\n",
    "        \"Too many gates in the ansatz circuit, we limited it to 15 gate.\")\n",
    "tot = enc + ans\n",
    "print(\"\\ntotal circuit:\")\n",
    "print(tot)"
   ]
  },
  {
   "cell_type": "code",
   "execution_count": 3,
   "metadata": {
    "tags": []
   },
   "outputs": [
    {
     "output_type": "stream",
     "name": "stdout",
     "text": "[1.0 [Z2] , 1.0 [Z3] ]\n"
    }
   ],
   "source": [
    "from mindquantum.ops import QubitOperator\n",
    "from mindquantum import Hamiltonian\n",
    "\n",
    "hams = [Hamiltonian(QubitOperator(f'Z{i}')) for i in [2, 3]]\n",
    "print(hams)"
   ]
  },
  {
   "cell_type": "code",
   "execution_count": 4,
   "metadata": {},
   "outputs": [],
   "source": [
    "from mindquantum import Simulator\n",
    "sim = Simulator('projectq', tot.n_qubits)\n",
    "f_g_ops = sim.get_expectation_with_grad(hams, tot,encoder_params_name=enc.params_name,ansatz_params_name=ans.params_name, parallel_worker=4)"
   ]
  },
  {
   "cell_type": "code",
   "execution_count": 5,
   "metadata": {},
   "outputs": [
    {
     "output_type": "execute_result",
     "data": {
      "text/plain": "(array([[0.48781854+0.j, 0.7094335 +0.j]]),\n array([[[0.+0.j, 0.+0.j, 0.+0.j, 0.+0.j],\n         [0.+0.j, 0.+0.j, 0.+0.j, 0.+0.j]]]),\n array([[[-6.36291150e-18+0.j,  1.89599855e-17+0.j, -4.92501941e-01+0.j,\n           0.00000000e+00+0.j],\n         [ 1.38777878e-17+0.j, -6.93889390e-18+0.j,  0.00000000e+00+0.j,\n          -4.91582247e-01+0.j]]]))"
     },
     "metadata": {},
     "execution_count": 5
    }
   ],
   "source": [
    "p0 = np.random.uniform(size=len(ans.params_name))\n",
    "f_g_ops(train_x[:1], p0)"
   ]
  },
  {
   "cell_type": "code",
   "execution_count": 6,
   "metadata": {},
   "outputs": [],
   "source": [
    "import mindspore as ms\n",
    "from mindquantum.nn import MQLayer\n",
    "ms.context.set_context(mode=ms.context.PYNATIVE_MODE, device_target=\"CPU\")\n",
    "ms.set_seed(42)\n",
    "net = MQLayer(f_g_ops)"
   ]
  },
  {
   "cell_type": "code",
   "execution_count": 7,
   "metadata": {
    "tags": []
   },
   "outputs": [
    {
     "output_type": "stream",
     "name": "stdout",
     "text": "QNN output: \n [[0.69319135 0.8630217 ]\n [0.7600994  0.7977839 ]\n [0.69319135 0.5402506 ]\n [0.7600994  0.63527507]]\n\nweight: \n [ 0.00495268 -0.00754737  0.00474223 -0.01383794]\n"
    }
   ],
   "source": [
    "from mindspore import Tensor\n",
    "print('QNN output: \\n', net(Tensor(train_x[:4])))\n",
    "print('\\nweight: \\n', net.weight.asnumpy())"
   ]
  },
  {
   "cell_type": "code",
   "execution_count": 8,
   "metadata": {},
   "outputs": [],
   "source": [
    "import mindspore.dataset as ds\n",
    "ms.set_seed(42)\n",
    "\n",
    "batch = 5\n",
    "train_loader = ds.NumpySlicesDataset({\n",
    "    'feats': train_x,\n",
    "    'labs': train_y\n",
    "},\n",
    "                                     shuffle=False).batch(batch)\n",
    "test_loader = ds.NumpySlicesDataset({\n",
    "    'feats': test_x,\n",
    "    'labs': test_y\n",
    "}).batch(batch)"
   ]
  },
  {
   "cell_type": "code",
   "execution_count": 9,
   "metadata": {},
   "outputs": [],
   "source": [
    "loss = ms.nn.SoftmaxCrossEntropyWithLogits(sparse=True, reduction='mean')\n",
    "opti = ms.nn.Adam(net.trainable_params(), learning_rate=1e-1)\n",
    "monitor = ms.train.callback.LossMonitor(16)"
   ]
  },
  {
   "cell_type": "code",
   "execution_count": 10,
   "metadata": {
    "tags": []
   },
   "outputs": [
    {
     "output_type": "stream",
     "name": "stderr",
     "text": "[WARNING] DEBUG(374,7fe303747740,python):2021-09-12-04:05:03.386.901 [mindspore/ccsrc/debug/debugger/debugger.cc:88] Debugger] Not enabling debugger. Debugger does not support CPU.\nepoch: 4 step: 4, loss is 0.6795387\nepoch: 8 step: 4, loss is 0.60958993\nepoch: 12 step: 4, loss is 0.5317725\nepoch: 16 step: 4, loss is 0.5312529\nepoch: 20 step: 4, loss is 0.54098773\nepoch: 24 step: 4, loss is 0.54181224\nepoch: 28 step: 4, loss is 0.5401618\nepoch: 32 step: 4, loss is 0.53966016\nepoch: 36 step: 4, loss is 0.5398261\nepoch: 40 step: 4, loss is 0.539936\nepoch: 44 step: 4, loss is 0.5399176\nepoch: 48 step: 4, loss is 0.5398818\n"
    }
   ],
   "source": [
    "model = ms.Model(net, loss, opti, metrics={'Acc': ms.nn.Accuracy()})\n",
    "model.train(50, train_loader, callbacks=[monitor], dataset_sink_mode=False)"
   ]
  },
  {
   "cell_type": "code",
   "execution_count": 11,
   "metadata": {
    "tags": []
   },
   "outputs": [
    {
     "output_type": "stream",
     "name": "stdout",
     "text": "{'Acc': 0.475}\n"
    }
   ],
   "source": [
    "predict = np.argmax(ms.ops.Softmax()(model.predict(ms.Tensor(test_x))), axis=1)\n",
    "corr = model.eval(test_loader, dataset_sink_mode=False)\n",
    "print(corr)"
   ]
  },
  {
   "cell_type": "code",
   "execution_count": null,
   "metadata": {},
   "outputs": [],
   "source": []
  }
 ],
 "metadata": {
  "interpreter": {
   "hash": "6cd6e2203b621035efd3b4ac9716079b52ce7fc5622f6651a3ae71459e0d54ce"
  },
  "kernelspec": {
   "display_name": "Python 3.7.5 64-bit",
   "language": "python",
   "name": "python37564bit790f7ceb3ba244c5a10c55dae3f6b235"
  },
  "language_info": {
   "codemirror_mode": {
    "name": "ipython",
    "version": 3
   },
   "file_extension": ".py",
   "mimetype": "text/x-python",
   "name": "python",
   "nbconvert_exporter": "python",
   "pygments_lexer": "ipython3",
   "version": "3.7.5-final"
  }
 },
 "nbformat": 4,
 "nbformat_minor": 2
}