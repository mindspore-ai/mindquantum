{
 "metadata": {
  "language_info": {
   "codemirror_mode": {
    "name": "ipython",
    "version": 3
   },
   "file_extension": ".py",
   "mimetype": "text/x-python",
   "name": "python",
   "nbconvert_exporter": "python",
   "pygments_lexer": "ipython3",
   "version": "3.7.5-final"
  },
  "orig_nbformat": 2,
  "kernelspec": {
   "name": "python36964bit3c9c8547fb46424fb8e95bcae432db59",
   "display_name": "Python 3.6.9 64-bit"
  }
 },
 "nbformat": 4,
 "nbformat_minor": 2,
 "cells": [
  {
   "cell_type": "code",
   "execution_count": 2,
   "metadata": {},
   "outputs": [],
   "source": [
    "import os \n",
    "os.environ['OMP_NUM_THREADS'] = '1'"
   ]
  },
  {
   "cell_type": "code",
   "execution_count": 39,
   "metadata": {},
   "outputs": [],
   "source": [
    "from mindquantum import H, Hamiltonian, X, Z, RX, RY, RZ, Circuit\n",
    "import mindquantum as mq\n",
    "import numpy as np\n",
    "import mindspore as ms\n",
    "ms.context.set_context(mode=ms.context.PYNATIVE_MODE, device_target=\"CPU\")"
   ]
  },
  {
   "cell_type": "code",
   "execution_count": 8,
   "metadata": {},
   "outputs": [
    {
     "output_type": "execute_result",
     "data": {
      "text/plain": "array([[ 0.70710678,  0.70710678],\n       [ 0.70710678, -0.70710678]])"
     },
     "metadata": {},
     "execution_count": 8
    }
   ],
   "source": [
    "H.matrix()"
   ]
  },
  {
   "cell_type": "code",
   "execution_count": 9,
   "metadata": {},
   "outputs": [
    {
     "output_type": "display_data",
     "data": {
      "text/plain": "",
      "text/html": "<pre style=\"white-space:pre;overflow-x:auto;line-height:normal;font-family:Menlo,'DejaVu Sans Mono',consolas,'Courier New',monospace\"></pre>\n"
     },
     "metadata": {}
    },
    {
     "output_type": "execute_result",
     "data": {
      "text/plain": "q0: ──H────●──\n           │  \nq1: ───────X──",
      "text/html": "<pre style=\"white-space: pre;\"><span style=\"color: #000080; text-decoration-color: #000080; font-weight: bold\">q0: ──H────●──</span>\n<span style=\"color: #000080; text-decoration-color: #000080; font-weight: bold\">           │  </span>\n<span style=\"color: #000080; text-decoration-color: #000080; font-weight: bold\">q1: ───────X──</span>\n</pre>\n"
     },
     "metadata": {},
     "execution_count": 9
    }
   ],
   "source": [
    "circ = Circuit([H.on(0), X.on(1, 0)])\n",
    "circ"
   ]
  },
  {
   "cell_type": "code",
   "execution_count": 10,
   "metadata": {},
   "outputs": [
    {
     "output_type": "display_data",
     "data": {
      "text/plain": "",
      "text/html": "<pre style=\"white-space:pre;overflow-x:auto;line-height:normal;font-family:Menlo,'DejaVu Sans Mono',consolas,'Courier New',monospace\"></pre>\n"
     },
     "metadata": {}
    },
    {
     "output_type": "execute_result",
     "data": {
      "text/plain": "q0: ──H────●────H────PS(π/2)────PS(π/4)─────────────────────────@──\n           │            │          │                            │  \nq1: ───────X────────────●──────────┼───────H────PS(π/2)─────────┼──\n                                   │               │            │  \nq2: ───────────────────────────────●───────────────●───────H────@──",
      "text/html": "<pre style=\"white-space: pre;\"><span style=\"color: #000080; text-decoration-color: #000080; font-weight: bold\">q0: ──H────●────H────</span><span style=\"color: #800080; text-decoration-color: #800080; font-weight: bold\">PS</span><span style=\"color: #000080; text-decoration-color: #000080; font-weight: bold\">(π/</span><span style=\"color: #008080; text-decoration-color: #008080; font-weight: bold\">2</span><span style=\"color: #000080; text-decoration-color: #000080; font-weight: bold\">)────</span><span style=\"color: #800080; text-decoration-color: #800080; font-weight: bold\">PS</span><span style=\"color: #000080; text-decoration-color: #000080; font-weight: bold\">(π/</span><span style=\"color: #008080; text-decoration-color: #008080; font-weight: bold\">4</span><span style=\"color: #000080; text-decoration-color: #000080; font-weight: bold\">)─────────────────────────@──</span>\n<span style=\"color: #000080; text-decoration-color: #000080; font-weight: bold\">           │            │          │                            │  </span>\n<span style=\"color: #000080; text-decoration-color: #000080; font-weight: bold\">q1: ───────X────────────●──────────┼───────H────</span><span style=\"color: #800080; text-decoration-color: #800080; font-weight: bold\">PS</span><span style=\"color: #000080; text-decoration-color: #000080; font-weight: bold\">(π/</span><span style=\"color: #008080; text-decoration-color: #008080; font-weight: bold\">2</span><span style=\"color: #000080; text-decoration-color: #000080; font-weight: bold\">)─────────┼──</span>\n<span style=\"color: #000080; text-decoration-color: #000080; font-weight: bold\">                                   │               │            │  </span>\n<span style=\"color: #000080; text-decoration-color: #000080; font-weight: bold\">q2: ───────────────────────────────●───────────────●───────H────@──</span>\n</pre>\n"
     },
     "metadata": {},
     "execution_count": 10
    }
   ],
   "source": [
    "circ += mq.qft([0, 1, 2])\n",
    "circ"
   ]
  },
  {
   "cell_type": "code",
   "execution_count": 12,
   "metadata": {},
   "outputs": [],
   "source": [
    "circ += mq.ZZ('theta').on([0, 1])"
   ]
  },
  {
   "cell_type": "code",
   "execution_count": 13,
   "metadata": {},
   "outputs": [
    {
     "output_type": "display_data",
     "data": {
      "text/plain": "",
      "text/html": "<pre style=\"white-space:pre;overflow-x:auto;line-height:normal;font-family:Menlo,'DejaVu Sans Mono',consolas,'Courier New',monospace\"></pre>\n"
     },
     "metadata": {}
    },
    {
     "output_type": "execute_result",
     "data": {
      "text/plain": "q0: ──H────●────H────PS(π/2)────PS(π/4)─────────────────────────@────ZZ(theta)──\n           │            │          │                            │        │      \nq1: ───────X────────────●──────────┼───────H────PS(π/2)─────────┼────ZZ(theta)──\n                                   │               │            │               \nq2: ───────────────────────────────●───────────────●───────H────@───────────────",
      "text/html": "<pre style=\"white-space: pre;\"><span style=\"color: #000080; text-decoration-color: #000080; font-weight: bold\">q0: ──H────●────H────</span><span style=\"color: #800080; text-decoration-color: #800080; font-weight: bold\">PS</span><span style=\"color: #000080; text-decoration-color: #000080; font-weight: bold\">(π/</span><span style=\"color: #008080; text-decoration-color: #008080; font-weight: bold\">2</span><span style=\"color: #000080; text-decoration-color: #000080; font-weight: bold\">)────</span><span style=\"color: #800080; text-decoration-color: #800080; font-weight: bold\">PS</span><span style=\"color: #000080; text-decoration-color: #000080; font-weight: bold\">(π/</span><span style=\"color: #008080; text-decoration-color: #008080; font-weight: bold\">4</span><span style=\"color: #000080; text-decoration-color: #000080; font-weight: bold\">)─────────────────────────@────</span><span style=\"color: #800080; text-decoration-color: #800080; font-weight: bold\">ZZ</span><span style=\"color: #000080; text-decoration-color: #000080; font-weight: bold\">(theta)──</span>\n<span style=\"color: #000080; text-decoration-color: #000080; font-weight: bold\">           │            │          │                            │        │      </span>\n<span style=\"color: #000080; text-decoration-color: #000080; font-weight: bold\">q1: ───────X────────────●──────────┼───────H────</span><span style=\"color: #800080; text-decoration-color: #800080; font-weight: bold\">PS</span><span style=\"color: #000080; text-decoration-color: #000080; font-weight: bold\">(π/</span><span style=\"color: #008080; text-decoration-color: #008080; font-weight: bold\">2</span><span style=\"color: #000080; text-decoration-color: #000080; font-weight: bold\">)─────────┼────</span><span style=\"color: #800080; text-decoration-color: #800080; font-weight: bold\">ZZ</span><span style=\"color: #000080; text-decoration-color: #000080; font-weight: bold\">(theta)──</span>\n<span style=\"color: #000080; text-decoration-color: #000080; font-weight: bold\">                                   │               │            │               </span>\n<span style=\"color: #000080; text-decoration-color: #000080; font-weight: bold\">q2: ───────────────────────────────●───────────────●───────H────@───────────────</span>\n</pre>\n"
     },
     "metadata": {},
     "execution_count": 13
    }
   ],
   "source": [
    "circ"
   ]
  },
  {
   "cell_type": "code",
   "execution_count": 25,
   "metadata": {},
   "outputs": [],
   "source": [
    "sim = mq.Simulator('projectq', 3)"
   ]
  },
  {
   "cell_type": "code",
   "execution_count": 26,
   "metadata": {},
   "outputs": [
    {
     "output_type": "execute_result",
     "data": {
      "text/plain": "projectq simulator with 3 qubits.\nCurrent quantum state:\n1¦000⟩"
     },
     "metadata": {},
     "execution_count": 26
    }
   ],
   "source": [
    "circ = Circuit()\n",
    "for i in range(3):\n",
    "    circ += mq.H(i)\n",
    "\n",
    "circ += mq.qft(range(3))\n",
    "sim.apply_circuit(circ)\n",
    "sim"
   ]
  },
  {
   "cell_type": "code",
   "execution_count": 5,
   "metadata": {},
   "outputs": [],
   "source": [
    "enconder = Circuit()\n",
    "enconder += H.on(0)\n",
    "enconder += RX('alpha0').on(0)\n",
    "enconder += RY('alpha1').on(0)\n",
    "enconder += RZ('alpha2').on(0)"
   ]
  },
  {
   "cell_type": "code",
   "execution_count": 8,
   "metadata": {},
   "outputs": [
    {
     "output_type": "execute_result",
     "data": {
      "text/plain": "'(0.6203638230723639-0.1257539726032947j)¦0⟩\\n(0.7702994677056821+0.07728774449984671j)¦1⟩'"
     },
     "metadata": {},
     "execution_count": 8
    }
   ],
   "source": [
    "enconder.get_qs('projectq', {'alpha0': 0.1, 'alpha1': 0.2, 'alpha2': 0.3}, ket=True)"
   ]
  },
  {
   "cell_type": "code",
   "execution_count": 9,
   "metadata": {},
   "outputs": [],
   "source": [
    "ansatz = Circuit()\n",
    "ansatz += RX('theta0').on(0)\n",
    "ansatz += RY('theta1').on(0)"
   ]
  },
  {
   "cell_type": "code",
   "execution_count": 12,
   "metadata": {},
   "outputs": [
    {
     "output_type": "display_data",
     "data": {
      "text/plain": "",
      "text/html": "<pre style=\"white-space:pre;overflow-x:auto;line-height:normal;font-family:Menlo,'DejaVu Sans Mono',consolas,'Courier New',monospace\"></pre>\n"
     },
     "metadata": {}
    },
    {
     "output_type": "execute_result",
     "data": {
      "text/plain": "q0: ──H────RX(alpha0)────RY(alpha1)────RZ(alpha2)────RX(theta0)────RY(theta1)──",
      "text/html": "<pre style=\"white-space: pre;\"><span style=\"color: #000080; text-decoration-color: #000080; font-weight: bold\">q0: ──H────</span><span style=\"color: #800080; text-decoration-color: #800080; font-weight: bold\">RX</span><span style=\"color: #000080; text-decoration-color: #000080; font-weight: bold\">(alpha0)────</span><span style=\"color: #800080; text-decoration-color: #800080; font-weight: bold\">RY</span><span style=\"color: #000080; text-decoration-color: #000080; font-weight: bold\">(alpha1)────</span><span style=\"color: #800080; text-decoration-color: #800080; font-weight: bold\">RZ</span><span style=\"color: #000080; text-decoration-color: #000080; font-weight: bold\">(alpha2)────</span><span style=\"color: #800080; text-decoration-color: #800080; font-weight: bold\">RX</span><span style=\"color: #000080; text-decoration-color: #000080; font-weight: bold\">(theta0)────</span><span style=\"color: #800080; text-decoration-color: #800080; font-weight: bold\">RY</span><span style=\"color: #000080; text-decoration-color: #000080; font-weight: bold\">(theta1)──</span>\n</pre>\n"
     },
     "metadata": {},
     "execution_count": 12
    }
   ],
   "source": [
    "circ = enconder + ansatz\n",
    "circ"
   ]
  },
  {
   "cell_type": "code",
   "execution_count": 14,
   "metadata": {},
   "outputs": [
    {
     "output_type": "execute_result",
     "data": {
      "text/plain": "projectq simulator with 1 qubit.\nCurrent quantum state:\n1¦0⟩"
     },
     "metadata": {},
     "execution_count": 14
    }
   ],
   "source": [
    "sim = mq.Simulator('projectq', circ.n_qubits)\n",
    "sim"
   ]
  },
  {
   "cell_type": "code",
   "execution_count": 18,
   "metadata": {},
   "outputs": [],
   "source": [
    "ham = Hamiltonian(-mq.QubitOperator('Z0'))"
   ]
  },
  {
   "cell_type": "code",
   "execution_count": 20,
   "metadata": {},
   "outputs": [],
   "source": [
    "grad_ops = sim.get_expectation_with_grad(ham, enconder, ansatz, enconder.params_name, ansatz.params_name)"
   ]
  },
  {
   "cell_type": "code",
   "execution_count": 41,
   "metadata": {},
   "outputs": [],
   "source": [
    "encoder_init = np.random.rand(1, len(enconder.params_name))\n",
    "ansatz_init = np.random.rand(len(ansatz.params_name))\n",
    "# grad_op = grad_ops(encoder_init, ansatz_init)\n",
    "net = mq.MQLayer(grad_ops)"
   ]
  },
  {
   "cell_type": "code",
   "execution_count": 45,
   "metadata": {
    "tags": []
   },
   "outputs": [
    {
     "output_type": "execute_result",
     "data": {
      "text/plain": "Tensor(shape=[1, 1], dtype=Float32, value=\n[[-6.19833112e-01]])"
     },
     "metadata": {},
     "execution_count": 45
    }
   ],
   "source": [
    "net(ms.Tensor([[0.1, 0.2, 0.3]]))"
   ]
  },
  {
   "cell_type": "code",
   "execution_count": 53,
   "metadata": {},
   "outputs": [],
   "source": [
    "opt = ms.nn.Adam(net.trainable_params(), learning_rate=0.5)\n",
    "train_net = ms.nn.TrainOneStepCell(net, opt)"
   ]
  },
  {
   "cell_type": "code",
   "execution_count": 54,
   "metadata": {},
   "outputs": [
    {
     "output_type": "execute_result",
     "data": {
      "text/plain": "TrainOneStepCell<\n  (network): MQLayer<\n    (evolution): MQOps<1 qubit projectq VQA Operator>\n    >\n  (optimizer): Adam<>\n  >"
     },
     "metadata": {},
     "execution_count": 54
    }
   ],
   "source": [
    "train_net"
   ]
  },
  {
   "cell_type": "code",
   "execution_count": 55,
   "metadata": {
    "tags": []
   },
   "outputs": [
    {
     "output_type": "stream",
     "name": "stdout",
     "text": "[[-0.6198331]]\n[[-0.7929457]]\n[[-0.9184655]]\n[[-0.9859705]]\n[[-0.99490654]]\n[[-0.9735479]]\n[[-0.94153917]]\n[[-0.9170432]]\n[[-0.9121312]]\n[[-0.92504424]]\n[[-0.9463014]]\n[[-0.9681088]]\n[[-0.9865593]]\n[[-0.99784446]]\n[[-0.99915946]]\n[[-0.9925711]]\n[[-0.9835679]]\n[[-0.9761919]]\n[[-0.97220445]]\n[[-0.9727165]]\n[[-0.9778934]]\n[[-0.98565084]]\n[[-0.9928147]]\n[[-0.99752086]]\n[[-0.9994803]]\n[[-0.9987216]]\n[[-0.9957717]]\n[[-0.99233735]]\n[[-0.9902595]]\n[[-0.9901044]]\n[[-0.9914919]]\n[[-0.9939708]]\n[[-0.99684227]]\n[[-0.99898946]]\n[[-0.9997265]]\n[[-0.99929786]]\n[[-0.9982482]]\n[[-0.99701184]]\n[[-0.9961534]]\n[[-0.9961627]]\n[[-0.9969395]]\n[[-0.99800384]]\n[[-0.9990057]]\n[[-0.9996858]]\n[[-0.99979824]]\n[[-0.9994089]]\n[[-0.99888426]]\n[[-0.99849737]]\n[[-0.9983622]]\n[[-0.99856085]]\n[[-0.9990152]]\n[[-0.99946654]]\n[[-0.9997395]]\n[[-0.99980867]]\n[[-0.9996801]]\n[[-0.99944115]]\n[[-0.9992656]]\n[[-0.9992399]]\n[[-0.9993389]]\n[[-0.9995231]]\n[[-0.99971557]]\n[[-0.9998155]]\n[[-0.9998054]]\n[[-0.99973226]]\n[[-0.99963766]]\n[[-0.99957657]]\n[[-0.99959224]]\n[[-0.9996624]]\n[[-0.9997439]]\n[[-0.9998089]]\n[[-0.9998286]]\n[[-0.9998003]]\n[[-0.9997581]]\n[[-0.99972767]]\n[[-0.99972165]]\n[[-0.99974704]]\n[[-0.9997868]]\n[[-0.9998163]]\n[[-0.9998279]]\n[[-0.99981993]]\n[[-0.99979943]]\n[[-0.99978423]]\n[[-0.9997826]]\n[[-0.9997926]]\n[[-0.99981016]]\n[[-0.99982464]]\n[[-0.9998284]]\n[[-0.9998239]]\n[[-0.9998153]]\n[[-0.99980825]]\n[[-0.99980855]]\n[[-0.9998145]]\n[[-0.9998221]]\n[[-0.999828]]\n[[-0.9998288]]\n[[-0.99982554]]\n[[-0.9998217]]\n[[-0.9998194]]\n[[-0.99982035]]\n[[-0.9998239]]\n"
    }
   ],
   "source": [
    "for i in range(100):\n",
    "    res = train_net(ms.Tensor(np.array([[0.1, 0.2, 0.3]])))\n",
    "    print(res)"
   ]
  },
  {
   "cell_type": "code",
   "execution_count": 57,
   "metadata": {},
   "outputs": [
    {
     "output_type": "execute_result",
     "data": {
      "text/plain": "array([ 0.2952324, -1.7948754], dtype=float32)"
     },
     "metadata": {},
     "execution_count": 57
    }
   ],
   "source": [
    "net.trainable_params()[0].asnumpy()"
   ]
  },
  {
   "cell_type": "code",
   "execution_count": null,
   "metadata": {},
   "outputs": [],
   "source": []
  }
 ]
}