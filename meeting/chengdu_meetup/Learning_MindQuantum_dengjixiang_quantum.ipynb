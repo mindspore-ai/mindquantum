{
 "metadata": {
  "language_info": {
   "codemirror_mode": {
    "name": "ipython",
    "version": 3
   },
   "file_extension": ".py",
   "mimetype": "text/x-python",
   "name": "python",
   "nbconvert_exporter": "python",
   "pygments_lexer": "ipython3",
   "version": "3.7.5-final"
  },
  "orig_nbformat": 2,
  "kernelspec": {
   "name": "python37564bitc675ae1ce63e496187d71a46916f7787",
   "display_name": "Python 3.7.5 64-bit"
  }
 },
 "nbformat": 4,
 "nbformat_minor": 2,
 "cells": [
  {
   "cell_type": "code",
   "execution_count": 2,
   "metadata": {},
   "outputs": [],
   "source": [
    "from mindquantum import *"
   ]
  },
  {
   "cell_type": "code",
   "execution_count": 3,
   "metadata": {},
   "outputs": [],
   "source": [
    "import numpy as np"
   ]
  },
  {
   "cell_type": "code",
   "execution_count": 4,
   "metadata": {},
   "outputs": [],
   "source": [
    "circuit = Circuit()"
   ]
  },
  {
   "cell_type": "code",
   "execution_count": 9,
   "metadata": {},
   "outputs": [
    {
     "output_type": "display_data",
     "data": {
      "text/plain": "",
      "text/html": "<pre style=\"white-space:pre;overflow-x:auto;line-height:normal;font-family:Menlo,'DejaVu Sans Mono',consolas,'Courier New',monospace\"></pre>\n"
     },
     "metadata": {}
    },
    {
     "output_type": "execute_result",
     "data": {
      "text/plain": "q0: ──H────●──\n           │  \nq1: ───────X──",
      "text/html": "<pre style=\"white-space: pre;\"><span style=\"color: #000080; text-decoration-color: #000080; font-weight: bold\">q0: ──H────●──</span>\n<span style=\"color: #000080; text-decoration-color: #000080; font-weight: bold\">           │  </span>\n<span style=\"color: #000080; text-decoration-color: #000080; font-weight: bold\">q1: ───────X──</span>\n</pre>\n"
     },
     "metadata": {},
     "execution_count": 9
    }
   ],
   "source": [
    "circuit = Circuit([H.on(0),X.on(1,0)])\n",
    "\n",
    "circuit"
   ]
  },
  {
   "cell_type": "code",
   "execution_count": 11,
   "metadata": {},
   "outputs": [
    {
     "output_type": "display_data",
     "data": {
      "text/plain": "",
      "text/html": "<pre style=\"white-space:pre;overflow-x:auto;line-height:normal;font-family:Menlo,'DejaVu Sans Mono',consolas,'Courier New',monospace\"></pre>\n"
     },
     "metadata": {}
    },
    {
     "output_type": "execute_result",
     "data": {
      "text/plain": "q0: ──H────●────H────PS(π/2)────PS(π/4)─────────────────────────@──\n           │            │          │                            │  \nq1: ───────X────────────●──────────┼───────H────PS(π/2)─────────┼──\n                                   │               │            │  \nq2: ───────────────────────────────●───────────────●───────H────@──",
      "text/html": "<pre style=\"white-space: pre;\"><span style=\"color: #000080; text-decoration-color: #000080; font-weight: bold\">q0: ──H────●────H────</span><span style=\"color: #800080; text-decoration-color: #800080; font-weight: bold\">PS</span><span style=\"color: #000080; text-decoration-color: #000080; font-weight: bold\">(π/</span><span style=\"color: #008080; text-decoration-color: #008080; font-weight: bold\">2</span><span style=\"color: #000080; text-decoration-color: #000080; font-weight: bold\">)────</span><span style=\"color: #800080; text-decoration-color: #800080; font-weight: bold\">PS</span><span style=\"color: #000080; text-decoration-color: #000080; font-weight: bold\">(π/</span><span style=\"color: #008080; text-decoration-color: #008080; font-weight: bold\">4</span><span style=\"color: #000080; text-decoration-color: #000080; font-weight: bold\">)─────────────────────────@──</span>\n<span style=\"color: #000080; text-decoration-color: #000080; font-weight: bold\">           │            │          │                            │  </span>\n<span style=\"color: #000080; text-decoration-color: #000080; font-weight: bold\">q1: ───────X────────────●──────────┼───────H────</span><span style=\"color: #800080; text-decoration-color: #800080; font-weight: bold\">PS</span><span style=\"color: #000080; text-decoration-color: #000080; font-weight: bold\">(π/</span><span style=\"color: #008080; text-decoration-color: #008080; font-weight: bold\">2</span><span style=\"color: #000080; text-decoration-color: #000080; font-weight: bold\">)─────────┼──</span>\n<span style=\"color: #000080; text-decoration-color: #000080; font-weight: bold\">                                   │               │            │  </span>\n<span style=\"color: #000080; text-decoration-color: #000080; font-weight: bold\">q2: ───────────────────────────────●───────────────●───────H────@──</span>\n</pre>\n"
     },
     "metadata": {},
     "execution_count": 11
    }
   ],
   "source": [
    "circuit +=qft(range(3))\n",
    "circuit"
   ]
  },
  {
   "cell_type": "code",
   "execution_count": 12,
   "metadata": {},
   "outputs": [
    {
     "output_type": "execute_result",
     "data": {
      "text/plain": "projectq simulator with 3 qubits.\nCurrent quantum state:\n1¦000⟩"
     },
     "metadata": {},
     "execution_count": 12
    }
   ],
   "source": [
    "sim = Simulator('projectq',3)\n",
    "\n",
    "sim"
   ]
  },
  {
   "cell_type": "code",
   "execution_count": 16,
   "metadata": {},
   "outputs": [
    {
     "output_type": "execute_result",
     "data": {
      "text/plain": "projectq simulator with 3 qubits.\nCurrent quantum state:\n√2/4¦000⟩\n√2/4¦001⟩\n√2/4¦010⟩\n√2/4¦011⟩\n√2/4¦100⟩\n√2/4¦101⟩\n√2/4¦110⟩\n√2/4¦111⟩"
     },
     "metadata": {},
     "execution_count": 16
    }
   ],
   "source": [
    "sim.apply_circuit(qft(range(3)))\n",
    "\n",
    "sim"
   ]
  },
  {
   "cell_type": "code",
   "execution_count": 15,
   "metadata": {},
   "outputs": [],
   "source": [
    "sim.reset()"
   ]
  },
  {
   "cell_type": "code",
   "execution_count": 17,
   "metadata": {},
   "outputs": [
    {
     "output_type": "display_data",
     "data": {
      "text/plain": "",
      "text/html": "<pre style=\"white-space:pre;overflow-x:auto;line-height:normal;font-family:Menlo,'DejaVu Sans Mono',consolas,'Courier New',monospace\"></pre>\n"
     },
     "metadata": {}
    },
    {
     "output_type": "execute_result",
     "data": {
      "text/plain": "q0: ──H────H────PS(π/2)────PS(π/4)─────────────────────────@──\n                   │          │                            │  \nq1: ──H────────────●──────────┼───────H────PS(π/2)─────────┼──\n                              │               │            │  \nq2: ──H───────────────────────●───────────────●───────H────@──",
      "text/html": "<pre style=\"white-space: pre;\"><span style=\"color: #000080; text-decoration-color: #000080; font-weight: bold\">q0: ──H────H────</span><span style=\"color: #800080; text-decoration-color: #800080; font-weight: bold\">PS</span><span style=\"color: #000080; text-decoration-color: #000080; font-weight: bold\">(π/</span><span style=\"color: #008080; text-decoration-color: #008080; font-weight: bold\">2</span><span style=\"color: #000080; text-decoration-color: #000080; font-weight: bold\">)────</span><span style=\"color: #800080; text-decoration-color: #800080; font-weight: bold\">PS</span><span style=\"color: #000080; text-decoration-color: #000080; font-weight: bold\">(π/</span><span style=\"color: #008080; text-decoration-color: #008080; font-weight: bold\">4</span><span style=\"color: #000080; text-decoration-color: #000080; font-weight: bold\">)─────────────────────────@──</span>\n<span style=\"color: #000080; text-decoration-color: #000080; font-weight: bold\">                   │          │                            │  </span>\n<span style=\"color: #000080; text-decoration-color: #000080; font-weight: bold\">q1: ──H────────────●──────────┼───────H────</span><span style=\"color: #800080; text-decoration-color: #800080; font-weight: bold\">PS</span><span style=\"color: #000080; text-decoration-color: #000080; font-weight: bold\">(π/</span><span style=\"color: #008080; text-decoration-color: #008080; font-weight: bold\">2</span><span style=\"color: #000080; text-decoration-color: #000080; font-weight: bold\">)─────────┼──</span>\n<span style=\"color: #000080; text-decoration-color: #000080; font-weight: bold\">                              │               │            │  </span>\n<span style=\"color: #000080; text-decoration-color: #000080; font-weight: bold\">q2: ──H───────────────────────●───────────────●───────H────@──</span>\n</pre>\n"
     },
     "metadata": {},
     "execution_count": 17
    }
   ],
   "source": [
    "circuit = Circuit([H.on(0),H.on(1),H.on(2)])\n",
    "circuit += qft(range(3))\n",
    "circuit"
   ]
  },
  {
   "cell_type": "code",
   "execution_count": 18,
   "metadata": {},
   "outputs": [],
   "source": [
    "sim.reset()"
   ]
  },
  {
   "cell_type": "code",
   "execution_count": 19,
   "metadata": {},
   "outputs": [],
   "source": [
    "sim.apply_circuit(circuit)"
   ]
  },
  {
   "cell_type": "code",
   "execution_count": 20,
   "metadata": {},
   "outputs": [
    {
     "output_type": "execute_result",
     "data": {
      "text/plain": "projectq simulator with 3 qubits.\nCurrent quantum state:\n1¦000⟩"
     },
     "metadata": {},
     "execution_count": 20
    }
   ],
   "source": [
    "sim"
   ]
  },
  {
   "cell_type": "code",
   "execution_count": null,
   "metadata": {},
   "outputs": [],
   "source": [
    "# QNN"
   ]
  },
  {
   "cell_type": "code",
   "execution_count": 5,
   "metadata": {},
   "outputs": [
    {
     "output_type": "display_data",
     "data": {
      "text/plain": "",
      "text/html": "<pre style=\"white-space:pre;overflow-x:auto;line-height:normal;font-family:Menlo,'DejaVu Sans Mono',consolas,'Courier New',monospace\"></pre>\n"
     },
     "metadata": {}
    },
    {
     "output_type": "execute_result",
     "data": {
      "text/plain": "q0: ──H────RX(alpha0)────RY(alpha1)────RZ(alpha2)──",
      "text/html": "<pre style=\"white-space: pre;\"><span style=\"color: #000080; text-decoration-color: #000080; font-weight: bold\">q0: ──H────</span><span style=\"color: #800080; text-decoration-color: #800080; font-weight: bold\">RX</span><span style=\"color: #000080; text-decoration-color: #000080; font-weight: bold\">(alpha0)────</span><span style=\"color: #800080; text-decoration-color: #800080; font-weight: bold\">RY</span><span style=\"color: #000080; text-decoration-color: #000080; font-weight: bold\">(alpha1)────</span><span style=\"color: #800080; text-decoration-color: #800080; font-weight: bold\">RZ</span><span style=\"color: #000080; text-decoration-color: #000080; font-weight: bold\">(alpha2)──</span>\n</pre>\n"
     },
     "metadata": {},
     "execution_count": 5
    }
   ],
   "source": [
    "encoder = Circuit()                   #初始化量子线路\n",
    "encoder += H.on(0)                    #H门作用在第0位量子比特\n",
    "encoder += RX(f'alpha{0}').on(0)      #RX(alpha_0)门作用在第0位量子比特\n",
    "encoder += RY(f'alpha{1}').on(0)      #RY(alpha_1)门作用在第0位量子比特\n",
    "encoder += RZ(f'alpha{2}').on(0)      #RZ(alpha_2)门作用在第0位量子比特\n",
    "\n",
    "encoder"
   ]
  },
  {
   "cell_type": "code",
   "execution_count": 6,
   "metadata": {
    "tags": []
   },
   "outputs": [
    {
     "output_type": "stream",
     "name": "stdout",
     "text": "(0.5669903122552596-0.1753906567580312j)¦0⟩\n(0.800814626197614+0.08034947292077024j)¦1⟩\n"
    }
   ],
   "source": [
    "alpha0, alpha1, alpha2 = 0.2, 0.3, 0.4              #alpha0, alpha1, alpha2为已知的固定值，分别赋值0.2, 0.3 和0.4\n",
    "state = encoder.get_qs(pr={'alpha0': alpha0, 'alpha1': alpha1, 'alpha2': alpha2}, ket=True)\n",
    "print(state)"
   ]
  },
  {
   "cell_type": "code",
   "execution_count": 7,
   "metadata": {},
   "outputs": [
    {
     "output_type": "display_data",
     "data": {
      "text/plain": "",
      "text/html": "<pre style=\"white-space:pre;overflow-x:auto;line-height:normal;font-family:Menlo,'DejaVu Sans Mono',consolas,'Courier New',monospace\"></pre>\n"
     },
     "metadata": {}
    },
    {
     "output_type": "execute_result",
     "data": {
      "text/plain": "q0: ──RX(theta0)────RY(theta1)──",
      "text/html": "<pre style=\"white-space: pre;\"><span style=\"color: #000080; text-decoration-color: #000080; font-weight: bold\">q0: ──</span><span style=\"color: #800080; text-decoration-color: #800080; font-weight: bold\">RX</span><span style=\"color: #000080; text-decoration-color: #000080; font-weight: bold\">(theta0)────</span><span style=\"color: #800080; text-decoration-color: #800080; font-weight: bold\">RY</span><span style=\"color: #000080; text-decoration-color: #000080; font-weight: bold\">(theta1)──</span>\n</pre>\n"
     },
     "metadata": {},
     "execution_count": 7
    }
   ],
   "source": [
    "ansatz = Circuit()                           #初始化量子线路\n",
    "ansatz += RX(f'theta{0}').on(0)              #RX(theta_0)门作用在第0位量子比特\n",
    "ansatz += RY(f'theta{1}').on(0)              #RY(theta_1)门作用在第0位量子比特\n",
    "ansatz                                       #打印量子线路"
   ]
  },
  {
   "cell_type": "code",
   "execution_count": 8,
   "metadata": {},
   "outputs": [
    {
     "output_type": "display_data",
     "data": {
      "text/plain": "",
      "text/html": "<pre style=\"white-space:pre;overflow-x:auto;line-height:normal;font-family:Menlo,'DejaVu Sans Mono',consolas,'Courier New',monospace\"></pre>\n"
     },
     "metadata": {}
    },
    {
     "output_type": "execute_result",
     "data": {
      "text/plain": "q0: ──H────RX(alpha0)────RY(alpha1)────RZ(alpha2)────RX(theta0)────RY(theta1)──",
      "text/html": "<pre style=\"white-space: pre;\"><span style=\"color: #000080; text-decoration-color: #000080; font-weight: bold\">q0: ──H────</span><span style=\"color: #800080; text-decoration-color: #800080; font-weight: bold\">RX</span><span style=\"color: #000080; text-decoration-color: #000080; font-weight: bold\">(alpha0)────</span><span style=\"color: #800080; text-decoration-color: #800080; font-weight: bold\">RY</span><span style=\"color: #000080; text-decoration-color: #000080; font-weight: bold\">(alpha1)────</span><span style=\"color: #800080; text-decoration-color: #800080; font-weight: bold\">RZ</span><span style=\"color: #000080; text-decoration-color: #000080; font-weight: bold\">(alpha2)────</span><span style=\"color: #800080; text-decoration-color: #800080; font-weight: bold\">RX</span><span style=\"color: #000080; text-decoration-color: #000080; font-weight: bold\">(theta0)────</span><span style=\"color: #800080; text-decoration-color: #800080; font-weight: bold\">RY</span><span style=\"color: #000080; text-decoration-color: #000080; font-weight: bold\">(theta1)──</span>\n</pre>\n"
     },
     "metadata": {},
     "execution_count": 8
    }
   ],
   "source": [
    "circuit = encoder + ansatz                   #完整的量子线路由Encoder和Ansatz组成\n",
    "circuit"
   ]
  },
  {
   "cell_type": "code",
   "execution_count": 10,
   "metadata": {
    "tags": []
   },
   "outputs": [
    {
     "output_type": "stream",
     "name": "stdout",
     "text": "-1 [Z0] \n"
    }
   ],
   "source": [
    "#让encoder ansatz相互抵消，输出应该是|0> ，在Z轴上的期望就是1\n",
    "\n",
    "\n",
    "#z越大越好，z的期望取反，-1越小越好，这是一个trick，就是为了实现梯度下降\n",
    "ham = Hamiltonian(QubitOperator('Z0', -1))           #对第0位量子比特执行泡利Z算符测量，且将系数设置为-1，构建对应的哈密顿量\n",
    "print(ham)\n",
    "#对z方向求期望"
   ]
  },
  {
   "cell_type": "code",
   "execution_count": null,
   "metadata": {},
   "outputs": [],
   "source": []
  }
 ]
}