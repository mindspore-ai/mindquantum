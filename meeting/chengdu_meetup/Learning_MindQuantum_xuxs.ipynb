{
 "metadata": {
  "language_info": {
   "codemirror_mode": {
    "name": "ipython",
    "version": 3
   },
   "file_extension": ".py",
   "mimetype": "text/x-python",
   "name": "python",
   "nbconvert_exporter": "python",
   "pygments_lexer": "ipython3",
   "version": "3.7.5-final"
  },
  "orig_nbformat": 2,
  "kernelspec": {
   "name": "python37564bit41fe3e73255f4bccb5402c90bcefe980",
   "display_name": "Python 3.7.5 64-bit"
  }
 },
 "nbformat": 4,
 "nbformat_minor": 2,
 "cells": [
  {
   "cell_type": "code",
   "execution_count": 1,
   "metadata": {},
   "outputs": [],
   "source": [
    "from mindquantum import *"
   ]
  },
  {
   "cell_type": "code",
   "execution_count": 2,
   "metadata": {},
   "outputs": [
    {
     "output_type": "execute_result",
     "data": {
      "text/plain": "H"
     },
     "metadata": {},
     "execution_count": 2
    }
   ],
   "source": [
    "H"
   ]
  },
  {
   "cell_type": "code",
   "execution_count": 3,
   "metadata": {},
   "outputs": [
    {
     "output_type": "execute_result",
     "data": {
      "text/plain": "H(0)"
     },
     "metadata": {},
     "execution_count": 3
    }
   ],
   "source": [
    "H.on(0)"
   ]
  },
  {
   "cell_type": "code",
   "execution_count": 4,
   "metadata": {},
   "outputs": [
    {
     "output_type": "execute_result",
     "data": {
      "text/plain": "array([[ 0.70710678,  0.70710678],\n       [ 0.70710678, -0.70710678]])"
     },
     "metadata": {},
     "execution_count": 4
    }
   ],
   "source": [
    "H.matrix()"
   ]
  },
  {
   "cell_type": "code",
   "execution_count": 5,
   "metadata": {},
   "outputs": [
    {
     "output_type": "execute_result",
     "data": {
      "text/plain": "array([[0, 1],\n       [1, 0]])"
     },
     "metadata": {},
     "execution_count": 5
    }
   ],
   "source": [
    "X.matrix()"
   ]
  },
  {
   "cell_type": "code",
   "execution_count": 7,
   "metadata": {},
   "outputs": [
    {
     "output_type": "execute_result",
     "data": {
      "text/plain": "X(1 <-: 0 2 3)"
     },
     "metadata": {},
     "execution_count": 7
    }
   ],
   "source": [
    "X.on(1, [0,2,3])"
   ]
  },
  {
   "cell_type": "code",
   "execution_count": 10,
   "metadata": {},
   "outputs": [
    {
     "output_type": "execute_result",
     "data": {
      "text/plain": "RX(π|0 <-: 1)"
     },
     "metadata": {},
     "execution_count": 10
    }
   ],
   "source": [
    "import numpy as np\n",
    "RX(np.pi).on(0, 1)"
   ]
  },
  {
   "cell_type": "code",
   "execution_count": 11,
   "metadata": {},
   "outputs": [
    {
     "output_type": "execute_result",
     "data": {
      "text/plain": "RX(theta|1)"
     },
     "metadata": {},
     "execution_count": 11
    }
   ],
   "source": [
    "RX('theta').on(1)"
   ]
  },
  {
   "cell_type": "code",
   "execution_count": 12,
   "metadata": {},
   "outputs": [],
   "source": [
    "circuit = Circuit()"
   ]
  },
  {
   "cell_type": "code",
   "execution_count": 13,
   "metadata": {},
   "outputs": [
    {
     "output_type": "display_data",
     "data": {
      "text/plain": "",
      "text/html": "<pre style=\"white-space:pre;overflow-x:auto;line-height:normal;font-family:Menlo,'DejaVu Sans Mono',consolas,'Courier New',monospace\"></pre>\n"
     },
     "metadata": {}
    },
    {
     "output_type": "execute_result",
     "data": {
      "text/plain": "q0: ──H────●──\n           │  \nq1: ───────X──",
      "text/html": "<pre style=\"white-space: pre;\"><span style=\"color: #000080; text-decoration-color: #000080; font-weight: bold\">q0: ──H────●──</span>\n<span style=\"color: #000080; text-decoration-color: #000080; font-weight: bold\">           │  </span>\n<span style=\"color: #000080; text-decoration-color: #000080; font-weight: bold\">q1: ───────X──</span>\n</pre>\n"
     },
     "metadata": {},
     "execution_count": 13
    }
   ],
   "source": [
    "circuit = Circuit([H.on(0), X.on(1, 0)])\n",
    "circuit"
   ]
  },
  {
   "cell_type": "code",
   "execution_count": 14,
   "metadata": {},
   "outputs": [
    {
     "output_type": "display_data",
     "data": {
      "text/plain": "",
      "text/html": "<pre style=\"white-space:pre;overflow-x:auto;line-height:normal;font-family:Menlo,'DejaVu Sans Mono',consolas,'Courier New',monospace\"></pre>\n"
     },
     "metadata": {}
    },
    {
     "output_type": "execute_result",
     "data": {
      "text/plain": "q0: ──H────●────H────PS(π/2)────PS(π/4)─────────────────────────@──\n           │            │          │                            │  \nq1: ───────X────────────●──────────┼───────H────PS(π/2)─────────┼──\n                                   │               │            │  \nq2: ───────────────────────────────●───────────────●───────H────@──",
      "text/html": "<pre style=\"white-space: pre;\"><span style=\"color: #000080; text-decoration-color: #000080; font-weight: bold\">q0: ──H────●────H────</span><span style=\"color: #800080; text-decoration-color: #800080; font-weight: bold\">PS</span><span style=\"color: #000080; text-decoration-color: #000080; font-weight: bold\">(π/</span><span style=\"color: #008080; text-decoration-color: #008080; font-weight: bold\">2</span><span style=\"color: #000080; text-decoration-color: #000080; font-weight: bold\">)────</span><span style=\"color: #800080; text-decoration-color: #800080; font-weight: bold\">PS</span><span style=\"color: #000080; text-decoration-color: #000080; font-weight: bold\">(π/</span><span style=\"color: #008080; text-decoration-color: #008080; font-weight: bold\">4</span><span style=\"color: #000080; text-decoration-color: #000080; font-weight: bold\">)─────────────────────────@──</span>\n<span style=\"color: #000080; text-decoration-color: #000080; font-weight: bold\">           │            │          │                            │  </span>\n<span style=\"color: #000080; text-decoration-color: #000080; font-weight: bold\">q1: ───────X────────────●──────────┼───────H────</span><span style=\"color: #800080; text-decoration-color: #800080; font-weight: bold\">PS</span><span style=\"color: #000080; text-decoration-color: #000080; font-weight: bold\">(π/</span><span style=\"color: #008080; text-decoration-color: #008080; font-weight: bold\">2</span><span style=\"color: #000080; text-decoration-color: #000080; font-weight: bold\">)─────────┼──</span>\n<span style=\"color: #000080; text-decoration-color: #000080; font-weight: bold\">                                   │               │            │  </span>\n<span style=\"color: #000080; text-decoration-color: #000080; font-weight: bold\">q2: ───────────────────────────────●───────────────●───────H────@──</span>\n</pre>\n"
     },
     "metadata": {},
     "execution_count": 14
    }
   ],
   "source": [
    "circuit += qft(range(3))\n",
    "circuit"
   ]
  },
  {
   "cell_type": "code",
   "execution_count": 15,
   "metadata": {},
   "outputs": [
    {
     "output_type": "display_data",
     "data": {
      "text/plain": "",
      "text/html": "<pre style=\"white-space:pre;overflow-x:auto;line-height:normal;font-family:Menlo,'DejaVu Sans Mono',consolas,'Courier New',monospace\"></pre>\n"
     },
     "metadata": {}
    },
    {
     "output_type": "execute_result",
     "data": {
      "text/plain": "q0: ──H────●────H────PS(π/2)────PS(π/4)─────────────────────────@────ZZ(alpha)──\n           │            │          │                            │        │      \nq1: ───────X────────────●──────────┼───────H────PS(π/2)─────────┼────ZZ(alpha)──\n                                   │               │            │               \nq2: ───────────────────────────────●───────────────●───────H────@───────────────",
      "text/html": "<pre style=\"white-space: pre;\"><span style=\"color: #000080; text-decoration-color: #000080; font-weight: bold\">q0: ──H────●────H────</span><span style=\"color: #800080; text-decoration-color: #800080; font-weight: bold\">PS</span><span style=\"color: #000080; text-decoration-color: #000080; font-weight: bold\">(π/</span><span style=\"color: #008080; text-decoration-color: #008080; font-weight: bold\">2</span><span style=\"color: #000080; text-decoration-color: #000080; font-weight: bold\">)────</span><span style=\"color: #800080; text-decoration-color: #800080; font-weight: bold\">PS</span><span style=\"color: #000080; text-decoration-color: #000080; font-weight: bold\">(π/</span><span style=\"color: #008080; text-decoration-color: #008080; font-weight: bold\">4</span><span style=\"color: #000080; text-decoration-color: #000080; font-weight: bold\">)─────────────────────────@────</span><span style=\"color: #800080; text-decoration-color: #800080; font-weight: bold\">ZZ</span><span style=\"color: #000080; text-decoration-color: #000080; font-weight: bold\">(alpha)──</span>\n<span style=\"color: #000080; text-decoration-color: #000080; font-weight: bold\">           │            │          │                            │        │      </span>\n<span style=\"color: #000080; text-decoration-color: #000080; font-weight: bold\">q1: ───────X────────────●──────────┼───────H────</span><span style=\"color: #800080; text-decoration-color: #800080; font-weight: bold\">PS</span><span style=\"color: #000080; text-decoration-color: #000080; font-weight: bold\">(π/</span><span style=\"color: #008080; text-decoration-color: #008080; font-weight: bold\">2</span><span style=\"color: #000080; text-decoration-color: #000080; font-weight: bold\">)─────────┼────</span><span style=\"color: #800080; text-decoration-color: #800080; font-weight: bold\">ZZ</span><span style=\"color: #000080; text-decoration-color: #000080; font-weight: bold\">(alpha)──</span>\n<span style=\"color: #000080; text-decoration-color: #000080; font-weight: bold\">                                   │               │            │               </span>\n<span style=\"color: #000080; text-decoration-color: #000080; font-weight: bold\">q2: ───────────────────────────────●───────────────●───────H────@───────────────</span>\n</pre>\n"
     },
     "metadata": {},
     "execution_count": 15
    }
   ],
   "source": [
    "circuit += ZZ('alpha').on([0,1])\n",
    "circuit"
   ]
  },
  {
   "cell_type": "code",
   "execution_count": 16,
   "metadata": {},
   "outputs": [],
   "source": [
    "sim = Simulator('projectq', 3)"
   ]
  },
  {
   "cell_type": "code",
   "execution_count": 17,
   "metadata": {},
   "outputs": [
    {
     "output_type": "execute_result",
     "data": {
      "text/plain": "projectq simulator with 3 qubits.\nCurrent quantum state:\n1¦000⟩"
     },
     "metadata": {},
     "execution_count": 17
    }
   ],
   "source": [
    "sim"
   ]
  },
  {
   "cell_type": "code",
   "execution_count": 18,
   "metadata": {},
   "outputs": [
    {
     "output_type": "execute_result",
     "data": {
      "text/plain": "projectq simulator with 3 qubits.\nCurrent quantum state:\n√2/4¦000⟩\n√2/4¦001⟩\n√2/4¦010⟩\n√2/4¦011⟩\n√2/4¦100⟩\n√2/4¦101⟩\n√2/4¦110⟩\n√2/4¦111⟩"
     },
     "metadata": {},
     "execution_count": 18
    }
   ],
   "source": [
    "sim.apply_circuit(qft(range(3)))\n",
    "sim"
   ]
  },
  {
   "cell_type": "code",
   "execution_count": 19,
   "metadata": {},
   "outputs": [],
   "source": [
    "sim.reset()"
   ]
  },
  {
   "cell_type": "code",
   "execution_count": 20,
   "metadata": {},
   "outputs": [
    {
     "output_type": "execute_result",
     "data": {
      "text/plain": "projectq simulator with 3 qubits.\nCurrent quantum state:\n1¦000⟩"
     },
     "metadata": {},
     "execution_count": 20
    }
   ],
   "source": [
    "sim"
   ]
  },
  {
   "cell_type": "code",
   "execution_count": 21,
   "metadata": {},
   "outputs": [
    {
     "output_type": "display_data",
     "data": {
      "text/plain": "",
      "text/html": "<pre style=\"white-space:pre;overflow-x:auto;line-height:normal;font-family:Menlo,'DejaVu Sans Mono',consolas,'Courier New',monospace\"></pre>\n"
     },
     "metadata": {}
    },
    {
     "output_type": "execute_result",
     "data": {
      "text/plain": "q0: ──H────RX(alpha0)────RY(alpha1)────RZ(alpha2)──",
      "text/html": "<pre style=\"white-space: pre;\"><span style=\"color: #000080; text-decoration-color: #000080; font-weight: bold\">q0: ──H────</span><span style=\"color: #800080; text-decoration-color: #800080; font-weight: bold\">RX</span><span style=\"color: #000080; text-decoration-color: #000080; font-weight: bold\">(alpha0)────</span><span style=\"color: #800080; text-decoration-color: #800080; font-weight: bold\">RY</span><span style=\"color: #000080; text-decoration-color: #000080; font-weight: bold\">(alpha1)────</span><span style=\"color: #800080; text-decoration-color: #800080; font-weight: bold\">RZ</span><span style=\"color: #000080; text-decoration-color: #000080; font-weight: bold\">(alpha2)──</span>\n</pre>\n"
     },
     "metadata": {},
     "execution_count": 21
    }
   ],
   "source": [
    "encoder = Circuit()\n",
    "encoder += H.on(0)\n",
    "encoder += RX('alpha0').on(0)\n",
    "encoder += RY('alpha1').on(0)\n",
    "encoder += RZ('alpha2').on(0)\n",
    "encoder"
   ]
  },
  {
   "cell_type": "code",
   "execution_count": 24,
   "metadata": {
    "tags": []
   },
   "outputs": [
    {
     "output_type": "stream",
     "name": "stdout",
     "text": "(0.6203638230723639-0.1257539726032947j)¦0⟩\n(0.7702994677056821+0.07728774449984671j)¦1⟩\n"
    }
   ],
   "source": [
    "print(encoder.get_qs('projectq', {'alpha0': 0.1, 'alpha1':0.2, 'alpha2':0.3}, ket=True))"
   ]
  },
  {
   "cell_type": "code",
   "execution_count": 25,
   "metadata": {},
   "outputs": [
    {
     "output_type": "display_data",
     "data": {
      "text/plain": "",
      "text/html": "<pre style=\"white-space:pre;overflow-x:auto;line-height:normal;font-family:Menlo,'DejaVu Sans Mono',consolas,'Courier New',monospace\"></pre>\n"
     },
     "metadata": {}
    },
    {
     "output_type": "execute_result",
     "data": {
      "text/plain": "q0: ──RX(theata0)────RY(theta1)──",
      "text/html": "<pre style=\"white-space: pre;\"><span style=\"color: #000080; text-decoration-color: #000080; font-weight: bold\">q0: ──</span><span style=\"color: #800080; text-decoration-color: #800080; font-weight: bold\">RX</span><span style=\"color: #000080; text-decoration-color: #000080; font-weight: bold\">(theata0)────</span><span style=\"color: #800080; text-decoration-color: #800080; font-weight: bold\">RY</span><span style=\"color: #000080; text-decoration-color: #000080; font-weight: bold\">(theta1)──</span>\n</pre>\n"
     },
     "metadata": {},
     "execution_count": 25
    }
   ],
   "source": [
    "ansatz = Circuit()\n",
    "ansatz += RX('theata0').on(0)\n",
    "ansatz += RY('theta1').on(0)\n",
    "ansatz"
   ]
  },
  {
   "cell_type": "code",
   "execution_count": 28,
   "metadata": {},
   "outputs": [
    {
     "output_type": "display_data",
     "data": {
      "text/plain": "",
      "text/html": "<pre style=\"white-space:pre;overflow-x:auto;line-height:normal;font-family:Menlo,'DejaVu Sans Mono',consolas,'Courier New',monospace\"></pre>\n"
     },
     "metadata": {}
    },
    {
     "output_type": "execute_result",
     "data": {
      "text/plain": "q0: ──H────RX(alpha0)────RY(alpha1)────RZ(alpha2)────RX(theata0)────RY(theta1)──",
      "text/html": "<pre style=\"white-space: pre;\"><span style=\"color: #000080; text-decoration-color: #000080; font-weight: bold\">q0: ──H────</span><span style=\"color: #800080; text-decoration-color: #800080; font-weight: bold\">RX</span><span style=\"color: #000080; text-decoration-color: #000080; font-weight: bold\">(alpha0)────</span><span style=\"color: #800080; text-decoration-color: #800080; font-weight: bold\">RY</span><span style=\"color: #000080; text-decoration-color: #000080; font-weight: bold\">(alpha1)────</span><span style=\"color: #800080; text-decoration-color: #800080; font-weight: bold\">RZ</span><span style=\"color: #000080; text-decoration-color: #000080; font-weight: bold\">(alpha2)────</span><span style=\"color: #800080; text-decoration-color: #800080; font-weight: bold\">RX</span><span style=\"color: #000080; text-decoration-color: #000080; font-weight: bold\">(theata0)────</span><span style=\"color: #800080; text-decoration-color: #800080; font-weight: bold\">RY</span><span style=\"color: #000080; text-decoration-color: #000080; font-weight: bold\">(theta1)──</span>\n</pre>\n"
     },
     "metadata": {},
     "execution_count": 28
    }
   ],
   "source": [
    "circuit = encoder + ansatz\n",
    "circuit "
   ]
  },
  {
   "cell_type": "code",
   "execution_count": 29,
   "metadata": {},
   "outputs": [
    {
     "output_type": "execute_result",
     "data": {
      "text/plain": "projectq simulator with 1 qubit.\nCurrent quantum state:\n1¦0⟩"
     },
     "metadata": {},
     "execution_count": 29
    }
   ],
   "source": [
    "sim = Simulator('projectq', circuit.n_qubits)\n",
    "sim"
   ]
  },
  {
   "cell_type": "code",
   "execution_count": 33,
   "metadata": {},
   "outputs": [
    {
     "output_type": "execute_result",
     "data": {
      "text/plain": "-1.0 [Z0] "
     },
     "metadata": {},
     "execution_count": 33
    }
   ],
   "source": [
    "ham = Hamiltonian(-QubitOperator('Z0'))\n",
    "ham"
   ]
  },
  {
   "cell_type": "code",
   "execution_count": 37,
   "metadata": {},
   "outputs": [
    {
     "output_type": "execute_result",
     "data": {
      "text/plain": "<mindquantum.simulator.simulator.GradOpsWrapper at 0x7f5385b52b10>"
     },
     "metadata": {},
     "execution_count": 37
    }
   ],
   "source": [
    "grad_ops = sim.get_expectation_with_grad(ham, circuit,encoder_params_name=encoder.params_name, ansatz_params_name=ansatz.params_name)\n",
    "grad_ops"
   ]
  },
  {
   "cell_type": "code",
   "execution_count": 38,
   "metadata": {},
   "outputs": [
    {
     "output_type": "execute_result",
     "data": {
      "text/plain": "(array([[0.51048884+0.j]]),\n array([[[ 5.55111512e-17+0.j,  7.21265887e-01+0.j, -4.58830979e-01+0.j]]]),\n array([[[-0.30200415+0.j,  0.78801928+0.j]]]))"
     },
     "metadata": {},
     "execution_count": 38
    }
   ],
   "source": [
    "grad_ops(np.array([[0.1, 0.2, 0.3]]), np.array([0.4,0.5]))"
   ]
  },
  {
   "cell_type": "code",
   "execution_count": 41,
   "metadata": {},
   "outputs": [
    {
     "output_type": "execute_result",
     "data": {
      "text/plain": "MQLayer<\n  (evolution): MQOps<1 qubit projectq VQA Operator>\n  >"
     },
     "metadata": {},
     "execution_count": 41
    }
   ],
   "source": [
    "import mindspore as ms\n",
    "ms.context.set_context(mode=ms.context.PYNATIVE_MODE, device_target=\"CPU\")\n",
    "net = MQLayer(grad_ops)\n",
    "net"
   ]
  },
  {
   "cell_type": "code",
   "execution_count": 42,
   "metadata": {},
   "outputs": [
    {
     "output_type": "execute_result",
     "data": {
      "text/plain": "Tensor(shape=[1, 1], dtype=Float32, value=\n[[ 1.95401520e-01]])"
     },
     "metadata": {},
     "execution_count": 42
    }
   ],
   "source": [
    "net(ms.Tensor(np.array([[0.1,0.2,0.3]])))"
   ]
  },
  {
   "cell_type": "code",
   "execution_count": 46,
   "metadata": {},
   "outputs": [
    {
     "output_type": "execute_result",
     "data": {
      "text/plain": "TrainOneStepCell<\n  (network): MQLayer<\n    (evolution): MQOps<1 qubit projectq VQA Operator>\n    >\n  (optimizer): Adam<>\n  >"
     },
     "metadata": {},
     "execution_count": 46
    }
   ],
   "source": [
    "opti = ms.nn.Adam(net.trainable_params(), learning_rate=0.5)\n",
    "train_net = ms.nn.TrainOneStepCell(net, opti)\n",
    "train_net"
   ]
  },
  {
   "cell_type": "code",
   "execution_count": 47,
   "metadata": {
    "tags": []
   },
   "outputs": [
    {
     "output_type": "stream",
     "name": "stderr",
     "text": "[WARNING] DEBUG(2676,7f53e7697740,python):2021-10-21-07:43:37.579.633 [mindspore/ccsrc/debug/debugger/debugger.cc:88] Debugger] Not enabling debugger. Debugger does not support CPU.\n[[0.19540152]]\n[[-0.4202797]]\n[[-0.86169165]]\n[[-0.9592955]]\n[[-0.83309096]]\n[[-0.7295181]]\n[[-0.7280006]]\n[[-0.7987455]]\n[[-0.8862574]]\n[[-0.9385713]]\n[[-0.93191373]]\n[[-0.88537765]]\n[[-0.84084976]]\n[[-0.8276558]]\n[[-0.849409]]\n[[-0.89079744]]\n[[-0.9295071]]\n[[-0.9485769]]\n[[-0.9454192]]\n[[-0.931335]]\n[[-0.9217197]]\n[[-0.9259928]]\n[[-0.9441032]]\n[[-0.9687466]]\n[[-0.98992205]]\n[[-0.9997197]]\n[[-0.9959427]]\n[[-0.98301625]]\n[[-0.96936786]]\n[[-0.9626718]]\n[[-0.9659615]]\n[[-0.97675836]]\n[[-0.9891862]]\n[[-0.99750197]]\n[[-0.999035]]\n[[-0.9950435]]\n[[-0.98930883]]\n[[-0.985645]]\n[[-0.9859139]]\n[[-0.98947835]]\n[[-0.99404925]]\n[[-0.99722975]]\n[[-0.99785256]]\n[[-0.99641305]]\n[[-0.99447435]]\n[[-0.99356276]]\n[[-0.9943063]]\n[[-0.99625844]]\n[[-0.99834275]]\n[[-0.999544]]\n[[-0.9994489]]\n[[-0.99838984]]\n[[-0.99717027]]\n[[-0.9965644]]\n[[-0.99689585]]\n[[-0.99792284]]\n[[-0.9990563]]\n[[-0.9997431]]\n[[-0.9997731]]\n[[-0.9993421]]\n[[-0.9988677]]\n[[-0.99870133]]\n[[-0.99892557]]\n[[-0.99935]]\n[[-0.99968374]]\n[[-0.99974775]]\n[[-0.99958104]]\n[[-0.99938005]]\n[[-0.999336]]\n[[-0.9994984]]\n[[-0.9997575]]\n[[-0.9999428]]\n[[-0.9999528]]\n[[-0.999819]]\n[[-0.9996673]]\n[[-0.9996174]]\n[[-0.9997003]]\n[[-0.9998507]]\n[[-0.9999675]]\n[[-0.9999903]]\n[[-0.99993324]]\n[[-0.99986124]]\n[[-0.9998344]]\n[[-0.9998668]]\n[[-0.99992615]]\n[[-0.99996746]]\n[[-0.9999689]]\n[[-0.99994373]]\n[[-0.9999232]]\n[[-0.9999287]]\n[[-0.9999564]]\n[[-0.9999843]]\n[[-0.99999255]]\n[[-0.9999792]]\n[[-0.99995935]]\n[[-0.99995124]]\n[[-0.9999616]]\n[[-0.9999819]]\n[[-0.9999971]]\n[[-0.99999857]]\n"
    }
   ],
   "source": [
    "for i in range(100):\n",
    "    res = train_net(ms.Tensor(np.array([[0.1,0.2,0.3]])))\n",
    "    print(res)"
   ]
  },
  {
   "cell_type": "code",
   "execution_count": 48,
   "metadata": {},
   "outputs": [
    {
     "output_type": "execute_result",
     "data": {
      "text/plain": "array([ 2.174837, -1.207377], dtype=float32)"
     },
     "metadata": {},
     "execution_count": 48
    }
   ],
   "source": [
    "net.trainable_params()[0].asnumpy()"
   ]
  },
  {
   "cell_type": "code",
   "execution_count": null,
   "metadata": {},
   "outputs": [],
   "source": []
  }
 ]
}