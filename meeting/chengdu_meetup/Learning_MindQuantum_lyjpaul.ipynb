{
 "metadata": {
  "language_info": {
   "codemirror_mode": {
    "name": "ipython",
    "version": 3
   },
   "file_extension": ".py",
   "mimetype": "text/x-python",
   "name": "python",
   "nbconvert_exporter": "python",
   "pygments_lexer": "ipython3",
   "version": "3.7.5-final"
  },
  "orig_nbformat": 2,
  "kernelspec": {
   "name": "python37564bit455ed2c6b041478583c2a96dcbd4fb0b",
   "display_name": "Python 3.7.5 64-bit"
  }
 },
 "nbformat": 4,
 "nbformat_minor": 2,
 "cells": [
  {
   "cell_type": "code",
   "execution_count": 2,
   "metadata": {},
   "outputs": [
    {
     "output_type": "execute_result",
     "data": {
      "text/plain": "<bound method BasicGate.on of H>"
     },
     "metadata": {},
     "execution_count": 2
    }
   ],
   "source": [
    "from mindquantum import *\n",
    "import numpy as np \n",
    "H\n",
    "H.on"
   ]
  },
  {
   "cell_type": "code",
   "execution_count": 3,
   "metadata": {},
   "outputs": [
    {
     "output_type": "execute_result",
     "data": {
      "text/plain": "array([[0, 1],\n       [1, 0]])"
     },
     "metadata": {},
     "execution_count": 3
    }
   ],
   "source": [
    "X.matrix()"
   ]
  },
  {
   "cell_type": "code",
   "execution_count": 4,
   "metadata": {},
   "outputs": [
    {
     "output_type": "execute_result",
     "data": {
      "text/plain": "X(1 <-: 0)"
     },
     "metadata": {},
     "execution_count": 4
    }
   ],
   "source": [
    "X.on(1,0)"
   ]
  },
  {
   "cell_type": "code",
   "execution_count": 5,
   "metadata": {},
   "outputs": [
    {
     "output_type": "execute_result",
     "data": {
      "text/plain": "RX(π)"
     },
     "metadata": {},
     "execution_count": 5
    }
   ],
   "source": [
    "RX(np.pi)"
   ]
  },
  {
   "cell_type": "code",
   "execution_count": 3,
   "metadata": {},
   "outputs": [],
   "source": [
    "circuit=Circuit()"
   ]
  },
  {
   "cell_type": "code",
   "execution_count": 6,
   "metadata": {},
   "outputs": [
    {
     "output_type": "display_data",
     "data": {
      "text/plain": "",
      "text/html": "<pre style=\"white-space:pre;overflow-x:auto;line-height:normal;font-family:Menlo,'DejaVu Sans Mono',consolas,'Courier New',monospace\"></pre>\n"
     },
     "metadata": {}
    },
    {
     "output_type": "execute_result",
     "data": {
      "text/plain": "q0: ──H────●──\n           │  \nq1: ───────X──",
      "text/html": "<pre style=\"white-space: pre;\"><span style=\"color: #000080; text-decoration-color: #000080; font-weight: bold\">q0: ──H────●──</span>\n<span style=\"color: #000080; text-decoration-color: #000080; font-weight: bold\">           │  </span>\n<span style=\"color: #000080; text-decoration-color: #000080; font-weight: bold\">q1: ───────X──</span>\n</pre>\n"
     },
     "metadata": {},
     "execution_count": 6
    }
   ],
   "source": [
    "circuit=Circuit([H.on(0),X.on(1,0)])\n",
    "circuit"
   ]
  },
  {
   "cell_type": "code",
   "execution_count": 7,
   "metadata": {},
   "outputs": [],
   "source": [
    "circuit+=qft(range(3))"
   ]
  },
  {
   "cell_type": "code",
   "execution_count": 8,
   "metadata": {},
   "outputs": [
    {
     "output_type": "display_data",
     "data": {
      "text/plain": "",
      "text/html": "<pre style=\"white-space:pre;overflow-x:auto;line-height:normal;font-family:Menlo,'DejaVu Sans Mono',consolas,'Courier New',monospace\"></pre>\n"
     },
     "metadata": {}
    },
    {
     "output_type": "execute_result",
     "data": {
      "text/plain": "q0: ──H────●────H────PS(π/2)────PS(π/4)─────────────────────────@──\n           │            │          │                            │  \nq1: ───────X────────────●──────────┼───────H────PS(π/2)─────────┼──\n                                   │               │            │  \nq2: ───────────────────────────────●───────────────●───────H────@──",
      "text/html": "<pre style=\"white-space: pre;\"><span style=\"color: #000080; text-decoration-color: #000080; font-weight: bold\">q0: ──H────●────H────</span><span style=\"color: #800080; text-decoration-color: #800080; font-weight: bold\">PS</span><span style=\"color: #000080; text-decoration-color: #000080; font-weight: bold\">(π/</span><span style=\"color: #008080; text-decoration-color: #008080; font-weight: bold\">2</span><span style=\"color: #000080; text-decoration-color: #000080; font-weight: bold\">)────</span><span style=\"color: #800080; text-decoration-color: #800080; font-weight: bold\">PS</span><span style=\"color: #000080; text-decoration-color: #000080; font-weight: bold\">(π/</span><span style=\"color: #008080; text-decoration-color: #008080; font-weight: bold\">4</span><span style=\"color: #000080; text-decoration-color: #000080; font-weight: bold\">)─────────────────────────@──</span>\n<span style=\"color: #000080; text-decoration-color: #000080; font-weight: bold\">           │            │          │                            │  </span>\n<span style=\"color: #000080; text-decoration-color: #000080; font-weight: bold\">q1: ───────X────────────●──────────┼───────H────</span><span style=\"color: #800080; text-decoration-color: #800080; font-weight: bold\">PS</span><span style=\"color: #000080; text-decoration-color: #000080; font-weight: bold\">(π/</span><span style=\"color: #008080; text-decoration-color: #008080; font-weight: bold\">2</span><span style=\"color: #000080; text-decoration-color: #000080; font-weight: bold\">)─────────┼──</span>\n<span style=\"color: #000080; text-decoration-color: #000080; font-weight: bold\">                                   │               │            │  </span>\n<span style=\"color: #000080; text-decoration-color: #000080; font-weight: bold\">q2: ───────────────────────────────●───────────────●───────H────@──</span>\n</pre>\n"
     },
     "metadata": {},
     "execution_count": 8
    }
   ],
   "source": [
    "circuit"
   ]
  },
  {
   "cell_type": "code",
   "execution_count": 9,
   "metadata": {},
   "outputs": [
    {
     "output_type": "display_data",
     "data": {
      "text/plain": "",
      "text/html": "<pre style=\"white-space:pre;overflow-x:auto;line-height:normal;font-family:Menlo,'DejaVu Sans Mono',consolas,'Courier New',monospace\"></pre>\n"
     },
     "metadata": {}
    },
    {
     "output_type": "execute_result",
     "data": {
      "text/plain": "q0: ──H────●────H────PS(π/2)────PS(π/4)─────────────────────────@────ZZ(alpha)──\n           │            │          │                            │        │      \nq1: ───────X────────────●──────────┼───────H────PS(π/2)─────────┼────ZZ(alpha)──\n                                   │               │            │               \nq2: ───────────────────────────────●───────────────●───────H────@───────────────",
      "text/html": "<pre style=\"white-space: pre;\"><span style=\"color: #000080; text-decoration-color: #000080; font-weight: bold\">q0: ──H────●────H────</span><span style=\"color: #800080; text-decoration-color: #800080; font-weight: bold\">PS</span><span style=\"color: #000080; text-decoration-color: #000080; font-weight: bold\">(π/</span><span style=\"color: #008080; text-decoration-color: #008080; font-weight: bold\">2</span><span style=\"color: #000080; text-decoration-color: #000080; font-weight: bold\">)────</span><span style=\"color: #800080; text-decoration-color: #800080; font-weight: bold\">PS</span><span style=\"color: #000080; text-decoration-color: #000080; font-weight: bold\">(π/</span><span style=\"color: #008080; text-decoration-color: #008080; font-weight: bold\">4</span><span style=\"color: #000080; text-decoration-color: #000080; font-weight: bold\">)─────────────────────────@────</span><span style=\"color: #800080; text-decoration-color: #800080; font-weight: bold\">ZZ</span><span style=\"color: #000080; text-decoration-color: #000080; font-weight: bold\">(alpha)──</span>\n<span style=\"color: #000080; text-decoration-color: #000080; font-weight: bold\">           │            │          │                            │        │      </span>\n<span style=\"color: #000080; text-decoration-color: #000080; font-weight: bold\">q1: ───────X────────────●──────────┼───────H────</span><span style=\"color: #800080; text-decoration-color: #800080; font-weight: bold\">PS</span><span style=\"color: #000080; text-decoration-color: #000080; font-weight: bold\">(π/</span><span style=\"color: #008080; text-decoration-color: #008080; font-weight: bold\">2</span><span style=\"color: #000080; text-decoration-color: #000080; font-weight: bold\">)─────────┼────</span><span style=\"color: #800080; text-decoration-color: #800080; font-weight: bold\">ZZ</span><span style=\"color: #000080; text-decoration-color: #000080; font-weight: bold\">(alpha)──</span>\n<span style=\"color: #000080; text-decoration-color: #000080; font-weight: bold\">                                   │               │            │               </span>\n<span style=\"color: #000080; text-decoration-color: #000080; font-weight: bold\">q2: ───────────────────────────────●───────────────●───────H────@───────────────</span>\n</pre>\n"
     },
     "metadata": {},
     "execution_count": 9
    }
   ],
   "source": [
    "circuit+=ZZ('alpha').on([0,1])\n",
    "circuit"
   ]
  },
  {
   "cell_type": "code",
   "execution_count": 10,
   "metadata": {},
   "outputs": [],
   "source": [
    "circuit+=BARRIER"
   ]
  },
  {
   "cell_type": "code",
   "execution_count": 11,
   "metadata": {},
   "outputs": [
    {
     "output_type": "display_data",
     "data": {
      "text/plain": "",
      "text/html": "<pre style=\"white-space:pre;overflow-x:auto;line-height:normal;font-family:Menlo,'DejaVu Sans Mono',consolas,'Courier New',monospace\"></pre>\n"
     },
     "metadata": {}
    },
    {
     "output_type": "execute_result",
     "data": {
      "text/plain": "q0: ──H────●────H────PS(π/2)────PS(π/4)─────────────────────────@────ZZ(alpha)──\n           │            │          │                            │        │      \nq1: ───────X────────────●──────────┼───────H────PS(π/2)─────────┼────ZZ(alpha)──\n                                   │               │            │               \nq2: ───────────────────────────────●───────────────●───────H────@───────────────",
      "text/html": "<pre style=\"white-space: pre;\"><span style=\"color: #000080; text-decoration-color: #000080; font-weight: bold\">q0: ──H────●────H────</span><span style=\"color: #800080; text-decoration-color: #800080; font-weight: bold\">PS</span><span style=\"color: #000080; text-decoration-color: #000080; font-weight: bold\">(π/</span><span style=\"color: #008080; text-decoration-color: #008080; font-weight: bold\">2</span><span style=\"color: #000080; text-decoration-color: #000080; font-weight: bold\">)────</span><span style=\"color: #800080; text-decoration-color: #800080; font-weight: bold\">PS</span><span style=\"color: #000080; text-decoration-color: #000080; font-weight: bold\">(π/</span><span style=\"color: #008080; text-decoration-color: #008080; font-weight: bold\">4</span><span style=\"color: #000080; text-decoration-color: #000080; font-weight: bold\">)─────────────────────────@────</span><span style=\"color: #800080; text-decoration-color: #800080; font-weight: bold\">ZZ</span><span style=\"color: #000080; text-decoration-color: #000080; font-weight: bold\">(alpha)──</span>\n<span style=\"color: #000080; text-decoration-color: #000080; font-weight: bold\">           │            │          │                            │        │      </span>\n<span style=\"color: #000080; text-decoration-color: #000080; font-weight: bold\">q1: ───────X────────────●──────────┼───────H────</span><span style=\"color: #800080; text-decoration-color: #800080; font-weight: bold\">PS</span><span style=\"color: #000080; text-decoration-color: #000080; font-weight: bold\">(π/</span><span style=\"color: #008080; text-decoration-color: #008080; font-weight: bold\">2</span><span style=\"color: #000080; text-decoration-color: #000080; font-weight: bold\">)─────────┼────</span><span style=\"color: #800080; text-decoration-color: #800080; font-weight: bold\">ZZ</span><span style=\"color: #000080; text-decoration-color: #000080; font-weight: bold\">(alpha)──</span>\n<span style=\"color: #000080; text-decoration-color: #000080; font-weight: bold\">                                   │               │            │               </span>\n<span style=\"color: #000080; text-decoration-color: #000080; font-weight: bold\">q2: ───────────────────────────────●───────────────●───────H────@───────────────</span>\n</pre>\n"
     },
     "metadata": {},
     "execution_count": 11
    }
   ],
   "source": [
    "circuit"
   ]
  },
  {
   "cell_type": "code",
   "execution_count": 13,
   "metadata": {},
   "outputs": [
    {
     "output_type": "execute_result",
     "data": {
      "text/plain": "projectq simulator with 3 qubits.\nCurrent quantum state:\n1¦000⟩"
     },
     "metadata": {},
     "execution_count": 13
    }
   ],
   "source": [
    "sim=Simulator('projectq',3)\n",
    "sim"
   ]
  },
  {
   "cell_type": "code",
   "execution_count": 14,
   "metadata": {},
   "outputs": [
    {
     "output_type": "execute_result",
     "data": {
      "text/plain": "projectq simulator with 3 qubits.\nCurrent quantum state:\n√2/4¦000⟩\n√2/4¦001⟩\n√2/4¦010⟩\n√2/4¦011⟩\n√2/4¦100⟩\n√2/4¦101⟩\n√2/4¦110⟩\n√2/4¦111⟩"
     },
     "metadata": {},
     "execution_count": 14
    }
   ],
   "source": [
    "sim.apply_circuit(qft(range(3)))\n",
    "sim"
   ]
  },
  {
   "cell_type": "code",
   "execution_count": 15,
   "metadata": {},
   "outputs": [
    {
     "output_type": "execute_result",
     "data": {
      "text/plain": "projectq simulator with 3 qubits.\nCurrent quantum state:\n1¦000⟩"
     },
     "metadata": {},
     "execution_count": 15
    }
   ],
   "source": [
    "sim.reset()\n",
    "sim"
   ]
  },
  {
   "cell_type": "code",
   "execution_count": null,
   "metadata": {},
   "outputs": [],
   "source": []
  }
 ]
}