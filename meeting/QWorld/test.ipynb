{
 "metadata": {
  "language_info": {
   "codemirror_mode": {
    "name": "ipython",
    "version": 3
   },
   "file_extension": ".py",
   "mimetype": "text/x-python",
   "name": "python",
   "nbconvert_exporter": "python",
   "pygments_lexer": "ipython3",
   "version": "3.7.5-final"
  },
  "orig_nbformat": 2,
  "kernelspec": {
   "name": "python37564bite961da1e99a74e86a9c548e92f946d08",
   "display_name": "Python 3.7.5 64-bit"
  }
 },
 "nbformat": 4,
 "nbformat_minor": 2,
 "cells": [
  {
   "cell_type": "code",
   "execution_count": 1,
   "metadata": {},
   "outputs": [],
   "source": [
    "import numpy as np                            #导入numpy库并简写为np\n",
    "import mindquantum as mq                      #导入mindquantum库并简写为mq\n",
    "from mindquantum.core import Circuit               #导入Circuit模块，用于搭建量子线路\n",
    "from mindquantum.core import H, RX, RY, RZ    #导入量子门H, RX, RY, RZ"
   ]
  },
  {
   "cell_type": "code",
   "execution_count": 2,
   "metadata": {
    "tags": []
   },
   "outputs": [
    {
     "output_type": "stream",
     "name": "stdout",
     "text": "==================Circuit Summary==================\n|Total number of gates  : 4.                      |\n|Parameter gates        : 3.                      |\n|with 3 parameters are  : alpha0, alpha1, alpha2. |\n|Number qubit of circuit: 1                       |\n===================================================\n"
    },
    {
     "output_type": "display_data",
     "data": {
      "text/plain": "",
      "text/html": "<pre style=\"white-space:pre;overflow-x:auto;line-height:normal;font-family:Menlo,'DejaVu Sans Mono',consolas,'Courier New',monospace\"></pre>\n"
     },
     "metadata": {}
    },
    {
     "output_type": "execute_result",
     "data": {
      "text/plain": "q0: ──H────RX(alpha0)────RY(alpha1)────RZ(alpha2)──",
      "text/html": "<pre style=\"white-space: pre;\"><span style=\"color: #000080; text-decoration-color: #000080; font-weight: bold\">q0: ──H────</span><span style=\"color: #800080; text-decoration-color: #800080; font-weight: bold\">RX</span><span style=\"color: #000080; text-decoration-color: #000080; font-weight: bold\">(alpha0)────</span><span style=\"color: #800080; text-decoration-color: #800080; font-weight: bold\">RY</span><span style=\"color: #000080; text-decoration-color: #000080; font-weight: bold\">(alpha1)────</span><span style=\"color: #800080; text-decoration-color: #800080; font-weight: bold\">RZ</span><span style=\"color: #000080; text-decoration-color: #000080; font-weight: bold\">(alpha2)──</span>\n</pre>\n"
     },
     "metadata": {},
     "execution_count": 2
    }
   ],
   "source": [
    "encoder = Circuit()                   #初始化量子线路\n",
    "encoder += H.on(0)                    #H门作用在第0位量子比特\n",
    "encoder += RX(f'alpha{0}').on(0)      #RX(alpha_0)门作用在第0位量子比特\n",
    "encoder += RY(f'alpha{1}').on(0)      #RY(alpha_1)门作用在第0位量子比特\n",
    "encoder += RZ(f'alpha{2}').on(0)      #RZ(alpha_2)门作用在第0位量子比特\n",
    "encoder = encoder.no_grad()           #Encoder作为整个量子神经网络的第一层，不用对编码线路中的梯度求导数，因此加入no_grad()\n",
    "encoder.summary()                     #总结Encoder\n",
    "encoder"
   ]
  },
  {
   "cell_type": "code",
   "execution_count": 3,
   "metadata": {
    "tags": []
   },
   "outputs": [
    {
     "output_type": "stream",
     "name": "stdout",
     "text": "(0.5669903122552596-0.1753906567580312j)¦0⟩\n(0.800814626197614+0.08034947292077024j)¦1⟩\n"
    }
   ],
   "source": [
    "alpha0, alpha1, alpha2 = 0.2, 0.3, 0.4              #alpha0, alpha1, alpha2为已知的固定值，分别赋值0.2, 0.3 和0.4\n",
    "state = encoder.get_qs(pr={'alpha0': alpha0, 'alpha1': alpha1, 'alpha2': alpha2}, ket=True)\n",
    "print(state)"
   ]
  },
  {
   "cell_type": "code",
   "execution_count": 4,
   "metadata": {},
   "outputs": [
    {
     "output_type": "display_data",
     "data": {
      "text/plain": "",
      "text/html": "<pre style=\"white-space:pre;overflow-x:auto;line-height:normal;font-family:Menlo,'DejaVu Sans Mono',consolas,'Courier New',monospace\"></pre>\n"
     },
     "metadata": {}
    },
    {
     "output_type": "execute_result",
     "data": {
      "text/plain": "q0: ──RX(theta0)────RY(theta1)──",
      "text/html": "<pre style=\"white-space: pre;\"><span style=\"color: #000080; text-decoration-color: #000080; font-weight: bold\">q0: ──</span><span style=\"color: #800080; text-decoration-color: #800080; font-weight: bold\">RX</span><span style=\"color: #000080; text-decoration-color: #000080; font-weight: bold\">(theta0)────</span><span style=\"color: #800080; text-decoration-color: #800080; font-weight: bold\">RY</span><span style=\"color: #000080; text-decoration-color: #000080; font-weight: bold\">(theta1)──</span>\n</pre>\n"
     },
     "metadata": {},
     "execution_count": 4
    }
   ],
   "source": [
    "ansatz = Circuit()                           #初始化量子线路\n",
    "ansatz += RX(f'theta{0}').on(0)              #RX(theta_0)门作用在第0位量子比特\n",
    "ansatz += RY(f'theta{1}').on(0)              #RY(theta_1)门作用在第0位量子比特\n",
    "ansatz    "
   ]
  },
  {
   "cell_type": "code",
   "execution_count": 5,
   "metadata": {
    "tags": []
   },
   "outputs": [
    {
     "output_type": "stream",
     "name": "stdout",
     "text": "1¦0⟩\n"
    }
   ],
   "source": [
    "theta0, theta1 = 0, 0                        #对theta0, theta1进行赋值，设为初始值0, 0\n",
    "state = ansatz.get_qs(pr=dict(zip(ansatz.params_name, [theta0, theta1])), ket=True)\n",
    "print(state)"
   ]
  },
  {
   "cell_type": "code",
   "execution_count": 6,
   "metadata": {},
   "outputs": [
    {
     "output_type": "display_data",
     "data": {
      "text/plain": "",
      "text/html": "<pre style=\"white-space:pre;overflow-x:auto;line-height:normal;font-family:Menlo,'DejaVu Sans Mono',consolas,'Courier New',monospace\"></pre>\n"
     },
     "metadata": {}
    },
    {
     "output_type": "execute_result",
     "data": {
      "text/plain": "q0: ──H────RX(alpha0)────RY(alpha1)────RZ(alpha2)────RX(theta0)────RY(theta1)──",
      "text/html": "<pre style=\"white-space: pre;\"><span style=\"color: #000080; text-decoration-color: #000080; font-weight: bold\">q0: ──H────</span><span style=\"color: #800080; text-decoration-color: #800080; font-weight: bold\">RX</span><span style=\"color: #000080; text-decoration-color: #000080; font-weight: bold\">(alpha0)────</span><span style=\"color: #800080; text-decoration-color: #800080; font-weight: bold\">RY</span><span style=\"color: #000080; text-decoration-color: #000080; font-weight: bold\">(alpha1)────</span><span style=\"color: #800080; text-decoration-color: #800080; font-weight: bold\">RZ</span><span style=\"color: #000080; text-decoration-color: #000080; font-weight: bold\">(alpha2)────</span><span style=\"color: #800080; text-decoration-color: #800080; font-weight: bold\">RX</span><span style=\"color: #000080; text-decoration-color: #000080; font-weight: bold\">(theta0)────</span><span style=\"color: #800080; text-decoration-color: #800080; font-weight: bold\">RY</span><span style=\"color: #000080; text-decoration-color: #000080; font-weight: bold\">(theta1)──</span>\n</pre>\n"
     },
     "metadata": {},
     "execution_count": 6
    }
   ],
   "source": [
    "circuit = encoder + ansatz                   #完整的量子线路由Encoder和Ansatz组成\n",
    "circuit"
   ]
  },
  {
   "cell_type": "code",
   "execution_count": 7,
   "metadata": {
    "tags": []
   },
   "outputs": [
    {
     "output_type": "stream",
     "name": "stdout",
     "text": "-1 [Z0] \n"
    }
   ],
   "source": [
    "from mindquantum.core import QubitOperator           #导入QubitOperator模块，用于构造泡利算符\n",
    "from mindquantum.core import Hamiltonian             #导入Hamiltonian模块，用于构建哈密顿量\n",
    "\n",
    "ham = Hamiltonian(QubitOperator('Z0', -1))           #对第0位量子比特执行泡利Z算符测量，且将系数设置为-1，构建对应的哈密顿量\n",
    "print(ham)"
   ]
  },
  {
   "cell_type": "code",
   "execution_count": 8,
   "metadata": {
    "tags": []
   },
   "outputs": [
    {
     "output_type": "stream",
     "name": "stdout",
     "text": "encoder_names =  ['alpha0', 'alpha1', 'alpha2'] \nansatz_names = ['theta0', 'theta1']\n"
    }
   ],
   "source": [
    "encoder_names = encoder.params_name                   # Encoder中所有参数组成的数组，encoder.para_name系统会自动生成\n",
    "ansatz_names = ansatz.params_name                     # Ansatz中所有参数组成的数组，ansatz.para_name系统会自动生成\n",
    "\n",
    "print('encoder_names = ', encoder.params_name, '\\nansatz_names =', ansatz.params_name)"
   ]
  },
  {
   "cell_type": "code",
   "execution_count": 9,
   "metadata": {
    "tags": []
   },
   "outputs": [
    {
     "output_type": "stream",
     "name": "stdout",
     "text": "Measurement result:  [[0.29552022+0.j]]\nGradient of encoder parameters:  [[[0.+0.j 0.+0.j 0.+0.j]]]\nGradient of ansatz parameters:  [[[-0.37202556+0.j  0.87992317+0.j]]]\n"
    }
   ],
   "source": [
    "# 导入Simulator模块\n",
    "from mindquantum.simulator import Simulator\n",
    "\n",
    "# 生成一个基于projectq后端的模拟器，并设置模拟器的比特数为量子线路的比特数。\n",
    "sim = Simulator('projectq', circuit.n_qubits)\n",
    "\n",
    "# 获取模拟器基于当前量子态的量子线路演化以及期望、梯度求解算子\n",
    "grad_ops = sim.get_expectation_with_grad(ham, #目标负的puli z\n",
    "                                         circuit, #电路\n",
    "                                         encoder_params_name=encoder_names,\n",
    "                                         #告诉ops，这是经典数据\n",
    "                                         ansatz_params_name=ansatz_names) #待训练的\n",
    "\n",
    "# Encoder中的alpha0, alpha1, alpha2这三个参数组成的数组，\n",
    "# 将其数据类型转换为float32，并储存在encoder_data中。\n",
    "# MindQuantum支持多样本的batch训练，Encoder数组是两个维度，\n",
    "# 第一个维度为样本，第二个维度为特征（即参数）\n",
    "encoder_data = np.array([[alpha0, alpha1, alpha2]]).astype(np.float32)\n",
    "\n",
    "# Ansatz中的theta0, theta1这两个参数组成的数组，将其数据类型转换为float32，\n",
    "# 并储存在ansatzr_data中，Ansatz数据只有一个维度，特征（即参数）\n",
    "ansatz_data = np.array([theta0, theta1]).astype(np.float32)\n",
    "\n",
    "# 根据Encoder和Ansatz的数据，输出参数化量子线路的测量值，Encoder中的参数的导数和Ansatz中的参数的导数\n",
    "measure_result, encoder_grad, ansatz_grad = grad_ops(encoder_data, ansatz_data)\n",
    "\n",
    "print('Measurement result: ', measure_result)\n",
    "print('Gradient of encoder parameters: ', encoder_grad)\n",
    "print('Gradient of ansatz parameters: ', ansatz_grad)"
   ]
  },
  {
   "cell_type": "code",
   "execution_count": 10,
   "metadata": {},
   "outputs": [
    {
     "output_type": "execute_result",
     "data": {
      "text/plain": "MQLayer<\n  (evolution): MQOps<1 qubit projectq VQA Operator>\n  >"
     },
     "metadata": {},
     "execution_count": 10
    }
   ],
   "source": [
    "from mindquantum.framework import MQLayer          # 导入MQLayer\n",
    "import mindspore as ms                             # 导入mindspore\n",
    "\n",
    "ms.set_seed(1)                                     #设置生成随机数的种子\n",
    "ms.context.set_context(mode=ms.context.PYNATIVE_MODE, device_target=\"CPU\")\n",
    "\n",
    "QuantumNet = MQLayer(grad_ops)\n",
    "QuantumNet"
   ]
  },
  {
   "cell_type": "code",
   "execution_count": 11,
   "metadata": {
    "tags": []
   },
   "outputs": [
    {
     "output_type": "stream",
     "name": "stderr",
     "text": "[WARNING] DEBUG(3391,7f307ec4d740,python):2021-10-30-13:17:08.671.945 [mindspore/ccsrc/debug/debugger/debugger.cc:88] Debugger] Not enabling debugger. Debugger does not support CPU.\n0 :  [[0.2837115]]\n10 :  [[-0.8851233]]\n20 :  [[-0.97001773]]\n30 :  [[-0.9929431]]\n40 :  [[-0.9939507]]\n50 :  [[-0.9967015]]\n60 :  [[-0.99878186]]\n70 :  [[-0.9995535]]\n80 :  [[-0.9999011]]\n90 :  [[-0.99998033]]\n100 :  [[-0.9999989]]\n110 :  [[-0.99999785]]\n120 :  [[-0.999997]]\n130 :  [[-0.9999987]]\n140 :  [[-0.9999998]]\n150 :  [[-1.]]\n160 :  [[-0.99999994]]\n170 :  [[-1.]]\n180 :  [[-1.]]\n190 :  [[-1.]]\n"
    }
   ],
   "source": [
    "from mindspore import nn                                          #导入nn模块，nn即经典神经网络\n",
    "from mindspore.nn import Adam, TrainOneStepCell                   #导入Adam模块和TrainOneStepCell模块\n",
    "\n",
    "opti = Adam(QuantumNet.trainable_params(), learning_rate=0.5)     #需要优化的是Quantumnet中可训练的参数，学习率设为0.5   \n",
    "net = TrainOneStepCell(QuantumNet, opti)\n",
    "\n",
    "for i in range(200):\n",
    "    res = net(ms.Tensor(encoder_data))\n",
    "    if i % 10 == 0:\n",
    "        print(i, ': ', res)"
   ]
  },
  {
   "cell_type": "code",
   "execution_count": 12,
   "metadata": {
    "tags": []
   },
   "outputs": [
    {
     "output_type": "stream",
     "name": "stdout",
     "text": "[ 2.2420275 -1.0756909]\n"
    }
   ],
   "source": [
    "theta0, theta1 = QuantumNet.weight.asnumpy()\n",
    "\n",
    "print(QuantumNet.weight.asnumpy())"
   ]
  },
  {
   "cell_type": "code",
   "execution_count": 13,
   "metadata": {
    "tags": []
   },
   "outputs": [
    {
     "output_type": "stream",
     "name": "stdout",
     "text": "(0.37129760050057437-0.9285139157007681j)¦0⟩\n(1.4564552975271372e-05+6.455516706194153e-07j)¦1⟩\n"
    }
   ],
   "source": [
    "pr = {'alpha0': alpha0, 'alpha1': alpha1, 'alpha2': alpha2, 'theta0': theta0, 'theta1': theta1}\n",
    "state = circuit.get_qs(pr=pr, ket=True)\n",
    "\n",
    "print(state)"
   ]
  },
  {
   "cell_type": "code",
   "execution_count": 14,
   "metadata": {
    "tags": []
   },
   "outputs": [
    {
     "output_type": "stream",
     "name": "stdout",
     "text": "0.9999999997874573\n"
    }
   ],
   "source": [
    "state = circuit.get_qs(pr=pr)\n",
    "fid = np.abs(np.vdot(state, [1, 0]))**2            #保真度fidelity为向量内积的绝对值的模平方，即计算此时量子态对应的向量与|0>态对应的向量[1,0]的内积的模平方\n",
    "\n",
    "print(fid)"
   ]
  },
  {
   "cell_type": "code",
   "execution_count": null,
   "metadata": {},
   "outputs": [],
   "source": []
  }
 ]
}