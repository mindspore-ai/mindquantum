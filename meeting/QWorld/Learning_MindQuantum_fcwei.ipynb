{
 "metadata": {
  "language_info": {
   "codemirror_mode": {
    "name": "ipython",
    "version": 3
   },
   "file_extension": ".py",
   "mimetype": "text/x-python",
   "name": "python",
   "nbconvert_exporter": "python",
   "pygments_lexer": "ipython3",
   "version": "3.7.5-final"
  },
  "orig_nbformat": 2,
  "kernelspec": {
   "name": "python37564bit5de047f661ce4714bc414172b4e75bdc",
   "display_name": "Python 3.7.5 64-bit"
  }
 },
 "nbformat": 4,
 "nbformat_minor": 2,
 "cells": [
  {
   "cell_type": "code",
   "execution_count": 1,
   "metadata": {},
   "outputs": [],
   "source": [
    "from mindquantum import *"
   ]
  },
  {
   "cell_type": "code",
   "execution_count": 2,
   "metadata": {},
   "outputs": [
    {
     "output_type": "execute_result",
     "data": {
      "text/plain": "H"
     },
     "metadata": {},
     "execution_count": 2
    }
   ],
   "source": [
    "H"
   ]
  },
  {
   "cell_type": "code",
   "execution_count": 3,
   "metadata": {},
   "outputs": [
    {
     "output_type": "execute_result",
     "data": {
      "text/plain": "H(0)"
     },
     "metadata": {},
     "execution_count": 3
    }
   ],
   "source": [
    "H(0)"
   ]
  },
  {
   "cell_type": "code",
   "execution_count": 4,
   "metadata": {},
   "outputs": [
    {
     "output_type": "execute_result",
     "data": {
      "text/plain": "H(0 <-: 1)"
     },
     "metadata": {},
     "execution_count": 4
    }
   ],
   "source": [
    "H(0, 1)"
   ]
  },
  {
   "cell_type": "code",
   "execution_count": 5,
   "metadata": {},
   "outputs": [
    {
     "output_type": "execute_result",
     "data": {
      "text/plain": "array([[ 0.70710678,  0.70710678],\n       [ 0.70710678, -0.70710678]])"
     },
     "metadata": {},
     "execution_count": 5
    }
   ],
   "source": [
    "H.matrix()"
   ]
  },
  {
   "cell_type": "code",
   "execution_count": 7,
   "metadata": {},
   "outputs": [
    {
     "output_type": "execute_result",
     "data": {
      "text/plain": "array([[6.123234e-17+0.j, 0.000000e+00-1.j],\n       [0.000000e+00-1.j, 6.123234e-17+0.j]])"
     },
     "metadata": {},
     "execution_count": 7
    }
   ],
   "source": [
    "import numpy as np\n",
    "RX(np.pi).matrix()"
   ]
  },
  {
   "cell_type": "code",
   "execution_count": 8,
   "metadata": {},
   "outputs": [
    {
     "output_type": "execute_result",
     "data": {
      "text/plain": "RX(theta)"
     },
     "metadata": {},
     "execution_count": 8
    }
   ],
   "source": [
    "RX('theta')"
   ]
  },
  {
   "cell_type": "code",
   "execution_count": 10,
   "metadata": {},
   "outputs": [
    {
     "output_type": "execute_result",
     "data": {
      "text/plain": "array([[6.123234e-17+0.j, 0.000000e+00-1.j],\n       [0.000000e+00-1.j, 6.123234e-17+0.j]])"
     },
     "metadata": {},
     "execution_count": 10
    }
   ],
   "source": [
    "RX('theta').matrix({'theta':np.pi})"
   ]
  },
  {
   "cell_type": "code",
   "execution_count": 12,
   "metadata": {},
   "outputs": [
    {
     "output_type": "display_data",
     "data": {
      "text/plain": "",
      "text/html": "<pre style=\"white-space:pre;overflow-x:auto;line-height:normal;font-family:Menlo,'DejaVu Sans Mono',consolas,'Courier New',monospace\"></pre>\n"
     },
     "metadata": {}
    },
    {
     "output_type": "execute_result",
     "data": {
      "text/plain": "",
      "text/html": "<pre style=\"white-space: pre;\"></pre>\n"
     },
     "metadata": {},
     "execution_count": 12
    }
   ],
   "source": [
    "Circuit()"
   ]
  },
  {
   "cell_type": "code",
   "execution_count": 13,
   "metadata": {},
   "outputs": [
    {
     "output_type": "display_data",
     "data": {
      "text/plain": "",
      "text/html": "<pre style=\"white-space:pre;overflow-x:auto;line-height:normal;font-family:Menlo,'DejaVu Sans Mono',consolas,'Courier New',monospace\"></pre>\n"
     },
     "metadata": {}
    },
    {
     "output_type": "execute_result",
     "data": {
      "text/plain": "q0: ──H──",
      "text/html": "<pre style=\"white-space: pre;\"><span style=\"color: #000080; text-decoration-color: #000080; font-weight: bold\">q0: ──H──</span>\n</pre>\n"
     },
     "metadata": {},
     "execution_count": 13
    }
   ],
   "source": [
    "Circuit([H.on(0)])"
   ]
  },
  {
   "cell_type": "code",
   "execution_count": 15,
   "metadata": {},
   "outputs": [
    {
     "output_type": "display_data",
     "data": {
      "text/plain": "",
      "text/html": "<pre style=\"white-space:pre;overflow-x:auto;line-height:normal;font-family:Menlo,'DejaVu Sans Mono',consolas,'Courier New',monospace\"></pre>\n"
     },
     "metadata": {}
    },
    {
     "output_type": "execute_result",
     "data": {
      "text/plain": "q0: ──H────●──\n           │\nq1: ───────X──",
      "text/html": "<pre style=\"white-space: pre;\"><span style=\"color: #000080; text-decoration-color: #000080; font-weight: bold\">q0: ──H────●──</span>\n<span style=\"color: #000080; text-decoration-color: #000080; font-weight: bold\">           │</span>\n<span style=\"color: #000080; text-decoration-color: #000080; font-weight: bold\">q1: ───────X──</span>\n</pre>\n"
     },
     "metadata": {},
     "execution_count": 15
    }
   ],
   "source": [
    "Circuit([H.on(0), X.on(1, 0)])"
   ]
  },
  {
   "cell_type": "code",
   "execution_count": 16,
   "metadata": {},
   "outputs": [
    {
     "output_type": "display_data",
     "data": {
      "text/plain": "",
      "text/html": "<pre style=\"white-space:pre;overflow-x:auto;line-height:normal;font-family:Menlo,'DejaVu Sans Mono',consolas,'Courier New',monospace\"></pre>\n"
     },
     "metadata": {}
    },
    {
     "output_type": "execute_result",
     "data": {
      "text/plain": "q0: ──H────●──\n           │\nq1: ───────X──",
      "text/html": "<pre style=\"white-space: pre;\"><span style=\"color: #000080; text-decoration-color: #000080; font-weight: bold\">q0: ──H────●──</span>\n<span style=\"color: #000080; text-decoration-color: #000080; font-weight: bold\">           │</span>\n<span style=\"color: #000080; text-decoration-color: #000080; font-weight: bold\">q1: ───────X──</span>\n</pre>\n"
     },
     "metadata": {},
     "execution_count": 16
    }
   ],
   "source": [
    "circuit = Circuit([H.on(0), X.on(1, 0)])\n",
    "circuit"
   ]
  },
  {
   "cell_type": "code",
   "execution_count": 19,
   "metadata": {},
   "outputs": [
    {
     "output_type": "display_data",
     "data": {
      "text/plain": "",
      "text/html": "<pre style=\"white-space:pre;overflow-x:auto;line-height:normal;font-family:Menlo,'DejaVu Sans Mono',consolas,'Courier New',monospace\"></pre>\n"
     },
     "metadata": {}
    },
    {
     "output_type": "execute_result",
     "data": {
      "text/plain": "q0: ──H────●────H────PS(π/2)─────────@────H────PS(π/2)─────────@────H────PS(π/2)─────────@──\n           │            │            │            │            │            │            │\nq1: ───────X────────────●───────H────@────────────●───────H────@────────────●───────H────@──",
      "text/html": "<pre style=\"white-space: pre;\"><span style=\"color: #000080; text-decoration-color: #000080; font-weight: bold\">q0: ──H────●────H────</span><span style=\"color: #800080; text-decoration-color: #800080; font-weight: bold\">PS</span><span style=\"color: #000080; text-decoration-color: #000080; font-weight: bold\">(π/</span><span style=\"color: #008080; text-decoration-color: #008080; font-weight: bold\">2</span><span style=\"color: #000080; text-decoration-color: #000080; font-weight: bold\">)─────────@────H────</span><span style=\"color: #800080; text-decoration-color: #800080; font-weight: bold\">PS</span><span style=\"color: #000080; text-decoration-color: #000080; font-weight: bold\">(π/</span><span style=\"color: #008080; text-decoration-color: #008080; font-weight: bold\">2</span><span style=\"color: #000080; text-decoration-color: #000080; font-weight: bold\">)─────────@────H────</span><span style=\"color: #800080; text-decoration-color: #800080; font-weight: bold\">PS</span><span style=\"color: #000080; text-decoration-color: #000080; font-weight: bold\">(π/</span><span style=\"color: #008080; text-decoration-color: #008080; font-weight: bold\">2</span><span style=\"color: #000080; text-decoration-color: #000080; font-weight: bold\">)─────────@──</span>\n<span style=\"color: #000080; text-decoration-color: #000080; font-weight: bold\">           │            │            │            │            │            │            │</span>\n<span style=\"color: #000080; text-decoration-color: #000080; font-weight: bold\">q1: ───────X────────────●───────H────@────────────●───────H────@────────────●───────H────@──</span>\n</pre>\n"
     },
     "metadata": {},
     "execution_count": 19
    }
   ],
   "source": [
    "circuit += qft((range(2)))\n",
    "circuit"
   ]
  },
  {
   "cell_type": "code",
   "execution_count": 20,
   "metadata": {},
   "outputs": [
    {
     "output_type": "execute_result",
     "data": {
      "text/plain": "array([0.70710678+0.j        , 0.        +0.j        ,\n       0.35355339+0.35355339j, 0.35355339-0.35355339j])"
     },
     "metadata": {},
     "execution_count": 20
    }
   ],
   "source": [
    "circuit.get_qs()"
   ]
  },
  {
   "cell_type": "code",
   "execution_count": 22,
   "metadata": {
    "tags": []
   },
   "outputs": [
    {
     "output_type": "stream",
     "name": "stdout",
     "text": "√2/2¦00⟩\n(√2/4+√2/4j)¦10⟩\n(√2/4-√2/4j)¦11⟩\n"
    }
   ],
   "source": [
    "print(circuit.get_qs(ket=True))"
   ]
  },
  {
   "cell_type": "code",
   "execution_count": 23,
   "metadata": {},
   "outputs": [
    {
     "output_type": "execute_result",
     "data": {
      "text/plain": "projectq simulator with 3 qubits.\nCurrent quantum state:\n1¦000⟩"
     },
     "metadata": {},
     "execution_count": 23
    }
   ],
   "source": [
    "sim = Simulator('projectq', 3)\n",
    "sim"
   ]
  },
  {
   "cell_type": "code",
   "execution_count": 26,
   "metadata": {},
   "outputs": [
    {
     "output_type": "execute_result",
     "data": {
      "text/plain": "projectq simulator with 3 qubits.\nCurrent quantum state:\n√2/4¦000⟩\n√2/4¦001⟩\n√2/4¦010⟩\n√2/4¦011⟩\n√2/4¦100⟩\n√2/4¦101⟩\n√2/4¦110⟩\n√2/4¦111⟩"
     },
     "metadata": {},
     "execution_count": 26
    }
   ],
   "source": [
    "sim.apply_circuit(qft(range(3)))\n",
    "sim"
   ]
  },
  {
   "cell_type": "code",
   "execution_count": 28,
   "metadata": {},
   "outputs": [
    {
     "output_type": "execute_result",
     "data": {
      "text/plain": "projectq simulator with 3 qubits.\nCurrent quantum state:\n1¦000⟩"
     },
     "metadata": {},
     "execution_count": 28
    }
   ],
   "source": [
    "sim.reset()\n",
    "sim"
   ]
  },
  {
   "cell_type": "code",
   "execution_count": 33,
   "metadata": {},
   "outputs": [],
   "source": [
    "sim.set_qs(Circuit([H.on(0), H.on(1), H.on(2)]).get_qs()*1j)"
   ]
  },
  {
   "cell_type": "code",
   "execution_count": 34,
   "metadata": {},
   "outputs": [
    {
     "output_type": "execute_result",
     "data": {
      "text/plain": "projectq simulator with 3 qubits.\nCurrent quantum state:\n√2/4j¦000⟩\n√2/4j¦001⟩\n√2/4j¦010⟩\n√2/4j¦011⟩\n√2/4j¦100⟩\n√2/4j¦101⟩\n√2/4j¦110⟩\n√2/4j¦111⟩"
     },
     "metadata": {},
     "execution_count": 34
    }
   ],
   "source": [
    "sim"
   ]
  },
  {
   "cell_type": "code",
   "execution_count": null,
   "metadata": {},
   "outputs": [],
   "source": []
  }
 ]
}