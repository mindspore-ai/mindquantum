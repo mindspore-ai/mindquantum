{
 "metadata": {
  "language_info": {
   "codemirror_mode": {
    "name": "ipython",
    "version": 3
   },
   "file_extension": ".py",
   "mimetype": "text/x-python",
   "name": "python",
   "nbconvert_exporter": "python",
   "pygments_lexer": "ipython3",
   "version": "3.7.5-final"
  },
  "orig_nbformat": 2,
  "kernelspec": {
   "name": "python37564bit6856accaa57143ef8a05dde820da68a7",
   "display_name": "Python 3.7.5 64-bit"
  }
 },
 "nbformat": 4,
 "nbformat_minor": 2,
 "cells": [
  {
   "source": [
    "# 利用MindQuantum解决组合优化问题"
   ],
   "cell_type": "markdown",
   "metadata": {}
  },
  {
   "cell_type": "code",
   "execution_count": 7,
   "metadata": {
    "tags": []
   },
   "outputs": [
    {
     "output_type": "stream",
     "name": "stdout",
     "text": "Defaulting to user installation because normal site-packages is not writeable\nLooking in indexes: https://repo.huaweicloud.com/repository/pypi/simple\nLooking in links: https://obs-workspace-20180810.obs.cn-north-1.myhuaweicloud.com/pypi/index.html\nRequirement already satisfied: networkx in /usr/local/lib/python3.7/dist-packages (2.6.2)\n\u001b[33mWARNING: You are using pip version 21.2.4; however, version 21.3.1 is available.\nYou should consider upgrading via the '/usr/bin/python3 -m pip install --upgrade pip' command.\u001b[0m\n"
    }
   ],
   "source": [
    "!pip install networkx"
   ]
  },
  {
   "cell_type": "code",
   "execution_count": 1,
   "metadata": {},
   "outputs": [],
   "source": [
    "import networkx as nx"
   ]
  },
  {
   "cell_type": "code",
   "execution_count": 2,
   "metadata": {},
   "outputs": [
    {
     "output_type": "display_data",
     "data": {
      "text/plain": "<Figure size 432x288 with 1 Axes>",
      "image/svg+xml": "<?xml version=\"1.0\" encoding=\"utf-8\" standalone=\"no\"?>\n<!DOCTYPE svg PUBLIC \"-//W3C//DTD SVG 1.1//EN\"\n  \"http://www.w3.org/Graphics/SVG/1.1/DTD/svg11.dtd\">\n<svg height=\"302.4pt\" version=\"1.1\" viewBox=\"0 0 446.4 302.4\" width=\"446.4pt\" xmlns=\"http://www.w3.org/2000/svg\" xmlns:xlink=\"http://www.w3.org/1999/xlink\">\n <metadata>\n  <rdf:RDF xmlns:cc=\"http://creativecommons.org/ns#\" xmlns:dc=\"http://purl.org/dc/elements/1.1/\" xmlns:rdf=\"http://www.w3.org/1999/02/22-rdf-syntax-ns#\">\n   <cc:Work>\n    <dc:type rdf:resource=\"http://purl.org/dc/dcmitype/StillImage\"/>\n    <dc:date>2021-10-30T12:26:45.674227</dc:date>\n    <dc:format>image/svg+xml</dc:format>\n    <dc:creator>\n     <cc:Agent>\n      <dc:title>Matplotlib v3.4.3, https://matplotlib.org/</dc:title>\n     </cc:Agent>\n    </dc:creator>\n   </cc:Work>\n  </rdf:RDF>\n </metadata>\n <defs>\n  <style type=\"text/css\">*{stroke-linecap:butt;stroke-linejoin:round;}</style>\n </defs>\n <g id=\"figure_1\">\n  <g id=\"patch_1\">\n   <path d=\"M 0 302.4 \nL 446.4 302.4 \nL 446.4 0 \nL 0 0 \nz\n\" style=\"fill:#ffffff;\"/>\n  </g>\n  <g id=\"axes_1\">\n   <g id=\"LineCollection_1\">\n    <path clip-path=\"url(#p8a763cfee4)\" d=\"M 181.388087 111.400792 \nL 124.50996 208.637172 \n\" style=\"fill:none;stroke:#000000;\"/>\n    <path clip-path=\"url(#p8a763cfee4)\" d=\"M 181.388087 111.400792 \nL 44.687603 127.174916 \n\" style=\"fill:none;stroke:#000000;\"/>\n    <path clip-path=\"url(#p8a763cfee4)\" d=\"M 181.388087 111.400792 \nL 351.890549 81.391649 \n\" style=\"fill:none;stroke:#000000;\"/>\n    <path clip-path=\"url(#p8a763cfee4)\" d=\"M 181.388087 111.400792 \nL 281.327668 148.671174 \n\" style=\"fill:none;stroke:#000000;\"/>\n    <path clip-path=\"url(#p8a763cfee4)\" d=\"M 181.388087 111.400792 \nL 237.866992 188.12012 \n\" style=\"fill:none;stroke:#000000;\"/>\n    <path clip-path=\"url(#p8a763cfee4)\" d=\"M 124.50996 208.637172 \nL 44.687603 127.174916 \n\" style=\"fill:none;stroke:#000000;\"/>\n    <path clip-path=\"url(#p8a763cfee4)\" d=\"M 124.50996 208.637172 \nL 267.344452 270.208264 \n\" style=\"fill:none;stroke:#000000;\"/>\n    <path clip-path=\"url(#p8a763cfee4)\" d=\"M 124.50996 208.637172 \nL 237.866992 188.12012 \n\" style=\"fill:none;stroke:#000000;\"/>\n    <path clip-path=\"url(#p8a763cfee4)\" d=\"M 124.50996 208.637172 \nL 281.327668 148.671174 \n\" style=\"fill:none;stroke:#000000;\"/>\n    <path clip-path=\"url(#p8a763cfee4)\" d=\"M 351.890549 81.391649 \nL 237.866992 188.12012 \n\" style=\"fill:none;stroke:#000000;\"/>\n    <path clip-path=\"url(#p8a763cfee4)\" d=\"M 351.890549 81.391649 \nL 281.327668 148.671174 \n\" style=\"fill:none;stroke:#000000;\"/>\n    <path clip-path=\"url(#p8a763cfee4)\" d=\"M 237.866992 188.12012 \nL 281.327668 148.671174 \n\" style=\"fill:none;stroke:#000000;\"/>\n    <path clip-path=\"url(#p8a763cfee4)\" d=\"M 237.866992 188.12012 \nL 44.687603 127.174916 \n\" style=\"fill:none;stroke:#000000;\"/>\n    <path clip-path=\"url(#p8a763cfee4)\" d=\"M 237.866992 188.12012 \nL 267.344452 270.208264 \n\" style=\"fill:none;stroke:#000000;\"/>\n    <path clip-path=\"url(#p8a763cfee4)\" d=\"M 237.866992 188.12012 \nL 401.712397 242.68108 \n\" style=\"fill:none;stroke:#000000;\"/>\n    <path clip-path=\"url(#p8a763cfee4)\" d=\"M 281.327668 148.671174 \nL 110.147097 32.191736 \n\" style=\"fill:none;stroke:#000000;\"/>\n    <path clip-path=\"url(#p8a763cfee4)\" d=\"M 281.327668 148.671174 \nL 401.712397 242.68108 \n\" style=\"fill:none;stroke:#000000;\"/>\n    <path clip-path=\"url(#p8a763cfee4)\" d=\"M 281.327668 148.671174 \nL 267.344452 270.208264 \n\" style=\"fill:none;stroke:#000000;\"/>\n    <path clip-path=\"url(#p8a763cfee4)\" d=\"M 401.712397 242.68108 \nL 267.344452 270.208264 \n\" style=\"fill:none;stroke:#000000;\"/>\n    <path clip-path=\"url(#p8a763cfee4)\" d=\"M 110.147097 32.191736 \nL 44.687603 127.174916 \n\" style=\"fill:none;stroke:#000000;\"/>\n   </g>\n   <g id=\"PathCollection_1\">\n    <defs>\n     <path d=\"M 0 8.660254 \nC 2.296726 8.660254 4.499694 7.747755 6.123724 6.123724 \nC 7.747755 4.499694 8.660254 2.296726 8.660254 0 \nC 8.660254 -2.296726 7.747755 -4.499694 6.123724 -6.123724 \nC 4.499694 -7.747755 2.296726 -8.660254 0 -8.660254 \nC -2.296726 -8.660254 -4.499694 -7.747755 -6.123724 -6.123724 \nC -7.747755 -4.499694 -8.660254 -2.296726 -8.660254 0 \nC -8.660254 2.296726 -7.747755 4.499694 -6.123724 6.123724 \nC -4.499694 7.747755 -2.296726 8.660254 0 8.660254 \nz\n\" id=\"m0e1e1e2f84\" style=\"stroke:#1f78b4;\"/>\n    </defs>\n    <g clip-path=\"url(#p8a763cfee4)\">\n     <use style=\"fill:#1f78b4;stroke:#1f78b4;\" x=\"181.388087\" xlink:href=\"#m0e1e1e2f84\" y=\"111.400792\"/>\n     <use style=\"fill:#1f78b4;stroke:#1f78b4;\" x=\"124.50996\" xlink:href=\"#m0e1e1e2f84\" y=\"208.637172\"/>\n     <use style=\"fill:#1f78b4;stroke:#1f78b4;\" x=\"351.890549\" xlink:href=\"#m0e1e1e2f84\" y=\"81.391649\"/>\n     <use style=\"fill:#1f78b4;stroke:#1f78b4;\" x=\"237.866992\" xlink:href=\"#m0e1e1e2f84\" y=\"188.12012\"/>\n     <use style=\"fill:#1f78b4;stroke:#1f78b4;\" x=\"281.327668\" xlink:href=\"#m0e1e1e2f84\" y=\"148.671174\"/>\n     <use style=\"fill:#1f78b4;stroke:#1f78b4;\" x=\"401.712397\" xlink:href=\"#m0e1e1e2f84\" y=\"242.68108\"/>\n     <use style=\"fill:#1f78b4;stroke:#1f78b4;\" x=\"267.344452\" xlink:href=\"#m0e1e1e2f84\" y=\"270.208264\"/>\n     <use style=\"fill:#1f78b4;stroke:#1f78b4;\" x=\"110.147097\" xlink:href=\"#m0e1e1e2f84\" y=\"32.191736\"/>\n     <use style=\"fill:#1f78b4;stroke:#1f78b4;\" x=\"44.687603\" xlink:href=\"#m0e1e1e2f84\" y=\"127.174916\"/>\n    </g>\n   </g>\n   <g id=\"text_1\">\n    <g clip-path=\"url(#p8a763cfee4)\">\n     <!-- 0 -->\n     <g transform=\"translate(177.2134 114.712042)scale(0.12 -0.12)\">\n      <defs>\n       <path d=\"M 2944 2338 \nQ 2944 3213 2780 3570 \nQ 2616 3928 2228 3928 \nQ 1841 3928 1675 3570 \nQ 1509 3213 1509 2338 \nQ 1509 1453 1675 1090 \nQ 1841 728 2228 728 \nQ 2613 728 2778 1090 \nQ 2944 1453 2944 2338 \nz\nM 4147 2328 \nQ 4147 1169 3647 539 \nQ 3147 -91 2228 -91 \nQ 1306 -91 806 539 \nQ 306 1169 306 2328 \nQ 306 3491 806 4120 \nQ 1306 4750 2228 4750 \nQ 3147 4750 3647 4120 \nQ 4147 3491 4147 2328 \nz\n\" id=\"DejaVuSans-Bold-30\" transform=\"scale(0.015625)\"/>\n      </defs>\n      <use xlink:href=\"#DejaVuSans-Bold-30\"/>\n     </g>\n    </g>\n   </g>\n   <g id=\"text_2\">\n    <g clip-path=\"url(#p8a763cfee4)\">\n     <!-- 1 -->\n     <g transform=\"translate(120.335272 211.948422)scale(0.12 -0.12)\">\n      <defs>\n       <path d=\"M 750 831 \nL 1813 831 \nL 1813 3847 \nL 722 3622 \nL 722 4441 \nL 1806 4666 \nL 2950 4666 \nL 2950 831 \nL 4013 831 \nL 4013 0 \nL 750 0 \nL 750 831 \nz\n\" id=\"DejaVuSans-Bold-31\" transform=\"scale(0.015625)\"/>\n      </defs>\n      <use xlink:href=\"#DejaVuSans-Bold-31\"/>\n     </g>\n    </g>\n   </g>\n   <g id=\"text_3\">\n    <g clip-path=\"url(#p8a763cfee4)\">\n     <!-- 2 -->\n     <g transform=\"translate(347.715861 84.702899)scale(0.12 -0.12)\">\n      <defs>\n       <path d=\"M 1844 884 \nL 3897 884 \nL 3897 0 \nL 506 0 \nL 506 884 \nL 2209 2388 \nQ 2438 2594 2547 2791 \nQ 2656 2988 2656 3200 \nQ 2656 3528 2436 3728 \nQ 2216 3928 1850 3928 \nQ 1569 3928 1234 3808 \nQ 900 3688 519 3450 \nL 519 4475 \nQ 925 4609 1322 4679 \nQ 1719 4750 2100 4750 \nQ 2938 4750 3402 4381 \nQ 3866 4013 3866 3353 \nQ 3866 2972 3669 2642 \nQ 3472 2313 2841 1759 \nL 1844 884 \nz\n\" id=\"DejaVuSans-Bold-32\" transform=\"scale(0.015625)\"/>\n      </defs>\n      <use xlink:href=\"#DejaVuSans-Bold-32\"/>\n     </g>\n    </g>\n   </g>\n   <g id=\"text_4\">\n    <g clip-path=\"url(#p8a763cfee4)\">\n     <!-- 3 -->\n     <g transform=\"translate(233.692305 191.43137)scale(0.12 -0.12)\">\n      <defs>\n       <path d=\"M 2981 2516 \nQ 3453 2394 3698 2092 \nQ 3944 1791 3944 1325 \nQ 3944 631 3412 270 \nQ 2881 -91 1863 -91 \nQ 1503 -91 1142 -33 \nQ 781 25 428 141 \nL 428 1069 \nQ 766 900 1098 814 \nQ 1431 728 1753 728 \nQ 2231 728 2486 893 \nQ 2741 1059 2741 1369 \nQ 2741 1688 2480 1852 \nQ 2219 2016 1709 2016 \nL 1228 2016 \nL 1228 2791 \nL 1734 2791 \nQ 2188 2791 2409 2933 \nQ 2631 3075 2631 3366 \nQ 2631 3634 2415 3781 \nQ 2200 3928 1806 3928 \nQ 1516 3928 1219 3862 \nQ 922 3797 628 3669 \nL 628 4550 \nQ 984 4650 1334 4700 \nQ 1684 4750 2022 4750 \nQ 2931 4750 3382 4451 \nQ 3834 4153 3834 3553 \nQ 3834 3144 3618 2883 \nQ 3403 2622 2981 2516 \nz\n\" id=\"DejaVuSans-Bold-33\" transform=\"scale(0.015625)\"/>\n      </defs>\n      <use xlink:href=\"#DejaVuSans-Bold-33\"/>\n     </g>\n    </g>\n   </g>\n   <g id=\"text_5\">\n    <g clip-path=\"url(#p8a763cfee4)\">\n     <!-- 4 -->\n     <g transform=\"translate(277.152981 151.982424)scale(0.12 -0.12)\">\n      <defs>\n       <path d=\"M 2356 3675 \nL 1038 1722 \nL 2356 1722 \nL 2356 3675 \nz\nM 2156 4666 \nL 3494 4666 \nL 3494 1722 \nL 4159 1722 \nL 4159 850 \nL 3494 850 \nL 3494 0 \nL 2356 0 \nL 2356 850 \nL 288 850 \nL 288 1881 \nL 2156 4666 \nz\n\" id=\"DejaVuSans-Bold-34\" transform=\"scale(0.015625)\"/>\n      </defs>\n      <use xlink:href=\"#DejaVuSans-Bold-34\"/>\n     </g>\n    </g>\n   </g>\n   <g id=\"text_6\">\n    <g clip-path=\"url(#p8a763cfee4)\">\n     <!-- 5 -->\n     <g transform=\"translate(397.537709 245.99233)scale(0.12 -0.12)\">\n      <defs>\n       <path d=\"M 678 4666 \nL 3669 4666 \nL 3669 3781 \nL 1638 3781 \nL 1638 3059 \nQ 1775 3097 1914 3117 \nQ 2053 3138 2203 3138 \nQ 3056 3138 3531 2711 \nQ 4006 2284 4006 1522 \nQ 4006 766 3489 337 \nQ 2972 -91 2053 -91 \nQ 1656 -91 1267 -14 \nQ 878 63 494 219 \nL 494 1166 \nQ 875 947 1217 837 \nQ 1559 728 1863 728 \nQ 2300 728 2551 942 \nQ 2803 1156 2803 1522 \nQ 2803 1891 2551 2103 \nQ 2300 2316 1863 2316 \nQ 1603 2316 1309 2248 \nQ 1016 2181 678 2041 \nL 678 4666 \nz\n\" id=\"DejaVuSans-Bold-35\" transform=\"scale(0.015625)\"/>\n      </defs>\n      <use xlink:href=\"#DejaVuSans-Bold-35\"/>\n     </g>\n    </g>\n   </g>\n   <g id=\"text_7\">\n    <g clip-path=\"url(#p8a763cfee4)\">\n     <!-- 6 -->\n     <g transform=\"translate(263.169764 273.519514)scale(0.12 -0.12)\">\n      <defs>\n       <path d=\"M 2316 2303 \nQ 2000 2303 1842 2098 \nQ 1684 1894 1684 1484 \nQ 1684 1075 1842 870 \nQ 2000 666 2316 666 \nQ 2634 666 2792 870 \nQ 2950 1075 2950 1484 \nQ 2950 1894 2792 2098 \nQ 2634 2303 2316 2303 \nz\nM 3803 4544 \nL 3803 3681 \nQ 3506 3822 3243 3889 \nQ 2981 3956 2731 3956 \nQ 2194 3956 1894 3657 \nQ 1594 3359 1544 2772 \nQ 1750 2925 1990 3001 \nQ 2231 3078 2516 3078 \nQ 3231 3078 3670 2659 \nQ 4109 2241 4109 1563 \nQ 4109 813 3618 361 \nQ 3128 -91 2303 -91 \nQ 1394 -91 895 523 \nQ 397 1138 397 2266 \nQ 397 3422 980 4083 \nQ 1563 4744 2578 4744 \nQ 2900 4744 3203 4694 \nQ 3506 4644 3803 4544 \nz\n\" id=\"DejaVuSans-Bold-36\" transform=\"scale(0.015625)\"/>\n      </defs>\n      <use xlink:href=\"#DejaVuSans-Bold-36\"/>\n     </g>\n    </g>\n   </g>\n   <g id=\"text_8\">\n    <g clip-path=\"url(#p8a763cfee4)\">\n     <!-- 7 -->\n     <g transform=\"translate(105.97241 35.502986)scale(0.12 -0.12)\">\n      <defs>\n       <path d=\"M 428 4666 \nL 3944 4666 \nL 3944 3988 \nL 2125 0 \nL 953 0 \nL 2675 3781 \nL 428 3781 \nL 428 4666 \nz\n\" id=\"DejaVuSans-Bold-37\" transform=\"scale(0.015625)\"/>\n      </defs>\n      <use xlink:href=\"#DejaVuSans-Bold-37\"/>\n     </g>\n    </g>\n   </g>\n   <g id=\"text_9\">\n    <g clip-path=\"url(#p8a763cfee4)\">\n     <!-- 8 -->\n     <g transform=\"translate(40.512916 130.486166)scale(0.12 -0.12)\">\n      <defs>\n       <path d=\"M 2228 2088 \nQ 1891 2088 1709 1903 \nQ 1528 1719 1528 1375 \nQ 1528 1031 1709 848 \nQ 1891 666 2228 666 \nQ 2563 666 2741 848 \nQ 2919 1031 2919 1375 \nQ 2919 1722 2741 1905 \nQ 2563 2088 2228 2088 \nz\nM 1350 2484 \nQ 925 2613 709 2878 \nQ 494 3144 494 3541 \nQ 494 4131 934 4440 \nQ 1375 4750 2228 4750 \nQ 3075 4750 3515 4442 \nQ 3956 4134 3956 3541 \nQ 3956 3144 3739 2878 \nQ 3522 2613 3097 2484 \nQ 3572 2353 3814 2058 \nQ 4056 1763 4056 1313 \nQ 4056 619 3595 264 \nQ 3134 -91 2228 -91 \nQ 1319 -91 855 264 \nQ 391 619 391 1313 \nQ 391 1763 633 2058 \nQ 875 2353 1350 2484 \nz\nM 1631 3419 \nQ 1631 3141 1786 2991 \nQ 1941 2841 2228 2841 \nQ 2509 2841 2662 2991 \nQ 2816 3141 2816 3419 \nQ 2816 3697 2662 3845 \nQ 2509 3994 2228 3994 \nQ 1941 3994 1786 3844 \nQ 1631 3694 1631 3419 \nz\n\" id=\"DejaVuSans-Bold-38\" transform=\"scale(0.015625)\"/>\n      </defs>\n      <use xlink:href=\"#DejaVuSans-Bold-38\"/>\n     </g>\n    </g>\n   </g>\n  </g>\n </g>\n <defs>\n  <clipPath id=\"p8a763cfee4\">\n   <rect height=\"288\" width=\"432\" x=\"7.2\" y=\"7.2\"/>\n  </clipPath>\n </defs>\n</svg>\n",
      "image/png": "[encoded data removed]"
     },
     "metadata": {}
    }
   ],
   "source": [
    "g = nx.gnm_random_graph(9, 20, seed=42)\n",
    "nx.draw(g,with_labels=True, font_weight='bold')"
   ]
  },
  {
   "cell_type": "code",
   "execution_count": 3,
   "metadata": {
    "tags": []
   },
   "outputs": [
    {
     "output_type": "stream",
     "name": "stdout",
     "text": "[(0, 1), (0, 8), (0, 2), (0, 4), (0, 3), (1, 8), (1, 6), (1, 3), (1, 4), (2, 3), (2, 4), (3, 4), (3, 8), (3, 6), (3, 5), (4, 7), (4, 5), (4, 6), (5, 6), (7, 8)]\n"
    }
   ],
   "source": [
    "print(list(g.edges))"
   ]
  },
  {
   "source": [
    "## nx库中的解法"
   ],
   "cell_type": "markdown",
   "metadata": {}
  },
  {
   "cell_type": "code",
   "execution_count": 4,
   "metadata": {
    "tags": []
   },
   "outputs": [
    {
     "output_type": "stream",
     "name": "stdout",
     "text": "14 ({8, 3, 4}, {0, 1, 2, 5, 6, 7})\n"
    }
   ],
   "source": [
    "cut, partition = nx.algorithms.approximation.one_exchange(g)\n",
    "print(cut, partition)"
   ]
  },
  {
   "source": [
    "## Try to solve by yourself"
   ],
   "cell_type": "markdown",
   "metadata": {}
  },
  {
   "cell_type": "code",
   "execution_count": 5,
   "metadata": {},
   "outputs": [],
   "source": [
    "def solution(edges):\n",
    "    pass"
   ]
  },
  {
   "cell_type": "code",
   "execution_count": 6,
   "metadata": {
    "tags": []
   },
   "outputs": [
    {
     "output_type": "stream",
     "name": "stdout",
     "text": "I get None cuts\n"
    }
   ],
   "source": [
    "my_cut = solution(list(g.edges))\n",
    "print(f'I get {my_cut} cuts')"
   ]
  },
  {
   "source": [
    "## QAOA"
   ],
   "cell_type": "markdown",
   "metadata": {}
  },
  {
   "cell_type": "code",
   "execution_count": 8,
   "metadata": {},
   "outputs": [],
   "source": [
    "from mindquantum import *"
   ]
  },
  {
   "cell_type": "code",
   "execution_count": 1,
   "metadata": {},
   "outputs": [
    {
     "output_type": "error",
     "ename": "NameError",
     "evalue": "name 'MaxCutAnsatz' is not defined",
     "traceback": [
      "\u001b[0;31m---------------------------------------------------------------------------\u001b[0m",
      "\u001b[0;31mNameError\u001b[0m                                 Traceback (most recent call last)",
      "\u001b[0;32m/tmp/ipykernel_6569/458033502.py\u001b[0m in \u001b[0;36m<module>\u001b[0;34m\u001b[0m\n\u001b[1;32m      1\u001b[0m \u001b[0mdepth\u001b[0m \u001b[0;34m=\u001b[0m \u001b[0;36m5\u001b[0m\u001b[0;34m\u001b[0m\u001b[0;34m\u001b[0m\u001b[0m\n\u001b[0;32m----> 2\u001b[0;31m \u001b[0mansatz\u001b[0m \u001b[0;34m=\u001b[0m \u001b[0mMaxCutAnsatz\u001b[0m\u001b[0;34m(\u001b[0m\u001b[0mlist\u001b[0m\u001b[0;34m(\u001b[0m\u001b[0mg\u001b[0m\u001b[0;34m.\u001b[0m\u001b[0medges\u001b[0m\u001b[0;34m)\u001b[0m\u001b[0;34m,\u001b[0m \u001b[0mdepth\u001b[0m\u001b[0;34m)\u001b[0m\u001b[0;34m\u001b[0m\u001b[0;34m\u001b[0m\u001b[0m\n\u001b[0m\u001b[1;32m      3\u001b[0m \u001b[0;34m\u001b[0m\u001b[0m\n\u001b[1;32m      4\u001b[0m \u001b[0mham\u001b[0m \u001b[0;34m=\u001b[0m \u001b[0mansatz\u001b[0m\u001b[0;34m.\u001b[0m\u001b[0mhamiltonian\u001b[0m\u001b[0;34m\u001b[0m\u001b[0;34m\u001b[0m\u001b[0m\n\u001b[1;32m      5\u001b[0m \u001b[0mcircuit\u001b[0m \u001b[0;34m=\u001b[0m \u001b[0mansatz\u001b[0m\u001b[0;34m.\u001b[0m\u001b[0mcircuit\u001b[0m\u001b[0;34m\u001b[0m\u001b[0;34m\u001b[0m\u001b[0m\n",
      "\u001b[0;31mNameError\u001b[0m: name 'MaxCutAnsatz' is not defined"
     ]
    }
   ],
   "source": [
    "depth = 2\n",
    "ansatz = MaxCutAnsatz(list(g.edges), depth)\n",
    "\n",
    "ham = ansatz.hamiltonian\n",
    "circuit = ansatz.circuit\n",
    "circuit"
   ]
  },
  {
   "cell_type": "code",
   "execution_count": 10,
   "metadata": {},
   "outputs": [],
   "source": [
    "sim = Simulator('projectq', circuit.n_qubits)\n",
    "grad_ops = sim.get_expectation_with_grad(Hamiltonian(-ham), circuit)"
   ]
  },
  {
   "cell_type": "code",
   "execution_count": 11,
   "metadata": {},
   "outputs": [
    {
     "output_type": "execute_result",
     "data": {
      "text/plain": "(array([[-10.03899673+3.4861374e-17j]]),\n array([[[ 0.04576657+0.j, -0.00659024+0.j]]]))"
     },
     "metadata": {},
     "execution_count": 11
    }
   ],
   "source": [
    "import numpy as np\n",
    "\n",
    "grad_ops(np.random.random(size=len(circuit.params_name)))"
   ]
  },
  {
   "source": [
    "### 利用`scipy`的优化器进行优化"
   ],
   "cell_type": "markdown",
   "metadata": {}
  },
  {
   "cell_type": "code",
   "execution_count": 12,
   "metadata": {
    "tags": []
   },
   "outputs": [
    {
     "output_type": "stream",
     "name": "stdout",
     "text": "Cut value: 7.571326575273142\nCut value: 8.798041290493835\nCut value: 10.270515403328357\nCut value: 10.853664731765702\nCut value: 9.750983042440836\nCut value: 10.24068617225065\nCut value: 10.895373273967309\nCut value: 10.958835300494815\nCut value: 10.978826727914933\nCut value: 10.077157328732397\nCut value: 10.979958324452262\n"
    }
   ],
   "source": [
    "from scipy.optimize import minimize\n",
    "\n",
    "def fun(x):\n",
    "    f, g = grad_ops(x)\n",
    "    print(f\"Cut value: {-f.real[0, 0]}\")\n",
    "    return f.real[0, 0], g.real[0, 0]\n",
    "\n",
    "np.random.seed(1)\n",
    "x0 = np.random.random(len(circuit.params_name))\n",
    "optimizers = ['cg', 'COBYLA', 'Powell', 'bfgs']\n",
    "opti = optimizers[0]\n",
    "tol = 4e-1\n",
    "res = minimize(fun, x0, method=opti, jac=True, tol=tol)"
   ]
  },
  {
   "cell_type": "code",
   "execution_count": 13,
   "metadata": {},
   "outputs": [],
   "source": [
    "def get_partitions(theta, first_n=1):\n",
    "    s = Simulator('projectq', circuit.n_qubits)\n",
    "    s.apply_circuit(circuit, dict(zip(circuit.params_name, theta)))\n",
    "    state = s.get_qs()\n",
    "    amp = np.abs(state)**2\n",
    "    partitions=[]\n",
    "    for n in range(first_n):\n",
    "        poi = np.argmax(amp)\n",
    "        amp[poi] = -1\n",
    "        bin_string = bin(poi)[2:].zfill(circuit.n_qubits)[::-1]\n",
    "        partition = [[], []]\n",
    "        for i, j in enumerate(bin_string):\n",
    "            partition[int(j)].append(i)\n",
    "        partitions.append(partition)\n",
    "    return partitions\n",
    "\n",
    "def get_cut_value(graph, partitions):\n",
    "    values = []\n",
    "    for partition in partitions:\n",
    "        value = 0\n",
    "        for p0 in partition[0]:\n",
    "            for p1 in partition[1]:\n",
    "                for g in graph:\n",
    "                    if p0 in g and p1 in g:\n",
    "                        value += 1\n",
    "        values.append(value)\n",
    "    return values"
   ]
  },
  {
   "cell_type": "code",
   "execution_count": 14,
   "metadata": {
    "tags": []
   },
   "outputs": [
    {
     "output_type": "stream",
     "name": "stdout",
     "text": "partition 0: [[3, 4, 6, 7, 8], [0, 1, 2, 5]]\npartition 1: [[0, 1, 2, 5], [3, 4, 6, 7, 8]]\npartition 2: [[0, 3, 4], [1, 2, 5, 6, 7, 8]]\npartition 3: [[1, 2, 5, 6, 7, 8], [0, 3, 4]]\npartition 4: [[3, 4, 7, 8], [0, 1, 2, 5, 6]]\npartition 5: [[0, 1, 2, 5, 6], [3, 4, 7, 8]]\n"
    }
   ],
   "source": [
    "partitions = get_partitions(res.x, 6)\n",
    "for i, j in enumerate(partitions):\n",
    "    print(f'partition {i}: {j}')"
   ]
  },
  {
   "cell_type": "code",
   "execution_count": 15,
   "metadata": {
    "tags": []
   },
   "outputs": [
    {
     "output_type": "stream",
     "name": "stdout",
     "text": "cut values: [12, 12, 13, 13, 12, 12]\n\nYour configuration:\ndepth: 1\nmethod: cg\ntol: 0.1\nstep: 11\n"
    }
   ],
   "source": [
    "cut_values = get_cut_value(g.edges, partitions)\n",
    "print(f'cut values: {cut_values}')\n",
    "print(f'\\nYour configuration:\\ndepth: {depth}\\nmethod: {opti}\\ntol: {tol}\\nstep: {res.nfev}')"
   ]
  },
  {
   "cell_type": "code",
   "execution_count": null,
   "metadata": {},
   "outputs": [],
   "source": []
  }
 ]
}