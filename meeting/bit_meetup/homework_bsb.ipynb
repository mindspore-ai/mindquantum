{
 "metadata": {
  "language_info": {
   "codemirror_mode": {
    "name": "ipython",
    "version": 3
   },
   "file_extension": ".py",
   "mimetype": "text/x-python",
   "name": "python",
   "nbconvert_exporter": "python",
   "pygments_lexer": "ipython3",
   "version": "3.7.5-final"
  },
  "orig_nbformat": 2,
  "kernelspec": {
   "name": "python37564bit68ca4e9806614a9d857b705ab1282e7a",
   "display_name": "Python 3.7.5 64-bit"
  }
 },
 "nbformat": 4,
 "nbformat_minor": 2,
 "cells": [
  {
   "cell_type": "code",
   "execution_count": 2,
   "metadata": {},
   "outputs": [
    {
     "output_type": "execute_result",
     "data": {
      "text/plain": "projectq simulator with 3 qubits.\nCurrent quantum state:\n1¦000⟩"
     },
     "metadata": {},
     "execution_count": 2
    }
   ],
   "source": [
    "from mindquantum import Simulator,qft,Circuit,H\n",
    "sim = Simulator('projectq',3)\n",
    "sim.apply_circuit(qft(range(3))) #fuliye  \n",
    "sim.apply_circuit(Circuit().un(H,3) )\n",
    "sim  "
   ]
  },
  {
   "cell_type": "code",
   "execution_count": null,
   "metadata": {},
   "outputs": [],
   "source": []
  }
 ]
}