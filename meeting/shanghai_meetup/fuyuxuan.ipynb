{
 "metadata": {
  "language_info": {
   "codemirror_mode": {
    "name": "ipython",
    "version": 3
   },
   "file_extension": ".py",
   "mimetype": "text/x-python",
   "name": "python",
   "nbconvert_exporter": "python",
   "pygments_lexer": "ipython3",
   "version": "3.7.5-final"
  },
  "orig_nbformat": 2,
  "kernelspec": {
   "name": "python37564bitb1637aa0c3e24c03990bf52b9d15c03b",
   "display_name": "Python 3.7.5 64-bit"
  }
 },
 "nbformat": 4,
 "nbformat_minor": 2,
 "cells": [
  {
   "cell_type": "code",
   "execution_count": 3,
   "metadata": {},
   "outputs": [],
   "source": [
    "import os\n",
    "os.environ['OMP_NUM_THREADS'] = '1'\n",
    "import mindspore as ms\n",
    "ms.context.set_context(mode=ms.context.PYNATIVE_MODE, device_target='CPU')\n",
    "\n",
    "from mindquantum import *\n",
    "import numpy as np\n",
    "from mindquantum.nn import MQAnsatzOnlyLayer\n",
    "from mindquantum.ansatz import MaxCutAnsatz\n",
    "from mindspore.nn import Adam\n",
    "from mindspore.nn import TrainOneStepCell"
   ]
  },
  {
   "cell_type": "code",
   "execution_count": 7,
   "metadata": {},
   "outputs": [],
   "source": [
    "edge_dict ={0: [1, 2, 3, 11],\n",
    "            1: [0, 3, 6, 8, 9, 10, 11],\n",
    "            2: [0, 6, 8, 10, 13],\n",
    "            3: [0, 1, 12, 14],\n",
    "            4: [7, 9],\n",
    "            5: [6, 7, 12],\n",
    "            6: [1, 2, 5, 7],\n",
    "            7: [4, 5, 6, 10, 11, 12],\n",
    "            8: [1, 2, 10, 13, 14],\n",
    "            9: [1, 4, 14],\n",
    "            10: [1, 2, 7, 8, 14],\n",
    "            11: [0, 1, 7],\n",
    "            12: [3, 5, 7, 14],\n",
    "            13: [2, 8],\n",
    "            14: [3, 8, 9, 10, 12]}\n",
    "graph = []\n",
    "for key in edge_dict.keys():\n",
    "    for val in edge_dict[key]:\n",
    "        if key <= val:\n",
    "            graph.append((key, val))"
   ]
  },
  {
   "cell_type": "code",
   "execution_count": 8,
   "metadata": {
    "tags": []
   },
   "outputs": [
    {
     "output_type": "stream",
     "name": "stdout",
     "text": "setp: 0, res: [15.559407]\nsetp: 10, res: [21.690279]\nsetp: 20, res: [22.476614]\nsetp: 30, res: [23.199774]\nsetp: 40, res: [23.334793]\nsetp: 50, res: [23.427404]\nsetp: 60, res: [23.454636]\nsetp: 70, res: [23.483658]\nsetp: 80, res: [23.520897]\nsetp: 90, res: [23.54464]\nsetp: 100, res: [23.553316]\nsetp: 110, res: [23.569418]\nsetp: 120, res: [23.6387]\nsetp: 130, res: [23.67979]\nsetp: 140, res: [23.690142]\n"
    }
   ],
   "source": [
    "maxcut = MaxCutAnsatz(graph, 12)\n",
    "sim = Simulator('projectq', maxcut.circuit.n_qubits)\n",
    "grad_ops = sim.get_expectation_with_grad(Hamiltonian(-maxcut.hamiltonian), maxcut.circuit)\n",
    "net = MQAnsatzOnlyLayer(grad_ops)\n",
    "\n",
    "opti = Adam(net.trainable_params(), learning_rate=0.1)\n",
    "train_net = TrainOneStepCell(net, opti)\n",
    "for i in range(150):\n",
    "    res = train_net()\n",
    "    if i % 10 == 0:\n",
    "        print(f\"setp: {i}, res: {-res}\")"
   ]
  },
  {
   "cell_type": "code",
   "execution_count": null,
   "metadata": {},
   "outputs": [],
   "source": []
  }
 ]
}