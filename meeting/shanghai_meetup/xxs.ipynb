{
 "metadata": {
  "language_info": {
   "codemirror_mode": {
    "name": "ipython",
    "version": 3
   },
   "file_extension": ".py",
   "mimetype": "text/x-python",
   "name": "python",
   "nbconvert_exporter": "python",
   "pygments_lexer": "ipython3",
   "version": "3.7.5-final"
  },
  "orig_nbformat": 2,
  "kernelspec": {
   "name": "python37564bit41fe3e73255f4bccb5402c90bcefe980",
   "display_name": "Python 3.7.5 64-bit"
  }
 },
 "nbformat": 4,
 "nbformat_minor": 2,
 "cells": [
  {
   "cell_type": "code",
   "execution_count": 1,
   "metadata": {},
   "outputs": [
    {
     "output_type": "display_data",
     "data": {
      "text/plain": "<IPython.core.display.HTML object>",
      "text/html": "<style>pre { white-space: pre !important; }</style>"
     },
     "metadata": {}
    }
   ],
   "source": [
    "from mindquantum import *"
   ]
  },
  {
   "cell_type": "code",
   "execution_count": 2,
   "metadata": {},
   "outputs": [
    {
     "output_type": "display_data",
     "data": {
      "text/plain": "<IPython.core.display.HTML object>",
      "text/html": "<style>pre { white-space: pre !important; }</style>"
     },
     "metadata": {}
    },
    {
     "output_type": "display_data",
     "data": {
      "text/plain": "",
      "text/html": "<pre style=\"white-space:pre;overflow-x:auto;line-height:normal;font-family:Menlo,'DejaVu Sans Mono',consolas,'Courier New',monospace\"></pre>\n"
     },
     "metadata": {}
    },
    {
     "output_type": "execute_result",
     "data": {
      "text/plain": "\u001b[34mq0: ──H────\u001b[0m\u001b[1;35mPS\u001b[0m\u001b[1;34m(\u001b[0m\u001b[34mπ/\u001b[0m\u001b[1;36m2\u001b[0m\u001b[1;34m)\u001b[0m\u001b[34m────\u001b[0m\u001b[1;35mPS\u001b[0m\u001b[1;34m(\u001b[0m\u001b[34mπ/\u001b[0m\u001b[1;36m4\u001b[0m\u001b[1;34m)\u001b[0m\u001b[34m─────────────────────────✖──\u001b[0m\n\u001b[34m              │          │                            │  \u001b[0m\n\u001b[34mq1: ──────────●──────────┼───────H────\u001b[0m\u001b[1;35mPS\u001b[0m\u001b[1;34m(\u001b[0m\u001b[34mπ/\u001b[0m\u001b[1;36m2\u001b[0m\u001b[1;34m)\u001b[0m\u001b[34m─────────┼──\u001b[0m\n\u001b[34m                         │               │            │  \u001b[0m\n\u001b[34mq2: ─────────────────────●───────────────●───────H────✖──\u001b[0m"
     },
     "metadata": {},
     "execution_count": 2
    }
   ],
   "source": [
    "qft(range(3))"
   ]
  },
  {
   "cell_type": "code",
   "execution_count": null,
   "metadata": {},
   "outputs": [],
   "source": []
  }
 ]
}