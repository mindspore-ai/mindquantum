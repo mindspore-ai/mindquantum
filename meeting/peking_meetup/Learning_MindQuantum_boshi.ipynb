{
 "metadata": {
  "language_info": {
   "codemirror_mode": {
    "name": "ipython",
    "version": 3
   },
   "file_extension": ".py",
   "mimetype": "text/x-python",
   "name": "python",
   "nbconvert_exporter": "python",
   "pygments_lexer": "ipython3",
   "version": "3.7.5-final"
  },
  "orig_nbformat": 2,
  "kernelspec": {
   "name": "python37564bita5d2c17fa2dc4013b7f98c77820c7448",
   "display_name": "Python 3.7.5 64-bit"
  }
 },
 "nbformat": 4,
 "nbformat_minor": 2,
 "cells": [
  {
   "cell_type": "code",
   "execution_count": 6,
   "metadata": {},
   "outputs": [],
   "source": [
    "from mindquantum import *"
   ]
  },
  {
   "cell_type": "code",
   "execution_count": 7,
   "metadata": {},
   "outputs": [
    {
     "output_type": "execute_result",
     "data": {
      "text/plain": "H(1)"
     },
     "metadata": {},
     "execution_count": 7
    }
   ],
   "source": [
    "H.on(1)"
   ]
  },
  {
   "cell_type": "code",
   "execution_count": 8,
   "metadata": {},
   "outputs": [],
   "source": [
    "import numpy as np"
   ]
  },
  {
   "cell_type": "code",
   "execution_count": 9,
   "metadata": {},
   "outputs": [
    {
     "output_type": "execute_result",
     "data": {
      "text/plain": "array([[6.123234e-17+0.j, 0.000000e+00-1.j],\n       [0.000000e+00-1.j, 6.123234e-17+0.j]])"
     },
     "metadata": {},
     "execution_count": 9
    }
   ],
   "source": [
    "gate = RX('theta')\n",
    "gate.matrix({'theta':np.pi})"
   ]
  },
  {
   "cell_type": "code",
   "execution_count": 10,
   "metadata": {},
   "outputs": [
    {
     "output_type": "display_data",
     "data": {
      "text/plain": "",
      "text/html": "<pre style=\"white-space:pre;overflow-x:auto;line-height:normal;font-family:Menlo,'DejaVu Sans Mono',consolas,'Courier New',monospace\"></pre>\n"
     },
     "metadata": {}
    },
    {
     "output_type": "display_data",
     "data": {
      "text/plain": "q0: ──────H──────\n\nq1: ──RY(theta)──",
      "text/html": "<pre style=\"white-space: pre;\"><span style=\"color: #000080; text-decoration-color: #000080; font-weight: bold\">q0: ──────H──────</span>\n\n<span style=\"color: #000080; text-decoration-color: #000080; font-weight: bold\">q1: ──</span><span style=\"color: #800080; text-decoration-color: #800080; font-weight: bold\">RY</span><span style=\"color: #000080; text-decoration-color: #000080; font-weight: bold\">(theta)──</span>\n</pre>\n"
     },
     "metadata": {}
    }
   ],
   "source": [
    "circuit = Circuit()\n",
    "circuit += H.on(0)\n",
    "circuit += RY('theta').on(1)\n",
    "display(circuit)"
   ]
  },
  {
   "cell_type": "code",
   "execution_count": 11,
   "metadata": {},
   "outputs": [
    {
     "output_type": "display_data",
     "data": {
      "text/plain": "",
      "text/html": "<pre style=\"white-space:pre;overflow-x:auto;line-height:normal;font-family:Menlo,'DejaVu Sans Mono',consolas,'Courier New',monospace\"></pre>\n"
     },
     "metadata": {}
    },
    {
     "output_type": "execute_result",
     "data": {
      "text/plain": "q0: ──H────PS(π/2)────PS(π/4)─────────────────────────@──\n              │          │                            │\nq1: ──────────●──────────┼───────H────PS(π/2)─────────┼──\n                         │               │            │\nq2: ─────────────────────●───────────────●───────H────@──",
      "text/html": "<pre style=\"white-space: pre;\"><span style=\"color: #000080; text-decoration-color: #000080; font-weight: bold\">q0: ──H────</span><span style=\"color: #800080; text-decoration-color: #800080; font-weight: bold\">PS</span><span style=\"color: #000080; text-decoration-color: #000080; font-weight: bold\">(π/</span><span style=\"color: #008080; text-decoration-color: #008080; font-weight: bold\">2</span><span style=\"color: #000080; text-decoration-color: #000080; font-weight: bold\">)────</span><span style=\"color: #800080; text-decoration-color: #800080; font-weight: bold\">PS</span><span style=\"color: #000080; text-decoration-color: #000080; font-weight: bold\">(π/</span><span style=\"color: #008080; text-decoration-color: #008080; font-weight: bold\">4</span><span style=\"color: #000080; text-decoration-color: #000080; font-weight: bold\">)─────────────────────────@──</span>\n<span style=\"color: #000080; text-decoration-color: #000080; font-weight: bold\">              │          │                            │</span>\n<span style=\"color: #000080; text-decoration-color: #000080; font-weight: bold\">q1: ──────────●──────────┼───────H────</span><span style=\"color: #800080; text-decoration-color: #800080; font-weight: bold\">PS</span><span style=\"color: #000080; text-decoration-color: #000080; font-weight: bold\">(π/</span><span style=\"color: #008080; text-decoration-color: #008080; font-weight: bold\">2</span><span style=\"color: #000080; text-decoration-color: #000080; font-weight: bold\">)─────────┼──</span>\n<span style=\"color: #000080; text-decoration-color: #000080; font-weight: bold\">                         │               │            │</span>\n<span style=\"color: #000080; text-decoration-color: #000080; font-weight: bold\">q2: ─────────────────────●───────────────●───────H────@──</span>\n</pre>\n"
     },
     "metadata": {},
     "execution_count": 11
    }
   ],
   "source": [
    "qft([0,1,2])"
   ]
  },
  {
   "cell_type": "code",
   "execution_count": 12,
   "metadata": {},
   "outputs": [
    {
     "output_type": "execute_result",
     "data": {
      "text/plain": "projectq simulator with 3 qubits.\nCurrent quantum state:\n1¦000⟩"
     },
     "metadata": {},
     "execution_count": 12
    }
   ],
   "source": [
    "sim = Simulator('projectq', 3)\n",
    "sim"
   ]
  },
  {
   "cell_type": "code",
   "execution_count": 13,
   "metadata": {},
   "outputs": [
    {
     "output_type": "execute_result",
     "data": {
      "text/plain": "projectq simulator with 3 qubits.\nCurrent quantum state:\n1¦000⟩"
     },
     "metadata": {},
     "execution_count": 13
    }
   ],
   "source": [
    "sim.reset()\n",
    "sim.apply_circuit(qft([0,1,2]))\n",
    "sim.apply_circuit(qft([0,1,2]))\n",
    "sim"
   ]
  },
  {
   "cell_type": "code",
   "execution_count": 14,
   "metadata": {},
   "outputs": [
    {
     "output_type": "execute_result",
     "data": {
      "text/plain": "projectq simulator with 3 qubits.\nCurrent quantum state:\n1¦000⟩"
     },
     "metadata": {},
     "execution_count": 14
    }
   ],
   "source": [
    "##########################\n",
    "#   制备均匀叠加态并做qft  #\n",
    "##########################\n",
    "average_circuit = Circuit()\n",
    "average_circuit += H.on(0)\n",
    "average_circuit += H.on(1)\n",
    "average_circuit += H.on(2)\n",
    "sim.reset()\n",
    "sim.apply_circuit(average_circuit)\n",
    "sim.apply_circuit(qft([0,1,2]))\n",
    "sim"
   ]
  },
  {
   "cell_type": "code",
   "execution_count": 15,
   "metadata": {},
   "outputs": [
    {
     "output_type": "display_data",
     "data": {
      "text/plain": "projectq simulator with 3 qubits.\nCurrent quantum state:\n√2/4¦000⟩\n√2/4¦001⟩\n√2/4¦010⟩\n√2/4¦011⟩\n-√2/4¦100⟩\n-√2/4¦101⟩\n-√2/4¦110⟩\n-√2/4¦111⟩"
     },
     "metadata": {}
    },
    {
     "output_type": "display_data",
     "data": {
      "text/plain": "projectq simulator with 3 qubits.\nCurrent quantum state:\n1¦001⟩"
     },
     "metadata": {}
    }
   ],
   "source": [
    "##################################\n",
    "#   制备一个做qft可以得到|1⟩的态    #\n",
    "##################################\n",
    "sim.reset()\n",
    "sim.apply_circuit(Circuit(X.on(0)))\n",
    "sim.apply_circuit(qft([0,1,2]))\n",
    "display(sim)\n",
    "sim.apply_circuit(qft([0,1,2]))\n",
    "display(sim)"
   ]
  }
 ]
}