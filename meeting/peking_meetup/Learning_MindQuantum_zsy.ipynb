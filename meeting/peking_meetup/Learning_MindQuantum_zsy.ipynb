{
 "metadata": {
  "language_info": {
   "codemirror_mode": {
    "name": "ipython",
    "version": 3
   },
   "file_extension": ".py",
   "mimetype": "text/x-python",
   "name": "python",
   "nbconvert_exporter": "python",
   "pygments_lexer": "ipython3",
   "version": "3.7.5-final"
  },
  "orig_nbformat": 2,
  "kernelspec": {
   "name": "python37564bit878688879b454e2caa562fabe2b4afa8",
   "display_name": "Python 3.7.5 64-bit"
  }
 },
 "nbformat": 4,
 "nbformat_minor": 2,
 "cells": [
  {
   "cell_type": "code",
   "execution_count": 8,
   "metadata": {},
   "outputs": [],
   "source": [
    "from mindquantum import *\n",
    "import numpy as np"
   ]
  },
  {
   "cell_type": "code",
   "execution_count": 9,
   "metadata": {},
   "outputs": [
    {
     "output_type": "display_data",
     "data": {
      "text/plain": "",
      "text/html": "<pre style=\"white-space:pre;overflow-x:auto;line-height:normal;font-family:Menlo,'DejaVu Sans Mono',consolas,'Courier New',monospace\"></pre>\n"
     },
     "metadata": {}
    },
    {
     "output_type": "execute_result",
     "data": {
      "text/plain": "q0: ───────X──\n           │\nq1: ──H────●──",
      "text/html": "<pre style=\"white-space: pre;\"><span style=\"color: #000080; text-decoration-color: #000080; font-weight: bold\">q0: ───────X──</span>\n<span style=\"color: #000080; text-decoration-color: #000080; font-weight: bold\">           │</span>\n<span style=\"color: #000080; text-decoration-color: #000080; font-weight: bold\">q1: ──H────●──</span>\n</pre>\n"
     },
     "metadata": {},
     "execution_count": 9
    }
   ],
   "source": [
    "circuit = Circuit()\n",
    "circuit += H.on(1)\n",
    "circuit += X.on(0, [1])\n",
    "circuit"
   ]
  },
  {
   "cell_type": "code",
   "execution_count": 10,
   "metadata": {},
   "outputs": [],
   "source": [
    "sim = Simulator('projectq', 3)"
   ]
  },
  {
   "cell_type": "code",
   "execution_count": 12,
   "metadata": {},
   "outputs": [
    {
     "output_type": "execute_result",
     "data": {
      "text/plain": "projectq simulator with 3 qubits.\nCurrent quantum state:\n(1/2+1/2j)¦010⟩\n(1/2-1/2j)¦011⟩"
     },
     "metadata": {},
     "execution_count": 12
    }
   ],
   "source": [
    "sim.reset()\n",
    "sim.apply_circuit(Circuit(X.on(1)))\n",
    "H_n = Circuit()\n",
    "for i in range(3):\n",
    "    H_n += H.on(i)\n",
    "\n",
    "sim.apply_circuit(H_n)\n",
    "sim\n",
    "sim.apply_circuit(qft([0, 1, 2]))\n",
    "sim"
   ]
  },
  {
   "cell_type": "code",
   "execution_count": 14,
   "metadata": {},
   "outputs": [
    {
     "output_type": "display_data",
     "data": {
      "text/plain": "",
      "text/html": "<pre style=\"white-space:pre;overflow-x:auto;line-height:normal;font-family:Menlo,'DejaVu Sans Mono',consolas,'Courier New',monospace\"></pre>\n"
     },
     "metadata": {}
    },
    {
     "output_type": "execute_result",
     "data": {
      "text/plain": "q0: ──H────PS(π/2)────PS(π/4)────PS(π/8)────────────────────────────────────────────────────@───────\n              │          │          │                                                       │\nq1: ──────────●──────────┼──────────┼───────H────PS(π/2)────PS(π/4)─────────────────────────┼────@──\n                         │          │               │          │                            │    │\nq2: ─────────────────────●──────────┼───────────────●──────────┼───────H────PS(π/2)─────────┼────@──\n                                    │                          │               │            │\nq3: ────────────────────────────────●──────────────────────────●───────────────●───────H────@───────",
      "text/html": "<pre style=\"white-space: pre;\"><span style=\"color: #000080; text-decoration-color: #000080; font-weight: bold\">q0: ──H────</span><span style=\"color: #800080; text-decoration-color: #800080; font-weight: bold\">PS</span><span style=\"color: #000080; text-decoration-color: #000080; font-weight: bold\">(π/</span><span style=\"color: #008080; text-decoration-color: #008080; font-weight: bold\">2</span><span style=\"color: #000080; text-decoration-color: #000080; font-weight: bold\">)────</span><span style=\"color: #800080; text-decoration-color: #800080; font-weight: bold\">PS</span><span style=\"color: #000080; text-decoration-color: #000080; font-weight: bold\">(π/</span><span style=\"color: #008080; text-decoration-color: #008080; font-weight: bold\">4</span><span style=\"color: #000080; text-decoration-color: #000080; font-weight: bold\">)────</span><span style=\"color: #800080; text-decoration-color: #800080; font-weight: bold\">PS</span><span style=\"color: #000080; text-decoration-color: #000080; font-weight: bold\">(π/</span><span style=\"color: #008080; text-decoration-color: #008080; font-weight: bold\">8</span><span style=\"color: #000080; text-decoration-color: #000080; font-weight: bold\">)────────────────────────────────────────────────────@───────</span>\n<span style=\"color: #000080; text-decoration-color: #000080; font-weight: bold\">              │          │          │                                                       │</span>\n<span style=\"color: #000080; text-decoration-color: #000080; font-weight: bold\">q1: ──────────●──────────┼──────────┼───────H────</span><span style=\"color: #800080; text-decoration-color: #800080; font-weight: bold\">PS</span><span style=\"color: #000080; text-decoration-color: #000080; font-weight: bold\">(π/</span><span style=\"color: #008080; text-decoration-color: #008080; font-weight: bold\">2</span><span style=\"color: #000080; text-decoration-color: #000080; font-weight: bold\">)────</span><span style=\"color: #800080; text-decoration-color: #800080; font-weight: bold\">PS</span><span style=\"color: #000080; text-decoration-color: #000080; font-weight: bold\">(π/</span><span style=\"color: #008080; text-decoration-color: #008080; font-weight: bold\">4</span><span style=\"color: #000080; text-decoration-color: #000080; font-weight: bold\">)─────────────────────────┼────@──</span>\n<span style=\"color: #000080; text-decoration-color: #000080; font-weight: bold\">                         │          │               │          │                            │    │</span>\n<span style=\"color: #000080; text-decoration-color: #000080; font-weight: bold\">q2: ─────────────────────●──────────┼───────────────●──────────┼───────H────</span><span style=\"color: #800080; text-decoration-color: #800080; font-weight: bold\">PS</span><span style=\"color: #000080; text-decoration-color: #000080; font-weight: bold\">(π/</span><span style=\"color: #008080; text-decoration-color: #008080; font-weight: bold\">2</span><span style=\"color: #000080; text-decoration-color: #000080; font-weight: bold\">)─────────┼────@──</span>\n<span style=\"color: #000080; text-decoration-color: #000080; font-weight: bold\">                                    │                          │               │            │</span>\n<span style=\"color: #000080; text-decoration-color: #000080; font-weight: bold\">q3: ────────────────────────────────●──────────────────────────●───────────────●───────H────@───────</span>\n</pre>\n"
     },
     "metadata": {},
     "execution_count": 14
    }
   ],
   "source": [
    "cir2 = qft([0, 1, 2, 3])\n",
    "cir2"
   ]
  },
  {
   "cell_type": "code",
   "execution_count": 16,
   "metadata": {},
   "outputs": [
    {
     "output_type": "execute_result",
     "data": {
      "text/plain": "projectq simulator with 4 qubits.\nCurrent quantum state:\n[ 1.00000000e+00+0.00000000e+00j  0.00000000e+00+0.00000000e+00j\n -7.65404249e-18+0.00000000e+00j  7.65404249e-18+0.00000000e+00j\n  0.00000000e+00+0.00000000e+00j  0.00000000e+00+1.38777878e-17j\n  0.00000000e+00-1.38777878e-17j  0.00000000e+00+0.00000000e+00j\n  0.00000000e+00+0.00000000e+00j  0.00000000e+00+0.00000000e+00j\n  0.00000000e+00+0.00000000e+00j  0.00000000e+00+0.00000000e+00j\n  0.00000000e+00+0.00000000e+00j  0.00000000e+00+0.00000000e+00j\n  0.00000000e+00+0.00000000e+00j  0.00000000e+00+0.00000000e+00j]"
     },
     "metadata": {},
     "execution_count": 16
    }
   ],
   "source": [
    "sim2 = Simulator('projectq', 4)\n",
    "sim2.reset()\n",
    "sim2.apply_circuit(Circuit(UN(H, 4)))\n",
    "sim2.apply_circuit(cir2)\n",
    "sim2"
   ]
  },
  {
   "cell_type": "code",
   "execution_count": null,
   "metadata": {},
   "outputs": [],
   "source": []
  }
 ]
}