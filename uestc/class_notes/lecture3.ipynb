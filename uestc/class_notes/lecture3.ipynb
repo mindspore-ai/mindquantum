{
 "cells": [
  {
   "cell_type": "markdown",
   "metadata": {},
   "source": [
    "![banner](https://mindspore.cn/static/img/logo_black.74c3909e.png)\n",
    "\n",
    "# 量子门\n",
    "\n",
    "## 幺正变换\n",
    "\n",
    "先前提到量子态是一个（列）向量 $|\\psi\\rangle$（ket），并且其振幅的平方就是概率。与之对应的则是（行）向量 $\\langle \\psi|$（bra），\n",
    "\n",
    "$$\n",
    "|\\psi \\rangle = \\alpha |0\\rangle + \\beta |1 \\rangle \\to \\langle \\psi| \\equiv \\alpha^* \\langle 0 | + \\beta^* \\langle 1|\n",
    "$$\n",
    "\n",
    "内积则称为 “bracket”\n",
    "\n",
    "$$\n",
    "\\langle \\psi| \\psi \\rangle = |\\alpha|^2+|\\beta|^2=1\n",
    "$$\n",
    "\n",
    "这也被称为归一化条件。\n",
    "\n",
    "所以，若量子态是一个向量，则改变量子态的操作必须是一个矩阵（基于线性代数）。\n",
    "$$\n",
    "|\\psi\\rangle \\to U|\\psi\\rangle\n",
    "$$\n",
    "在对偶空间则表示为\n",
    "$$\n",
    "\\langle\\psi|\\to \\langle\\psi|U^\\dagger\n",
    "$$\n",
    "其中$A^\\dagger \\equiv (A^T)^*$。\n",
    "\n",
    "为了保证概率守恒，我们需要\n",
    "$$\n",
    "\\langle \\psi|\\psi\\rangle = \\langle \\psi|U^\\dagger U|\\psi\\rangle = 1\n",
    "$$\n",
    "对于所有可能的 $|\\psi\\rangle$ 都成立。这就意味着\n",
    "$$\n",
    "U^\\dagger U = I \\Rightarrow U^\\dagger = U^{-1}\n",
    "$$\n",
    "这正是幺正矩阵的定义。\n",
    "\n",
    "### 总结性回顾\n",
    "\n",
    "- 任何对量子态的改变都可以用一个矩阵来表示。\n",
    "- 由于概率守恒，该矩阵必须保证幺正性。\n",
    "- 换句话说，任何量子计算的量子动力学行为都必须是一种幺正变换（的子集）。\n",
    "\n",
    "### 作为幺正变换的量子计算？\n",
    "\n",
    "接下来，我们可以想象量子计算是由一类幺正变换来表示，例如\n",
    "$$\n",
    "U|\\psi_{in}\\rangle=|\\psi_{out}\\rangle\n",
    "$$\n",
    "\n",
    "传统上，物理学家以这种方式解决问题：已知初态和哈密顿量，寻找末态。但对于量子计算，通常我们已知初态与末态，而目标是找到量子线路$U$（量子算法）。\n",
    "\n",
    "与经典计算相比较：\n",
    "$$\n",
    "f(x_{in}）=y_{out}\n",
    "$$\n",
    "我们稍后会表明量子计算是更加普适的，这意味着我们也可以用量子计算机完成经典计算任务。问题的关键是一旦定义好输入与输出之间的逻辑关系，我们需要知道如何在物理上实现其对应的幺正变换（称为量子电路）。回想一下，经典电路由基本的逻辑运算组成（AND, OR, NOT, NAND等），量子电路同样应该由基本逻辑运算组成，它们是什么？（我们会在之后发现）\n",
    "\n",
    "#### 术语\n",
    "\n",
    "- 量子线路：实现量子算法的一种方式（更大的幺正矩阵）\n",
    "- 量子门：量子电路的元素（较小的幺正矩阵）\n",
    "- 算符：矩阵（不一定幺正）"
   ]
  },
  {
   "cell_type": "markdown",
   "metadata": {},
   "source": [
    "## 泡利 `X` 门\n",
    "\n",
    "**单量子比特门** $\\equiv$ **单量子比特幺正矩阵（变换）**\n",
    "\n",
    "在经典计算机中，**非门**的效果如下：\n",
    "$$\n",
    "Logical \\enspace NOT \\enspace gate: \\enspace 1 \\to 0 \\enspace and \\enspace 0 \\to 1\n",
    "$$\n",
    "而现在我们想要一个量子版本的非门：\n",
    "$$\n",
    "Quantum \\enspace NOT \\enspace gate: \\enspace |1\\rangle \\to |0\\rangle \\enspace and \\enspace |0\\rangle \\to |1\\rangle\n",
    "$$\n",
    "这也被称为**比特翻转**。\n",
    "\n",
    "使用泡利 `X` 门就可以做到上述操作\n",
    "$$\n",
    "\\sigma_x \\equiv U_X \\equiv X = |1\\rangle\\langle 1| = \\begin{pmatrix} 0 & 1 \\\\ 1 & 0 \\end{pmatrix}\n",
    "$$\n",
    "\n",
    "可以验证泡利 `X` 门是幺正矩阵：\n",
    "$$\n",
    "X^\\dagger X = \\begin{pmatrix} 0 & 1 \\\\ 1 & 0 \\end{pmatrix}\\begin{pmatrix} 0 & 1 \\\\ 1 & 0 \\end{pmatrix} = \\begin{pmatrix} 1 & 0 \\\\ 0 & 1 \\end{pmatrix} = I\n",
    "$$\n",
    "\n",
    "用狄拉克符号可以容易的验证：\n",
    "\n",
    "$$\n",
    "X|1\\rangle = (|1\\rangle\\langle 0|+|0\\rangle\\langle 1|)|1\\rangle = |1\\rangle\\langle 0|1\\rangle + |0\\rangle\\langle 1|1\\rangle = |0\\rangle\n",
    "$$\n",
    "\n",
    "$$\n",
    "X|0\\rangle = (|1\\rangle\\langle 0|+|0\\rangle\\langle 1|)|0\\rangle = |1\\rangle\\langle 0|0\\rangle + |0\\rangle\\langle 1|0\\rangle = |1\\rangle\n",
    "$$\n",
    "\n",
    "对于一个任意的量子态，泡利 `X` 门的效果如下：\n",
    "$$\n",
    "X|\\psi\\rangle=X(\\alpha|0\\rangle+\\beta|1\\rangle)=\\alpha X|0\\rangle+\\beta X|1\\rangle = \\alpha |1\\rangle+\\beta |0\\rangle\n",
    "$$\n",
    "\n",
    "$$\n",
    "X\\begin{pmatrix}\\alpha \\\\ \\beta \\end{pmatrix} = \\begin{pmatrix} 0 & 1 \\\\ 1 & 0 \\end{pmatrix} \\begin{pmatrix}\\alpha \\\\ \\beta \\end{pmatrix} = \\begin{pmatrix}\\beta \\\\ \\alpha \\end{pmatrix}\n",
    "$$\n",
    "\n",
    "## 量子线路\n",
    "\n",
    "一个量子线路（非常大的幺正变换）包括一系列的门（小一些的幺正变换），其中每一条线代表一个量子比特，从左往右依次作用每个门（矩阵乘法作用顺序是从右到左）。\n",
    "\n",
    "例如：$AB|\\psi\\rangle$ 表示先作用 $B$ 再作用 $A$。\n",
    "\n",
    "量子线路是非循环的，线路中不存在环；量子线路是可逆的（经典线路通常不可逆）。"
   ]
  },
  {
   "cell_type": "markdown",
   "metadata": {},
   "source": [
    "现在我们可以尝试在MindQuantum中搭建一个简单的量子电路——对一个量子比特作用泡利 `X` 门。首先创建一个量子电路："
   ]
  },
  {
   "cell_type": "code",
   "execution_count": 1,
   "metadata": {},
   "outputs": [
    {
     "name": "stdout",
     "output_type": "stream",
     "text": [
      "1¦0⟩\n"
     ]
    }
   ],
   "source": [
    "from mindquantum.core.circuit import Circuit\n",
    "\n",
    "circ = Circuit()\n",
    "quantum_state = circ.get_qs(ket=True)\n",
    "print(quantum_state)"
   ]
  },
  {
   "cell_type": "markdown",
   "metadata": {},
   "source": [
    "可以看到电路的初始量子态处于 $|0\\rangle$ 态，现在我们作用泡利 `X` 门，然后打印电路量子态："
   ]
  },
  {
   "cell_type": "code",
   "execution_count": 2,
   "metadata": {},
   "outputs": [
    {
     "data": {
      "image/svg+xml": "<div class=\"nb-html-output output_area\"><svg xmlns=\"http://www.w3.org/2000/svg\" width=\"156.8\" height=\"80.0\" xmlns:xlink=\"http://www.w3.org/1999/xlink\">\n<rect x=\"0\" y=\"0.0\" width=\"156.8\" height=\"80.0\" fill=\"#ffffff\" />\n<text x=\"20.0\" y=\"40.0\" font-size=\"16px\" dominant-baseline=\"middle\" text-anchor=\"start\" font-family=\"Arial\" font-weight=\"normal\" fill=\"#252b3a\" >\nq0:\n </text>\n<line x1=\"48.8\" x2=\"136.8\" y1=\"40.0\" y2=\"40.0\" stroke=\"#adb0b8\" stroke-width=\"1\" />\n\n<rect x=\"72.8\" y=\"20.0\" width=\"40.0\" height=\"40\" rx=\"4\" ry=\"4\" stroke=\"#ffffff\" stroke-width=\"0\" fill=\"#5e7ce0\" fill-opacity=\"1\" />\n<text x=\"92.8\" y=\"40.0\" font-size=\"20px\" dominant-baseline=\"middle\" text-anchor=\"middle\" font-family=\"Arial\" font-weight=\"normal\" fill=\"#ffffff\" >\nX\n </text>\n\n</svg></div>",
      "text/plain": [
       "<mindquantum.io.display.circuit_svg_drawer.SVGCircuit at 0x7fc8f9159b80>"
      ]
     },
     "execution_count": 2,
     "metadata": {},
     "output_type": "execute_result"
    }
   ],
   "source": [
    "from mindquantum.core.gates import X\n",
    "\n",
    "circ += X.on(0) #对第0个比特作用X门\n",
    "# print(circ)     #打印线路\n",
    "circ.svg()"
   ]
  },
  {
   "cell_type": "code",
   "execution_count": 3,
   "metadata": {},
   "outputs": [
    {
     "name": "stdout",
     "output_type": "stream",
     "text": [
      "1¦1⟩\n"
     ]
    }
   ],
   "source": [
    "new_state = circ.get_qs(ket=True)\n",
    "print(new_state)"
   ]
  },
  {
   "cell_type": "markdown",
   "metadata": {},
   "source": [
    "可以看到，对 $q_0$ 作用泡利 `X` 门后，量子态变为 $|1\\rangle$ 态。"
   ]
  },
  {
   "cell_type": "markdown",
   "metadata": {},
   "source": [
    "> API 解释：\n",
    "> \n",
    "> - [mindquantum.core.circuit](https://www.mindspore.cn/mindquantum/docs/zh-CN/master/mindquantum.core.circuit.html) 里面包含了量子线路相关的 API；\n",
    "> - [mindquantum.core.gates](https://www.mindspore.cn/mindquantum/docs/zh-CN/master/mindquantum.core.gates.html) 里面包含了量子门相关的 API；\n",
    "> - `circ = Circuit()` 定义一个名为 `circ` 的量子线路，初始为空；\n",
    "> - 向量子线路中添加量子门的方法有几种：\n",
    ">   - `circ += X.on(0)`：添加一个作用在 `q0` 上的 X 门；\n",
    ">   - `circ.x(0)`：添加一个作用在 `q0` 上的 X 门；\n",
    ">   - `circ.append(X.on(0))`：添加一个作用在 `q0` 上的 X 门；\n",
    ">   - `circ += Circuit([X.on(0), X.on(1)])`：在 `circ` 后面拼接一个新的量子线路；\n",
    ">   - `circ.extend([X.on(0), X.on(1)]`：在 `circ` 后面按找 `list` 的顺序添加量子门"
   ]
  },
  {
   "cell_type": "markdown",
   "metadata": {},
   "source": [
    "下面的代码演示了 MindQuantum 中对量子线路添加量子门的几种方法："
   ]
  },
  {
   "cell_type": "code",
   "execution_count": 4,
   "metadata": {},
   "outputs": [
    {
     "data": {
      "image/svg+xml": "<div class=\"nb-html-output output_area\"><svg xmlns=\"http://www.w3.org/2000/svg\" width=\"396.8\" height=\"140.0\" xmlns:xlink=\"http://www.w3.org/1999/xlink\">\n<rect x=\"0\" y=\"0.0\" width=\"396.8\" height=\"140.0\" fill=\"#ffffff\" />\n<text x=\"20.0\" y=\"40.0\" font-size=\"16px\" dominant-baseline=\"middle\" text-anchor=\"start\" font-family=\"Arial\" font-weight=\"normal\" fill=\"#252b3a\" >\nq0:\n </text>\n<text x=\"20.0\" y=\"100.0\" font-size=\"16px\" dominant-baseline=\"middle\" text-anchor=\"start\" font-family=\"Arial\" font-weight=\"normal\" fill=\"#252b3a\" >\nq1:\n </text>\n<line x1=\"48.8\" x2=\"376.8\" y1=\"40.0\" y2=\"40.0\" stroke=\"#adb0b8\" stroke-width=\"1\" />\n<line x1=\"48.8\" x2=\"376.8\" y1=\"100.0\" y2=\"100.0\" stroke=\"#adb0b8\" stroke-width=\"1\" />\n\n<rect x=\"72.8\" y=\"20.0\" width=\"40.0\" height=\"40\" rx=\"4\" ry=\"4\" stroke=\"#ffffff\" stroke-width=\"0\" fill=\"#5e7ce0\" fill-opacity=\"1\" />\n<text x=\"92.8\" y=\"40.0\" font-size=\"20px\" dominant-baseline=\"middle\" text-anchor=\"middle\" font-family=\"Arial\" font-weight=\"normal\" fill=\"#ffffff\" >\nX\n </text>\n\n\n<rect x=\"132.8\" y=\"20.0\" width=\"40.0\" height=\"40\" rx=\"4\" ry=\"4\" stroke=\"#ffffff\" stroke-width=\"0\" fill=\"#5e7ce0\" fill-opacity=\"1\" />\n<text x=\"152.8\" y=\"40.0\" font-size=\"20px\" dominant-baseline=\"middle\" text-anchor=\"middle\" font-family=\"Arial\" font-weight=\"normal\" fill=\"#ffffff\" >\nH\n </text>\n\n\n<rect x=\"72.8\" y=\"80.0\" width=\"40.0\" height=\"40\" rx=\"4\" ry=\"4\" stroke=\"#ffffff\" stroke-width=\"0\" fill=\"#5e7ce0\" fill-opacity=\"1\" />\n<text x=\"92.8\" y=\"100.0\" font-size=\"20px\" dominant-baseline=\"middle\" text-anchor=\"middle\" font-family=\"Arial\" font-weight=\"normal\" fill=\"#ffffff\" >\nH\n </text>\n\n\n<rect x=\"132.8\" y=\"80.0\" width=\"40.0\" height=\"40\" rx=\"4\" ry=\"4\" stroke=\"#ffffff\" stroke-width=\"0\" fill=\"#5e7ce0\" fill-opacity=\"1\" />\n<text x=\"152.8\" y=\"100.0\" font-size=\"20px\" dominant-baseline=\"middle\" text-anchor=\"middle\" font-family=\"Arial\" font-weight=\"normal\" fill=\"#ffffff\" >\nY\n </text>\n\n\n<rect x=\"192.8\" y=\"20.0\" width=\"40.0\" height=\"40\" rx=\"4\" ry=\"4\" stroke=\"#ffffff\" stroke-width=\"0\" fill=\"#5e7ce0\" fill-opacity=\"1\" />\n<text x=\"212.8\" y=\"40.0\" font-size=\"20px\" dominant-baseline=\"middle\" text-anchor=\"middle\" font-family=\"Arial\" font-weight=\"normal\" fill=\"#ffffff\" >\nX\n </text>\n\n\n<rect x=\"192.8\" y=\"80.0\" width=\"40.0\" height=\"40\" rx=\"4\" ry=\"4\" stroke=\"#ffffff\" stroke-width=\"0\" fill=\"#5e7ce0\" fill-opacity=\"1\" />\n<text x=\"212.8\" y=\"100.0\" font-size=\"20px\" dominant-baseline=\"middle\" text-anchor=\"middle\" font-family=\"Arial\" font-weight=\"normal\" fill=\"#ffffff\" >\nH\n </text>\n\n\n<rect x=\"252.8\" y=\"80.0\" width=\"40.0\" height=\"40\" rx=\"4\" ry=\"4\" stroke=\"#ffffff\" stroke-width=\"0\" fill=\"#5e7ce0\" fill-opacity=\"1\" />\n<text x=\"272.8\" y=\"100.0\" font-size=\"20px\" dominant-baseline=\"middle\" text-anchor=\"middle\" font-family=\"Arial\" font-weight=\"normal\" fill=\"#ffffff\" >\nX\n </text>\n\n\n<rect x=\"312.8\" y=\"80.0\" width=\"40.0\" height=\"40\" rx=\"4\" ry=\"4\" stroke=\"#ffffff\" stroke-width=\"0\" fill=\"#5e7ce0\" fill-opacity=\"1\" />\n<text x=\"332.8\" y=\"100.0\" font-size=\"20px\" dominant-baseline=\"middle\" text-anchor=\"middle\" font-family=\"Arial\" font-weight=\"normal\" fill=\"#ffffff\" >\nY\n </text>\n\n</svg></div>",
      "text/plain": [
       "<mindquantum.io.display.circuit_svg_drawer.SVGCircuit at 0x7fc8f9159cd0>"
      ]
     },
     "execution_count": 4,
     "metadata": {},
     "output_type": "execute_result"
    }
   ],
   "source": [
    "from mindquantum.core.circuit import Circuit\n",
    "from mindquantum.core.gates import X, Y, H \n",
    "\n",
    "circ = Circuit()\n",
    "circ += X.on(0)\n",
    "circ.h(0).h(1)\n",
    "circ.append(Y.on(1))\n",
    "circ += Circuit([X.on(0), H.on(1)])\n",
    "circ.extend([X.on(1), Y.on(1)])\n",
    "circ.svg()"
   ]
  },
  {
   "cell_type": "code",
   "execution_count": 5,
   "metadata": {},
   "outputs": [
    {
     "data": {
      "text/html": [
       "\n",
       "<table border=\"1\">\n",
       "  <tr>\n",
       "    <th>Software</th>\n",
       "    <th>Version</th>\n",
       "  </tr>\n",
       "<tr><td>mindquantum</td><td>0.9.0</td></tr>\n",
       "<tr>\n",
       "    <th>System</th>\n",
       "    <th>Info</th>\n",
       "</tr>\n",
       "<tr><td>Python</td><td>3.8.13</td></tr><tr><td>OS</td><td>Darwin x86_64</td></tr><tr><td>Memory</td><td>34.36 GB</td></tr><tr><td>CPU Max Thread</td><td>16</td></tr><tr><td>Date</td><td>Wed Jun  7 20:31:46 2023</td></tr>\n",
       "</table>\n"
      ],
      "text/plain": [
       "<show_info.InfoTable at 0x7fc92878dac0>"
      ]
     },
     "execution_count": 5,
     "metadata": {},
     "output_type": "execute_result"
    }
   ],
   "source": [
    "from show_info import InfoTable\n",
    "\n",
    "InfoTable('mindquantum')"
   ]
  }
 ],
 "metadata": {
  "kernelspec": {
   "display_name": "Python 3.8.10 64-bit",
   "language": "python",
   "name": "python3"
  },
  "language_info": {
   "codemirror_mode": {
    "name": "ipython",
    "version": 3
   },
   "file_extension": ".py",
   "mimetype": "text/x-python",
   "name": "python",
   "nbconvert_exporter": "python",
   "pygments_lexer": "ipython3",
   "version": "3.8.13"
  },
  "vscode": {
   "interpreter": {
    "hash": "916dbcbb3f70747c44a77c7bcd40155683ae19c65e1c03b4aa3499c5328201f1"
   }
  }
 },
 "nbformat": 4,
 "nbformat_minor": 2
}
