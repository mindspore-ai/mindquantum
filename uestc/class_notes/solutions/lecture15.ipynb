{
 "cells": [
  {
   "cell_type": "markdown",
   "metadata": {},
   "source": [
    "# Exercise 1\n",
    "\n",
    "证明\n",
    "$$\n",
    "E\\left ( \\prod_{i=1}^n U_i, \\prod_{i=1}^n V_i \\right ) \\leq \\sum_{i=1}^n E(U_i, V_i)\n",
    "$$"
   ]
  },
  {
   "cell_type": "markdown",
   "metadata": {},
   "source": [
    "**Proof**\n",
    "\n",
    "$$\n",
    "\\begin{align*}\n",
    "E\\left ( \\prod_{i=1}^n U_i, \\prod_{i=1}^n V_i \\right ) \n",
    "& = E \\left ( U_1 \\prod_{i=2}^n U_i, V_1 \\prod_{i=2}^n V_i \\right ) \\\\\n",
    "& \\leq E(U_1, V_1) + E\\left ( \\prod_{i=2}^n U_i, \\prod_{i=2}^n V_i \\right ) \\\\\n",
    "& \\vdots \\\\\n",
    "& \\leq \\sum_{i=1}^n E(U_i, V_i)\n",
    "\\end{align*}\n",
    "$$"
   ]
  },
  {
   "cell_type": "markdown",
   "metadata": {},
   "source": [
    "# Exercise 2\n",
    "\n",
    "证明\n",
    "\n",
    "$$\n",
    "E(|\\psi\\rangle) = H\\left ( \\frac{1 + \\sqrt{1 - C^2}}{2}\\right )\n",
    "$$"
   ]
  },
  {
   "cell_type": "markdown",
   "metadata": {},
   "source": [
    "**Proof**\n",
    "\n",
    "设 $|\\psi\\rangle$ 的Schmidt分解为\n",
    "$$|\\psi\\rangle = \\sum_k \\sqrt{p_k} |i^A_k\\rangle |i^B_k\\rangle$$\n",
    "\n",
    "则\n",
    "$$\n",
    "\\begin{align*}\n",
    "\\rho_A & = \\sum_k p_k |i^A_k \\rangle \\langle i^A_k | \\\\\n",
    "\\rho_B & = \\sum_k p_k |i^B_k \\rangle \\langle i^B_k |\n",
    "\\end{align*}\n",
    "$$\n",
    "\n",
    "因此纠缠熵计算结果为\n",
    "$$\n",
    "E = -p_1 \\log_2 p_1 - p_2 \\log_2 p_2\n",
    "$$\n",
    "其中 $p_1, p_2$ 是 $\\rho_A, \\rho_B$ 的两个特征值。\n",
    "\n",
    "对比等式右边\n",
    "$$\n",
    "\\begin{align*}\n",
    "H\\left ( \\frac{1 + \\sqrt{1 - C^2}}{2}\\right )\n",
    "& = - \\frac{1 + \\sqrt{1 - C^2}}{2} \\log_2 \\frac{1 + \\sqrt{1 - C^2}}{2} - \\frac{1 - \\sqrt{1 - C^2}}{2} \\log_2 \\frac{1 - \\sqrt{1 - C^2}}{2} \\\\\n",
    "\\end{align*}\n",
    "$$\n",
    "只需要证明 $\\frac{1 \\pm \\sqrt{1 - C^2}}{2}$ 是$\\rho_A, \\rho_B$ 的两个特征值。\n",
    "\n"
   ]
  },
  {
   "cell_type": "markdown",
   "metadata": {},
   "source": [
    "我们将 $|\\psi\\rangle$ 用Bell基表示：\n",
    "$$\n",
    "|\\psi\\rangle = \\sum_{xy} \\beta_{xy} |\\beta_{xy}\\rangle = \\sum_{xy} \\beta_{xy} \\frac{|0, x\\rangle + (-1)^y |1, \\bar{x}\\rangle}{\\sqrt{2}}\n",
    "$$"
   ]
  },
  {
   "cell_type": "markdown",
   "metadata": {},
   "source": [
    "计算密度矩阵\n",
    "$$ \n",
    "\\rho = \\sum_{x,y,a,b} \\frac{\\beta_{xy} \\beta_{ab}^\\star }{2} \n",
    "\\left(\n",
    "|0, x \\rangle \\langle 0, a | + \n",
    "(-1)^b |0, x \\rangle \\langle 1, \\bar{a} | + \n",
    "(-1)^y |1, \\bar{x} \\rangle \\langle 0, a | + \n",
    "(-1)^{y+b} |1, \\bar{x} \\rangle \\langle 1, \\bar{a} | \n",
    "\\right)\n",
    "$$\n",
    "\n",
    "则\n",
    "$$\n",
    "\\rho_B = \\sum_{x,y,a,b} \\frac{\\beta_{xy} \\beta_{ab}^\\star }{2}  \n",
    "\\big( |x \\rangle \\langle a | + (-1)^{y+b} |\\bar{x} \\rangle \\langle \\bar{a} | \\big) \n",
    "$$"
   ]
  },
  {
   "cell_type": "markdown",
   "metadata": {},
   "source": [
    "考虑计算第一部分\n",
    "\n",
    "$$\n",
    "\\begin{aligned}\n",
    "P_1 & = \\sum_{x,y,a,b} \\frac{\\beta_{xy} \\beta_{ab}^\\star }{2} |x \\rangle \\langle a | \\\\ \n",
    "& = \\sum_{x,a} |x \\rangle \\langle a | \\sum_y \\frac{\\beta_{xy}}{2} \\left ( \\beta_{aa}^\\star + \\beta_{a \\bar{a}}^\\star \\right ) \\\\ \n",
    "& = \\sum_{x,a} |x \\rangle \\langle a | \\frac{\\beta_{xx} + \\beta_{x \\bar{x}}}{\\sqrt{2}} \\left(\\frac{\\beta_{aa} + \\beta_{a\\bar{a}}}{\\sqrt{2}} \\right)^* \\\\ \n",
    "& = \\sum_{x,a} |x \\rangle \\langle a | A_x \\cdot A_a^\\star \\\\ \n",
    "\\end{aligned}\n",
    "$$"
   ]
  },
  {
   "cell_type": "markdown",
   "metadata": {},
   "source": [
    "同理可以计算出来第二部分\n",
    "$$\n",
    "P_2 = \\sum_{x,a} |x \\rangle \\langle a | (-1)^{x+a} B_{\\bar{x}} \\cdot B_{\\bar{a}}^\\star\n",
    "$$\n",
    "\n",
    "其中\n",
    "$$\n",
    "\\begin{aligned}\n",
    "A_x & \\equiv \\frac{\\beta_{xx} + \\beta_{x, \\bar{x}}}{\\sqrt{2}} \\\\\n",
    "B_x & \\equiv \\frac{\\beta_{xx} - \\beta_{x, \\bar{x}}}{\\sqrt{2}}\n",
    "\\end{aligned}\n",
    "$$\n",
    "\n",
    "因此\n",
    "$$\n",
    "\\begin{aligned} \n",
    "\\rho_B & = \\sum_{x,a} |x \\rangle \\langle a | \\left( A_x \\cdot A_{a}^\\star + (-1)^{x+a} B_{\\bar{x}} \\cdot B_{\\bar{a}}^\\star \\right) \\\\ \n",
    "& = \\begin{bmatrix} \n",
    "A_0 A_0^\\star + B_1 B_1^\\star & A_0 A_1^\\star - B_1 B_0^\\star \\\\ \n",
    "A_1 A_0^\\star - B_0 B_1^\\star & A_1 A_1^\\star + B_0 B_0^\\star \n",
    "\\end{bmatrix} \\\\ \n",
    "& = \\begin{bmatrix} A & B \\\\ C & D \\end{bmatrix} \n",
    "\\end{aligned} \n",
    "$$"
   ]
  },
  {
   "cell_type": "markdown",
   "metadata": {},
   "source": [
    "计算 $\\rho_B$ 的行列式\n",
    "$$\\begin{aligned} \n",
    "\\det \\rho_B & = AD - BC \\\\ \n",
    "& = |A_0 B_0|^2 + |A_1 B_1|^2 + 2 \\Re(A_0 B_0 A_1^\\star B_1^\\star) \\\\ \n",
    "& = |A_0 B_0 + A_1 B_1|^2 \\\\ \n",
    "& = \\frac{1}{4} |\\beta_{00}^2 - \\beta_{01}^2 - \\beta_{10}^2 + \\beta_{11}^2|^2 \n",
    "\\end{aligned}$$"
   ]
  },
  {
   "cell_type": "markdown",
   "metadata": {},
   "source": [
    "计算 $\\rho_B$ 的特征方程：\n",
    "$$\n",
    "\\begin{align*}\n",
    "0 & = \\det (\\rho_B - \\lambda I) \\\\\n",
    "& = (A - \\lambda)(D - \\lambda) - BC \\\\\n",
    "& = \\lambda^2 - tr(\\rho_B) \\lambda + \\det \\rho_B\n",
    "\\end{align*}\n",
    "$$\n",
    "\n",
    "方程的解为\n",
    "$$\n",
    "\\lambda_{1,2} = \\frac{1 \\pm \\sqrt{1 - 4\\det \\rho_B}}{2}\n",
    "$$"
   ]
  },
  {
   "cell_type": "markdown",
   "metadata": {},
   "source": [
    "最后，我们把Bell基换成magic基就行了\n",
    "\n",
    "$$\n",
    "\\begin{align*}\n",
    "|\\psi\\rangle \n",
    "& = \\beta_{00} \\frac{|00\\rangle + |11\\rangle}{\\sqrt{2}} \\quad & = \\alpha_{00} \\frac{|00\\rangle + |11\\rangle}{\\sqrt{2}} \\\\\n",
    "& + \\beta_{01} \\frac{|00\\rangle - |11\\rangle}{\\sqrt{2}} \\quad & + i\\alpha_{01} \\frac{|00\\rangle - |11\\rangle}{\\sqrt{2}} \\\\\n",
    "& + \\beta_{10} \\frac{|01\\rangle + |10\\rangle}{\\sqrt{2}} \\quad & + i\\alpha_{10} \\frac{|01\\rangle + |10\\rangle}{\\sqrt{2}} \\\\\n",
    "& + \\beta_{11} \\frac{|01\\rangle - |10\\rangle}{\\sqrt{2}} \\quad & + \\alpha_{11} \\frac{|01\\rangle - |10\\rangle}{\\sqrt{2}} \\\\\n",
    "\\end{align*}\n",
    "$$"
   ]
  },
  {
   "cell_type": "markdown",
   "metadata": {},
   "source": [
    "因此\n",
    "$$\n",
    "\\det \\rho_B = \\frac{1}{4} \\left|\\sum_k \\alpha_k^2 \\right|^2 = \\frac{1}{4} C^2\n",
    "$$\n",
    "\n",
    "证毕。"
   ]
  }
 ],
 "metadata": {
  "kernelspec": {
   "display_name": "Python 3.9.0 64-bit ('3.9.0')",
   "language": "python",
   "name": "python3"
  },
  "language_info": {
   "name": "python",
   "version": "3.9.0"
  },
  "orig_nbformat": 4,
  "vscode": {
   "interpreter": {
    "hash": "0ed0b97269d4f102e0624f582249018cd3d8c77b83fc4d003b4aaace9dedf79d"
   }
  }
 },
 "nbformat": 4,
 "nbformat_minor": 2
}
