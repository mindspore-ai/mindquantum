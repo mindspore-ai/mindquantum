{
 "cells": [
  {
   "cell_type": "markdown",
   "metadata": {},
   "source": [
    "# Exercise 1\n",
    "\n",
    "证明：\n",
    "$$\n",
    "E(R_n(\\theta_1), R_n(\\theta_2)) \\leq \\left| e^{i\\theta_1} - e^{i\\theta_2} \\right| \\leq |\\theta_1 - \\theta_2|\n",
    "$$"
   ]
  },
  {
   "cell_type": "markdown",
   "metadata": {},
   "source": [
    "**Proof:**\n",
    "\n",
    "我们知道对于任意旋转矩阵 $R_n(\\theta)$，一定可以写作\n",
    "$$\n",
    "R_n(\\theta) = |+\\rangle \\langle + |  + e^{i\\theta} |-\\rangle \\langle -|\n",
    "$$\n",
    "其中 $|+\\rangle, |-\\rangle$ 分别表示两个特征向量，也是 $\\vec{n}$ 穿过Bloch球面上的两点。"
   ]
  },
  {
   "cell_type": "markdown",
   "metadata": {},
   "source": [
    "那么 \n",
    "$$\n",
    "\\begin{align*}\n",
    "& \\left(R_n(\\theta_1) - R_n(\\theta_2)\\right) |\\psi\\rangle  \\\\\n",
    "= & (e^{i\\theta_1} - e^{i\\theta_2}) |-\\rangle \\langle -| (\\alpha|+\\rangle + \\beta |-\\rangle) \\\\\n",
    "= & (e^{i\\theta_1} - e^{i\\theta_2}) \\beta |-\\rangle\n",
    "\\end{align*}\n",
    "$$"
   ]
  },
  {
   "cell_type": "markdown",
   "metadata": {},
   "source": [
    "计算 $E$\n",
    "\n",
    "$$\n",
    "\\begin{align*}\n",
    "& E(R_n(\\theta_1), R_n(\\theta_2)) \\\\\n",
    "= & \\max_{|\\psi\\rangle} \\left\\Vert  \\left( R_n(\\theta_1) - R_n(\\theta_2) \\right) |\\psi\\rangle  \\right\\Vert \\\\\n",
    "= & \\max_{|\\psi\\rangle} \\left\\Vert \\beta (e^{i\\theta_1} - e^{i\\theta_2}) |-\\rangle  \\right\\Vert \\\\\n",
    "= & \\left| e^{i\\theta_1} - e^{i\\theta_2} \\right| \\\\\n",
    "= & |e^{i\\theta_1}| \\cdot |1 - e^{\\theta_2 - \\theta_1}| \\\\\n",
    "= & 2 \\sin{|\\theta_2 - \\theta_1| \\over 2} \\\\\n",
    "\\leq & |\\theta_2 - \\theta_1|\n",
    "\\end{align*}\n",
    "$$"
   ]
  }
 ],
 "metadata": {
  "kernelspec": {
   "display_name": "Python 3.9.0 64-bit ('3.9.0')",
   "language": "python",
   "name": "python3"
  },
  "language_info": {
   "name": "python",
   "version": "3.9.0"
  },
  "orig_nbformat": 4,
  "vscode": {
   "interpreter": {
    "hash": "0ed0b97269d4f102e0624f582249018cd3d8c77b83fc4d003b4aaace9dedf79d"
   }
  }
 },
 "nbformat": 4,
 "nbformat_minor": 2
}
