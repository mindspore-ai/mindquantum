{
 "cells": [
  {
   "cell_type": "markdown",
   "metadata": {},
   "source": [
    "![banner](https://mindspore.cn/static/img/logo_black.74c3909e.png)\n",
    "\n",
    "# 任意酉矩阵的门分解\n",
    "\n",
    "迄今为止，我们已经了解到，任意的量子计算可以看成作用在向量上的酉矩阵，我们还学习了许多单量子比特门和多量子比特门，我们也学习了一些非常基础的使用单量子门和双量子门的量子算法。更进一步，我们知道多量子比特门可以分解为单量子门和双量子门。\n",
    "\n",
    "那么对于作用在任意数目的量子比特上的任意量子门，是否可以将其分解为单量子门和双量子门呢？如果可以，那我们将所使用的这些门的集合（一些单量子门和双量子门）称之为**通用量子门**。\n",
    "\n",
    "首先我们需要定义任意量子门，简单起见，不妨设 $N$ 维向量空间的标准正交基为 $\\lbrace \\left|0\\right>, \\left|1\\right>, \\ldots, \\left|N-1\\right>\\rbrace$ ，那么作用在该空间上的任意量子门可以写作：\n",
    "$$\n",
    "U = \\left|\\psi_0\\right>\\left<0\\right| + \\left|\\psi_1\\right>\\left<1\\right| + \\cdots + \\left|\\psi_{N-1}\\right>\\left<N-1\\right|\n",
    "$$\n",
    "其中 $\\left|\\psi_k\\right>$ 形成一组单位正交基，$\\left<\\psi_i|\\psi_j\\right> = \\delta_{ij}$，换言之，$\\left|\\psi_k\\right>$ 就是问题的输入。"
   ]
  },
  {
   "cell_type": "markdown",
   "metadata": {},
   "source": [
    "# 将$U$分解为二级酉矩阵\n",
    "\n",
    "首先我们需要知道**二级酉矩阵**是什么东西，它是这么定义的：对于一个 $N$ 维单位阵 $I_N$，选择两个下标 $1 \\leq i < j \\leq N$ 和一个 $2\\times 2$ 的酉矩阵 $\\tilde{U}$，将 $I_N$ 中对应下标的位置替换成 $\\tilde{U}$。\n",
    "\n",
    "$$\n",
    "U = \\begin{bmatrix}\n",
    "1 & & & & & & \\\\\n",
    "  & \\ddots & & & & & \\\\\n",
    "  & & a & & b & & \\\\\n",
    "  & & & \\ddots & & & \\\\\n",
    "  & & c & & d & & \\\\\n",
    "  & & & & & \\ddots & \\\\\n",
    "  & & & & & & 1 \\\\\n",
    "\\end{bmatrix} \\quad \\text{where }\n",
    "\\tilde{U} = \\begin{bmatrix}\n",
    "a & b \\\\\n",
    "c & d\n",
    "\\end{bmatrix}\n",
    "$$"
   ]
  },
  {
   "cell_type": "markdown",
   "metadata": {},
   "source": [
    "如何将 $U$ 分解为一系列二级酉矩阵的乘积？具体的策略是一步步地将 $U$ 变换成单位阵。\n",
    "\n",
    "例如，我们想要找到另一个酉矩阵 $W_0$ （我们希望它有一个简单的结构）使得：\n",
    "\n",
    "$$ W_0^{-1} U = \\left| 0 \\right> \\left< 0 \\right| + | \\tilde{\\psi} _1 \\rangle \\langle 1 | + \\cdots + | \\tilde{\\psi} _{N-1} \\rangle \\langle N-1 | $$\n",
    "\n",
    "其中 $|\\tilde{\\psi}_k\\rangle \\equiv W_0 |\\psi_k\\rangle$ 。\n",
    "\n",
    "注意到，由于 $W_0$ 和 $U$ 都是酉矩阵，所以 $W_0^{-1}U$ 还是酉矩阵，根据酉矩阵的单位正交性（酉矩阵的每一行组成的向量单位正交，每一列组成的向量单位正交），对于 $k>0$ 有 $\\langle 0|\\tilde{\\psi}_k\\rangle = 0$ 。\n",
    "\n",
    "不断持续这一过程，我们得到：\n",
    "$$\n",
    "W_{N-2}^{-1} \\cdots W_{1}^{-1} W_0^{-1} U = |0\\rangle\\langle 0| + |1\\rangle\\langle 1| + \\cdots |N-1\\rangle \\langle N-1| = I\n",
    "$$\n",
    "因此，我们得到了 $U$ 的分解：\n",
    "$$\n",
    "U = W_0 W_1 \\cdots W_{N-2}\n",
    "$$"
   ]
  },
  {
   "cell_type": "markdown",
   "metadata": {},
   "source": [
    "下面我们将说明怎么用二级酉矩阵构造 $W_k$ 。\n",
    "\n",
    "对于矩阵的第一列 $|\\psi_0\\rangle$ \n",
    "$$\n",
    "U |0\\rangle = |\\psi_0\\rangle = a_0 |0\\rangle + a_1 |1\\rangle + \\cdots a_{N-1} |N-1\\rangle\n",
    "$$\n",
    "\n",
    "写成矩阵形式\n",
    "$$\n",
    "U = \\begin{bmatrix}\n",
    "a_0 & \\star & \\star & \\cdots & \\star \\\\\n",
    "a_1 & \\star & \\star & \\cdots & \\star \\\\\n",
    "a_2 & \\star & \\star & \\cdots & \\star \\\\\n",
    "\\vdots & \\vdots & \\vdots & \\ddots & \\vdots \\\\\n",
    "a_{N-1} & \\star & \\star & \\cdots & \\star\n",
    "\\end{bmatrix}\n",
    "$$"
   ]
  },
  {
   "cell_type": "markdown",
   "metadata": {},
   "source": [
    "我们选取 $W_0$ 使得它和 $U$ 对 $|0\\rangle$ 的作用效果相同，即 $W_0 |0\\rangle = U |0\\rangle = |\\psi_0\\rangle$ ，这样一来 $W_0^{-1} U |0\\rangle = |0\\rangle$ ， $W_0$ 的矩阵第一列和 $U$ 相同：\n",
    "$$\n",
    "W_0 = \\begin{bmatrix}\n",
    "a_0 & \\star & \\star & \\cdots & \\star \\\\\n",
    "a_1 & \\star & \\star & \\cdots & \\star \\\\\n",
    "a_2 & \\star & \\star & \\cdots & \\star \\\\\n",
    "\\vdots & \\vdots & \\vdots & \\ddots & \\vdots \\\\\n",
    "a_{N-1} & \\star & \\star & \\cdots & \\star\n",
    "\\end{bmatrix}\n",
    "$$\n",
    "\n",
    "我们可以把 $U$ 写作\n",
    "$$\n",
    "U = W_0 |0\\rangle \\langle 0| + |\\psi_1\\rangle\\langle 1| + \\cdots + |\\psi_{N-1}\\rangle \\langle N-1|\n",
    "$$\n",
    "\n",
    "因此\n",
    "$$\n",
    "W_0^{-1}U = |0\\rangle\\langle 0| + | \\tilde{\\psi} _1 \\rangle \\langle 1| + \\cdots | \\tilde{\\psi} _{N-1} \\rangle \\langle N-1|\n",
    "$$\n",
    "\n",
    "将 $W_0^{-1}U$ 记作新的 $U_1$ ：\n",
    "$$\n",
    "U_1 \\equiv W_0^{-1}U = \\begin{bmatrix}\n",
    "1 & 0 & 0 & \\cdots & 0 \\\\\n",
    "0 & * & * & \\cdots & * \\\\\n",
    "0 & * & * & \\cdots & * \\\\\n",
    "\\vdots & \\vdots & \\vdots & \\ddots & \\vdots \\\\\n",
    "0 & * & * & \\cdots & *\n",
    "\\end{bmatrix}\n",
    "$$"
   ]
  },
  {
   "cell_type": "markdown",
   "metadata": {},
   "source": [
    "因为我们只能使用二级酉矩阵来构造 $W_0$，下面直接给出构造：\n",
    "$$\n",
    "W_0 = \\omega_{N-2} \\omega_{N-3} \\cdots \\omega_1 \\omega_0\n",
    "$$\n",
    "\n",
    "其中\n",
    "\n",
    "$$\\begin{align*} \n",
    "\\omega_0 & = \\begin{bmatrix} \n",
    "a_0 & b_0^\\star & & & & \\\\ \n",
    "b_0 & -a_0^\\star & & & & \\\\ \n",
    "& & 1 & & & \\\\ \n",
    "& & & \\ddots & \\\\ \n",
    "& & & & 1 \n",
    "\\end{bmatrix} \\\\ \n",
    "& = (I - |0\\rangle \\langle 0| - |1\\rangle \\langle 1|) + a_0 |0\\rangle \\langle 0| + b_0 |1\\rangle \\langle 0| + b_0^\\star |0\\rangle \\langle 1| - a_0^\\star|1\\rangle \\langle 1| \n",
    "\\end{align*}$$\n",
    "\n",
    "其中 $|b_0|^2 = |a_1|^2 + |a_2|^2 + \\cdots |a_{N-1}|^2$ 。"
   ]
  },
  {
   "cell_type": "markdown",
   "metadata": {},
   "source": [
    "容易验证\n",
    "$$\n",
    "\\omega_0 |0\\rangle = a_0 |0\\rangle + b_0 |1\\rangle\n",
    "$$"
   ]
  },
  {
   "cell_type": "markdown",
   "metadata": {},
   "source": [
    "对于 $0 < k < N$，\n",
    "$$\n",
    "\\begin{align*}\n",
    "\\omega_k & = \\begin{bmatrix}\n",
    "1 & & & & & \\\\\n",
    "& \\ddots & & & & \\\\\n",
    "& & \\frac{a_k}{b_{k-1}} & \\left(\\frac{b_k}{b_{k-1}}\\right)^* & & \\\\\n",
    "& & \\frac{b_k}{b_{k-1}} & -\\left(\\frac{a_k}{b_{k-1}}\\right)^* & & \\\\\n",
    "& & & & \\ddots & \\\\\n",
    "& & & & & 1\n",
    "\\end{bmatrix} \\\\\n",
    "& = \\left(I - |k\\rangle\\langle k| - |k+1\\rangle\\langle k+1|\\right) \\\\\n",
    "& + \\frac{a_k}{b_{k-1}}|k\\rangle\\langle k| + \\frac{b_k}{b_{k-1}}|k+1\\rangle\\langle k| \\\\\n",
    "& + \\left(\\frac{b_k}{b_{k-1}}\\right)^* |k\\rangle\\langle k+1| - \\left(\\frac{a_k}{b_{k-1}}\\right)^* |k+1\\rangle\\langle k+1|\n",
    "\\end{align*}\n",
    "$$"
   ]
  },
  {
   "cell_type": "markdown",
   "metadata": {},
   "source": [
    "其中 $|b_k|^2 = |a_{k+1}|^2 + \\cdots |a_{N-1}|^2$ 。\n",
    "\n",
    "容易验证对于 $0 \\leq k < N$ 有\n",
    "$$\n",
    "\\omega_k \\omega_{k-1} \\cdots \\omega_1 \\omega_0 |0\\rangle = \n",
    "a_0 |0\\rangle + a_1 |1\\rangle + \\cdots + a_{k} |k\\rangle + b_{k} |k+1\\rangle\n",
    "$$\n",
    "\n",
    "因此\n",
    "$$\n",
    "W_0 |0\\rangle = \\omega_{N-2} \\cdots \\omega_1 \\omega_0 |0\\rangle = |\\psi_0\\rangle\n",
    "$$"
   ]
  },
  {
   "cell_type": "markdown",
   "metadata": {},
   "source": [
    "# 另一种方法\n",
    "\n",
    "下面介绍另一种分解为二级酉矩阵的方法，该方法使用类似于「高斯消元」的思想。\n",
    "\n",
    "下面以 $3\\times 3$ 的矩阵为例，对于任意 $3\\times 3$ 的酉矩阵 $U$，可以写作\n",
    "$$\n",
    "U = \\begin{bmatrix}\n",
    "a & d & g \\\\\n",
    "b & e & h \\\\\n",
    "c & f & j\n",
    "\\end{bmatrix}\n",
    "$$\n",
    "\n",
    "我们要找到一系列二级酉矩阵 $U_1, \\ldots , U_3$ 使得\n",
    "$$\n",
    "U_3 U_2 U_1 U = I\n",
    "$$\n",
    "那么我们就找到了分解\n",
    "$$\n",
    "U = U_1^\\dagger U_2^\\dagger U_3^\\dagger\n",
    "$$"
   ]
  },
  {
   "cell_type": "markdown",
   "metadata": {},
   "source": [
    "我们使用初等行变换，首先考虑削去 $b$：\n",
    "- 如果 $b=0$，那么令 $U_1 = I$;\n",
    "- 如果 $b \\neq 0$，那么令\n",
    "\n",
    "$$\n",
    "U_1 = \\begin{bmatrix}\n",
    "\\frac{a^\\star}{\\sqrt{|a|^2 + |b|^2}} & \\frac{b^\\star}{\\sqrt{|a|^2 + |b|^2}} & 0 \\\\\n",
    "\\frac{b}{\\sqrt{|a|^2 + |b|^2}} & \\frac{-a}{\\sqrt{|a|^2+ |b|^2}} & 0 \\\\\n",
    "0 & 0 & 1\n",
    "\\end{bmatrix}\n",
    "$$\n",
    "\n",
    "容易验证 $U_1$ 将削去 $b$，我们得到\n",
    "$$\n",
    "U_1 U = \\begin{bmatrix}\n",
    "a' & d' & g' \\\\\n",
    " 0 & e' & h' \\\\\n",
    "c' & f' & j'\n",
    "\\end{bmatrix}\n",
    "$$"
   ]
  },
  {
   "cell_type": "markdown",
   "metadata": {},
   "source": [
    "下面考虑削去 $c'$：\n",
    "- 如果 $c' = 0$，令 $U_2 = I$;\n",
    "- 如果 $c' \\neq 0$，令\n",
    "\n",
    "$$\n",
    "U_2 = \\begin{bmatrix}\n",
    "\\frac{{a'}^\\star}{\\sqrt{|a'|^2 + |c'|^2}} & 0 & \\frac{{c'}^\\star}{\\sqrt{|a'|^2 + |c'|^2}} \\\\\n",
    "0 & 1 & 0 \\\\\n",
    "\\frac{c'}{\\sqrt{|a'|^2 + |c'|^2}} & 0 & \\frac{-a'}{\\sqrt{|a'|^2 + |c'|^2}}\n",
    "\\end{bmatrix}\n",
    "$$\n",
    "\n",
    "削去后，矩阵为\n",
    "$$\n",
    "U_2 U_1 U = \\begin{bmatrix}\n",
    "a'' & d'' & g'' \\\\\n",
    " 0 & e'' & h'' \\\\\n",
    " 0 & f'' & j''\n",
    "\\end{bmatrix}\n",
    "$$\n",
    "因为结果依然为酉矩阵，所以每一行每一列都是单位向量，所以 $a'' = 1$，$d'' = g'' = 0$。\n",
    "\n",
    "我们令\n",
    "$$\n",
    "U' = U_2 U_1 U = \\begin{bmatrix}\n",
    " 1 & 0   & 0 \\\\\n",
    " 0 & e'' & h'' \\\\\n",
    " 0 & f'' & j''\n",
    "\\end{bmatrix}\n",
    "$$\n",
    "继续上述过程，直至变成单位阵为止。"
   ]
  },
  {
   "cell_type": "markdown",
   "metadata": {},
   "source": [
    "综上所述，对于任意 $N\\times N$ 的酉矩阵，存在一种将其分解为 $O(N^2)$ 个二级酉矩阵的分解。"
   ]
  },
  {
   "cell_type": "code",
   "execution_count": 9,
   "metadata": {},
   "outputs": [
    {
     "name": "stdout",
     "output_type": "stream",
     "text": [
      "True\n",
      "True\n"
     ]
    }
   ],
   "source": [
    "from copy import deepcopy\n",
    "import numpy as np\n",
    "\n",
    "def decompose(u):\n",
    "    n = u.shape[0]\n",
    "    arr = []\n",
    "    for j in range(n-1):\n",
    "        for i in range(j+1, n):\n",
    "            w = np.identity(n, dtype=np.complex128)\n",
    "            if np.allclose(u[i, j], 0):\n",
    "                arr.append(w)\n",
    "            else:\n",
    "                a = u[j, j]\n",
    "                b = u[i, j]\n",
    "                c = np.sqrt(np.abs(a)**2 + np.abs(b)**2)\n",
    "                w[j, j] = a.conj() / c\n",
    "                w[j, i] = b.conj() / c\n",
    "                w[i, j] = b / c\n",
    "                w[i, i] = -a / c\n",
    "                arr.append(w)\n",
    "            u = w @ u\n",
    "    w = u.T.conj()\n",
    "    arr.append(w)\n",
    "    u = w @ u\n",
    "    print(np.allclose(u, np.identity(n)))\n",
    "    return arr\n",
    "\n",
    "u = np.array([[1, 1, 1, 1],\n",
    "              [1, 1j, -1, -1j],\n",
    "              [1, -1, 1, -1],\n",
    "              [1, -1j, -1, 1j]]) / 2\n",
    "u0 = deepcopy(u)\n",
    "arr = decompose(u)\n",
    "v = np.identity(u.shape[0])\n",
    "for a in arr:\n",
    "    v = v @ a.T.conj()\n",
    "print(np.allclose(v, u0))"
   ]
  },
  {
   "cell_type": "code",
   "execution_count": 1,
   "metadata": {},
   "outputs": [
    {
     "data": {
      "text/html": [
       "\n",
       "<table border=\"1\">\n",
       "  <tr>\n",
       "    <th>Software</th>\n",
       "    <th>Version</th>\n",
       "  </tr>\n",
       "<tr><td>mindquantum</td><td>0.7.0</td></tr>\n",
       "<tr><td>numpy</td><td>1.20.0</td></tr>\n",
       "<tr>\n",
       "    <th>System</th>\n",
       "    <th>Info</th>\n",
       "</tr>\n",
       "<tr><td>Python</td><td>3.9.7</td></tr><tr><td>OS</td><td>Linux x86_64</td></tr><tr><td>Memory</td><td>16.72 GB</td></tr><tr><td>CPU Max Thread</td><td>8</td></tr><tr><td>Date</td><td>Tue Nov 29 14:17:13 2022</td></tr>\n",
       "</table>\n"
      ],
      "text/plain": [
       "<show_info.InfoTable at 0x7f02e826f850>"
      ]
     },
     "execution_count": 1,
     "metadata": {},
     "output_type": "execute_result"
    }
   ],
   "source": [
    "from show_info import InfoTable\n",
    "\n",
    "InfoTable('mindquantum', 'numpy')"
   ]
  },
  {
   "cell_type": "markdown",
   "metadata": {},
   "source": [
    "# 习题\n",
    "\n",
    "## Exercise 1\n",
    "\n",
    "尝试将下面的 $U$ 分解为二级酉矩阵的乘积。\n",
    "\n",
    "$$\n",
    "U = \\frac{1}{2}\\begin{bmatrix}\n",
    "1 & 1 & 1 & 1 \\\\\n",
    "1 & i & -1 & -i \\\\\n",
    "1 & -1 & 1 & -1 \\\\\n",
    "1 & -i & -1 & i\n",
    "\\end{bmatrix}\n",
    "$$"
   ]
  }
 ],
 "metadata": {
  "kernelspec": {
   "display_name": "Python 3 (ipykernel)",
   "language": "python",
   "name": "python3"
  },
  "language_info": {
   "codemirror_mode": {
    "name": "ipython",
    "version": 3
   },
   "file_extension": ".py",
   "mimetype": "text/x-python",
   "name": "python",
   "nbconvert_exporter": "python",
   "pygments_lexer": "ipython3",
   "version": "3.9.7"
  },
  "vscode": {
   "interpreter": {
    "hash": "0ed0b97269d4f102e0624f582249018cd3d8c77b83fc4d003b4aaace9dedf79d"
   }
  }
 },
 "nbformat": 4,
 "nbformat_minor": 2
}
