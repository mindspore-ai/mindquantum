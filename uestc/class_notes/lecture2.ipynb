{
 "cells": [
  {
   "cell_type": "markdown",
   "metadata": {},
   "source": [
    "![banner](https://mindspore.cn/static/img/logo_black.74c3909e.png)\n",
    "\n",
    "# 多量子比特\n",
    "\n",
    "二量子比特的标准基：\n",
    "$$|00\\rangle,|01\\rangle,|10\\rangle,|11\\rangle$$\n",
    "其中 $|00\\rangle \\equiv |0\\rangle|0\\rangle \\equiv |0\\rangle \\otimes |0\\rangle$ 。\n",
    "\n",
    "> 不像单量子比特对应Bloch球面上的一点，多量子比特并没有一种简单的几何图景。\n",
    "\n",
    "对于任意矩阵 $X\\in \\mathbb{C}^{m\\times n}, Y\\in \\mathbb{C}^{p\\times q}$，张量积（Kronecker积）定义为\n",
    "$$\n",
    "X\\otimes Y \\equiv\n",
    "\\begin{pmatrix}\n",
    "x_{11}Y & x_{12}Y & \\cdots & x_{1n}Y \\\\\n",
    "x_{21}Y & x_{22}Y & \\cdots & x_{2n}Y \\\\\n",
    "\\vdots  & \\vdots  & \\ddots & \\vdots  \\\\\n",
    "x_{m1}Y & x_{m2}Y & \\cdots & x_{mn}Y\n",
    "\\end{pmatrix} \n",
    "\\in \\mathbb{C}^{(mp)\\times (nq)}\n",
    "$$\n",
    "\n",
    "因此二量子比特的标准基的矩阵表示如下：\n",
    "\n",
    "$$\\begin{align*}|0\\rangle \\otimes |0\\rangle \\equiv \\begin{pmatrix}1 \\\\ 0 \\end{pmatrix} \\otimes \\begin{pmatrix}1 \\\\ 0 \\end{pmatrix} \\equiv \\begin{pmatrix} 1 \\begin{pmatrix} 1 \\\\ 0 \\end{pmatrix} \\\\ 0 \\begin{pmatrix} 1 \\\\ 0 \\end{pmatrix} \\end{pmatrix} = \\begin{pmatrix} 1 \\\\ 0 \\\\ 0 \\\\ 0 \\end{pmatrix} \\\\ |0\\rangle \\otimes |1\\rangle  \\equiv  \\begin{pmatrix} 1 \\\\ 0 \\end{pmatrix} \\otimes \\begin{pmatrix} 0 \\\\ 1 \\end{pmatrix} \\equiv \\begin{pmatrix} 1 \\begin{pmatrix} 0 \\\\ 1 \\end{pmatrix} \\\\ 0 \\begin{pmatrix} 0 \\\\ 1 \\end{pmatrix} \\end{pmatrix} = \\begin{pmatrix} 0 \\\\ 1 \\\\ 0 \\\\ 0 \\end{pmatrix} \\\\ |1\\rangle \\otimes |0\\rangle  \\equiv  \\begin{pmatrix} 0 \\\\ 1 \\end{pmatrix} \\otimes \\begin{pmatrix} 1 \\\\ 0 \\end{pmatrix} \\equiv \\begin{pmatrix} 0 \\begin{pmatrix} 1 \\\\ 0 \\end{pmatrix} \\\\ 1 \\begin{pmatrix} 1 \\\\ 0 \\end{pmatrix} \\end{pmatrix} = \\begin{pmatrix} 0 \\\\ 0 \\\\ 1 \\\\ 0 \\end{pmatrix} \\\\ |1\\rangle \\otimes |1\\rangle  \\equiv  \\begin{pmatrix} 0 \\\\ 1 \\end{pmatrix} \\otimes \\begin{pmatrix} 0 \\\\ 1 \\end{pmatrix} \\equiv \\begin{pmatrix} 0 \\begin{pmatrix} 0 \\\\ 1 \\end{pmatrix} \\\\ 1 \\begin{pmatrix} 0 \\\\ 1 \\end{pmatrix} \\end{pmatrix} = \\begin{pmatrix} 0 \\\\ 0 \\\\ 0 \\\\ 1 \\end{pmatrix} \\\\ \\end{align*} $$"
   ]
  },
  {
   "cell_type": "markdown",
   "metadata": {},
   "source": [
    "在mindquantum中，`sim.get_qs(True)` 可以返回量子态，并且用ket表示。\n",
    "\n",
    "> 需要注意的是，在mindquantum中，量子比特是按照从大到小的顺序排列的 $|q_n, q_{n-1}, \\ldots, q_1, q_0\\rangle$ 。"
   ]
  },
  {
   "cell_type": "code",
   "execution_count": 1,
   "metadata": {},
   "outputs": [
    {
     "name": "stdout",
     "output_type": "stream",
     "text": [
      "1¦00⟩ [1.+0.j 0.+0.j 0.+0.j 0.+0.j]\n",
      "1¦01⟩ [0.+0.j 1.+0.j 0.+0.j 0.+0.j]\n",
      "1¦10⟩ [0.+0.j 0.+0.j 1.+0.j 0.+0.j]\n",
      "1¦11⟩ [0.+0.j 0.+0.j 0.+0.j 1.+0.j]\n"
     ]
    }
   ],
   "source": [
    "from mindquantum.simulator import Simulator\n",
    "from mindquantum.core.gates import X\n",
    "\n",
    "sim = Simulator(\"mqvector\", 2)\n",
    "\n",
    "# |00⟩\n",
    "sim.reset()\n",
    "print(sim.get_qs(True), sim.get_qs())\n",
    "\n",
    "# |01⟩\n",
    "sim.reset()\n",
    "sim.apply_gate(X.on(0))\n",
    "print(sim.get_qs(True), sim.get_qs())\n",
    "\n",
    "# |10⟩\n",
    "sim.reset()\n",
    "sim.apply_gate(X.on(1))\n",
    "print(sim.get_qs(True), sim.get_qs())\n",
    "\n",
    "# |11⟩\n",
    "sim.reset()\n",
    "sim.apply_gate(X.on(0))\n",
    "sim.apply_gate(X.on(1))\n",
    "print(sim.get_qs(True), sim.get_qs())"
   ]
  },
  {
   "cell_type": "markdown",
   "metadata": {},
   "source": [
    "任意二量子比特可以写作\n",
    "$$|\\psi\\rangle = \\alpha_{00}|00\\rangle + \\alpha_{01}|01\\rangle\n",
    "+\\alpha_{10}|10\\rangle + \\alpha_{11}|11\\rangle$$\n",
    "其中 $|\\alpha_{00}|^2+|\\alpha_{01}|^2+|\\alpha_{10}|^2+|\\alpha_{11}|^2=1$ 。\n",
    "\n",
    "如果使用标准基进行测量，得到 $00$ 的概率是 $P(00) = |\\alpha_{00}|^2$ 。\n",
    "\n",
    "\n",
    "可以从二量子比特推广到任意数量的量子比特，则多比特量子态表示为：\n",
    "$$\n",
    "|\\psi_n \\rangle = \\sum_{x\\in[0,1]^n}c_{x_1 x_2 \\cdots x_n}|x_1 x_2 \\cdots x_n\\rangle = \\sum_{x\\in [0,1]^n} c_x|x\\rangle \\ ,\n",
    "$$\n",
    "其中 $\\sum_x |c_x|^2=1$。"
   ]
  },
  {
   "cell_type": "markdown",
   "metadata": {},
   "source": [
    "## 贝尔态\n",
    "\n",
    "两比特的最大纠缠态称为贝尔态（总共四种）：\n",
    "$$\n",
    "|\\psi_{Bell} \\rangle = \\frac{1}{\\sqrt{2}}(|00\\rangle + |11\\rangle)\n",
    "$$\n",
    "\n",
    "剩下三种贝尔态为\n",
    "$$\n",
    "\\frac{1}{\\sqrt{2}}(|00\\rangle - |11\\rangle),\\enspace\\frac{1}{\\sqrt{2}}(|01\\rangle + |10\\rangle),\\enspace \\frac{1}{\\sqrt{2}}(|01\\rangle - |10\\rangle)\n",
    "$$\n",
    "\n",
    "若想在MindQuantum中将模拟器的量子态设置为第一种贝尔态，则需要得知贝尔态的列向量：\n",
    "$$\n",
    "\\frac{1}{\\sqrt{2}}(|00\\rangle + |11\\rangle) = \\frac{1}{\\sqrt{2}}\\begin{pmatrix}\n",
    "1 \\\\ 0 \\\\ 0 \\\\ 1\n",
    "\\end{pmatrix}\n",
    "$$\n",
    "然后通过`set_qs`接口改变模拟器状态，该接口会自动将输入向量归一化，因此可以省略系数，如下所示："
   ]
  },
  {
   "cell_type": "code",
   "execution_count": 2,
   "metadata": {},
   "outputs": [
    {
     "name": "stdout",
     "output_type": "stream",
     "text": [
      "√2/2¦00⟩\n",
      "√2/2¦11⟩\n"
     ]
    }
   ],
   "source": [
    "from mindquantum.simulator import Simulator\n",
    "import numpy as np\n",
    "\n",
    "sim = Simulator('mqvector', 2)\n",
    "sim.set_qs(np.array([1, 0, 0, 1]))\n",
    "bell_state = sim.get_qs(ket=True)\n",
    "print(bell_state)"
   ]
  },
  {
   "cell_type": "markdown",
   "metadata": {},
   "source": [
    "## 部分测量\n",
    "\n",
    "如果我们只对第一个量子比特进行测量，我们会得到 $0$ 或者 $1$，假设测量结果是 $x$，此时第二个量子比特就会变成\n",
    "$$|\\psi_2\\rangle = \\frac{\\alpha_{x0}|0\\rangle + \\alpha_{x1}|1\\rangle}{\\sqrt{|\\alpha_{x0}|^2 + |\\alpha_{x1}|^2}}$$\n",
    "\n",
    "我们考虑一个特殊的例子\n",
    "$$|\\psi\\rangle = \\frac{|00\\rangle + |11\\rangle}{\\sqrt{2}}$$\n",
    "\n",
    "先对第一个量子比特进行测量，如果测量的结果是 0，那么第二个量子比特应该会变成 $|0\\rangle$；如果测量的结果是 1，第二个量子比特应该会变成 $|1\\rangle$。因此，如果再对第二个量子比特进行测量，测量结果将和第一次测量保持一致。"
   ]
  },
  {
   "cell_type": "code",
   "execution_count": 3,
   "metadata": {},
   "outputs": [
    {
     "name": "stdout",
     "output_type": "stream",
     "text": [
      "√2/2¦00⟩\n",
      "√2/2¦11⟩\n"
     ]
    },
    {
     "data": {
      "image/svg+xml": "<div class=\"nb-html-output output_area\"><svg xmlns=\"http://www.w3.org/2000/svg\" width=\"256.8\" height=\"140.0\" xmlns:xlink=\"http://www.w3.org/1999/xlink\">\n<rect x=\"0\" y=\"0.0\" width=\"256.8\" height=\"140.0\" fill=\"#ffffff\" />\n<text x=\"20.0\" y=\"40.0\" font-size=\"16px\" dominant-baseline=\"middle\" text-anchor=\"start\" font-family=\"Arial\" font-weight=\"normal\" fill=\"#252b3a\" >\nq0:\n </text>\n<text x=\"20.0\" y=\"100.0\" font-size=\"16px\" dominant-baseline=\"middle\" text-anchor=\"start\" font-family=\"Arial\" font-weight=\"normal\" fill=\"#252b3a\" >\nq1:\n </text>\n<line x1=\"48.8\" x2=\"236.8\" y1=\"40.0\" y2=\"40.0\" stroke=\"#adb0b8\" stroke-width=\"1\" />\n<line x1=\"48.8\" x2=\"236.8\" y1=\"100.0\" y2=\"100.0\" stroke=\"#adb0b8\" stroke-width=\"1\" />\n<rect x=\"72.8\" y=\"20.0\" width=\"40\" height=\"40\" rx=\"4\" ry=\"4\" stroke=\"#ffffff\" stroke-width=\"0\" fill=\"#ff7272\" fill-opacity=\"1\" />\n<circle cx=\"92.8\" cy=\"50.4\" r=\"1.6\" fill=\"#ffffff\" />\n<path d=\"M 80.0 50.4 A 12.8 12.8 0 0 1 105.6 50.4\" stroke=\"#ffffff\" stroke-width=\"2.4000000000000004\" fill-opacity=\"0\" />\n<path d=\"M 96.90184831748591 33.93539030917347 L 105.21569219381652 29.135390309173467 L 105.21569219381652 38.73539030917347 L 101.89015464328429 36.815390309173466 L 94.04707658144959 50.4 L 92.38430780618347 49.44 L 100.22738586801816 35.85539030917347 Z\" fill=\"#ffffff\" />\n<rect x=\"132.8\" y=\"20.0\" width=\"20\" height=\"100\" fill=\"gray\" fill-opacity=\"0.8\" />\n<rect x=\"172.8\" y=\"80.0\" width=\"40\" height=\"40\" rx=\"4\" ry=\"4\" stroke=\"#ffffff\" stroke-width=\"0\" fill=\"#ff7272\" fill-opacity=\"1\" />\n<circle cx=\"192.8\" cy=\"110.4\" r=\"1.6\" fill=\"#ffffff\" />\n<path d=\"M 180.0 110.4 A 12.8 12.8 0 0 1 205.60000000000002 110.4\" stroke=\"#ffffff\" stroke-width=\"2.4000000000000004\" fill-opacity=\"0\" />\n<path d=\"M 196.90184831748593 93.93539030917347 L 205.21569219381655 89.13539030917347 L 205.21569219381655 98.73539030917347 L 201.8901546432843 96.81539030917347 L 194.04707658144957 110.4 L 192.38430780618347 109.44 L 200.22738586801816 95.85539030917347 Z\" fill=\"#ffffff\" />\n</svg></div>"
     },
     "metadata": {},
     "output_type": "display_data"
    },
    {
     "data": {
      "image/svg+xml": "<div class=\"nb-html-output output_area\"><svg xmlns=\"http://www.w3.org/2000/svg\" width=\"408.4\" height=\"147.0\" xmlns:xlink=\"http://www.w3.org/1999/xlink\">\n<rect x=\"0\" y=\"0\" width=\"408.4\" height=\"147.0\" fill=\"#ffffff\" />\n<text x=\"10\" y=\"17.0\" font-size=\"14px\" dominant-baseline=\"middle\" text-anchor=\"start\" >\nShots:\n 1000\n </text>\n<text x=\"10\" y=\"31.0\" font-size=\"14px\" dominant-baseline=\"middle\" text-anchor=\"start\" >\nKeys: M1 M0\n </text>\n<line x1=\"38.4\" x2=\"398.4\" y1=\"62.0\" y2=\"62.0\" stroke=\"#adb0b8\" stroke-width=\"1\" />\n<line x1=\"38.4\" x2=\"38.4\" y1=\"55.0\" y2=\"62.0\" stroke=\"#adb0b8\" stroke-width=\"1\" />\n<text x=\"40.4\" y=\"60.0\" font-size=\"12px\" dominant-baseline=\"bottom\" text-anchor=\"start\" fill=\"#575d6c\" >\n0.0\n </text>\n<line x1=\"38.4\" x2=\"38.4\" y1=\"62.0\" y2=\"137.0\" stroke=\"#adb0b8\" stroke-width=\"1\" />\n<line x1=\"98.4\" x2=\"98.4\" y1=\"55.0\" y2=\"62.0\" stroke=\"#adb0b8\" stroke-width=\"1\" />\n<text x=\"100.4\" y=\"60.0\" font-size=\"12px\" dominant-baseline=\"bottom\" text-anchor=\"start\" fill=\"#575d6c\" >\n0.103\n </text>\n<line x1=\"98.4\" x2=\"98.4\" y1=\"62.0\" y2=\"137.0\" stroke=\"#dfe1e6\" stroke-width=\"1\" />\n<line x1=\"158.4\" x2=\"158.4\" y1=\"55.0\" y2=\"62.0\" stroke=\"#adb0b8\" stroke-width=\"1\" />\n<text x=\"160.4\" y=\"60.0\" font-size=\"12px\" dominant-baseline=\"bottom\" text-anchor=\"start\" fill=\"#575d6c\" >\n0.206\n </text>\n<line x1=\"158.4\" x2=\"158.4\" y1=\"62.0\" y2=\"137.0\" stroke=\"#dfe1e6\" stroke-width=\"1\" />\n<line x1=\"218.4\" x2=\"218.4\" y1=\"55.0\" y2=\"62.0\" stroke=\"#adb0b8\" stroke-width=\"1\" />\n<text x=\"220.4\" y=\"60.0\" font-size=\"12px\" dominant-baseline=\"bottom\" text-anchor=\"start\" fill=\"#575d6c\" >\n0.308\n </text>\n<line x1=\"218.4\" x2=\"218.4\" y1=\"62.0\" y2=\"137.0\" stroke=\"#dfe1e6\" stroke-width=\"1\" />\n<line x1=\"278.4\" x2=\"278.4\" y1=\"55.0\" y2=\"62.0\" stroke=\"#adb0b8\" stroke-width=\"1\" />\n<text x=\"280.4\" y=\"60.0\" font-size=\"12px\" dominant-baseline=\"bottom\" text-anchor=\"start\" fill=\"#575d6c\" >\n0.411\n </text>\n<line x1=\"278.4\" x2=\"278.4\" y1=\"62.0\" y2=\"137.0\" stroke=\"#dfe1e6\" stroke-width=\"1\" />\n<line x1=\"338.4\" x2=\"338.4\" y1=\"55.0\" y2=\"62.0\" stroke=\"#adb0b8\" stroke-width=\"1\" />\n<text x=\"340.4\" y=\"60.0\" font-size=\"12px\" dominant-baseline=\"bottom\" text-anchor=\"start\" fill=\"#575d6c\" >\n0.514\n </text>\n<line x1=\"338.4\" x2=\"338.4\" y1=\"62.0\" y2=\"137.0\" stroke=\"#dfe1e6\" stroke-width=\"1\" />\n<text x=\"29.4\" y=\"85.0\" font-size=\"12px\" dominant-baseline=\"middle\" text-anchor=\"end\" fill=\"#575d6c\" >\n00\n </text>\n<line x1=\"31.4\" x2=\"38.4\" y1=\"85.0\" y2=\"85.0\" stroke=\"#adb0b8\" stroke-width=\"1\" />\n<rect x=\"38.4\" y=\"73.0\" width=\"283.6575875486381\" height=\"24\" id=\"bar_0_1686141068174416000\" fill=\"#5e7ce0\" />\n<text x=\"332.0575875486381\" y=\"85.0\" font-size=\"14px\" dominant-baseline=\"middle\" text-anchor=\"start\" fill=\"#575d6c\" id=\"bar_text_0_1686141068174443000\" fill-opacity=\"0\" >\n486\n </text>\n<text x=\"29.4\" y=\"115.0\" font-size=\"12px\" dominant-baseline=\"middle\" text-anchor=\"end\" fill=\"#575d6c\" >\n11\n </text>\n<line x1=\"31.4\" x2=\"38.4\" y1=\"115.0\" y2=\"115.0\" stroke=\"#adb0b8\" stroke-width=\"1\" />\n<rect x=\"38.4\" y=\"103.0\" width=\"299.99999999999994\" height=\"24\" id=\"bar_1_1686141068174469000\" fill=\"#16acff\" />\n<text x=\"348.3999999999999\" y=\"115.0\" font-size=\"14px\" dominant-baseline=\"middle\" text-anchor=\"start\" fill=\"#575d6c\" id=\"bar_text_1_1686141068174494000\" fill-opacity=\"0\" >\n514\n </text>\n<animate xlink:href=\"#bar_0_1686141068174416000\" attributeName=\"width\" from=\"0\" to=\"283.6575875486381\" dur=\"0.3s\" calcMode=\"spline\" values=\"0; 283.6575875486381\" keyTimes=\"0; 1\" keySplines=\"0.42 0 1 0.8;\" fill=\"freeze\" />\n<animate xlink:href=\"#bar_1_1686141068174469000\" attributeName=\"width\" from=\"0\" to=\"299.99999999999994\" dur=\"0.3s\" calcMode=\"spline\" values=\"0; 299.99999999999994\" keyTimes=\"0; 1\" keySplines=\"0.42 0 1 0.8;\" fill=\"freeze\" />\n<animate xlink:href=\"#bar_1_1686141068174469000\" attributeName=\"fill\" from=\"#16acff\" to=\"#fac209\" dur=\"0.15s\" calcMode=\"spline\" values=\"#16acff; #fac209\" keyTimes=\"0; 1\" keySplines=\"0.42 0 1 0.8;\" fill=\"freeze\" begin=\"0.3s\" />\n<animate xlink:href=\"#bar_text_0_1686141068174443000\" attributeName=\"fill-opacity\" from=\"0\" to=\"1\" dur=\"0.15s\" calcMode=\"spline\" values=\"0; 1\" keyTimes=\"0; 1\" keySplines=\"0.42 0 1 0.8;\" fill=\"freeze\" begin=\"0.3s\" />\n<animate xlink:href=\"#bar_text_1_1686141068174494000\" attributeName=\"fill-opacity\" from=\"0\" to=\"1\" dur=\"0.15s\" calcMode=\"spline\" values=\"0; 1\" keyTimes=\"0; 1\" keySplines=\"0.42 0 1 0.8;\" fill=\"freeze\" begin=\"0.3s\" />\n<text x=\"206.7\" y=\"41.0\" font-size=\"14px\" dominant-baseline=\"middle\" text-anchor=\"middle\" >\nprobability\n </text>\n</svg></div>",
      "text/plain": [
       "<mindquantum.io.display.measure_res_svg_drawer.SVGMeasure at 0x7fb4f070abe0>"
      ]
     },
     "execution_count": 3,
     "metadata": {},
     "output_type": "execute_result"
    }
   ],
   "source": [
    "from mindquantum.simulator import Simulator\n",
    "from mindquantum.core.gates import X, CNOT, H, Measure, BarrierGate, BARRIER\n",
    "from mindquantum.core.circuit import Circuit\n",
    "from IPython.display import display_svg\n",
    "\n",
    "sim = Simulator(\"mqvector\", 2)\n",
    "\n",
    "sim.apply_gate(H.on(0))\n",
    "sim.apply_gate(CNOT.on(1, 0))\n",
    "print(sim.get_qs(True))\n",
    "\n",
    "circ = Circuit()\n",
    "circ += Measure(\"M0\").on(0)\n",
    "circ += BarrierGate(True)\n",
    "# circ += BARRIER\n",
    "circ += Measure(\"M1\").on(1)\n",
    "display_svg(circ.svg()) # 代码块内部调用 .svg() 要使用 display_svg\n",
    "\n",
    "res = sim.sampling(circuit=circ, shots=1000)\n",
    "res.svg() # jupyter notebook 代码块最后一行可以直接使用 .svg() 渲染"
   ]
  },
  {
   "cell_type": "markdown",
   "metadata": {},
   "source": [
    "> API 解释：\n",
    "> \n",
    "> - `BarrierGate(True)` 是一种特殊的门，本质上它什么计算都不做，只是在打印出线路时强制对齐，插入一个栅栏将左右分隔开，如果参数是 `True`，打印时打印出来，如果是 `False`，不打印出来（相当于插入 `BARRIER`）；\n",
    "> - 打印量子线路的方法：\n",
    ">   - `print(circ)`：将量子线路以字符串的形式输出；\n",
    ">   - `circ.svg()`：在 jupyter notebook 的环境中，MindQuantum 的很多类型都可以调用 `.svg()` 来实现更漂亮的输出，例如：`Circuit`、`MeasureResult` 等等。调用 `.svg()` 必需在代码块的末尾，如果想在代码块中间调用，需要使用 `IPython.display.display_svg` 函数。"
   ]
  },
  {
   "cell_type": "code",
   "execution_count": 4,
   "metadata": {},
   "outputs": [
    {
     "data": {
      "text/html": [
       "\n",
       "<table border=\"1\">\n",
       "  <tr>\n",
       "    <th>Software</th>\n",
       "    <th>Version</th>\n",
       "  </tr>\n",
       "<tr><td>mindquantum</td><td>0.9.0</td></tr>\n",
       "<tr><td>numpy</td><td>1.23.5</td></tr>\n",
       "<tr><td>matplotlib</td><td>3.6.2</td></tr>\n",
       "<tr>\n",
       "    <th>System</th>\n",
       "    <th>Info</th>\n",
       "</tr>\n",
       "<tr><td>Python</td><td>3.8.13</td></tr><tr><td>OS</td><td>Darwin x86_64</td></tr><tr><td>Memory</td><td>34.36 GB</td></tr><tr><td>CPU Max Thread</td><td>16</td></tr><tr><td>Date</td><td>Wed Jun  7 20:31:08 2023</td></tr>\n",
       "</table>\n"
      ],
      "text/plain": [
       "<show_info.InfoTable at 0x7fb4f070a790>"
      ]
     },
     "execution_count": 4,
     "metadata": {},
     "output_type": "execute_result"
    }
   ],
   "source": [
    "from show_info import InfoTable\n",
    "\n",
    "InfoTable('mindquantum', 'numpy', 'matplotlib')"
   ]
  },
  {
   "cell_type": "markdown",
   "metadata": {},
   "source": [
    "# 习题\n",
    "\n",
    "## Exercise 1\n",
    "\n",
    "对 $|\\psi\\rangle = \\frac{|01\\rangle - |10\\rangle}{\\sqrt{2}}$ 的两个比特进行测量。\n"
   ]
  },
  {
   "cell_type": "code",
   "execution_count": null,
   "metadata": {},
   "outputs": [],
   "source": []
  }
 ],
 "metadata": {
  "kernelspec": {
   "display_name": "Python 3.8.10 64-bit",
   "language": "python",
   "name": "python3"
  },
  "language_info": {
   "codemirror_mode": {
    "name": "ipython",
    "version": 3
   },
   "file_extension": ".py",
   "mimetype": "text/x-python",
   "name": "python",
   "nbconvert_exporter": "python",
   "pygments_lexer": "ipython3",
   "version": "3.8.13"
  },
  "vscode": {
   "interpreter": {
    "hash": "916dbcbb3f70747c44a77c7bcd40155683ae19c65e1c03b4aa3499c5328201f1"
   }
  }
 },
 "nbformat": 4,
 "nbformat_minor": 2
}
