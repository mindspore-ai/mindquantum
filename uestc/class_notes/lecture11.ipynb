{
 "cells": [
  {
   "cell_type": "markdown",
   "metadata": {},
   "source": [
    "![banner](https://mindspore.cn/static/img/logo_black.74c3909e.png)\n",
    "\n",
    "# 推迟测量原理（deferred measurement principle）\n",
    "\n",
    "从量子计算的角度来看，量子测量通常被认为是沿着计算基矢的投影测量。电路图中的测量动作可以表示如下：\n",
    "\n",
    "![Measurement](images/measurement.png)\n",
    "\n",
    "测量前的单行表示一个量子比特，测量后的双线表示经典比特。\n",
    "\n",
    "对于一个用量子电路来描述的量子计算过程，中间的测量步骤总可以找到一种等价的方式移到线路的末端，而不影响测量结果的概率分布。如果中间过程中的测量结果被用于该电路的某些阶段，则在推迟测量操作的时候，经典的条件运算可以被条件量子运算代替。\n",
    "\n",
    "以 Lecture 10 中量子隐形传态的电路为例：\n",
    "\n",
    "![quantum teleportation](images/quantum_teleportation_circuit.png)\n",
    "\n",
    "以下电路为应用推迟测量原理后的等价电路：\n",
    "\n",
    "![deferred measurement](images/deferred_measurement.png)\n",
    "\n",
    "在原本的电路中，测量前的量子态$|\\psi_2\\rangle$为\n",
    "\n",
    "$$\n",
    "|\\psi_2\\rangle = \\frac{1}{2}(|00\\rangle|\\psi\\rangle +|01\\rangle X|\\psi\\rangle + |10\\rangle Z|\\psi\\rangle + |11\\rangle ZX|\\psi\\rangle)\n",
    "$$\n",
    "\n",
    "改为执行受控操作后量子态变为\n",
    "\n",
    "$$\n",
    "|\\psi^{new}_2\\rangle = \\frac{1}{2}(|00\\rangle|\\psi\\rangle +|01\\rangle |\\psi\\rangle + |10\\rangle |\\psi\\rangle - |11\\rangle |\\psi\\rangle)\n",
    "$$\n",
    "\n",
    "此外，还存在着*隐式测量原理(implicit measurement)*，这意味着不需要测量最后的量子比特。\n",
    "\n",
    "用 MindQuantum 验证以上等价电路同样可以实现量子隐形传态："
   ]
  },
  {
   "cell_type": "code",
   "execution_count": 1,
   "metadata": {},
   "outputs": [
    {
     "name": "stdout",
     "output_type": "stream",
     "text": [
      "psi = [0.88347911 0.46847056]\n"
     ]
    },
    {
     "data": {
      "image/svg+xml": "<div class=\"nb-html-output output_area\"><svg xmlns=\"http://www.w3.org/2000/svg\" width=\"396.8\" height=\"200.0\" xmlns:xlink=\"http://www.w3.org/1999/xlink\">\n<rect x=\"0\" y=\"0.0\" width=\"396.8\" height=\"200.0\" fill=\"#ffffff\" />\n<text x=\"20.0\" y=\"40.0\" font-size=\"16px\" dominant-baseline=\"middle\" text-anchor=\"start\" font-family=\"Arial\" font-weight=\"normal\" fill=\"#252b3a\" >\nq0:\n </text>\n<text x=\"20.0\" y=\"100.0\" font-size=\"16px\" dominant-baseline=\"middle\" text-anchor=\"start\" font-family=\"Arial\" font-weight=\"normal\" fill=\"#252b3a\" >\nq1:\n </text>\n<text x=\"20.0\" y=\"160.0\" font-size=\"16px\" dominant-baseline=\"middle\" text-anchor=\"start\" font-family=\"Arial\" font-weight=\"normal\" fill=\"#252b3a\" >\nq2:\n </text>\n<line x1=\"48.8\" x2=\"376.8\" y1=\"40.0\" y2=\"40.0\" stroke=\"#adb0b8\" stroke-width=\"1\" />\n<line x1=\"48.8\" x2=\"376.8\" y1=\"100.0\" y2=\"100.0\" stroke=\"#adb0b8\" stroke-width=\"1\" />\n<line x1=\"48.8\" x2=\"376.8\" y1=\"160.0\" y2=\"160.0\" stroke=\"#adb0b8\" stroke-width=\"1\" />\n<circle cx=\"92.8\" cy=\"40.0\" r=\"4\" fill=\"#16acff\" />\n<line x1=\"92.8\" x2=\"92.8\" y1=\"40.0\" y2=\"100.0\" stroke=\"#16acff\" stroke-width=\"3\" />\n<rect x=\"72.8\" y=\"80.0\" width=\"40\" height=\"40\" rx=\"4\" ry=\"4\" stroke=\"#ffffff\" stroke-width=\"0\" fill=\"#16acff\" fill-opacity=\"1\" />\n<line x1=\"78.8\" x2=\"106.8\" y1=\"100.0\" y2=\"100.0\" stroke=\"#ffffff\" stroke-width=\"4\" />\n<line x1=\"92.8\" x2=\"92.8\" y1=\"86.0\" y2=\"114.0\" stroke=\"#ffffff\" stroke-width=\"4\" />\n\n<rect x=\"132.8\" y=\"20.0\" width=\"40.0\" height=\"40\" rx=\"4\" ry=\"4\" stroke=\"#ffffff\" stroke-width=\"0\" fill=\"#5e7ce0\" fill-opacity=\"1\" />\n<text x=\"152.8\" y=\"40.0\" font-size=\"20px\" dominant-baseline=\"middle\" text-anchor=\"middle\" font-family=\"Arial\" font-weight=\"normal\" fill=\"#ffffff\" >\nH\n </text>\n\n<rect x=\"192.8\" y=\"20.0\" width=\"0\" height=\"160\" fill=\"gray\" fill-opacity=\"0.8\" />\n<circle cx=\"212.8\" cy=\"100.0\" r=\"4\" fill=\"#16acff\" />\n<line x1=\"212.8\" x2=\"212.8\" y1=\"100.0\" y2=\"160.0\" stroke=\"#16acff\" stroke-width=\"3\" />\n<rect x=\"192.8\" y=\"140.0\" width=\"40\" height=\"40\" rx=\"4\" ry=\"4\" stroke=\"#ffffff\" stroke-width=\"0\" fill=\"#16acff\" fill-opacity=\"1\" />\n<line x1=\"198.8\" x2=\"226.8\" y1=\"160.0\" y2=\"160.0\" stroke=\"#ffffff\" stroke-width=\"4\" />\n<line x1=\"212.8\" x2=\"212.8\" y1=\"146.0\" y2=\"174.0\" stroke=\"#ffffff\" stroke-width=\"4\" />\n<circle cx=\"272.8\" cy=\"40.0\" r=\"4\" fill=\"#5e7ce0\" />\n<line x1=\"272.8\" x2=\"272.8\" y1=\"40.0\" y2=\"160.0\" stroke=\"#5e7ce0\" stroke-width=\"3\" />\n<rect x=\"252.8\" y=\"140.0\" width=\"40.0\" height=\"40\" rx=\"4\" ry=\"4\" stroke=\"#ffffff\" stroke-width=\"0\" fill=\"#5e7ce0\" fill-opacity=\"1\" />\n<text x=\"272.8\" y=\"160.0\" font-size=\"20px\" dominant-baseline=\"middle\" text-anchor=\"middle\" font-family=\"Arial\" font-weight=\"normal\" fill=\"#ffffff\" >\nZ\n </text>\n\n<rect x=\"312.8\" y=\"20.0\" width=\"40\" height=\"40\" rx=\"4\" ry=\"4\" stroke=\"#ffffff\" stroke-width=\"0\" fill=\"#ff7272\" fill-opacity=\"1\" />\n<circle cx=\"332.8\" cy=\"50.4\" r=\"1.6\" fill=\"#ffffff\" />\n<path d=\"M 320.0 50.4 A 12.8 12.8 0 0 1 345.6 50.4\" stroke=\"#ffffff\" stroke-width=\"2.4000000000000004\" fill-opacity=\"0\" />\n<path d=\"M 336.9018483174859 33.93539030917347 L 345.21569219381655 29.135390309173467 L 345.21569219381655 38.73539030917347 L 341.8901546432843 36.815390309173466 L 334.04707658144963 50.4 L 332.3843078061835 49.44 L 340.2273858680182 35.85539030917347 Z\" fill=\"#ffffff\" />\n<rect x=\"312.8\" y=\"80.0\" width=\"40\" height=\"40\" rx=\"4\" ry=\"4\" stroke=\"#ffffff\" stroke-width=\"0\" fill=\"#ff7272\" fill-opacity=\"1\" />\n<circle cx=\"332.8\" cy=\"110.4\" r=\"1.6\" fill=\"#ffffff\" />\n<path d=\"M 320.0 110.4 A 12.8 12.8 0 0 1 345.6 110.4\" stroke=\"#ffffff\" stroke-width=\"2.4000000000000004\" fill-opacity=\"0\" />\n<path d=\"M 336.9018483174859 93.93539030917347 L 345.21569219381655 89.13539030917347 L 345.21569219381655 98.73539030917347 L 341.8901546432843 96.81539030917347 L 334.04707658144963 110.4 L 332.3843078061835 109.44 L 340.2273858680182 95.85539030917347 Z\" fill=\"#ffffff\" />\n</svg></div>",
      "text/plain": [
       "<mindquantum.io.display.circuit_svg_drawer.SVGCircuit at 0x7f8f49686bb0>"
      ]
     },
     "execution_count": 1,
     "metadata": {},
     "output_type": "execute_result"
    }
   ],
   "source": [
    "from mindquantum.core.gates import X, H, Z, Measure\n",
    "from mindquantum.core.circuit import Circuit\n",
    "from mindquantum.simulator import Simulator\n",
    "import numpy as np\n",
    "\n",
    "psi = np.random.rand(2)\n",
    "psi = psi / np.linalg.norm(psi)\n",
    "print(f\"psi = {psi}\")\n",
    "bell = np.array([1, 0, 0, 1]) / np.sqrt(2)\n",
    "init = np.kron(bell, psi)\n",
    "\n",
    "sim = Simulator(\"mqvector\", 3)\n",
    "sim.set_qs(init)\n",
    "\n",
    "circ = Circuit()\n",
    "circ += X.on(1, 0)\n",
    "circ += H.on(0)\n",
    "circ.barrier(False)\n",
    "circ += X.on(2, 1)\n",
    "circ += Z.on(2, 0)\n",
    "circ += Measure().on(0)\n",
    "circ += Measure().on(1)\n",
    "\n",
    "circ.svg()"
   ]
  },
  {
   "cell_type": "code",
   "execution_count": 2,
   "metadata": {},
   "outputs": [
    {
     "name": "stdout",
     "output_type": "stream",
     "text": [
      "0.8834791105646572¦010⟩\n",
      "0.4684705553136529¦110⟩\n"
     ]
    }
   ],
   "source": [
    "sim.apply_circuit(circ)\n",
    "print(sim.get_qs(ket=True))"
   ]
  },
  {
   "cell_type": "markdown",
   "metadata": {},
   "source": [
    "可以看到，q0的态$|\\psi\\rangle$已经成功地传送给q2。"
   ]
  },
  {
   "cell_type": "markdown",
   "metadata": {},
   "source": [
    "## 关于量子隐形传态的讨论\n",
    "\n",
    "回想一下，量子隐形传态的量子电路的主要部分实际上是贝尔态创建电路的逆过程，我们可以通过将贝尔态投影到前两个量子比特来得出相同的结果。明确地说，让我们考虑 00 的情况，可以写出\n",
    "\n",
    "$$\n",
    "|\\psi\\rangle|B_{00}\\rangle=\\frac{1}{\\sqrt{2}}(|\\psi,0\\rangle|0\\rangle+|\\psi,1\\rangle|1\\rangle)\n",
    "$$\n",
    "\n",
    "其中有$|\\psi\\rangle\\equiv \\alpha|0\\rangle+\\beta|1\\rangle$和$|\\psi,0\\rangle\\equiv|\\psi\\rangle|0\\rangle$。\n",
    "\n",
    "因此，用$|B_{00}\\rangle$投影后我们有\n",
    "\n",
    "$$\n",
    "\\frac{1}{\\sqrt{2}}(\\langle B_{00}|\\psi,0\\rangle|0\\rangle+\\langle B_{00}|\\psi,1\\rangle|1\\rangle)=\\frac{1}{2}(\\alpha|0\\rangle+\\beta|1\\rangle)=\\frac{1}{2}|\\psi\\rangle\n",
    "$$\n",
    "\n",
    "也可以尝试另外几种可能。\n",
    "\n",
    "# 不可克隆原理\n",
    "\n",
    "在经典世界中，经典信息可以被复制任意次数。\n",
    "$$\n",
    "0 \\rightarrow 00000000\\dots, 1 \\rightarrow 111111\\dots\n",
    "$$\n",
    "例如我们可以用CNOT实现经典克隆，对于$x\\in [0, 1]$，\n",
    "$$\n",
    "U_{CNOT}|x\\rangle|0\\rangle=|x\\rangle|x\\rangle\n",
    "$$\n",
    "关键是不可能对（**未知**）量子态进行这样的（**与状态无关的**）操作，即**完美**克隆$|\\psi\\rangle \\rightarrow |\\psi\\rangle|\\psi\\rangle|\\psi\\rangle|\\psi\\rangle|\\psi\\rangle\\dots$是被量子力学禁止的。\n",
    "\n",
    "例如，对于$|\\psi\\rangle\\equiv\\alpha|0\\rangle+\\beta|1\\rangle$，\n",
    "$$\n",
    "U_{CNOT}|\\psi\\rangle|0\\rangle=\\alpha|00\\rangle+\\beta|11\\rangle \\neq|\\psi\\rangle|\\psi\\rangle\n",
    "$$\n",
    "\n",
    "## 证明\n",
    "\n",
    "以下适用于任何规模的量子系统。\n",
    "\n",
    "- 假设存在这样的克隆机，即\n",
    "\n",
    "$$\n",
    "U_{clone}|\\psi\\rangle|0\\rangle=|\\psi\\rangle|\\psi\\rangle\n",
    "$$\n",
    "\n",
    "- 它应该适用于任何状态，因此\n",
    "\n",
    "$$\n",
    "U_{clone}|\\phi\\rangle|0\\rangle=|\\phi\\rangle|\\phi\\rangle\n",
    "$$\n",
    "\n",
    "- 当然，我们需要假定这样的操作是幺正的，这意味着\n",
    "\n",
    "$$\n",
    "\\langle\\psi|\\phi\\rangle=\\langle\\psi|\\langle 0|U^\\dagger_{clone}U_{clone}|\\phi\\rangle|0\\rangle=\\langle\\psi|\\phi\\rangle^2\n",
    "$$\n",
    "\n",
    "这就产生了矛盾。\n",
    "\n",
    "### 备选证明（基于线性）\n",
    "\n",
    "- 考虑量子比特$|\\psi\\rangle=\\alpha|0\\rangle+\\beta|1\\rangle$\n",
    "\n",
    "- 假设存在这样的克隆机，即\n",
    "\n",
    "$$\n",
    "U_{clone}|\\psi\\rangle|0\\rangle=|\\psi\\rangle|\\psi\\rangle\n",
    "$$\n",
    "\n",
    "- 还假设它是一个线性运算，即\n",
    "\n",
    "$$\n",
    "U_{clone}|\\psi\\rangle|0\\rangle = \\alpha U_{clone}|0\\rangle|0\\rangle+\\beta U_{clone}|1\\rangle|0\\rangle=\\alpha |0\\rangle|0\\rangle+\\beta|1\\rangle|1\\rangle\n",
    "$$\n",
    "\n",
    "这再次导致矛盾。\n",
    "\n",
    "# 通用量子门\n",
    "\n",
    "经典计算中存在着通用门，比如与非门。现在我们想找到量子计算的通用量子门集，且希望这些通用量子门作用的比特数尽可能少，这可能有许多不同的选择。\n",
    "\n",
    "作为一个例子，我们会对这样的集合感兴趣：\n",
    "\n",
    "$$\n",
    "G= \\{ U_{CNOT}, R_z(\\theta),R_y(\\phi)\\}\n",
    "$$"
   ]
  },
  {
   "cell_type": "code",
   "execution_count": 3,
   "metadata": {},
   "outputs": [
    {
     "data": {
      "text/html": [
       "\n",
       "<table border=\"1\">\n",
       "  <tr>\n",
       "    <th>Software</th>\n",
       "    <th>Version</th>\n",
       "  </tr>\n",
       "<tr><td>mindquantum</td><td>0.9.0</td></tr>\n",
       "<tr><td>numpy</td><td>1.23.5</td></tr>\n",
       "<tr>\n",
       "    <th>System</th>\n",
       "    <th>Info</th>\n",
       "</tr>\n",
       "<tr><td>Python</td><td>3.8.13</td></tr><tr><td>OS</td><td>Darwin x86_64</td></tr><tr><td>Memory</td><td>34.36 GB</td></tr><tr><td>CPU Max Thread</td><td>16</td></tr><tr><td>Date</td><td>Wed Jun  7 20:35:28 2023</td></tr>\n",
       "</table>\n"
      ],
      "text/plain": [
       "<show_info.InfoTable at 0x7f8f0844cf70>"
      ]
     },
     "execution_count": 3,
     "metadata": {},
     "output_type": "execute_result"
    }
   ],
   "source": [
    "from show_info import InfoTable\n",
    "\n",
    "InfoTable('mindquantum', 'numpy')"
   ]
  }
 ],
 "metadata": {
  "interpreter": {
   "hash": "aee8b7b246df8f9039afb4144a1f6fd8d2ca17a180786b69acc140d282b71a49"
  },
  "kernelspec": {
   "display_name": "Python 3 (ipykernel)",
   "language": "python",
   "name": "python3"
  },
  "language_info": {
   "codemirror_mode": {
    "name": "ipython",
    "version": 3
   },
   "file_extension": ".py",
   "mimetype": "text/x-python",
   "name": "python",
   "nbconvert_exporter": "python",
   "pygments_lexer": "ipython3",
   "version": "3.8.13"
  }
 },
 "nbformat": 4,
 "nbformat_minor": 2
}
