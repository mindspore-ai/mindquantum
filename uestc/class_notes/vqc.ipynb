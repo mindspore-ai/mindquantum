{
 "cells": [
  {
   "cell_type": "markdown",
   "metadata": {},
   "source": [
    "# Variational Quantum Circuit\n",
    "\n",
    "Variational quantum circuit （变分量子线路）是变分量子算法（VQA）和量子神经网络（QNN）的基础，本节将介绍变分量子线路的基本知识和构造方法。"
   ]
  },
  {
   "cell_type": "markdown",
   "metadata": {},
   "source": [
    "## 概述\n",
    "\n",
    "含参量子线路（Parameterized Quantum Circuit, PQC）即由含参数的量子门组成的量子线路，是进行量子机器学习的途径之一。在很多情况下，为了能与经典机器学习中神经网络进行类比，我们也经常会把含参量子线路称为量子神经网络。\n",
    "量子-经典混合计算架构MindQuantum能够处理此类含参量子线路，并利用量子神经网络的可逆性对该线路进行自动微分，最后通过测量得到的观测值，即可计算出观测值对于各参数的导数。\n",
    "\n",
    "构建PQC并用PQC模拟器算子对量子线路进行演化的大致流程如下：\n",
    "\n",
    "- **Step 1** ： 初始化量子线路；\n",
    "- **Step 2** ： 在量子线路中加入所需的含参量子门或者不含参量子门；\n",
    "- **Step 3** ： 利用PQC模拟器算子进行态演化或者梯度求解。"
   ]
  },
  {
   "cell_type": "markdown",
   "metadata": {},
   "source": [
    "## 含参量子门\n",
    "\n",
    "在之前的章节中我们已经学习过如何定义量子线路和量子门，除了 `X`、`Y`、`H` 这种不含参数的量子门，还包括 `RX`、`RY`、`RZ` 这种含参量子门。"
   ]
  },
  {
   "cell_type": "code",
   "execution_count": 2,
   "metadata": {},
   "outputs": [
    {
     "name": "stdout",
     "output_type": "stream",
     "text": [
      "===========Circuit Summary===========\n",
      "|Total number of gates  : 6.        |\n",
      "|Parameter gates        : 2.        |\n",
      "|with 2 parameters are  :           |\n",
      "|theta, phi                        .|\n",
      "|Number qubit of circuit: 2         |\n",
      "=====================================\n"
     ]
    },
    {
     "data": {
      "image/svg+xml": [
       "<div class=\"nb-html-output output_area\"><svg xmlns=\"http://www.w3.org/2000/svg\" width=\"316.8\" height=\"140\" xmlns:xlink=\"http://www.w3.org/1999/xlink\">\n",
       "<rect x=\"0\" y=\"0\" width=\"316.8\" height=\"140\" fill=\"#ffffff\" />\n",
       "<text x=\"20.0\" y=\"40.0\" font-size=\"16px\" dominant-baseline=\"middle\" text-anchor=\"start\" font-family=\"Arial\" font-weight=\"normal\" fill=\"#252b3a\" >\n",
       "q0:\n",
       " </text>\n",
       "<text x=\"20.0\" y=\"100.0\" font-size=\"16px\" dominant-baseline=\"middle\" text-anchor=\"start\" font-family=\"Arial\" font-weight=\"normal\" fill=\"#252b3a\" >\n",
       "q1:\n",
       " </text>\n",
       "<line x1=\"48.8\" x2=\"296.8\" y1=\"40.0\" y2=\"40.0\" stroke=\"#adb0b8\" stroke-width=\"1\" />\n",
       "<line x1=\"48.8\" x2=\"296.8\" y1=\"100.0\" y2=\"100.0\" stroke=\"#adb0b8\" stroke-width=\"1\" />\n",
       "\n",
       "<rect x=\"72.8\" y=\"20.0\" width=\"40.0\" height=\"40\" rx=\"4\" ry=\"4\" stroke=\"#ffffff\" stroke-width=\"0\" fill=\"#5e7ce0\" fill-opacity=\"1\" />\n",
       "<text x=\"92.8\" y=\"40.0\" font-size=\"20px\" dominant-baseline=\"middle\" text-anchor=\"middle\" font-family=\"Arial\" font-weight=\"normal\" fill=\"#ffffff\" >\n",
       "X\n",
       " </text>\n",
       "\n",
       "\n",
       "<rect x=\"72.8\" y=\"80.0\" width=\"40.0\" height=\"40\" rx=\"4\" ry=\"4\" stroke=\"#ffffff\" stroke-width=\"0\" fill=\"#5e7ce0\" fill-opacity=\"1\" />\n",
       "<text x=\"92.8\" y=\"100.0\" font-size=\"20px\" dominant-baseline=\"middle\" text-anchor=\"middle\" font-family=\"Arial\" font-weight=\"normal\" fill=\"#ffffff\" >\n",
       "Y\n",
       " </text>\n",
       "\n",
       "\n",
       "<rect x=\"132.8\" y=\"20.0\" width=\"40.0\" height=\"40\" rx=\"4\" ry=\"4\" stroke=\"#ffffff\" stroke-width=\"0\" fill=\"#5e7ce0\" fill-opacity=\"1\" />\n",
       "<text x=\"152.8\" y=\"40.0\" font-size=\"20px\" dominant-baseline=\"middle\" text-anchor=\"middle\" font-family=\"Arial\" font-weight=\"normal\" fill=\"#ffffff\" >\n",
       "H\n",
       " </text>\n",
       "\n",
       "\n",
       "<rect x=\"132.8\" y=\"80.0\" width=\"40.0\" height=\"40\" rx=\"4\" ry=\"4\" stroke=\"#ffffff\" stroke-width=\"0\" fill=\"#5e7ce0\" fill-opacity=\"1\" />\n",
       "<text x=\"152.8\" y=\"100.0\" font-size=\"20px\" dominant-baseline=\"middle\" text-anchor=\"middle\" font-family=\"Arial\" font-weight=\"normal\" fill=\"#ffffff\" >\n",
       "H\n",
       " </text>\n",
       "\n",
       "\n",
       "<rect x=\"192.8\" y=\"20.0\" width=\"80.0\" height=\"40\" rx=\"4\" ry=\"4\" stroke=\"#ffffff\" stroke-width=\"0\" fill=\"#fac209\" fill-opacity=\"1\" />\n",
       "<text x=\"232.8\" y=\"36.0\" font-size=\"20px\" dominant-baseline=\"middle\" text-anchor=\"middle\" font-family=\"Arial\" font-weight=\"normal\" fill=\"#ffffff\" >\n",
       "RX\n",
       " </text>\n",
       "<text x=\"232.8\" y=\"52.0\" font-size=\"14.0px\" dominant-baseline=\"middle\" text-anchor=\"middle\" font-family=\"Arial\" font-weight=\"normal\" fill=\"#ffffff\" >\n",
       "theta\n",
       " </text>\n",
       "\n",
       "\n",
       "<rect x=\"192.8\" y=\"80.0\" width=\"40.0\" height=\"40\" rx=\"4\" ry=\"4\" stroke=\"#ffffff\" stroke-width=\"0\" fill=\"#fac209\" fill-opacity=\"1\" />\n",
       "<text x=\"212.8\" y=\"96.0\" font-size=\"20px\" dominant-baseline=\"middle\" text-anchor=\"middle\" font-family=\"Arial\" font-weight=\"normal\" fill=\"#ffffff\" >\n",
       "RZ\n",
       " </text>\n",
       "<text x=\"212.8\" y=\"112.0\" font-size=\"14.0px\" dominant-baseline=\"middle\" text-anchor=\"middle\" font-family=\"Arial\" font-weight=\"normal\" fill=\"#ffffff\" >\n",
       "phi\n",
       " </text>\n",
       "\n",
       "</svg></div>"
      ],
      "text/plain": [
       "<mindquantum.io.display.circuit_svg_drawer.SVGCircuit at 0x7fde5a25d7c0>"
      ]
     },
     "execution_count": 2,
     "metadata": {},
     "output_type": "execute_result"
    }
   ],
   "source": [
    "from mindquantum.core.circuit import Circuit\n",
    "from mindquantum.core.gates import X, Y, H, RX, RY, RZ \n",
    "\n",
    "circ = Circuit()\n",
    "circ += X.on(0)\n",
    "circ += Y.on(1)\n",
    "circ += H.on(0)\n",
    "circ += H.on(1)\n",
    "\n",
    "circ += RX(\"theta\").on(0)\n",
    "circ += RZ(\"phi\").on(1)\n",
    "\n",
    "circ.summary()\n",
    "circ.svg()"
   ]
  },
  {
   "cell_type": "markdown",
   "metadata": {},
   "source": [
    "上述代码定义的量子线路 `circ` 包含 2 个参数门，参数是 `theta` 和 `phi`。通过传入具体的参数值，我们可以得到确定的量子线路："
   ]
  },
  {
   "cell_type": "code",
   "execution_count": 7,
   "metadata": {},
   "outputs": [
    {
     "data": {
      "image/svg+xml": [
       "<div class=\"nb-html-output output_area\"><svg xmlns=\"http://www.w3.org/2000/svg\" width=\"276.8\" height=\"140\" xmlns:xlink=\"http://www.w3.org/1999/xlink\">\n",
       "<rect x=\"0\" y=\"0\" width=\"276.8\" height=\"140\" fill=\"#ffffff\" />\n",
       "<text x=\"20.0\" y=\"40.0\" font-size=\"16px\" dominant-baseline=\"middle\" text-anchor=\"start\" font-family=\"Arial\" font-weight=\"normal\" fill=\"#252b3a\" >\n",
       "q0:\n",
       " </text>\n",
       "<text x=\"20.0\" y=\"100.0\" font-size=\"16px\" dominant-baseline=\"middle\" text-anchor=\"start\" font-family=\"Arial\" font-weight=\"normal\" fill=\"#252b3a\" >\n",
       "q1:\n",
       " </text>\n",
       "<line x1=\"48.8\" x2=\"256.8\" y1=\"40.0\" y2=\"40.0\" stroke=\"#adb0b8\" stroke-width=\"1\" />\n",
       "<line x1=\"48.8\" x2=\"256.8\" y1=\"100.0\" y2=\"100.0\" stroke=\"#adb0b8\" stroke-width=\"1\" />\n",
       "\n",
       "<rect x=\"72.8\" y=\"20.0\" width=\"40.0\" height=\"40\" rx=\"4\" ry=\"4\" stroke=\"#ffffff\" stroke-width=\"0\" fill=\"#5e7ce0\" fill-opacity=\"1\" />\n",
       "<text x=\"92.8\" y=\"40.0\" font-size=\"20px\" dominant-baseline=\"middle\" text-anchor=\"middle\" font-family=\"Arial\" font-weight=\"normal\" fill=\"#ffffff\" >\n",
       "X\n",
       " </text>\n",
       "\n",
       "\n",
       "<rect x=\"72.8\" y=\"80.0\" width=\"40.0\" height=\"40\" rx=\"4\" ry=\"4\" stroke=\"#ffffff\" stroke-width=\"0\" fill=\"#5e7ce0\" fill-opacity=\"1\" />\n",
       "<text x=\"92.8\" y=\"100.0\" font-size=\"20px\" dominant-baseline=\"middle\" text-anchor=\"middle\" font-family=\"Arial\" font-weight=\"normal\" fill=\"#ffffff\" >\n",
       "Y\n",
       " </text>\n",
       "\n",
       "\n",
       "<rect x=\"132.8\" y=\"20.0\" width=\"40.0\" height=\"40\" rx=\"4\" ry=\"4\" stroke=\"#ffffff\" stroke-width=\"0\" fill=\"#5e7ce0\" fill-opacity=\"1\" />\n",
       "<text x=\"152.8\" y=\"40.0\" font-size=\"20px\" dominant-baseline=\"middle\" text-anchor=\"middle\" font-family=\"Arial\" font-weight=\"normal\" fill=\"#ffffff\" >\n",
       "H\n",
       " </text>\n",
       "\n",
       "\n",
       "<rect x=\"132.8\" y=\"80.0\" width=\"40.0\" height=\"40\" rx=\"4\" ry=\"4\" stroke=\"#ffffff\" stroke-width=\"0\" fill=\"#5e7ce0\" fill-opacity=\"1\" />\n",
       "<text x=\"152.8\" y=\"100.0\" font-size=\"20px\" dominant-baseline=\"middle\" text-anchor=\"middle\" font-family=\"Arial\" font-weight=\"normal\" fill=\"#ffffff\" >\n",
       "H\n",
       " </text>\n",
       "\n",
       "\n",
       "<rect x=\"192.8\" y=\"20.0\" width=\"40.0\" height=\"40\" rx=\"4\" ry=\"4\" stroke=\"#ffffff\" stroke-width=\"0\" fill=\"#fac209\" fill-opacity=\"1\" />\n",
       "<text x=\"212.8\" y=\"36.0\" font-size=\"20px\" dominant-baseline=\"middle\" text-anchor=\"middle\" font-family=\"Arial\" font-weight=\"normal\" fill=\"#ffffff\" >\n",
       "RX\n",
       " </text>\n",
       "<text x=\"212.8\" y=\"52.0\" font-size=\"14.0px\" dominant-baseline=\"middle\" text-anchor=\"middle\" font-family=\"Arial\" font-weight=\"normal\" fill=\"#ffffff\" >\n",
       "0\n",
       " </text>\n",
       "\n",
       "\n",
       "<rect x=\"192.8\" y=\"80.0\" width=\"40.0\" height=\"40\" rx=\"4\" ry=\"4\" stroke=\"#ffffff\" stroke-width=\"0\" fill=\"#fac209\" fill-opacity=\"1\" />\n",
       "<text x=\"212.8\" y=\"96.0\" font-size=\"20px\" dominant-baseline=\"middle\" text-anchor=\"middle\" font-family=\"Arial\" font-weight=\"normal\" fill=\"#ffffff\" >\n",
       "RZ\n",
       " </text>\n",
       "<text x=\"212.8\" y=\"112.0\" font-size=\"14.0px\" dominant-baseline=\"middle\" text-anchor=\"middle\" font-family=\"Arial\" font-weight=\"normal\" fill=\"#ffffff\" >\n",
       "1\n",
       " </text>\n",
       "\n",
       "</svg></div>"
      ],
      "text/plain": [
       "<mindquantum.io.display.circuit_svg_drawer.SVGCircuit at 0x7fde5a264b20>"
      ]
     },
     "execution_count": 7,
     "metadata": {},
     "output_type": "execute_result"
    }
   ],
   "source": [
    "c0 = circ.apply_value({\"theta\": 0, \"phi\": 1})\n",
    "c0.svg()"
   ]
  },
  {
   "cell_type": "markdown",
   "metadata": {},
   "source": [
    "## 哈密顿量\n",
    "\n",
    "在量子计算中，哈密顿量 $H$ 是一个 Hermitian 的算子，即 $H^\\dagger = H$ 。求一个量子态 $|\\psi\\rangle$ 的哈密顿量 $H$ 就是计算内积\n",
    "$$\n",
    "\\langle \\psi | H | \\psi \\rangle\n",
    "$$\n",
    "\n",
    "在 MindQuantum 中，我们可以使用 [mindquantum.core.operators](https://www.mindspore.cn/mindquantum/docs/zh-CN/master/mindquantum.core.operators.html#mindquantum.core.operators.Hamiltonian) 中的 `Hamiltonian` 来定义一个哈密顿量。量子线路常用的哈密顿量使用泡利算符来定义，MindQuantum 使用 `QubitOperator` 来定义泡利算符。"
   ]
  },
  {
   "cell_type": "code",
   "execution_count": 9,
   "metadata": {},
   "outputs": [
    {
     "name": "stdout",
     "output_type": "stream",
     "text": [
      "operator = 1/2 [X0 Y1] +\n",
      "3/10 [Z0 X1] \n",
      "Hamiltonian = 1/2 [X0 Y1] +\n",
      "3/10 [Z0 X1] \n"
     ]
    }
   ],
   "source": [
    "from mindquantum.core.operators import Hamiltonian, QubitOperator\n",
    "\n",
    "op = QubitOperator(\"X0 Y1\", 0.5)\n",
    "op += 0.3 * QubitOperator(\"Z0 X1\")\n",
    "print(f\"operator = {op}\")\n",
    "\n",
    "ham = Hamiltonian(op)\n",
    "print(f\"Hamiltonian = {ham}\")"
   ]
  },
  {
   "cell_type": "markdown",
   "metadata": {},
   "source": [
    "在上述代码中，`QubitOperator(\"X0 Y1\", 0.5)` 定义了一个泡利算符 $0.5 X_0Y_1$ ，$X_0$ 表示对 $q_0$ 作用 $X$，$Y_1$ 表示对 $q_1$ 作用 $Y$，`0.5` 是系数。泡利算符可以使用 `+` 来组合，最后使用 `Hamiltonian` 来封装成哈密顿量。"
   ]
  },
  {
   "cell_type": "markdown",
   "metadata": {},
   "source": [
    "## 模拟器\n",
    "\n",
    "在 MindQuantum 模拟器相关的 API 在 [mindquantum.simulator](https://www.mindspore.cn/mindquantum/docs/zh-CN/master/mindquantum.simulator.html) 中。\n",
    "\n",
    "`Simulator` 接受三个参数：\n",
    "\n",
    "- `backend`：所用到的模拟器后端，最新版本的 `mindquantum` 支持 `projectq`、`mqvector` 和 `mqvector_gpu` 作为后端进行模拟。\n",
    "- `n_qbuits`：模拟器所用到的比特数，也就是这里的2。\n",
    "- `seed`：模拟器在运行随机性相关算法时的随机种子，默认为一个随机数，可以不用提供。\n",
    "\n",
    "MindQuantum 的模拟器是 little endian 的。这里 little endian 的意思是，整个模拟器中，我们都是将比特序号小的比特放在量子态矢量的右边 $|q_{n-1}q_{n-2}\\cdots q_1q_0\\rangle$。\n",
    "\n",
    "模拟器的量子态默认（初始化）处于零态 $|0\\rangle$。注意，量子模拟器始终会维护一个内部的量子态，当我们作用（`apply`）量子门或者量子线路到模拟器上时，这个量子态会随即发生改变，而当我们只是想获取（`get`）关于这个量子态的一些信息时，这个量子态则不会改变。这里就涉及到对量子模拟器的两类操作：\n",
    "\n",
    "- 会改变量子态的操作，通常以 `apply` 开头，主要有如下几个\n",
    "    - `apply_gate`: 作用一个量之门到模拟器上\n",
    "    - `apply_circuit`: 作用一个量子线路到模拟器上\n",
    "    - `apply_hamiltonian`: 将一个哈密顿量作用到模拟器上，注意，此后模拟器的量子态将不再是一个真的量子态\n",
    "    - `set_qs`: 直接设置模拟器的当前量子态\n",
    "    - `reset`: 重置模拟器的状态为 $|0\\rangle$ 态\n",
    "- 不会改变量子态的操作，通常以 `get` 开头，主要有如下几个\n",
    "    - `get_qs`: 获取模拟器的当前量子态\n",
    "    - `get_expectation`: 计算模拟器当前量子态关于某个哈密顿量的期望值\n",
    "    - `get_expectation_with_grad`: 跟上一个接口类似，只不过这个方法还会计算期望值关于参数化量子线路的梯度\n",
    "    - `sampling`: 在当前量子态下，对给定的量子线路进行采样\n",
    "\n",
    "下面的代码计算关于哈密顿量 `ham` 的期望："
   ]
  },
  {
   "cell_type": "code",
   "execution_count": 10,
   "metadata": {},
   "outputs": [
    {
     "name": "stdout",
     "output_type": "stream",
     "text": [
      "initial state: [1.+0.j 0.+0.j 0.+0.j 0.+0.j]\n",
      "expectation: 0j\n",
      "updated state: [ 0.23971277+0.43879128j -0.23971277-0.43879128j  0.23971277-0.43879128j\n",
      " -0.23971277+0.43879128j]\n",
      "expectation: (0.4207354924039485+0j)\n"
     ]
    }
   ],
   "source": [
    "from mindquantum.simulator import Simulator\n",
    "\n",
    "sim = Simulator(\"mqvector\", 2)\n",
    "\n",
    "print(f\"initial state: {sim.get_qs()}\")\n",
    "print(f\"expectation: {sim.get_expectation(ham)}\")\n",
    "\n",
    "sim.apply_circuit(circuit=circ, pr={\"theta\": 0, \"phi\": 1})\n",
    "print(f\"updated state: {sim.get_qs()}\")\n",
    "print(f\"expectation: {sim.get_expectation(ham)}\")"
   ]
  },
  {
   "cell_type": "markdown",
   "metadata": {},
   "source": [
    "## 训练量子神经网络\n",
    "\n",
    "`Simulator` 的 `get_expectation_with_grad(hams, circ_right, circ_left=None, simulator_left=None, parallel_worker=None)` 可以返回\n",
    "$$\n",
    "E = \\langle \\varphi | U_l^\\dagger H U_r | \\psi \\rangle\n",
    "$$\n",
    "关于线路参数的梯度。\n",
    "\n",
    "通过使用 `mindspore` 提供的 API 进行训练："
   ]
  },
  {
   "cell_type": "code",
   "execution_count": 11,
   "metadata": {
    "scrolled": true
   },
   "outputs": [
    {
     "name": "stdout",
     "output_type": "stream",
     "text": [
      "step 0: [-0.00266318]\n",
      "step 10: [-0.02764907]\n",
      "step 20: [-0.05256478]\n",
      "step 30: [-0.07734516]\n",
      "step 40: [-0.10192395]\n",
      "step 50: [-0.1262336]\n",
      "step 60: [-0.1502059]\n",
      "step 70: [-0.17377245]\n",
      "step 80: [-0.19686492]\n",
      "step 90: [-0.21941562]\n"
     ]
    }
   ],
   "source": [
    "from mindquantum.framework import MQAnsatzOnlyLayer\n",
    "import mindspore as ms\n",
    "import mindspore.nn as nn \n",
    "ms.set_context(mode=ms.PYNATIVE_MODE, device_target=\"CPU\")\n",
    "\n",
    "sim = Simulator('mqvector', circ.n_qubits)                     # 创建模拟器，backend使用‘projectq’，能模拟2个比特（'circ'线路中包含的比特数）\n",
    "grad_ops = sim.get_expectation_with_grad(ham, circ)            # 获取计算变分量子线路的期望值和梯度的算子\n",
    "net = MQAnsatzOnlyLayer(grad_ops)                              # 生成待训练的神经网络\n",
    "opti = nn.Adam(net.trainable_params(), learning_rate=0.05)     # 设置针对网络中所有可训练参数、学习率为0.05的Adam优化器\n",
    "train_net = nn.TrainOneStepCell(net, opti)                     # 对神经网络进行一步训练\n",
    "\n",
    "for i in range(100):\n",
    "    if i % 10 == 0:\n",
    "        print(f\"step {i}: {train_net()}\")"
   ]
  },
  {
   "cell_type": "markdown",
   "metadata": {},
   "source": [
    "从上述代码运行结果可以看出，的确 `train_net()` 是在不断降低，也就是哈密顿量的期望不断降低。"
   ]
  },
  {
   "cell_type": "code",
   "execution_count": 1,
   "metadata": {},
   "outputs": [
    {
     "data": {
      "text/html": [
       "\n",
       "<table border=\"1\">\n",
       "  <tr>\n",
       "    <th>Software</th>\n",
       "    <th>Version</th>\n",
       "  </tr>\n",
       "<tr><td>mindquantum</td><td>0.7.0</td></tr>\n",
       "<tr><td>mindspore</td><td>1.8.1</td></tr>\n",
       "<tr>\n",
       "    <th>System</th>\n",
       "    <th>Info</th>\n",
       "</tr>\n",
       "<tr><td>Python</td><td>3.9.7</td></tr><tr><td>OS</td><td>Linux x86_64</td></tr><tr><td>Memory</td><td>16.72 GB</td></tr><tr><td>CPU Max Thread</td><td>8</td></tr><tr><td>Date</td><td>Tue Nov 29 14:23:41 2022</td></tr>\n",
       "</table>\n"
      ],
      "text/plain": [
       "<show_info.InfoTable at 0x7f8fd41fb910>"
      ]
     },
     "execution_count": 1,
     "metadata": {},
     "output_type": "execute_result"
    }
   ],
   "source": [
    "from show_info import InfoTable\n",
    "\n",
    "InfoTable('mindquantum', 'mindspore')"
   ]
  }
 ],
 "metadata": {
  "kernelspec": {
   "display_name": "Python 3 (ipykernel)",
   "language": "python",
   "name": "python3"
  },
  "language_info": {
   "codemirror_mode": {
    "name": "ipython",
    "version": 3
   },
   "file_extension": ".py",
   "mimetype": "text/x-python",
   "name": "python",
   "nbconvert_exporter": "python",
   "pygments_lexer": "ipython3",
   "version": "3.9.7"
  },
  "vscode": {
   "interpreter": {
    "hash": "6ea26b0ca9703e45d22ca948baff99d1d70a8502b08bee4ef4c347bc7486a73d"
   }
  }
 },
 "nbformat": 4,
 "nbformat_minor": 2
}
