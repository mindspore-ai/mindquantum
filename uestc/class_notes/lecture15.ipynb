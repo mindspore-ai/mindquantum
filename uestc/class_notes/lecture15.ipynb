{
 "cells": [
  {
   "cell_type": "markdown",
   "metadata": {},
   "source": [
    "![banner](https://mindspore.cn/static/img/logo_black.74c3909e.png)\n",
    "\n",
    "# 量子线路的误差\n",
    "\n",
    "量子门永远都不可能是「完美」的，因为酉矩阵是连续的，我们只能使用连续变量来表示，可是现实中的计算总是有限精度的，这意味着误差是一定存在的。\n",
    "\n",
    "例如我们想要实现一个 $m$ 个门组成的量子线路，使用之前提到的通用量子门，记作 $U = U_m U_{m-1} \\cdots U_1$，但是因为某些未知的原因，我们实现的门序列是 $V = V_m V_{m-1} \\cdots V_1$，那么问题来了，它的表现有多差呢？这种「不完美」是否会毁掉我们的计算呢？\n",
    "\n",
    "首先让我们明确并定义**误差**的概念：\n",
    "$$\n",
    "E(U, V) \\equiv \\max_{|\\psi\\rangle} \\left\\Vert (U - V) |\\psi\\rangle \\right\\Vert\n",
    "$$\n",
    "其中范数使用欧几里得范数：\n",
    "$$\n",
    "\\left \\Vert |a\\rangle  \\right \\Vert \\equiv \\sqrt{\\langle a | a \\rangle}\n",
    "$$"
   ]
  },
  {
   "cell_type": "markdown",
   "metadata": {},
   "source": [
    "接下来我们讨论这种**误差**的物理含义，我们将证明下面的定理。\n",
    "\n",
    "**定理：**\n",
    "$$\n",
    "\\left| P_U - P_V \\right| \\leq 2 E(U, V)\n",
    "$$\n",
    "其中 $P_U \\equiv \\langle \\psi | U^\\dagger M U | \\psi \\rangle$，$P_V \\equiv \\langle \\psi | V^\\dagger M V | \\psi \\rangle$ 分别代表某个测量POVM给出结果 $M$ 的概率。"
   ]
  },
  {
   "cell_type": "markdown",
   "metadata": {},
   "source": [
    "**Proof：**\n",
    "\n",
    "首先我们引入一个记号 $|\\Delta\\rangle \\equiv (U-V) |\\psi\\rangle$ ，这是一个未单位化的向量。\n",
    "\n",
    "首先看不等式的左端\n",
    "$$\n",
    "\\begin{align*}\n",
    "|P_U - P_V| & = \\left| \\langle \\psi | U^\\dagger M U | \\psi\\rangle - \\langle \\psi | V^\\dagger M V | \\psi \\rangle \\right| \\\\\n",
    "& = \\left| \\langle \\psi | U^\\dagger M (U-V) | \\psi\\rangle + \\langle \\psi | U^\\dagger M V | \\psi\\rangle + \\langle \\psi | (U - V)^\\dagger M V | \\psi \\rangle - \\langle \\psi | U^\\dagger M V | \\psi \\rangle \\right| \\\\\n",
    "& = \\left| \\langle \\psi | U^\\dagger M | \\Delta \\rangle + \\langle \\Delta | M V | \\psi \\rangle \\right| \\\\\n",
    "& \\leq \\left| \\langle \\psi | U^\\dagger M | \\Delta \\rangle \\right| + \\left|\\langle \\Delta | M V | \\psi \\rangle \\right|\n",
    "\\end{align*}\n",
    "$$"
   ]
  },
  {
   "cell_type": "markdown",
   "metadata": {},
   "source": [
    "$M$ 是POVM中的一项，所以 $M$ 是正定矩阵，其特征值大于等于 $0$，由于完备性关系 $\\sum_i M_i = I$，所以 $M$ 的特征值小于等于 $1$，那么有：\n",
    "$$\n",
    "\\begin{align*}\n",
    "& \\left| \\langle \\psi | U^\\dagger M | \\Delta \\rangle \\right| \\\\\n",
    "= & \\left| \\langle \\psi_U | M | \\Delta \\rangle \\right| \\\\\n",
    "\\leq & \\left \\Vert |\\psi_U\\rangle \\right \\Vert \\cdot \\left\\Vert M|\\Delta \\rangle \\right\\Vert \\\\\n",
    "\\leq & \\left\\Vert |\\Delta\\rangle \\right\\Vert\n",
    "\\end{align*}\n",
    "$$"
   ]
  },
  {
   "cell_type": "markdown",
   "metadata": {},
   "source": [
    "因此，我们就得到了结论\n",
    "$$\n",
    "\\left| P_U - P_V \\right| \\leq 2 \\left\\Vert |\\Delta\\rangle \\right\\Vert \\leq 2 E(U, V)\n",
    "$$"
   ]
  },
  {
   "cell_type": "markdown",
   "metadata": {},
   "source": [
    "对于多个门，我们有下面的不等式：\n",
    "$$\n",
    "E(U, V) = E(U_m U_{m-1} \\cdots U_1, V_m, V_{m-1} \\cdots V_1) \\leq \\sum_{i=1}^m E(U_i, V_i)\n",
    "$$"
   ]
  },
  {
   "cell_type": "markdown",
   "metadata": {},
   "source": [
    "这里只证明两个门的情况（多于两个门可以用数学归纳法证明）。\n",
    "\n",
    "$$\n",
    "\\begin{align*}\n",
    "& \\max_{|\\psi\\rangle} \\left\\Vert (U_1U_2 - V_1V_2) |\\psi\\rangle \\right\\Vert \\\\\n",
    "= & \\max_{|\\psi\\rangle} \\left\\Vert (U_1U_2 - U_1V_2 + U_1V_2 - V_1V_2) |\\psi\\rangle \\right\\Vert \\\\\n",
    "= & \\max_{|\\psi\\rangle} \\left\\Vert U_1(U_2 - V_2) |\\psi\\rangle + (U_1 - V_1)V_2 |\\psi\\rangle \\right\\Vert \\\\\n",
    "\\leq & \\max_{|\\psi\\rangle} \\left(\\left\\Vert U_1(U_2 - V_2) |\\psi\\rangle \\right\\Vert + \\left\\Vert (U_1 - V_1)V_2 |\\psi\\rangle \\right\\Vert \\right) \\\\\n",
    "\\leq & \\max_{|\\psi\\rangle} \\left\\Vert U_1(U_2 - V_2) |\\psi\\rangle \\right\\Vert + \\max_{|\\psi\\rangle}\\left\\Vert (U_1 - V_1)V_2 |\\psi\\rangle \\right\\Vert \\\\\n",
    "= & \\max_{|\\psi\\rangle} \\left\\Vert (U_2 - V_2) |\\psi\\rangle \\right\\Vert + \\max_{|\\psi\\rangle}\\left\\Vert (U_1 - V_1) |\\psi\\rangle \\right\\Vert \\\\\n",
    "= & E(U_1, V_1) + E(U_2, V_2)\n",
    "\\end{align*}\n",
    "$$"
   ]
  },
  {
   "cell_type": "markdown",
   "metadata": {},
   "source": [
    "该定理表明，误差是线性叠加的，所以如果我们希望最终的测量结果误差不超过 $\\delta$，即 $|P_U - P_V|\\leq \\delta$，线路有 $m$ 个门，那么我们只需要控制每个门的误差\n",
    "$$\n",
    "E(U_i, V_i) \\leq \\frac{\\delta}{2m}\n",
    "$$\n",
    "\n",
    "这表明，如果我们的量子线路越长，门的数目越多，单个门的保真度就要越高。"
   ]
  },
  {
   "cell_type": "markdown",
   "metadata": {},
   "source": [
    "# 二量子门的标准分解\n",
    "\n",
    "一般的，任意二量子比特门都可以表示为「标准形式」（Kraus and Cirac 2001）：\n",
    "$$\n",
    "U = A_L\\otimes B_L e^{i(\\alpha_{xx}XX + \\alpha_{yy}YY + \\alpha_{zz}ZZ)} A_R\\otimes B_R\n",
    "$$\n",
    "其中 $A_L, A_R$ 和 $B_L, B_R$ 都是单量子比特门，$\\alpha\\in \\mathbb{R}$。\n",
    "\n",
    "下面将通过几个引理，一步步的证明这个结论。"
   ]
  },
  {
   "cell_type": "markdown",
   "metadata": {},
   "source": [
    "## 纠缠\n",
    "\n",
    "首先介绍一个概念：纠缠熵。对于一个二量子比特纯态 $|\\psi\\rangle$，其纠缠熵定义如下：\n",
    "$$\n",
    "E(|\\psi\\rangle) \\equiv - tr \\left ( \\rho_A \\log_2 \\rho_A \\right ) = - tr \\left ( \\rho_B \\log_2 \\rho_B \\right )\n",
    "$$\n",
    "其中\n",
    "$$\n",
    "\\begin{align*}\n",
    "\\rho & = |\\psi \\rangle \\langle \\psi | \\\\\n",
    "\\rho_A & = tr_B \\rho \\\\\n",
    "\\rho_B & = tr_A \\rho\n",
    "\\end{align*}\n",
    "$$"
   ]
  },
  {
   "cell_type": "markdown",
   "metadata": {},
   "source": [
    "我们知道，对于二量子比特纯态 $|\\psi\\rangle$，存在Schmidt分解：\n",
    "$$\n",
    "|\\psi\\rangle = \\sum_i \\sqrt{p_i} |i^A\\rangle |i^B\\rangle \n",
    "$$\n",
    "则可以计算A和B的密度矩阵：\n",
    "$$\n",
    "\\begin{align*}\n",
    "\\rho_A & = \\sum_i p_i |i^A \\rangle \\langle i^A | \\\\\n",
    "\\rho_B & = \\sum_i p_i |i^B \\rangle \\langle i^B |\n",
    "\\end{align*}\n",
    "$$\n",
    "因此其纠缠熵为\n",
    "$$\n",
    "E(|\\psi\\rangle) = -tr \\left ( \\sum_i p_i \\log_2 p_i |i^A \\rangle \\langle i^A | \\right ) = - p_1 \\log_2 p_1 - p_2 \\log_2 p_2\n",
    "$$\n",
    "其中 $p_1, p_2$ 为 $\\rho_A, \\rho_B$ 的两个特征向量。"
   ]
  },
  {
   "cell_type": "markdown",
   "metadata": {},
   "source": [
    "## Concurrence\n",
    "\n",
    "为了方便计算，我们引入concurrence：\n",
    "$$\n",
    "C \\equiv \\left | \\sum_i \\alpha_i^2 \\right |\n",
    "$$\n",
    "其中 $\\alpha_i$ 是 $|\\psi\\rangle$ 在magic基下的振幅，magic基是由Bell基变换而来的：\n",
    "$$\n",
    "\\begin{align*}\n",
    "m_{00} & \\equiv \\frac{|00\\rangle + |11\\rangle}{\\sqrt{2}} \\\\\n",
    "m_{01} & \\equiv i \\frac{|00\\rangle - |11\\rangle}{\\sqrt{2}} \\\\\n",
    "m_{10} & \\equiv i \\frac{|01\\rangle + |10\\rangle}{\\sqrt{2}} \\\\\n",
    "m_{11} & \\equiv \\frac{|01\\rangle - |10\\rangle}{\\sqrt{2}}\n",
    "\\end{align*}\n",
    "$$\n",
    "\n",
    "> 注意，$C$ 的定义中是 $\\alpha_i^2$ 而不是 $|\\alpha|^2$。\n",
    "\n",
    "通过计算可以证明下面这个定理（留作习题）：\n",
    "$$\n",
    "E(|\\psi\\rangle) = H\\left ( \\frac{1 + \\sqrt{1 - C^2}}{2} \\right )\n",
    "$$\n",
    "其中\n",
    "$$\n",
    "H(x) \\equiv -x \\log_2 x - (1-x) \\log_2 (1-x)\n",
    "$$"
   ]
  },
  {
   "cell_type": "markdown",
   "metadata": {},
   "source": [
    "## Lemma 1\n",
    "\n",
    "- 如果 $E(|\\psi\\rangle) = 0$，即 $C = 0$，那么 $|\\psi\\rangle = |a\\rangle|b\\rangle$ 是可分态；\n",
    "- 如果 $E(|\\psi\\rangle) = 1$，即 $C = 1$，那么 $|\\psi\\rangle$ 是最大纠缠态，$\\rho_A = \\rho_B = I / 2$ 。"
   ]
  },
  {
   "cell_type": "markdown",
   "metadata": {},
   "source": [
    "## Lemma 2\n",
    "\n",
    "根据 Lemma 1，$|\\psi\\rangle$ 是最大纠缠态，当且仅当 $\\alpha_i$ 都是实数（忽略一个全局相位 $e^{i\\varphi}$）。"
   ]
  },
  {
   "cell_type": "markdown",
   "metadata": {},
   "source": [
    "## Lemma 3\n",
    "\n",
    "给定两个正交的态 $|\\psi\\rangle$ 和 $|\\psi^\\bot\\rangle$，如果这两个态在magic基下的表示都是实向量，那么 $\\frac{|\\psi\\rangle \\pm i |\\psi^\\bot\\rangle}{\\sqrt{2}}$ 是可分态。"
   ]
  },
  {
   "cell_type": "markdown",
   "metadata": {},
   "source": [
    "**Proof:**\n",
    "\n",
    "假设 $|\\psi\\rangle = \\sum_i a_i |m_i\\rangle$，$|\\psi^\\bot\\rangle = \\sum_i b_i |m_i\\rangle$，\n",
    "其中 $a_i, b_i \\in \\mathbb{R}$，且 $\\sum_i a_i b_i = 0$，\n",
    "\n",
    "$$\n",
    "\\begin{align*}\n",
    "C \\left ( \\frac{|\\psi\\rangle \\pm |\\psi^\\bot\\rangle}{\\sqrt{2}} \\right )\n",
    "& = \\left | \\sum_i \\left(\\frac{a_i \\pm i b_i}{\\sqrt{2}}\\right)^2 \\right | \\\\\n",
    "& = \\frac{1}{2} \\left | \\sum_i a_i ^2 - b_i^2 \\pm 2a_ib_i i  \\right | \\\\\n",
    "& = 0\n",
    "\\end{align*}\n",
    "$$"
   ]
  },
  {
   "cell_type": "markdown",
   "metadata": {},
   "source": [
    "更进一步，我们记\n",
    "$$\n",
    "\\begin{align*}\n",
    "|\\psi_+\\rangle & \\equiv \\frac{|\\psi\\rangle + i|\\psi^\\bot\\rangle}{\\sqrt{2}}  = |A_+\\rangle|B_+\\rangle\\\\\n",
    "|\\psi_-\\rangle & \\equiv \\frac{|\\psi\\rangle - i|\\psi^\\bot\\rangle}{\\sqrt{2}} = |A_-\\rangle|B_-\\rangle\n",
    "\\end{align*}\n",
    "$$\n",
    "因为 $\\langle \\psi | \\psi^\\bot \\rangle = 0$，所以 $\\langle \\psi_+ | \\psi_- \\rangle = 0$，因此 $\\langle A_+ | A_- \\rangle \\cdot \\langle B_+ | B_- \\rangle = 0$，下面证明二者都为0.\n",
    "\n",
    "不妨设 $\\langle A_+| A_-\\rangle = 0$，我们可以用 $|A_+\\rangle|B_+\\rangle$ 和 $|A_-\\rangle|B_-\\rangle$ 来表示 $|\\psi\\rangle$ 和 $|\\psi^\\bot\\rangle$\n",
    "$$\n",
    "\\begin{align*}\n",
    "|\\psi\\rangle & = \\frac{1}{\\sqrt{2}} \\left ( |A_+\\rangle |B_+\\rangle + |A_-\\rangle|B_-\\rangle\\right ) \\\\\n",
    "|\\psi^\\bot\\rangle & = \\frac{-i}{\\sqrt{2}} \\left ( |A_+\\rangle |B_+\\rangle - |A_-\\rangle|B_-\\rangle\\right )\n",
    "\\end{align*}\n",
    "$$\n",
    "\n",
    "因为 $|\\psi\\rangle$ 是最大纠缠态，所以 $\\rho_B = I / 2$，故 $\\langle B_+ | B_-\\rangle = 0$ 。\n"
   ]
  },
  {
   "cell_type": "markdown",
   "metadata": {},
   "source": [
    "## Lemma 4 \n",
    "\n",
    "对于任意酉矩阵 $U$，存在分解\n",
    "$$\n",
    "U = O_L D_\\phi O_R\n",
    "$$\n",
    "其中 $O_L, O_R$ 都是实正交矩阵，$D_\\phi$ 是对角矩阵，对角元都是模长为1的复数 $e^{i\\phi}$。\n",
    "\n",
    "> 该定理这里不予证明，参考论文 《Tucci, Robert R. 《An Introduction to Cartan’s KAK Decomposition for QC Programmers》. arXiv, 2005年7月18日. http://arxiv.org/abs/quant-ph/0507171. 》\n"
   ]
  },
  {
   "cell_type": "markdown",
   "metadata": {},
   "source": [
    "## Proof\n",
    "\n",
    "下面给出定理的证明。\n",
    "\n",
    "首先定义 $M$ 矩阵：\n",
    "$$\n",
    "M \\equiv \\sum_k |m_k\\rangle \\langle k |\n",
    "$$\n",
    "\n",
    "容易发现，对于实向量 $|\\psi_{real}\\rangle \\in \\mathbb{R}^4$ ，作用 $M$ 将得到一个最大纠缠态\n",
    "$$\n",
    "M |\\psi_{real}\\rangle = \\sum_k a_k |m_k\\rangle \\quad \\text{where } a_i \\in \\mathbb{R}\n",
    "$$\n",
    "\n",
    "对于任意酉矩阵 $U \\in SU(4)$，令 $V \\equiv M^\\dagger U M$，根据 Lemma 4，$V = O_L D_\\phi O_R$，则\n",
    "$$\n",
    "U = MO_L D_\\phi O_R M^\\dagger\n",
    "$$\n",
    "\n",
    "因为实正交矩阵 $O_L$ 的每一列 $|o_i\\rangle$ 都是实向量，所以\n",
    "$$\n",
    "M O_L = \\sum_k M |o_i \\rangle \\langle k | = \\sum_k |e_k \\rangle \\langle k |\n",
    "$$\n",
    "其中 $|e_k\\rangle$ 是最大纠缠态。\n",
    "\n",
    "根据Lemma 3，$|e_{00}\\rangle$ 和 $|e_{01}\\rangle$ 可以表示成\n",
    "$$\n",
    "\\begin{align*}\n",
    "|e_{00}\\rangle & = \\frac{1}{\\sqrt{2}} \\left ( |A_+\\rangle |B_+\\rangle + |A_-\\rangle |B_-\\rangle \\right ) \\\\\n",
    "|e_{01}\\rangle & = \\frac{-i}{\\sqrt{2}} \\left ( |A_+\\rangle |B_+\\rangle - |A_-\\rangle |B_-\\rangle \\right )\n",
    "\\end{align*}\n",
    "$$\n",
    "\n",
    "因为 $|e_{10}\\rangle, |e_{11}\\rangle$ 和 $|e_{00}\\rangle, |e_{01}\\rangle$ 正交，所以一定可以被 $|A_+\\rangle |B_-\\rangle, |A_-\\rangle|B_+\\rangle$ 线性表示，又因为是最大纠缠态，所以 $\\rho_A = \\rho_B = I /2$，通过计算可以表示为\n",
    "$$\n",
    "\\begin{align*}\n",
    "|e_{10}\\rangle & = \\frac{e^{i\\lambda_3}}{\\sqrt{2}} \\left ( e^{-i\\delta} |A_+\\rangle |B_-\\rangle + e^{i\\delta} |A_-\\rangle |B_+\\rangle\\right ) \\\\\n",
    "|e_{11}\\rangle & = \\frac{e^{i\\lambda_4}}{\\sqrt{2}} \\left ( e^{-i\\delta} |A_+\\rangle |B_-\\rangle - e^{i\\delta} |A_-\\rangle |B_+\\rangle\\right ) \\\\\n",
    "\\end{align*}\n",
    "$$"
   ]
  },
  {
   "cell_type": "markdown",
   "metadata": {},
   "source": [
    "令 \n",
    "$$\n",
    "\\begin{align*}\n",
    "A & \\equiv |0 \\rangle \\langle A_+ | + e^{i\\delta} |1 \\rangle \\langle A_- | \\\\\n",
    "B & \\equiv |0 \\rangle \\langle B_+ | + e^{-i\\delta} |1 \\rangle \\langle B_- |\n",
    "\\end{align*}\n",
    "$$\n",
    "\n",
    "则\n",
    "$$\n",
    "\\begin{align*}\n",
    "A\\otimes B & = |00 \\rangle \\langle A_+ B_+ | \\\\\n",
    "    & + e^{i\\delta} |01 \\rangle \\langle A_+ B_- | \\\\\n",
    "    & + e^{-i\\delta} |10 \\rangle \\langle A_- B_+ | \\\\\n",
    "    & + |11 \\rangle \\langle A_- B_- |\n",
    "\\end{align*}\n",
    "$$\n",
    "\n",
    "计算\n",
    "$$\n",
    "\\begin{align*}\n",
    "M O_L & = \\sum_k |e_k \\rangle \\langle k | \\\\\n",
    "& = \\frac{1}{\\sqrt{2}} \\left ( |A_+\\rangle |B_+\\rangle + |A_-\\rangle |B_-\\rangle\\right ) \\\\\n",
    "& + \\frac{-i}{\\sqrt{2}} \\left ( |A_+\\rangle |B_+\\rangle - |A_-\\rangle |B_-\\rangle\\right ) \\\\\n",
    "& + \\frac{e^{i\\lambda_3}}{\\sqrt{2}} \\left ( e^{-i\\delta} |A_+\\rangle |B_-\\rangle + e^{i\\delta} |A_-\\rangle |B_+\\rangle\\right ) \\\\\n",
    "& + \\frac{e^{i\\lambda_4}}{\\sqrt{2}} \\left ( e^{-i\\delta} |A_+\\rangle |B_-\\rangle - e^{i\\delta} |A_-\\rangle |B_+\\rangle\\right ) \\\\\n",
    "\\end{align*}\n",
    "$$\n",
    "\n",
    "则\n",
    "$$\n",
    "\\begin{align*}\n",
    "(A\\otimes B) M O_L & = \n",
    "\\frac{|00\\rangle + |11\\rangle}{\\sqrt{2}} \\langle 00| \\\\\n",
    "& + (-i) \\frac{|00\\rangle - |11\\rangle}{\\sqrt{2}} \\langle 01| \\\\\n",
    "& + e^{i\\lambda_3} \\frac{|01\\rangle + |10\\rangle}{\\sqrt{2}} \\langle 10| \\\\\n",
    "& + e^{i\\lambda_4} \\frac{|01\\rangle - |10\\rangle}{\\sqrt{2}} \\langle 11| \\\\\n",
    "& = \\sum_k e^{\\phi_k} |m_k \\rangle \\langle k |\n",
    "\\end{align*}\n",
    "$$"
   ]
  },
  {
   "cell_type": "markdown",
   "metadata": {},
   "source": [
    "同理，记\n",
    "$$\n",
    "\\begin{align*}\n",
    "M O_L & = A_L^\\dagger \\otimes B_L^\\dagger \\sum_k e^{i\\phi_k} |m_k \\rangle \\langle k | \\\\\n",
    "M O_R^\\dagger & = A_R^\\dagger \\otimes B_R^\\dagger \\sum_k e^{i\\phi'_k} |m_k \\rangle \\langle k |\n",
    "\\end{align*}\n",
    "$$\n",
    "\n",
    "则\n",
    "$$\n",
    "U = MO_L D_\\phi O_R M^\\dagger = A_L^\\dagger \\otimes B_L^\\dagger \\left(\\sum_k e^{i\\varphi_k} |m_k \\rangle \\langle m_k | \\right) A_R \\otimes B_R\n",
    "$$"
   ]
  },
  {
   "cell_type": "markdown",
   "metadata": {},
   "source": [
    "因为 $|m_k\\rangle$ 是 $XX, YY, ZZ$ 的特征向量，如果忽略全局相位， $U \\in SU(4)$，则 $\\sum_k \\varphi_k = 0$，可以表示为\n",
    "$$\n",
    "\\sum_k e^{i \\varphi_k} |m_k \\rangle \\langle m_k | = e^{i a XX + b YY + c ZZ}\n",
    "$$\n",
    "其中 $a, b, c \\in \\mathbb{R}$，可以由 $\\varphi_k$ 解出来。\n",
    "\n",
    "至此，我们完成了定理的证明。"
   ]
  },
  {
   "cell_type": "markdown",
   "metadata": {},
   "source": [
    "# 习题\n",
    "\n",
    "## Exercise 1\n",
    "\n",
    "证明\n",
    "$$\n",
    "E\\left ( \\prod_{i=1}^n U_i, \\prod_{i=1}^n V_i \\right ) \\leq \\sum_{i=1}^n E(U_i, V_i)\n",
    "$$"
   ]
  },
  {
   "cell_type": "markdown",
   "metadata": {},
   "source": [
    "## Exercise 2\n",
    "\n",
    "证明\n",
    "\n",
    "$$\n",
    "E(|\\psi\\rangle) = H\\left ( \\frac{1 + \\sqrt{1 - C^2}}{2}\\right )\n",
    "$$"
   ]
  }
 ],
 "metadata": {
  "kernelspec": {
   "display_name": "Python 3.9.0 64-bit ('3.9.0')",
   "language": "python",
   "name": "python3"
  },
  "language_info": {
   "name": "python",
   "version": "3.9.0"
  },
  "orig_nbformat": 4,
  "vscode": {
   "interpreter": {
    "hash": "0ed0b97269d4f102e0624f582249018cd3d8c77b83fc4d003b4aaace9dedf79d"
   }
  }
 },
 "nbformat": 4,
 "nbformat_minor": 2
}
