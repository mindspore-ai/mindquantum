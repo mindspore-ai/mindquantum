{
 "cells": [
  {
   "cell_type": "markdown",
   "metadata": {},
   "source": [
    "# 基础量子算法\n",
    "Written by MindQuantum Team\n",
    "<br><br>\n",
    "\n",
    "1. 经典并行<br>\n",
    "2. 量子并行<br>\n",
    "3. Deutsch 算法<br>\n",
    "4. Deutsch-Jozsa 算法<br>\n",
    "5. 作业<br>"
   ]
  },
  {
   "cell_type": "markdown",
   "metadata": {},
   "source": [
    "## 1. 经典并行"
   ]
  },
  {
   "cell_type": "markdown",
   "metadata": {},
   "source": [
    "\n",
    "\n",
    "\n",
    " 给定一个二进制函数 $f(x): {0,1}\\rightarrow {0,1}$ , 计算 $f(0)$ 和 $f(1)$ \n",
    "\n",
    "      \n",
    "经典串行方法：\n",
    "\n",
    "\n",
    "1. 构造一个经典的线路 $f^{c}(x)$\n",
    "\n",
    "  \n",
    "2. 执行两次经典的线路 $f^{c}(x)$，即 $f^c(0)$和 $f^c(1)$\n",
    "\n",
    "经典并行方法：\n",
    "\n",
    "1. 构造一个的线路$f^c(x)$\n",
    "\n",
    "2. 创建两个线程分别执行 $f^c(0)$ 和 $f^c(1)$\n"
   ]
  },
  {
   "cell_type": "markdown",
   "metadata": {},
   "source": [
    "## 2. 量子并行"
   ]
  },
  {
   "cell_type": "markdown",
   "metadata": {},
   "source": [
    "\n",
    "给定一个二进制函数 $f(x): {0,1}\\rightarrow {0,1}$ , 计算 $f(0)$ 和 $f(1)$ \n",
    "\n",
    "\n",
    "串行量子方法：\n",
    "\n",
    "1. 构造一个量子线路 $f^q(|x\\rangle)$\n",
    "\n",
    "2. 执行量子线路 $f^q(|x\\rangle)$ 两次\n",
    "\n",
    "经典的量子并行方法：\n",
    "\n",
    "\n",
    "1. 构造一个量子线路 $f^q(|x\\rangle)$\n",
    "\n",
    "2. 创建两个量子线程分别执行量子线路 $f^q(|0\\rangle)$ 和$f^q(|1\\rangle)$\n",
    "\n",
    "完全的量子并行方法：\n",
    "\n",
    "1. 构建一个量子线路（门） $U_f : |x,y\\rangle \\rightarrow |x,y \\oplus f(x) \\rangle$ (这里我们暂不考虑如何制备这个量子线路（门），暂且把它叫做黑箱或者Oracle)\n",
    "\n",
    "2. 利用 Hadamard 将要被计算的量子比特制备为等权叠加态 $\\frac{|0\\rangle+|1\\rangle}{\\sqrt{2}}$, 同时将目标量子比特制备在$|0\\rangle$态， 然后作用1中建立的Oracle $U_f$\n",
    "\n",
    "![title](images/oracle.png)\n",
    "\n",
    " $|\\psi\\rangle= \\frac{|0, f(0)\\rangle+|1,f(1)\\rangle}{\\sqrt{2}}$ 和 $\\text{H}^{\\otimes n}$\n",
    "\n",
    "\n",
    "\n",
    "考虑多变量的情况：给定一个多比特的二进制函数 𝑓(𝑥)  :  {0,1}^𝑛   ⟶{0,1} ，对于所有可能的x 取值，计算$f(x)$\n",
    "\n",
    "首先引入两个标记：\n",
    "\n",
    "$\\sum_{x}\\frac{|x\\rangle}{\\sqrt{2^n}}$\n",
    "\n",
    "以 $n=2$ 为例：\n",
    "\n",
    " 1. 制备两个都处于 $|0\\rangle$ 的量子比特， 记做 $|0\\rangle \\otimes |0\\rangle $ 或 $|0\\rangle ^{\\otimes 2}$\n",
    "\n",
    " 2. 用两个Hadamard 门分别作用于这两个量子比特上， 记为 $\\text{H}^{\\otimes 2}$\n",
    "\n",
    " 经计算， 输出的量子态为：\n",
    "\n",
    " $(\\frac{|0\\rangle+|1\\rangle}{\\sqrt{2}})(\\frac{|0\\rangle+|1\\rangle}{\\sqrt{2}})  =  \\frac{|00\\rangle+|01\\rangle+|10\\rangle+|11\\rangle}{2}$\n",
    "\n",
    " 利用十进制可以简单记为： $\\frac{|0\\rangle+|1\\rangle+|2\\rangle+|3\\rangle}{2}$\n",
    "\n",
    "\n",
    "现在我们可以继续利用我们的Oracle 同时计算 $2^n$ 个x 的值\n",
    "\n",
    "\n",
    "1. 制备量子线路（门)即我们的Oracle ： $U_f : |x,y\\rangle \\rightarrow |x,y \\oplus f(x) \\rangle$\n",
    "\n",
    "2. 利用Hadamard 门将n 个量子比特制备为等权叠加态$\\sum_{x\\in \\{0,1\\}^n} \\frac{|x\\rangle}{\\sqrt{2^n}}  $, 同时将目标比特\n",
    "   制备在 $|0\\rangle$态， 然后作用Oracle $U_f$,可以得到量子态为：\n",
    "\n",
    "\n",
    "\n",
    "\n",
    "$|\\psi\\rangle = \\frac{1}{\\sqrt{2^n}}\\sum_x |x\\rangle|f(x\\rangle)$\n",
    "\n",
    " 疑问： 测量才能得到每个x的值，而且一旦测量，就要制备$|\\psi\\rangle$ $2^n$次，量子的优势在哪里？"
   ]
  },
  {
   "cell_type": "markdown",
   "metadata": {},
   "source": [
    "## 3. Deutsch 算法"
   ]
  },
  {
   "cell_type": "markdown",
   "metadata": {},
   "source": [
    "\n",
    "\n",
    "这里我们通过学习 Deutsch 算法 来研究如何从叠加态中提取到有用的信息，进而实现量子优势\n",
    "\n",
    "问题设置： 给定一个二进制函数 $f(x): {0,1}\\rightarrow {0,1}$， 假如我们想知道一些关于 $f(x)$ 的全局信息， 比如 $f(0)\\oplus f(1)$ (为什么要选择这个问题，其他问题ok吗？)\n",
    "\n",
    "经典方法： 利用经典电路 $f^c(x)$ 估计 $f(x)$两次\n",
    "\n",
    "量子方法： Deutsch 算法\n",
    "\n"
   ]
  },
  {
   "cell_type": "markdown",
   "metadata": {},
   "source": [
    "![title](images/deutsch.png)\n",
    "\n",
    "\n",
    "$$|\\psi_0\\rangle= |01\\rangle$$\n",
    "\n",
    "$|\\psi_1\\rangle = [\\frac{|0\\rangle+|1\\rangle}{\\sqrt{2}}][\\frac{|0\\rangle-|1\\rangle}{\\sqrt{2}}]$\n",
    "\n",
    "可以验证 $U_f |x\\rangle \\frac{|0\\rangle-|1\\rangle}{\\sqrt{2}} = (-1)^{f(x)} |x\\rangle \\frac{|0\\rangle-|1\\rangle}{\\sqrt{2}}$\n",
    "\n",
    "因此：\n",
    "\n",
    "$$\n",
    "\\begin{equation}\n",
    "|\\psi_2\\rangle=\\begin{cases}\\pm [\\frac{|0\\rangle+|1\\rangle}{\\sqrt{2}}][\\frac{|0\\rangle-|1\\rangle}{\\sqrt{2}}],  \\text{if } f(0)=f(1)\\\\\\\\ \n",
    "\\pm [\\frac{|0\\rangle-|1\\rangle}{\\sqrt{2}}][\\frac{|0\\rangle-|1\\rangle}{\\sqrt{2}}],   \\text{if } f(0)\\neq f(1)\n",
    "\\end{cases}\n",
    "\\end{equation}\n",
    "$$\n",
    "\n",
    "进一步可得$|\\psi_3\\rangle$\n",
    "\n",
    "$$\n",
    "\\begin{equation}\n",
    "|\\psi_3\\rangle=\\begin{cases}\\pm |0\\rangle[\\frac{|0\\rangle-|1\\rangle}{\\sqrt{2}}],  \\text{if } f(0)=f(1)\\\\\\\\ \n",
    "\\pm |1\\rangle[\\frac{|0\\rangle-|1\\rangle}{\\sqrt{2}}],  \\text{if } f(0)\\neq f(1)\n",
    "\\end{cases}\n",
    "\\end{equation}\n",
    "$$\n",
    "\n",
    "我们可以把$|\\psi_3\\rangle$写成更紧凑的形式：\n",
    "$|\\psi_3\\rangle = \\pm |f(0) \\oplus f(1) \\rangle [\\frac{|0\\rangle-|1\\rangle}{\\sqrt{2}}] $\n",
    "\n",
    "$f(0) \\oplus f(1)=1,  f(0)=f(1)$\n",
    "\n",
    "$f(0) \\oplus f(1)=0,  f(0)\\neq f(1)$\n",
    "\n",
    "\n",
    "从这里我们可以看到量子优势，我们通过使用Hadamard门对叠加态进行干涉，一次测量就得到了$f(x)$的全局信息，而经典计算需要两次"
   ]
  },
  {
   "cell_type": "markdown",
   "metadata": {},
   "source": [
    "## 4. Deutsch-Jozsa 算法"
   ]
  },
  {
   "cell_type": "markdown",
   "metadata": {},
   "source": [
    "\n",
    "在这里，我们通过学习Deutsch-Jozsa 算法进一步来探索在某些特定的场景下量子计算相比经典计算的优势\n",
    "\n",
    "问题设置:  假设Bob拥有一个多比特的二进制函数 𝑓(𝑥)  :  {0,1}^𝑛   ⟶{0,1},  它可以是以下两个函数中的一个:\n",
    "\n",
    "\n",
    "1. 常函数:   对于𝑥的任意取值，𝑓(𝑥) 恒为常数\n",
    "2. 平衡函数: 对于一半的𝑥取值， 𝑓(𝑥) 为0,  另一半𝑓(𝑥)为1\n",
    "    Alice 通过可以给Bob x 的取值，通过Bob的反馈，Alice判断Bob手中是平衡函数还是常函数\n",
    "\n",
    "\n",
    "经典方法: 需要给Bob 2^𝑛⁄2+1 个x 取值估计.\n",
    "\n",
    "\n",
    "量子方法:  Deutsch-Jozsa algorithm\n"
   ]
  },
  {
   "cell_type": "markdown",
   "metadata": {},
   "source": [
    "![title](images/dj.png)"
   ]
  },
  {
   "cell_type": "markdown",
   "metadata": {},
   "source": [
    "First, Alice prepare an equally weighted superposition state"
   ]
  },
  {
   "cell_type": "code",
   "execution_count": 1,
   "metadata": {},
   "outputs": [],
   "source": [
    "from mindquantum import *\n",
    "n=3\n",
    "circ = Circuit()\n",
    "circ += X.on(n)\n",
    "circ +=BarrierGate(show=False)\n",
    "for i in range(n+1):\n",
    "    circ += H.on(i)\n",
    "\n"
   ]
  },
  {
   "cell_type": "markdown",
   "metadata": {},
   "source": [
    "$| \\psi_0\\rangle=|0\\rangle^{\\otimes n}$\n",
    "\n",
    "\n",
    "$|\\psi_1\\rangle= \\sum_{x\\in \\{0,1\\}^n} \\frac{|x\\rangle}{\\sqrt{2^n}}[\\frac{|0\\rangle-|1\\rangle}{\\sqrt{2}}]$"
   ]
  },
  {
   "cell_type": "markdown",
   "metadata": {},
   "source": [
    "Bob use his oracle $U_f$ to act on the state prepared by Alice"
   ]
  },
  {
   "cell_type": "code",
   "execution_count": 2,
   "metadata": {},
   "outputs": [],
   "source": [
    "for i in range(n):\n",
    "    circ += X.on(n,i) ## one kind of oracle for balanced function\n",
    "circ += BarrierGate(show=False)"
   ]
  },
  {
   "cell_type": "markdown",
   "metadata": {},
   "source": [
    "$|\\psi_2\\rangle= \\sum_{x\\in \\{0,1\\}^n} \\frac{(-1)^{f(x)}|x\\rangle}{\\sqrt{2^n}}[\\frac{|0\\rangle-|1\\rangle}{\\sqrt{2}}]$"
   ]
  },
  {
   "cell_type": "markdown",
   "metadata": {},
   "source": [
    "怎么证明上面的一系列CNOT 能够实现平衡函数的某一情况下的oracle?\n",
    "\n",
    "\n",
    "   证明：\n",
    "\n",
    "留作思考题？\n",
    "    "
   ]
  },
  {
   "cell_type": "markdown",
   "metadata": {},
   "source": [
    "Alice uses Hadamarad gate to interfere the state estimated by Bob with his oracle"
   ]
  },
  {
   "cell_type": "code",
   "execution_count": 3,
   "metadata": {},
   "outputs": [],
   "source": [
    "for i in range(n):\n",
    "    circ += H.on(i)"
   ]
  },
  {
   "cell_type": "markdown",
   "metadata": {},
   "source": [
    "$\\text{H}|x\\rangle = \\sum_z\\frac{(-1)^{xz}|z\\rangle}{\\sqrt{2}}$\n",
    "\n",
    "\n",
    "$\\text{H}^{\\otimes n}|x_1,...,x_n\\rangle = \\sum_{z_1,...,z_n}\\frac{(-1)^{x_1z_1+..x_nz_n}|z_1,...z_n\\rangle}{\\sqrt{2^n}}$\n",
    "\n",
    "$\\text{H}^{\\otimes n}|x\\rangle = \\sum_{z}\\frac{(-1)^{x . z}|z\\rangle}{\\sqrt{2^n}}$\n",
    "\n",
    "其中 $x.z$ 是x和z 之间的内积，并对2求余\n",
    "\n",
    "$|\\psi_3\\rangle= \\text{H}^{\\otimes n} |\\psi_2\\rangle = \\sum_z \\sum_x \\frac{(-1)^{x.z+f(x)}|z\\rangle}{2^n}[\\frac{|0\\rangle-|1\\rangle}{\\sqrt{2}}]$\n",
    "\n"
   ]
  },
  {
   "cell_type": "markdown",
   "metadata": {},
   "source": [
    "Alice measure the query register and do sampling"
   ]
  },
  {
   "cell_type": "code",
   "execution_count": 4,
   "metadata": {},
   "outputs": [
    {
     "name": "stdout",
     "output_type": "stream",
     "text": [
      "√2/2¦0111⟩\n",
      "-√2/2¦1111⟩\n",
      "q0: ───────H────●──────────────H──\n",
      "                │\n",
      "q1: ───────H────┼────●─────────H──\n",
      "                │    │\n",
      "q2: ───────H────┼────┼────●────H──\n",
      "                │    │    │\n",
      "q3: ──X────H────X────X────X───────\n",
      "shots: 1\n",
      "Keys: q2 q1 q0│0.00     0.2         0.4         0.6         0.8         1.0\n",
      "──────────────┼───────────┴───────────┴───────────┴───────────┴───────────┴\n",
      "           111│▓▓▓▓▓▓▓▓▓▓▓▓▓▓▓▓▓▓▓▓▓▓▓▓▓▓▓▓▓▓▓▓▓▓▓▓▓▓▓▓▓▓▓▓▓▓▓▓▓▓▓▓▓▓▓▓▓▓▓▓\n",
      "              │\n",
      "{'111': 1}\n"
     ]
    }
   ],
   "source": [
    "\n",
    "sim=Simulator('projectq', n+1)\n",
    "sim.apply_circuit(circ)\n",
    "print(sim.get_qs(True))\n",
    "print(circ)\n",
    "\n",
    "sim.reset()\n",
    "for i in range(n):\n",
    "    circ += Measure().on(i)\n",
    "bs=sim.sampling(circ)\n",
    "print(bs)"
   ]
  },
  {
   "cell_type": "markdown",
   "metadata": {},
   "source": [
    "## 5. 作业\n",
    "![title](images/homework.png)\n",
    "\n",
    "证明上面的一系列CNOT能够实现平衡函数的某一情况下的oracle？"
   ]
  }
 ],
 "metadata": {
  "interpreter": {
   "hash": "a182acf0257c008edcf169c479f8bad61e24074d18dad933dc2db51e4c4de282"
  },
  "kernelspec": {
   "display_name": "Python 3.7.5 64-bit",
   "name": "python3"
  },
  "language_info": {
   "codemirror_mode": {
    "name": "ipython",
    "version": 3
   },
   "file_extension": ".py",
   "mimetype": "text/x-python",
   "name": "python",
   "nbconvert_exporter": "python",
   "pygments_lexer": "ipython3",
   "version": "3.7.5"
  }
 },
 "nbformat": 4,
 "nbformat_minor": 2
}
