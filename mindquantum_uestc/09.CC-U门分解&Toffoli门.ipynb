{
 "cells": [
  {
   "cell_type": "markdown",
   "metadata": {},
   "source": [
    "![banner](https://mindspore.cn/static/img/logo_black.74c3909e.png)\n",
    "\n",
    "# CC-U 门分解\n",
    "\n",
    "接下来的讨论是为之后证明CNOT与单比特门的集合的通用性做铺垫，我们需要一些分解线路的方法作为工具。\n",
    "\n",
    "对于多控制门，我们考虑以下情况：\n",
    "$$\n",
    "U=V^2\n",
    "$$\n",
    "存在以下等价线路：\n",
    "\n",
    "![CC-U gate decomposition](images/CC_U_decomposition.png)\n",
    "\n",
    "这是一种用受控V门简化CC-U门的标准分解方法。\n",
    "\n",
    "为了理解它（不是证明它），让我们忘记第一个和最后一个控制操作。 在这种情况下，中间部分给出了以下变换：\n",
    "\n",
    "$$\n",
    "\\begin{aligned}\n",
    "|00\\rangle & \\rightarrow I  \\qquad \\qquad |00\\rangle\\langle 00| \\otimes I \\rightarrow |00\\rangle\\langle 00| \\otimes I \\\\\n",
    "|11\\rangle & \\rightarrow I  \\qquad \\qquad |11\\rangle\\langle 11| \\otimes I \\rightarrow |11\\rangle\\langle 11| \\otimes V^2 \\\\\n",
    "|01\\rangle & \\rightarrow V^\\dagger \\qquad \\quad |01\\rangle\\langle 01| \\otimes V^\\dagger \\rightarrow |01\\rangle\\langle 01| \\otimes V^\\dagger V \\\\\n",
    "|10\\rangle & \\rightarrow V^\\dagger \\qquad \\quad |10\\rangle\\langle 10| \\otimes V^\\dagger \\rightarrow |10\\rangle\\langle 10| \\otimes V V^\\dagger\n",
    "\\end{aligned}\n",
    "$$\n",
    "\n",
    "CC-U门的效果实际上是这样：\n",
    "$$\n",
    "C_{U}=|00\\rangle\\langle 00|\\otimes I+| 01\\rangle\\langle 01|\\otimes I+| 10\\rangle\\langle 10|\\otimes I+| 11\\rangle\\langle 11| \\otimes U\n",
    "$$\n",
    "如果我们现在应用回第一个和最后一个受控操作，那么我们会得到正确的答案。\n",
    "\n",
    "<br>\n",
    "\n",
    "我们也可以选择一个实例，用 MindQuantum 验证以上线路的等价性，现在我们令$U = Y$。\n",
    "\n",
    "首先构建 CC-Y 门，可以通过`list`将多个控制位输入`Y`门的第二个参数得到多控制Y门。"
   ]
  },
  {
   "cell_type": "code",
   "execution_count": 1,
   "metadata": {},
   "outputs": [
    {
     "data": {
      "image/svg+xml": "<div class=\"nb-html-output output_area\"><svg xmlns=\"http://www.w3.org/2000/svg\" width=\"156.8\" height=\"188.0\" xmlns:xlink=\"http://www.w3.org/1999/xlink\">\n<rect x=\"0\" y=\"12.0\" width=\"156.8\" height=\"188.0\" fill=\"#ffffff\" />\n<text x=\"20.0\" y=\"40.0\" font-size=\"16px\" dominant-baseline=\"middle\" text-anchor=\"start\" font-family=\"Arial\" font-weight=\"normal\" fill=\"#252b3a\" >\nq0:\n </text>\n<text x=\"20.0\" y=\"100.0\" font-size=\"16px\" dominant-baseline=\"middle\" text-anchor=\"start\" font-family=\"Arial\" font-weight=\"normal\" fill=\"#252b3a\" >\nq1:\n </text>\n<text x=\"20.0\" y=\"160.0\" font-size=\"16px\" dominant-baseline=\"middle\" text-anchor=\"start\" font-family=\"Arial\" font-weight=\"normal\" fill=\"#252b3a\" >\nq2:\n </text>\n<line x1=\"48.8\" x2=\"136.8\" y1=\"40.0\" y2=\"40.0\" stroke=\"#adb0b8\" stroke-width=\"1\" />\n<line x1=\"48.8\" x2=\"136.8\" y1=\"100.0\" y2=\"100.0\" stroke=\"#adb0b8\" stroke-width=\"1\" />\n<line x1=\"48.8\" x2=\"136.8\" y1=\"160.0\" y2=\"160.0\" stroke=\"#adb0b8\" stroke-width=\"1\" />\n<circle cx=\"92.8\" cy=\"40.0\" r=\"4\" fill=\"#5e7ce0\" />\n<circle cx=\"92.8\" cy=\"100.0\" r=\"4\" fill=\"#5e7ce0\" />\n<line x1=\"92.8\" x2=\"92.8\" y1=\"40.0\" y2=\"160.0\" stroke=\"#5e7ce0\" stroke-width=\"3\" />\n<rect x=\"72.8\" y=\"140.0\" width=\"40.0\" height=\"40\" rx=\"4\" ry=\"4\" stroke=\"#ffffff\" stroke-width=\"0\" fill=\"#5e7ce0\" fill-opacity=\"1\" />\n<text x=\"92.8\" y=\"160.0\" font-size=\"20px\" dominant-baseline=\"middle\" text-anchor=\"middle\" font-family=\"Arial\" font-weight=\"normal\" fill=\"#ffffff\" >\nY\n </text>\n\n</svg></div>",
      "text/plain": [
       "<mindquantum.io.display.circuit_svg_drawer.SVGCircuit at 0x7fdce0dba730>"
      ]
     },
     "execution_count": 1,
     "metadata": {},
     "output_type": "execute_result"
    }
   ],
   "source": [
    "from mindquantum.core.gates import Y\n",
    "from mindquantum.core.circuit import Circuit\n",
    "\n",
    "circ = Circuit()\n",
    "circ += Y.on(2, [0, 1])\n",
    "circ.svg()"
   ]
  },
  {
   "cell_type": "markdown",
   "metadata": {},
   "source": [
    "接下来需要得到$V$使得$V^2 = Y$，这可以通过接口`Power()`实现。然后构建出相应线路。"
   ]
  },
  {
   "cell_type": "code",
   "execution_count": 2,
   "metadata": {},
   "outputs": [
    {
     "data": {
      "image/svg+xml": "<div class=\"nb-html-output output_area\"><svg xmlns=\"http://www.w3.org/2000/svg\" width=\"517.0\" height=\"188.0\" xmlns:xlink=\"http://www.w3.org/1999/xlink\">\n<rect x=\"0\" y=\"12.0\" width=\"517.0\" height=\"188.0\" fill=\"#ffffff\" />\n<text x=\"20.0\" y=\"40.0\" font-size=\"16px\" dominant-baseline=\"middle\" text-anchor=\"start\" font-family=\"Arial\" font-weight=\"normal\" fill=\"#252b3a\" >\nq0:\n </text>\n<text x=\"20.0\" y=\"100.0\" font-size=\"16px\" dominant-baseline=\"middle\" text-anchor=\"start\" font-family=\"Arial\" font-weight=\"normal\" fill=\"#252b3a\" >\nq1:\n </text>\n<text x=\"20.0\" y=\"160.0\" font-size=\"16px\" dominant-baseline=\"middle\" text-anchor=\"start\" font-family=\"Arial\" font-weight=\"normal\" fill=\"#252b3a\" >\nq2:\n </text>\n<line x1=\"48.8\" x2=\"497.0\" y1=\"40.0\" y2=\"40.0\" stroke=\"#adb0b8\" stroke-width=\"1\" />\n<line x1=\"48.8\" x2=\"497.0\" y1=\"100.0\" y2=\"100.0\" stroke=\"#adb0b8\" stroke-width=\"1\" />\n<line x1=\"48.8\" x2=\"497.0\" y1=\"160.0\" y2=\"160.0\" stroke=\"#adb0b8\" stroke-width=\"1\" />\n<circle cx=\"112.8\" cy=\"100.0\" r=\"4\" fill=\"#5e7ce0\" />\n<line x1=\"112.8\" x2=\"112.8\" y1=\"100.0\" y2=\"160.0\" stroke=\"#5e7ce0\" stroke-width=\"3\" />\n<rect x=\"72.8\" y=\"140.0\" width=\"80.0\" height=\"40\" rx=\"4\" ry=\"4\" stroke=\"#ffffff\" stroke-width=\"0\" fill=\"#5e7ce0\" fill-opacity=\"1\" />\n<text x=\"112.8\" y=\"160.0\" font-size=\"20px\" dominant-baseline=\"middle\" text-anchor=\"middle\" font-family=\"Arial\" font-weight=\"normal\" fill=\"#ffffff\" >\nY^0.5\n </text>\n\n<circle cx=\"192.8\" cy=\"40.0\" r=\"4\" fill=\"#16acff\" />\n<line x1=\"192.8\" x2=\"192.8\" y1=\"40.0\" y2=\"100.0\" stroke=\"#16acff\" stroke-width=\"3\" />\n<rect x=\"172.8\" y=\"80.0\" width=\"40\" height=\"40\" rx=\"4\" ry=\"4\" stroke=\"#ffffff\" stroke-width=\"0\" fill=\"#16acff\" fill-opacity=\"1\" />\n<line x1=\"178.8\" x2=\"206.8\" y1=\"100.0\" y2=\"100.0\" stroke=\"#ffffff\" stroke-width=\"4\" />\n<line x1=\"192.8\" x2=\"192.8\" y1=\"86.0\" y2=\"114.0\" stroke=\"#ffffff\" stroke-width=\"4\" />\n<circle cx=\"272.8\" cy=\"100.0\" r=\"4\" fill=\"#5e7ce0\" />\n<line x1=\"272.8\" x2=\"272.8\" y1=\"100.0\" y2=\"160.0\" stroke=\"#5e7ce0\" stroke-width=\"3\" />\n<rect x=\"232.8\" y=\"140.0\" width=\"80.0\" height=\"40\" rx=\"4\" ry=\"4\" stroke=\"#ffffff\" stroke-width=\"0\" fill=\"#5e7ce0\" fill-opacity=\"1\" />\n<text x=\"272.8\" y=\"160.0\" font-size=\"20px\" dominant-baseline=\"middle\" text-anchor=\"middle\" font-family=\"Arial\" font-weight=\"normal\" fill=\"#ffffff\" >\nY^0.5\n </text>\n<text x=\"308.8\" y=\"150.0\" font-size=\"14.0px\" dominant-baseline=\"middle\" text-anchor=\"middle\" font-family=\"Arial\" font-weight=\"normal\" fill=\"#ffffff\" >\n†\n </text>\n\n<circle cx=\"353.0\" cy=\"40.0\" r=\"4\" fill=\"#16acff\" />\n<line x1=\"353.0\" x2=\"353.0\" y1=\"40.0\" y2=\"100.0\" stroke=\"#16acff\" stroke-width=\"3\" />\n<rect x=\"333.0\" y=\"80.0\" width=\"40\" height=\"40\" rx=\"4\" ry=\"4\" stroke=\"#ffffff\" stroke-width=\"0\" fill=\"#16acff\" fill-opacity=\"1\" />\n<line x1=\"339.0\" x2=\"367.0\" y1=\"100.0\" y2=\"100.0\" stroke=\"#ffffff\" stroke-width=\"4\" />\n<line x1=\"353.0\" x2=\"353.0\" y1=\"86.0\" y2=\"114.0\" stroke=\"#ffffff\" stroke-width=\"4\" />\n<circle cx=\"433.0\" cy=\"40.0\" r=\"4\" fill=\"#5e7ce0\" />\n<line x1=\"433.0\" x2=\"433.0\" y1=\"40.0\" y2=\"160.0\" stroke=\"#5e7ce0\" stroke-width=\"3\" />\n<rect x=\"393.0\" y=\"140.0\" width=\"80.0\" height=\"40\" rx=\"4\" ry=\"4\" stroke=\"#ffffff\" stroke-width=\"0\" fill=\"#5e7ce0\" fill-opacity=\"1\" />\n<text x=\"433.0\" y=\"160.0\" font-size=\"20px\" dominant-baseline=\"middle\" text-anchor=\"middle\" font-family=\"Arial\" font-weight=\"normal\" fill=\"#ffffff\" >\nY^0.5\n </text>\n\n</svg></div>",
      "text/plain": [
       "<mindquantum.io.display.circuit_svg_drawer.SVGCircuit at 0x7fdce168afa0>"
      ]
     },
     "execution_count": 2,
     "metadata": {},
     "output_type": "execute_result"
    }
   ],
   "source": [
    "from mindquantum.core.gates import Power, X\n",
    "\n",
    "V = Power(Y, 0.5)\n",
    "circ2 = Circuit()\n",
    "circ2 += V.on(2, 1)\n",
    "circ2 += X.on(1, 0)\n",
    "circ2 += V.hermitian().on(2, 1)\n",
    "circ2 += X.on(1, 0)\n",
    "circ2 += V.on(2, 0)\n",
    "\n",
    "circ2.svg()"
   ]
  },
  {
   "cell_type": "markdown",
   "metadata": {},
   "source": [
    "将两个线路的矩阵进行比对，判断是否等价。"
   ]
  },
  {
   "cell_type": "code",
   "execution_count": 3,
   "metadata": {},
   "outputs": [
    {
     "name": "stdout",
     "output_type": "stream",
     "text": [
      "True\n"
     ]
    }
   ],
   "source": [
    "import numpy as np\n",
    "\n",
    "is_equiv = np.allclose(circ.matrix(), circ2.matrix())\n",
    "print(is_equiv)"
   ]
  },
  {
   "cell_type": "markdown",
   "metadata": {},
   "source": [
    "可以看到，两个线路的对应矩阵完全相同。"
   ]
  },
  {
   "cell_type": "markdown",
   "metadata": {},
   "source": [
    "# Toffoli 门\n",
    "\n",
    "当$U = X$时，得到的CC-X门被称为Toffoli门。在这种情况下，$V=(1-i)(I+iX)/2$。可以快速证明$V$是幺正的：\n",
    "$$\n",
    "V^\\dagger = (1+i)(I-iX)/2\n",
    "$$\n",
    "然后\n",
    "$$\n",
    "V^{\\dagger} V=\\frac{1}{4}(1-i)(1+i)(I-i X)(I+i X)=\\frac{1}{2}(I+I)=I\n",
    "$$\n",
    "现在我们知道如何用CNOT+单比特门集合来模拟Toffoli门。接下来是Toffoli门的第一个应用，分解多控制$U$门：\n",
    "$$\n",
    "C_{n}(U)\\left|x_{1} x_{2} x_{3} x_{4} x_{5}\\right\\rangle|\\psi\\rangle=\\left|x_{1} x_{2} x_{3} x_{4} x_{5}\\right\\rangle U^{x_{1} x_{2} x_{3} x_{4} x_{5}}|\\psi\\rangle\n",
    "$$\n",
    "下图中的$|c_1\\rangle,|c_2\\rangle\\cdots |c_5\\rangle$就等同于$\\left|x_{1} x_{2} x_{3} x_{4} x_{5}\\right\\rangle$：\n",
    "\n",
    "![multiple-control U gate decomposition](images/multiple_CU_decomposition.png)\n",
    "\n",
    "以上线路可以直接看出其效果：如果$c_1$和$c_2$都是$|1\\rangle$，则第一个辅助比特翻转为$|1\\rangle$；如果$c_3$和第一个辅助比特都是$|1\\rangle$则第二个辅助比特翻转为$|1\\rangle$（这意味着$c_1,c_2,c_3$都是$|1\\rangle$），依此类推。因此最后只有所有控制位都为$|1\\rangle$时才作用$U$门，即实现了多控制$U$门。\n",
    "\n",
    "## 示例\n",
    "\n",
    "考虑初态$\\alpha|00000\\rangle|\\psi\\rangle+\\beta|11111\\rangle|\\psi\\rangle$，插入中间的辅助量子比特后表示为$\\alpha|00000\\rangle|0000\\rangle|\\psi\\rangle+\\beta|11111\\rangle|0000\\rangle|\\psi\\rangle$。现在作用上述量子线路（到CU处截止），得到的量子态如下：\n",
    "$$\n",
    "\\alpha|00000\\rangle|0000\\rangle|\\psi\\rangle+\\beta|11111\\rangle|1111\\rangle U|\\psi\\rangle\n",
    "$$\n",
    "此时辅助比特与系统比特纠缠在一起，这不是我们想要的。因此我们需要在最后将它们全部重置为$|0\\rangle$态，这正是后半部分的那些顺序相反的Toffoli门的作用。"
   ]
  },
  {
   "cell_type": "code",
   "execution_count": 4,
   "metadata": {},
   "outputs": [
    {
     "data": {
      "text/html": [
       "\n",
       "<table border=\"1\">\n",
       "  <tr>\n",
       "    <th>Software</th>\n",
       "    <th>Version</th>\n",
       "  </tr>\n",
       "<tr><td>mindquantum</td><td>0.9.0</td></tr>\n",
       "<tr><td>numpy</td><td>1.23.5</td></tr>\n",
       "<tr>\n",
       "    <th>System</th>\n",
       "    <th>Info</th>\n",
       "</tr>\n",
       "<tr><td>Python</td><td>3.8.13</td></tr><tr><td>OS</td><td>Darwin x86_64</td></tr><tr><td>Memory</td><td>34.36 GB</td></tr><tr><td>CPU Max Thread</td><td>16</td></tr><tr><td>Date</td><td>Wed Jun  7 20:34:55 2023</td></tr>\n",
       "</table>\n"
      ],
      "text/plain": [
       "<show_info.InfoTable at 0x7fdce168a2b0>"
      ]
     },
     "execution_count": 4,
     "metadata": {},
     "output_type": "execute_result"
    }
   ],
   "source": [
    "from show_info import InfoTable\n",
    "\n",
    "InfoTable('mindquantum', 'numpy')"
   ]
  },
  {
   "cell_type": "markdown",
   "metadata": {},
   "source": [
    "# 习题\n",
    "\n",
    "## Exercise 1\n",
    "\n",
    "设上图中的多控制U门为$U = R_x(\\frac{\\pi}{5})$，请用MindQuantum验证多控制$R_x$门可以分解为多个Toffoli门和控制$R_x$门（验证线路矩阵等价）。"
   ]
  },
  {
   "cell_type": "code",
   "execution_count": null,
   "metadata": {},
   "outputs": [],
   "source": []
  }
 ],
 "metadata": {
  "kernelspec": {
   "display_name": "Python 3 (ipykernel)",
   "language": "python",
   "name": "python3"
  },
  "language_info": {
   "codemirror_mode": {
    "name": "ipython",
    "version": 3
   },
   "file_extension": ".py",
   "mimetype": "text/x-python",
   "name": "python",
   "nbconvert_exporter": "python",
   "pygments_lexer": "ipython3",
   "version": "3.8.13"
  },
  "vscode": {
   "interpreter": {
    "hash": "acc57148d012b3a87b6bd94e84aac5f0597fe9bee67f87efb58a2afa0e5376ad"
   }
  }
 },
 "nbformat": 4,
 "nbformat_minor": 2
}
