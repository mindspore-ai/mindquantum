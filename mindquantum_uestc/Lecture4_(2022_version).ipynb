{
 "cells": [
  {
   "cell_type": "markdown",
   "metadata": {},
   "source": [
    "# 变分量子算法\n",
    "Written by MindQuantum Team\n",
    "<br>\n",
    "\n",
    "1. 背景介绍\n",
    "2. 变分量子算法的要素构成\n",
    "   1.1 量子比特<br>\n",
    "   2.1 参数化量子门<br>\n",
    "   2.2 波函数拟设<br>\n",
    "   2.3 损失函数<br>\n",
    "   2.4 求导规则<br>\n",
    "   2.5 优化步骤<br>\n",
    "3. 应用领域<br>\n",
    "4. 作业<br><br>"
   ]
  },
  {
   "cell_type": "markdown",
   "metadata": {},
   "source": [
    "## 1. 背景介绍\n",
    "\n",
    "![intro](images/intro.png)\n",
    "\n",
    "### NISQ阶段的有效量子算法：变分量子算法VQA\n",
    "\n",
    "![vqe](images/vqa.png)\n",
    "\n",
    "变分量子算法是结合量子算法和经典优化算法的量子算法，其基本步骤如下：\n",
    "\n",
    "1. 设计参数化量子线路\n",
    "2. 根据观察量定义好损失函数\n",
    "3. 根据损失函数，利用经典优化器更新参数\n",
    "\n",
    "### 应用场景\n",
    "\n",
    "1. 哈密顿量的基态能量求解\n",
    "2. 监督学习/非监督学习\n",
    "\n",
    "## 2. 变分量子算法的要素构成\n",
    "\n",
    "### 2.1 参数化量子门\n",
    "\n",
    "非参数化量子门通常有：`X`，`Y`，`Z`，`H`，`CNOT`等。\n",
    "参数化量子门：`RX`，`RY`，`RZ`等。\n",
    "\n",
    "例如绕`X`，`Y`，`Z`轴旋转$\\theta$角的旋转门：\n",
    "\n",
    "$$RX(\\theta) = e^{-i\\theta X/2}=\\cos(\\theta/2)I-i\\sin(\\theta/2)X$$\n",
    "$$RY(\\theta) = e^{-i\\theta Y/2}=\\cos(\\theta/2)I-i\\sin(\\theta/2)Y$$\n",
    "$$RZ(\\theta) = e^{-i\\theta Z/2}=\\cos(\\theta/2)I-i\\sin(\\theta/2)Z$$\n",
    "\n",
    "更一般的：\n",
    "\n",
    "$$e^{-iθ (\\vec{v} \\cdot \\vec{\\sigma})}=\\cos(\\theta/2)I-i\\sin(\\theta/2)\\vec{v}\\cdot \\vec{\\sigma}$$\n",
    "\n",
    "其中$\\vec{v}$是任意的三维单位矢量，$\\vec{\\sigma}=(\\sigma_x, \\sigma_y, \\sigma_z)$"
   ]
  },
  {
   "cell_type": "markdown",
   "metadata": {},
   "source": [
    "### 2.2 波函数拟设\n",
    "\n",
    "波函数拟设（ansatz）是一段含参数量子门的量子线路（Parameterized quantum circuit，PQC），用于表征一个未知的幺正变换，通过改变PQC中参数，我们可以改变幺正变换的作用效果。\n",
    "\n",
    "例如Hardware efficient ansatz是一种硬件友好型的ansatz，它的两比特门只在近邻比特上出现。在MindQuantum中内置了许多ansatz，例如我们可以通过如下代码来生成一个`HardwareEfficientAnsatz`。"
   ]
  },
  {
   "cell_type": "markdown",
   "metadata": {},
   "source": [
    "##"
   ]
  },
  {
   "cell_type": "code",
   "execution_count": 1,
   "metadata": {},
   "outputs": [
    {
     "data": {
      "text/html": [
       "<pre style=\"white-space:pre;overflow-x:auto;line-height:normal;font-family:Menlo,'DejaVu Sans Mono',consolas,'Courier New',monospace\"></pre>\n"
      ],
      "text/plain": []
     },
     "metadata": {},
     "output_type": "display_data"
    },
    {
     "data": {
      "text/html": [
       "<pre style=\"white-space: pre;\"></pre>\n"
      ],
      "text/plain": [
       "q0: ──RY(d0_n0_0)────RZ(d0_n0_1)──────────────●─────────RY(d1_n0_0)────RZ(d1_n0_1)──\n",
       "                                              │\n",
       "q1: ──RY(d0_n1_0)────RZ(d0_n1_1)────●─────────Z─────────RY(d1_n1_0)────RZ(d1_n1_1)──\n",
       "                                    │\n",
       "q2: ──RY(d0_n2_0)────RZ(d0_n2_1)────Z────RY(d1_n2_0)────RZ(d1_n2_1)─────────────────"
      ]
     },
     "execution_count": 1,
     "metadata": {},
     "output_type": "execute_result"
    }
   ],
   "source": [
    "from mindquantum.algorithm.nisq.chem import HardwareEfficientAnsatz\n",
    "from mindquantum.core.gates import RY, RZ, Z\n",
    "ansatz = HardwareEfficientAnsatz(3, [RY, RZ], Z, [(1, 2), (0, 1)])\n",
    "ansatz.circuit"
   ]
  },
  {
   "cell_type": "markdown",
   "metadata": {},
   "source": [
    "如上，ansatz由量子参数门RY、RZ和非参数门CNOT门构成。更多ansatz请参考：\n",
    "\n",
    "![ansatz](images/ansatz.png)"
   ]
  },
  {
   "cell_type": "markdown",
   "metadata": {},
   "source": [
    "### 2.3 损失函数\n",
    "\n",
    "一般来说，我们需要对参数化量子线路演化出的末态进行测量，并计算出测量结果关于某些哈密顿量的期望值，假设所需求解问题的哈密顿量为$H$，量子态拟设Ansatz为$U(\\theta)$，则有：\n",
    "\n",
    "$$E(\\theta)=\\left<0\\right|U^\\dagger(\\theta)HU(\\theta)\\left|0\\right>$$\n",
    "\n",
    "对于基态能量求解问题：\n",
    "\n",
    "$$E_\\text{min}=\\min_\\theta L(\\theta)=\\min_\\theta E(\\theta)=\\min_\\theta \\left<0\\right|U^\\dagger (\\theta)HU(\\theta)\\left|0\\right>$$\n",
    "\n",
    "对于监督问题：\n",
    "\n",
    "$$\\min_\\theta L(\\theta)=\\min_{\\theta}L(E(\\theta),D_\\text{target})$$\n",
    "\n",
    "在上述问题中，机器学习的损失函数都是适用的。"
   ]
  },
  {
   "cell_type": "markdown",
   "metadata": {},
   "source": [
    "### 2.4 求导规则\n",
    "\n",
    "对于一般的损失函数\n",
    "\n",
    "$$L(E(\\theta), D_\\text{target})$$\n",
    "\n",
    "对其求导：\n",
    "\n",
    "$$\\frac{\\partial L(E(\\theta), D\\text{target})}{\\partial \\theta}=\\frac{\\partial L}{\\partial E}\\frac{\\partial E}{\\partial \\theta}$$\n",
    "\n",
    "因此，我们只需求期望值关于参数的导数：\n",
    "\n",
    "$$\\frac{\\partial E}{\\partial \\theta}=\\frac{\\partial \\left<0\\right|U^\\dagger (\\theta)HU(\\theta)\\left|0\\right>}{\\partial \\theta}=2\\text{Re}\\left(\n",
    "    \\left<0\\right|U^\\dagger(\\theta)H\\frac{\\partial U(\\theta)}{\\partial \\theta}\\left|0\\right>\n",
    "\\right)$$\n",
    "\n",
    "由上可发现，对期望值求导可归结为对量子门求导。"
   ]
  },
  {
   "cell_type": "markdown",
   "metadata": {},
   "source": [
    "含参量子门通常为RX、RY和RZ，我们以RX门为例，求其导数形式。\n",
    "\n",
    "$$RX(\\theta)=e^{-i\\theta X/2}=\\cos\\theta/2 I-i\\sin\\theta/2 X$$\n",
    "\n",
    "对$\\theta$求导数可得：\n",
    "\n",
    "$$\\frac{\\partial RX(\\theta)}{\\partial \\theta}=-iXe^{-i\\theta X/2}/2$$"
   ]
  },
  {
   "cell_type": "markdown",
   "metadata": {},
   "source": [
    "- Parameter Shift rule\n",
    "\n",
    "对上式进行更进一步运算\n",
    "\n",
    "$$\n",
    "\\begin{align*}\n",
    "\\frac{\\partial RX(\\theta)}{\\partial \\theta}&=-iXe^{-i\\theta X/2}/2 \\\\\n",
    "&=-\\sin(\\theta/2)I/2-i\\cos(\\theta/2)X/2 \\\\\n",
    "&=\\cos((\\theta+\\pi)/2)I/2-i\\sin((\\theta+\\pi)/2)X/2 \\\\\n",
    "&=\\frac{1}{2}RX(\\theta+\\pi)\n",
    "\\end{align*}\n",
    "$$\n",
    "\n",
    "更进一步，我们可以得到parameter shift rule:\n",
    "\n",
    "$$\\frac{\\partial E}{\\partial\\theta}=\\frac{1}{2}\\left(E(\\theta+\\pi/2)-E(\\theta-\\pi/2)\\right)$$"
   ]
  },
  {
   "cell_type": "markdown",
   "metadata": {},
   "source": [
    "### 2.5 优化步骤\n",
    "\n",
    "- 非梯度优化算法（Gradient Free）：SPSA、Nelder-Mead、Powell、COBYLA等\n",
    "\n",
    "![non_grad](images/non_grad.png)\n",
    "\n",
    "- 梯度优化算法（Gradient Base）：BFGS、ADAM、ADGRAD\n",
    "\n",
    "![grad](images/grad.png)\n"
   ]
  },
  {
   "cell_type": "markdown",
   "metadata": {},
   "source": [
    "## 3. 应用领域\n",
    "\n",
    "[组合优化Max-Cut问题求解教程](https://mindspore.cn/mindquantum/docs/zh-CN/master/quantum_approximate_optimization_algorithm.html)"
   ]
  },
  {
   "cell_type": "markdown",
   "metadata": {},
   "source": [
    "## 4. 作业\n",
    "[Max-Cut问题求解作业](https://gitee.com/mindspore/mindquantum/blob/research/meeting/uestc_qc/homework_d4.ipynb)"
   ]
  }
 ],
 "metadata": {
  "interpreter": {
   "hash": "a182acf0257c008edcf169c479f8bad61e24074d18dad933dc2db51e4c4de282"
  },
  "kernelspec": {
   "display_name": "Python 3.7.5 64-bit",
   "name": "python3"
  },
  "language_info": {
   "codemirror_mode": {
    "name": "ipython",
    "version": 3
   },
   "file_extension": ".py",
   "mimetype": "text/x-python",
   "name": "python",
   "nbconvert_exporter": "python",
   "pygments_lexer": "ipython3",
   "version": "3.7.5"
  },
  "orig_nbformat": 4
 },
 "nbformat": 4,
 "nbformat_minor": 2
}
