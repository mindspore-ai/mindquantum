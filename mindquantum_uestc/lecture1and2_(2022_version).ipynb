{
 "cells": [
  {
   "cell_type": "markdown",
   "metadata": {},
   "source": [
    "# 量子计算基础知识\n",
    "Written by MindQuantum Team\n",
    "<br>\n",
    "1. 量子力学基本概念<br>\n",
    "   1.1 量子比特<br>\n",
    "   1.2 量子态<br>\n",
    "   1.3 物理量与算符<br>\n",
    "   1.4 多比特量子态<br>\n",
    "2. 量子操作<br>\n",
    "   2.1 常见的单比特量子门<br>\n",
    "   2.2 双比特量子门<br>\n",
    "3. 量子线路<br>\n",
    "   3.1 Bell态的制备线路<br>\n",
    "   3.2 量子化学模拟的量子线路<br>\n",
    "4. 作业<br>\n",
    "   4.1 多比特的量子态矢量张量乘积计算<br>\n",
    "   4.2 基本单比特旋转门之间的变换关系<br>\n",
    "   4.3 $|0>+|1>$态做Y门<br><br>\n",
    "\n",
    "## 1. 量子力学基本概念\n",
    "### 1.1 量子比特\n",
    "经典比特：<br>\n",
    "比特状态：0或1<br>\n",
    "硬件实现：晶体管<br>\n",
    "控制方式：利用电压或电流控制<br>\n",
    "硬件成熟度：高，目前芯片晶体管密度达到$100 MTr/mm^2$<br>\n",
    "![jupyter](images/fig/classic_bit.png)\n",
    "\n",
    "量子比特：<br>\n",
    "比特状态：可以在0和1之间连续变化，态空间是连续的<br>\n",
    "硬件实现：多种线路同步发展（超导/离子阱/光量子等）<br>\n",
    "成熟度：较低，目前规模约在单芯片100比特以内<br>\n",
    "![jupyter](images/fig/quantum_bit.png)\n",
    "\n",
    "### 1.2 量子态\n",
    "量子比特的状态的一般数学形式\n",
    "$$\n",
    "|\\psi\\rangle = \\alpha | 0\\rangle + \\beta |1\\rangle\\tag{1},\n",
    "$$\n",
    "其中$\\alpha,\\beta$为对应本征态的概率幅：\n",
    "$$\n",
    "|\\alpha|^2 + |\\beta|^2 = 1,\n",
    "$$\n",
    "$|\\psi \\rangle$为量子态的狄拉克符号表示，分为左矢(bra, $\\langle\\psi|$)和右矢(ket, $|\\psi\\rangle$):\n",
    "$$\n",
    "|\\psi\\rangle = \\left(\\begin{matrix} \\alpha \\\\ \\beta \\end{matrix}\\right), \\langle\\psi| = \\left( \\alpha^* ,  \\beta^* \\right)\n",
    "$$\n",
    "$$\n",
    "|0\\rangle = \\left(\\begin{matrix} 1 \\\\ 0 \\end{matrix}\\right) , |1\\rangle = \\left(\\begin{matrix} 0 \\\\ 1 \\end{matrix}\\right)\n",
    "$$\n",
    "左矢为对应右矢的厄密共轭(Hermitian conjugate):\n",
    "$$\n",
    "\\langle\\psi| = (|\\psi\\rangle)^{\\dagger} = \\left(\\begin{matrix} \\alpha \\\\ \\beta \\end{matrix}\\right)^{\\dagger} = \\left(\\begin{matrix} \\alpha^* \\\\ \\beta^* \\end{matrix}\\right)^{T} = \\left( \\alpha^* ,  \\beta^* \\right)\n",
    "$$\n",
    "量子态符合现行代数的计算法则：\n",
    "内积：\n",
    "$$\n",
    "\\langle \\psi |\\psi \\rangle\n",
    "= \\left( \\alpha^* ,  \\beta^* \\right)  \\left(\\begin{matrix} \\alpha \\\\ \\beta \\end{matrix}\\right) \n",
    "= \\alpha^*\\alpha + \\beta^*\\beta \n",
    "= |\\alpha|^2 + |\\beta|^2 = 1\n",
    "$$\n",
    "外积：\n",
    "$$\n",
    "|\\psi\\rangle \\langle\\psi| \n",
    "=  \\left(\\begin{matrix} \\alpha \\\\ \\beta \\end{matrix}\\right)\\left( \\alpha^* ,  \\beta^* \\right)  \n",
    "= \\left(\\begin{matrix}\n",
    "\\alpha\\alpha^* & \\alpha \\beta^* \\\\\n",
    "\\beta\\alpha^* & \\beta\\beta^*\n",
    "\\end{matrix}\\right)\n",
    "$$\n",
    "更一般地，在现行空间中，两个态的内积\n",
    "$$\n",
    "\\langle\\phi|\\psi\\rangle = \\left( a^* ,  b^* \\right) \\left(\\begin{matrix} c \\\\ d \\end{matrix}\\right) = a^*c + b^*d \\le 1\n",
    "$$\n",
    "称为两个态的保真度(fidelity)"
   ]
  },
  {
   "cell_type": "code",
   "execution_count": 1,
   "metadata": {},
   "outputs": [],
   "source": [
    "import os\n",
    "os.environ['OMP_NUM_THREADS'] = '1'\n",
    "from mindquantum import Circuit, Simulator, Hamiltonian, QubitOperator\n",
    "from mindquantum import X, Y, Z, I\n",
    "import numpy as np"
   ]
  },
  {
   "cell_type": "code",
   "execution_count": 2,
   "metadata": {},
   "outputs": [
    {
     "name": "stdout",
     "output_type": "stream",
     "text": [
      "1¦00⟩\n",
      "1¦01⟩\n",
      "(array([[0.+0.j]]), array([], shape=(1, 1, 0), dtype=complex128))\n"
     ]
    }
   ],
   "source": [
    "sim1 = Simulator(backend='projectq', n_qubits=2)\n",
    "sim2 = Simulator(backend='projectq', n_qubits=2)\n",
    "\n",
    "#利用模拟器计算两个态的保真度\n",
    "sim1.reset()\n",
    "print(sim1.get_qs(True))\n",
    "sim1.apply_gate(X.on(0))\n",
    "print(sim1.get_qs(True))\n",
    "\n",
    "#sim1.reset()\n",
    "ops = sim2.get_expectation_with_grad(Hamiltonian(QubitOperator('')), circ_right=Circuit(), simulator_left=sim1)\n",
    "print(ops(np.array([])))"
   ]
  },
  {
   "cell_type": "code",
   "execution_count": 3,
   "metadata": {},
   "outputs": [
    {
     "data": {
      "text/plain": [
       "0j"
      ]
     },
     "execution_count": 3,
     "metadata": {},
     "output_type": "execute_result"
    }
   ],
   "source": [
    "# 利用numpy计算两个态的保真度\n",
    "s1 = sim1.get_qs()\n",
    "s2 = sim2.get_qs()\n",
    "F = np.matmul(s1, s2)\n",
    "F"
   ]
  },
  {
   "cell_type": "markdown",
   "metadata": {},
   "source": [
    "### 1.3 物理量与算符\n",
    "在量子力学中，物理量以算符的形式表示，数学上通常表示为一个矩阵。在系统的某一个态下，由于态本身会受测量改变，物理量对应的值也会随之改变。因此对于某一个任意的量子态，其物理量会有对应的期望值(Expectation)\n",
    "$$\n",
    "\\langle \\psi |O|\\psi\\rangle = \\left( a^* ,  b^* \\right)\n",
    "\\left(\\begin{matrix} o_{11} & o_{12} \\\\ o_{21} & o_{22} \\end{matrix}\\right)\n",
    "\\left(\\begin{matrix} c \\\\ d \\end{matrix}\\right)\n",
    "$$"
   ]
  },
  {
   "cell_type": "code",
   "execution_count": 4,
   "metadata": {},
   "outputs": [
    {
     "data": {
      "text/plain": [
       "(1+0j)"
      ]
     },
     "execution_count": 4,
     "metadata": {},
     "output_type": "execute_result"
    }
   ],
   "source": [
    "sim1.reset()\n",
    "sim1.get_expectation(Hamiltonian(QubitOperator('Z0 Z1')))"
   ]
  },
  {
   "cell_type": "markdown",
   "metadata": {},
   "source": [
    "### 1.4 多比特量子态\n",
    "对于多比特量子态，利用线性代数中的张量乘法(tensor product /Kronecker product)，可以从单比特的计算空间扩展到多比特空间\n",
    "$$\n",
    "|\\psi \\rangle \\otimes |\\phi\\rangle = \\left(\\begin{matrix} a \\\\ b \\end{matrix}\\right) \\otimes \\left(\\begin{matrix} c \\\\ d \\end{matrix}\\right)\n",
    "= \\left(\\begin{matrix} c\\left(\\begin{matrix} a \\\\ b \\end{matrix}\\right) \\\\ d\\left(\\begin{matrix} a \\\\ b \\end{matrix}\\right) \\end{matrix}\\right)\n",
    "= \\left(\\begin{matrix} ac \\\\ ad \\\\ bc \\\\ bd \\end{matrix}\\right)\n",
    "$$\n",
    "考虑量子本征态在空间中的排列可以得到，对于$|\\psi \\rangle \\otimes |\\phi\\rangle$ 有\n",
    "$$\n",
    "\\begin{pmatrix} ac \\\\ ad \\\\ bc \\\\ bd \\end{pmatrix} \\rightarrow\n",
    "\\begin{Bmatrix} |00\\rangle \\\\ |01\\rangle \\\\ |10\\rangle\\\\ |11\\rangle \\end{Bmatrix} \n",
    "$$\n",
    "量子计算的态空间为$2^N$\n",
    "![jupyter](images/fig/space.png)"
   ]
  },
  {
   "attachments": {},
   "cell_type": "markdown",
   "metadata": {},
   "source": [
    "## 2 量子操作\n",
    "对量子态的控制，可以一般性地表示为：\n",
    "$$\n",
    "|\\psi_1\\rangle = U_1|\\psi_0\\rangle\n",
    "$$\n",
    "其中$U_1$为量子操作或量子门(quantum gate)，理想的量子门操作具有幺正性(Unitarity)\n",
    "$$\n",
    "U^{\\dagger}U = I \\rightarrow U^{\\dagger}=U^{-1},\n",
    "$$\n",
    "或\n",
    "$$\n",
    "\\langle \\psi_1| \\psi_1\\rangle = \\langle\\psi_0| U^{\\dagger}U|\\psi_0\\rangle = 1\n",
    "$$\n",
    "### 2.1 常见的单比特量子门\n",
    "$$\n",
    "X|0\\rangle = \\begin{pmatrix} 0 & 1 \\\\1 & 0 \\end{pmatrix} \\begin{pmatrix} 1 \\\\ 0 \\end{pmatrix} = \\begin{pmatrix} 0 \\\\ 1 \\end{pmatrix} = |1\\rangle,\n",
    "$$\n",
    "$$\n",
    "X|1\\rangle = \\begin{pmatrix} 0 & 1 \\\\1 & 0 \\end{pmatrix} \\begin{pmatrix} 0 \\\\ 1 \\end{pmatrix} = \\begin{pmatrix} 1 \\\\ 0 \\end{pmatrix} = |0\\rangle,\n",
    "$$\n",
    "$$\n",
    "Z|\\psi\\rangle = \\begin{pmatrix} 1 & 0 \\\\0 & -1 \\end{pmatrix} \\begin{pmatrix} a \\\\ b \\end{pmatrix} \n",
    "= \\begin{pmatrix} a \\\\ -b \\end{pmatrix}\n",
    "= \\begin{pmatrix} a \\\\ e^{-i\\pi}b \\end{pmatrix}\n",
    "=a|0\\rangle + e^{-i\\pi}b|1\\rangle\n",
    "$$\n",
    "$$ Y = \\begin{pmatrix} 0 & -i \\\\i & 0 \\end{pmatrix}.$$"
   ]
  },
  {
   "cell_type": "code",
   "execution_count": 5,
   "metadata": {},
   "outputs": [
    {
     "data": {
      "text/plain": [
       "array([[ 0.+0.j, -0.-1.j],\n",
       "       [ 0.+1.j,  0.+0.j]])"
      ]
     },
     "execution_count": 5,
     "metadata": {},
     "output_type": "execute_result"
    }
   ],
   "source": [
    "from mindquantum import X, Y, Z\n",
    "sim = Simulator('projectq', 1)\n",
    "Y.matrix()"
   ]
  },
  {
   "cell_type": "markdown",
   "metadata": {},
   "source": [
    "利用量子力学中的对易关系(commutation relationship)，可以进行一些量子门之间的相互转化：\n",
    "$$\\left[ X, Y\\right] = XY-YX=2iZ,$$\n",
    "$$\\left[ Y, Z\\right] = YZ-ZY=2iX,$$\n",
    "$$\\left[ Z, X\\right] = ZX-XZ=2iY,$$\n",
    "$$ \\left[ X, X\\right] = \\left[ Y, Y\\right] = \\left[ Z, Z\\right] = 0$$"
   ]
  },
  {
   "cell_type": "code",
   "execution_count": 6,
   "metadata": {},
   "outputs": [
    {
     "data": {
      "text/plain": [
       "array([[ 1.+0.j,  0.+0.j],\n",
       "       [ 0.+0.j, -1.-0.j]])"
      ]
     },
     "execution_count": 6,
     "metadata": {},
     "output_type": "execute_result"
    }
   ],
   "source": [
    "# [X,Y] = 2iZ\n",
    "ym = Y.matrix()\n",
    "xm = X.matrix()\n",
    "(np.matmul(xm, ym) - np.matmul(ym, xm))/2j"
   ]
  },
  {
   "cell_type": "markdown",
   "metadata": {},
   "source": [
    "H门(Hadamard gate):\n",
    "$$\n",
    "H = \\frac1{\\sqrt{2}} \\begin{pmatrix} 1 & 1 \\\\1 & -1 \\end{pmatrix} = \\frac1{\\sqrt{2}} (X + Z)\n",
    "$$\n",
    "![jupyter](images/fig/hadamard.png)"
   ]
  },
  {
   "cell_type": "code",
   "execution_count": 7,
   "metadata": {},
   "outputs": [
    {
     "data": {
      "text/plain": [
       "array([0.70710678+0.j, 0.70710678+0.j])"
      ]
     },
     "execution_count": 7,
     "metadata": {},
     "output_type": "execute_result"
    }
   ],
   "source": [
    "# Hadamard 门作用在 0 态上\n",
    "from mindquantum import H\n",
    "sim.reset()\n",
    "sim.apply_gate(H.on(0))\n",
    "sim.get_qs()"
   ]
  },
  {
   "cell_type": "markdown",
   "metadata": {},
   "source": [
    "更一般地，考虑量子态在比特翻转的基础上，做出某个特定角度$\\theta$的旋转,如绕X轴旋转\n",
    "$$\n",
    "R_x(\\theta) = e^{-i\\frac{\\theta}2X},\n",
    "$$\n",
    "其中对于矩阵的指数形式计算，可以利用\n",
    "$$\n",
    "e^A=I + A + \\frac1{2!}A^2 + ...\n",
    "$$\n",
    "展开，且注意到$X^2 = I$, 则可以得到\n",
    "$$\n",
    "R_x(\\theta) \\begin{split}\n",
    "&= I + \\left( -i\\frac{\\theta}2X\\right) + \\frac1{2!}\\left( -i\\frac{\\theta}2X\\right)^2+...\\\\\n",
    "&=\\left( 1-\\frac1{2!}\\left( \\frac{\\theta}2\\right)^2 +... \\right)I - iX\\left( 1 - \\frac1{3!}\\left(\\frac{\\theta}2\\right)+... \\right)\\\\\n",
    "&= I \\cos{\\frac{\\theta}2} - iX\\sin{\\frac{\\theta}2}\\\\\n",
    "&= \\begin{pmatrix} \\cos{\\frac{\\theta}2} & - i\\sin{\\frac{\\theta}2} \\\\- i\\sin{\\frac{\\theta}2} & \\cos{\\frac{\\theta}2} \\end{pmatrix}\n",
    "\\end{split}\n",
    "$$\n",
    "![jupyter](images/fig/bloch3d-blank.png)"
   ]
  },
  {
   "cell_type": "code",
   "execution_count": 8,
   "metadata": {},
   "outputs": [
    {
     "data": {
      "text/plain": [
       "array([0.70710678+0.j        , 0.        -0.70710678j])"
      ]
     },
     "execution_count": 8,
     "metadata": {},
     "output_type": "execute_result"
    }
   ],
   "source": [
    "#量子态绕着X轴旋转，当theta=pi/2\n",
    "from mindquantum import RX\n",
    "sim = Simulator('projectq', 1)\n",
    "sim.apply_gate(RX(np.pi/2).on(0))\n",
    "sim.get_qs()"
   ]
  },
  {
   "cell_type": "markdown",
   "metadata": {},
   "source": [
    "任意方向的单比特旋转门：\n",
    "$$\n",
    "R_n(\\varphi) = e^{-i\\frac{\\varphi}2 \\vec{n}\\cdot \\vec{\\sigma}}\n",
    "=I\\cos{\\frac{\\varphi}2} - i (\\vec{n}\\cdot \\vec{\\sigma})\\sin{\\frac{\\varphi}2}.\n",
    "$$\n",
    "加上全局相位$\\alpha$，可以得到任意单比特操作的数学表示：\n",
    "$$\n",
    "U = e^{i\\alpha}R_n(\\varphi)\n",
    "$$"
   ]
  },
  {
   "cell_type": "markdown",
   "metadata": {},
   "source": [
    "### 2.2 双比特量子门\n",
    "$$\n",
    "CNOT = \\begin{pmatrix} \n",
    "1 & 0 & 0 & 0 \\\\\n",
    "0 & 1 & 0 & 0 \\\\\n",
    "0 & 0 & 0 & 1 \\\\\n",
    "0 & 0 & 1 & 0 \\\\\n",
    "\\end{pmatrix}\n",
    "$$\n",
    "这样的量子操作矩阵作用在两比特的量子态上会发生什么？\n",
    "$$\n",
    "CNOT|00\\rangle = \\begin{pmatrix} \n",
    "1 & 0 & 0 & 0 \\\\\n",
    "0 & 1 & 0 & 0 \\\\\n",
    "0 & 0 & 0 & 1 \\\\\n",
    "0 & 0 & 1 & 0 \\\\\n",
    "\\end{pmatrix}\n",
    "\\begin{pmatrix} 1 \\\\ 0 \\\\ 0 \\\\ 0 \\end{pmatrix} = \\begin{pmatrix} 1 \\\\ 0 \\\\ 0 \\\\ 0 \\end{pmatrix}  = |00\\rangle,\n",
    "$$\n",
    "同样地\n",
    "$$CNOT|01\\rangle = |01\\rangle,$$\n",
    "$$CNOT|10\\rangle = |11\\rangle,$$\n",
    "$$CNOT|11\\rangle = |10\\rangle.$$\n",
    "### 当比特1在0态时，比特2不变；当比特1在1态时，比特2翻转"
   ]
  },
  {
   "cell_type": "code",
   "execution_count": 9,
   "metadata": {},
   "outputs": [
    {
     "data": {
      "text/plain": [
       "'1¦10⟩'"
      ]
     },
     "execution_count": 9,
     "metadata": {},
     "output_type": "execute_result"
    }
   ],
   "source": [
    "from mindquantum import X\n",
    "\n",
    "# 11->10\n",
    "sim1.set_qs(np.array([0,0,0,1]))\n",
    "sim1.apply_gate(X.on(0, 1))\n",
    "sim1.get_qs(True)"
   ]
  },
  {
   "cell_type": "markdown",
   "metadata": {},
   "source": [
    "同时，CNOT门也可以表示为一个映射的形式\n",
    "$$\n",
    "|x,y\\rangle \\rightarrow |x,y\\oplus x\\rangle\n",
    "$$\n",
    "![jupyter](images/fig/cnot.png)\n",
    "\n",
    "通常不同的双比特门可以相互转化，如对于SWAP门\n",
    "$$\n",
    "SWAP = \\begin{pmatrix} \n",
    "1 & 0 & 0 & 0 \\\\\n",
    "0 & 0 & 1 & 0 \\\\\n",
    "0 & 1 & 0 & 0 \\\\\n",
    "0 & 0 & 0 & 1 \\\\\n",
    "\\end{pmatrix}= CNOT * CNOT * CNOT\n",
    "$$\n",
    "![jupyter](images/fig/swap_cnot.png)\n",
    "\n",
    "其他常见多比特门：\n",
    "CZ(CPhase)门：(与CNOT之间的变换？）\n",
    "$$\n",
    "CZ = \\begin{pmatrix} \n",
    "1 & 0 & 0 & 0 \\\\\n",
    "0 & 1 & 0 & 0 \\\\\n",
    "0 & 0 & 1 & 0 \\\\\n",
    "0 & 0 & 0 & -1 \\\\\n",
    "\\end{pmatrix}\n",
    "$$\n",
    "![jupyter](images/fig/cz.png)\n",
    "\n",
    "Toffoli(CC-NOT)门：\n",
    "![jupyter](images/fig/toffoli.png)\n",
    "\n",
    "其中$U=X=V^2$, $V=(1-i)(I+iX)/2$ (Proof it!)"
   ]
  },
  {
   "cell_type": "code",
   "execution_count": 10,
   "metadata": {},
   "outputs": [
    {
     "data": {
      "text/plain": [
       "Z(1 <-: 2)"
      ]
     },
     "execution_count": 10,
     "metadata": {},
     "output_type": "execute_result"
    }
   ],
   "source": [
    "#与CNOT一样，CZ门与Z门用了相同的接口\n",
    "from mindquantum import Z\n",
    "Z.on(1,2)"
   ]
  },
  {
   "cell_type": "markdown",
   "metadata": {},
   "source": [
    "## 3 量子线路\n",
    "对量子比特进行一系列的操作，形成的量子门组合，称为量子线路(Quantum Circuit)。从工程的角度，把任意的量子操作分解为简单操作的组合是对于扩大计算规模是必须的。\n",
    "### 3.1 Bell态的制备线路\n",
    "![jupyter](images/fig/bellstate.png)\n",
    "\n",
    "Example:\n",
    "$$\n",
    "CNOT * (H\\otimes I)|00\\rangle = \\frac1{\\sqrt{2}}CNOT(|0\\rangle + |1\\rangle)|0\\rangle = \\frac1{\\sqrt{2}}(|00\\rangle+|11\\rangle)\n",
    "$$"
   ]
  },
  {
   "cell_type": "code",
   "execution_count": 11,
   "metadata": {},
   "outputs": [
    {
     "data": {
      "text/plain": [
       "'√2/2¦00⟩\\n√2/2¦11⟩'"
      ]
     },
     "execution_count": 11,
     "metadata": {},
     "output_type": "execute_result"
    }
   ],
   "source": [
    "#制备其中一个bell state\n",
    "from mindquantum import Simulator, Circuit, H, X\n",
    "sim = Simulator('projectq', 2)\n",
    "circ = Circuit([H.on(0), X.on(1,0)])\n",
    "sim.reset()\n",
    "sim.apply_circuit(circ)\n",
    "sim.get_qs(True)\n"
   ]
  },
  {
   "cell_type": "markdown",
   "metadata": {},
   "source": [
    "### 3.2 量子化学模拟的量子线路\n",
    "基于变分量子求解器(Variational quantum eigensolver)算法的量子化学模拟线路，一个比较常见的线路设计方案UCCSD(Unitary coupled clusters singles and doubles)\n",
    "\n",
    "Note: \n",
    "openfermion为第三方程序包，用于读取化学分子的hdf5文件，可以在终端中通过pip安装：\n",
    "\n",
    ">>pip install openfermion"
   ]
  },
  {
   "cell_type": "code",
   "execution_count": 12,
   "metadata": {},
   "outputs": [
    {
     "name": "stdout",
     "output_type": "stream",
     "text": [
      "ccsd:-1.1299048942783592.\n",
      "fci:-1.1299047843229135.\n",
      "=========Circuit Summary=========\n",
      "|Total number of gates  : 204.  |\n",
      "|Parameter gates        : 12.   |\n",
      "|with 2 parameters are  :       |\n",
      "|p0, p1                        .|\n",
      "|Number qubit of circuit: 4     |\n",
      "=================================\n"
     ]
    }
   ],
   "source": [
    "from openfermion.chem import MolecularData\n",
    "molecule = MolecularData(filename='./H2.hdf5')\n",
    "molecule.load()\n",
    "\n",
    "from mindquantum.algorithm import generate_uccsd\n",
    "ansatz_circuit, \\\n",
    "init_amp, \\\n",
    "params_name, \\\n",
    "hamiltonian, \\\n",
    "n_qubits, \\\n",
    "n_electrons = generate_uccsd(molecule)\n",
    "ansatz_circuit.summary()"
   ]
  },
  {
   "cell_type": "code",
   "execution_count": 13,
   "metadata": {},
   "outputs": [
    {
     "data": {
      "text/html": [
       "<pre style=\"white-space:pre;overflow-x:auto;line-height:normal;font-family:Menlo,'DejaVu Sans Mono',consolas,'Courier New',monospace\"></pre>\n"
      ],
      "text/plain": []
     },
     "metadata": {},
     "output_type": "display_data"
    },
    {
     "data": {
      "text/html": [
       "<pre style=\"white-space: pre;\"></pre>\n"
      ],
      "text/plain": [
       "q0: ──RX(π/2)────●─────────────────────────●────RX(7π/2)───────H───────●────────────────────────●───────H────────RX(π/2)────●──────────────────────────────────────●────RX(7π/2)────RX(π/2)────●───────────────────────────────────────●────RX(7π/2)───────H───────●───────────────────────────────────────●───────H───────────H───────●───────────────────────────────────────●───────H────────RX(π/2)────●──────────────────────────────────────●────RX(7π/2)────RX(π/2)────●──────────────────────────────────────●────RX(7π/2)───────H───────●──────────────────────────────────────●───────H───────────H───────●───────────────────────────────────────●───────H─────────────────────────────────────────────────────────────────────────────────────────────────────────────────\n",
       "                 │                         │                           │                        │                           │                                      │                           │                                       │                           │                                       │                           │                                       │                           │                                      │                           │                                      │                           │                                      │                           │                                       │\n",
       "q1: ─────────────X────●───────────────●────X───────────────────────────X────●──────────────●────X────RX(π/2)────────────────X────●────────────────────────────●────X────RX(7π/2)───────H───────X────●─────────────────────────────●────X───────H───────────H───────X────●─────────────────────────────●────X───────H────────RX(π/2)────X────●─────────────────────────────●────X────RX(7π/2)───────H───────X────●────────────────────────────●────X───────H────────RX(π/2)────X────●────────────────────────────●────X────RX(7π/2)────RX(π/2)────X────●────────────────────────────●────X────RX(7π/2)───────H───────X────●─────────────────────────────●────X───────H────────RX(π/2)────●─────────────────────────●────RX(7π/2)───────H───────●────────────────────────●───────H──────\n",
       "                      │               │                                     │              │                                     │                            │                                     │                             │                                     │                             │                                     │                             │                                     │                            │                                     │                            │                                     │                            │                                     │                             │                                │                         │                           │                        │\n",
       "q2: ─────H────────────X────RZ(-p0)────X────────────H────────RX(π/2)─────────X────RZ(p0)────X─────────RX(7π/2)────RX(π/2)─────────X────●──────────────────●────X─────────RX(7π/2)────RX(π/2)─────────X────●───────────────────●────X─────────RX(7π/2)────RX(π/2)─────────X────●───────────────────●────X─────────RX(7π/2)────RX(π/2)─────────X────●───────────────────●────X─────────RX(7π/2)───────H────────────X────●──────────────────●────X────────────H───────────H────────────X────●──────────────────●────X────────────H───────────H────────────X────●──────────────────●────X────────────H───────────H────────────X────●───────────────────●────X────────────H───────────────────X────●───────────────●────X───────────────────────────X────●──────────────●────X──────────────\n",
       "                                                                                                                                      │                  │                                               │                   │                                               │                   │                                               │                   │                                               │                  │                                               │                  │                                               │                  │                                               │                   │                                          │               │                                     │              │\n",
       "q3: ────────────────────────────────────────────────────────────────────────────────────────────────────H─────────────────────────────X────RZ(1/2*p1)────X─────────────────H────────RX(π/2)──────────────X────RZ(-1/2*p1)────X──────────────RX(7π/2)───────H─────────────────X────RZ(-1/2*p1)────X─────────────────H────────RX(π/2)──────────────X────RZ(-1/2*p1)────X──────────────RX(7π/2)───────H─────────────────X────RZ(1/2*p1)────X─────────────────H────────RX(π/2)──────────────X────RZ(1/2*p1)────X──────────────RX(7π/2)───────H─────────────────X────RZ(1/2*p1)────X─────────────────H────────RX(π/2)──────────────X────RZ(-1/2*p1)────X──────────────RX(7π/2)───────H────────────X────RZ(-p0)────X────────────H────────RX(π/2)─────────X────RZ(p0)────X─────────RX(7π/2)──"
      ]
     },
     "execution_count": 13,
     "metadata": {},
     "output_type": "execute_result"
    }
   ],
   "source": [
    "ansatz_circuit"
   ]
  },
  {
   "cell_type": "code",
   "execution_count": 14,
   "metadata": {},
   "outputs": [
    {
     "data": {
      "text/html": [
       "<pre style=\"white-space:pre;overflow-x:auto;line-height:normal;font-family:Menlo,'DejaVu Sans Mono',consolas,'Courier New',monospace\"></pre>\n"
      ],
      "text/plain": []
     },
     "metadata": {},
     "output_type": "display_data"
    },
    {
     "data": {
      "text/html": [
       "<pre style=\"white-space: pre;\"></pre>\n"
      ],
      "text/plain": [
       "q0: ──H────ZZ(beta_0)────ZZ(beta_0)────RX(alpha_0)──────────────────────────────────────────────────────────────────────────────────────────────────────────────────────────────────────────────────────────────────\n",
       "               │             │\n",
       "q1: ──H────ZZ(beta_0)────────┼──────────ZZ(beta_0)────ZZ(beta_0)────RX(alpha_0)─────────────────────────────────────────────────────────────────────────────────────────────────────────────────────────────────────\n",
       "                             │              │             │\n",
       "q2: ──H──────────────────────┼──────────ZZ(beta_0)────────┼──────────ZZ(beta_0)────ZZ(beta_0)────RX(alpha_0)────────────────────────────────────────────────────────────────────────────────────────────────────────\n",
       "                             │                            │              │             │\n",
       "q3: ──H──────────────────ZZ(beta_0)───────────────────────┼──────────ZZ(beta_0)────────┼──────────ZZ(beta_0)────ZZ(beta_0)────RX(alpha_0)───────────────────────────────────────────────────────────────────────────\n",
       "                                                          │                            │              │             │\n",
       "q4: ──H───────────────────────────────────────────────ZZ(beta_0)───────────────────────┼──────────ZZ(beta_0)────────┼──────────ZZ(beta_0)────ZZ(beta_0)────RX(alpha_0)──────────────────────────────────────────────\n",
       "                                                                                       │                            │              │             │\n",
       "q5: ──H────────────────────────────────────────────────────────────────────────────ZZ(beta_0)───────────────────────┼──────────ZZ(beta_0)────────┼──────────ZZ(beta_0)────ZZ(beta_0)────RX(alpha_0)─────────────────\n",
       "                                                                                                                    │                            │              │             │\n",
       "q6: ──H─────────────────────────────────────────────────────────────────────────────────────────────────────────ZZ(beta_0)───────────────────────┼──────────ZZ(beta_0)────────┼──────────ZZ(beta_0)────RX(alpha_0)──\n",
       "                                                                                                                                                 │                            │              │\n",
       "q7: ──H──────────────────────────────────────────────────────────────────────────────────────────────────────────────────────────────────────ZZ(beta_0)───────────────────────┼──────────ZZ(beta_0)────RX(alpha_0)──\n",
       "                                                                                                                                                                              │\n",
       "q8: ──H───────────────────────────────────────────────────────────────────────────────────────────────────────────────────────────────────────────────────────────────────ZZ(beta_0)────RX(alpha_0)─────────────────"
      ]
     },
     "execution_count": 14,
     "metadata": {},
     "output_type": "execute_result"
    },
    {
     "data": {
      "image/png": "[encoded data removed]",
      "text/plain": [
       "<Figure size 432x288 with 1 Axes>"
      ]
     },
     "metadata": {},
     "output_type": "display_data"
    }
   ],
   "source": [
    "from mindquantum import MaxCutAnsatz\n",
    "import networkx as nx\n",
    "from scipy.optimize import minimize\n",
    "\n",
    "def func(x, grad_ops):\n",
    "    '''\n",
    "    Function for optimization\n",
    "    '''\n",
    "    f, g = grad_ops(x)\n",
    "    return np.real(f[0]), g[0][0]\n",
    "\n",
    "# random graph\n",
    "nnodes = 9\n",
    "p = 0.1\n",
    "g = []\n",
    "for n1 in range(nnodes):\n",
    "    for n2 in range(n1+1,nnodes):\n",
    "        #print(n1, n2)\n",
    "        if np.random.random() > p:\n",
    "            if (abs(n1 - n2) == 1) or  (abs(n1 - n2) == 3):\n",
    "                g.append((n1, n2))\n",
    "\n",
    "nx.draw(nx.Graph(g), with_labels=True, font_weight='bold')\n",
    "\n",
    "maxcut = MaxCutAnsatz(g, depth=1)\n",
    "circ0 = maxcut.circuit\n",
    "circ0"
   ]
  },
  {
   "cell_type": "markdown",
   "metadata": {},
   "source": [
    "## 4. 作业\n",
    "## 4.1 多比特的量子态矢量张量乘积计算\n",
    "$$|\\psi \\rangle \\otimes |\\phi\\rangle = \\left(\\begin{matrix} a \\\\ b \\end{matrix}\\right) \\otimes \\left(\\begin{matrix} c \\\\ d \\end{matrix}\\right)\n",
    "= \\left(\\begin{matrix} c\\left(\\begin{matrix} a \\\\ b \\end{matrix}\\right) \\\\ d\\left(\\begin{matrix} a \\\\ b \\end{matrix}\\right) \\end{matrix}\\right)\n",
    "= \\left(\\begin{matrix} ac \\\\ ad \\\\ bc \\\\ bd \\end{matrix}\\right)\n",
    "$$"
   ]
  },
  {
   "cell_type": "code",
   "execution_count": 15,
   "metadata": {},
   "outputs": [
    {
     "name": "stdout",
     "output_type": "stream",
     "text": [
      "[0 1 0 0 0 0 0 0]\n"
     ]
    }
   ],
   "source": [
    "def kron(state_list):\n",
    "    res = state_list[0]\n",
    "    for state in state_list[1:]:\n",
    "        res = np.kron(res, state)\n",
    "    return res\n",
    "\n",
    "import numpy as np\n",
    "s0 = np.array([1, 0]).transpose()\n",
    "s1 = np.array([0, 1]).transpose()\n",
    "s00 = np.kron(s0, s0)\n",
    "s001 = kron([s0, s0, s1])\n",
    "print(s001)"
   ]
  },
  {
   "cell_type": "markdown",
   "metadata": {},
   "source": [
    "## 4.2 基本单比特旋转门之间的变换关系\n",
    "量子力学中的对易关系(commutation relationship)，可以进行一些量子门之间的相互转化：\n",
    "$$\\left[ X, Y\\right] = XY-YX=2iZ,$$\n",
    "$$\\left[ Y, Z\\right] = YZ-ZY=2iX,$$\n",
    "$$\\left[ Z, X\\right] = ZX-XZ=2iY,$$\n",
    "$$ \\left[ X, X\\right] = \\left[ Y, Y\\right] = \\left[ Z, Z\\right] = 0$$\n",
    "以及反对易关系(anti-commutation relationship):\n",
    "$$\\{ X, Y\\} =XY + YX = 0,$$\n",
    "$$\\{ Z, Y\\} =ZY + YZ = 0,$$\n",
    "$$\\{ X, Z\\} =XZ + ZX = 0,$$\n",
    "如\n",
    "$$YZY|\\psi\\rangle = -Z|\\psi\\rangle$$"
   ]
  },
  {
   "cell_type": "code",
   "execution_count": 16,
   "metadata": {},
   "outputs": [
    {
     "name": "stdout",
     "output_type": "stream",
     "text": [
      "[0.92847669+0.j 0.37139068+0.j]\n",
      "[-0.92847669+0.j  0.37139068+0.j]\n",
      "[ 0.92847669+0.j -0.37139068+0.j]\n"
     ]
    }
   ],
   "source": [
    "from mindquantum import Simulator, Circuit, X, Y, Z\n",
    "#任意态\n",
    "s0 = np.array([0.25, 0.1])\n",
    "\n",
    "sim = Simulator('projectq', 1)\n",
    "sim.set_qs(s0)\n",
    "print(sim.get_qs())\n",
    "\n",
    "#YZY\n",
    "circ1 = Circuit([Y.on(0), Z.on(0), Y.on(0)])\n",
    "sim.apply_circuit(circ1)\n",
    "print(sim.get_qs())\n",
    "\n",
    "#Z\n",
    "sim.set_qs(s0)\n",
    "sim.apply_gate(Z.on(0))\n",
    "print(sim.get_qs())"
   ]
  },
  {
   "cell_type": "markdown",
   "metadata": {},
   "source": [
    "## 4.3 $|0>+|1>$态做Y门\n",
    "$$\n",
    "Y(|0\\rangle + |1\\rangle) = \n",
    "\\begin{bmatrix}\n",
    "0 & -i \\\\ i &0\n",
    "\\end{bmatrix}\n",
    "\\begin{bmatrix}\n",
    "1 \\\\ 1\n",
    "\\end{bmatrix}\n",
    "$$\n"
   ]
  },
  {
   "cell_type": "code",
   "execution_count": 17,
   "metadata": {},
   "outputs": [
    {
     "data": {
      "text/plain": [
       "array([0.-0.70710678j, 0.+0.70710678j])"
      ]
     },
     "execution_count": 17,
     "metadata": {},
     "output_type": "execute_result"
    }
   ],
   "source": [
    "from mindquantum import Simulator, Circuit, Y\n",
    "sim = Simulator('projectq', 1)\n",
    "sim.set_qs(np.array([1,1]))\n",
    "sim.apply_gate(Y.on(0))\n",
    "sim.get_qs()"
   ]
  }
 ],
 "metadata": {
  "interpreter": {
   "hash": "a182acf0257c008edcf169c479f8bad61e24074d18dad933dc2db51e4c4de282"
  },
  "kernelspec": {
   "display_name": "Python 3.7.5 64-bit",
   "name": "python3"
  },
  "language_info": {
   "codemirror_mode": {
    "name": "ipython",
    "version": 3
   },
   "file_extension": ".py",
   "mimetype": "text/x-python",
   "name": "python",
   "nbconvert_exporter": "python",
   "pygments_lexer": "ipython3",
   "version": "3.7.5"
  }
 },
 "nbformat": 4,
 "nbformat_minor": 4
}
