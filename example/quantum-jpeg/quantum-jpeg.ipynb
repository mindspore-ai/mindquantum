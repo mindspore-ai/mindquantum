{
 "cells": [
  {
   "cell_type": "markdown",
   "metadata": {},
   "source": [
    "# 基于 MindSpore Quantum 实现量子 Q-JPEG 算法\n",
    "\n",
    "## 1 课题背景：\n",
    "\n",
    "图像压缩技术可以在保证可视化质量的同时降低处理、储存和传输图像的资源消耗。不仅在经典场景中，在量子机器学习场景，如量子卷积神经网络，也涉及图像处理任务。故而也需要图像压缩技术，以增强图像处理能力。\n",
    "\n",
    "## 2 项目任务及实现方案：\n",
    "\n",
    "本项目的核心任务是实现一种新型的量子图像压缩处理算法 — Q-JPEG [1]。类似于经典的 JPEG 图像压缩技术，Q-JPEG 可以有效过滤掉图像中的高频分量，实现对图像的压缩。但由于压缩过程基于量子傅里叶变换，相比经典 JPEG 算法，Q-JPEG 具有指数级的加速效果。基于 Q-JPEG，可实现对经典及量子图像的高效压缩，并可进一步应用于图像识别等计算机视觉任务。\n",
    "\n",
    "本项目基于 MindSpore Quantum 量子计算框架实现了该 Q-JPEG 算法，探索不同类型图像、及不同压缩比下的图像处理效果。\n",
    "\n",
    "### Q-JPEG 算法\n",
    "\n",
    "![circ](./images/circ.png)\n",
    "\n",
    "图 1：Q-JPEG 算法流程示意图 *(图片来源: arXiv:2306.09323)*\n",
    "\n",
    "Q-JPEG 算法的整体流程如图 1 所示。具体的，操作流程为：\n",
    "\n",
    "1. 使用振幅编码，将经典图像编码为量子态；\n",
    "2. 对量子态施加量子傅里叶变换，将图像从空域转换到频域；\n",
    "3. 丢弃部分高位量子比特，保留图像的低频部分并对图像进行压缩；\n",
    "4. 对剩余量子比特施加傅里叶逆变换；\n",
    "5. 丢弃部分携带冗余信息的量子比特，进一步对图像进行压缩。\n",
    "\n",
    "其中，Hadamard 变换层为可选操作。\n",
    "\n",
    "### 算法实现及效果\n",
    "\n",
    "下面基于 MindSpore Quantum 实现该算法。我们考虑将一幅图 2  所示，原始尺寸为 64*64 的 png 格式的灰度图进行压缩，并比较不同压缩比下的效果。\n",
    "\n",
    "<img src=\"./images/ms_64_bin.png\" alt=\"ms_64_bin\" width=\"200\" />\n",
    "\n",
    "图 2：待处理的灰度图示例\n",
    "\n",
    "#### 1. 图片加载\n",
    "\n",
    "png 图片共有四个通道，我们只选用其中第一个通道进行处理。"
   ]
  },
  {
   "cell_type": "code",
   "execution_count": null,
   "metadata": {},
   "outputs": [],
   "source": [
    "from PIL import Image\n",
    "from mindquantum.simulator import Simulator\n",
    "from mindquantum.core.circuit import Circuit, dagger, NoiseChannelAdder\n",
    "from mindquantum.algorithm import qft\n",
    "from mindquantum.utils import normalize\n",
    "from mindquantum.core.gates import AmplitudeDampingChannel\n",
    "import numpy as np\n",
    "import matplotlib.pyplot as plt\n",
    "\n",
    "ms_64_bin_4 = Image.open('./images/ms_64_bin.png')  # 读取PNG图片\n",
    "ms_64_bin_array = np.array(ms_64_bin_4)[:, :, 0]  # 只选用第一通道的数据，并转换为numpy数组"
   ]
  },
  {
   "cell_type": "markdown",
   "metadata": {},
   "source": [
    "#### 2. 定义操作比特\n",
    "\n",
    "如图 1 所示，我们需要预先定义好处理前后所用量子比特，以及抛弃哪些比特。"
   ]
  },
  {
   "cell_type": "code",
   "execution_count": 2,
   "metadata": {},
   "outputs": [],
   "source": [
    "n_qubits = 12  # 原图所用比特数\n",
    "m_qubits = 10  # 现图所用比特数\n",
    "half_diff = (n_qubits - m_qubits) // 2  # 每次抛弃掉的比特数 1\n",
    "former_qubits = list(range(0, n_qubits // 2))  # 前半部分的比特 [0,1,2,3,4,5]\n",
    "latter_qubits = list(range(n_qubits // 2, n_qubits))  # 后半部分的比特 [6,7,8,9,10,11]\n",
    "mid_qubits = former_qubits[len(former_qubits) - half_diff :]  # 前半部分中要抛弃的比特 [5]\n",
    "last_qubits = latter_qubits[len(latter_qubits) - half_diff :]  # 后半部分中要抛弃的比特 [11]"
   ]
  },
  {
   "cell_type": "markdown",
   "metadata": {},
   "source": [
    "#### 3. 振幅编码\n",
    "\n",
    "通过使用振幅编码技术，该图片可用一个 12  量子比特的系统进行编码。振幅编码过程可使用振幅编码线路制备，不过由于该过程不是本任务的核心环节，所以我们也可以直接使用归一化函数来产生，并将该量子态赋值给模拟器。"
   ]
  },
  {
   "cell_type": "code",
   "execution_count": 3,
   "metadata": {},
   "outputs": [],
   "source": [
    "data = ms_64_bin_array.reshape(\n",
    "    (\n",
    "        int(\n",
    "            2**n_qubits,\n",
    "        )\n",
    "    )\n",
    ")  # 将图片数据重整化为矢量\n",
    "state = normalize(data)  # 使用归一化函数直接将矢量转化为量子态\n",
    "sim = Simulator('mqmatrix', n_qubits)  # 使用 mqmatrix 模拟器，因为后续需要进行求偏迹运算\n",
    "sim.set_qs(state)  # 将产生的量子态赋值给模拟器\n",
    "\n",
    "## 也可以使用振幅编码线路来制备该量子态\n",
    "# encoder, parameterResolver = amplitude_encoder(data, n_qubits)\n",
    "# sim.apply_circuit(encoder, parameterResolver)"
   ]
  },
  {
   "cell_type": "markdown",
   "metadata": {},
   "source": [
    "#### 4. 执行 QJPEG 算法"
   ]
  },
  {
   "cell_type": "code",
   "execution_count": 4,
   "metadata": {},
   "outputs": [],
   "source": [
    "circ = Circuit()\n",
    "circ += qft(range(n_qubits))  # 傅里叶变换\n",
    "circ += dagger(qft(range(n_qubits - half_diff)))  # 傅里叶逆变换\n",
    "\n",
    "sim.apply_circuit(circ)\n",
    "rho = sim.get_partial_trace(mid_qubits + last_qubits)  # 对抛弃的比特求偏迹\n",
    "sub_pros = rho.diagonal().real  # 剩余密度矩阵的对角线元素即为不同结果出现的概率"
   ]
  },
  {
   "cell_type": "markdown",
   "metadata": {},
   "source": [
    "#### 5. 结果可视化"
   ]
  },
  {
   "cell_type": "code",
   "execution_count": 5,
   "metadata": {},
   "outputs": [
    {
     "data": {
      "text/plain": [
       "<matplotlib.image.AxesImage at 0x1379c3ee0>"
      ]
     },
     "execution_count": 5,
     "metadata": {},
     "output_type": "execute_result"
    },
    {
     "data": {
      "image/png": "[encoded data removed]",
      "text/plain": [
       "<Figure size 640x480 with 1 Axes>"
      ]
     },
     "metadata": {},
     "output_type": "display_data"
    }
   ],
   "source": [
    "new_figure = sub_pros.reshape((2 ** (m_qubits // 2), -1))  # 转换为 32 * 32 的数组\n",
    "plt.imshow(new_figure)"
   ]
  },
  {
   "cell_type": "markdown",
   "metadata": {},
   "source": [
    "同样，如果我们设置 `m_qubits = 8` (更大压缩比)，可获得的图像如下图所示。该图的尺寸为 16* 16 可见更大压缩比下，失真更明显。\n",
    "\n",
    "<img src=\"./images/ms_16.png\" alt=\"ms_16\" width=\"200\" />\n",
    "\n",
    "#### 6. 噪声分析\n",
    "\n",
    "由于当前 NISQ 时期，量子系统不可避免地受到噪声影响，会产生不完美的输出结果。接下来我们讨论不同噪声强度下，QJPEG 算法的实现效果。需要指出的是，此处我们只关注 QJPEG 算法内部对噪声的鲁棒性，而不讨论量子态制备的问题。\n",
    "\n",
    "作为展示，我们为每个量子门后后面都添加一个不同强度的振幅衰减信道，该操作可通过如下方式对量子线路进行修饰来完成。"
   ]
  },
  {
   "cell_type": "code",
   "execution_count": 6,
   "metadata": {},
   "outputs": [],
   "source": [
    "strength = 0.001\n",
    "channel = AmplitudeDampingChannel(strength)\n",
    "adder = NoiseChannelAdder(channel, with_ctrl=True, add_after=True)\n",
    "circ = adder(circ)"
   ]
  },
  {
   "cell_type": "markdown",
   "metadata": {},
   "source": [
    "以 `m_qubits=10` 为例，下面四图分别展示了噪声强度为 0、0.0001、0.001、0.01 下 QJPEG 对图像的处理效果。从该结果中可以看出，该算法具有一定的鲁棒性，在噪声强度小于 0.001 以下，都表现出了较好的处理结果。\n",
    "\n",
    "![noise](./images/noise.png)\n",
    "\n",
    "### 算法封装\n",
    "\n",
    "为便于后续用户使用，我们将该 QJPEG 算法封装为函数 qjpeg。"
   ]
  },
  {
   "cell_type": "code",
   "execution_count": 7,
   "metadata": {},
   "outputs": [],
   "source": [
    "from mindquantum.simulator import Simulator\n",
    "from mindquantum.core.circuit import Circuit, dagger\n",
    "from mindquantum.algorithm import qft\n",
    "from mindquantum.utils import normalize\n",
    "import numpy as np\n",
    "import matplotlib.pylab as plt\n",
    "from PIL import Image\n",
    "from typing import Union\n",
    "\n",
    "\n",
    "def qjpeg(figure: Union[str, np.ndarray], n_qubits: int, m_qubits: int) -> np.ndarray:\n",
    "    \"\"\"对输入的 *.png 图片利用 QJPEG 算法进行压缩。\"\"\"\n",
    "    if not isinstance(figure, np.ndarray):\n",
    "        if figure[-4:] != \".png\":\n",
    "            raise ValueError(\"This function supports only *.png or np.ndarry figure.\")\n",
    "        figure = np.array(Image.open(figure))[:, :, 0]\n",
    "    origin_figure = figure.reshape(-1)\n",
    "\n",
    "    if not isinstance(n_qubits, int) or not isinstance(m_qubits, int):\n",
    "        raise ValueError(\"n_qubits and m_qubits should be positive int.\")\n",
    "    if n_qubits <= 0 or m_qubits <= 0:\n",
    "        raise ValueError(\"n_qubits and m_qubits should be positive int.\")\n",
    "    if n_qubits <= m_qubits:\n",
    "        raise ValueError(\"m_qubits should little than n_qubits.\")\n",
    "    if np.log2(origin_figure.shape[0]) != n_qubits:\n",
    "        print(np.log2(origin_figure.shape[0]))\n",
    "        raise ValueError(\"the pixel number of the input figure should equal to 2**n_qubits.\")\n",
    "    if (n_qubits - m_qubits) % 2 != 0:\n",
    "        raise ValueError(\"the different between n_qubits and m_qubits should be even.\")\n",
    "\n",
    "    half_diff = (n_qubits - m_qubits) // 2  # 每次抛弃掉的比特数\n",
    "    former_qubits = list(range(0, n_qubits // 2))  # 前半部分的比特\n",
    "    latter_qubits = list(range(n_qubits // 2, n_qubits))  # 后半部分的比特\n",
    "    mid_qubits = former_qubits[len(former_qubits) - half_diff :]  # 前半部分中要抛弃的比特\n",
    "    last_qubits = latter_qubits[len(latter_qubits) - half_diff :]  # 后半部分中要抛弃的比特\n",
    "\n",
    "    state = normalize(origin_figure)\n",
    "    sim = Simulator('mqmatrix', n_qubits)\n",
    "    sim.set_qs(state)\n",
    "\n",
    "    circ = Circuit()\n",
    "    circ += qft(range(n_qubits))\n",
    "    circ += dagger(qft(range(n_qubits - half_diff)))\n",
    "    sim.apply_circuit(circ)\n",
    "    rho = sim.get_partial_trace(mid_qubits + last_qubits)\n",
    "    sub_pros = rho.diagonal().real\n",
    "    new_figure = sub_pros.reshape((2 ** (m_qubits // 2), -1))\n",
    "    return new_figure"
   ]
  },
  {
   "cell_type": "markdown",
   "metadata": {},
   "source": [
    "### 案例测试\n",
    "\n",
    "作为案例，我们使用两个网格图对该函数进行测试。在输出结果中，我们对处理前后的图像进行了可视化处理。结果显示，与预期结果一致，达到算法设计要求。\n",
    "\n",
    "#### 测试案例一"
   ]
  },
  {
   "cell_type": "code",
   "execution_count": 8,
   "metadata": {},
   "outputs": [
    {
     "data": {
      "image/png": "[encoded data removed]",
      "text/plain": [
       "<Figure size 640x480 with 2 Axes>"
      ]
     },
     "metadata": {},
     "output_type": "display_data"
    }
   ],
   "source": [
    "figure = np.array([[1, 0, 0, 0], [1, 1, 0, 0], [1, 1, 1, 0], [1, 1, 1, 1]])\n",
    "n_qubits = 4  # 原图所用量子比特数\n",
    "m_qubits = 2  # 现图所用量子比特数\n",
    "\n",
    "new_figure = qjpeg(figure, n_qubits, m_qubits)\n",
    "fig = plt.figure()\n",
    "p_0 = fig.add_subplot(121)\n",
    "s1 = p_0.matshow(figure, cmap=plt.cm.gray)\n",
    "plt.title(\"Origin Figure\")\n",
    "\n",
    "p_1 = fig.add_subplot(132)\n",
    "s1 = p_1.matshow(new_figure, cmap=plt.cm.gray)\n",
    "plt.title(\"New Figure\")\n",
    "plt.subplots_adjust(left=0, bottom=0.5, right=1, wspace=0.5)\n",
    "plt.show()"
   ]
  },
  {
   "cell_type": "markdown",
   "metadata": {},
   "source": [
    "#### 测试案例二"
   ]
  },
  {
   "cell_type": "code",
   "execution_count": 9,
   "metadata": {},
   "outputs": [
    {
     "data": {
      "image/png": "[encoded data removed]",
      "text/plain": [
       "<Figure size 640x480 with 2 Axes>"
      ]
     },
     "metadata": {},
     "output_type": "display_data"
    }
   ],
   "source": [
    "figure = np.zeros((8, 8))\n",
    "figure[:2, :2] = 1\n",
    "figure[4:6, :2] = 1\n",
    "figure[:2, 4:6] = 1\n",
    "figure[2:4, 2:4] = 1\n",
    "figure[6:8, 2:4] = 1\n",
    "figure[4:6, 4:6] = 1\n",
    "figure[6:8, 6:8] = 1\n",
    "figure[2:4, 6:8] = 1\n",
    "\n",
    "n_qubits = 6  # 原图所用量子比特数\n",
    "m_qubits = 4  # 现图所用量子比特数\n",
    "\n",
    "new_figure = qjpeg(figure, n_qubits, m_qubits)\n",
    "fig = plt.figure()\n",
    "p_0 = fig.add_subplot(121)\n",
    "s1 = p_0.matshow(figure, cmap=plt.cm.gray)\n",
    "plt.title(\"Origin Figure\")\n",
    "\n",
    "p_1 = fig.add_subplot(132)\n",
    "s1 = p_1.matshow(new_figure, cmap=plt.cm.gray)\n",
    "plt.title(\"New Figure\")\n",
    "plt.subplots_adjust(left=0, bottom=0.5, right=1, wspace=0.5)\n",
    "plt.show()"
   ]
  },
  {
   "cell_type": "markdown",
   "metadata": {},
   "source": [
    "## 项目总结\n",
    "\n",
    "综上所述，本项目基于 MindSpore Quantum 实现了 QJPEG 算法，并比较了不同压缩比下的图像处理效果，对算噪声鲁棒性进行了分析。此外，我们对该算法进行了函数封装，并利用具体的测试案例对该函数进行了测试，结果与预期一致。\n",
    "\n",
    "## 参考文献\n",
    "\n",
    "[1] arXiv:2306.09323 [quant-ph] https://doi.org/10.48550/arXiv.2306.09323"
   ]
  }
 ],
 "metadata": {
  "kernelspec": {
   "display_name": "py39",
   "language": "python",
   "name": "python3"
  },
  "language_info": {
   "codemirror_mode": {
    "name": "ipython",
    "version": 3
   },
   "file_extension": ".py",
   "mimetype": "text/x-python",
   "name": "python",
   "nbconvert_exporter": "python",
   "pygments_lexer": "ipython3",
   "version": "3.9.20"
  }
 },
 "nbformat": 4,
 "nbformat_minor": 2
}
