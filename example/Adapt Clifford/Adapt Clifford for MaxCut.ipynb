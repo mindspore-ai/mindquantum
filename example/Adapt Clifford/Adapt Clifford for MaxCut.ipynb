{
 "cells": [
  {
   "cell_type": "markdown",
   "id": "86d7553b-e5c6-4d7f-8564-a8c31d5220b7",
   "metadata": {
    "tags": []
   },
   "source": [
    "# 基于 MindSpore Quantum 实现 Adapt Clifford 算法求解 Maxcut 问题"
   ]
  },
  {
   "cell_type": "markdown",
   "id": "6cf90771-ec71-4dc5-8579-d897c0166a00",
   "metadata": {
    "jp-MarkdownHeadingCollapsed": true
   },
   "source": [
    "## 1 问题背景：\n",
    "\n",
    "使用变分算法求解最大割问题面临训练成本高等问题，如果可以使用 Clifford 线路模拟求解最大割问题，就可以在经典计算机上高效求解。\n",
    "\n",
    "## 2 项目任务及实现方案：\n",
    "\n",
    "本项目的核心任务是实现浅层Clifford线路的 Adapt_Clifford 算法，启发来自 Adapt_QAOA，当把标准层Rzz门及参数$\\gamma^{(n)}$删去之后，仅使用混合层实现优化。发现线路只选取 YZ ZY 算符，并且混合层参数$\\beta^{(n)}=\\pm \\frac{\\pi}{4}$, 由此可看出 Clifford 线路求解 MaxCut 问题的潜力。\n",
    "\n",
    "## 3 Adapt Clifford 算法描述：\n",
    "![circ](./fig.png)\n",
    "\n",
    "从$|+\\rangle^{\\otimes N}$出发，随机选择一个初始比特t作用Z门，并将其标记为__激活比特__，其余N-1为__待激活比特__。从t出发开始计算算子池中每个算子的梯度，选择梯度值变化最大的那个算子，将其填入到线路中。每层添加一个Ryz门，同时激活一个比特，直到所有比特激活，因此只需N-1个Ryz门。\n",
    "\n",
    "Randomized 方法：随机选择一个比特\n",
    "\n",
    "Deterministic 方法：遍历所有比特，输出能量值最小的"
   ]
  },
  {
   "cell_type": "markdown",
   "id": "37a4025c-eefb-470d-a9f7-836323c63660",
   "metadata": {
    "jp-MarkdownHeadingCollapsed": true,
    "tags": []
   },
   "source": [
    "#### 1.1 生成一个MaxCut问题\n",
    "\n",
    "这里为Complete Graph，先定义一个邻接矩阵，权重为Uniform(0,1)分布。\n",
    "\n",
    "通过openqaoa的ground_state_hamiltonian接口求得其基态能量。最后计算出它的哈密顿量 $H_c=(\\frac{1}{2})\\sum_{i<j}Z_{i}Z_{j}$。"
   ]
  },
  {
   "cell_type": "code",
   "execution_count": 1,
   "id": "72852209-77a7-4f2b-b440-0b16753db57f",
   "metadata": {
    "execution": {
     "iopub.execute_input": "2025-04-07T12:38:15.129297Z",
     "iopub.status.busy": "2025-04-07T12:38:15.129297Z",
     "iopub.status.idle": "2025-04-07T12:38:15.247213Z",
     "shell.execute_reply": "2025-04-07T12:38:15.247213Z",
     "shell.execute_reply.started": "2025-04-07T12:38:15.129297Z"
    },
    "tags": []
   },
   "outputs": [],
   "source": [
    "import numpy as np\n",
    "\n",
    "def adj_matrix_complete(nodes):\n",
    "    mat = np.zeros((nodes, nodes))\n",
    "    for ii in range(nodes):\n",
    "        for jj in range(nodes):\n",
    "            if jj > ii: mat[ii, jj] = np.random.uniform(0, 1)\n",
    "    return mat + mat.T"
   ]
  },
  {
   "cell_type": "code",
   "execution_count": 2,
   "id": "5502b1a5-dd27-4fe4-8023-53f2691d6105",
   "metadata": {
    "execution": {
     "iopub.execute_input": "2025-04-07T12:38:16.341261Z",
     "iopub.status.busy": "2025-04-07T12:38:16.340260Z",
     "iopub.status.idle": "2025-04-07T12:38:23.463455Z",
     "shell.execute_reply": "2025-04-07T12:38:23.463455Z",
     "shell.execute_reply.started": "2025-04-07T12:38:16.341261Z"
    }
   },
   "outputs": [],
   "source": [
    "import networkx as nx\n",
    "from openqaoa.utilities import ground_state_hamiltonian\n",
    "from openqaoa.problems import MaximumCut\n",
    "from mindquantum.core.operators import QubitOperator\n",
    "\n",
    "def get_ham(nodes, W, ground=True):\n",
    "    G = nx.from_numpy_array(W)\n",
    "    \n",
    "    if ground:  # ground_state_hamiltonian 接口建议nodes <= 20,大比特下无法求解，所以定义为一个选项\n",
    "        energy, configuration = ground_state_hamiltonian(MaximumCut(G).qubo.hamiltonian)\n",
    "        print(f\"Ground State energy: {energy/2}, Gonfiguration: {configuration}\")\n",
    "\n",
    "    edges = G.edges()\n",
    "    weights = [G[u][v]['weight'] for u, v in edges]\n",
    "    ham = QubitOperator()\n",
    "    for w, (i, j) in zip(weights, edges):\n",
    "        ham += QubitOperator(f'Z{i} Z{j}', w / 2)\n",
    "    return ham"
   ]
  },
  {
   "cell_type": "markdown",
   "id": "8f1d7340-2e7c-41f6-a0a7-2fba396f0510",
   "metadata": {
    "jp-MarkdownHeadingCollapsed": true
   },
   "source": [
    "#### 1.2 对当前线路施加的门计算梯度\n",
    "\n",
    "$Grad_{mixer} = \\displaystyle -i\\langle \\psi\\,|[H_c,\\,mixer]|\\,\\psi\\rangle$"
   ]
  },
  {
   "cell_type": "code",
   "execution_count": 3,
   "id": "f3d42bda-0c7e-43f7-8c81-df5c92e3cbcd",
   "metadata": {
    "execution": {
     "iopub.execute_input": "2025-04-07T12:38:28.401541Z",
     "iopub.status.busy": "2025-04-07T12:38:28.400516Z",
     "iopub.status.idle": "2025-04-07T12:38:28.415511Z",
     "shell.execute_reply": "2025-04-07T12:38:28.414512Z",
     "shell.execute_reply.started": "2025-04-07T12:38:28.401541Z"
    }
   },
   "outputs": [],
   "source": [
    "from mindquantum.simulator import Simulator\n",
    "from mindquantum.core.operators import Hamiltonian\n",
    "\n",
    "def get_exp(circ, ham, sim):\n",
    "    exp = sim.get_expectation(Hamiltonian(ham), circ)\n",
    "    sim.reset()\n",
    "    return exp"
   ]
  },
  {
   "cell_type": "code",
   "execution_count": 4,
   "id": "0bbb68e6-a1c2-4af8-b7ed-221c48f3551a",
   "metadata": {
    "execution": {
     "iopub.execute_input": "2025-04-07T12:38:28.848709Z",
     "iopub.status.busy": "2025-04-07T12:38:28.848709Z",
     "iopub.status.idle": "2025-04-07T12:38:28.857707Z",
     "shell.execute_reply": "2025-04-07T12:38:28.856709Z",
     "shell.execute_reply.started": "2025-04-07T12:38:28.848709Z"
    }
   },
   "outputs": [],
   "source": [
    "from mindquantum.core.operators import commutator\n",
    "def derivative(ham, mixer, circ, sim):\n",
    "    commu = (-1j) * commutator(ham, QubitOperator(mixer))\n",
    "    expectation = get_exp(circ, commu, sim)\n",
    "    sim.reset()\n",
    "    return expectation"
   ]
  },
  {
   "cell_type": "markdown",
   "id": "56ecac0c-f64f-44bb-bfb3-2366af7e68a9",
   "metadata": {
    "jp-MarkdownHeadingCollapsed": true
   },
   "source": [
    "#### 1.3 提取字符串形式mixer中的数字\n",
    "\n",
    "k, j = extract_numbers('Ak Bj')"
   ]
  },
  {
   "cell_type": "code",
   "execution_count": 5,
   "id": "973ce1ca-3da3-4688-8c3c-737629d6be71",
   "metadata": {
    "execution": {
     "iopub.execute_input": "2025-04-07T12:38:31.648833Z",
     "iopub.status.busy": "2025-04-07T12:38:31.647833Z",
     "iopub.status.idle": "2025-04-07T12:38:31.663833Z",
     "shell.execute_reply": "2025-04-07T12:38:31.662830Z",
     "shell.execute_reply.started": "2025-04-07T12:38:31.648833Z"
    }
   },
   "outputs": [],
   "source": [
    "import re\n",
    "def extract_numbers(s):\n",
    "    match = re.match(r'(\\D+)(\\d+) (\\D+)(\\d+)', s)\n",
    "    if match:\n",
    "        n = int(match.group(2))\n",
    "        m = int(match.group(4))\n",
    "        return n, m"
   ]
  },
  {
   "cell_type": "markdown",
   "id": "be96f950-4d30-42c6-b94b-eb2b84f95e5b",
   "metadata": {
    "jp-MarkdownHeadingCollapsed": true
   },
   "source": [
    "#### 1.4 添加一层分解形式的 Ryz 门\n",
    "\n",
    "$e^{i \\frac{\\pi}{4} Y_l Z_m} = S_lH_m CNOT_{l,m} RX_l (-\\frac{\\pi}{2}) CNOT_{l,m} S^\\dagger_lH_m$"
   ]
  },
  {
   "cell_type": "code",
   "execution_count": 6,
   "id": "8b3dbeb7-90ca-40b5-bdd7-e3a283157a62",
   "metadata": {
    "execution": {
     "iopub.execute_input": "2025-04-07T12:38:34.460782Z",
     "iopub.status.busy": "2025-04-07T12:38:34.460782Z",
     "iopub.status.idle": "2025-04-07T12:38:34.479783Z",
     "shell.execute_reply": "2025-04-07T12:38:34.478784Z",
     "shell.execute_reply.started": "2025-04-07T12:38:34.460782Z"
    }
   },
   "outputs": [],
   "source": [
    "from mindquantum.core.gates import H, Z, X, CNOT, S\n",
    "\n",
    "def add_layer(circ, l, m):\n",
    "    circ += Z.on(l)\n",
    "    circ += S.on(l)\n",
    "\n",
    "    circ += H.on(m)\n",
    "    circ.barrier()\n",
    "    circ += CNOT(m, l)\n",
    "    circ.barrier()\n",
    "\n",
    "    circ += Z.on(l)\n",
    "    circ += S.on(l)\n",
    "    circ += Z.on(l)\n",
    "    circ += H.on(l)\n",
    "    circ += Z.on(l)\n",
    "    circ += S.on(l)\n",
    "    circ += Z.on(l)\n",
    "\n",
    "    circ.barrier()\n",
    "    circ += CNOT(m, l)\n",
    "    circ.barrier()\n",
    "    circ += S.on(l)\n",
    "\n",
    "    circ += H.on(m)\n",
    "    circ.barrier()"
   ]
  },
  {
   "cell_type": "markdown",
   "id": "8be2fcac-f0c3-4a9d-bde6-c8bf76e57784",
   "metadata": {
    "jp-MarkdownHeadingCollapsed": true
   },
   "source": [
    "#### 1.5 Adapt_Clifford 算法"
   ]
  },
  {
   "cell_type": "code",
   "execution_count": 7,
   "id": "7b6265a3-517a-4d02-be2d-00c2428e3b2d",
   "metadata": {
    "execution": {
     "iopub.execute_input": "2025-04-07T12:38:37.404048Z",
     "iopub.status.busy": "2025-04-07T12:38:37.404048Z",
     "iopub.status.idle": "2025-04-07T12:38:37.427017Z",
     "shell.execute_reply": "2025-04-07T12:38:37.426019Z",
     "shell.execute_reply.started": "2025-04-07T12:38:37.404048Z"
    }
   },
   "outputs": [],
   "source": [
    "from mindquantum.core.circuit import Circuit\n",
    "from mindquantum.simulator import Simulator\n",
    "\n",
    "def adapt_clifford(nodes, t, ham):\n",
    "    all_qubits = list(range(nodes))\n",
    "    sim = Simulator('stabilizer', nodes) # 定义stabilizer模拟器\n",
    "    \n",
    "    layer = 0\n",
    "\n",
    "    aqubits = [t]  # 初始随机激活一个比特 t∈[0, nodes)\n",
    "    inaqubits = [n for n in all_qubits if n != t]\n",
    "    mixers = [f'Y{i} Z{j}' for i in aqubits for j in inaqubits] # 第一层的mixer集\n",
    "\n",
    "    circ = Circuit().un(H,range(nodes)).z(t) #初始线路\n",
    "\n",
    "    mixers_used = [] # 所有添加的mixer\n",
    "    while True:\n",
    "        gradients = []\n",
    "        for mixer in mixers:\n",
    "            gradients.append(derivative(ham, mixer, circ, sim)) # 对当前mixer集求梯度\n",
    "        target_mixer = mixers[np.argmax(gradients)] # 找到使哈密顿量梯度下降最大的那个mixer\n",
    "        mixers_used.append(target_mixer)\n",
    "        \n",
    "        # 新激活的比特为 j\n",
    "        if layer == 0:\n",
    "            k, j = extract_numbers(target_mixer) \n",
    "            add_layer(circ, k, j)\n",
    "        if layer > 0:\n",
    "            k, j = extract_numbers(target_mixer) \n",
    "            add_layer(circ, j, k)\n",
    "\n",
    "        aqubits.append(j)\n",
    "        inaqubits.remove(j)\n",
    "\n",
    "        mixers = [f'Z{i} Y{j}' for i in aqubits for j in inaqubits] # 后面层的mixer集\n",
    "        layer += 1\n",
    "        \n",
    "        if layer == nodes - 1: # 对于一个n比特问题，只需n-1层\n",
    "            return get_exp(circ, ham, sim), circ, mixers_used"
   ]
  },
  {
   "cell_type": "markdown",
   "id": "a0466c49-ac27-4cba-93b5-3fd904d0cfc4",
   "metadata": {
    "jp-MarkdownHeadingCollapsed": true
   },
   "source": [
    "### 实例测试"
   ]
  },
  {
   "cell_type": "code",
   "execution_count": 8,
   "id": "0087d707-16af-4af9-911b-494b7ce47f1f",
   "metadata": {
    "execution": {
     "iopub.execute_input": "2025-04-07T12:38:41.237589Z",
     "iopub.status.busy": "2025-04-07T12:38:41.236590Z",
     "iopub.status.idle": "2025-04-07T12:38:41.275592Z",
     "shell.execute_reply": "2025-04-07T12:38:41.274592Z",
     "shell.execute_reply.started": "2025-04-07T12:38:41.237589Z"
    }
   },
   "outputs": [
    {
     "name": "stdout",
     "output_type": "stream",
     "text": [
      "Ground State energy: -3.4640045792129825, Gonfiguration: ['0110010110', '1001101001']\n"
     ]
    }
   ],
   "source": [
    "nodes = 10\n",
    "W = adj_matrix_complete(nodes)\n",
    "ham = get_ham(nodes, W, ground=True)"
   ]
  },
  {
   "cell_type": "markdown",
   "id": "6cac8333-6397-4464-b1a7-9e1910a23ffe",
   "metadata": {},
   "source": [
    "#### Randomized 方法"
   ]
  },
  {
   "cell_type": "code",
   "execution_count": 9,
   "id": "65cf87dd-5a12-4d0f-ab64-c10462e0d876",
   "metadata": {
    "execution": {
     "iopub.execute_input": "2025-04-07T12:38:42.897462Z",
     "iopub.status.busy": "2025-04-07T12:38:42.897462Z",
     "iopub.status.idle": "2025-04-07T12:38:43.090844Z",
     "shell.execute_reply": "2025-04-07T12:38:43.090844Z",
     "shell.execute_reply.started": "2025-04-07T12:38:42.897462Z"
    }
   },
   "outputs": [
    {
     "name": "stdout",
     "output_type": "stream",
     "text": [
      "1 -3.178392099684092\n",
      "['Y1 Z6', 'Z1 Y0', 'Z6 Y3', 'Z6 Y4', 'Z1 Y8', 'Z6 Y7', 'Z1 Y9', 'Z6 Y5', 'Z1 Y2']\n"
     ]
    }
   ],
   "source": [
    "import random\n",
    "\n",
    "t = random.choice(range(nodes))\n",
    "res, circ, mixers_used = adapt_clifford(nodes, t, ham)\n",
    "print(t, res)\n",
    "print(mixers_used)"
   ]
  },
  {
   "cell_type": "markdown",
   "id": "d92780f8-9640-464c-9937-d64a98bf4e72",
   "metadata": {},
   "source": [
    "#### Deterministic 方法"
   ]
  },
  {
   "cell_type": "code",
   "execution_count": 10,
   "id": "3b01cb5d-f0dd-4050-a5d9-a174443ad457",
   "metadata": {
    "execution": {
     "iopub.execute_input": "2025-04-07T12:38:44.789171Z",
     "iopub.status.busy": "2025-04-07T12:38:44.788172Z",
     "iopub.status.idle": "2025-04-07T12:38:46.568139Z",
     "shell.execute_reply": "2025-04-07T12:38:46.567169Z",
     "shell.execute_reply.started": "2025-04-07T12:38:44.789171Z"
    }
   },
   "outputs": [
    {
     "name": "stdout",
     "output_type": "stream",
     "text": [
      "0 -3.4640045792129825\n",
      "1 -3.178392099684092\n",
      "2 -3.4640045792129825\n",
      "3 -3.178392099684092\n",
      "4 -3.178392099684092\n",
      "5 -3.4640045792129825\n",
      "6 -3.178392099684092\n",
      "7 -3.3573582063718774\n",
      "8 -3.3573582063718774\n",
      "9 -3.4640045792129825\n",
      "the minimum energy: -3.4640045792129825\n"
     ]
    }
   ],
   "source": [
    "res_lst = []\n",
    "for t in range(nodes):\n",
    "    res, circ, mixers_used = adapt_clifford(nodes, t, ham)\n",
    "    print(t, res)\n",
    "    res_lst.append(res)\n",
    "print(\"the minimum energy:\", min(res_lst))"
   ]
  },
  {
   "cell_type": "markdown",
   "id": "3f5c0bae-b3fb-4928-a60b-5b739095fd27",
   "metadata": {
    "jp-MarkdownHeadingCollapsed": true
   },
   "source": [
    "## 4 热启动 warm state：\n",
    "\n",
    "通过经典的半正定规划，Burer-Monteiro 降秩方法得到一个粗解，并由此初态开始进行优化。已证明热启动能有效地提高 QAOA 和 Adapt QAOA 算法的精度。优化的矩阵可看做为N个二维(k=2)或三维(k=3)向量，分别对应着N个比特，将每个比特制备成所对应向量的初态，即可实现warm state。请注意，单位圆(k=2)与单位球(k=3)中，量子态采样结果与随机超平面法不同，采样结果取决于所有态的位置，所以在制备warm state前，需要通过全局旋转：随机选择一个态将其旋转到$|0\\rangle$上，分别求能量，选择能量值最低的那个初态。\n",
    "\n",
    "！！由于在Clifford线路中无法实现随机参数，所以通过热启动得到一个0/1串，将其制备成初态。\n",
    "\n",
    "## 5 Burer-Monteiro 方法：\n",
    "\n",
    "半正定规划求解 MaxCut 问题的形式为：\n",
    "$$miximize\\,\\,\\langle -A, X^T X \\rangle$$\n",
    "$$subject\\,\\,to\\,\\,||x_i||_2=1, \\forall i \\in [n]$$\n",
    "$$x_i \\in \\mathbb{R}^n, \\forall i \\in [n]$$\n",
    "当n=N的时候，即为Geomans-Williamson算法。而当n=k<<N的时候即为Burer-Monteiro 方法。通过将秩降到k=2,3，可实现粗略求解。\n",
    "\n",
    "## 6 验证 warm Adapt Clifford 算法可行性：\n",
    "\n",
    "结论：我们发现，由热启动得到的0/1态，将$|1\\rangle$视为__伪激活比特__，并从$|1\\rangle$中随机选择一个比特_x_作为初始比特进行求解，其解等于 adapt_clifford(x) 的解。并且0串的解集与1串的解集互补，共同组成原deterministic方法的解集，并一一对应。进一步我们发现，不管是randomized方法还是deterministic方法，热启动的解对0/1串无指向性，对长/短无指向性。即：无法通过热启动来缩小初始比特作用的位置而缩小deterministic方法的随机性。"
   ]
  },
  {
   "cell_type": "markdown",
   "id": "4088c236-ccb9-4671-8fd2-1d17415a6c35",
   "metadata": {
    "jp-MarkdownHeadingCollapsed": true
   },
   "source": [
    "#### 2.1 Burer-Monteiro 方法"
   ]
  },
  {
   "cell_type": "code",
   "execution_count": 11,
   "id": "756b8d8f-ea8d-4f48-9740-771b1f5560cb",
   "metadata": {
    "execution": {
     "iopub.execute_input": "2025-04-07T12:38:55.080934Z",
     "iopub.status.busy": "2025-04-07T12:38:55.080934Z",
     "iopub.status.idle": "2025-04-07T12:38:58.342396Z",
     "shell.execute_reply": "2025-04-07T12:38:58.341392Z",
     "shell.execute_reply.started": "2025-04-07T12:38:55.080934Z"
    }
   },
   "outputs": [],
   "source": [
    "import pymanopt\n",
    "import autograd.numpy as anp\n",
    "from pymanopt.manifolds import Product\n",
    "from pymanopt.optimizers import TrustRegions\n",
    "\n",
    "def burer_monteiro_method(adj_matrix, nodes, k):\n",
    "    # Define Product manifolds\n",
    "    manifold = Product([pymanopt.manifolds.Sphere(k) for _ in range(nodes)])\n",
    "\n",
    "    @pymanopt.function.autograd(manifold)\n",
    "    # Define the cost function\n",
    "    def objective(*X):\n",
    "        X = anp.stack(X, axis=0)  # matrix form\n",
    "        return anp.trace(adj_matrix @ (X @ X.T))\n",
    "\n",
    "    problem = pymanopt.Problem(manifold, objective)\n",
    "    optimizer = TrustRegions(max_iterations=1000, min_gradient_norm=1e-6, verbosity=0)\n",
    "    result = optimizer.run(problem)\n",
    "    X_opt = anp.stack(result.point, axis=0)\n",
    "    return X_opt"
   ]
  },
  {
   "cell_type": "markdown",
   "id": "0e8d3ab6-1331-468c-9229-cc61d29cb69b",
   "metadata": {
    "jp-MarkdownHeadingCollapsed": true
   },
   "source": [
    "#### 2.2 粗解0/1串"
   ]
  },
  {
   "cell_type": "code",
   "execution_count": 12,
   "id": "124c15c5-f3a9-4114-a189-0155377ff721",
   "metadata": {
    "execution": {
     "iopub.execute_input": "2025-04-07T12:39:03.412994Z",
     "iopub.status.busy": "2025-04-07T12:39:03.411995Z",
     "iopub.status.idle": "2025-04-07T12:39:03.435997Z",
     "shell.execute_reply": "2025-04-07T12:39:03.434999Z",
     "shell.execute_reply.started": "2025-04-07T12:39:03.412994Z"
    }
   },
   "outputs": [],
   "source": [
    "def get_cut(X_op, adj_matrix, num_samples):\n",
    "    #\n",
    "        # 得到的cut一定能消除对称性与平衡性\n",
    "    #\n",
    "    n, k = X_op.shape\n",
    "    best_cut = None\n",
    "    best_cut_value = -np.inf\n",
    "    for _ in range(num_samples):\n",
    "        r = np.random.randn(k)\n",
    "        r /= np.linalg.norm(r)\n",
    "        x = np.sign(X_op @ r)\n",
    "\n",
    "        cut_value = np.sum(adj_matrix * (x[:, None] != x)) // 2\n",
    "        if cut_value > best_cut_value:\n",
    "            best_cut_value = cut_value\n",
    "            best_cut = x.copy()\n",
    "\n",
    "    if np.sum(best_cut == 1) == np.sum(best_cut == -1):\n",
    "        best_cut[np.random.choice(n)] *= -1     # 消除平衡性\n",
    "    if best_cut[0] == -1:\n",
    "        best_cut = -best_cut        # 消除对称性\n",
    "    return [0 if x == -1 else 1 for x in best_cut]"
   ]
  },
  {
   "cell_type": "markdown",
   "id": "0cc80a7d-d3b0-4439-b9fc-6c3b7e6537ba",
   "metadata": {
    "jp-MarkdownHeadingCollapsed": true
   },
   "source": [
    "#### 2.3 分别提取0/1串中0的索引和1的索引"
   ]
  },
  {
   "cell_type": "code",
   "execution_count": 13,
   "id": "1eb537c6-cef4-4443-a94c-2f8a19918aa2",
   "metadata": {
    "execution": {
     "iopub.execute_input": "2025-04-07T12:39:08.958484Z",
     "iopub.status.busy": "2025-04-07T12:39:08.957487Z",
     "iopub.status.idle": "2025-04-07T12:39:08.972482Z",
     "shell.execute_reply": "2025-04-07T12:39:08.971486Z",
     "shell.execute_reply.started": "2025-04-07T12:39:08.958484Z"
    }
   },
   "outputs": [],
   "source": [
    "def get_targets(cut):\n",
    "    indices_0 = [i for i, x in enumerate(cut) if x == 0]\n",
    "    indices_1 = [i for i, x in enumerate(cut) if x == 1]\n",
    "    return indices_0, indices_1"
   ]
  },
  {
   "cell_type": "markdown",
   "id": "21870230-1009-4cb3-8379-a3599e50205f",
   "metadata": {
    "jp-MarkdownHeadingCollapsed": true
   },
   "source": [
    "#### 2.4 制备定性的初态及粗解的能量值"
   ]
  },
  {
   "cell_type": "code",
   "execution_count": 14,
   "id": "05dfbe5e-caa1-41a0-89ad-a19612b4937f",
   "metadata": {
    "execution": {
     "iopub.execute_input": "2025-04-07T12:39:11.419707Z",
     "iopub.status.busy": "2025-04-07T12:39:11.419707Z",
     "iopub.status.idle": "2025-04-07T12:39:11.436707Z",
     "shell.execute_reply": "2025-04-07T12:39:11.435709Z",
     "shell.execute_reply.started": "2025-04-07T12:39:11.419707Z"
    }
   },
   "outputs": [],
   "source": [
    "def warm_state_qualitative(target_qubits, ham, nodes, sim):\n",
    "    circ = Circuit().un(X, target_qubits)\n",
    "    exp = get_exp(circ, ham, sim)\n",
    "    circ.un(H, range(nodes))\n",
    "    circ.barrier()\n",
    "    return circ, exp"
   ]
  },
  {
   "cell_type": "markdown",
   "id": "5e9dd8c8-eee3-46df-aebb-fab9457e8b28",
   "metadata": {
    "jp-MarkdownHeadingCollapsed": true
   },
   "source": [
    "#### 2.5 warm_adapt_clifford"
   ]
  },
  {
   "cell_type": "code",
   "execution_count": 15,
   "id": "a3d92cf9-bb5e-4dbb-84b6-85316750a4bd",
   "metadata": {
    "execution": {
     "iopub.execute_input": "2025-04-07T12:39:14.179396Z",
     "iopub.status.busy": "2025-04-07T12:39:14.179396Z",
     "iopub.status.idle": "2025-04-07T12:39:14.194395Z",
     "shell.execute_reply": "2025-04-07T12:39:14.193398Z",
     "shell.execute_reply.started": "2025-04-07T12:39:14.179396Z"
    }
   },
   "outputs": [],
   "source": [
    "import copy\n",
    "def warm_adapt_clifford(nodes, t, ham, circ_warm):\n",
    "    all_qubits = list(range(nodes))\n",
    "    sim = Simulator('stabilizer', nodes)\n",
    "    \n",
    "    layer = 0\n",
    "    circ = copy.deepcopy(circ_warm)\n",
    "    \n",
    "    aqubits = [t]\n",
    "    inaqubits = [n for n in all_qubits if n != t]\n",
    "    mixers = [f'Y{i} Z{j}' for i in aqubits for j in inaqubits]\n",
    "    mixers_used = []\n",
    "    while True:\n",
    "        gradients = []\n",
    "        for mixer in mixers:\n",
    "            gradients.append(derivative(ham, mixer, circ, sim))\n",
    "        target_mixer = mixers[np.argmax(gradients)]\n",
    "        mixers_used.append(target_mixer)\n",
    "        \n",
    "        if layer == 0:\n",
    "            k, j = extract_numbers(target_mixer)\n",
    "            add_layer(circ, k, j)\n",
    "        if layer > 0:\n",
    "            k, j = extract_numbers(target_mixer)\n",
    "            add_layer(circ, j, k)\n",
    "\n",
    "        aqubits.append(j)\n",
    "        inaqubits.remove(j)\n",
    "\n",
    "        mixers = [f'Z{i} Y{j}' for i in aqubits for j in inaqubits]\n",
    "        layer += 1\n",
    "        if layer == nodes - 1:\n",
    "            return get_exp(circ, ham, sim), circ, mixers_used"
   ]
  },
  {
   "cell_type": "markdown",
   "id": "d1580d12-4832-4bc3-a834-39767ff53668",
   "metadata": {
    "jp-MarkdownHeadingCollapsed": true
   },
   "source": [
    "### 实例测试"
   ]
  },
  {
   "cell_type": "code",
   "execution_count": 16,
   "id": "0642cab3-aefd-421c-8797-ddd37695d070",
   "metadata": {
    "execution": {
     "iopub.execute_input": "2025-04-07T12:39:17.471607Z",
     "iopub.status.busy": "2025-04-07T12:39:17.471607Z",
     "iopub.status.idle": "2025-04-07T12:39:17.554608Z",
     "shell.execute_reply": "2025-04-07T12:39:17.554608Z",
     "shell.execute_reply.started": "2025-04-07T12:39:17.471607Z"
    }
   },
   "outputs": [
    {
     "name": "stdout",
     "output_type": "stream",
     "text": [
      "Ground State energy: -6.520889802257112, Gonfiguration: ['001101110001110', '110010001110001']\n"
     ]
    }
   ],
   "source": [
    "nodes = 15\n",
    "W = adj_matrix_complete(nodes)\n",
    "ham = get_ham(nodes, W, ground=True)"
   ]
  },
  {
   "cell_type": "code",
   "execution_count": 17,
   "id": "e9422eb8-f918-4612-9f1e-b99f5a220820",
   "metadata": {
    "execution": {
     "iopub.execute_input": "2025-04-07T12:39:18.940830Z",
     "iopub.status.busy": "2025-04-07T12:39:18.940830Z",
     "iopub.status.idle": "2025-04-07T12:39:34.835788Z",
     "shell.execute_reply": "2025-04-07T12:39:34.834788Z",
     "shell.execute_reply.started": "2025-04-07T12:39:18.940830Z"
    }
   },
   "outputs": [
    {
     "name": "stdout",
     "output_type": "stream",
     "text": [
      "deterministic method:\n",
      "0 -6.460736322966745\n",
      "1 -6.460736322966745\n",
      "2 -6.460736322966745\n",
      "3 -6.460736322966745\n",
      "4 -6.206584078307759\n",
      "5 -6.206584078307759\n",
      "6 -6.206584078307759\n",
      "7 -6.520889802257112\n",
      "8 -6.460736322966745\n",
      "9 -6.460736322966745\n",
      "10 -6.460736322966745\n",
      "11 -6.460736322966745\n",
      "12 -6.520889802257112\n",
      "13 -6.460736322966745\n",
      "14 -6.460736322966745\n",
      "the minimum energy: -6.520889802257112\n",
      "CPU times: total: 15.9 s\n",
      "Wall time: 15.9 s\n"
     ]
    }
   ],
   "source": [
    "%%time\n",
    "res = []\n",
    "print(\"deterministic method:\")\n",
    "for t in range(nodes):\n",
    "    value,_,_ = adapt_clifford(nodes, t, ham)\n",
    "    print(t, value)\n",
    "    res.append(value)\n",
    "print(f'the minimum energy: {min(res)}')"
   ]
  },
  {
   "cell_type": "code",
   "execution_count": 18,
   "id": "22b7ecea-5599-4854-9487-104f8f49f370",
   "metadata": {
    "execution": {
     "iopub.execute_input": "2025-04-07T12:39:36.720106Z",
     "iopub.status.busy": "2025-04-07T12:39:36.720106Z",
     "iopub.status.idle": "2025-04-07T12:39:37.621768Z",
     "shell.execute_reply": "2025-04-07T12:39:37.620770Z",
     "shell.execute_reply.started": "2025-04-07T12:39:36.720106Z"
    }
   },
   "outputs": [
    {
     "name": "stdout",
     "output_type": "stream",
     "text": [
      "0-string target qubits: [2, 3, 5, 6, 7, 11, 12, 13]\n",
      "1-string target qubits: [0, 1, 4, 8, 9, 10, 14]\n",
      "the initial energy: -6.520889802257112 -6.520889802257112\n"
     ]
    }
   ],
   "source": [
    "X_op = burer_monteiro_method(W, nodes, 3)\n",
    "cut = get_cut(X_op, W, num_samples=100)\n",
    "target_0, target_1 = get_targets(cut)\n",
    "print(f'0-string target qubits: {target_0}\\n1-string target qubits: {target_1}')\n",
    "sim = Simulator('stabilizer', nodes)\n",
    "circ_warm0, exp_warm0 = warm_state_qualitative(target_0, ham, nodes, sim)\n",
    "circ_warm1, exp_warm1 = warm_state_qualitative(target_1, ham, nodes, sim)\n",
    "print(\"the initial energy:\",exp_warm0,exp_warm1)"
   ]
  },
  {
   "cell_type": "code",
   "execution_count": 19,
   "id": "a061fc7e-d741-4bbc-a4a2-daf1d9a64ef9",
   "metadata": {
    "execution": {
     "iopub.execute_input": "2025-04-07T12:39:39.315899Z",
     "iopub.status.busy": "2025-04-07T12:39:39.314899Z",
     "iopub.status.idle": "2025-04-07T12:39:47.730213Z",
     "shell.execute_reply": "2025-04-07T12:39:47.729213Z",
     "shell.execute_reply.started": "2025-04-07T12:39:39.315899Z"
    }
   },
   "outputs": [
    {
     "name": "stdout",
     "output_type": "stream",
     "text": [
      "0-string warm:\n",
      "2 -6.460736322966745\n",
      "3 -6.460736322966745\n",
      "5 -6.206584078307759\n",
      "6 -6.206584078307759\n",
      "7 -6.520889802257112\n",
      "11 -6.460736322966745\n",
      "12 -6.520889802257112\n",
      "13 -6.460736322966745\n"
     ]
    }
   ],
   "source": [
    "res0 = []\n",
    "print(\"0-string warm:\")\n",
    "for t in target_0:\n",
    "    value0,_,_ = warm_adapt_clifford(nodes, t, ham, circ_warm0)\n",
    "    print(t, value0)\n",
    "    res0.append(value0)"
   ]
  },
  {
   "cell_type": "code",
   "execution_count": 20,
   "id": "88ac9778-3a72-4d7e-94b1-7b44d0c39e3b",
   "metadata": {
    "execution": {
     "iopub.execute_input": "2025-04-07T12:39:49.001732Z",
     "iopub.status.busy": "2025-04-07T12:39:49.001732Z",
     "iopub.status.idle": "2025-04-07T12:39:56.329921Z",
     "shell.execute_reply": "2025-04-07T12:39:56.329921Z",
     "shell.execute_reply.started": "2025-04-07T12:39:49.001732Z"
    }
   },
   "outputs": [
    {
     "name": "stdout",
     "output_type": "stream",
     "text": [
      "1-string warm:\n",
      "0 -6.460736322966745\n",
      "1 -6.460736322966745\n",
      "4 -6.206584078307759\n",
      "8 -6.460736322966745\n",
      "9 -6.460736322966745\n",
      "10 -6.460736322966745\n",
      "14 -6.460736322966745\n"
     ]
    }
   ],
   "source": [
    "res1 = []\n",
    "print(\"1-string warm:\")\n",
    "for t in target_1:\n",
    "    value1,_,_ = warm_adapt_clifford(nodes, t, ham, circ_warm1)\n",
    "    print(t, value1)\n",
    "    res1.append(value1)"
   ]
  },
  {
   "cell_type": "code",
   "execution_count": 21,
   "id": "711076e1-da52-4fe5-bcad-08cb506b2fb3",
   "metadata": {
    "execution": {
     "iopub.execute_input": "2025-04-07T12:39:58.352636Z",
     "iopub.status.busy": "2025-04-07T12:39:58.352636Z",
     "iopub.status.idle": "2025-04-07T12:39:58.358638Z",
     "shell.execute_reply": "2025-04-07T12:39:58.357635Z",
     "shell.execute_reply.started": "2025-04-07T12:39:58.352636Z"
    }
   },
   "outputs": [
    {
     "name": "stdout",
     "output_type": "stream",
     "text": [
      "deterministic result: {0: -6.460736322966745, 1: -6.460736322966745, 2: -6.460736322966745, 3: -6.460736322966745, 4: -6.206584078307759, 5: -6.206584078307759, 6: -6.206584078307759, 7: -6.520889802257112, 8: -6.460736322966745, 9: -6.460736322966745, 10: -6.460736322966745, 11: -6.460736322966745, 12: -6.520889802257112, 13: -6.460736322966745, 14: -6.460736322966745}\n",
      "0/1str merged result: {0: -6.460736322966745, 1: -6.460736322966745, 2: -6.460736322966745, 3: -6.460736322966745, 4: -6.206584078307759, 5: -6.206584078307759, 6: -6.206584078307759, 7: -6.520889802257112, 8: -6.460736322966745, 9: -6.460736322966745, 10: -6.460736322966745, 11: -6.460736322966745, 12: -6.520889802257112, 13: -6.460736322966745, 14: -6.460736322966745}\n",
      "0串结果与1串结果是互补的两个子集，其值分别对应deterministic方法的结果！\n"
     ]
    }
   ],
   "source": [
    "# 合并整合，验证结论\n",
    "dct_deterministic = {i:res[i] for i in range(nodes)}\n",
    "\n",
    "dct_0string = {target_0[i]:res0[i] for i in range(len(target_0))}\n",
    "dct_1string = {target_1[i]:res1[i] for i in range(len(target_1))}\n",
    "merged_dict = {**dct_0string, **dct_1string}\n",
    "sorted_dict = {k: merged_dict[k] for k in sorted(merged_dict)}\n",
    "\n",
    "print(\"deterministic result:\", dct_deterministic)\n",
    "print(\"0/1str merged result:\",sorted_dict)\n",
    "print(\"0串结果与1串结果是互补的两个子集，其值分别对应deterministic方法的结果！\")"
   ]
  },
  {
   "cell_type": "markdown",
   "id": "18103090-a15d-46b7-a17c-6ff91d3692d6",
   "metadata": {},
   "source": [
    "### 进一步验证\n",
    "\n",
    "为了进一步验证warm_adapt_clifford的可行性，取消原本 adapt_clifford 算法__激活/待激活__比特这一概念，定制一个全集池子pool，自行定义线路深度 layers，从 circ_warm 开始自行计算梯度 并添加逻辑门。取N=10，layers=15，并与randomized 方法进行对比，结果发现 circ_warm最终优化值 或大于 或小于 或等于 初始启动值，而且这个值始终无法到达 精确基态能量。"
   ]
  },
  {
   "cell_type": "markdown",
   "id": "243238f8-cdaa-4526-9ae9-6e6bbfbe9059",
   "metadata": {
    "jp-MarkdownHeadingCollapsed": true
   },
   "source": [
    "#### 2.6 mixer池"
   ]
  },
  {
   "cell_type": "code",
   "execution_count": 22,
   "id": "87e7b75b-35c5-4223-bc2c-5c71cf681e09",
   "metadata": {
    "execution": {
     "iopub.execute_input": "2025-04-07T12:40:06.129524Z",
     "iopub.status.busy": "2025-04-07T12:40:06.128524Z",
     "iopub.status.idle": "2025-04-07T12:40:06.141522Z",
     "shell.execute_reply": "2025-04-07T12:40:06.140552Z",
     "shell.execute_reply.started": "2025-04-07T12:40:06.129524Z"
    }
   },
   "outputs": [],
   "source": [
    "from itertools import product\n",
    "# 包含所有 YZ ZY算子\n",
    "def mixer_pool(nodes):\n",
    "    number_pairs = [f'{i}{j}' for i in range(nodes) for j in range(i + 1, nodes)]\n",
    "    letter_pairs = ['Y Z', 'Z Y']\n",
    "    pool = [f'{let[0]}{num[0]} {let[2]}{num[1]}' for num, let in product(number_pairs, letter_pairs)]\n",
    "    return pool"
   ]
  },
  {
   "cell_type": "markdown",
   "id": "32a66cd6-532d-4c08-9358-05d8f62848bf",
   "metadata": {
    "jp-MarkdownHeadingCollapsed": true
   },
   "source": [
    "#### 2.7 提取辅助函数"
   ]
  },
  {
   "cell_type": "code",
   "execution_count": 23,
   "id": "e92817ee-34fd-45b4-988e-0ddaab528b58",
   "metadata": {
    "execution": {
     "iopub.execute_input": "2025-04-07T12:40:08.436467Z",
     "iopub.status.busy": "2025-04-07T12:40:08.436467Z",
     "iopub.status.idle": "2025-04-07T12:40:08.456464Z",
     "shell.execute_reply": "2025-04-07T12:40:08.455494Z",
     "shell.execute_reply.started": "2025-04-07T12:40:08.436467Z"
    }
   },
   "outputs": [],
   "source": [
    "def extract(s):\n",
    "    match = re.match(r'(\\D+)(\\d+) (\\D+)(\\d+)', s)\n",
    "    if match:\n",
    "        n = int(match.group(2))\n",
    "        m = int(match.group(4))\n",
    "        p = str(match.group(1))\n",
    "        q = str(match.group(3))\n",
    "        return (n, m), (p+q)"
   ]
  },
  {
   "cell_type": "markdown",
   "id": "ef6b3dcb-f80e-4824-a085-81903f32ec90",
   "metadata": {
    "jp-MarkdownHeadingCollapsed": true
   },
   "source": [
    "#### 2.8 warm_adapt_clifford_with_pool"
   ]
  },
  {
   "cell_type": "code",
   "execution_count": 24,
   "id": "19581694-2770-4cdb-a500-8f72c3310593",
   "metadata": {
    "execution": {
     "iopub.execute_input": "2025-04-07T12:40:11.498458Z",
     "iopub.status.busy": "2025-04-07T12:40:11.497457Z",
     "iopub.status.idle": "2025-04-07T12:40:11.514453Z",
     "shell.execute_reply": "2025-04-07T12:40:11.513454Z",
     "shell.execute_reply.started": "2025-04-07T12:40:11.498458Z"
    }
   },
   "outputs": [],
   "source": [
    "def test_warm_adapt_clifford(nodes, ham_op, circ_warm, exp_warm, pool, layers):\n",
    "\n",
    "    layer = 0\n",
    "    sim = Simulator('stabilizer', nodes)\n",
    "    circ = copy.deepcopy(circ_warm)\n",
    "    values = [exp_warm]\n",
    "    mixers_used = []\n",
    "\n",
    "    while True:\n",
    "        gradients = []\n",
    "        for mixer in pool:\n",
    "            gradients.append(derivative(ham, mixer, circ, sim))\n",
    "        mixer = pool[np.argmax(gradients)]\n",
    "        mixers_used.append(mixer)\n",
    "\n",
    "        (k, j), s = extract(mixer)\n",
    "        if s == 'YZ':\n",
    "            add_layer(circ, k, j)\n",
    "        if s == 'ZY':\n",
    "            add_layer(circ, j, k)\n",
    "\n",
    "        values.append(get_exp(circ, ham, sim))\n",
    "        layer += 1\n",
    "        if layer == layers:\n",
    "            return values,mixers_used"
   ]
  },
  {
   "cell_type": "markdown",
   "id": "52f12179-0ab1-42b7-8564-6dcabbe5684f",
   "metadata": {
    "jp-MarkdownHeadingCollapsed": true
   },
   "source": [
    "### 进一步验证结果\n",
    "\n",
    "结论：热启动方法无法与adapt_clifford算法相结合。原因在于，由热启动得到的 定性0/1串的初态 warm_state_qualitative，一开始具有一个较好的初始能量，但对每个比特施加Hadamard门之后 能量值又回归于0，使其无法提取到热启动的信息。所以要保持热启动信息，就不能施加Hadamard门，在此基础上，就无法使用只能在$|\\pm\\rangle$空间中求解的adapt_clifford算法。\n",
    "\n",
    "由文献Warm-starting quantum optimization中可知，对于一个warm-state，其最优路径是 adjusted_mixer，而这个混合层无需使用纠缠逻辑门。所以 从该定性初态出发进行求解的最佳算法 为贪心算法。"
   ]
  },
  {
   "cell_type": "code",
   "execution_count": 33,
   "id": "8f547359-83ba-4150-9305-26aa8b9efde3",
   "metadata": {
    "execution": {
     "iopub.execute_input": "2025-04-07T12:40:44.425259Z",
     "iopub.status.busy": "2025-04-07T12:40:44.425259Z",
     "iopub.status.idle": "2025-04-07T12:40:44.946865Z",
     "shell.execute_reply": "2025-04-07T12:40:44.945866Z",
     "shell.execute_reply.started": "2025-04-07T12:40:44.425259Z"
    }
   },
   "outputs": [],
   "source": [
    "nodes = 10\n",
    "W = adj_matrix_complete(nodes)\n",
    "ham = get_ham(nodes, W, ground=False)\n",
    "\n",
    "G = nx.from_numpy_array(W)\n",
    "energy, _ = ground_state_hamiltonian(MaximumCut(G).qubo.hamiltonian)\n",
    "energy = energy / 2\n",
    "\n",
    "X_op = burer_monteiro_method(W, nodes, 3)\n",
    "cut = get_cut(X_op, W, num_samples=100)\n",
    "target_0, target_1 = get_targets(cut)\n",
    "circ_warm0, exp_warm0 = warm_state_qualitative(target_0, ham, nodes, sim)\n",
    "circ_warm1, exp_warm1 = warm_state_qualitative(target_1, ham, nodes, sim)"
   ]
  },
  {
   "cell_type": "code",
   "execution_count": 34,
   "id": "e8f8c4ff-4934-4e99-8d6f-c5a4cd7890ef",
   "metadata": {
    "execution": {
     "iopub.execute_input": "2025-04-07T12:40:46.090916Z",
     "iopub.status.busy": "2025-04-07T12:40:46.090916Z",
     "iopub.status.idle": "2025-04-07T12:40:46.111913Z",
     "shell.execute_reply": "2025-04-07T12:40:46.110915Z",
     "shell.execute_reply.started": "2025-04-07T12:40:46.090916Z"
    }
   },
   "outputs": [],
   "source": [
    "circ_standard = Circuit().un(H, range(nodes)).z(random.choice(list(range(nodes))))  # 标准启动\n",
    "\n",
    "pool = mixer_pool(nodes)\n",
    "layers = 15  # 自定义线路深度"
   ]
  },
  {
   "cell_type": "code",
   "execution_count": 35,
   "id": "7c30f2ca-d4a4-48fe-922e-c8d03c36ced9",
   "metadata": {
    "execution": {
     "iopub.execute_input": "2025-04-07T12:40:46.939620Z",
     "iopub.status.busy": "2025-04-07T12:40:46.939620Z",
     "iopub.status.idle": "2025-04-07T12:40:50.943618Z",
     "shell.execute_reply": "2025-04-07T12:40:50.942616Z",
     "shell.execute_reply.started": "2025-04-07T12:40:46.939620Z"
    }
   },
   "outputs": [],
   "source": [
    "values0,_ = test_warm_adapt_clifford(nodes, ham, circ_warm0, exp_warm0, pool, layers)\n",
    "values1,_ = test_warm_adapt_clifford(nodes, ham, circ_warm1, exp_warm1, pool, layers)\n",
    "values,_ = test_warm_adapt_clifford(nodes, ham, circ_standard, 0, pool, layers)"
   ]
  },
  {
   "cell_type": "code",
   "execution_count": 36,
   "id": "bcfc26c0-f190-48ae-ad1a-da73af2d7436",
   "metadata": {
    "execution": {
     "iopub.execute_input": "2025-04-07T12:40:51.616958Z",
     "iopub.status.busy": "2025-04-07T12:40:51.616958Z",
     "iopub.status.idle": "2025-04-07T12:40:51.889958Z",
     "shell.execute_reply": "2025-04-07T12:40:51.888955Z",
     "shell.execute_reply.started": "2025-04-07T12:40:51.616958Z"
    }
   },
   "outputs": [
    {
     "data": {
      "image/png": "[encoded data removed]",
      "text/plain": [
       "<Figure size 800x600 with 1 Axes>"
      ]
     },
     "metadata": {},
     "output_type": "display_data"
    }
   ],
   "source": [
    "import matplotlib.pyplot as plt\n",
    "plt.figure(figsize=(8, 6), facecolor='lightgray')\n",
    "plt.plot(list(range(layers+1)),values0,color='b',label='0-string')\n",
    "plt.plot(list(range(layers+1)),values1,color='r',label='1-string')\n",
    "plt.plot(list(range(layers + 1)), values, color='black', label='randomized adapt_clifford')\n",
    "plt.axhline(energy, color='gray', linestyle='--', linewidth=1,label='gound energy')\n",
    "\n",
    "plt.yticks(fontsize=20)\n",
    "plt.xticks(fontsize=20)\n",
    "plt.title(f'nodes=10 complete graph\\nwarm_clifford_with_pool', fontsize=20)\n",
    "plt.xlabel('Layers', fontsize=25)\n",
    "plt.ylabel('Energy', fontsize=25)\n",
    "plt.legend(fontsize=13)\n",
    "plt.tight_layout()\n",
    "plt.show()"
   ]
  },
  {
   "cell_type": "markdown",
   "id": "7eab08cb-5a32-4ca5-a703-a7f02f38f111",
   "metadata": {
    "jp-MarkdownHeadingCollapsed": true
   },
   "source": [
    "## 7 Adapt Clifford 算法的改写与封装\n",
    "\n",
    "上述 Adapt Clifford 算法 是通过计算对易式来求解梯度值，此方法在大比特实例中会产生大量的无效计算，导致运行时间过长。通过对大量实例的结果进行分析，因此这里对其进行代数方法的修改，使其能模拟更大比特的MaxCut问题。\n",
    "\n",
    "！！此代数法计算梯度来源于文献Muñoz-Arias M H, Kourtis S, Blais A. Low-depth Clifford circuits approximately solve MaxCut. Physical Review Research, 2024, 6(2): 023294.\n",
    "\n",
    "！！仅梯度计算使用与 MaxCut 问题"
   ]
  },
  {
   "cell_type": "markdown",
   "id": "7ed9477b-9c17-448e-a587-0f3ab07703d9",
   "metadata": {
    "jp-MarkdownHeadingCollapsed": true
   },
   "source": [
    "#### 3.1 梯度计算\n",
    "\n",
    "我们发现，在第一层确定两个激活比特k,j后，后续所有的Ryz门中的激活比特部分一定会从k,j中选取。根据此Clifford线路的特殊性，当选取某个待激活比特的时候，计算其对应的梯度。"
   ]
  },
  {
   "cell_type": "code",
   "execution_count": 37,
   "id": "8e42085c-38db-4d90-b58d-0b9a7d8156c4",
   "metadata": {
    "execution": {
     "iopub.execute_input": "2025-04-07T12:41:14.943732Z",
     "iopub.status.busy": "2025-04-07T12:41:14.943732Z",
     "iopub.status.idle": "2025-04-07T12:41:14.956731Z",
     "shell.execute_reply": "2025-04-07T12:41:14.955732Z",
     "shell.execute_reply.started": "2025-04-07T12:41:14.943732Z"
    }
   },
   "outputs": [],
   "source": [
    "def gradient(inaqubit, W, aqubits_k, aqubits_j):\n",
    "    \"\"\"\n",
    "    Given an inactive qubit, this function computes the gradient of it with\n",
    "    with respect to the two qubits defining the bipartition.\n",
    "\n",
    "    inaqubit: the inactibe qubit under consideration\n",
    "    W: a matrix of the edge weights\n",
    "    aqubits_k: the active qubits which were entangled with qubit k\n",
    "    aqubits_j: the active qubits which were entangled with qubit j\n",
    "    \"\"\"\n",
    "\n",
    "    lindex_k = np.intersect1d(np.nonzero(W[:, inaqubit])[0], aqubits_k)\n",
    "    lindex_j = np.intersect1d(np.nonzero(W[:, inaqubit])[0], aqubits_j)\n",
    "\n",
    "    sum_weights_k = np.sum(W[ll, inaqubit] for ll in lindex_k)\n",
    "    sum_weights_j = np.sum(W[ll, inaqubit] for ll in lindex_j)\n",
    "\n",
    "    grad_k = -sum_weights_k + sum_weights_j\n",
    "    return grad_k"
   ]
  },
  {
   "cell_type": "markdown",
   "id": "205fc6eb-0d77-44d6-8ce6-e799aa3e6a26",
   "metadata": {
    "jp-MarkdownHeadingCollapsed": true
   },
   "source": [
    "#### 3.2 梯度筛选\n",
    "\n",
    "计算得出使梯度下降最大的那个 待激活比特，并筛选出需要作用的Ryz门"
   ]
  },
  {
   "cell_type": "code",
   "execution_count": 38,
   "id": "680133e6-a95d-48dd-925b-1447678cc5dc",
   "metadata": {
    "execution": {
     "iopub.execute_input": "2025-04-07T12:41:18.353212Z",
     "iopub.status.busy": "2025-04-07T12:41:18.353212Z",
     "iopub.status.idle": "2025-04-07T12:41:18.368184Z",
     "shell.execute_reply": "2025-04-07T12:41:18.367219Z",
     "shell.execute_reply.started": "2025-04-07T12:41:18.353212Z"
    }
   },
   "outputs": [],
   "source": [
    "def pos_max_grad(inaqubits, W, aqubits_k, aqubits_j):\n",
    "    \"\"\"\n",
    "    This function finds the inactive qubit b with the largest gradient, and the\n",
    "    corresponding initial qubit, k or j, with which this largest gradient occurs\n",
    "\n",
    "    inaqubits: the vector of inactive qubits\n",
    "    W: a matrix of the edge weights\n",
    "    aqubits_k: the active qubits which were entangled with qubit k\n",
    "    aqubits_j: the active qubits which were entangled with qubitt j\n",
    "    \"\"\"\n",
    "\n",
    "    all_grads_k = [gradient(inaqubit, W, aqubits_k, aqubits_j) for inaqubit in inaqubits]\n",
    "    all_grads_j = -1.0 * np.array(all_grads_k)\n",
    "\n",
    "    pos_max_k = np.argmax(all_grads_k)\n",
    "    pos_max_j = np.argmax(all_grads_j)\n",
    "\n",
    "    if all_grads_k[pos_max_k] > all_grads_j[pos_max_j]:\n",
    "        return \"k\", inaqubits[pos_max_k], all_grads_k[pos_max_k]\n",
    "    elif all_grads_k[pos_max_k] < all_grads_j[pos_max_j]:\n",
    "        return \"j\", inaqubits[pos_max_j], all_grads_j[pos_max_j]\n",
    "    else:\n",
    "        char = np.random.choice([1, 2])\n",
    "        if char == 1:\n",
    "            return \"k\", inaqubits[pos_max_k], all_grads_k[pos_max_k]\n",
    "        elif char == 2:\n",
    "            return \"j\", inaqubits[pos_max_j], all_grads_j[pos_max_j]"
   ]
  },
  {
   "cell_type": "markdown",
   "id": "8f8bbe69-8f11-45da-98ef-f1c41574309b",
   "metadata": {
    "jp-MarkdownHeadingCollapsed": true
   },
   "source": [
    "#### 3.3 Adapt Clifford 算法(优化)"
   ]
  },
  {
   "cell_type": "code",
   "execution_count": 39,
   "id": "3e0dd673-9be1-4aef-9a59-c0379434de4d",
   "metadata": {
    "execution": {
     "iopub.execute_input": "2025-04-07T12:41:21.378901Z",
     "iopub.status.busy": "2025-04-07T12:41:21.378901Z",
     "iopub.status.idle": "2025-04-07T12:41:21.390902Z",
     "shell.execute_reply": "2025-04-07T12:41:21.389903Z",
     "shell.execute_reply.started": "2025-04-07T12:41:21.378901Z"
    }
   },
   "outputs": [],
   "source": [
    "def adapt_clifford_mq(nodes, t, ham, W):\n",
    "    circ = Circuit().un(H,range(nodes)).z(t)  # 线路初始化\n",
    "    sim = Simulator('stabilizer', nodes)\n",
    "    active_qubits_k = [t]  # 初始激活比特 t\n",
    "    active_qubits_j = []\n",
    "    inactive_qubits = [n for n in list(range(nodes)) if n != t]\n",
    "\n",
    "    mixers_used = []\n",
    "\n",
    "    d = max(range(len(W)), key=lambda x: W[x][t]) # 第一层的目标比特\n",
    "\n",
    "    for nn in range(nodes - 1):\n",
    "        if nn == 0:\n",
    "            target_qubit = d\n",
    "\n",
    "            gra = W[target_qubit, t]\n",
    "            qubits, grad = (t, target_qubit), gra\n",
    "\n",
    "            active_qubits_j.append(target_qubit)\n",
    "\n",
    "            inactive_qubits.remove(target_qubit)\n",
    "        else:\n",
    "            aset, target_qubit, _ = pos_max_grad(inactive_qubits, W, active_qubits_k, active_qubits_j)\n",
    "\n",
    "            if aset == \"k\":\n",
    "                qubits = (target_qubit, t)\n",
    "                active_qubits_k.append(target_qubit)\n",
    "            elif aset == \"j\":\n",
    "                qubits = (target_qubit, active_qubits_j[0])\n",
    "                active_qubits_j.append(target_qubit)\n",
    "            inactive_qubits.remove(target_qubit)\n",
    "\n",
    "        add_layer(circ, qubits[0], qubits[1])\n",
    "        mixers_used.append(qubits)\n",
    "\n",
    "    return get_exp(circ, ham, sim), circ, mixers_used"
   ]
  },
  {
   "cell_type": "markdown",
   "id": "5448e592-0a1a-4dae-a25d-b60ffa31eb47",
   "metadata": {
    "jp-MarkdownHeadingCollapsed": true
   },
   "source": [
    "### 实例测试"
   ]
  },
  {
   "cell_type": "code",
   "execution_count": 40,
   "id": "fe733f58-eb9c-42cd-a299-80172b9d49b9",
   "metadata": {
    "execution": {
     "iopub.execute_input": "2025-04-07T12:41:25.446392Z",
     "iopub.status.busy": "2025-04-07T12:41:25.445408Z",
     "iopub.status.idle": "2025-04-07T12:41:25.471380Z",
     "shell.execute_reply": "2025-04-07T12:41:25.470380Z",
     "shell.execute_reply.started": "2025-04-07T12:41:25.446392Z"
    }
   },
   "outputs": [
    {
     "name": "stdout",
     "output_type": "stream",
     "text": [
      "Ground State energy: -3.3476198775169737, Gonfiguration: ['1101001100', '0010110011']\n"
     ]
    }
   ],
   "source": [
    "nodes = 10\n",
    "W = adj_matrix_complete(nodes)\n",
    "ham = get_ham(nodes, W, ground=True)"
   ]
  },
  {
   "cell_type": "code",
   "execution_count": 41,
   "id": "ae26b07c-bdea-4f1d-8de8-3f7e0e0d4557",
   "metadata": {
    "execution": {
     "iopub.execute_input": "2025-04-07T12:41:26.284973Z",
     "iopub.status.busy": "2025-04-07T12:41:26.284973Z",
     "iopub.status.idle": "2025-04-07T12:41:28.142617Z",
     "shell.execute_reply": "2025-04-07T12:41:28.142109Z",
     "shell.execute_reply.started": "2025-04-07T12:41:26.284973Z"
    }
   },
   "outputs": [
    {
     "name": "stderr",
     "output_type": "stream",
     "text": [
      "C:\\Users\\Admin\\AppData\\Local\\Temp\\ipykernel_18296\\628900130.py:15: DeprecationWarning: Calling np.sum(generator) is deprecated, and in the future will give a different result. Use np.sum(np.fromiter(generator)) or the python sum builtin instead.\n",
      "  sum_weights_k = np.sum(W[ll, inaqubit] for ll in lindex_k)\n",
      "C:\\Users\\Admin\\AppData\\Local\\Temp\\ipykernel_18296\\628900130.py:16: DeprecationWarning: Calling np.sum(generator) is deprecated, and in the future will give a different result. Use np.sum(np.fromiter(generator)) or the python sum builtin instead.\n",
      "  sum_weights_j = np.sum(W[ll, inaqubit] for ll in lindex_j)\n"
     ]
    },
    {
     "name": "stdout",
     "output_type": "stream",
     "text": [
      "0 -3.0109445037259794 -3.0109445037259794\n",
      "1 -3.3476198775169737 -3.3476198775169737\n",
      "2 -3.0109445037259794 -3.0109445037259794\n",
      "3 -3.0109445037259794 -3.0109445037259794\n",
      "4 -3.3476198775169737 -3.3476198775169737\n",
      "5 -3.3476198775169737 -3.3476198775169737\n",
      "6 -3.3476198775169737 -3.3476198775169737\n",
      "7 -3.3476198775169737 -3.3476198775169737\n",
      "8 -3.3476198775169737 -3.3476198775169737\n",
      "9 -3.3476198775169737 -3.3476198775169737\n",
      "不改变结果\n"
     ]
    }
   ],
   "source": [
    "# 与优化前的算符比较\n",
    "for t in range(nodes):\n",
    "    res, _, _ = adapt_clifford(nodes, t, ham)\n",
    "    res_mq, _, _ = adapt_clifford_mq(nodes, t, ham, W)\n",
    "    print(t, res, res_mq)\n",
    "print(\"不改变结果\")"
   ]
  },
  {
   "cell_type": "code",
   "execution_count": 42,
   "id": "cb4d6eb2-9765-4710-99e2-8c04e022c4d3",
   "metadata": {
    "execution": {
     "iopub.execute_input": "2025-04-07T12:41:32.548263Z",
     "iopub.status.busy": "2025-04-07T12:41:32.548263Z",
     "iopub.status.idle": "2025-04-07T12:41:36.231381Z",
     "shell.execute_reply": "2025-04-07T12:41:36.230411Z",
     "shell.execute_reply.started": "2025-04-07T12:41:32.548263Z"
    }
   },
   "outputs": [
    {
     "name": "stderr",
     "output_type": "stream",
     "text": [
      "C:\\Users\\Admin\\AppData\\Local\\Temp\\ipykernel_18296\\628900130.py:15: DeprecationWarning: Calling np.sum(generator) is deprecated, and in the future will give a different result. Use np.sum(np.fromiter(generator)) or the python sum builtin instead.\n",
      "  sum_weights_k = np.sum(W[ll, inaqubit] for ll in lindex_k)\n",
      "C:\\Users\\Admin\\AppData\\Local\\Temp\\ipykernel_18296\\628900130.py:16: DeprecationWarning: Calling np.sum(generator) is deprecated, and in the future will give a different result. Use np.sum(np.fromiter(generator)) or the python sum builtin instead.\n",
      "  sum_weights_j = np.sum(W[ll, inaqubit] for ll in lindex_j)\n"
     ]
    },
    {
     "name": "stdout",
     "output_type": "stream",
     "text": [
      "energy: -297.27391258134685\n",
      "CPU times: total: 3.66 s\n",
      "Wall time: 3.67 s\n"
     ]
    }
   ],
   "source": [
    "%%time\n",
    "## 大比特测试\n",
    "nodes = 200\n",
    "W = adj_matrix_complete(nodes)\n",
    "ham = get_ham(nodes, W, ground=False)\n",
    "\n",
    "res_mq, _, _ = adapt_clifford_mq(nodes, t, ham, W)\n",
    "print(\"energy:\", res_mq)"
   ]
  }
 ],
 "metadata": {
  "kernelspec": {
   "display_name": "Python 3 (ipykernel)",
   "language": "python",
   "name": "python3"
  },
  "language_info": {
   "codemirror_mode": {
    "name": "ipython",
    "version": 3
   },
   "file_extension": ".py",
   "mimetype": "text/x-python",
   "name": "python",
   "nbconvert_exporter": "python",
   "pygments_lexer": "ipython3",
   "version": "3.9.13"
  }
 },
 "nbformat": 4,
 "nbformat_minor": 5
}
