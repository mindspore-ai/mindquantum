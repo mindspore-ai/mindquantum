{
 "cells": [
  {
   "cell_type": "code",
   "execution_count": 1,
   "id": "d7956a0e-e5c0-4205-9c80-0e91b017b6fb",
   "metadata": {},
   "outputs": [
    {
     "name": "stderr",
     "output_type": "stream",
     "text": [
      "/home/ubuntu/miniconda3/lib/python3.8/site-packages/mindquantum/simulator/__init__.py:17: UserWarning: Disable mqvector gpu backend due to: Malloc GPU memory failed: cudaErrorInsufficientDriver, CUDA driver version is insufficient for CUDA runtime version\n",
      "  from .available_simulator import SUPPORTED_SIMULATOR\n",
      "/home/ubuntu/miniconda3/lib/python3.8/site-packages/mindquantum/__init__.py:28: UserWarning: MindSpore not installed, you may not be able to use hybrid quantum classical neural network.\n",
      "  from . import (\n"
     ]
    }
   ],
   "source": [
    "import numpy as np\n",
    "import scipy as sp\n",
    "import scipy.optimize as sopt\n",
    "from mindquantum.simulator import Simulator\n",
    "from mindquantum.core import CNOT, H, X, Z, RX, RY, RZ, Circuit, QubitOperator, PhaseShift, Hamiltonian\n",
    "import matplotlib as mpl\n",
    "import matplotlib.pyplot as plt"
   ]
  },
  {
   "cell_type": "code",
   "execution_count": 2,
   "id": "8f98827b-1149-40d6-81cd-8d7b8fe70bd0",
   "metadata": {},
   "outputs": [],
   "source": [
    "def entangling_gate(parameter, qubits):\n",
    "    circuit = Circuit()\n",
    "    circuit += RZ(-np.pi / 2).on(qubits[1])\n",
    "    circuit += CNOT.on(qubits[0], qubits[1])\n",
    "    circuit += RZ({parameter: -2}).on(qubits[0])\n",
    "    circuit += RZ(np.pi / 2).on(qubits[0])\n",
    "    circuit += RY({parameter: 2}).on(qubits[1])\n",
    "    circuit += RY(-np.pi / 2).on(qubits[1])\n",
    "    circuit += CNOT.on(qubits[1], qubits[0])\n",
    "    circuit += RY({parameter: -2}).on(qubits[1])\n",
    "    circuit += RY(np.pi / 2).on(qubits[1])\n",
    "    circuit += CNOT.on(qubits[0], qubits[1])\n",
    "    circuit += RZ(np.pi / 2).on(qubits[0])\n",
    "    return circuit\n",
    "\n",
    "def ansatz(N, layers, local_rot=True):\n",
    "    circuit = Circuit()\n",
    "    params_index = 0\n",
    "    for layer_index in range(layers):\n",
    "        for i in range(2):\n",
    "            for j in range(i, N - 1, 2):\n",
    "                circuit += entangling_gate(str(params_index), [j, j + 1])\n",
    "                params_index += 1\n",
    "        if local_rot:\n",
    "            for i in range(N):\n",
    "                circuit += PhaseShift(str(params_index)).on(i)\n",
    "                params_index += 1\n",
    "    return circuit"
   ]
  },
  {
   "cell_type": "code",
   "execution_count": 3,
   "id": "45ef8ca5-2835-4cfd-8885-311821df8507",
   "metadata": {},
   "outputs": [],
   "source": [
    "def init_block(init_str):\n",
    "    circ = Circuit()\n",
    "    for i, c in enumerate(init_str):\n",
    "        if c == '1':\n",
    "            circ += X(i)\n",
    "    return circ"
   ]
  },
  {
   "cell_type": "code",
   "execution_count": 4,
   "id": "145a8f5b-6889-40c1-a394-1039918a7248",
   "metadata": {},
   "outputs": [],
   "source": [
    "class SSVQE:\n",
    "    def __init__(self, n_qubits, init_circuits, pqc, ops, beta):\n",
    "        self.n_qubits = n_qubits\n",
    "        self.circs = [circ + pqc for circ in init_circuits]\n",
    "        self.sim = Simulator('mqvector', n_qubits)\n",
    "        self.beta = beta\n",
    "        self.grad_ops = [self.sim.get_expectation_with_grad(ops, circ) for circ in self.circs]\n",
    "\n",
    "    def energy(self, params):\n",
    "        if self.sim is None:\n",
    "            self.sim = Simulator('mqvector', self.n_qubits)\n",
    "        energies = []\n",
    "        for i in range(len(self.grad_ops)):\n",
    "            f, g = self.grad_ops[i](params)\n",
    "            energies.append(f[0, 0].real)\n",
    "        return energies\n",
    "\n",
    "    def __call__(self, inputs):\n",
    "        cost = 0\n",
    "        cost_grad = 0\n",
    "        for i in range(len(self.grad_ops)):\n",
    "            f, g = self.grad_ops[i](inputs)\n",
    "            f1, f2, f3 = f[0, 0].real, f[0, 1].real, f[0, 2].real\n",
    "            g1, g2, g3 = np.array(g[0, 0, :].real), np.array(g[0, 1, :].real), np.array(g[0, 2, :].real)\n",
    "            cost += (f1 + self.beta * (f2 + f3)) * (len(self.grad_ops) - i)\n",
    "            cost_grad += (g1 + self.beta * (g2 + g3)) * (len(self.grad_ops) - i)\n",
    "        return cost, cost_grad"
   ]
  },
  {
   "cell_type": "code",
   "execution_count": 5,
   "id": "59c9b516-ec70-4e02-b27f-5e865b3c3f24",
   "metadata": {},
   "outputs": [],
   "source": [
    "def s_alpha(N, alpha: str = 'X'):\n",
    "    alpha = alpha.upper()\n",
    "    out = QubitOperator()\n",
    "    for i in range(N):\n",
    "        out += QubitOperator(alpha + f'{i}')\n",
    "    return out * 0.5\n",
    "\n",
    "def s_tot_op(N):\n",
    "    s_x_op = s_alpha(N, 'X')**2\n",
    "    s_y_op = s_alpha(N, 'Y')**2\n",
    "    s_z_op = s_alpha(N, 'Z')**2\n",
    "    op = s_x_op + s_y_op + s_z_op\n",
    "    op.compress()\n",
    "    return op\n",
    "\n",
    "def ham_heis(n_qubits, J):\n",
    "    ham = QubitOperator()\n",
    "    for i in range(1, n_qubits):\n",
    "        ham += QubitOperator(\"X{} X{}\".format(i - 1, i), J)\n",
    "        ham += QubitOperator(\"Y{} Y{}\".format(i - 1, i), J)\n",
    "        ham += QubitOperator(\"Z{} Z{}\".format(i - 1, i), J)\n",
    "    ham.compress()\n",
    "    return Hamiltonian(ham)\n"
   ]
  },
  {
   "cell_type": "code",
   "execution_count": 6,
   "id": "65893153-7fda-4ec0-bf3d-dbde8c7cef41",
   "metadata": {},
   "outputs": [],
   "source": [
    "n_qubits = 4\n",
    "layers = 6\n",
    "target_value = 0\n",
    "pqc = ansatz(n_qubits, layers, local_rot=True)\n",
    "init_circuits = [init_block(s) for s in ['0101', '1010']]\n",
    "s_tot = s_tot_op(n_qubits)\n",
    "pen_op1 = Hamiltonian(s_tot ** 2)\n",
    "pen_op2 = Hamiltonian(-2 * target_value * s_tot)\n",
    "ham = ham_heis(n_qubits, J=1)\n",
    "ssvqe = SSVQE(n_qubits=n_qubits, init_circuits=init_circuits, pqc=pqc, ops=[ham, pen_op1, pen_op2], beta=2)"
   ]
  },
  {
   "cell_type": "code",
   "execution_count": 7,
   "id": "06619e44-c5f5-40a5-9311-0c49ce7ce6b8",
   "metadata": {},
   "outputs": [],
   "source": [
    "results = [0, 0, 0, 0]"
   ]
  },
  {
   "cell_type": "code",
   "execution_count": 8,
   "id": "7f5edf5a-c2af-467c-9cfb-7623c36a7ddc",
   "metadata": {},
   "outputs": [],
   "source": [
    "np.random.seed(142)\n",
    "initial_parameter = (np.random.rand(len(ssvqe.circs[0].params_name)) - .5) * np.pi\n",
    "res = sopt.minimize(ssvqe,\n",
    "                    initial_parameter,\n",
    "                    method='l-bfgs-b',\n",
    "                    jac=True,\n",
    "                    options={'disp': False})\n",
    "results[0], results[3] = ssvqe.energy(res.x)"
   ]
  },
  {
   "cell_type": "code",
   "execution_count": 9,
   "id": "efcd8f6a-32cc-4a52-a4de-ccac975027ba",
   "metadata": {},
   "outputs": [],
   "source": [
    "target_value = 2\n",
    "pen_op2 = Hamiltonian(-2 * target_value * s_tot)\n",
    "ssvqe = SSVQE(n_qubits=n_qubits, init_circuits=init_circuits, pqc=pqc, ops=[ham, pen_op1, pen_op2], beta=2)\n",
    "\n",
    "initial_parameter = (np.random.rand(len(ssvqe.circs[0].params_name)) - .5) * np.pi\n",
    "res = sopt.minimize(ssvqe,\n",
    "                    initial_parameter,\n",
    "                    method='l-bfgs-b',\n",
    "                    jac=True,\n",
    "                    options={'disp': False})\n",
    "results[1], results[2] = ssvqe.energy(res.x)"
   ]
  },
  {
   "cell_type": "code",
   "execution_count": 10,
   "id": "1fa04faa-caf1-477e-ae1f-1d99c9486bb7",
   "metadata": {},
   "outputs": [
    {
     "data": {
      "image/png": "[encoded data removed]",
      "text/plain": [
       "<Figure size 640x480 with 1 Axes>"
      ]
     },
     "metadata": {},
     "output_type": "display_data"
    }
   ],
   "source": [
    "mpl.rc('font',size=14)\n",
    "mpl.rc('axes',labelsize=16)\n",
    "theo_result = [-6.464101615137754, -3.8284271247461867, -1, 0.4641016151377547]\n",
    "tick_label = ['E0', 'E1', 'E2', 'E3']\n",
    "plt.bar(np.arange(len(results)), results, width=0.8, label='SSVQE')\n",
    "plt.bar(range(len(results)), theo_result[:len(results)], width=0.8, ec='red', ls='--', lw=2, fill='', label='Theory', tick_label=tick_label[:len(results)])\n",
    "plt.legend()\n",
    "plt.ylabel('energy')\n",
    "plt.tight_layout(pad=.1)\n",
    "plt.savefig('result.png', dpi=400)"
   ]
  },
  {
   "cell_type": "code",
   "execution_count": null,
   "id": "326192cd-d8fc-4db3-89e2-43f80918a904",
   "metadata": {},
   "outputs": [],
   "source": []
  }
 ],
 "metadata": {
  "kernelspec": {
   "display_name": "Python 3 (ipykernel)",
   "language": "python",
   "name": "python3"
  },
  "language_info": {
   "codemirror_mode": {
    "name": "ipython",
    "version": 3
   },
   "file_extension": ".py",
   "mimetype": "text/x-python",
   "name": "python",
   "nbconvert_exporter": "python",
   "pygments_lexer": "ipython3",
   "version": "3.8.13"
  }
 },
 "nbformat": 4,
 "nbformat_minor": 5
}
