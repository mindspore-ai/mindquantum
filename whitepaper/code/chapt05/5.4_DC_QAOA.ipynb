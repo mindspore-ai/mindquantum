{
 "cells": [
  {
   "cell_type": "markdown",
   "metadata": {},
   "source": [
    "# Digitized-counterdiabatic quantum approximate optimization algorithm\n"
   ]
  },
  {
   "cell_type": "code",
   "execution_count": 1,
   "metadata": {
    "tags": []
   },
   "outputs": [
    {
     "name": "stderr",
     "output_type": "stream",
     "text": [
      "/opt/anaconda3/envs/mindquantum/lib/python3.9/site-packages/mindquantum/simulator/__init__.py:17: UserWarning: Unable import mqvector gpu backend due to: cannot import name '_mq_vector_gpu' from partially initialized module 'mindquantum' (most likely due to a circular import) (/opt/anaconda3/envs/mindquantum/lib/python3.9/site-packages/mindquantum/__init__.py)\n",
      "  from .available_simulator import SUPPORTED_SIMULATOR\n"
     ]
    }
   ],
   "source": [
    "from mindquantum import *\n",
    "\n",
    "import mindspore.nn as nn\n",
    "import mindspore as ms\n",
    "ms.set_context(mode=ms.PYNATIVE_MODE, device_target=\"CPU\")\n",
    "\n",
    "import matplotlib.pyplot as plt\n",
    "from scipy.linalg import eigvals\n",
    "import numpy as np"
   ]
  },
  {
   "cell_type": "markdown",
   "metadata": {},
   "source": [
    "## Define problem hamiltonian\n",
    "\n",
    "Here we consider LFIM model, the Hamiltonian is:\n",
    "\n",
    "$$H_{prob} = -J\\sum_{i=1}^{n-1}\\sigma^z_i\\sigma^z_{i+1}-h\\sum_{i=1}^{n}{\\sigma_i^z}$$"
   ]
  },
  {
   "cell_type": "code",
   "execution_count": 2,
   "metadata": {
    "tags": []
   },
   "outputs": [],
   "source": [
    "def generate_h_prob(n_qubits:int, J:float, h:float):\n",
    "    h_prob = QubitOperator()\n",
    "    for i in range(n_qubits-1):\n",
    "        h_prob += QubitOperator(f'Z{i} Z{i+1}', -J)\n",
    "    for i in range(n_qubits):\n",
    "        h_prob += QubitOperator(f'Z{i}', -h)\n",
    "    return h_prob"
   ]
  },
  {
   "cell_type": "markdown",
   "metadata": {},
   "source": [
    "## Define mixer hamiltonian\n",
    "\n",
    "The mixer Hamiltonian normally choosed as:\n",
    "\n",
    "$$H_\\text{mixer}=\\sum_{i=1}^{n}{\\sigma_i^x}$$"
   ]
  },
  {
   "cell_type": "code",
   "execution_count": 3,
   "metadata": {
    "tags": []
   },
   "outputs": [],
   "source": [
    "def generate_h_mixer(n_qubits:int):\n",
    "    h_mixer = QubitOperator()\n",
    "    for i in range(n_qubits):\n",
    "        h_mixer += QubitOperator(f'X{i}')\n",
    "    return h_mixer"
   ]
  },
  {
   "cell_type": "markdown",
   "metadata": {},
   "source": [
    "## Define CD term\n",
    "\n",
    "For this problem Hamiltonian, CD terms can be genetared and picked up empirically according to nested commutator:\n",
    "\n",
    "$$H_{cd} = \\sum_{i=1}^{n}\\sigma_i^y$$"
   ]
  },
  {
   "cell_type": "code",
   "execution_count": 4,
   "metadata": {
    "tags": []
   },
   "outputs": [],
   "source": [
    "def generate_h_cd(n_qubits:int):\n",
    "    h_cd = QubitOperator()\n",
    "    for i in range(n_qubits):\n",
    "        h_cd += QubitOperator(f'Y{i}')\n",
    "    return h_cd"
   ]
  },
  {
   "cell_type": "markdown",
   "metadata": {},
   "source": [
    "## Example: found the ground state energy of given system\n",
    "\n",
    "Here we choice a 12 qubits system to study. For simplify, we choice $J=1, h=1$."
   ]
  },
  {
   "cell_type": "code",
   "execution_count": 5,
   "metadata": {
    "tags": []
   },
   "outputs": [],
   "source": [
    "n_qubits = 12\n",
    "J, h = 1, 1\n",
    "\n",
    "h_prob = generate_h_prob(n_qubits, J, h)\n",
    "h_mixer = generate_h_mixer(n_qubits)\n",
    "h_cd = generate_h_cd(n_qubits)"
   ]
  },
  {
   "cell_type": "markdown",
   "metadata": {},
   "source": [
    "## Generate ansatz\n",
    "\n",
    "The ansatz is the trotterized time evolution of annealing Hamiltonian.\n",
    "\n",
    "- For $U_p(\\gamma)$"
   ]
  },
  {
   "cell_type": "code",
   "execution_count": 6,
   "metadata": {
    "tags": []
   },
   "outputs": [],
   "source": [
    "u_p = 0\n",
    "for index,i in enumerate(h_prob):\n",
    "    u_p += decompose_single_term_time_evolution(i, ParameterResolver(f'c'))"
   ]
  },
  {
   "cell_type": "markdown",
   "metadata": {},
   "source": [
    "- For $U_m(\\beta)$"
   ]
  },
  {
   "cell_type": "code",
   "execution_count": 7,
   "metadata": {
    "tags": []
   },
   "outputs": [],
   "source": [
    "u_m = 0\n",
    "for i in h_mixer:\n",
    "    u_m += decompose_single_term_time_evolution(i, ParameterResolver(f'b'))"
   ]
  },
  {
   "cell_type": "markdown",
   "metadata": {},
   "source": [
    "- For $U_{CD}$\n",
    "\n",
    "Her we use $\\sigma^z\\sigma^y, \\sigma^y$ as the CD term."
   ]
  },
  {
   "cell_type": "code",
   "execution_count": 8,
   "metadata": {
    "tags": []
   },
   "outputs": [],
   "source": [
    "u_cd = 0\n",
    "for i in h_cd:\n",
    "    u_cd += decompose_single_term_time_evolution(i, ParameterResolver(f'a'))"
   ]
  },
  {
   "cell_type": "markdown",
   "metadata": {},
   "source": [
    "- Initial state\n",
    "\n",
    "The initial state is the eigen state of mixer Hamiltonian. Here a layer of `X` gate can be used to easily prepare the initial state."
   ]
  },
  {
   "cell_type": "code",
   "execution_count": 9,
   "metadata": {
    "tags": []
   },
   "outputs": [],
   "source": [
    "prep_circ = UN(H, n_qubits)"
   ]
  },
  {
   "cell_type": "markdown",
   "metadata": {},
   "source": [
    "## Construct the circuit\n",
    "\n",
    "Here we choice $p=1$ to demostrate the performance of DC-QAOA."
   ]
  },
  {
   "cell_type": "code",
   "execution_count": 10,
   "metadata": {
    "tags": []
   },
   "outputs": [],
   "source": [
    "from mindquantum.core.gates import BarrierGate\n",
    "from mindquantum.core.circuit import add_suffix\n",
    "\n",
    "p = 1\n",
    "\n",
    "ansatz_template =   u_p + u_m  + u_cd\n",
    "\n",
    "ansatz = Circuit() + prep_circ\n",
    "\n",
    "for i in range(p):\n",
    "    ansatz += add_suffix(ansatz_template, str(i)) + BarrierGate()\n",
    "\n",
    "#ansatz.svg()"
   ]
  },
  {
   "cell_type": "markdown",
   "metadata": {},
   "source": [
    "# Optimize\n",
    "\n",
    "Here we use Adagrad classical optimizer in Mindquantum to optimize the paramters."
   ]
  },
  {
   "cell_type": "code",
   "execution_count": 11,
   "metadata": {
    "tags": []
   },
   "outputs": [],
   "source": [
    "def train(ham, ansatze, iteration):\n",
    "\n",
    "    # bulid the quantum circuit\n",
    "    \n",
    "    circ = ansatze                                         # 将初始化线路与ansatz线路组合成一个线路\n",
    "    sim = Simulator('mqvector', ansatze.n_qubits)  \n",
    "    \n",
    "    grad_ops = sim.get_expectation_with_grad(ham, circ)    # 获取计算变分量子线路的期望值和梯度的算子\n",
    "    net = MQAnsatzOnlyLayer(grad_ops)                             \n",
    "    opti = nn.Adam(net.trainable_params(), learning_rate=0.05)     \n",
    "    train_net = nn.TrainOneStepCell(net, opti)                    \n",
    "\n",
    "    result = []\n",
    "    #from tqdm import tqdm\n",
    "    for i in range(iteration):\n",
    "        train_net() \n",
    "        result.append(np.array(train_net()[0]))\n",
    "    pr = dict(zip(ansatze.params_name, net.weight.asnumpy())) # 获取线路参数\n",
    "        \n",
    "    return result"
   ]
  },
  {
   "cell_type": "markdown",
   "metadata": {},
   "source": [
    "## Calculate the gradient.\n",
    "\n",
    "MindQuanutm can calculate the gradient very easily. The model here is:\n",
    "\n",
    "$$E = \\left<\\psi_0\\right|\\Pi_{j=0}^1 U_p^\\dagger(\\gamma_j)U_m^\\dagger(\\beta_j)U_{cd}^\\dagger(\\alpha_j) H_{prob} \\Pi_{i=0}^1 U_{cd}(\\alpha_i)U_m(\\beta_i)U_p(\\gamma_i)\\left|\\psi_0\\right>$$"
   ]
  },
  {
   "cell_type": "code",
   "execution_count": 12,
   "metadata": {
    "tags": []
   },
   "outputs": [],
   "source": [
    "ite = 100\n",
    "\n",
    "ham = Hamiltonian(h_prob)\n",
    "sim = Simulator('mqvector', n_qubits)\n",
    "grad_ops = sim.get_expectation_with_grad(ham, ansatz)\n",
    "result = train(ham, ansatz, ite)"
   ]
  },
  {
   "cell_type": "markdown",
   "metadata": {
    "tags": []
   },
   "source": [
    "# Build QAOA ansatz for comparasion"
   ]
  },
  {
   "cell_type": "code",
   "execution_count": 13,
   "metadata": {
    "tags": []
   },
   "outputs": [],
   "source": [
    "prep_circ_qaoa = UN(H, n_qubits)\n",
    "\n",
    "ansatz_template_qaoa = u_p + u_m \n",
    "\n",
    "ansatz_qaoa = Circuit() + prep_circ_qaoa\n",
    "for i in range(p):\n",
    "    ansatz_qaoa += add_suffix(ansatz_template_qaoa, str(i)) + BarrierGate()"
   ]
  },
  {
   "cell_type": "code",
   "execution_count": 14,
   "metadata": {
    "tags": []
   },
   "outputs": [],
   "source": [
    "ham = Hamiltonian(h_prob)\n",
    "sim = Simulator('mqvector', n_qubits)\n",
    "grad_ops = sim.get_expectation_with_grad(ham, ansatz_qaoa)\n",
    "result_qaoa = train(ham, ansatz_qaoa, ite)"
   ]
  },
  {
   "cell_type": "markdown",
   "metadata": {},
   "source": [
    "## Theoretical result"
   ]
  },
  {
   "cell_type": "code",
   "execution_count": 15,
   "metadata": {
    "tags": []
   },
   "outputs": [
    {
     "name": "stdout",
     "output_type": "stream",
     "text": [
      "Theoretic ground state energy is:  -23.0\n"
     ]
    }
   ],
   "source": [
    "mat = h_prob.matrix().toarray()\n",
    "e_v = eigvals(mat)\n",
    "\n",
    "ground_state_energy = np.min(np.real(e_v))\n",
    "print('Theoretic ground state energy is: ', ground_state_energy)"
   ]
  },
  {
   "cell_type": "code",
   "execution_count": 25,
   "metadata": {
    "tags": []
   },
   "outputs": [
    {
     "data": {
      "image/png": "[encoded data removed]",
      "text/plain": [
       "<Figure size 640x480 with 1 Axes>"
      ]
     },
     "metadata": {},
     "output_type": "display_data"
    }
   ],
   "source": [
    "plt.plot(result,label=\"DC-QAOA\")\n",
    "plt.plot(result_qaoa,label=\"QAOA\")\n",
    "plt.xlabel('Iteration', fontsize=20)\n",
    "plt.ylabel('Energy', fontsize=20)\n",
    "plt.axhline(ground_state_energy,color='g',linestyle=':',label=\"true ground state\")\n",
    "plt.title(\"Optimization of DC-QAOA and QAOA\", fontsize=15)\n",
    "plt.legend()\n",
    "plt.savefig('DC-QAOA.png',dpi=300,bbox_inches='tight')"
   ]
  },
  {
   "cell_type": "code",
   "execution_count": null,
   "metadata": {},
   "outputs": [],
   "source": []
  }
 ],
 "metadata": {
  "kernelspec": {
   "display_name": "Python 3 (ipykernel)",
   "language": "python",
   "name": "python3"
  },
  "language_info": {
   "codemirror_mode": {
    "name": "ipython",
    "version": 3
   },
   "file_extension": ".py",
   "mimetype": "text/x-python",
   "name": "python",
   "nbconvert_exporter": "python",
   "pygments_lexer": "ipython3",
   "version": "3.9.19"
  },
  "vscode": {
   "interpreter": {
    "hash": "d62cf896b9ca57de08105ce3983377439eacacf6f6599f9150bf400edf4fa4b8"
   }
  }
 },
 "nbformat": 4,
 "nbformat_minor": 4
}
